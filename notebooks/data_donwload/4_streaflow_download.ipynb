{
 "cells": [
  {
   "cell_type": "markdown",
   "id": "74d7d70b",
   "metadata": {},
   "source": [
    "# Download Historical Streamflow Data\n",
    "\n",
    "This Jupyter Notebook serves as the dedicated module for retrieving historical streamflow data, a pivotal component for the calibration and evaluation of the hydrological models in this study. Leveraging the capabilities of the `dataRetrieval` R package, designed for accessing U.S. Geological Survey (USGS) water data, the notebook systematically downloads streamflow records for all active and relevant stream gauge stations identified within the previously defined study region. The acquired streamflow time series represent the observed hydrographs, which are indispensable for calibrating the ModClark model's parameters ($T_c$ and $R$) and for rigorously assessing the predictive performance of the machine learning models by comparing their generated hydrographs against these real-world observations."
   ]
  },
  {
   "cell_type": "markdown",
   "id": "a3585f74",
   "metadata": {},
   "source": [
    "### Load the streamflow station data"
   ]
  },
  {
   "cell_type": "code",
   "execution_count": 1,
   "id": "e3001ce0",
   "metadata": {
    "vscode": {
     "languageId": "r"
    }
   },
   "outputs": [
    {
     "name": "stderr",
     "output_type": "stream",
     "text": [
      "Linking to GEOS 3.8.1, GDAL 3.2.1, PROJ 7.2.1\n",
      "\n",
      "\n",
      "Attaching package: 'dplyr'\n",
      "\n",
      "\n",
      "The following objects are masked from 'package:stats':\n",
      "\n",
      "    filter, lag\n",
      "\n",
      "\n",
      "The following objects are masked from 'package:base':\n",
      "\n",
      "    intersect, setdiff, setequal, union\n",
      "\n",
      "\n",
      "\n",
      "Attaching package: 'arrow'\n",
      "\n",
      "\n",
      "The following object is masked from 'package:utils':\n",
      "\n",
      "    timestamp\n",
      "\n",
      "\n"
     ]
    }
   ],
   "source": [
    "# Load required packages\n",
    "library(sf)           \n",
    "library(dataRetrieval) \n",
    "library(dplyr) \n",
    "library(arrow)\n",
    "library(IRdisplay)      "
   ]
  },
  {
   "cell_type": "code",
   "execution_count": 2,
   "id": "3ff69e42",
   "metadata": {
    "vscode": {
     "languageId": "r"
    }
   },
   "outputs": [
    {
     "name": "stdout",
     "output_type": "stream",
     "text": [
      "Reading layer `study_area_stream_gauge_stn' from data source \n",
      "  `/Users/alan/Data Science Projects/ML-ModClark-IUH-Model/data/silver/geo/gpkg/study_area_stream_gauge_stn.gpkg' \n",
      "  using driver `GPKG'\n",
      "Simple feature collection with 1056 features and 14 fields\n",
      "Geometry type: POINT\n",
      "Dimension:     XY\n",
      "Bounding box:  xmin: -89.16257 ymin: 35.70829 xmax: -78.16294 ymax: 42.15683\n",
      "Geodetic CRS:  NAD83\n",
      "Rows: 1,056\n",
      "Columns: 15\n",
      "$ STAID      \u001b[3m\u001b[90m<chr>\u001b[39m\u001b[23m \"03165000\", \"03164000\", \"03165500\", \"03161000\", \"03208500\",~\n",
      "$ STANAME    \u001b[3m\u001b[90m<chr>\u001b[39m\u001b[23m \"CHESTNUT CREEK AT GALAX, VA\", \"NEW RIVER NEAR GALAX, VA\", ~\n",
      "$ ST         \u001b[3m\u001b[90m<chr>\u001b[39m\u001b[23m \"va\", \"va\", \"va\", \"nc\", \"va\", \"va\", \"va\", \"ky\", \"va\", \"va\",~\n",
      "$ HUC        \u001b[3m\u001b[90m<chr>\u001b[39m\u001b[23m \"05050001\", \"05050001\", \"05050001\", \"05050001\", \"05070202\",~\n",
      "$ CLASS      \u001b[3m\u001b[90m<int>\u001b[39m\u001b[23m 5, 0, 6, 5, 7, 8, 0, 0, 6, 6, 6, 0, 6, 7, 7, 0, 0, 0, 7, 0,~\n",
      "$ FLOW       \u001b[3m\u001b[90m<dbl>\u001b[39m\u001b[23m 59.4, 0.0, 3690.0, 429.0, 1490.0, 2340.0, 0.0, 0.0, 5550.0,~\n",
      "$ STAGE      \u001b[3m\u001b[90m<dbl>\u001b[39m\u001b[23m 1.56, 2.18, 4.26, 2.48, 4.60, 6.04, 11.11, 10.01, 3.05, 2.9~\n",
      "$ TIME       \u001b[3m\u001b[90m<chr>\u001b[39m\u001b[23m \"2025-02-02 12:00:00\", \"2025-02-02 12:30:00\", \"2025-02-02 1~\n",
      "$ TIME_UTC   \u001b[3m\u001b[90m<dttm>\u001b[39m\u001b[23m 2025-02-02, 2025-02-02, 2025-02-02, 2025-02-02, 2025-02-02~\n",
      "$ URL        \u001b[3m\u001b[90m<chr>\u001b[39m\u001b[23m \"https://waterdata.usgs.gov/monitoring-location/03165000\", ~\n",
      "$ DATUM      \u001b[3m\u001b[90m<chr>\u001b[39m\u001b[23m \"NAD83\", \"NAD83\", \"NAD83\", \"NAD83\", \"NAD83\", \"NAD83\", \"NAD8~\n",
      "$ COUNT      \u001b[3m\u001b[90m<int>\u001b[39m\u001b[23m 79, 94, 77, 97, 97, 59, 25, 0, 95, 40, 96, 0, 85, 86, 93, 0~\n",
      "$ PERCENTILE \u001b[3m\u001b[90m<dbl>\u001b[39m\u001b[23m 39.50, 74.20, 81.30, 53.41, 93.29, 98.33, 0.00, 0.00, 81.67~\n",
      "$ FLOODSTAGE \u001b[3m\u001b[90m<dbl>\u001b[39m\u001b[23m 7.0, 9.0, 16.0, 8.0, 16.0, 0.0, 15.0, 21.0, 8.0, 6.5, 8.0, ~\n",
      "$ geom       \u001b[3m\u001b[90m<POINT [arc_degree]>\u001b[39m\u001b[23m POINT (-80.91924 36.64596), POINT (-80.97897~\n"
     ]
    }
   ],
   "source": [
    "# Load the .gpkg file\n",
    "gpkg_file <- \"/Users/alan/Data Science Projects/ML-ModClark-IUH-Model/data/silver/geo/gpkg/study_area_stream_gauge_stn.gpkg\"\n",
    "stations <- st_read(gpkg_file)\n",
    "glimpse(stations)"
   ]
  },
  {
   "cell_type": "markdown",
   "id": "b2a1eb71",
   "metadata": {},
   "source": [
    "### Download Streamflow Data\n",
    "\n",
    "The time span chosen for this study is 10 years. Therefore data will be downloaded from **01-01-2014 to 05-08-2025**."
   ]
  },
  {
   "cell_type": "code",
   "execution_count": 3,
   "id": "e11e0a76",
   "metadata": {
    "vscode": {
     "languageId": "r"
    }
   },
   "outputs": [],
   "source": [
    "# Define function to download 15-minute streamflow data\n",
    "download_usgs_streamflow <- function(site_numbers, start_date, end_date, parameter_cd = \"00060\") {\n",
    "  # Input validation\n",
    "  if (!is.character(site_numbers) || length(site_numbers) == 0) {\n",
    "    stop(\"site_numbers must be a non-empty character vector of USGS site IDs\")\n",
    "  }\n",
    "  if (!is.character(start_date) || !is.character(end_date)) {\n",
    "    stop(\"start_date and end_date must be character strings in YYYY-MM-DD format\")\n",
    "  }\n",
    "\n",
    "  # Download 15-minute streamflow data using dataRetrieval\n",
    "  # parameter_cd = \"00060\" is for discharge (cubic feet per second)\n",
    "  streamflow_data <- readNWISuv(\n",
    "    siteNumbers = site_numbers,\n",
    "    parameterCd = parameter_cd,\n",
    "    startDate = start_date,\n",
    "    endDate = end_date,\n",
    "    tz = \"UTC\"  # Time zone for data retrieval\n",
    "  )\n",
    "\n",
    "  # Check if data was retrieved\n",
    "  if (nrow(streamflow_data) == 0) {\n",
    "    # warning(\"No data retrieved for the specified sites and date range\")\n",
    "    return(NULL)\n",
    "  }\n",
    "\n",
    "  # Clean and format the data\n",
    "  streamflow_data <- streamflow_data %>%\n",
    "    select(site_no, dateTime, X_00060_00000, X_00060_00000_cd) %>%\n",
    "    rename(\n",
    "      discharge_cfs = X_00060_00000,\n",
    "      discharge_quality = X_00060_00000_cd\n",
    "    )\n",
    "  \n",
    "  return(streamflow_data)\n",
    "}\n"
   ]
  },
  {
   "cell_type": "code",
   "execution_count": 4,
   "id": "d15c6cd5",
   "metadata": {
    "vscode": {
     "languageId": "r"
    }
   },
   "outputs": [],
   "source": [
    "# Define function to save data locally as Parquet\n",
    "save_streamflow_data <- function(data, site_no, output_dir) {\n",
    "  # Drop redundant column stite_no (this number is incorporated in the file name)\n",
    "  # Create output directory if it doesn't exist\n",
    "  if (!dir.exists(output_dir)) {\n",
    "    dir.create(output_dir, recursive = TRUE)\n",
    "  }\n",
    "  \n",
    "  # Check if data is valid\n",
    "  if (is.null(data) || nrow(data) == 0) {\n",
    "    # warning(paste(\"No data to save for site\", site_no))\n",
    "    return(FALSE)\n",
    "  }\n",
    "  \n",
    "  # Define file path for Parquet\n",
    "  file_path <- file.path(output_dir, paste0(\"streamflow_\", site_no, \".parquet\"))\n",
    "  \n",
    "  # Save data as Parquet\n",
    "  write_parquet(data, file_path)\n",
    "  # print(paste(\"Data saved for site\", site_no, \"at\", file_path))\n",
    "  return(TRUE)\n",
    "}"
   ]
  },
  {
   "cell_type": "markdown",
   "id": "8227a403",
   "metadata": {},
   "source": [
    "**Download one station data as example**"
   ]
  },
  {
   "cell_type": "code",
   "execution_count": 5,
   "id": "89718519",
   "metadata": {
    "vscode": {
     "languageId": "r"
    }
   },
   "outputs": [
    {
     "name": "stdout",
     "output_type": "stream",
     "text": [
      "[1] \"Downloading data for station ID 03165000\"\n"
     ]
    },
    {
     "name": "stderr",
     "output_type": "stream",
     "text": [
      "GET: https://nwis.waterservices.usgs.gov/nwis/iv/?site=03165000&format=waterml,1.1&ParameterCd=00060&startDT=2014-01-01&endDT=2025-05-08\n",
      "\n"
     ]
    },
    {
     "name": "stdout",
     "output_type": "stream",
     "text": [
      "Rows: 388,238\n",
      "Columns: 4\n",
      "$ site_no           \u001b[3m\u001b[90m<chr>\u001b[39m\u001b[23m \"03165000\", \"03165000\", \"03165000\", \"03165000\", \"031~\n",
      "$ dateTime          \u001b[3m\u001b[90m<dttm>\u001b[39m\u001b[23m 2014-01-14 05:00:00, 2014-01-14 05:15:00, 2014-01-1~\n",
      "$ discharge_cfs     \u001b[3m\u001b[90m<dbl>\u001b[39m\u001b[23m 101.0, 101.0, 101.0, 101.0, 101.0, 101.0, 101.0, 101~\n",
      "$ discharge_quality \u001b[3m\u001b[90m<chr>\u001b[39m\u001b[23m \"A\", \"A\", \"A\", \"A\", \"A\", \"A\", \"A\", \"A\", \"A\", \"A\", \"A~\n"
     ]
    },
    {
     "data": {
      "text/html": [
       "<table class=\"dataframe\">\n",
       "<caption>A data.frame: 6 × 4</caption>\n",
       "<thead>\n",
       "\t<tr><th></th><th scope=col>site_no</th><th scope=col>dateTime</th><th scope=col>discharge_cfs</th><th scope=col>discharge_quality</th></tr>\n",
       "\t<tr><th></th><th scope=col>&lt;chr&gt;</th><th scope=col>&lt;dttm&gt;</th><th scope=col>&lt;dbl&gt;</th><th scope=col>&lt;chr&gt;</th></tr>\n",
       "</thead>\n",
       "<tbody>\n",
       "\t<tr><th scope=row>1</th><td>03165000</td><td>2014-01-14 05:00:00</td><td>101</td><td>A</td></tr>\n",
       "\t<tr><th scope=row>2</th><td>03165000</td><td>2014-01-14 05:15:00</td><td>101</td><td>A</td></tr>\n",
       "\t<tr><th scope=row>3</th><td>03165000</td><td>2014-01-14 05:30:00</td><td>101</td><td>A</td></tr>\n",
       "\t<tr><th scope=row>4</th><td>03165000</td><td>2014-01-14 05:45:00</td><td>101</td><td>A</td></tr>\n",
       "\t<tr><th scope=row>5</th><td>03165000</td><td>2014-01-14 06:00:00</td><td>101</td><td>A</td></tr>\n",
       "\t<tr><th scope=row>6</th><td>03165000</td><td>2014-01-14 06:15:00</td><td>101</td><td>A</td></tr>\n",
       "</tbody>\n",
       "</table>\n"
      ],
      "text/latex": [
       "A data.frame: 6 × 4\n",
       "\\begin{tabular}{r|llll}\n",
       "  & site\\_no & dateTime & discharge\\_cfs & discharge\\_quality\\\\\n",
       "  & <chr> & <dttm> & <dbl> & <chr>\\\\\n",
       "\\hline\n",
       "\t1 & 03165000 & 2014-01-14 05:00:00 & 101 & A\\\\\n",
       "\t2 & 03165000 & 2014-01-14 05:15:00 & 101 & A\\\\\n",
       "\t3 & 03165000 & 2014-01-14 05:30:00 & 101 & A\\\\\n",
       "\t4 & 03165000 & 2014-01-14 05:45:00 & 101 & A\\\\\n",
       "\t5 & 03165000 & 2014-01-14 06:00:00 & 101 & A\\\\\n",
       "\t6 & 03165000 & 2014-01-14 06:15:00 & 101 & A\\\\\n",
       "\\end{tabular}\n"
      ],
      "text/markdown": [
       "\n",
       "A data.frame: 6 × 4\n",
       "\n",
       "| <!--/--> | site_no &lt;chr&gt; | dateTime &lt;dttm&gt; | discharge_cfs &lt;dbl&gt; | discharge_quality &lt;chr&gt; |\n",
       "|---|---|---|---|---|\n",
       "| 1 | 03165000 | 2014-01-14 05:00:00 | 101 | A |\n",
       "| 2 | 03165000 | 2014-01-14 05:15:00 | 101 | A |\n",
       "| 3 | 03165000 | 2014-01-14 05:30:00 | 101 | A |\n",
       "| 4 | 03165000 | 2014-01-14 05:45:00 | 101 | A |\n",
       "| 5 | 03165000 | 2014-01-14 06:00:00 | 101 | A |\n",
       "| 6 | 03165000 | 2014-01-14 06:15:00 | 101 | A |\n",
       "\n"
      ],
      "text/plain": [
       "  site_no  dateTime            discharge_cfs discharge_quality\n",
       "1 03165000 2014-01-14 05:00:00 101           A                \n",
       "2 03165000 2014-01-14 05:15:00 101           A                \n",
       "3 03165000 2014-01-14 05:30:00 101           A                \n",
       "4 03165000 2014-01-14 05:45:00 101           A                \n",
       "5 03165000 2014-01-14 06:00:00 101           A                \n",
       "6 03165000 2014-01-14 06:15:00 101           A                "
      ]
     },
     "metadata": {},
     "output_type": "display_data"
    }
   ],
   "source": [
    "station_code_example <- stations$STAID[1]\n",
    "\n",
    "# Define date range\n",
    "start_date <- \"2014-01-01\"\n",
    "end_date <- \"2025-05-08\"\n",
    "\n",
    "# Download data example\n",
    "print(paste(\"Downloading data for station ID\", station_code_example))\n",
    "streamflow_data_example <- download_usgs_streamflow(\n",
    "    site_numbers = station_code_example,\n",
    "    start_date = start_date,\n",
    "    end_date = end_date\n",
    ")\n",
    "glimpse(streamflow_data_example)\n",
    "head(streamflow_data_example)\n"
   ]
  },
  {
   "cell_type": "code",
   "execution_count": 6,
   "id": "a94ba733",
   "metadata": {
    "vscode": {
     "languageId": "r"
    }
   },
   "outputs": [
    {
     "data": {
      "text/plain": [
       "   site_no             dateTime                   discharge_cfs    \n",
       " Length:388238      Min.   :2014-01-14 05:00:00   Min.   :  21.40  \n",
       " Class :character   1st Qu.:2016-12-22 07:18:45   1st Qu.:  45.20  \n",
       " Mode  :character   Median :2019-10-10 06:22:30   Median :  61.00  \n",
       "                    Mean   :2019-10-04 06:20:27   Mean   :  83.63  \n",
       "                    3rd Qu.:2022-07-20 15:56:15   3rd Qu.:  87.20  \n",
       "                    Max.   :2025-05-09 03:45:00   Max.   :6230.00  \n",
       "                                                  NA's   :576      \n",
       " discharge_quality \n",
       " Length:388238     \n",
       " Class :character  \n",
       " Mode  :character  \n",
       "                   \n",
       "                   \n",
       "                   \n",
       "                   "
      ]
     },
     "metadata": {},
     "output_type": "display_data"
    }
   ],
   "source": [
    "summary(streamflow_data_example)"
   ]
  },
  {
   "cell_type": "markdown",
   "id": "8409984f",
   "metadata": {},
   "source": [
    "**Download data for over 1000 USGS station within the study area**"
   ]
  },
  {
   "cell_type": "code",
   "execution_count": 5,
   "id": "494ad11f",
   "metadata": {
    "vscode": {
     "languageId": "r"
    }
   },
   "outputs": [
    {
     "name": "stderr",
     "output_type": "stream",
     "text": [
      "File already exists for site 03165000 - skipping download\n",
      "\n",
      "File already exists for site 03164000 - skipping download\n",
      "\n",
      "File already exists for site 03165500 - skipping download\n",
      "\n",
      "File already exists for site 03161000 - skipping download\n",
      "\n",
      "File already exists for site 03208500 - skipping download\n",
      "\n",
      "File already exists for site 03209000 - skipping download\n",
      "\n",
      "File already exists for site 03209200 - skipping download\n",
      "\n",
      "File already exists for site 03209410 - skipping download\n",
      "\n",
      "File already exists for site 03168000 - skipping download\n",
      "\n",
      "File already exists for site 03167000 - skipping download\n",
      "\n",
      "File already exists for site 03170000 - skipping download\n",
      "\n"
     ]
    },
    {
     "data": {
      "text/html": [
       "'12/1056 - Downloading data for site 03170500'"
      ],
      "text/latex": [
       "'12/1056 - Downloading data for site 03170500'"
      ],
      "text/markdown": [
       "'12/1056 - Downloading data for site 03170500'"
      ],
      "text/plain": [
       "[1] \"12/1056 - Downloading data for site 03170500\""
      ]
     },
     "metadata": {
      "display_id": "status",
      "update": true
     },
     "output_type": "display_data"
    },
    {
     "name": "stderr",
     "output_type": "stream",
     "text": [
      "GET: https://nwis.waterservices.usgs.gov/nwis/iv/?site=03170500&format=waterml,1.1&ParameterCd=00060&startDT=2014-01-01&endDT=2025-05-08\n",
      "\n",
      "Warning message in doTryCatch(return(expr), name, parentenv, handler):\n",
      "\"No data available for site 03170500\"\n",
      "File already exists for site 03171000 - skipping download\n",
      "\n",
      "File already exists for site 03173000 - skipping download\n",
      "\n",
      "File already exists for site 03175500 - skipping download\n",
      "\n"
     ]
    },
    {
     "data": {
      "text/html": [
       "'16/1056 - Downloading data for site 0317154954'"
      ],
      "text/latex": [
       "'16/1056 - Downloading data for site 0317154954'"
      ],
      "text/markdown": [
       "'16/1056 - Downloading data for site 0317154954'"
      ],
      "text/plain": [
       "[1] \"16/1056 - Downloading data for site 0317154954\""
      ]
     },
     "metadata": {
      "display_id": "status",
      "update": true
     },
     "output_type": "display_data"
    },
    {
     "name": "stderr",
     "output_type": "stream",
     "text": [
      "GET: https://nwis.waterservices.usgs.gov/nwis/iv/?site=0317154954&format=waterml,1.1&ParameterCd=00060&startDT=2014-01-01&endDT=2025-05-08\n",
      "\n",
      "Warning message in doTryCatch(return(expr), name, parentenv, handler):\n",
      "\"No data available for site 0317154954\"\n"
     ]
    },
    {
     "data": {
      "text/html": [
       "'17/1056 - Downloading data for site 0317159760'"
      ],
      "text/latex": [
       "'17/1056 - Downloading data for site 0317159760'"
      ],
      "text/markdown": [
       "'17/1056 - Downloading data for site 0317159760'"
      ],
      "text/plain": [
       "[1] \"17/1056 - Downloading data for site 0317159760\""
      ]
     },
     "metadata": {
      "display_id": "status",
      "update": true
     },
     "output_type": "display_data"
    },
    {
     "name": "stderr",
     "output_type": "stream",
     "text": [
      "GET: https://nwis.waterservices.usgs.gov/nwis/iv/?site=0317159760&format=waterml,1.1&ParameterCd=00060&startDT=2014-01-01&endDT=2025-05-08\n",
      "\n",
      "Warning message in doTryCatch(return(expr), name, parentenv, handler):\n",
      "\"No data available for site 0317159760\"\n",
      "File already exists for site 03177120 - skipping download\n",
      "\n",
      "File already exists for site 03177710 - skipping download\n",
      "\n"
     ]
    },
    {
     "data": {
      "text/html": [
       "'20/1056 - Downloading data for site 03178150'"
      ],
      "text/latex": [
       "'20/1056 - Downloading data for site 03178150'"
      ],
      "text/markdown": [
       "'20/1056 - Downloading data for site 03178150'"
      ],
      "text/plain": [
       "[1] \"20/1056 - Downloading data for site 03178150\""
      ]
     },
     "metadata": {
      "display_id": "status",
      "update": true
     },
     "output_type": "display_data"
    },
    {
     "name": "stderr",
     "output_type": "stream",
     "text": [
      "GET: https://nwis.waterservices.usgs.gov/nwis/iv/?site=03178150&format=waterml,1.1&ParameterCd=00060&startDT=2014-01-01&endDT=2025-05-08\n",
      "\n",
      "Warning message in doTryCatch(return(expr), name, parentenv, handler):\n",
      "\"No data available for site 03178150\"\n"
     ]
    },
    {
     "data": {
      "text/html": [
       "'21/1056 - Downloading data for site 03178179'"
      ],
      "text/latex": [
       "'21/1056 - Downloading data for site 03178179'"
      ],
      "text/markdown": [
       "'21/1056 - Downloading data for site 03178179'"
      ],
      "text/plain": [
       "[1] \"21/1056 - Downloading data for site 03178179\""
      ]
     },
     "metadata": {
      "display_id": "status",
      "update": true
     },
     "output_type": "display_data"
    },
    {
     "name": "stderr",
     "output_type": "stream",
     "text": [
      "GET: https://nwis.waterservices.usgs.gov/nwis/iv/?site=03178179&format=waterml,1.1&ParameterCd=00060&startDT=2014-01-01&endDT=2025-05-08\n",
      "\n",
      "Warning message in doTryCatch(return(expr), name, parentenv, handler):\n",
      "\"No data available for site 03178179\"\n"
     ]
    },
    {
     "data": {
      "text/html": [
       "'22/1056 - Downloading data for site 03178000'"
      ],
      "text/latex": [
       "'22/1056 - Downloading data for site 03178000'"
      ],
      "text/markdown": [
       "'22/1056 - Downloading data for site 03178000'"
      ],
      "text/plain": [
       "[1] \"22/1056 - Downloading data for site 03178000\""
      ]
     },
     "metadata": {
      "display_id": "status",
      "update": true
     },
     "output_type": "display_data"
    },
    {
     "name": "stderr",
     "output_type": "stream",
     "text": [
      "GET: https://nwis.waterservices.usgs.gov/nwis/iv/?site=03178000&format=waterml,1.1&ParameterCd=00060&startDT=2014-01-01&endDT=2025-05-08\n",
      "\n",
      "Warning message in doTryCatch(return(expr), name, parentenv, handler):\n",
      "\"No data available for site 03178000\"\n",
      "File already exists for site 03212750 - skipping download\n",
      "\n"
     ]
    },
    {
     "data": {
      "text/html": [
       "'24/1056 - Downloading data for site 03178120'"
      ],
      "text/latex": [
       "'24/1056 - Downloading data for site 03178120'"
      ],
      "text/markdown": [
       "'24/1056 - Downloading data for site 03178120'"
      ],
      "text/plain": [
       "[1] \"24/1056 - Downloading data for site 03178120\""
      ]
     },
     "metadata": {
      "display_id": "status",
      "update": true
     },
     "output_type": "display_data"
    },
    {
     "name": "stderr",
     "output_type": "stream",
     "text": [
      "GET: https://nwis.waterservices.usgs.gov/nwis/iv/?site=03178120&format=waterml,1.1&ParameterCd=00060&startDT=2014-01-01&endDT=2025-05-08\n",
      "\n",
      "Warning message in doTryCatch(return(expr), name, parentenv, handler):\n",
      "\"No data available for site 03178120\"\n",
      "File already exists for site 03202300 - skipping download\n",
      "\n",
      "File already exists for site 03202400 - skipping download\n",
      "\n",
      "File already exists for site 03202750 - skipping download\n",
      "\n",
      "File already exists for site 03176500 - skipping download\n",
      "\n",
      "File already exists for site 03177480 - skipping download\n",
      "\n",
      "File already exists for site 03179000 - skipping download\n",
      "\n",
      "File already exists for site 03184000 - skipping download\n",
      "\n"
     ]
    },
    {
     "data": {
      "text/html": [
       "'32/1056 - Downloading data for site 03179800'"
      ],
      "text/latex": [
       "'32/1056 - Downloading data for site 03179800'"
      ],
      "text/markdown": [
       "'32/1056 - Downloading data for site 03179800'"
      ],
      "text/plain": [
       "[1] \"32/1056 - Downloading data for site 03179800\""
      ]
     },
     "metadata": {
      "display_id": "status",
      "update": true
     },
     "output_type": "display_data"
    },
    {
     "name": "stderr",
     "output_type": "stream",
     "text": [
      "GET: https://nwis.waterservices.usgs.gov/nwis/iv/?site=03179800&format=waterml,1.1&ParameterCd=00060&startDT=2014-01-01&endDT=2025-05-08\n",
      "\n",
      "Warning message in doTryCatch(return(expr), name, parentenv, handler):\n",
      "\"No data available for site 03179800\"\n"
     ]
    },
    {
     "data": {
      "text/html": [
       "'33/1056 - Downloading data for site 03184500'"
      ],
      "text/latex": [
       "'33/1056 - Downloading data for site 03184500'"
      ],
      "text/markdown": [
       "'33/1056 - Downloading data for site 03184500'"
      ],
      "text/plain": [
       "[1] \"33/1056 - Downloading data for site 03184500\""
      ]
     },
     "metadata": {
      "display_id": "status",
      "update": true
     },
     "output_type": "display_data"
    },
    {
     "name": "stderr",
     "output_type": "stream",
     "text": [
      "GET: https://nwis.waterservices.usgs.gov/nwis/iv/?site=03184500&format=waterml,1.1&ParameterCd=00060&startDT=2014-01-01&endDT=2025-05-08\n",
      "\n",
      "Warning message in doTryCatch(return(expr), name, parentenv, handler):\n",
      "\"No data available for site 03184500\"\n",
      "File already exists for site 03183500 - skipping download\n",
      "\n",
      "File already exists for site 03185400 - skipping download\n",
      "\n"
     ]
    },
    {
     "data": {
      "text/html": [
       "'36/1056 - Downloading data for site 0318989690'"
      ],
      "text/latex": [
       "'36/1056 - Downloading data for site 0318989690'"
      ],
      "text/markdown": [
       "'36/1056 - Downloading data for site 0318989690'"
      ],
      "text/plain": [
       "[1] \"36/1056 - Downloading data for site 0318989690\""
      ]
     },
     "metadata": {
      "display_id": "status",
      "update": true
     },
     "output_type": "display_data"
    },
    {
     "name": "stderr",
     "output_type": "stream",
     "text": [
      "GET: https://nwis.waterservices.usgs.gov/nwis/iv/?site=0318989690&format=waterml,1.1&ParameterCd=00060&startDT=2014-01-01&endDT=2025-05-08\n",
      "\n",
      "Warning message in doTryCatch(return(expr), name, parentenv, handler):\n",
      "\"No data available for site 0318989690\"\n"
     ]
    },
    {
     "data": {
      "text/html": [
       "'37/1056 - Downloading data for site 03189863'"
      ],
      "text/latex": [
       "'37/1056 - Downloading data for site 03189863'"
      ],
      "text/markdown": [
       "'37/1056 - Downloading data for site 03189863'"
      ],
      "text/plain": [
       "[1] \"37/1056 - Downloading data for site 03189863\""
      ]
     },
     "metadata": {
      "display_id": "status",
      "update": true
     },
     "output_type": "display_data"
    },
    {
     "name": "stderr",
     "output_type": "stream",
     "text": [
      "GET: https://nwis.waterservices.usgs.gov/nwis/iv/?site=03189863&format=waterml,1.1&ParameterCd=00060&startDT=2014-01-01&endDT=2025-05-08\n",
      "\n",
      "Warning message in doTryCatch(return(expr), name, parentenv, handler):\n",
      "\"No data available for site 03189863\"\n"
     ]
    },
    {
     "data": {
      "text/html": [
       "'38/1056 - Downloading data for site 03182888'"
      ],
      "text/latex": [
       "'38/1056 - Downloading data for site 03182888'"
      ],
      "text/markdown": [
       "'38/1056 - Downloading data for site 03182888'"
      ],
      "text/plain": [
       "[1] \"38/1056 - Downloading data for site 03182888\""
      ]
     },
     "metadata": {
      "display_id": "status",
      "update": true
     },
     "output_type": "display_data"
    },
    {
     "name": "stderr",
     "output_type": "stream",
     "text": [
      "GET: https://nwis.waterservices.usgs.gov/nwis/iv/?site=03182888&format=waterml,1.1&ParameterCd=00060&startDT=2014-01-01&endDT=2025-05-08\n",
      "\n",
      "Warning message in doTryCatch(return(expr), name, parentenv, handler):\n",
      "\"No data available for site 03182888\"\n"
     ]
    },
    {
     "data": {
      "text/html": [
       "'39/1056 - Downloading data for site 03182970'"
      ],
      "text/latex": [
       "'39/1056 - Downloading data for site 03182970'"
      ],
      "text/markdown": [
       "'39/1056 - Downloading data for site 03182970'"
      ],
      "text/plain": [
       "[1] \"39/1056 - Downloading data for site 03182970\""
      ]
     },
     "metadata": {
      "display_id": "status",
      "update": true
     },
     "output_type": "display_data"
    },
    {
     "name": "stderr",
     "output_type": "stream",
     "text": [
      "GET: https://nwis.waterservices.usgs.gov/nwis/iv/?site=03182970&format=waterml,1.1&ParameterCd=00060&startDT=2014-01-01&endDT=2025-05-08\n",
      "\n",
      "Warning message in doTryCatch(return(expr), name, parentenv, handler):\n",
      "\"No data available for site 03182970\"\n"
     ]
    },
    {
     "data": {
      "text/html": [
       "'40/1056 - Downloading data for site 03182890'"
      ],
      "text/latex": [
       "'40/1056 - Downloading data for site 03182890'"
      ],
      "text/markdown": [
       "'40/1056 - Downloading data for site 03182890'"
      ],
      "text/plain": [
       "[1] \"40/1056 - Downloading data for site 03182890\""
      ]
     },
     "metadata": {
      "display_id": "status",
      "update": true
     },
     "output_type": "display_data"
    },
    {
     "name": "stderr",
     "output_type": "stream",
     "text": [
      "GET: https://nwis.waterservices.usgs.gov/nwis/iv/?site=03182890&format=waterml,1.1&ParameterCd=00060&startDT=2014-01-01&endDT=2025-05-08\n",
      "\n",
      "Warning message in doTryCatch(return(expr), name, parentenv, handler):\n",
      "\"No data available for site 03182890\"\n"
     ]
    },
    {
     "data": {
      "text/html": [
       "'41/1056 - Downloading data for site 03182900'"
      ],
      "text/latex": [
       "'41/1056 - Downloading data for site 03182900'"
      ],
      "text/markdown": [
       "'41/1056 - Downloading data for site 03182900'"
      ],
      "text/plain": [
       "[1] \"41/1056 - Downloading data for site 03182900\""
      ]
     },
     "metadata": {
      "display_id": "status",
      "update": true
     },
     "output_type": "display_data"
    },
    {
     "name": "stderr",
     "output_type": "stream",
     "text": [
      "GET: https://nwis.waterservices.usgs.gov/nwis/iv/?site=03182900&format=waterml,1.1&ParameterCd=00060&startDT=2014-01-01&endDT=2025-05-08\n",
      "\n",
      "Warning message in doTryCatch(return(expr), name, parentenv, handler):\n",
      "\"No data available for site 03182900\"\n",
      "File already exists for site 03182700 - skipping download\n",
      "\n"
     ]
    },
    {
     "data": {
      "text/html": [
       "'43/1056 - Downloading data for site 03182600'"
      ],
      "text/latex": [
       "'43/1056 - Downloading data for site 03182600'"
      ],
      "text/markdown": [
       "'43/1056 - Downloading data for site 03182600'"
      ],
      "text/plain": [
       "[1] \"43/1056 - Downloading data for site 03182600\""
      ]
     },
     "metadata": {
      "display_id": "status",
      "update": true
     },
     "output_type": "display_data"
    },
    {
     "name": "stderr",
     "output_type": "stream",
     "text": [
      "GET: https://nwis.waterservices.usgs.gov/nwis/iv/?site=03182600&format=waterml,1.1&ParameterCd=00060&startDT=2014-01-01&endDT=2025-05-08\n",
      "\n",
      "Warning message in doTryCatch(return(expr), name, parentenv, handler):\n",
      "\"No data available for site 03182600\"\n",
      "File already exists for site 03182500 - skipping download\n",
      "\n",
      "File already exists for site 03181949 - skipping download\n",
      "\n"
     ]
    },
    {
     "data": {
      "text/html": [
       "'46/1056 - Downloading data for site 03182050'"
      ],
      "text/latex": [
       "'46/1056 - Downloading data for site 03182050'"
      ],
      "text/markdown": [
       "'46/1056 - Downloading data for site 03182050'"
      ],
      "text/plain": [
       "[1] \"46/1056 - Downloading data for site 03182050\""
      ]
     },
     "metadata": {
      "display_id": "status",
      "update": true
     },
     "output_type": "display_data"
    },
    {
     "name": "stderr",
     "output_type": "stream",
     "text": [
      "GET: https://nwis.waterservices.usgs.gov/nwis/iv/?site=03182050&format=waterml,1.1&ParameterCd=00060&startDT=2014-01-01&endDT=2025-05-08\n",
      "\n",
      "Warning message in doTryCatch(return(expr), name, parentenv, handler):\n",
      "\"No data available for site 03182050\"\n"
     ]
    },
    {
     "data": {
      "text/html": [
       "'47/1056 - Downloading data for site 03180900'"
      ],
      "text/latex": [
       "'47/1056 - Downloading data for site 03180900'"
      ],
      "text/markdown": [
       "'47/1056 - Downloading data for site 03180900'"
      ],
      "text/plain": [
       "[1] \"47/1056 - Downloading data for site 03180900\""
      ]
     },
     "metadata": {
      "display_id": "status",
      "update": true
     },
     "output_type": "display_data"
    },
    {
     "name": "stderr",
     "output_type": "stream",
     "text": [
      "GET: https://nwis.waterservices.usgs.gov/nwis/iv/?site=03180900&format=waterml,1.1&ParameterCd=00060&startDT=2014-01-01&endDT=2025-05-08\n",
      "\n",
      "Warning message in doTryCatch(return(expr), name, parentenv, handler):\n",
      "\"No data available for site 03180900\"\n",
      "File already exists for site 03180500 - skipping download\n",
      "\n"
     ]
    },
    {
     "data": {
      "text/html": [
       "'49/1056 - Downloading data for site 03049925'"
      ],
      "text/latex": [
       "'49/1056 - Downloading data for site 03049925'"
      ],
      "text/markdown": [
       "'49/1056 - Downloading data for site 03049925'"
      ],
      "text/plain": [
       "[1] \"49/1056 - Downloading data for site 03049925\""
      ]
     },
     "metadata": {
      "display_id": "status",
      "update": true
     },
     "output_type": "display_data"
    },
    {
     "name": "stderr",
     "output_type": "stream",
     "text": [
      "GET: https://nwis.waterservices.usgs.gov/nwis/iv/?site=03049925&format=waterml,1.1&ParameterCd=00060&startDT=2014-01-01&endDT=2025-05-08\n",
      "\n",
      "Warning message in doTryCatch(return(expr), name, parentenv, handler):\n",
      "\"No data available for site 03049925\"\n"
     ]
    },
    {
     "data": {
      "text/html": [
       "'50/1056 - Downloading data for site 03049930'"
      ],
      "text/latex": [
       "'50/1056 - Downloading data for site 03049930'"
      ],
      "text/markdown": [
       "'50/1056 - Downloading data for site 03049930'"
      ],
      "text/plain": [
       "[1] \"50/1056 - Downloading data for site 03049930\""
      ]
     },
     "metadata": {
      "display_id": "status",
      "update": true
     },
     "output_type": "display_data"
    },
    {
     "name": "stderr",
     "output_type": "stream",
     "text": [
      "GET: https://nwis.waterservices.usgs.gov/nwis/iv/?site=03049930&format=waterml,1.1&ParameterCd=00060&startDT=2014-01-01&endDT=2025-05-08\n",
      "\n",
      "Warning message in doTryCatch(return(expr), name, parentenv, handler):\n",
      "\"No data available for site 03049930\"\n",
      "File already exists for site 03067510 - skipping download\n",
      "\n",
      "File already exists for site 03185000 - skipping download\n",
      "\n",
      "File already exists for site 03198350 - skipping download\n",
      "\n"
     ]
    },
    {
     "data": {
      "text/html": [
       "'54/1056 - Downloading data for site 380649081083301'"
      ],
      "text/latex": [
       "'54/1056 - Downloading data for site 380649081083301'"
      ],
      "text/markdown": [
       "'54/1056 - Downloading data for site 380649081083301'"
      ],
      "text/plain": [
       "[1] \"54/1056 - Downloading data for site 380649081083301\""
      ]
     },
     "metadata": {
      "display_id": "status",
      "update": true
     },
     "output_type": "display_data"
    },
    {
     "name": "stderr",
     "output_type": "stream",
     "text": [
      "GET: https://nwis.waterservices.usgs.gov/nwis/iv/?site=380649081083301&format=waterml,1.1&ParameterCd=00060&startDT=2014-01-01&endDT=2025-05-08\n",
      "\n",
      "Warning message in doTryCatch(return(expr), name, parentenv, handler):\n",
      "\"No data available for site 380649081083301\"\n",
      "File already exists for site 03193000 - skipping download\n",
      "\n",
      "File already exists for site 03198500 - skipping download\n",
      "\n",
      "File already exists for site 03192000 - skipping download\n",
      "\n"
     ]
    },
    {
     "data": {
      "text/html": [
       "'58/1056 - Downloading data for site 0319382976'"
      ],
      "text/latex": [
       "'58/1056 - Downloading data for site 0319382976'"
      ],
      "text/markdown": [
       "'58/1056 - Downloading data for site 0319382976'"
      ],
      "text/plain": [
       "[1] \"58/1056 - Downloading data for site 0319382976\""
      ]
     },
     "metadata": {
      "display_id": "status",
      "update": true
     },
     "output_type": "display_data"
    },
    {
     "name": "stderr",
     "output_type": "stream",
     "text": [
      "GET: https://nwis.waterservices.usgs.gov/nwis/iv/?site=0319382976&format=waterml,1.1&ParameterCd=00060&startDT=2014-01-01&endDT=2025-05-08\n",
      "\n",
      "Warning message in doTryCatch(return(expr), name, parentenv, handler):\n",
      "\"No data available for site 0319382976\"\n",
      "File already exists for site 03197950 - skipping download\n",
      "\n"
     ]
    },
    {
     "data": {
      "text/html": [
       "'60/1056 - Downloading data for site 03197939'"
      ],
      "text/latex": [
       "'60/1056 - Downloading data for site 03197939'"
      ],
      "text/markdown": [
       "'60/1056 - Downloading data for site 03197939'"
      ],
      "text/plain": [
       "[1] \"60/1056 - Downloading data for site 03197939\""
      ]
     },
     "metadata": {
      "display_id": "status",
      "update": true
     },
     "output_type": "display_data"
    },
    {
     "name": "stderr",
     "output_type": "stream",
     "text": [
      "GET: https://nwis.waterservices.usgs.gov/nwis/iv/?site=03197939&format=waterml,1.1&ParameterCd=00060&startDT=2014-01-01&endDT=2025-05-08\n",
      "\n",
      "Warning message in doTryCatch(return(expr), name, parentenv, handler):\n",
      "\"No data available for site 03197939\"\n"
     ]
    },
    {
     "data": {
      "text/html": [
       "'61/1056 - Downloading data for site 03197910'"
      ],
      "text/latex": [
       "'61/1056 - Downloading data for site 03197910'"
      ],
      "text/markdown": [
       "'61/1056 - Downloading data for site 03197910'"
      ],
      "text/plain": [
       "[1] \"61/1056 - Downloading data for site 03197910\""
      ]
     },
     "metadata": {
      "display_id": "status",
      "update": true
     },
     "output_type": "display_data"
    },
    {
     "name": "stderr",
     "output_type": "stream",
     "text": [
      "GET: https://nwis.waterservices.usgs.gov/nwis/iv/?site=03197910&format=waterml,1.1&ParameterCd=00060&startDT=2014-01-01&endDT=2025-05-08\n",
      "\n",
      "Warning message in doTryCatch(return(expr), name, parentenv, handler):\n",
      "\"No data available for site 03197910\"\n",
      "File already exists for site 03190000 - skipping download\n",
      "\n",
      "File already exists for site 03188900 - skipping download\n",
      "\n"
     ]
    },
    {
     "data": {
      "text/html": [
       "'64/1056 - Downloading data for site 03189600'"
      ],
      "text/latex": [
       "'64/1056 - Downloading data for site 03189600'"
      ],
      "text/markdown": [
       "'64/1056 - Downloading data for site 03189600'"
      ],
      "text/plain": [
       "[1] \"64/1056 - Downloading data for site 03189600\""
      ]
     },
     "metadata": {
      "display_id": "status",
      "update": true
     },
     "output_type": "display_data"
    },
    {
     "name": "stderr",
     "output_type": "stream",
     "text": [
      "GET: https://nwis.waterservices.usgs.gov/nwis/iv/?site=03189600&format=waterml,1.1&ParameterCd=00060&startDT=2014-01-01&endDT=2025-05-08\n",
      "\n",
      "Warning message in doTryCatch(return(expr), name, parentenv, handler):\n",
      "\"No data available for site 03189600\"\n",
      "File already exists for site 03191500 - skipping download\n",
      "\n",
      "File already exists for site 03189100 - skipping download\n",
      "\n",
      "File already exists for site 03187500 - skipping download\n",
      "\n"
     ]
    },
    {
     "data": {
      "text/html": [
       "'68/1056 - Downloading data for site 03187000'"
      ],
      "text/latex": [
       "'68/1056 - Downloading data for site 03187000'"
      ],
      "text/markdown": [
       "'68/1056 - Downloading data for site 03187000'"
      ],
      "text/plain": [
       "[1] \"68/1056 - Downloading data for site 03187000\""
      ]
     },
     "metadata": {
      "display_id": "status",
      "update": true
     },
     "output_type": "display_data"
    },
    {
     "name": "stderr",
     "output_type": "stream",
     "text": [
      "GET: https://nwis.waterservices.usgs.gov/nwis/iv/?site=03187000&format=waterml,1.1&ParameterCd=00060&startDT=2014-01-01&endDT=2025-05-08\n",
      "\n",
      "Warning message in doTryCatch(return(expr), name, parentenv, handler):\n",
      "\"No data available for site 03187000\"\n",
      "File already exists for site 03186500 - skipping download\n",
      "\n",
      "File already exists for site 03196800 - skipping download\n",
      "\n"
     ]
    },
    {
     "data": {
      "text/html": [
       "'71/1056 - Downloading data for site 03196500'"
      ],
      "text/latex": [
       "'71/1056 - Downloading data for site 03196500'"
      ],
      "text/markdown": [
       "'71/1056 - Downloading data for site 03196500'"
      ],
      "text/plain": [
       "[1] \"71/1056 - Downloading data for site 03196500\""
      ]
     },
     "metadata": {
      "display_id": "status",
      "update": true
     },
     "output_type": "display_data"
    },
    {
     "name": "stderr",
     "output_type": "stream",
     "text": [
      "GET: https://nwis.waterservices.usgs.gov/nwis/iv/?site=03196500&format=waterml,1.1&ParameterCd=00060&startDT=2014-01-01&endDT=2025-05-08\n",
      "\n",
      "Warning message in doTryCatch(return(expr), name, parentenv, handler):\n",
      "\"No data available for site 03196500\"\n",
      "File already exists for site 03198000 - skipping download\n",
      "\n",
      "File already exists for site 03197790 - skipping download\n",
      "\n",
      "File already exists for site 03197000 - skipping download\n",
      "\n"
     ]
    },
    {
     "data": {
      "text/html": [
       "'75/1056 - Downloading data for site 03197445'"
      ],
      "text/latex": [
       "'75/1056 - Downloading data for site 03197445'"
      ],
      "text/markdown": [
       "'75/1056 - Downloading data for site 03197445'"
      ],
      "text/plain": [
       "[1] \"75/1056 - Downloading data for site 03197445\""
      ]
     },
     "metadata": {
      "display_id": "status",
      "update": true
     },
     "output_type": "display_data"
    },
    {
     "name": "stderr",
     "output_type": "stream",
     "text": [
      "GET: https://nwis.waterservices.usgs.gov/nwis/iv/?site=03197445&format=waterml,1.1&ParameterCd=00060&startDT=2014-01-01&endDT=2025-05-08\n",
      "\n",
      "Warning message in doTryCatch(return(expr), name, parentenv, handler):\n",
      "\"No data available for site 03197445\"\n",
      "File already exists for site 03201000 - skipping download\n",
      "\n"
     ]
    },
    {
     "data": {
      "text/html": [
       "'77/1056 - Downloading data for site 03159750'"
      ],
      "text/latex": [
       "'77/1056 - Downloading data for site 03159750'"
      ],
      "text/markdown": [
       "'77/1056 - Downloading data for site 03159750'"
      ],
      "text/plain": [
       "[1] \"77/1056 - Downloading data for site 03159750\""
      ]
     },
     "metadata": {
      "display_id": "status",
      "update": true
     },
     "output_type": "display_data"
    },
    {
     "name": "stderr",
     "output_type": "stream",
     "text": [
      "GET: https://nwis.waterservices.usgs.gov/nwis/iv/?site=03159750&format=waterml,1.1&ParameterCd=00060&startDT=2014-01-01&endDT=2025-05-08\n",
      "\n",
      "Warning message in doTryCatch(return(expr), name, parentenv, handler):\n",
      "\"No data available for site 03159750\"\n",
      "File already exists for site 03154000 - skipping download\n",
      "\n",
      "File already exists for site 03155000 - skipping download\n",
      "\n",
      "File already exists for site 03155220 - skipping download\n",
      "\n"
     ]
    },
    {
     "data": {
      "text/html": [
       "'81/1056 - Downloading data for site 03155588'"
      ],
      "text/latex": [
       "'81/1056 - Downloading data for site 03155588'"
      ],
      "text/markdown": [
       "'81/1056 - Downloading data for site 03155588'"
      ],
      "text/plain": [
       "[1] \"81/1056 - Downloading data for site 03155588\""
      ]
     },
     "metadata": {
      "display_id": "status",
      "update": true
     },
     "output_type": "display_data"
    },
    {
     "name": "stderr",
     "output_type": "stream",
     "text": [
      "GET: https://nwis.waterservices.usgs.gov/nwis/iv/?site=03155588&format=waterml,1.1&ParameterCd=00060&startDT=2014-01-01&endDT=2025-05-08\n",
      "\n",
      "Warning message in doTryCatch(return(expr), name, parentenv, handler):\n",
      "\"No data available for site 03155588\"\n"
     ]
    },
    {
     "data": {
      "text/html": [
       "'82/1056 - Downloading data for site 03049975'"
      ],
      "text/latex": [
       "'82/1056 - Downloading data for site 03049975'"
      ],
      "text/markdown": [
       "'82/1056 - Downloading data for site 03049975'"
      ],
      "text/plain": [
       "[1] \"82/1056 - Downloading data for site 03049975\""
      ]
     },
     "metadata": {
      "display_id": "status",
      "update": true
     },
     "output_type": "display_data"
    },
    {
     "name": "stderr",
     "output_type": "stream",
     "text": [
      "GET: https://nwis.waterservices.usgs.gov/nwis/iv/?site=03049975&format=waterml,1.1&ParameterCd=00060&startDT=2014-01-01&endDT=2025-05-08\n",
      "\n",
      "Warning message in doTryCatch(return(expr), name, parentenv, handler):\n",
      "\"No data available for site 03049975\"\n"
     ]
    },
    {
     "data": {
      "text/html": [
       "'83/1056 - Downloading data for site 03051100'"
      ],
      "text/latex": [
       "'83/1056 - Downloading data for site 03051100'"
      ],
      "text/markdown": [
       "'83/1056 - Downloading data for site 03051100'"
      ],
      "text/plain": [
       "[1] \"83/1056 - Downloading data for site 03051100\""
      ]
     },
     "metadata": {
      "display_id": "status",
      "update": true
     },
     "output_type": "display_data"
    },
    {
     "name": "stderr",
     "output_type": "stream",
     "text": [
      "GET: https://nwis.waterservices.usgs.gov/nwis/iv/?site=03051100&format=waterml,1.1&ParameterCd=00060&startDT=2014-01-01&endDT=2025-05-08\n",
      "\n",
      "Warning message in doTryCatch(return(expr), name, parentenv, handler):\n",
      "\"No data available for site 03051100\"\n"
     ]
    },
    {
     "data": {
      "text/html": [
       "'84/1056 - Downloading data for site 03068000'"
      ],
      "text/latex": [
       "'84/1056 - Downloading data for site 03068000'"
      ],
      "text/markdown": [
       "'84/1056 - Downloading data for site 03068000'"
      ],
      "text/plain": [
       "[1] \"84/1056 - Downloading data for site 03068000\""
      ]
     },
     "metadata": {
      "display_id": "status",
      "update": true
     },
     "output_type": "display_data"
    },
    {
     "name": "stderr",
     "output_type": "stream",
     "text": [
      "GET: https://nwis.waterservices.usgs.gov/nwis/iv/?site=03068000&format=waterml,1.1&ParameterCd=00060&startDT=2014-01-01&endDT=2025-05-08\n",
      "\n",
      "Warning message in doTryCatch(return(expr), name, parentenv, handler):\n",
      "\"No data available for site 03068000\"\n",
      "File already exists for site 03050000 - skipping download\n",
      "\n",
      "File already exists for site 03052120 - skipping download\n",
      "\n"
     ]
    },
    {
     "data": {
      "text/html": [
       "'87/1056 - Downloading data for site 03057300'"
      ],
      "text/latex": [
       "'87/1056 - Downloading data for site 03057300'"
      ],
      "text/markdown": [
       "'87/1056 - Downloading data for site 03057300'"
      ],
      "text/plain": [
       "[1] \"87/1056 - Downloading data for site 03057300\""
      ]
     },
     "metadata": {
      "display_id": "status",
      "update": true
     },
     "output_type": "display_data"
    },
    {
     "name": "stderr",
     "output_type": "stream",
     "text": [
      "GET: https://nwis.waterservices.usgs.gov/nwis/iv/?site=03057300&format=waterml,1.1&ParameterCd=00060&startDT=2014-01-01&endDT=2025-05-08\n",
      "\n",
      "Warning message in doTryCatch(return(expr), name, parentenv, handler):\n",
      "\"No data available for site 03057300\"\n"
     ]
    },
    {
     "data": {
      "text/html": [
       "'88/1056 - Downloading data for site 03063550'"
      ],
      "text/latex": [
       "'88/1056 - Downloading data for site 03063550'"
      ],
      "text/markdown": [
       "'88/1056 - Downloading data for site 03063550'"
      ],
      "text/plain": [
       "[1] \"88/1056 - Downloading data for site 03063550\""
      ]
     },
     "metadata": {
      "display_id": "status",
      "update": true
     },
     "output_type": "display_data"
    },
    {
     "name": "stderr",
     "output_type": "stream",
     "text": [
      "GET: https://nwis.waterservices.usgs.gov/nwis/iv/?site=03063550&format=waterml,1.1&ParameterCd=00060&startDT=2014-01-01&endDT=2025-05-08\n",
      "\n",
      "Warning message in doTryCatch(return(expr), name, parentenv, handler):\n",
      "\"No data available for site 03063550\"\n",
      "File already exists for site 03068800 - skipping download\n",
      "\n"
     ]
    },
    {
     "data": {
      "text/html": [
       "'90/1056 - Downloading data for site 03051260'"
      ],
      "text/latex": [
       "'90/1056 - Downloading data for site 03051260'"
      ],
      "text/markdown": [
       "'90/1056 - Downloading data for site 03051260'"
      ],
      "text/plain": [
       "[1] \"90/1056 - Downloading data for site 03051260\""
      ]
     },
     "metadata": {
      "display_id": "status",
      "update": true
     },
     "output_type": "display_data"
    },
    {
     "name": "stderr",
     "output_type": "stream",
     "text": [
      "GET: https://nwis.waterservices.usgs.gov/nwis/iv/?site=03051260&format=waterml,1.1&ParameterCd=00060&startDT=2014-01-01&endDT=2025-05-08\n",
      "\n",
      "Warning message in doTryCatch(return(expr), name, parentenv, handler):\n",
      "\"No data available for site 03051260\"\n"
     ]
    },
    {
     "data": {
      "text/html": [
       "'91/1056 - Downloading data for site 03050339'"
      ],
      "text/latex": [
       "'91/1056 - Downloading data for site 03050339'"
      ],
      "text/markdown": [
       "'91/1056 - Downloading data for site 03050339'"
      ],
      "text/plain": [
       "[1] \"91/1056 - Downloading data for site 03050339\""
      ]
     },
     "metadata": {
      "display_id": "status",
      "update": true
     },
     "output_type": "display_data"
    },
    {
     "name": "stderr",
     "output_type": "stream",
     "text": [
      "GET: https://nwis.waterservices.usgs.gov/nwis/iv/?site=03050339&format=waterml,1.1&ParameterCd=00060&startDT=2014-01-01&endDT=2025-05-08\n",
      "\n",
      "Warning message in doTryCatch(return(expr), name, parentenv, handler):\n",
      "\"No data available for site 03050339\"\n",
      "File already exists for site 03196600 - skipping download\n",
      "\n",
      "File already exists for site 03194700 - skipping download\n",
      "\n"
     ]
    },
    {
     "data": {
      "text/html": [
       "'94/1056 - Downloading data for site 03195500'"
      ],
      "text/latex": [
       "'94/1056 - Downloading data for site 03195500'"
      ],
      "text/markdown": [
       "'94/1056 - Downloading data for site 03195500'"
      ],
      "text/plain": [
       "[1] \"94/1056 - Downloading data for site 03195500\""
      ]
     },
     "metadata": {
      "display_id": "status",
      "update": true
     },
     "output_type": "display_data"
    },
    {
     "name": "stderr",
     "output_type": "stream",
     "text": [
      "GET: https://nwis.waterservices.usgs.gov/nwis/iv/?site=03195500&format=waterml,1.1&ParameterCd=00060&startDT=2014-01-01&endDT=2025-05-08\n",
      "\n",
      "Warning message in doTryCatch(return(expr), name, parentenv, handler):\n",
      "\"No data available for site 03195500\"\n"
     ]
    },
    {
     "data": {
      "text/html": [
       "'95/1056 - Downloading data for site 03151550'"
      ],
      "text/latex": [
       "'95/1056 - Downloading data for site 03151550'"
      ],
      "text/markdown": [
       "'95/1056 - Downloading data for site 03151550'"
      ],
      "text/plain": [
       "[1] \"95/1056 - Downloading data for site 03151550\""
      ]
     },
     "metadata": {
      "display_id": "status",
      "update": true
     },
     "output_type": "display_data"
    },
    {
     "name": "stderr",
     "output_type": "stream",
     "text": [
      "GET: https://nwis.waterservices.usgs.gov/nwis/iv/?site=03151550&format=waterml,1.1&ParameterCd=00060&startDT=2014-01-01&endDT=2025-05-08\n",
      "\n",
      "Warning message in doTryCatch(return(expr), name, parentenv, handler):\n",
      "\"No data available for site 03151550\"\n",
      "File already exists for site 03151400 - skipping download\n",
      "\n",
      "File already exists for site 03151600 - skipping download\n",
      "\n"
     ]
    },
    {
     "data": {
      "text/html": [
       "'98/1056 - Downloading data for site 03153500'"
      ],
      "text/latex": [
       "'98/1056 - Downloading data for site 03153500'"
      ],
      "text/markdown": [
       "'98/1056 - Downloading data for site 03153500'"
      ],
      "text/plain": [
       "[1] \"98/1056 - Downloading data for site 03153500\""
      ]
     },
     "metadata": {
      "display_id": "status",
      "update": true
     },
     "output_type": "display_data"
    },
    {
     "name": "stderr",
     "output_type": "stream",
     "text": [
      "GET: https://nwis.waterservices.usgs.gov/nwis/iv/?site=03153500&format=waterml,1.1&ParameterCd=00060&startDT=2014-01-01&endDT=2025-05-08\n",
      "\n",
      "Warning message in doTryCatch(return(expr), name, parentenv, handler):\n",
      "\"No data available for site 03153500\"\n",
      "File already exists for site 03151915 - skipping download\n",
      "\n",
      "File already exists for site 03152000 - skipping download\n",
      "\n"
     ]
    },
    {
     "data": {
      "text/html": [
       "'101/1056 - Downloading data for site 03155405'"
      ],
      "text/latex": [
       "'101/1056 - Downloading data for site 03155405'"
      ],
      "text/markdown": [
       "'101/1056 - Downloading data for site 03155405'"
      ],
      "text/plain": [
       "[1] \"101/1056 - Downloading data for site 03155405\""
      ]
     },
     "metadata": {
      "display_id": "status",
      "update": true
     },
     "output_type": "display_data"
    },
    {
     "name": "stderr",
     "output_type": "stream",
     "text": [
      "GET: https://nwis.waterservices.usgs.gov/nwis/iv/?site=03155405&format=waterml,1.1&ParameterCd=00060&startDT=2014-01-01&endDT=2025-05-08\n",
      "\n",
      "Warning message in doTryCatch(return(expr), name, parentenv, handler):\n",
      "\"No data available for site 03155405\"\n"
     ]
    },
    {
     "data": {
      "text/html": [
       "'102/1056 - Downloading data for site 03050500'"
      ],
      "text/latex": [
       "'102/1056 - Downloading data for site 03050500'"
      ],
      "text/markdown": [
       "'102/1056 - Downloading data for site 03050500'"
      ],
      "text/plain": [
       "[1] \"102/1056 - Downloading data for site 03050500\""
      ]
     },
     "metadata": {
      "display_id": "status",
      "update": true
     },
     "output_type": "display_data"
    },
    {
     "name": "stderr",
     "output_type": "stream",
     "text": [
      "GET: https://nwis.waterservices.usgs.gov/nwis/iv/?site=03050500&format=waterml,1.1&ParameterCd=00060&startDT=2014-01-01&endDT=2025-05-08\n",
      "\n",
      "Warning message in doTryCatch(return(expr), name, parentenv, handler):\n",
      "\"No data available for site 03050500\"\n",
      "File already exists for site 03052500 - skipping download\n",
      "\n"
     ]
    },
    {
     "data": {
      "text/html": [
       "'104/1056 - Downloading data for site 03057900'"
      ],
      "text/latex": [
       "'104/1056 - Downloading data for site 03057900'"
      ],
      "text/markdown": [
       "'104/1056 - Downloading data for site 03057900'"
      ],
      "text/plain": [
       "[1] \"104/1056 - Downloading data for site 03057900\""
      ]
     },
     "metadata": {
      "display_id": "status",
      "update": true
     },
     "output_type": "display_data"
    },
    {
     "name": "stderr",
     "output_type": "stream",
     "text": [
      "GET: https://nwis.waterservices.usgs.gov/nwis/iv/?site=03057900&format=waterml,1.1&ParameterCd=00060&startDT=2014-01-01&endDT=2025-05-08\n",
      "\n",
      "Warning message in doTryCatch(return(expr), name, parentenv, handler):\n",
      "\"No data available for site 03057900\"\n",
      "File already exists for site 03058000 - skipping download\n",
      "\n",
      "File already exists for site 03052450 - skipping download\n",
      "\n"
     ]
    },
    {
     "data": {
      "text/html": [
       "'107/1056 - Downloading data for site 03064800'"
      ],
      "text/latex": [
       "'107/1056 - Downloading data for site 03064800'"
      ],
      "text/markdown": [
       "'107/1056 - Downloading data for site 03064800'"
      ],
      "text/plain": [
       "[1] \"107/1056 - Downloading data for site 03064800\""
      ]
     },
     "metadata": {
      "display_id": "status",
      "update": true
     },
     "output_type": "display_data"
    },
    {
     "name": "stderr",
     "output_type": "stream",
     "text": [
      "GET: https://nwis.waterservices.usgs.gov/nwis/iv/?site=03064800&format=waterml,1.1&ParameterCd=00060&startDT=2014-01-01&endDT=2025-05-08\n",
      "\n",
      "Warning message in doTryCatch(return(expr), name, parentenv, handler):\n",
      "\"No data available for site 03064800\"\n",
      "File already exists for site 03051000 - skipping download\n",
      "\n"
     ]
    },
    {
     "data": {
      "text/html": [
       "'109/1056 - Downloading data for site 03058020'"
      ],
      "text/latex": [
       "'109/1056 - Downloading data for site 03058020'"
      ],
      "text/markdown": [
       "'109/1056 - Downloading data for site 03058020'"
      ],
      "text/plain": [
       "[1] \"109/1056 - Downloading data for site 03058020\""
      ]
     },
     "metadata": {
      "display_id": "status",
      "update": true
     },
     "output_type": "display_data"
    },
    {
     "name": "stderr",
     "output_type": "stream",
     "text": [
      "GET: https://nwis.waterservices.usgs.gov/nwis/iv/?site=03058020&format=waterml,1.1&ParameterCd=00060&startDT=2014-01-01&endDT=2025-05-08\n",
      "\n",
      "Warning message in doTryCatch(return(expr), name, parentenv, handler):\n",
      "\"No data available for site 03058020\"\n",
      "File already exists for site 03052000 - skipping download\n",
      "\n",
      "File already exists for site 03053500 - skipping download\n",
      "\n",
      "File already exists for site 03065000 - skipping download\n",
      "\n",
      "File already exists for site 03058500 - skipping download\n",
      "\n",
      "File already exists for site 03069500 - skipping download\n",
      "\n",
      "File already exists for site 03066000 - skipping download\n",
      "\n",
      "File already exists for site 03054500 - skipping download\n",
      "\n"
     ]
    },
    {
     "data": {
      "text/html": [
       "'117/1056 - Downloading data for site 03058975'"
      ],
      "text/latex": [
       "'117/1056 - Downloading data for site 03058975'"
      ],
      "text/markdown": [
       "'117/1056 - Downloading data for site 03058975'"
      ],
      "text/plain": [
       "[1] \"117/1056 - Downloading data for site 03058975\""
      ]
     },
     "metadata": {
      "display_id": "status",
      "update": true
     },
     "output_type": "display_data"
    },
    {
     "name": "stderr",
     "output_type": "stream",
     "text": [
      "GET: https://nwis.waterservices.usgs.gov/nwis/iv/?site=03058975&format=waterml,1.1&ParameterCd=00060&startDT=2014-01-01&endDT=2025-05-08\n",
      "\n",
      "Warning message in doTryCatch(return(expr), name, parentenv, handler):\n",
      "\"No data available for site 03058975\"\n"
     ]
    },
    {
     "data": {
      "text/html": [
       "'118/1056 - Downloading data for site 03055500'"
      ],
      "text/latex": [
       "'118/1056 - Downloading data for site 03055500'"
      ],
      "text/markdown": [
       "'118/1056 - Downloading data for site 03055500'"
      ],
      "text/plain": [
       "[1] \"118/1056 - Downloading data for site 03055500\""
      ]
     },
     "metadata": {
      "display_id": "status",
      "update": true
     },
     "output_type": "display_data"
    },
    {
     "name": "stderr",
     "output_type": "stream",
     "text": [
      "GET: https://nwis.waterservices.usgs.gov/nwis/iv/?site=03055500&format=waterml,1.1&ParameterCd=00060&startDT=2014-01-01&endDT=2025-05-08\n",
      "\n",
      "Warning message in doTryCatch(return(expr), name, parentenv, handler):\n",
      "\"No data available for site 03055500\"\n",
      "File already exists for site 03056000 - skipping download\n",
      "\n",
      "File already exists for site 03056250 - skipping download\n",
      "\n",
      "File already exists for site 0307020015 - skipping download\n",
      "\n"
     ]
    },
    {
     "data": {
      "text/html": [
       "'122/1056 - Downloading data for site 03151000'"
      ],
      "text/latex": [
       "'122/1056 - Downloading data for site 03151000'"
      ],
      "text/markdown": [
       "'122/1056 - Downloading data for site 03151000'"
      ],
      "text/plain": [
       "[1] \"122/1056 - Downloading data for site 03151000\""
      ]
     },
     "metadata": {
      "display_id": "status",
      "update": true
     },
     "output_type": "display_data"
    },
    {
     "name": "stderr",
     "output_type": "stream",
     "text": [
      "GET: https://nwis.waterservices.usgs.gov/nwis/iv/?site=03151000&format=waterml,1.1&ParameterCd=00060&startDT=2014-01-01&endDT=2025-05-08\n",
      "\n",
      "Warning message in doTryCatch(return(expr), name, parentenv, handler):\n",
      "\"No data available for site 03151000\"\n"
     ]
    },
    {
     "data": {
      "text/html": [
       "'123/1056 - Downloading data for site 03150700'"
      ],
      "text/latex": [
       "'123/1056 - Downloading data for site 03150700'"
      ],
      "text/markdown": [
       "'123/1056 - Downloading data for site 03150700'"
      ],
      "text/plain": [
       "[1] \"123/1056 - Downloading data for site 03150700\""
      ]
     },
     "metadata": {
      "display_id": "status",
      "update": true
     },
     "output_type": "display_data"
    },
    {
     "name": "stderr",
     "output_type": "stream",
     "text": [
      "GET: https://nwis.waterservices.usgs.gov/nwis/iv/?site=03150700&format=waterml,1.1&ParameterCd=00060&startDT=2014-01-01&endDT=2025-05-08\n",
      "\n",
      "Warning message in doTryCatch(return(expr), name, parentenv, handler):\n",
      "\"No data available for site 03150700\"\n",
      "File already exists for site 03115786 - skipping download\n",
      "\n",
      "File already exists for site 03150500 - skipping download\n",
      "\n",
      "File already exists for site 03115400 - skipping download\n",
      "\n",
      "File already exists for site 03115644 - skipping download\n",
      "\n",
      "File already exists for site 03115712 - skipping download\n",
      "\n"
     ]
    },
    {
     "data": {
      "text/html": [
       "'129/1056 - Downloading data for site 03140900'"
      ],
      "text/latex": [
       "'129/1056 - Downloading data for site 03140900'"
      ],
      "text/markdown": [
       "'129/1056 - Downloading data for site 03140900'"
      ],
      "text/plain": [
       "[1] \"129/1056 - Downloading data for site 03140900\""
      ]
     },
     "metadata": {
      "display_id": "status",
      "update": true
     },
     "output_type": "display_data"
    },
    {
     "name": "stderr",
     "output_type": "stream",
     "text": [
      "GET: https://nwis.waterservices.usgs.gov/nwis/iv/?site=03140900&format=waterml,1.1&ParameterCd=00060&startDT=2014-01-01&endDT=2025-05-08\n",
      "\n",
      "Warning message in doTryCatch(return(expr), name, parentenv, handler):\n",
      "\"No data available for site 03140900\"\n"
     ]
    },
    {
     "data": {
      "text/html": [
       "'130/1056 - Downloading data for site 03140853'"
      ],
      "text/latex": [
       "'130/1056 - Downloading data for site 03140853'"
      ],
      "text/markdown": [
       "'130/1056 - Downloading data for site 03140853'"
      ],
      "text/plain": [
       "[1] \"130/1056 - Downloading data for site 03140853\""
      ]
     },
     "metadata": {
      "display_id": "status",
      "update": true
     },
     "output_type": "display_data"
    },
    {
     "name": "stderr",
     "output_type": "stream",
     "text": [
      "GET: https://nwis.waterservices.usgs.gov/nwis/iv/?site=03140853&format=waterml,1.1&ParameterCd=00060&startDT=2014-01-01&endDT=2025-05-08\n",
      "\n",
      "Warning message in doTryCatch(return(expr), name, parentenv, handler):\n",
      "\"No data available for site 03140853\"\n"
     ]
    },
    {
     "data": {
      "text/html": [
       "'131/1056 - Downloading data for site 03140950'"
      ],
      "text/latex": [
       "'131/1056 - Downloading data for site 03140950'"
      ],
      "text/markdown": [
       "'131/1056 - Downloading data for site 03140950'"
      ],
      "text/plain": [
       "[1] \"131/1056 - Downloading data for site 03140950\""
      ]
     },
     "metadata": {
      "display_id": "status",
      "update": true
     },
     "output_type": "display_data"
    },
    {
     "name": "stderr",
     "output_type": "stream",
     "text": [
      "GET: https://nwis.waterservices.usgs.gov/nwis/iv/?site=03140950&format=waterml,1.1&ParameterCd=00060&startDT=2014-01-01&endDT=2025-05-08\n",
      "\n",
      "Warning message in doTryCatch(return(expr), name, parentenv, handler):\n",
      "\"No data available for site 03140950\"\n",
      "File already exists for site 03114350 - skipping download\n",
      "\n",
      "File already exists for site 03114500 - skipping download\n",
      "\n",
      "File already exists for site 03114431 - skipping download\n",
      "\n",
      "File already exists for site 03114283 - skipping download\n",
      "\n",
      "File already exists for site 03114306 - skipping download\n",
      "\n"
     ]
    },
    {
     "data": {
      "text/html": [
       "'137/1056 - Downloading data for site 03114280'"
      ],
      "text/latex": [
       "'137/1056 - Downloading data for site 03114280'"
      ],
      "text/markdown": [
       "'137/1056 - Downloading data for site 03114280'"
      ],
      "text/plain": [
       "[1] \"137/1056 - Downloading data for site 03114280\""
      ]
     },
     "metadata": {
      "display_id": "status",
      "update": true
     },
     "output_type": "display_data"
    },
    {
     "name": "stderr",
     "output_type": "stream",
     "text": [
      "GET: https://nwis.waterservices.usgs.gov/nwis/iv/?site=03114280&format=waterml,1.1&ParameterCd=00060&startDT=2014-01-01&endDT=2025-05-08\n",
      "\n",
      "Warning message in doTryCatch(return(expr), name, parentenv, handler):\n",
      "\"No data available for site 03114280\"\n"
     ]
    },
    {
     "data": {
      "text/html": [
       "'138/1056 - Downloading data for site 03114275'"
      ],
      "text/latex": [
       "'138/1056 - Downloading data for site 03114275'"
      ],
      "text/markdown": [
       "'138/1056 - Downloading data for site 03114275'"
      ],
      "text/plain": [
       "[1] \"138/1056 - Downloading data for site 03114275\""
      ]
     },
     "metadata": {
      "display_id": "status",
      "update": true
     },
     "output_type": "display_data"
    },
    {
     "name": "stderr",
     "output_type": "stream",
     "text": [
      "GET: https://nwis.waterservices.usgs.gov/nwis/iv/?site=03114275&format=waterml,1.1&ParameterCd=00060&startDT=2014-01-01&endDT=2025-05-08\n",
      "\n",
      "Warning message in doTryCatch(return(expr), name, parentenv, handler):\n",
      "\"No data available for site 03114275\"\n",
      "File already exists for site 03113990 - skipping download\n",
      "\n"
     ]
    },
    {
     "data": {
      "text/html": [
       "'140/1056 - Downloading data for site 03111950'"
      ],
      "text/latex": [
       "'140/1056 - Downloading data for site 03111950'"
      ],
      "text/markdown": [
       "'140/1056 - Downloading data for site 03111950'"
      ],
      "text/plain": [
       "[1] \"140/1056 - Downloading data for site 03111950\""
      ]
     },
     "metadata": {
      "display_id": "status",
      "update": true
     },
     "output_type": "display_data"
    },
    {
     "name": "stderr",
     "output_type": "stream",
     "text": [
      "GET: https://nwis.waterservices.usgs.gov/nwis/iv/?site=03111950&format=waterml,1.1&ParameterCd=00060&startDT=2014-01-01&endDT=2025-05-08\n",
      "\n",
      "Warning message in doTryCatch(return(expr), name, parentenv, handler):\n",
      "\"No data available for site 03111950\"\n",
      "File already exists for site 03112000 - skipping download\n",
      "\n"
     ]
    },
    {
     "data": {
      "text/html": [
       "'142/1056 - Downloading data for site 03062445'"
      ],
      "text/latex": [
       "'142/1056 - Downloading data for site 03062445'"
      ],
      "text/markdown": [
       "'142/1056 - Downloading data for site 03062445'"
      ],
      "text/plain": [
       "[1] \"142/1056 - Downloading data for site 03062445\""
      ]
     },
     "metadata": {
      "display_id": "status",
      "update": true
     },
     "output_type": "display_data"
    },
    {
     "name": "stderr",
     "output_type": "stream",
     "text": [
      "GET: https://nwis.waterservices.usgs.gov/nwis/iv/?site=03062445&format=waterml,1.1&ParameterCd=00060&startDT=2014-01-01&endDT=2025-05-08\n",
      "\n",
      "Warning message in doTryCatch(return(expr), name, parentenv, handler):\n",
      "\"No data available for site 03062445\"\n"
     ]
    },
    {
     "data": {
      "text/html": [
       "'143/1056 - Downloading data for site 03062450'"
      ],
      "text/latex": [
       "'143/1056 - Downloading data for site 03062450'"
      ],
      "text/markdown": [
       "'143/1056 - Downloading data for site 03062450'"
      ],
      "text/plain": [
       "[1] \"143/1056 - Downloading data for site 03062450\""
      ]
     },
     "metadata": {
      "display_id": "status",
      "update": true
     },
     "output_type": "display_data"
    },
    {
     "name": "stderr",
     "output_type": "stream",
     "text": [
      "GET: https://nwis.waterservices.usgs.gov/nwis/iv/?site=03062450&format=waterml,1.1&ParameterCd=00060&startDT=2014-01-01&endDT=2025-05-08\n",
      "\n",
      "Warning message in doTryCatch(return(expr), name, parentenv, handler):\n",
      "\"No data available for site 03062450\"\n",
      "File already exists for site 03070500 - skipping download\n",
      "\n",
      "File already exists for site 03062500 - skipping download\n",
      "\n",
      "File already exists for site 0311404647 - skipping download\n",
      "\n"
     ]
    },
    {
     "data": {
      "text/html": [
       "'147/1056 - Downloading data for site 03071590'"
      ],
      "text/latex": [
       "'147/1056 - Downloading data for site 03071590'"
      ],
      "text/markdown": [
       "'147/1056 - Downloading data for site 03071590'"
      ],
      "text/plain": [
       "[1] \"147/1056 - Downloading data for site 03071590\""
      ]
     },
     "metadata": {
      "display_id": "status",
      "update": true
     },
     "output_type": "display_data"
    },
    {
     "name": "stderr",
     "output_type": "stream",
     "text": [
      "GET: https://nwis.waterservices.usgs.gov/nwis/iv/?site=03071590&format=waterml,1.1&ParameterCd=00060&startDT=2014-01-01&endDT=2025-05-08\n",
      "\n",
      "Warning message in doTryCatch(return(expr), name, parentenv, handler):\n",
      "\"No data available for site 03071590\"\n"
     ]
    },
    {
     "data": {
      "text/html": [
       "'148/1056 - Downloading data for site 03071600'"
      ],
      "text/latex": [
       "'148/1056 - Downloading data for site 03071600'"
      ],
      "text/markdown": [
       "'148/1056 - Downloading data for site 03071600'"
      ],
      "text/plain": [
       "[1] \"148/1056 - Downloading data for site 03071600\""
      ]
     },
     "metadata": {
      "display_id": "status",
      "update": true
     },
     "output_type": "display_data"
    },
    {
     "name": "stderr",
     "output_type": "stream",
     "text": [
      "GET: https://nwis.waterservices.usgs.gov/nwis/iv/?site=03071600&format=waterml,1.1&ParameterCd=00060&startDT=2014-01-01&endDT=2025-05-08\n",
      "\n",
      "Warning message in doTryCatch(return(expr), name, parentenv, handler):\n",
      "\"No data available for site 03071600\"\n"
     ]
    },
    {
     "data": {
      "text/html": [
       "'149/1056 - Downloading data for site 03063000'"
      ],
      "text/latex": [
       "'149/1056 - Downloading data for site 03063000'"
      ],
      "text/markdown": [
       "'149/1056 - Downloading data for site 03063000'"
      ],
      "text/plain": [
       "[1] \"149/1056 - Downloading data for site 03063000\""
      ]
     },
     "metadata": {
      "display_id": "status",
      "update": true
     },
     "output_type": "display_data"
    },
    {
     "name": "stderr",
     "output_type": "stream",
     "text": [
      "GET: https://nwis.waterservices.usgs.gov/nwis/iv/?site=03063000&format=waterml,1.1&ParameterCd=00060&startDT=2014-01-01&endDT=2025-05-08\n",
      "\n",
      "Warning message in doTryCatch(return(expr), name, parentenv, handler):\n",
      "\"No data available for site 03063000\"\n"
     ]
    },
    {
     "data": {
      "text/html": [
       "'150/1056 - Downloading data for site 03062998'"
      ],
      "text/latex": [
       "'150/1056 - Downloading data for site 03062998'"
      ],
      "text/markdown": [
       "'150/1056 - Downloading data for site 03062998'"
      ],
      "text/plain": [
       "[1] \"150/1056 - Downloading data for site 03062998\""
      ]
     },
     "metadata": {
      "display_id": "status",
      "update": true
     },
     "output_type": "display_data"
    },
    {
     "name": "stderr",
     "output_type": "stream",
     "text": [
      "GET: https://nwis.waterservices.usgs.gov/nwis/iv/?site=03062998&format=waterml,1.1&ParameterCd=00060&startDT=2014-01-01&endDT=2025-05-08\n",
      "\n",
      "Warning message in doTryCatch(return(expr), name, parentenv, handler):\n",
      "\"No data available for site 03062998\"\n",
      "File already exists for site 03072000 - skipping download\n",
      "\n",
      "File already exists for site 03403910 - skipping download\n",
      "\n",
      "File already exists for site 03404000 - skipping download\n",
      "\n"
     ]
    },
    {
     "data": {
      "text/html": [
       "'154/1056 - Downloading data for site 03432100'"
      ],
      "text/latex": [
       "'154/1056 - Downloading data for site 03432100'"
      ],
      "text/markdown": [
       "'154/1056 - Downloading data for site 03432100'"
      ],
      "text/plain": [
       "[1] \"154/1056 - Downloading data for site 03432100\""
      ]
     },
     "metadata": {
      "display_id": "status",
      "update": true
     },
     "output_type": "display_data"
    },
    {
     "name": "stderr",
     "output_type": "stream",
     "text": [
      "GET: https://nwis.waterservices.usgs.gov/nwis/iv/?site=03432100&format=waterml,1.1&ParameterCd=00060&startDT=2014-01-01&endDT=2025-05-08\n",
      "\n",
      "Warning message in doTryCatch(return(expr), name, parentenv, handler):\n",
      "\"No data available for site 03432100\"\n",
      "File already exists for site 0343233905 - skipping download\n",
      "\n",
      "File already exists for site 03428200 - skipping download\n",
      "\n",
      "File already exists for site 03432350 - skipping download\n",
      "\n",
      "File already exists for site 03432400 - skipping download\n",
      "\n",
      "File already exists for site 03429498 - skipping download\n",
      "\n",
      "File already exists for site 03408500 - skipping download\n",
      "\n",
      "File already exists for site 03409500 - skipping download\n",
      "\n",
      "File already exists for site 03421000 - skipping download\n",
      "\n",
      "File already exists for site 03427500 - skipping download\n",
      "\n",
      "File already exists for site 03419530 - skipping download\n",
      "\n",
      "File already exists for site 03423000 - skipping download\n",
      "\n",
      "File already exists for site 03424730 - skipping download\n",
      "\n",
      "File already exists for site 03424860 - skipping download\n",
      "\n",
      "File already exists for site 03425520 - skipping download\n",
      "\n"
     ]
    },
    {
     "data": {
      "text/html": [
       "'169/1056 - Downloading data for site 03418420'"
      ],
      "text/latex": [
       "'169/1056 - Downloading data for site 03418420'"
      ],
      "text/markdown": [
       "'169/1056 - Downloading data for site 03418420'"
      ],
      "text/plain": [
       "[1] \"169/1056 - Downloading data for site 03418420\""
      ]
     },
     "metadata": {
      "display_id": "status",
      "update": true
     },
     "output_type": "display_data"
    },
    {
     "name": "stderr",
     "output_type": "stream",
     "text": [
      "GET: https://nwis.waterservices.usgs.gov/nwis/iv/?site=03418420&format=waterml,1.1&ParameterCd=00060&startDT=2014-01-01&endDT=2025-05-08\n",
      "\n",
      "Warning message in doTryCatch(return(expr), name, parentenv, handler):\n",
      "\"No data available for site 03418420\"\n",
      "File already exists for site 03418000 - skipping download\n",
      "\n",
      "File already exists for site 03425290 - skipping download\n",
      "\n",
      "File already exists for site 03430550 - skipping download\n",
      "\n",
      "File already exists for site 03433500 - skipping download\n",
      "\n",
      "File already exists for site 03431040 - skipping download\n",
      "\n",
      "File already exists for site 03431100 - skipping download\n",
      "\n",
      "File already exists for site 03431655 - skipping download\n",
      "\n",
      "File already exists for site 03431060 - skipping download\n",
      "\n",
      "File already exists for site 03434500 - skipping download\n",
      "\n",
      "File already exists for site 03431300 - skipping download\n",
      "\n",
      "File already exists for site 03431700 - skipping download\n",
      "\n",
      "File already exists for site 03431500 - skipping download\n",
      "\n"
     ]
    },
    {
     "data": {
      "text/html": [
       "'182/1056 - Downloading data for site 03431091'"
      ],
      "text/latex": [
       "'182/1056 - Downloading data for site 03431091'"
      ],
      "text/markdown": [
       "'182/1056 - Downloading data for site 03431091'"
      ],
      "text/plain": [
       "[1] \"182/1056 - Downloading data for site 03431091\""
      ]
     },
     "metadata": {
      "display_id": "status",
      "update": true
     },
     "output_type": "display_data"
    },
    {
     "name": "stderr",
     "output_type": "stream",
     "text": [
      "GET: https://nwis.waterservices.usgs.gov/nwis/iv/?site=03431091&format=waterml,1.1&ParameterCd=00060&startDT=2014-01-01&endDT=2025-05-08\n",
      "\n",
      "Warning message in doTryCatch(return(expr), name, parentenv, handler):\n",
      "\"No data available for site 03431091\"\n"
     ]
    },
    {
     "data": {
      "text/html": [
       "'183/1056 - Downloading data for site 03431712'"
      ],
      "text/latex": [
       "'183/1056 - Downloading data for site 03431712'"
      ],
      "text/markdown": [
       "'183/1056 - Downloading data for site 03431712'"
      ],
      "text/plain": [
       "[1] \"183/1056 - Downloading data for site 03431712\""
      ]
     },
     "metadata": {
      "display_id": "status",
      "update": true
     },
     "output_type": "display_data"
    },
    {
     "name": "stderr",
     "output_type": "stream",
     "text": [
      "GET: https://nwis.waterservices.usgs.gov/nwis/iv/?site=03431712&format=waterml,1.1&ParameterCd=00060&startDT=2014-01-01&endDT=2025-05-08\n",
      "\n",
      "Warning message in doTryCatch(return(expr), name, parentenv, handler):\n",
      "\"No data available for site 03431712\"\n",
      "File already exists for site 03430200 - skipping download\n",
      "\n"
     ]
    },
    {
     "data": {
      "text/html": [
       "'185/1056 - Downloading data for site 03431514'"
      ],
      "text/latex": [
       "'185/1056 - Downloading data for site 03431514'"
      ],
      "text/markdown": [
       "'185/1056 - Downloading data for site 03431514'"
      ],
      "text/plain": [
       "[1] \"185/1056 - Downloading data for site 03431514\""
      ]
     },
     "metadata": {
      "display_id": "status",
      "update": true
     },
     "output_type": "display_data"
    },
    {
     "name": "stderr",
     "output_type": "stream",
     "text": [
      "GET: https://nwis.waterservices.usgs.gov/nwis/iv/?site=03431514&format=waterml,1.1&ParameterCd=00060&startDT=2014-01-01&endDT=2025-05-08\n",
      "\n",
      "Warning message in doTryCatch(return(expr), name, parentenv, handler):\n",
      "\"No data available for site 03431514\"\n"
     ]
    },
    {
     "data": {
      "text/html": [
       "'186/1056 - Downloading data for site 03430250'"
      ],
      "text/latex": [
       "'186/1056 - Downloading data for site 03430250'"
      ],
      "text/markdown": [
       "'186/1056 - Downloading data for site 03430250'"
      ],
      "text/plain": [
       "[1] \"186/1056 - Downloading data for site 03430250\""
      ]
     },
     "metadata": {
      "display_id": "status",
      "update": true
     },
     "output_type": "display_data"
    },
    {
     "name": "stderr",
     "output_type": "stream",
     "text": [
      "GET: https://nwis.waterservices.usgs.gov/nwis/iv/?site=03430250&format=waterml,1.1&ParameterCd=00060&startDT=2014-01-01&endDT=2025-05-08\n",
      "\n",
      "Warning message in doTryCatch(return(expr), name, parentenv, handler):\n",
      "\"No data available for site 03430250\"\n",
      "File already exists for site 03431599 - skipping download\n",
      "\n"
     ]
    },
    {
     "data": {
      "text/html": [
       "'188/1056 - Downloading data for site 03430320'"
      ],
      "text/latex": [
       "'188/1056 - Downloading data for site 03430320'"
      ],
      "text/markdown": [
       "'188/1056 - Downloading data for site 03430320'"
      ],
      "text/plain": [
       "[1] \"188/1056 - Downloading data for site 03430320\""
      ]
     },
     "metadata": {
      "display_id": "status",
      "update": true
     },
     "output_type": "display_data"
    },
    {
     "name": "stderr",
     "output_type": "stream",
     "text": [
      "GET: https://nwis.waterservices.usgs.gov/nwis/iv/?site=03430320&format=waterml,1.1&ParameterCd=00060&startDT=2014-01-01&endDT=2025-05-08\n",
      "\n",
      "Warning message in doTryCatch(return(expr), name, parentenv, handler):\n",
      "\"No data available for site 03430320\"\n",
      "File already exists for site 03431790 - skipping download\n",
      "\n",
      "File already exists for site 03431530 - skipping download\n",
      "\n",
      "File already exists for site 03426470 - skipping download\n",
      "\n"
     ]
    },
    {
     "data": {
      "text/html": [
       "'192/1056 - Downloading data for site 03426490'"
      ],
      "text/latex": [
       "'192/1056 - Downloading data for site 03426490'"
      ],
      "text/markdown": [
       "'192/1056 - Downloading data for site 03426490'"
      ],
      "text/plain": [
       "[1] \"192/1056 - Downloading data for site 03426490\""
      ]
     },
     "metadata": {
      "display_id": "status",
      "update": true
     },
     "output_type": "display_data"
    },
    {
     "name": "stderr",
     "output_type": "stream",
     "text": [
      "GET: https://nwis.waterservices.usgs.gov/nwis/iv/?site=03426490&format=waterml,1.1&ParameterCd=00060&startDT=2014-01-01&endDT=2025-05-08\n",
      "\n",
      "Warning message in doTryCatch(return(expr), name, parentenv, handler):\n",
      "\"No data available for site 03426490\"\n",
      "File already exists for site 03436690 - skipping download\n",
      "\n",
      "File already exists for site 03431800 - skipping download\n",
      "\n",
      "File already exists for site 03426387 - skipping download\n",
      "\n",
      "File already exists for site 03436100 - skipping download\n",
      "\n",
      "File already exists for site 03435105 - skipping download\n",
      "\n",
      "File already exists for site 03313700 - skipping download\n",
      "\n"
     ]
    },
    {
     "data": {
      "text/html": [
       "'199/1056 - Downloading data for site 03437500'"
      ],
      "text/latex": [
       "'199/1056 - Downloading data for site 03437500'"
      ],
      "text/markdown": [
       "'199/1056 - Downloading data for site 03437500'"
      ],
      "text/plain": [
       "[1] \"199/1056 - Downloading data for site 03437500\""
      ]
     },
     "metadata": {
      "display_id": "status",
      "update": true
     },
     "output_type": "display_data"
    },
    {
     "name": "stderr",
     "output_type": "stream",
     "text": [
      "GET: https://nwis.waterservices.usgs.gov/nwis/iv/?site=03437500&format=waterml,1.1&ParameterCd=00060&startDT=2014-01-01&endDT=2025-05-08\n",
      "\n",
      "Warning message in doTryCatch(return(expr), name, parentenv, handler):\n",
      "\"No data available for site 03437500\"\n",
      "File already exists for site 03437495 - skipping download\n",
      "\n",
      "File already exists for site 03437480 - skipping download\n",
      "\n",
      "File already exists for site 03418224 - skipping download\n",
      "\n",
      "File already exists for site 03425622 - skipping download\n",
      "\n"
     ]
    },
    {
     "data": {
      "text/html": [
       "'204/1056 - Downloading data for site 03417500'"
      ],
      "text/latex": [
       "'204/1056 - Downloading data for site 03417500'"
      ],
      "text/markdown": [
       "'204/1056 - Downloading data for site 03417500'"
      ],
      "text/plain": [
       "[1] \"204/1056 - Downloading data for site 03417500\""
      ]
     },
     "metadata": {
      "display_id": "status",
      "update": true
     },
     "output_type": "display_data"
    },
    {
     "name": "stderr",
     "output_type": "stream",
     "text": [
      "GET: https://nwis.waterservices.usgs.gov/nwis/iv/?site=03417500&format=waterml,1.1&ParameterCd=00060&startDT=2014-01-01&endDT=2025-05-08\n",
      "\n",
      "Warning message in doTryCatch(return(expr), name, parentenv, handler):\n",
      "\"No data available for site 03417500\"\n",
      "File already exists for site 03414100 - skipping download\n",
      "\n"
     ]
    },
    {
     "data": {
      "text/html": [
       "'206/1056 - Downloading data for site 03414170'"
      ],
      "text/latex": [
       "'206/1056 - Downloading data for site 03414170'"
      ],
      "text/markdown": [
       "'206/1056 - Downloading data for site 03414170'"
      ],
      "text/plain": [
       "[1] \"206/1056 - Downloading data for site 03414170\""
      ]
     },
     "metadata": {
      "display_id": "status",
      "update": true
     },
     "output_type": "display_data"
    },
    {
     "name": "stderr",
     "output_type": "stream",
     "text": [
      "GET: https://nwis.waterservices.usgs.gov/nwis/iv/?site=03414170&format=waterml,1.1&ParameterCd=00060&startDT=2014-01-01&endDT=2025-05-08\n",
      "\n",
      "Warning message in doTryCatch(return(expr), name, parentenv, handler):\n",
      "\"No data available for site 03414170\"\n",
      "File already exists for site 03414078 - skipping download\n",
      "\n"
     ]
    },
    {
     "data": {
      "text/html": [
       "'208/1056 - Downloading data for site 03312900'"
      ],
      "text/latex": [
       "'208/1056 - Downloading data for site 03312900'"
      ],
      "text/markdown": [
       "'208/1056 - Downloading data for site 03312900'"
      ],
      "text/plain": [
       "[1] \"208/1056 - Downloading data for site 03312900\""
      ]
     },
     "metadata": {
      "display_id": "status",
      "update": true
     },
     "output_type": "display_data"
    },
    {
     "name": "stderr",
     "output_type": "stream",
     "text": [
      "GET: https://nwis.waterservices.usgs.gov/nwis/iv/?site=03312900&format=waterml,1.1&ParameterCd=00060&startDT=2014-01-01&endDT=2025-05-08\n",
      "\n",
      "Warning message in doTryCatch(return(expr), name, parentenv, handler):\n",
      "\"No data available for site 03312900\"\n"
     ]
    },
    {
     "data": {
      "text/html": [
       "'209/1056 - Downloading data for site 03313000'"
      ],
      "text/latex": [
       "'209/1056 - Downloading data for site 03313000'"
      ],
      "text/markdown": [
       "'209/1056 - Downloading data for site 03313000'"
      ],
      "text/plain": [
       "[1] \"209/1056 - Downloading data for site 03313000\""
      ]
     },
     "metadata": {
      "display_id": "status",
      "update": true
     },
     "output_type": "display_data"
    },
    {
     "name": "stderr",
     "output_type": "stream",
     "text": [
      "GET: https://nwis.waterservices.usgs.gov/nwis/iv/?site=03313000&format=waterml,1.1&ParameterCd=00060&startDT=2014-01-01&endDT=2025-05-08\n",
      "\n",
      "Warning message in doTryCatch(return(expr), name, parentenv, handler):\n",
      "\"No data available for site 03313000\"\n",
      "File already exists for site 03314000 - skipping download\n",
      "\n",
      "File already exists for site 03307000 - skipping download\n",
      "\n",
      "File already exists for site 03415000 - skipping download\n",
      "\n",
      "File already exists for site 03410210 - skipping download\n",
      "\n",
      "File already exists for site 03416000 - skipping download\n",
      "\n",
      "File already exists for site 03410500 - skipping download\n",
      "\n",
      "File already exists for site 03413200 - skipping download\n",
      "\n"
     ]
    },
    {
     "data": {
      "text/html": [
       "'217/1056 - Downloading data for site 03414000'"
      ],
      "text/latex": [
       "'217/1056 - Downloading data for site 03414000'"
      ],
      "text/markdown": [
       "'217/1056 - Downloading data for site 03414000'"
      ],
      "text/plain": [
       "[1] \"217/1056 - Downloading data for site 03414000\""
      ]
     },
     "metadata": {
      "display_id": "status",
      "update": true
     },
     "output_type": "display_data"
    },
    {
     "name": "stderr",
     "output_type": "stream",
     "text": [
      "GET: https://nwis.waterservices.usgs.gov/nwis/iv/?site=03414000&format=waterml,1.1&ParameterCd=00060&startDT=2014-01-01&endDT=2025-05-08\n",
      "\n",
      "Warning message in doTryCatch(return(expr), name, parentenv, handler):\n",
      "\"No data available for site 03414000\"\n",
      "File already exists for site 03407500 - skipping download\n",
      "\n",
      "File already exists for site 03305000 - skipping download\n",
      "\n",
      "File already exists for site 03285000 - skipping download\n",
      "\n",
      "File already exists for site 03284500 - skipping download\n",
      "\n",
      "File already exists for site 03400785 - skipping download\n",
      "\n"
     ]
    },
    {
     "data": {
      "text/html": [
       "'223/1056 - Downloading data for site 03400798'"
      ],
      "text/latex": [
       "'223/1056 - Downloading data for site 03400798'"
      ],
      "text/markdown": [
       "'223/1056 - Downloading data for site 03400798'"
      ],
      "text/plain": [
       "[1] \"223/1056 - Downloading data for site 03400798\""
      ]
     },
     "metadata": {
      "display_id": "status",
      "update": true
     },
     "output_type": "display_data"
    },
    {
     "name": "stderr",
     "output_type": "stream",
     "text": [
      "GET: https://nwis.waterservices.usgs.gov/nwis/iv/?site=03400798&format=waterml,1.1&ParameterCd=00060&startDT=2014-01-01&endDT=2025-05-08\n",
      "\n",
      "Warning message in doTryCatch(return(expr), name, parentenv, handler):\n",
      "\"No data available for site 03400798\"\n",
      "File already exists for site 03400800 - skipping download\n",
      "\n",
      "File already exists for site 03400986 - skipping download\n",
      "\n",
      "File already exists for site 03400500 - skipping download\n",
      "\n",
      "File already exists for site 03277300 - skipping download\n",
      "\n",
      "File already exists for site 03208950 - skipping download\n",
      "\n",
      "File already exists for site 03280700 - skipping download\n",
      "\n"
     ]
    },
    {
     "data": {
      "text/html": [
       "'230/1056 - Downloading data for site 03209310'"
      ],
      "text/latex": [
       "'230/1056 - Downloading data for site 03209310'"
      ],
      "text/markdown": [
       "'230/1056 - Downloading data for site 03209310'"
      ],
      "text/plain": [
       "[1] \"230/1056 - Downloading data for site 03209310\""
      ]
     },
     "metadata": {
      "display_id": "status",
      "update": true
     },
     "output_type": "display_data"
    },
    {
     "name": "stderr",
     "output_type": "stream",
     "text": [
      "GET: https://nwis.waterservices.usgs.gov/nwis/iv/?site=03209310&format=waterml,1.1&ParameterCd=00060&startDT=2014-01-01&endDT=2025-05-08\n",
      "\n",
      "Warning message in doTryCatch(return(expr), name, parentenv, handler):\n",
      "\"No data available for site 03209310\"\n"
     ]
    },
    {
     "data": {
      "text/html": [
       "'231/1056 - Downloading data for site 371016082381001'"
      ],
      "text/latex": [
       "'231/1056 - Downloading data for site 371016082381001'"
      ],
      "text/markdown": [
       "'231/1056 - Downloading data for site 371016082381001'"
      ],
      "text/plain": [
       "[1] \"231/1056 - Downloading data for site 371016082381001\""
      ]
     },
     "metadata": {
      "display_id": "status",
      "update": true
     },
     "output_type": "display_data"
    },
    {
     "name": "stderr",
     "output_type": "stream",
     "text": [
      "GET: https://nwis.waterservices.usgs.gov/nwis/iv/?site=371016082381001&format=waterml,1.1&ParameterCd=00060&startDT=2014-01-01&endDT=2025-05-08\n",
      "\n",
      "Warning message in doTryCatch(return(expr), name, parentenv, handler):\n",
      "\"No data available for site 371016082381001\"\n",
      "File already exists for site 03402900 - skipping download\n",
      "\n",
      "File already exists for site 03404500 - skipping download\n",
      "\n",
      "File already exists for site 03401000 - skipping download\n",
      "\n"
     ]
    },
    {
     "data": {
      "text/html": [
       "'235/1056 - Downloading data for site 03403500'"
      ],
      "text/latex": [
       "'235/1056 - Downloading data for site 03403500'"
      ],
      "text/markdown": [
       "'235/1056 - Downloading data for site 03403500'"
      ],
      "text/plain": [
       "[1] \"235/1056 - Downloading data for site 03403500\""
      ]
     },
     "metadata": {
      "display_id": "status",
      "update": true
     },
     "output_type": "display_data"
    },
    {
     "name": "stderr",
     "output_type": "stream",
     "text": [
      "GET: https://nwis.waterservices.usgs.gov/nwis/iv/?site=03403500&format=waterml,1.1&ParameterCd=00060&startDT=2014-01-01&endDT=2025-05-08\n",
      "\n",
      "Warning message in doTryCatch(return(expr), name, parentenv, handler):\n",
      "\"No data available for site 03403500\"\n",
      "File already exists for site 03404900 - skipping download\n",
      "\n"
     ]
    },
    {
     "data": {
      "text/html": [
       "'237/1056 - Downloading data for site 03404820'"
      ],
      "text/latex": [
       "'237/1056 - Downloading data for site 03404820'"
      ],
      "text/markdown": [
       "'237/1056 - Downloading data for site 03404820'"
      ],
      "text/plain": [
       "[1] \"237/1056 - Downloading data for site 03404820\""
      ]
     },
     "metadata": {
      "display_id": "status",
      "update": true
     },
     "output_type": "display_data"
    },
    {
     "name": "stderr",
     "output_type": "stream",
     "text": [
      "GET: https://nwis.waterservices.usgs.gov/nwis/iv/?site=03404820&format=waterml,1.1&ParameterCd=00060&startDT=2014-01-01&endDT=2025-05-08\n",
      "\n",
      "Warning message in doTryCatch(return(expr), name, parentenv, handler):\n",
      "\"No data available for site 03404820\"\n"
     ]
    },
    {
     "data": {
      "text/html": [
       "'238/1056 - Downloading data for site 03280612'"
      ],
      "text/latex": [
       "'238/1056 - Downloading data for site 03280612'"
      ],
      "text/markdown": [
       "'238/1056 - Downloading data for site 03280612'"
      ],
      "text/plain": [
       "[1] \"238/1056 - Downloading data for site 03280612\""
      ]
     },
     "metadata": {
      "display_id": "status",
      "update": true
     },
     "output_type": "display_data"
    },
    {
     "name": "stderr",
     "output_type": "stream",
     "text": [
      "GET: https://nwis.waterservices.usgs.gov/nwis/iv/?site=03280612&format=waterml,1.1&ParameterCd=00060&startDT=2014-01-01&endDT=2025-05-08\n",
      "\n",
      "Warning message in doTryCatch(return(expr), name, parentenv, handler):\n",
      "\"No data available for site 03280612\"\n",
      "File already exists for site 03281100 - skipping download\n",
      "\n",
      "File already exists for site 03406500 - skipping download\n",
      "\n"
     ]
    },
    {
     "data": {
      "text/html": [
       "'241/1056 - Downloading data for site 03280790'"
      ],
      "text/latex": [
       "'241/1056 - Downloading data for site 03280790'"
      ],
      "text/markdown": [
       "'241/1056 - Downloading data for site 03280790'"
      ],
      "text/plain": [
       "[1] \"241/1056 - Downloading data for site 03280790\""
      ]
     },
     "metadata": {
      "display_id": "status",
      "update": true
     },
     "output_type": "display_data"
    },
    {
     "name": "stderr",
     "output_type": "stream",
     "text": [
      "GET: https://nwis.waterservices.usgs.gov/nwis/iv/?site=03280790&format=waterml,1.1&ParameterCd=00060&startDT=2014-01-01&endDT=2025-05-08\n",
      "\n",
      "Warning message in doTryCatch(return(expr), name, parentenv, handler):\n",
      "\"No data available for site 03280790\"\n"
     ]
    },
    {
     "data": {
      "text/html": [
       "'242/1056 - Downloading data for site 03209325'"
      ],
      "text/latex": [
       "'242/1056 - Downloading data for site 03209325'"
      ],
      "text/markdown": [
       "'242/1056 - Downloading data for site 03209325'"
      ],
      "text/plain": [
       "[1] \"242/1056 - Downloading data for site 03209325\""
      ]
     },
     "metadata": {
      "display_id": "status",
      "update": true
     },
     "output_type": "display_data"
    },
    {
     "name": "stderr",
     "output_type": "stream",
     "text": [
      "GET: https://nwis.waterservices.usgs.gov/nwis/iv/?site=03209325&format=waterml,1.1&ParameterCd=00060&startDT=2014-01-01&endDT=2025-05-08\n",
      "\n",
      "Warning message in doTryCatch(return(expr), name, parentenv, handler):\n",
      "\"No data available for site 03209325\"\n"
     ]
    },
    {
     "data": {
      "text/html": [
       "'243/1056 - Downloading data for site 371144082383401'"
      ],
      "text/latex": [
       "'243/1056 - Downloading data for site 371144082383401'"
      ],
      "text/markdown": [
       "'243/1056 - Downloading data for site 371144082383401'"
      ],
      "text/plain": [
       "[1] \"243/1056 - Downloading data for site 371144082383401\""
      ]
     },
     "metadata": {
      "display_id": "status",
      "update": true
     },
     "output_type": "display_data"
    },
    {
     "name": "stderr",
     "output_type": "stream",
     "text": [
      "GET: https://nwis.waterservices.usgs.gov/nwis/iv/?site=371144082383401&format=waterml,1.1&ParameterCd=00060&startDT=2014-01-01&endDT=2025-05-08\n",
      "\n",
      "Warning message in doTryCatch(return(expr), name, parentenv, handler):\n",
      "\"No data available for site 371144082383401\"\n"
     ]
    },
    {
     "data": {
      "text/html": [
       "'244/1056 - Downloading data for site 03277446'"
      ],
      "text/latex": [
       "'244/1056 - Downloading data for site 03277446'"
      ],
      "text/markdown": [
       "'244/1056 - Downloading data for site 03277446'"
      ],
      "text/plain": [
       "[1] \"244/1056 - Downloading data for site 03277446\""
      ]
     },
     "metadata": {
      "display_id": "status",
      "update": true
     },
     "output_type": "display_data"
    },
    {
     "name": "stderr",
     "output_type": "stream",
     "text": [
      "GET: https://nwis.waterservices.usgs.gov/nwis/iv/?site=03277446&format=waterml,1.1&ParameterCd=00060&startDT=2014-01-01&endDT=2025-05-08\n",
      "\n",
      "Warning message in doTryCatch(return(expr), name, parentenv, handler):\n",
      "\"No data available for site 03277446\"\n"
     ]
    },
    {
     "data": {
      "text/html": [
       "'245/1056 - Downloading data for site 03277450'"
      ],
      "text/latex": [
       "'245/1056 - Downloading data for site 03277450'"
      ],
      "text/markdown": [
       "'245/1056 - Downloading data for site 03277450'"
      ],
      "text/plain": [
       "[1] \"245/1056 - Downloading data for site 03277450\""
      ]
     },
     "metadata": {
      "display_id": "status",
      "update": true
     },
     "output_type": "display_data"
    },
    {
     "name": "stderr",
     "output_type": "stream",
     "text": [
      "GET: https://nwis.waterservices.usgs.gov/nwis/iv/?site=03277450&format=waterml,1.1&ParameterCd=00060&startDT=2014-01-01&endDT=2025-05-08\n",
      "\n",
      "Warning message in doTryCatch(return(expr), name, parentenv, handler):\n",
      "\"No data available for site 03277450\"\n",
      "File already exists for site 03277500 - skipping download\n",
      "\n",
      "File already exists for site 03209500 - skipping download\n",
      "\n",
      "File already exists for site 03210000 - skipping download\n",
      "\n",
      "File already exists for site 03209800 - skipping download\n",
      "\n",
      "File already exists for site 03248300 - skipping download\n",
      "\n"
     ]
    },
    {
     "data": {
      "text/html": [
       "'251/1056 - Downloading data for site 03211500'"
      ],
      "text/latex": [
       "'251/1056 - Downloading data for site 03211500'"
      ],
      "text/markdown": [
       "'251/1056 - Downloading data for site 03211500'"
      ],
      "text/plain": [
       "[1] \"251/1056 - Downloading data for site 03211500\""
      ]
     },
     "metadata": {
      "display_id": "status",
      "update": true
     },
     "output_type": "display_data"
    },
    {
     "name": "stderr",
     "output_type": "stream",
     "text": [
      "GET: https://nwis.waterservices.usgs.gov/nwis/iv/?site=03211500&format=waterml,1.1&ParameterCd=00060&startDT=2014-01-01&endDT=2025-05-08\n",
      "\n",
      "Warning message in doTryCatch(return(expr), name, parentenv, handler):\n",
      "\"No data available for site 03211500\"\n",
      "File already exists for site 03207800 - skipping download\n",
      "\n"
     ]
    },
    {
     "data": {
      "text/html": [
       "'253/1056 - Downloading data for site 0321357157'"
      ],
      "text/latex": [
       "'253/1056 - Downloading data for site 0321357157'"
      ],
      "text/markdown": [
       "'253/1056 - Downloading data for site 0321357157'"
      ],
      "text/plain": [
       "[1] \"253/1056 - Downloading data for site 0321357157\""
      ]
     },
     "metadata": {
      "display_id": "status",
      "update": true
     },
     "output_type": "display_data"
    },
    {
     "name": "stderr",
     "output_type": "stream",
     "text": [
      "GET: https://nwis.waterservices.usgs.gov/nwis/iv/?site=0321357157&format=waterml,1.1&ParameterCd=00060&startDT=2014-01-01&endDT=2025-05-08\n",
      "\n",
      "Warning message in doTryCatch(return(expr), name, parentenv, handler):\n",
      "\"No data available for site 0321357157\"\n",
      "File already exists for site 03212980 - skipping download\n",
      "\n"
     ]
    },
    {
     "data": {
      "text/html": [
       "'255/1056 - Downloading data for site 03208000'"
      ],
      "text/latex": [
       "'255/1056 - Downloading data for site 03208000'"
      ],
      "text/markdown": [
       "'255/1056 - Downloading data for site 03208000'"
      ],
      "text/plain": [
       "[1] \"255/1056 - Downloading data for site 03208000\""
      ]
     },
     "metadata": {
      "display_id": "status",
      "update": true
     },
     "output_type": "display_data"
    },
    {
     "name": "stderr",
     "output_type": "stream",
     "text": [
      "GET: https://nwis.waterservices.usgs.gov/nwis/iv/?site=03208000&format=waterml,1.1&ParameterCd=00060&startDT=2014-01-01&endDT=2025-05-08\n",
      "\n",
      "Warning message in doTryCatch(return(expr), name, parentenv, handler):\n",
      "\"No data available for site 03208000\"\n",
      "File already exists for site 03207965 - skipping download\n",
      "\n",
      "File already exists for site 03213500 - skipping download\n",
      "\n",
      "File already exists for site 03213000 - skipping download\n",
      "\n",
      "File already exists for site 03202928 - skipping download\n",
      "\n",
      "File already exists for site 03213700 - skipping download\n",
      "\n",
      "File already exists for site 03203000 - skipping download\n",
      "\n"
     ]
    },
    {
     "data": {
      "text/html": [
       "'262/1056 - Downloading data for site 03280800'"
      ],
      "text/latex": [
       "'262/1056 - Downloading data for site 03280800'"
      ],
      "text/markdown": [
       "'262/1056 - Downloading data for site 03280800'"
      ],
      "text/plain": [
       "[1] \"262/1056 - Downloading data for site 03280800\""
      ]
     },
     "metadata": {
      "display_id": "status",
      "update": true
     },
     "output_type": "display_data"
    },
    {
     "name": "stderr",
     "output_type": "stream",
     "text": [
      "GET: https://nwis.waterservices.usgs.gov/nwis/iv/?site=03280800&format=waterml,1.1&ParameterCd=00060&startDT=2014-01-01&endDT=2025-05-08\n",
      "\n",
      "Warning message in doTryCatch(return(expr), name, parentenv, handler):\n",
      "\"No data available for site 03280800\"\n",
      "File already exists for site 03280902 - skipping download\n",
      "\n",
      "File already exists for site 03281500 - skipping download\n",
      "\n",
      "File already exists for site 03282040 - skipping download\n",
      "\n",
      "File already exists for site 03280000 - skipping download\n",
      "\n",
      "File already exists for site 03282000 - skipping download\n",
      "\n",
      "File already exists for site 03281000 - skipping download\n",
      "\n",
      "File already exists for site 03282060 - skipping download\n",
      "\n",
      "File already exists for site 03282120 - skipping download\n",
      "\n",
      "File already exists for site 03282290 - skipping download\n",
      "\n"
     ]
    },
    {
     "data": {
      "text/html": [
       "'272/1056 - Downloading data for site 03286000'"
      ],
      "text/latex": [
       "'272/1056 - Downloading data for site 03286000'"
      ],
      "text/markdown": [
       "'272/1056 - Downloading data for site 03286000'"
      ],
      "text/plain": [
       "[1] \"272/1056 - Downloading data for site 03286000\""
      ]
     },
     "metadata": {
      "display_id": "status",
      "update": true
     },
     "output_type": "display_data"
    },
    {
     "name": "stderr",
     "output_type": "stream",
     "text": [
      "GET: https://nwis.waterservices.usgs.gov/nwis/iv/?site=03286000&format=waterml,1.1&ParameterCd=00060&startDT=2014-01-01&endDT=2025-05-08\n",
      "\n",
      "Warning message in doTryCatch(return(expr), name, parentenv, handler):\n",
      "\"No data available for site 03286000\"\n",
      "File already exists for site 03286200 - skipping download\n",
      "\n",
      "File already exists for site 03286500 - skipping download\n",
      "\n",
      "File already exists for site 03284230 - skipping download\n",
      "\n",
      "File already exists for site 03287000 - skipping download\n",
      "\n",
      "File already exists for site 03284533 - skipping download\n",
      "\n",
      "File already exists for site 03284552 - skipping download\n",
      "\n",
      "File already exists for site 03284525 - skipping download\n",
      "\n",
      "File already exists for site 03295400 - skipping download\n",
      "\n",
      "File already exists for site 03287590 - skipping download\n",
      "\n",
      "File already exists for site 03282500 - skipping download\n",
      "\n",
      "File already exists for site 03283500 - skipping download\n",
      "\n",
      "File already exists for site 03284000 - skipping download\n",
      "\n",
      "File already exists for site 03250190 - skipping download\n",
      "\n"
     ]
    },
    {
     "data": {
      "text/html": [
       "'286/1056 - Downloading data for site 03249500'"
      ],
      "text/latex": [
       "'286/1056 - Downloading data for site 03249500'"
      ],
      "text/markdown": [
       "'286/1056 - Downloading data for site 03249500'"
      ],
      "text/plain": [
       "[1] \"286/1056 - Downloading data for site 03249500\""
      ]
     },
     "metadata": {
      "display_id": "status",
      "update": true
     },
     "output_type": "display_data"
    },
    {
     "name": "stderr",
     "output_type": "stream",
     "text": [
      "GET: https://nwis.waterservices.usgs.gov/nwis/iv/?site=03249500&format=waterml,1.1&ParameterCd=00060&startDT=2014-01-01&endDT=2025-05-08\n",
      "\n",
      "Warning message in doTryCatch(return(expr), name, parentenv, handler):\n",
      "\"No data available for site 03249500\"\n"
     ]
    },
    {
     "data": {
      "text/html": [
       "'287/1056 - Downloading data for site 03249498'"
      ],
      "text/latex": [
       "'287/1056 - Downloading data for site 03249498'"
      ],
      "text/markdown": [
       "'287/1056 - Downloading data for site 03249498'"
      ],
      "text/plain": [
       "[1] \"287/1056 - Downloading data for site 03249498\""
      ]
     },
     "metadata": {
      "display_id": "status",
      "update": true
     },
     "output_type": "display_data"
    },
    {
     "name": "stderr",
     "output_type": "stream",
     "text": [
      "GET: https://nwis.waterservices.usgs.gov/nwis/iv/?site=03249498&format=waterml,1.1&ParameterCd=00060&startDT=2014-01-01&endDT=2025-05-08\n",
      "\n",
      "Warning message in doTryCatch(return(expr), name, parentenv, handler):\n",
      "\"No data available for site 03249498\"\n"
     ]
    },
    {
     "data": {
      "text/html": [
       "'288/1056 - Downloading data for site 03249505'"
      ],
      "text/latex": [
       "'288/1056 - Downloading data for site 03249505'"
      ],
      "text/markdown": [
       "'288/1056 - Downloading data for site 03249505'"
      ],
      "text/plain": [
       "[1] \"288/1056 - Downloading data for site 03249505\""
      ]
     },
     "metadata": {
      "display_id": "status",
      "update": true
     },
     "output_type": "display_data"
    },
    {
     "name": "stderr",
     "output_type": "stream",
     "text": [
      "GET: https://nwis.waterservices.usgs.gov/nwis/iv/?site=03249505&format=waterml,1.1&ParameterCd=00060&startDT=2014-01-01&endDT=2025-05-08\n",
      "\n",
      "Warning message in doTryCatch(return(expr), name, parentenv, handler):\n",
      "\"No data available for site 03249505\"\n",
      "File already exists for site 03251980 - skipping download\n",
      "\n",
      "File already exists for site 03250100 - skipping download\n",
      "\n",
      "File already exists for site 03251900 - skipping download\n",
      "\n",
      "File already exists for site 03214500 - skipping download\n",
      "\n",
      "File already exists for site 03203600 - skipping download\n",
      "\n"
     ]
    },
    {
     "data": {
      "text/html": [
       "'294/1056 - Downloading data for site 03203647'"
      ],
      "text/latex": [
       "'294/1056 - Downloading data for site 03203647'"
      ],
      "text/markdown": [
       "'294/1056 - Downloading data for site 03203647'"
      ],
      "text/plain": [
       "[1] \"294/1056 - Downloading data for site 03203647\""
      ]
     },
     "metadata": {
      "display_id": "status",
      "update": true
     },
     "output_type": "display_data"
    },
    {
     "name": "stderr",
     "output_type": "stream",
     "text": [
      "GET: https://nwis.waterservices.usgs.gov/nwis/iv/?site=03203647&format=waterml,1.1&ParameterCd=00060&startDT=2014-01-01&endDT=2025-05-08\n",
      "\n",
      "Warning message in doTryCatch(return(expr), name, parentenv, handler):\n",
      "\"No data available for site 03203647\"\n",
      "File already exists for site 03206600 - skipping download\n",
      "\n",
      "File already exists for site 03199000 - skipping download\n",
      "\n"
     ]
    },
    {
     "data": {
      "text/html": [
       "'297/1056 - Downloading data for site 03204250'"
      ],
      "text/latex": [
       "'297/1056 - Downloading data for site 03204250'"
      ],
      "text/markdown": [
       "'297/1056 - Downloading data for site 03204250'"
      ],
      "text/plain": [
       "[1] \"297/1056 - Downloading data for site 03204250\""
      ]
     },
     "metadata": {
      "display_id": "status",
      "update": true
     },
     "output_type": "display_data"
    },
    {
     "name": "stderr",
     "output_type": "stream",
     "text": [
      "GET: https://nwis.waterservices.usgs.gov/nwis/iv/?site=03204250&format=waterml,1.1&ParameterCd=00060&startDT=2014-01-01&endDT=2025-05-08\n",
      "\n",
      "Warning message in doTryCatch(return(expr), name, parentenv, handler):\n",
      "\"No data available for site 03204250\"\n"
     ]
    },
    {
     "data": {
      "text/html": [
       "'298/1056 - Downloading data for site 03204000'"
      ],
      "text/latex": [
       "'298/1056 - Downloading data for site 03204000'"
      ],
      "text/markdown": [
       "'298/1056 - Downloading data for site 03204000'"
      ],
      "text/plain": [
       "[1] \"298/1056 - Downloading data for site 03204000\""
      ]
     },
     "metadata": {
      "display_id": "status",
      "update": true
     },
     "output_type": "display_data"
    },
    {
     "name": "stderr",
     "output_type": "stream",
     "text": [
      "GET: https://nwis.waterservices.usgs.gov/nwis/iv/?site=03204000&format=waterml,1.1&ParameterCd=00060&startDT=2014-01-01&endDT=2025-05-08\n",
      "\n",
      "Warning message in doTryCatch(return(expr), name, parentenv, handler):\n",
      "\"No data available for site 03204000\"\n",
      "File already exists for site 03204346 - skipping download\n",
      "\n"
     ]
    },
    {
     "data": {
      "text/html": [
       "'300/1056 - Downloading data for site 03204294'"
      ],
      "text/latex": [
       "'300/1056 - Downloading data for site 03204294'"
      ],
      "text/markdown": [
       "'300/1056 - Downloading data for site 03204294'"
      ],
      "text/plain": [
       "[1] \"300/1056 - Downloading data for site 03204294\""
      ]
     },
     "metadata": {
      "display_id": "status",
      "update": true
     },
     "output_type": "display_data"
    },
    {
     "name": "stderr",
     "output_type": "stream",
     "text": [
      "GET: https://nwis.waterservices.usgs.gov/nwis/iv/?site=03204294&format=waterml,1.1&ParameterCd=00060&startDT=2014-01-01&endDT=2025-05-08\n",
      "\n",
      "Warning message in doTryCatch(return(expr), name, parentenv, handler):\n",
      "\"No data available for site 03204294\"\n",
      "File already exists for site 03200500 - skipping download\n",
      "\n",
      "File already exists for site 03212500 - skipping download\n",
      "\n",
      "File already exists for site 03215410 - skipping download\n",
      "\n"
     ]
    },
    {
     "data": {
      "text/html": [
       "'304/1056 - Downloading data for site 03215000'"
      ],
      "text/latex": [
       "'304/1056 - Downloading data for site 03215000'"
      ],
      "text/markdown": [
       "'304/1056 - Downloading data for site 03215000'"
      ],
      "text/plain": [
       "[1] \"304/1056 - Downloading data for site 03215000\""
      ]
     },
     "metadata": {
      "display_id": "status",
      "update": true
     },
     "output_type": "display_data"
    },
    {
     "name": "stderr",
     "output_type": "stream",
     "text": [
      "GET: https://nwis.waterservices.usgs.gov/nwis/iv/?site=03215000&format=waterml,1.1&ParameterCd=00060&startDT=2014-01-01&endDT=2025-05-08\n",
      "\n",
      "Warning message in doTryCatch(return(expr), name, parentenv, handler):\n",
      "\"No data available for site 03215000\"\n"
     ]
    },
    {
     "data": {
      "text/html": [
       "'305/1056 - Downloading data for site 03207020'"
      ],
      "text/latex": [
       "'305/1056 - Downloading data for site 03207020'"
      ],
      "text/markdown": [
       "'305/1056 - Downloading data for site 03207020'"
      ],
      "text/plain": [
       "[1] \"305/1056 - Downloading data for site 03207020\""
      ]
     },
     "metadata": {
      "display_id": "status",
      "update": true
     },
     "output_type": "display_data"
    },
    {
     "name": "stderr",
     "output_type": "stream",
     "text": [
      "GET: https://nwis.waterservices.usgs.gov/nwis/iv/?site=03207020&format=waterml,1.1&ParameterCd=00060&startDT=2014-01-01&endDT=2025-05-08\n",
      "\n",
      "Warning message in doTryCatch(return(expr), name, parentenv, handler):\n",
      "\"No data available for site 03207020\"\n"
     ]
    },
    {
     "data": {
      "text/html": [
       "'306/1056 - Downloading data for site 03216300'"
      ],
      "text/latex": [
       "'306/1056 - Downloading data for site 03216300'"
      ],
      "text/markdown": [
       "'306/1056 - Downloading data for site 03216300'"
      ],
      "text/plain": [
       "[1] \"306/1056 - Downloading data for site 03216300\""
      ]
     },
     "metadata": {
      "display_id": "status",
      "update": true
     },
     "output_type": "display_data"
    },
    {
     "name": "stderr",
     "output_type": "stream",
     "text": [
      "GET: https://nwis.waterservices.usgs.gov/nwis/iv/?site=03216300&format=waterml,1.1&ParameterCd=00060&startDT=2014-01-01&endDT=2025-05-08\n",
      "\n",
      "Warning message in doTryCatch(return(expr), name, parentenv, handler):\n",
      "\"No data available for site 03216300\"\n",
      "File already exists for site 03216350 - skipping download\n",
      "\n",
      "File already exists for site 03216777 - skipping download\n",
      "\n",
      "File already exists for site 03207061 - skipping download\n",
      "\n",
      "File already exists for site 03216500 - skipping download\n",
      "\n"
     ]
    },
    {
     "data": {
      "text/html": [
       "'311/1056 - Downloading data for site 03206000'"
      ],
      "text/latex": [
       "'311/1056 - Downloading data for site 03206000'"
      ],
      "text/markdown": [
       "'311/1056 - Downloading data for site 03206000'"
      ],
      "text/plain": [
       "[1] \"311/1056 - Downloading data for site 03206000\""
      ]
     },
     "metadata": {
      "display_id": "status",
      "update": true
     },
     "output_type": "display_data"
    },
    {
     "name": "stderr",
     "output_type": "stream",
     "text": [
      "GET: https://nwis.waterservices.usgs.gov/nwis/iv/?site=03206000&format=waterml,1.1&ParameterCd=00060&startDT=2014-01-01&endDT=2025-05-08\n",
      "\n",
      "Warning message in doTryCatch(return(expr), name, parentenv, handler):\n",
      "\"No data available for site 03206000\"\n",
      "File already exists for site 03611260 - skipping download\n",
      "\n"
     ]
    },
    {
     "data": {
      "text/html": [
       "'313/1056 - Downloading data for site 03611000'"
      ],
      "text/latex": [
       "'313/1056 - Downloading data for site 03611000'"
      ],
      "text/markdown": [
       "'313/1056 - Downloading data for site 03611000'"
      ],
      "text/plain": [
       "[1] \"313/1056 - Downloading data for site 03611000\""
      ]
     },
     "metadata": {
      "display_id": "status",
      "update": true
     },
     "output_type": "display_data"
    },
    {
     "name": "stderr",
     "output_type": "stream",
     "text": [
      "GET: https://nwis.waterservices.usgs.gov/nwis/iv/?site=03611000&format=waterml,1.1&ParameterCd=00060&startDT=2014-01-01&endDT=2025-05-08\n",
      "\n",
      "Warning message in doTryCatch(return(expr), name, parentenv, handler):\n",
      "\"No data available for site 03611000\"\n",
      "File already exists for site 03399800 - skipping download\n",
      "\n",
      "File already exists for site 03383000 - skipping download\n",
      "\n"
     ]
    },
    {
     "data": {
      "text/html": [
       "'316/1056 - Downloading data for site 03384500'"
      ],
      "text/latex": [
       "'316/1056 - Downloading data for site 03384500'"
      ],
      "text/markdown": [
       "'316/1056 - Downloading data for site 03384500'"
      ],
      "text/plain": [
       "[1] \"316/1056 - Downloading data for site 03384500\""
      ]
     },
     "metadata": {
      "display_id": "status",
      "update": true
     },
     "output_type": "display_data"
    },
    {
     "name": "stderr",
     "output_type": "stream",
     "text": [
      "GET: https://nwis.waterservices.usgs.gov/nwis/iv/?site=03384500&format=waterml,1.1&ParameterCd=00060&startDT=2014-01-01&endDT=2025-05-08\n",
      "\n",
      "Warning message in doTryCatch(return(expr), name, parentenv, handler):\n",
      "\"No data available for site 03384500\"\n",
      "File already exists for site 03384100 - skipping download\n",
      "\n",
      "File already exists for site 03384450 - skipping download\n",
      "\n",
      "File already exists for site 03382100 - skipping download\n",
      "\n"
     ]
    },
    {
     "data": {
      "text/html": [
       "'320/1056 - Downloading data for site 03437370'"
      ],
      "text/latex": [
       "'320/1056 - Downloading data for site 03437370'"
      ],
      "text/markdown": [
       "'320/1056 - Downloading data for site 03437370'"
      ],
      "text/plain": [
       "[1] \"320/1056 - Downloading data for site 03437370\""
      ]
     },
     "metadata": {
      "display_id": "status",
      "update": true
     },
     "output_type": "display_data"
    },
    {
     "name": "stderr",
     "output_type": "stream",
     "text": [
      "GET: https://nwis.waterservices.usgs.gov/nwis/iv/?site=03437370&format=waterml,1.1&ParameterCd=00060&startDT=2014-01-01&endDT=2025-05-08\n",
      "\n",
      "Warning message in doTryCatch(return(expr), name, parentenv, handler):\n",
      "\"No data available for site 03437370\"\n",
      "File already exists for site 03314500 - skipping download\n",
      "\n",
      "File already exists for site 03320500 - skipping download\n",
      "\n"
     ]
    },
    {
     "data": {
      "text/html": [
       "'323/1056 - Downloading data for site 03315500'"
      ],
      "text/latex": [
       "'323/1056 - Downloading data for site 03315500'"
      ],
      "text/markdown": [
       "'323/1056 - Downloading data for site 03315500'"
      ],
      "text/plain": [
       "[1] \"323/1056 - Downloading data for site 03315500\""
      ]
     },
     "metadata": {
      "display_id": "status",
      "update": true
     },
     "output_type": "display_data"
    },
    {
     "name": "stderr",
     "output_type": "stream",
     "text": [
      "GET: https://nwis.waterservices.usgs.gov/nwis/iv/?site=03315500&format=waterml,1.1&ParameterCd=00060&startDT=2014-01-01&endDT=2025-05-08\n",
      "\n",
      "Warning message in doTryCatch(return(expr), name, parentenv, handler):\n",
      "\"No data available for site 03315500\"\n"
     ]
    },
    {
     "data": {
      "text/html": [
       "'324/1056 - Downloading data for site 03315850'"
      ],
      "text/latex": [
       "'324/1056 - Downloading data for site 03315850'"
      ],
      "text/markdown": [
       "'324/1056 - Downloading data for site 03315850'"
      ],
      "text/plain": [
       "[1] \"324/1056 - Downloading data for site 03315850\""
      ]
     },
     "metadata": {
      "display_id": "status",
      "update": true
     },
     "output_type": "display_data"
    },
    {
     "name": "stderr",
     "output_type": "stream",
     "text": [
      "GET: https://nwis.waterservices.usgs.gov/nwis/iv/?site=03315850&format=waterml,1.1&ParameterCd=00060&startDT=2014-01-01&endDT=2025-05-08\n",
      "\n",
      "Warning message in doTryCatch(return(expr), name, parentenv, handler):\n",
      "\"No data available for site 03315850\"\n",
      "File already exists for site 03316500 - skipping download\n",
      "\n"
     ]
    },
    {
     "data": {
      "text/html": [
       "'326/1056 - Downloading data for site 03316645'"
      ],
      "text/latex": [
       "'326/1056 - Downloading data for site 03316645'"
      ],
      "text/markdown": [
       "'326/1056 - Downloading data for site 03316645'"
      ],
      "text/plain": [
       "[1] \"326/1056 - Downloading data for site 03316645\""
      ]
     },
     "metadata": {
      "display_id": "status",
      "update": true
     },
     "output_type": "display_data"
    },
    {
     "name": "stderr",
     "output_type": "stream",
     "text": [
      "GET: https://nwis.waterservices.usgs.gov/nwis/iv/?site=03316645&format=waterml,1.1&ParameterCd=00060&startDT=2014-01-01&endDT=2025-05-08\n",
      "\n",
      "Warning message in doTryCatch(return(expr), name, parentenv, handler):\n",
      "\"No data available for site 03316645\"\n",
      "File already exists for site 03319600 - skipping download\n",
      "\n",
      "File already exists for site 03318800 - skipping download\n",
      "\n"
     ]
    },
    {
     "data": {
      "text/html": [
       "'329/1056 - Downloading data for site 03319885'"
      ],
      "text/latex": [
       "'329/1056 - Downloading data for site 03319885'"
      ],
      "text/markdown": [
       "'329/1056 - Downloading data for site 03319885'"
      ],
      "text/plain": [
       "[1] \"329/1056 - Downloading data for site 03319885\""
      ]
     },
     "metadata": {
      "display_id": "status",
      "update": true
     },
     "output_type": "display_data"
    },
    {
     "name": "stderr",
     "output_type": "stream",
     "text": [
      "GET: https://nwis.waterservices.usgs.gov/nwis/iv/?site=03319885&format=waterml,1.1&ParameterCd=00060&startDT=2014-01-01&endDT=2025-05-08\n",
      "\n",
      "Warning message in doTryCatch(return(expr), name, parentenv, handler):\n",
      "\"No data available for site 03319885\"\n",
      "File already exists for site 03309000 - skipping download\n",
      "\n"
     ]
    },
    {
     "data": {
      "text/html": [
       "'331/1056 - Downloading data for site 03311513'"
      ],
      "text/latex": [
       "'331/1056 - Downloading data for site 03311513'"
      ],
      "text/markdown": [
       "'331/1056 - Downloading data for site 03311513'"
      ],
      "text/plain": [
       "[1] \"331/1056 - Downloading data for site 03311513\""
      ]
     },
     "metadata": {
      "display_id": "status",
      "update": true
     },
     "output_type": "display_data"
    },
    {
     "name": "stderr",
     "output_type": "stream",
     "text": [
      "GET: https://nwis.waterservices.usgs.gov/nwis/iv/?site=03311513&format=waterml,1.1&ParameterCd=00060&startDT=2014-01-01&endDT=2025-05-08\n",
      "\n",
      "Warning message in doTryCatch(return(expr), name, parentenv, handler):\n",
      "\"No data available for site 03311513\"\n"
     ]
    },
    {
     "data": {
      "text/html": [
       "'332/1056 - Downloading data for site 03306000'"
      ],
      "text/latex": [
       "'332/1056 - Downloading data for site 03306000'"
      ],
      "text/markdown": [
       "'332/1056 - Downloading data for site 03306000'"
      ],
      "text/plain": [
       "[1] \"332/1056 - Downloading data for site 03306000\""
      ]
     },
     "metadata": {
      "display_id": "status",
      "update": true
     },
     "output_type": "display_data"
    },
    {
     "name": "stderr",
     "output_type": "stream",
     "text": [
      "GET: https://nwis.waterservices.usgs.gov/nwis/iv/?site=03306000&format=waterml,1.1&ParameterCd=00060&startDT=2014-01-01&endDT=2025-05-08\n",
      "\n",
      "Warning message in doTryCatch(return(expr), name, parentenv, handler):\n",
      "\"No data available for site 03306000\"\n"
     ]
    },
    {
     "data": {
      "text/html": [
       "'333/1056 - Downloading data for site 03305990'"
      ],
      "text/latex": [
       "'333/1056 - Downloading data for site 03305990'"
      ],
      "text/markdown": [
       "'333/1056 - Downloading data for site 03305990'"
      ],
      "text/plain": [
       "[1] \"333/1056 - Downloading data for site 03305990\""
      ]
     },
     "metadata": {
      "display_id": "status",
      "update": true
     },
     "output_type": "display_data"
    },
    {
     "name": "stderr",
     "output_type": "stream",
     "text": [
      "GET: https://nwis.waterservices.usgs.gov/nwis/iv/?site=03305990&format=waterml,1.1&ParameterCd=00060&startDT=2014-01-01&endDT=2025-05-08\n",
      "\n",
      "Warning message in doTryCatch(return(expr), name, parentenv, handler):\n",
      "\"No data available for site 03305990\"\n"
     ]
    },
    {
     "data": {
      "text/html": [
       "'334/1056 - Downloading data for site 03306500'"
      ],
      "text/latex": [
       "'334/1056 - Downloading data for site 03306500'"
      ],
      "text/markdown": [
       "'334/1056 - Downloading data for site 03306500'"
      ],
      "text/plain": [
       "[1] \"334/1056 - Downloading data for site 03306500\""
      ]
     },
     "metadata": {
      "display_id": "status",
      "update": true
     },
     "output_type": "display_data"
    },
    {
     "name": "stderr",
     "output_type": "stream",
     "text": [
      "GET: https://nwis.waterservices.usgs.gov/nwis/iv/?site=03306500&format=waterml,1.1&ParameterCd=00060&startDT=2014-01-01&endDT=2025-05-08\n",
      "\n",
      "Warning message in doTryCatch(return(expr), name, parentenv, handler):\n",
      "\"No data available for site 03306500\"\n",
      "File already exists for site 03308500 - skipping download\n",
      "\n"
     ]
    },
    {
     "data": {
      "text/html": [
       "'336/1056 - Downloading data for site 03311000'"
      ],
      "text/latex": [
       "'336/1056 - Downloading data for site 03311000'"
      ],
      "text/markdown": [
       "'336/1056 - Downloading data for site 03311000'"
      ],
      "text/plain": [
       "[1] \"336/1056 - Downloading data for site 03311000\""
      ]
     },
     "metadata": {
      "display_id": "status",
      "update": true
     },
     "output_type": "display_data"
    },
    {
     "name": "stderr",
     "output_type": "stream",
     "text": [
      "GET: https://nwis.waterservices.usgs.gov/nwis/iv/?site=03311000&format=waterml,1.1&ParameterCd=00060&startDT=2014-01-01&endDT=2025-05-08\n",
      "\n",
      "Warning message in doTryCatch(return(expr), name, parentenv, handler):\n",
      "\"No data available for site 03311000\"\n"
     ]
    },
    {
     "data": {
      "text/html": [
       "'337/1056 - Downloading data for site 03310900'"
      ],
      "text/latex": [
       "'337/1056 - Downloading data for site 03310900'"
      ],
      "text/markdown": [
       "'337/1056 - Downloading data for site 03310900'"
      ],
      "text/plain": [
       "[1] \"337/1056 - Downloading data for site 03310900\""
      ]
     },
     "metadata": {
      "display_id": "status",
      "update": true
     },
     "output_type": "display_data"
    },
    {
     "name": "stderr",
     "output_type": "stream",
     "text": [
      "GET: https://nwis.waterservices.usgs.gov/nwis/iv/?site=03310900&format=waterml,1.1&ParameterCd=00060&startDT=2014-01-01&endDT=2025-05-08\n",
      "\n",
      "Warning message in doTryCatch(return(expr), name, parentenv, handler):\n",
      "\"No data available for site 03310900\"\n",
      "File already exists for site 03310400 - skipping download\n",
      "\n",
      "File already exists for site 03298940 - skipping download\n",
      "\n",
      "File already exists for site 03320000 - skipping download\n",
      "\n"
     ]
    },
    {
     "data": {
      "text/html": [
       "'341/1056 - Downloading data for site 03319000'"
      ],
      "text/latex": [
       "'341/1056 - Downloading data for site 03319000'"
      ],
      "text/markdown": [
       "'341/1056 - Downloading data for site 03319000'"
      ],
      "text/plain": [
       "[1] \"341/1056 - Downloading data for site 03319000\""
      ]
     },
     "metadata": {
      "display_id": "status",
      "update": true
     },
     "output_type": "display_data"
    },
    {
     "name": "stderr",
     "output_type": "stream",
     "text": [
      "GET: https://nwis.waterservices.usgs.gov/nwis/iv/?site=03319000&format=waterml,1.1&ParameterCd=00060&startDT=2014-01-01&endDT=2025-05-08\n",
      "\n",
      "Warning message in doTryCatch(return(expr), name, parentenv, handler):\n",
      "\"No data available for site 03319000\"\n",
      "File already exists for site 03321350 - skipping download\n",
      "\n"
     ]
    },
    {
     "data": {
      "text/html": [
       "'343/1056 - Downloading data for site 03318005'"
      ],
      "text/latex": [
       "'343/1056 - Downloading data for site 03318005'"
      ],
      "text/markdown": [
       "'343/1056 - Downloading data for site 03318005'"
      ],
      "text/plain": [
       "[1] \"343/1056 - Downloading data for site 03318005\""
      ]
     },
     "metadata": {
      "display_id": "status",
      "update": true
     },
     "output_type": "display_data"
    },
    {
     "name": "stderr",
     "output_type": "stream",
     "text": [
      "GET: https://nwis.waterservices.usgs.gov/nwis/iv/?site=03318005&format=waterml,1.1&ParameterCd=00060&startDT=2014-01-01&endDT=2025-05-08\n",
      "\n",
      "Warning message in doTryCatch(return(expr), name, parentenv, handler):\n",
      "\"No data available for site 03318005\"\n"
     ]
    },
    {
     "data": {
      "text/html": [
       "'344/1056 - Downloading data for site 03318007'"
      ],
      "text/latex": [
       "'344/1056 - Downloading data for site 03318007'"
      ],
      "text/markdown": [
       "'344/1056 - Downloading data for site 03318007'"
      ],
      "text/plain": [
       "[1] \"344/1056 - Downloading data for site 03318007\""
      ]
     },
     "metadata": {
      "display_id": "status",
      "update": true
     },
     "output_type": "display_data"
    },
    {
     "name": "stderr",
     "output_type": "stream",
     "text": [
      "GET: https://nwis.waterservices.usgs.gov/nwis/iv/?site=03318007&format=waterml,1.1&ParameterCd=00060&startDT=2014-01-01&endDT=2025-05-08\n",
      "\n",
      "Warning message in doTryCatch(return(expr), name, parentenv, handler):\n",
      "\"No data available for site 03318007\"\n"
     ]
    },
    {
     "data": {
      "text/html": [
       "'345/1056 - Downloading data for site 03318010'"
      ],
      "text/latex": [
       "'345/1056 - Downloading data for site 03318010'"
      ],
      "text/markdown": [
       "'345/1056 - Downloading data for site 03318010'"
      ],
      "text/plain": [
       "[1] \"345/1056 - Downloading data for site 03318010\""
      ]
     },
     "metadata": {
      "display_id": "status",
      "update": true
     },
     "output_type": "display_data"
    },
    {
     "name": "stderr",
     "output_type": "stream",
     "text": [
      "GET: https://nwis.waterservices.usgs.gov/nwis/iv/?site=03318010&format=waterml,1.1&ParameterCd=00060&startDT=2014-01-01&endDT=2025-05-08\n",
      "\n",
      "Warning message in doTryCatch(return(expr), name, parentenv, handler):\n",
      "\"No data available for site 03318010\"\n"
     ]
    },
    {
     "data": {
      "text/html": [
       "'346/1056 - Downloading data for site 03303502'"
      ],
      "text/latex": [
       "'346/1056 - Downloading data for site 03303502'"
      ],
      "text/markdown": [
       "'346/1056 - Downloading data for site 03303502'"
      ],
      "text/plain": [
       "[1] \"346/1056 - Downloading data for site 03303502\""
      ]
     },
     "metadata": {
      "display_id": "status",
      "update": true
     },
     "output_type": "display_data"
    },
    {
     "name": "stderr",
     "output_type": "stream",
     "text": [
      "GET: https://nwis.waterservices.usgs.gov/nwis/iv/?site=03303502&format=waterml,1.1&ParameterCd=00060&startDT=2014-01-01&endDT=2025-05-08\n",
      "\n",
      "Warning message in doTryCatch(return(expr), name, parentenv, handler):\n",
      "\"No data available for site 03303502\"\n"
     ]
    },
    {
     "data": {
      "text/html": [
       "'347/1056 - Downloading data for site 03322190'"
      ],
      "text/latex": [
       "'347/1056 - Downloading data for site 03322190'"
      ],
      "text/markdown": [
       "'347/1056 - Downloading data for site 03322190'"
      ],
      "text/plain": [
       "[1] \"347/1056 - Downloading data for site 03322190\""
      ]
     },
     "metadata": {
      "display_id": "status",
      "update": true
     },
     "output_type": "display_data"
    },
    {
     "name": "stderr",
     "output_type": "stream",
     "text": [
      "GET: https://nwis.waterservices.usgs.gov/nwis/iv/?site=03322190&format=waterml,1.1&ParameterCd=00060&startDT=2014-01-01&endDT=2025-05-08\n",
      "\n",
      "Warning message in doTryCatch(return(expr), name, parentenv, handler):\n",
      "\"No data available for site 03322190\"\n",
      "File already exists for site 03321500 - skipping download\n",
      "\n",
      "File already exists for site 03303280 - skipping download\n",
      "\n",
      "File already exists for site 03310300 - skipping download\n",
      "\n",
      "File already exists for site 03310000 - skipping download\n",
      "\n",
      "File already exists for site 03299500 - skipping download\n",
      "\n",
      "File already exists for site 03301500 - skipping download\n",
      "\n",
      "File already exists for site 03301000 - skipping download\n",
      "\n"
     ]
    },
    {
     "data": {
      "text/html": [
       "'355/1056 - Downloading data for site 03301630'"
      ],
      "text/latex": [
       "'355/1056 - Downloading data for site 03301630'"
      ],
      "text/markdown": [
       "'355/1056 - Downloading data for site 03301630'"
      ],
      "text/plain": [
       "[1] \"355/1056 - Downloading data for site 03301630\""
      ]
     },
     "metadata": {
      "display_id": "status",
      "update": true
     },
     "output_type": "display_data"
    },
    {
     "name": "stderr",
     "output_type": "stream",
     "text": [
      "GET: https://nwis.waterservices.usgs.gov/nwis/iv/?site=03301630&format=waterml,1.1&ParameterCd=00060&startDT=2014-01-01&endDT=2025-05-08\n",
      "\n",
      "Warning message in doTryCatch(return(expr), name, parentenv, handler):\n",
      "\"No data available for site 03301630\"\n",
      "File already exists for site 03300400 - skipping download\n",
      "\n",
      "File already exists for site 03298550 - skipping download\n",
      "\n",
      "File already exists for site 03298500 - skipping download\n",
      "\n",
      "File already exists for site 03297800 - skipping download\n",
      "\n",
      "File already exists for site 03381700 - skipping download\n",
      "\n"
     ]
    },
    {
     "data": {
      "text/html": [
       "'361/1056 - Downloading data for site 03382200'"
      ],
      "text/latex": [
       "'361/1056 - Downloading data for site 03382200'"
      ],
      "text/markdown": [
       "'361/1056 - Downloading data for site 03382200'"
      ],
      "text/plain": [
       "[1] \"361/1056 - Downloading data for site 03382200\""
      ]
     },
     "metadata": {
      "display_id": "status",
      "update": true
     },
     "output_type": "display_data"
    },
    {
     "name": "stderr",
     "output_type": "stream",
     "text": [
      "GET: https://nwis.waterservices.usgs.gov/nwis/iv/?site=03382200&format=waterml,1.1&ParameterCd=00060&startDT=2014-01-01&endDT=2025-05-08\n",
      "\n",
      "Warning message in doTryCatch(return(expr), name, parentenv, handler):\n",
      "\"No data available for site 03382200\"\n"
     ]
    },
    {
     "data": {
      "text/html": [
       "'362/1056 - Downloading data for site 03322420'"
      ],
      "text/latex": [
       "'362/1056 - Downloading data for site 03322420'"
      ],
      "text/markdown": [
       "'362/1056 - Downloading data for site 03322420'"
      ],
      "text/plain": [
       "[1] \"362/1056 - Downloading data for site 03322420\""
      ]
     },
     "metadata": {
      "display_id": "status",
      "update": true
     },
     "output_type": "display_data"
    },
    {
     "name": "stderr",
     "output_type": "stream",
     "text": [
      "GET: https://nwis.waterservices.usgs.gov/nwis/iv/?site=03322420&format=waterml,1.1&ParameterCd=00060&startDT=2014-01-01&endDT=2025-05-08\n",
      "\n",
      "Warning message in doTryCatch(return(expr), name, parentenv, handler):\n",
      "\"No data available for site 03322420\"\n"
     ]
    },
    {
     "data": {
      "text/html": [
       "'363/1056 - Downloading data for site 374815087555101'"
      ],
      "text/latex": [
       "'363/1056 - Downloading data for site 374815087555101'"
      ],
      "text/markdown": [
       "'363/1056 - Downloading data for site 374815087555101'"
      ],
      "text/plain": [
       "[1] \"363/1056 - Downloading data for site 374815087555101\""
      ]
     },
     "metadata": {
      "display_id": "status",
      "update": true
     },
     "output_type": "display_data"
    },
    {
     "name": "stderr",
     "output_type": "stream",
     "text": [
      "GET: https://nwis.waterservices.usgs.gov/nwis/iv/?site=374815087555101&format=waterml,1.1&ParameterCd=00060&startDT=2014-01-01&endDT=2025-05-08\n",
      "\n",
      "Warning message in doTryCatch(return(expr), name, parentenv, handler):\n",
      "\"No data available for site 374815087555101\"\n",
      "File already exists for site 03381500 - skipping download\n",
      "\n",
      "File already exists for site 03378550 - skipping download\n",
      "\n"
     ]
    },
    {
     "data": {
      "text/html": [
       "'366/1056 - Downloading data for site 03381495'"
      ],
      "text/latex": [
       "'366/1056 - Downloading data for site 03381495'"
      ],
      "text/markdown": [
       "'366/1056 - Downloading data for site 03381495'"
      ],
      "text/plain": [
       "[1] \"366/1056 - Downloading data for site 03381495\""
      ]
     },
     "metadata": {
      "display_id": "status",
      "update": true
     },
     "output_type": "display_data"
    },
    {
     "name": "stderr",
     "output_type": "stream",
     "text": [
      "GET: https://nwis.waterservices.usgs.gov/nwis/iv/?site=03381495&format=waterml,1.1&ParameterCd=00060&startDT=2014-01-01&endDT=2025-05-08\n",
      "\n",
      "Warning message in doTryCatch(return(expr), name, parentenv, handler):\n",
      "\"No data available for site 03381495\"\n",
      "File already exists for site 03378500 - skipping download\n",
      "\n",
      "File already exists for site 03380500 - skipping download\n",
      "\n"
     ]
    },
    {
     "data": {
      "text/html": [
       "'369/1056 - Downloading data for site 03380000'"
      ],
      "text/latex": [
       "'369/1056 - Downloading data for site 03380000'"
      ],
      "text/markdown": [
       "'369/1056 - Downloading data for site 03380000'"
      ],
      "text/plain": [
       "[1] \"369/1056 - Downloading data for site 03380000\""
      ]
     },
     "metadata": {
      "display_id": "status",
      "update": true
     },
     "output_type": "display_data"
    },
    {
     "name": "stderr",
     "output_type": "stream",
     "text": [
      "GET: https://nwis.waterservices.usgs.gov/nwis/iv/?site=03380000&format=waterml,1.1&ParameterCd=00060&startDT=2014-01-01&endDT=2025-05-08\n",
      "\n",
      "Warning message in doTryCatch(return(expr), name, parentenv, handler):\n",
      "\"No data available for site 03380000\"\n"
     ]
    },
    {
     "data": {
      "text/html": [
       "'370/1056 - Downloading data for site 03302058'"
      ],
      "text/latex": [
       "'370/1056 - Downloading data for site 03302058'"
      ],
      "text/markdown": [
       "'370/1056 - Downloading data for site 03302058'"
      ],
      "text/plain": [
       "[1] \"370/1056 - Downloading data for site 03302058\""
      ]
     },
     "metadata": {
      "display_id": "status",
      "update": true
     },
     "output_type": "display_data"
    },
    {
     "name": "stderr",
     "output_type": "stream",
     "text": [
      "GET: https://nwis.waterservices.usgs.gov/nwis/iv/?site=03302058&format=waterml,1.1&ParameterCd=00060&startDT=2014-01-01&endDT=2025-05-08\n",
      "\n",
      "Warning message in doTryCatch(return(expr), name, parentenv, handler):\n",
      "\"No data available for site 03302058\"\n"
     ]
    },
    {
     "data": {
      "text/html": [
       "'371/1056 - Downloading data for site 03298470'"
      ],
      "text/latex": [
       "'371/1056 - Downloading data for site 03298470'"
      ],
      "text/markdown": [
       "'371/1056 - Downloading data for site 03298470'"
      ],
      "text/plain": [
       "[1] \"371/1056 - Downloading data for site 03298470\""
      ]
     },
     "metadata": {
      "display_id": "status",
      "update": true
     },
     "output_type": "display_data"
    },
    {
     "name": "stderr",
     "output_type": "stream",
     "text": [
      "GET: https://nwis.waterservices.usgs.gov/nwis/iv/?site=03298470&format=waterml,1.1&ParameterCd=00060&startDT=2014-01-01&endDT=2025-05-08\n",
      "\n",
      "Warning message in doTryCatch(return(expr), name, parentenv, handler):\n",
      "\"No data available for site 03298470\"\n"
     ]
    },
    {
     "data": {
      "text/html": [
       "'372/1056 - Downloading data for site 03295597'"
      ],
      "text/latex": [
       "'372/1056 - Downloading data for site 03295597'"
      ],
      "text/markdown": [
       "'372/1056 - Downloading data for site 03295597'"
      ],
      "text/plain": [
       "[1] \"372/1056 - Downloading data for site 03295597\""
      ]
     },
     "metadata": {
      "display_id": "status",
      "update": true
     },
     "output_type": "display_data"
    },
    {
     "name": "stderr",
     "output_type": "stream",
     "text": [
      "GET: https://nwis.waterservices.usgs.gov/nwis/iv/?site=03295597&format=waterml,1.1&ParameterCd=00060&startDT=2014-01-01&endDT=2025-05-08\n",
      "\n",
      "Warning message in doTryCatch(return(expr), name, parentenv, handler):\n",
      "\"No data available for site 03295597\"\n"
     ]
    },
    {
     "data": {
      "text/html": [
       "'373/1056 - Downloading data for site 03294600'"
      ],
      "text/latex": [
       "'373/1056 - Downloading data for site 03294600'"
      ],
      "text/markdown": [
       "'373/1056 - Downloading data for site 03294600'"
      ],
      "text/plain": [
       "[1] \"373/1056 - Downloading data for site 03294600\""
      ]
     },
     "metadata": {
      "display_id": "status",
      "update": true
     },
     "output_type": "display_data"
    },
    {
     "name": "stderr",
     "output_type": "stream",
     "text": [
      "GET: https://nwis.waterservices.usgs.gov/nwis/iv/?site=03294600&format=waterml,1.1&ParameterCd=00060&startDT=2014-01-01&endDT=2025-05-08\n",
      "\n",
      "Warning message in doTryCatch(return(expr), name, parentenv, handler):\n",
      "\"No data available for site 03294600\"\n",
      "File already exists for site 03295890 - skipping download\n",
      "\n",
      "File already exists for site 03302050 - skipping download\n",
      "\n",
      "File already exists for site 03302030 - skipping download\n",
      "\n",
      "File already exists for site 03294570 - skipping download\n",
      "\n",
      "File already exists for site 03298250 - skipping download\n",
      "\n",
      "File already exists for site 03298200 - skipping download\n",
      "\n",
      "File already exists for site 03298300 - skipping download\n",
      "\n",
      "File already exists for site 03302000 - skipping download\n",
      "\n",
      "File already exists for site 03302220 - skipping download\n",
      "\n"
     ]
    },
    {
     "data": {
      "text/html": [
       "'383/1056 - Downloading data for site 03294560'"
      ],
      "text/latex": [
       "'383/1056 - Downloading data for site 03294560'"
      ],
      "text/markdown": [
       "'383/1056 - Downloading data for site 03294560'"
      ],
      "text/plain": [
       "[1] \"383/1056 - Downloading data for site 03294560\""
      ]
     },
     "metadata": {
      "display_id": "status",
      "update": true
     },
     "output_type": "display_data"
    },
    {
     "name": "stderr",
     "output_type": "stream",
     "text": [
      "GET: https://nwis.waterservices.usgs.gov/nwis/iv/?site=03294560&format=waterml,1.1&ParameterCd=00060&startDT=2014-01-01&endDT=2025-05-08\n",
      "\n",
      "Warning message in doTryCatch(return(expr), name, parentenv, handler):\n",
      "\"No data available for site 03294560\"\n",
      "File already exists for site 03301940 - skipping download\n",
      "\n",
      "File already exists for site 03298150 - skipping download\n",
      "\n",
      "File already exists for site 03301900 - skipping download\n",
      "\n",
      "File already exists for site 03294550 - skipping download\n",
      "\n",
      "File already exists for site 03298000 - skipping download\n",
      "\n",
      "File already exists for site 03298135 - skipping download\n",
      "\n"
     ]
    },
    {
     "data": {
      "text/html": [
       "'390/1056 - Downloading data for site 03304300'"
      ],
      "text/latex": [
       "'390/1056 - Downloading data for site 03304300'"
      ],
      "text/markdown": [
       "'390/1056 - Downloading data for site 03304300'"
      ],
      "text/plain": [
       "[1] \"390/1056 - Downloading data for site 03304300\""
      ]
     },
     "metadata": {
      "display_id": "status",
      "update": true
     },
     "output_type": "display_data"
    },
    {
     "name": "stderr",
     "output_type": "stream",
     "text": [
      "GET: https://nwis.waterservices.usgs.gov/nwis/iv/?site=03304300&format=waterml,1.1&ParameterCd=00060&startDT=2014-01-01&endDT=2025-05-08\n",
      "\n",
      "Warning message in doTryCatch(return(expr), name, parentenv, handler):\n",
      "\"No data available for site 03304300\"\n"
     ]
    },
    {
     "data": {
      "text/html": [
       "'391/1056 - Downloading data for site 03322000'"
      ],
      "text/latex": [
       "'391/1056 - Downloading data for site 03322000'"
      ],
      "text/markdown": [
       "'391/1056 - Downloading data for site 03322000'"
      ],
      "text/plain": [
       "[1] \"391/1056 - Downloading data for site 03322000\""
      ]
     },
     "metadata": {
      "display_id": "status",
      "update": true
     },
     "output_type": "display_data"
    },
    {
     "name": "stderr",
     "output_type": "stream",
     "text": [
      "GET: https://nwis.waterservices.usgs.gov/nwis/iv/?site=03322000&format=waterml,1.1&ParameterCd=00060&startDT=2014-01-01&endDT=2025-05-08\n",
      "\n",
      "Warning message in doTryCatch(return(expr), name, parentenv, handler):\n",
      "\"No data available for site 03322000\"\n",
      "File already exists for site 03303300 - skipping download\n",
      "\n",
      "File already exists for site 03322011 - skipping download\n",
      "\n",
      "File already exists for site 03376300 - skipping download\n",
      "\n",
      "File already exists for site 03376500 - skipping download\n",
      "\n",
      "File already exists for site 03375500 - skipping download\n",
      "\n"
     ]
    },
    {
     "data": {
      "text/html": [
       "'397/1056 - Downloading data for site 03374498'"
      ],
      "text/latex": [
       "'397/1056 - Downloading data for site 03374498'"
      ],
      "text/markdown": [
       "'397/1056 - Downloading data for site 03374498'"
      ],
      "text/plain": [
       "[1] \"397/1056 - Downloading data for site 03374498\""
      ]
     },
     "metadata": {
      "display_id": "status",
      "update": true
     },
     "output_type": "display_data"
    },
    {
     "name": "stderr",
     "output_type": "stream",
     "text": [
      "GET: https://nwis.waterservices.usgs.gov/nwis/iv/?site=03374498&format=waterml,1.1&ParameterCd=00060&startDT=2014-01-01&endDT=2025-05-08\n",
      "\n",
      "Warning message in doTryCatch(return(expr), name, parentenv, handler):\n",
      "\"No data available for site 03374498\"\n"
     ]
    },
    {
     "data": {
      "text/html": [
       "'398/1056 - Downloading data for site 03374500'"
      ],
      "text/latex": [
       "'398/1056 - Downloading data for site 03374500'"
      ],
      "text/markdown": [
       "'398/1056 - Downloading data for site 03374500'"
      ],
      "text/plain": [
       "[1] \"398/1056 - Downloading data for site 03374500\""
      ]
     },
     "metadata": {
      "display_id": "status",
      "update": true
     },
     "output_type": "display_data"
    },
    {
     "name": "stderr",
     "output_type": "stream",
     "text": [
      "GET: https://nwis.waterservices.usgs.gov/nwis/iv/?site=03374500&format=waterml,1.1&ParameterCd=00060&startDT=2014-01-01&endDT=2025-05-08\n",
      "\n",
      "Warning message in doTryCatch(return(expr), name, parentenv, handler):\n",
      "\"No data available for site 03374500\"\n",
      "File already exists for site 03374100 - skipping download\n",
      "\n",
      "File already exists for site 03292500 - skipping download\n",
      "\n",
      "File already exists for site 03303000 - skipping download\n",
      "\n",
      "File already exists for site 03293000 - skipping download\n",
      "\n",
      "File already exists for site 03293500 - skipping download\n",
      "\n"
     ]
    },
    {
     "data": {
      "text/html": [
       "'404/1056 - Downloading data for site 03293551'"
      ],
      "text/latex": [
       "'404/1056 - Downloading data for site 03293551'"
      ],
      "text/markdown": [
       "'404/1056 - Downloading data for site 03293551'"
      ],
      "text/plain": [
       "[1] \"404/1056 - Downloading data for site 03293551\""
      ]
     },
     "metadata": {
      "display_id": "status",
      "update": true
     },
     "output_type": "display_data"
    },
    {
     "name": "stderr",
     "output_type": "stream",
     "text": [
      "GET: https://nwis.waterservices.usgs.gov/nwis/iv/?site=03293551&format=waterml,1.1&ParameterCd=00060&startDT=2014-01-01&endDT=2025-05-08\n",
      "\n",
      "Warning message in doTryCatch(return(expr), name, parentenv, handler):\n",
      "\"No data available for site 03293551\"\n",
      "File already exists for site 03293510 - skipping download\n",
      "\n",
      "File already exists for site 03292474 - skipping download\n",
      "\n",
      "File already exists for site 03293530 - skipping download\n",
      "\n",
      "File already exists for site 03294500 - skipping download\n",
      "\n",
      "File already exists for site 03292494 - skipping download\n",
      "\n",
      "File already exists for site 03289000 - skipping download\n",
      "\n",
      "File already exists for site 03287250 - skipping download\n",
      "\n",
      "File already exists for site 03289193 - skipping download\n",
      "\n",
      "File already exists for site 03287600 - skipping download\n",
      "\n",
      "File already exists for site 03288180 - skipping download\n",
      "\n",
      "File already exists for site 03289200 - skipping download\n",
      "\n",
      "File already exists for site 03288190 - skipping download\n",
      "\n",
      "File already exists for site 03289300 - skipping download\n",
      "\n",
      "File already exists for site 03288110 - skipping download\n",
      "\n",
      "File already exists for site 03287500 - skipping download\n",
      "\n",
      "File already exists for site 03250322 - skipping download\n",
      "\n",
      "File already exists for site 03252300 - skipping download\n",
      "\n",
      "File already exists for site 03252500 - skipping download\n",
      "\n",
      "File already exists for site 03250500 - skipping download\n",
      "\n",
      "File already exists for site 03251200 - skipping download\n",
      "\n",
      "File already exists for site 03251500 - skipping download\n",
      "\n",
      "File already exists for site 03253000 - skipping download\n",
      "\n"
     ]
    },
    {
     "data": {
      "text/html": [
       "'427/1056 - Downloading data for site 03238000'"
      ],
      "text/latex": [
       "'427/1056 - Downloading data for site 03238000'"
      ],
      "text/markdown": [
       "'427/1056 - Downloading data for site 03238000'"
      ],
      "text/plain": [
       "[1] \"427/1056 - Downloading data for site 03238000\""
      ]
     },
     "metadata": {
      "display_id": "status",
      "update": true
     },
     "output_type": "display_data"
    },
    {
     "name": "stderr",
     "output_type": "stream",
     "text": [
      "GET: https://nwis.waterservices.usgs.gov/nwis/iv/?site=03238000&format=waterml,1.1&ParameterCd=00060&startDT=2014-01-01&endDT=2025-05-08\n",
      "\n",
      "Warning message in doTryCatch(return(expr), name, parentenv, handler):\n",
      "\"No data available for site 03238000\"\n",
      "File already exists for site 03253500 - skipping download\n",
      "\n",
      "File already exists for site 03237500 - skipping download\n",
      "\n",
      "File already exists for site 03288100 - skipping download\n",
      "\n",
      "File already exists for site 03289500 - skipping download\n",
      "\n",
      "File already exists for site 03291000 - skipping download\n",
      "\n",
      "File already exists for site 03290080 - skipping download\n",
      "\n",
      "File already exists for site 03290500 - skipping download\n",
      "\n"
     ]
    },
    {
     "data": {
      "text/html": [
       "'435/1056 - Downloading data for site 03291585'"
      ],
      "text/latex": [
       "'435/1056 - Downloading data for site 03291585'"
      ],
      "text/markdown": [
       "'435/1056 - Downloading data for site 03291585'"
      ],
      "text/plain": [
       "[1] \"435/1056 - Downloading data for site 03291585\""
      ]
     },
     "metadata": {
      "display_id": "status",
      "update": true
     },
     "output_type": "display_data"
    },
    {
     "name": "stderr",
     "output_type": "stream",
     "text": [
      "GET: https://nwis.waterservices.usgs.gov/nwis/iv/?site=03291585&format=waterml,1.1&ParameterCd=00060&startDT=2014-01-01&endDT=2025-05-08\n",
      "\n",
      "Warning message in doTryCatch(return(expr), name, parentenv, handler):\n",
      "\"No data available for site 03291585\"\n",
      "File already exists for site 03291500 - skipping download\n",
      "\n",
      "File already exists for site 03277200 - skipping download\n",
      "\n",
      "File already exists for site 03277130 - skipping download\n",
      "\n",
      "File already exists for site 03254520 - skipping download\n",
      "\n"
     ]
    },
    {
     "data": {
      "text/html": [
       "'440/1056 - Downloading data for site 03216000'"
      ],
      "text/latex": [
       "'440/1056 - Downloading data for site 03216000'"
      ],
      "text/markdown": [
       "'440/1056 - Downloading data for site 03216000'"
      ],
      "text/plain": [
       "[1] \"440/1056 - Downloading data for site 03216000\""
      ]
     },
     "metadata": {
      "display_id": "status",
      "update": true
     },
     "output_type": "display_data"
    },
    {
     "name": "stderr",
     "output_type": "stream",
     "text": [
      "GET: https://nwis.waterservices.usgs.gov/nwis/iv/?site=03216000&format=waterml,1.1&ParameterCd=00060&startDT=2014-01-01&endDT=2025-05-08\n",
      "\n",
      "Warning message in doTryCatch(return(expr), name, parentenv, handler):\n",
      "\"No data available for site 03216000\"\n",
      "File already exists for site 03216070 - skipping download\n",
      "\n",
      "File already exists for site 03217000 - skipping download\n",
      "\n",
      "File already exists for site 03205470 - skipping download\n",
      "\n",
      "File already exists for site 03237280 - skipping download\n",
      "\n",
      "File already exists for site 03216600 - skipping download\n",
      "\n"
     ]
    },
    {
     "data": {
      "text/html": [
       "'446/1056 - Downloading data for site 03217200'"
      ],
      "text/latex": [
       "'446/1056 - Downloading data for site 03217200'"
      ],
      "text/markdown": [
       "'446/1056 - Downloading data for site 03217200'"
      ],
      "text/plain": [
       "[1] \"446/1056 - Downloading data for site 03217200\""
      ]
     },
     "metadata": {
      "display_id": "status",
      "update": true
     },
     "output_type": "display_data"
    },
    {
     "name": "stderr",
     "output_type": "stream",
     "text": [
      "GET: https://nwis.waterservices.usgs.gov/nwis/iv/?site=03217200&format=waterml,1.1&ParameterCd=00060&startDT=2014-01-01&endDT=2025-05-08\n",
      "\n",
      "Warning message in doTryCatch(return(expr), name, parentenv, handler):\n",
      "\"No data available for site 03217200\"\n",
      "File already exists for site 03237020 - skipping download\n",
      "\n",
      "File already exists for site 03234500 - skipping download\n",
      "\n",
      "File already exists for site 03234000 - skipping download\n",
      "\n",
      "File already exists for site 03254550 - skipping download\n",
      "\n"
     ]
    },
    {
     "data": {
      "text/html": [
       "'451/1056 - Downloading data for site 03238772'"
      ],
      "text/latex": [
       "'451/1056 - Downloading data for site 03238772'"
      ],
      "text/markdown": [
       "'451/1056 - Downloading data for site 03238772'"
      ],
      "text/plain": [
       "[1] \"451/1056 - Downloading data for site 03238772\""
      ]
     },
     "metadata": {
      "display_id": "status",
      "update": true
     },
     "output_type": "display_data"
    },
    {
     "name": "stderr",
     "output_type": "stream",
     "text": [
      "GET: https://nwis.waterservices.usgs.gov/nwis/iv/?site=03238772&format=waterml,1.1&ParameterCd=00060&startDT=2014-01-01&endDT=2025-05-08\n",
      "\n"
     ]
    },
    {
     "data": {
      "text/html": [
       "'452/1056 - Downloading data for site 03277075'"
      ],
      "text/latex": [
       "'452/1056 - Downloading data for site 03277075'"
      ],
      "text/markdown": [
       "'452/1056 - Downloading data for site 03277075'"
      ],
      "text/plain": [
       "[1] \"452/1056 - Downloading data for site 03277075\""
      ]
     },
     "metadata": {
      "display_id": "status",
      "update": true
     },
     "output_type": "display_data"
    },
    {
     "name": "stderr",
     "output_type": "stream",
     "text": [
      "GET: https://nwis.waterservices.usgs.gov/nwis/iv/?site=03277075&format=waterml,1.1&ParameterCd=00060&startDT=2014-01-01&endDT=2025-05-08\n",
      "\n"
     ]
    },
    {
     "data": {
      "text/html": [
       "'453/1056 - Downloading data for site 03238785'"
      ],
      "text/latex": [
       "'453/1056 - Downloading data for site 03238785'"
      ],
      "text/markdown": [
       "'453/1056 - Downloading data for site 03238785'"
      ],
      "text/plain": [
       "[1] \"453/1056 - Downloading data for site 03238785\""
      ]
     },
     "metadata": {
      "display_id": "status",
      "update": true
     },
     "output_type": "display_data"
    },
    {
     "name": "stderr",
     "output_type": "stream",
     "text": [
      "GET: https://nwis.waterservices.usgs.gov/nwis/iv/?site=03238785&format=waterml,1.1&ParameterCd=00060&startDT=2014-01-01&endDT=2025-05-08\n",
      "\n"
     ]
    },
    {
     "data": {
      "text/html": [
       "'454/1056 - Downloading data for site 03262001'"
      ],
      "text/latex": [
       "'454/1056 - Downloading data for site 03262001'"
      ],
      "text/markdown": [
       "'454/1056 - Downloading data for site 03262001'"
      ],
      "text/plain": [
       "[1] \"454/1056 - Downloading data for site 03262001\""
      ]
     },
     "metadata": {
      "display_id": "status",
      "update": true
     },
     "output_type": "display_data"
    },
    {
     "name": "stderr",
     "output_type": "stream",
     "text": [
      "GET: https://nwis.waterservices.usgs.gov/nwis/iv/?site=03262001&format=waterml,1.1&ParameterCd=00060&startDT=2014-01-01&endDT=2025-05-08\n",
      "\n"
     ]
    },
    {
     "data": {
      "text/html": [
       "'455/1056 - Downloading data for site 03238798'"
      ],
      "text/latex": [
       "'455/1056 - Downloading data for site 03238798'"
      ],
      "text/markdown": [
       "'455/1056 - Downloading data for site 03238798'"
      ],
      "text/plain": [
       "[1] \"455/1056 - Downloading data for site 03238798\""
      ]
     },
     "metadata": {
      "display_id": "status",
      "update": true
     },
     "output_type": "display_data"
    },
    {
     "name": "stderr",
     "output_type": "stream",
     "text": [
      "GET: https://nwis.waterservices.usgs.gov/nwis/iv/?site=03238798&format=waterml,1.1&ParameterCd=00060&startDT=2014-01-01&endDT=2025-05-08\n",
      "\n",
      "Warning message in doTryCatch(return(expr), name, parentenv, handler):\n",
      "\"No data available for site 03238798\"\n"
     ]
    },
    {
     "data": {
      "text/html": [
       "'456/1056 - Downloading data for site 03254693'"
      ],
      "text/latex": [
       "'456/1056 - Downloading data for site 03254693'"
      ],
      "text/markdown": [
       "'456/1056 - Downloading data for site 03254693'"
      ],
      "text/plain": [
       "[1] \"456/1056 - Downloading data for site 03254693\""
      ]
     },
     "metadata": {
      "display_id": "status",
      "update": true
     },
     "output_type": "display_data"
    },
    {
     "name": "stderr",
     "output_type": "stream",
     "text": [
      "GET: https://nwis.waterservices.usgs.gov/nwis/iv/?site=03254693&format=waterml,1.1&ParameterCd=00060&startDT=2014-01-01&endDT=2025-05-08\n",
      "\n"
     ]
    },
    {
     "data": {
      "text/html": [
       "'457/1056 - Downloading data for site 03260050'"
      ],
      "text/latex": [
       "'457/1056 - Downloading data for site 03260050'"
      ],
      "text/markdown": [
       "'457/1056 - Downloading data for site 03260050'"
      ],
      "text/plain": [
       "[1] \"457/1056 - Downloading data for site 03260050\""
      ]
     },
     "metadata": {
      "display_id": "status",
      "update": true
     },
     "output_type": "display_data"
    },
    {
     "name": "stderr",
     "output_type": "stream",
     "text": [
      "GET: https://nwis.waterservices.usgs.gov/nwis/iv/?site=03260050&format=waterml,1.1&ParameterCd=00060&startDT=2014-01-01&endDT=2025-05-08\n",
      "\n"
     ]
    },
    {
     "data": {
      "text/html": [
       "'458/1056 - Downloading data for site 03260100'"
      ],
      "text/latex": [
       "'458/1056 - Downloading data for site 03260100'"
      ],
      "text/markdown": [
       "'458/1056 - Downloading data for site 03260100'"
      ],
      "text/plain": [
       "[1] \"458/1056 - Downloading data for site 03260100\""
      ]
     },
     "metadata": {
      "display_id": "status",
      "update": true
     },
     "output_type": "display_data"
    },
    {
     "name": "stderr",
     "output_type": "stream",
     "text": [
      "GET: https://nwis.waterservices.usgs.gov/nwis/iv/?site=03260100&format=waterml,1.1&ParameterCd=00060&startDT=2014-01-01&endDT=2025-05-08\n",
      "\n"
     ]
    },
    {
     "data": {
      "text/html": [
       "'459/1056 - Downloading data for site 03260015'"
      ],
      "text/latex": [
       "'459/1056 - Downloading data for site 03260015'"
      ],
      "text/markdown": [
       "'459/1056 - Downloading data for site 03260015'"
      ],
      "text/plain": [
       "[1] \"459/1056 - Downloading data for site 03260015\""
      ]
     },
     "metadata": {
      "display_id": "status",
      "update": true
     },
     "output_type": "display_data"
    },
    {
     "name": "stderr",
     "output_type": "stream",
     "text": [
      "GET: https://nwis.waterservices.usgs.gov/nwis/iv/?site=03260015&format=waterml,1.1&ParameterCd=00060&startDT=2014-01-01&endDT=2025-05-08\n",
      "\n"
     ]
    },
    {
     "data": {
      "text/html": [
       "'460/1056 - Downloading data for site 03238495'"
      ],
      "text/latex": [
       "'460/1056 - Downloading data for site 03238495'"
      ],
      "text/markdown": [
       "'460/1056 - Downloading data for site 03238495'"
      ],
      "text/plain": [
       "[1] \"460/1056 - Downloading data for site 03238495\""
      ]
     },
     "metadata": {
      "display_id": "status",
      "update": true
     },
     "output_type": "display_data"
    },
    {
     "name": "stderr",
     "output_type": "stream",
     "text": [
      "GET: https://nwis.waterservices.usgs.gov/nwis/iv/?site=03238495&format=waterml,1.1&ParameterCd=00060&startDT=2014-01-01&endDT=2025-05-08\n",
      "\n"
     ]
    },
    {
     "data": {
      "text/html": [
       "'461/1056 - Downloading data for site 03238745'"
      ],
      "text/latex": [
       "'461/1056 - Downloading data for site 03238745'"
      ],
      "text/markdown": [
       "'461/1056 - Downloading data for site 03238745'"
      ],
      "text/plain": [
       "[1] \"461/1056 - Downloading data for site 03238745\""
      ]
     },
     "metadata": {
      "display_id": "status",
      "update": true
     },
     "output_type": "display_data"
    },
    {
     "name": "stderr",
     "output_type": "stream",
     "text": [
      "GET: https://nwis.waterservices.usgs.gov/nwis/iv/?site=03238745&format=waterml,1.1&ParameterCd=00060&startDT=2014-01-01&endDT=2025-05-08\n",
      "\n"
     ]
    },
    {
     "data": {
      "text/html": [
       "'462/1056 - Downloading data for site 03247040'"
      ],
      "text/latex": [
       "'462/1056 - Downloading data for site 03247040'"
      ],
      "text/markdown": [
       "'462/1056 - Downloading data for site 03247040'"
      ],
      "text/plain": [
       "[1] \"462/1056 - Downloading data for site 03247040\""
      ]
     },
     "metadata": {
      "display_id": "status",
      "update": true
     },
     "output_type": "display_data"
    },
    {
     "name": "stderr",
     "output_type": "stream",
     "text": [
      "GET: https://nwis.waterservices.usgs.gov/nwis/iv/?site=03247040&format=waterml,1.1&ParameterCd=00060&startDT=2014-01-01&endDT=2025-05-08\n",
      "\n",
      "Warning message in doTryCatch(return(expr), name, parentenv, handler):\n",
      "\"No data available for site 03247040\"\n"
     ]
    },
    {
     "data": {
      "text/html": [
       "'463/1056 - Downloading data for site 03247041'"
      ],
      "text/latex": [
       "'463/1056 - Downloading data for site 03247041'"
      ],
      "text/markdown": [
       "'463/1056 - Downloading data for site 03247041'"
      ],
      "text/plain": [
       "[1] \"463/1056 - Downloading data for site 03247041\""
      ]
     },
     "metadata": {
      "display_id": "status",
      "update": true
     },
     "output_type": "display_data"
    },
    {
     "name": "stderr",
     "output_type": "stream",
     "text": [
      "GET: https://nwis.waterservices.usgs.gov/nwis/iv/?site=03247041&format=waterml,1.1&ParameterCd=00060&startDT=2014-01-01&endDT=2025-05-08\n",
      "\n",
      "Warning message in doTryCatch(return(expr), name, parentenv, handler):\n",
      "\"No data available for site 03247041\"\n"
     ]
    },
    {
     "data": {
      "text/html": [
       "'464/1056 - Downloading data for site 03246500'"
      ],
      "text/latex": [
       "'464/1056 - Downloading data for site 03246500'"
      ],
      "text/markdown": [
       "'464/1056 - Downloading data for site 03246500'"
      ],
      "text/plain": [
       "[1] \"464/1056 - Downloading data for site 03246500\""
      ]
     },
     "metadata": {
      "display_id": "status",
      "update": true
     },
     "output_type": "display_data"
    },
    {
     "name": "stderr",
     "output_type": "stream",
     "text": [
      "GET: https://nwis.waterservices.usgs.gov/nwis/iv/?site=03246500&format=waterml,1.1&ParameterCd=00060&startDT=2014-01-01&endDT=2025-05-08\n",
      "\n"
     ]
    },
    {
     "data": {
      "text/html": [
       "'465/1056 - Downloading data for site 03247500'"
      ],
      "text/latex": [
       "'465/1056 - Downloading data for site 03247500'"
      ],
      "text/markdown": [
       "'465/1056 - Downloading data for site 03247500'"
      ],
      "text/plain": [
       "[1] \"465/1056 - Downloading data for site 03247500\""
      ]
     },
     "metadata": {
      "display_id": "status",
      "update": true
     },
     "output_type": "display_data"
    },
    {
     "name": "stderr",
     "output_type": "stream",
     "text": [
      "GET: https://nwis.waterservices.usgs.gov/nwis/iv/?site=03247500&format=waterml,1.1&ParameterCd=00060&startDT=2014-01-01&endDT=2025-05-08\n",
      "\n"
     ]
    },
    {
     "data": {
      "text/html": [
       "'466/1056 - Downloading data for site 03245500'"
      ],
      "text/latex": [
       "'466/1056 - Downloading data for site 03245500'"
      ],
      "text/markdown": [
       "'466/1056 - Downloading data for site 03245500'"
      ],
      "text/plain": [
       "[1] \"466/1056 - Downloading data for site 03245500\""
      ]
     },
     "metadata": {
      "display_id": "status",
      "update": true
     },
     "output_type": "display_data"
    },
    {
     "name": "stderr",
     "output_type": "stream",
     "text": [
      "GET: https://nwis.waterservices.usgs.gov/nwis/iv/?site=03245500&format=waterml,1.1&ParameterCd=00060&startDT=2014-01-01&endDT=2025-05-08\n",
      "\n"
     ]
    },
    {
     "data": {
      "text/html": [
       "'467/1056 - Downloading data for site 03232500'"
      ],
      "text/latex": [
       "'467/1056 - Downloading data for site 03232500'"
      ],
      "text/markdown": [
       "'467/1056 - Downloading data for site 03232500'"
      ],
      "text/plain": [
       "[1] \"467/1056 - Downloading data for site 03232500\""
      ]
     },
     "metadata": {
      "display_id": "status",
      "update": true
     },
     "output_type": "display_data"
    },
    {
     "name": "stderr",
     "output_type": "stream",
     "text": [
      "GET: https://nwis.waterservices.usgs.gov/nwis/iv/?site=03232500&format=waterml,1.1&ParameterCd=00060&startDT=2014-01-01&endDT=2025-05-08\n",
      "\n"
     ]
    },
    {
     "data": {
      "text/html": [
       "'468/1056 - Downloading data for site 03232470'"
      ],
      "text/latex": [
       "'468/1056 - Downloading data for site 03232470'"
      ],
      "text/markdown": [
       "'468/1056 - Downloading data for site 03232470'"
      ],
      "text/plain": [
       "[1] \"468/1056 - Downloading data for site 03232470\""
      ]
     },
     "metadata": {
      "display_id": "status",
      "update": true
     },
     "output_type": "display_data"
    },
    {
     "name": "stderr",
     "output_type": "stream",
     "text": [
      "GET: https://nwis.waterservices.usgs.gov/nwis/iv/?site=03232470&format=waterml,1.1&ParameterCd=00060&startDT=2014-01-01&endDT=2025-05-08\n",
      "\n",
      "Warning message in doTryCatch(return(expr), name, parentenv, handler):\n",
      "\"No data available for site 03232470\"\n"
     ]
    },
    {
     "data": {
      "text/html": [
       "'469/1056 - Downloading data for site 03244936'"
      ],
      "text/latex": [
       "'469/1056 - Downloading data for site 03244936'"
      ],
      "text/markdown": [
       "'469/1056 - Downloading data for site 03244936'"
      ],
      "text/plain": [
       "[1] \"469/1056 - Downloading data for site 03244936\""
      ]
     },
     "metadata": {
      "display_id": "status",
      "update": true
     },
     "output_type": "display_data"
    },
    {
     "name": "stderr",
     "output_type": "stream",
     "text": [
      "GET: https://nwis.waterservices.usgs.gov/nwis/iv/?site=03244936&format=waterml,1.1&ParameterCd=00060&startDT=2014-01-01&endDT=2025-05-08\n",
      "\n"
     ]
    },
    {
     "data": {
      "text/html": [
       "'470/1056 - Downloading data for site 03204500'"
      ],
      "text/latex": [
       "'470/1056 - Downloading data for site 03204500'"
      ],
      "text/markdown": [
       "'470/1056 - Downloading data for site 03204500'"
      ],
      "text/plain": [
       "[1] \"470/1056 - Downloading data for site 03204500\""
      ]
     },
     "metadata": {
      "display_id": "status",
      "update": true
     },
     "output_type": "display_data"
    },
    {
     "name": "stderr",
     "output_type": "stream",
     "text": [
      "GET: https://nwis.waterservices.usgs.gov/nwis/iv/?site=03204500&format=waterml,1.1&ParameterCd=00060&startDT=2014-01-01&endDT=2025-05-08\n",
      "\n"
     ]
    },
    {
     "data": {
      "text/html": [
       "'471/1056 - Downloading data for site 03201405'"
      ],
      "text/latex": [
       "'471/1056 - Downloading data for site 03201405'"
      ],
      "text/markdown": [
       "'471/1056 - Downloading data for site 03201405'"
      ],
      "text/plain": [
       "[1] \"471/1056 - Downloading data for site 03201405\""
      ]
     },
     "metadata": {
      "display_id": "status",
      "update": true
     },
     "output_type": "display_data"
    },
    {
     "name": "stderr",
     "output_type": "stream",
     "text": [
      "GET: https://nwis.waterservices.usgs.gov/nwis/iv/?site=03201405&format=waterml,1.1&ParameterCd=00060&startDT=2014-01-01&endDT=2025-05-08\n",
      "\n"
     ]
    },
    {
     "data": {
      "text/html": [
       "'472/1056 - Downloading data for site 03201500'"
      ],
      "text/latex": [
       "'472/1056 - Downloading data for site 03201500'"
      ],
      "text/markdown": [
       "'472/1056 - Downloading data for site 03201500'"
      ],
      "text/plain": [
       "[1] \"472/1056 - Downloading data for site 03201500\""
      ]
     },
     "metadata": {
      "display_id": "status",
      "update": true
     },
     "output_type": "display_data"
    },
    {
     "name": "stderr",
     "output_type": "stream",
     "text": [
      "GET: https://nwis.waterservices.usgs.gov/nwis/iv/?site=03201500&format=waterml,1.1&ParameterCd=00060&startDT=2014-01-01&endDT=2025-05-08\n",
      "\n",
      "Warning message in doTryCatch(return(expr), name, parentenv, handler):\n",
      "\"No data available for site 03201500\"\n"
     ]
    },
    {
     "data": {
      "text/html": [
       "'473/1056 - Downloading data for site 03202000'"
      ],
      "text/latex": [
       "'473/1056 - Downloading data for site 03202000'"
      ],
      "text/markdown": [
       "'473/1056 - Downloading data for site 03202000'"
      ],
      "text/plain": [
       "[1] \"473/1056 - Downloading data for site 03202000\""
      ]
     },
     "metadata": {
      "display_id": "status",
      "update": true
     },
     "output_type": "display_data"
    },
    {
     "name": "stderr",
     "output_type": "stream",
     "text": [
      "GET: https://nwis.waterservices.usgs.gov/nwis/iv/?site=03202000&format=waterml,1.1&ParameterCd=00060&startDT=2014-01-01&endDT=2025-05-08\n",
      "\n"
     ]
    },
    {
     "data": {
      "text/html": [
       "'474/1056 - Downloading data for site 03159540'"
      ],
      "text/latex": [
       "'474/1056 - Downloading data for site 03159540'"
      ],
      "text/markdown": [
       "'474/1056 - Downloading data for site 03159540'"
      ],
      "text/plain": [
       "[1] \"474/1056 - Downloading data for site 03159540\""
      ]
     },
     "metadata": {
      "display_id": "status",
      "update": true
     },
     "output_type": "display_data"
    },
    {
     "name": "stderr",
     "output_type": "stream",
     "text": [
      "GET: https://nwis.waterservices.usgs.gov/nwis/iv/?site=03159540&format=waterml,1.1&ParameterCd=00060&startDT=2014-01-01&endDT=2025-05-08\n",
      "\n"
     ]
    },
    {
     "data": {
      "text/html": [
       "'475/1056 - Downloading data for site 03159500'"
      ],
      "text/latex": [
       "'475/1056 - Downloading data for site 03159500'"
      ],
      "text/markdown": [
       "'475/1056 - Downloading data for site 03159500'"
      ],
      "text/plain": [
       "[1] \"475/1056 - Downloading data for site 03159500\""
      ]
     },
     "metadata": {
      "display_id": "status",
      "update": true
     },
     "output_type": "display_data"
    },
    {
     "name": "stderr",
     "output_type": "stream",
     "text": [
      "GET: https://nwis.waterservices.usgs.gov/nwis/iv/?site=03159500&format=waterml,1.1&ParameterCd=00060&startDT=2014-01-01&endDT=2025-05-08\n",
      "\n"
     ]
    },
    {
     "data": {
      "text/html": [
       "'476/1056 - Downloading data for site 03159000'"
      ],
      "text/latex": [
       "'476/1056 - Downloading data for site 03159000'"
      ],
      "text/markdown": [
       "'476/1056 - Downloading data for site 03159000'"
      ],
      "text/plain": [
       "[1] \"476/1056 - Downloading data for site 03159000\""
      ]
     },
     "metadata": {
      "display_id": "status",
      "update": true
     },
     "output_type": "display_data"
    },
    {
     "name": "stderr",
     "output_type": "stream",
     "text": [
      "GET: https://nwis.waterservices.usgs.gov/nwis/iv/?site=03159000&format=waterml,1.1&ParameterCd=00060&startDT=2014-01-01&endDT=2025-05-08\n",
      "\n",
      "Warning message in doTryCatch(return(expr), name, parentenv, handler):\n",
      "\"No data available for site 03159000\"\n"
     ]
    },
    {
     "data": {
      "text/html": [
       "'477/1056 - Downloading data for site 03158510'"
      ],
      "text/latex": [
       "'477/1056 - Downloading data for site 03158510'"
      ],
      "text/markdown": [
       "'477/1056 - Downloading data for site 03158510'"
      ],
      "text/plain": [
       "[1] \"477/1056 - Downloading data for site 03158510\""
      ]
     },
     "metadata": {
      "display_id": "status",
      "update": true
     },
     "output_type": "display_data"
    },
    {
     "name": "stderr",
     "output_type": "stream",
     "text": [
      "GET: https://nwis.waterservices.usgs.gov/nwis/iv/?site=03158510&format=waterml,1.1&ParameterCd=00060&startDT=2014-01-01&endDT=2025-05-08\n",
      "\n",
      "Warning message in doTryCatch(return(expr), name, parentenv, handler):\n",
      "\"No data available for site 03158510\"\n"
     ]
    },
    {
     "data": {
      "text/html": [
       "'478/1056 - Downloading data for site 03150000'"
      ],
      "text/latex": [
       "'478/1056 - Downloading data for site 03150000'"
      ],
      "text/markdown": [
       "'478/1056 - Downloading data for site 03150000'"
      ],
      "text/plain": [
       "[1] \"478/1056 - Downloading data for site 03150000\""
      ]
     },
     "metadata": {
      "display_id": "status",
      "update": true
     },
     "output_type": "display_data"
    },
    {
     "name": "stderr",
     "output_type": "stream",
     "text": [
      "GET: https://nwis.waterservices.usgs.gov/nwis/iv/?site=03150000&format=waterml,1.1&ParameterCd=00060&startDT=2014-01-01&endDT=2025-05-08\n",
      "\n"
     ]
    },
    {
     "data": {
      "text/html": [
       "'479/1056 - Downloading data for site 03149500'"
      ],
      "text/latex": [
       "'479/1056 - Downloading data for site 03149500'"
      ],
      "text/markdown": [
       "'479/1056 - Downloading data for site 03149500'"
      ],
      "text/plain": [
       "[1] \"479/1056 - Downloading data for site 03149500\""
      ]
     },
     "metadata": {
      "display_id": "status",
      "update": true
     },
     "output_type": "display_data"
    },
    {
     "name": "stderr",
     "output_type": "stream",
     "text": [
      "GET: https://nwis.waterservices.usgs.gov/nwis/iv/?site=03149500&format=waterml,1.1&ParameterCd=00060&startDT=2014-01-01&endDT=2025-05-08\n",
      "\n"
     ]
    },
    {
     "data": {
      "text/html": [
       "'480/1056 - Downloading data for site 03255000'"
      ],
      "text/latex": [
       "'480/1056 - Downloading data for site 03255000'"
      ],
      "text/markdown": [
       "'480/1056 - Downloading data for site 03255000'"
      ],
      "text/plain": [
       "[1] \"480/1056 - Downloading data for site 03255000\""
      ]
     },
     "metadata": {
      "display_id": "status",
      "update": true
     },
     "output_type": "display_data"
    },
    {
     "name": "stderr",
     "output_type": "stream",
     "text": [
      "GET: https://nwis.waterservices.usgs.gov/nwis/iv/?site=03255000&format=waterml,1.1&ParameterCd=00060&startDT=2014-01-01&endDT=2025-05-08\n",
      "\n",
      "Warning message in doTryCatch(return(expr), name, parentenv, handler):\n",
      "\"No data available for site 03255000\"\n"
     ]
    },
    {
     "data": {
      "text/html": [
       "'481/1056 - Downloading data for site 03276650'"
      ],
      "text/latex": [
       "'481/1056 - Downloading data for site 03276650'"
      ],
      "text/markdown": [
       "'481/1056 - Downloading data for site 03276650'"
      ],
      "text/plain": [
       "[1] \"481/1056 - Downloading data for site 03276650\""
      ]
     },
     "metadata": {
      "display_id": "status",
      "update": true
     },
     "output_type": "display_data"
    },
    {
     "name": "stderr",
     "output_type": "stream",
     "text": [
      "GET: https://nwis.waterservices.usgs.gov/nwis/iv/?site=03276650&format=waterml,1.1&ParameterCd=00060&startDT=2014-01-01&endDT=2025-05-08\n",
      "\n",
      "Warning message in doTryCatch(return(expr), name, parentenv, handler):\n",
      "\"No data available for site 03276650\"\n"
     ]
    },
    {
     "data": {
      "text/html": [
       "'482/1056 - Downloading data for site 03238140'"
      ],
      "text/latex": [
       "'482/1056 - Downloading data for site 03238140'"
      ],
      "text/markdown": [
       "'482/1056 - Downloading data for site 03238140'"
      ],
      "text/plain": [
       "[1] \"482/1056 - Downloading data for site 03238140\""
      ]
     },
     "metadata": {
      "display_id": "status",
      "update": true
     },
     "output_type": "display_data"
    },
    {
     "name": "stderr",
     "output_type": "stream",
     "text": [
      "GET: https://nwis.waterservices.usgs.gov/nwis/iv/?site=03238140&format=waterml,1.1&ParameterCd=00060&startDT=2014-01-01&endDT=2025-05-08\n",
      "\n"
     ]
    },
    {
     "data": {
      "text/html": [
       "'483/1056 - Downloading data for site 03260270'"
      ],
      "text/latex": [
       "'483/1056 - Downloading data for site 03260270'"
      ],
      "text/markdown": [
       "'483/1056 - Downloading data for site 03260270'"
      ],
      "text/plain": [
       "[1] \"483/1056 - Downloading data for site 03260270\""
      ]
     },
     "metadata": {
      "display_id": "status",
      "update": true
     },
     "output_type": "display_data"
    },
    {
     "name": "stderr",
     "output_type": "stream",
     "text": [
      "GET: https://nwis.waterservices.usgs.gov/nwis/iv/?site=03260270&format=waterml,1.1&ParameterCd=00060&startDT=2014-01-01&endDT=2025-05-08\n",
      "\n"
     ]
    },
    {
     "data": {
      "text/html": [
       "'484/1056 - Downloading data for site 03259000'"
      ],
      "text/latex": [
       "'484/1056 - Downloading data for site 03259000'"
      ],
      "text/markdown": [
       "'484/1056 - Downloading data for site 03259000'"
      ],
      "text/plain": [
       "[1] \"484/1056 - Downloading data for site 03259000\""
      ]
     },
     "metadata": {
      "display_id": "status",
      "update": true
     },
     "output_type": "display_data"
    },
    {
     "name": "stderr",
     "output_type": "stream",
     "text": [
      "GET: https://nwis.waterservices.usgs.gov/nwis/iv/?site=03259000&format=waterml,1.1&ParameterCd=00060&startDT=2014-01-01&endDT=2025-05-08\n",
      "\n"
     ]
    },
    {
     "data": {
      "text/html": [
       "'485/1056 - Downloading data for site 03274615'"
      ],
      "text/latex": [
       "'485/1056 - Downloading data for site 03274615'"
      ],
      "text/markdown": [
       "'485/1056 - Downloading data for site 03274615'"
      ],
      "text/plain": [
       "[1] \"485/1056 - Downloading data for site 03274615\""
      ]
     },
     "metadata": {
      "display_id": "status",
      "update": true
     },
     "output_type": "display_data"
    },
    {
     "name": "stderr",
     "output_type": "stream",
     "text": [
      "GET: https://nwis.waterservices.usgs.gov/nwis/iv/?site=03274615&format=waterml,1.1&ParameterCd=00060&startDT=2014-01-01&endDT=2025-05-08\n",
      "\n",
      "Warning message in doTryCatch(return(expr), name, parentenv, handler):\n",
      "\"No data available for site 03274615\"\n"
     ]
    },
    {
     "data": {
      "text/html": [
       "'486/1056 - Downloading data for site 03255500'"
      ],
      "text/latex": [
       "'486/1056 - Downloading data for site 03255500'"
      ],
      "text/markdown": [
       "'486/1056 - Downloading data for site 03255500'"
      ],
      "text/plain": [
       "[1] \"486/1056 - Downloading data for site 03255500\""
      ]
     },
     "metadata": {
      "display_id": "status",
      "update": true
     },
     "output_type": "display_data"
    },
    {
     "name": "stderr",
     "output_type": "stream",
     "text": [
      "GET: https://nwis.waterservices.usgs.gov/nwis/iv/?site=03255500&format=waterml,1.1&ParameterCd=00060&startDT=2014-01-01&endDT=2025-05-08\n",
      "\n",
      "Warning message in doTryCatch(return(expr), name, parentenv, handler):\n",
      "\"No data available for site 03255500\"\n"
     ]
    },
    {
     "data": {
      "text/html": [
       "'487/1056 - Downloading data for site 03255420'"
      ],
      "text/latex": [
       "'487/1056 - Downloading data for site 03255420'"
      ],
      "text/markdown": [
       "'487/1056 - Downloading data for site 03255420'"
      ],
      "text/plain": [
       "[1] \"487/1056 - Downloading data for site 03255420\""
      ]
     },
     "metadata": {
      "display_id": "status",
      "update": true
     },
     "output_type": "display_data"
    },
    {
     "name": "stderr",
     "output_type": "stream",
     "text": [
      "GET: https://nwis.waterservices.usgs.gov/nwis/iv/?site=03255420&format=waterml,1.1&ParameterCd=00060&startDT=2014-01-01&endDT=2025-05-08\n",
      "\n"
     ]
    },
    {
     "data": {
      "text/html": [
       "'488/1056 - Downloading data for site 03256500'"
      ],
      "text/latex": [
       "'488/1056 - Downloading data for site 03256500'"
      ],
      "text/markdown": [
       "'488/1056 - Downloading data for site 03256500'"
      ],
      "text/plain": [
       "[1] \"488/1056 - Downloading data for site 03256500\""
      ]
     },
     "metadata": {
      "display_id": "status",
      "update": true
     },
     "output_type": "display_data"
    },
    {
     "name": "stderr",
     "output_type": "stream",
     "text": [
      "GET: https://nwis.waterservices.usgs.gov/nwis/iv/?site=03256500&format=waterml,1.1&ParameterCd=00060&startDT=2014-01-01&endDT=2025-05-08\n",
      "\n",
      "Warning message in doTryCatch(return(expr), name, parentenv, handler):\n",
      "\"No data available for site 03256500\"\n"
     ]
    },
    {
     "data": {
      "text/html": [
       "'489/1056 - Downloading data for site 03255349'"
      ],
      "text/latex": [
       "'489/1056 - Downloading data for site 03255349'"
      ],
      "text/markdown": [
       "'489/1056 - Downloading data for site 03255349'"
      ],
      "text/plain": [
       "[1] \"489/1056 - Downloading data for site 03255349\""
      ]
     },
     "metadata": {
      "display_id": "status",
      "update": true
     },
     "output_type": "display_data"
    },
    {
     "name": "stderr",
     "output_type": "stream",
     "text": [
      "GET: https://nwis.waterservices.usgs.gov/nwis/iv/?site=03255349&format=waterml,1.1&ParameterCd=00060&startDT=2014-01-01&endDT=2025-05-08\n",
      "\n"
     ]
    },
    {
     "data": {
      "text/html": [
       "'490/1056 - Downloading data for site 03255390'"
      ],
      "text/latex": [
       "'490/1056 - Downloading data for site 03255390'"
      ],
      "text/markdown": [
       "'490/1056 - Downloading data for site 03255390'"
      ],
      "text/plain": [
       "[1] \"490/1056 - Downloading data for site 03255390\""
      ]
     },
     "metadata": {
      "display_id": "status",
      "update": true
     },
     "output_type": "display_data"
    },
    {
     "name": "stderr",
     "output_type": "stream",
     "text": [
      "GET: https://nwis.waterservices.usgs.gov/nwis/iv/?site=03255390&format=waterml,1.1&ParameterCd=00060&startDT=2014-01-01&endDT=2025-05-08\n",
      "\n",
      "Warning message in doTryCatch(return(expr), name, parentenv, handler):\n",
      "\"No data available for site 03255390\"\n"
     ]
    },
    {
     "data": {
      "text/html": [
       "'491/1056 - Downloading data for site 03255300'"
      ],
      "text/latex": [
       "'491/1056 - Downloading data for site 03255300'"
      ],
      "text/markdown": [
       "'491/1056 - Downloading data for site 03255300'"
      ],
      "text/plain": [
       "[1] \"491/1056 - Downloading data for site 03255300\""
      ]
     },
     "metadata": {
      "display_id": "status",
      "update": true
     },
     "output_type": "display_data"
    },
    {
     "name": "stderr",
     "output_type": "stream",
     "text": [
      "GET: https://nwis.waterservices.usgs.gov/nwis/iv/?site=03255300&format=waterml,1.1&ParameterCd=00060&startDT=2014-01-01&endDT=2025-05-08\n",
      "\n",
      "Warning message in doTryCatch(return(expr), name, parentenv, handler):\n",
      "\"No data available for site 03255300\"\n"
     ]
    },
    {
     "data": {
      "text/html": [
       "'492/1056 - Downloading data for site 03274000'"
      ],
      "text/latex": [
       "'492/1056 - Downloading data for site 03274000'"
      ],
      "text/markdown": [
       "'492/1056 - Downloading data for site 03274000'"
      ],
      "text/plain": [
       "[1] \"492/1056 - Downloading data for site 03274000\""
      ]
     },
     "metadata": {
      "display_id": "status",
      "update": true
     },
     "output_type": "display_data"
    },
    {
     "name": "stderr",
     "output_type": "stream",
     "text": [
      "GET: https://nwis.waterservices.usgs.gov/nwis/iv/?site=03274000&format=waterml,1.1&ParameterCd=00060&startDT=2014-01-01&endDT=2025-05-08\n",
      "\n"
     ]
    },
    {
     "data": {
      "text/html": [
       "'493/1056 - Downloading data for site 03276500'"
      ],
      "text/latex": [
       "'493/1056 - Downloading data for site 03276500'"
      ],
      "text/markdown": [
       "'493/1056 - Downloading data for site 03276500'"
      ],
      "text/plain": [
       "[1] \"493/1056 - Downloading data for site 03276500\""
      ]
     },
     "metadata": {
      "display_id": "status",
      "update": true
     },
     "output_type": "display_data"
    },
    {
     "name": "stderr",
     "output_type": "stream",
     "text": [
      "GET: https://nwis.waterservices.usgs.gov/nwis/iv/?site=03276500&format=waterml,1.1&ParameterCd=00060&startDT=2014-01-01&endDT=2025-05-08\n",
      "\n"
     ]
    },
    {
     "data": {
      "text/html": [
       "'494/1056 - Downloading data for site 03276000'"
      ],
      "text/latex": [
       "'494/1056 - Downloading data for site 03276000'"
      ],
      "text/markdown": [
       "'494/1056 - Downloading data for site 03276000'"
      ],
      "text/plain": [
       "[1] \"494/1056 - Downloading data for site 03276000\""
      ]
     },
     "metadata": {
      "display_id": "status",
      "update": true
     },
     "output_type": "display_data"
    },
    {
     "name": "stderr",
     "output_type": "stream",
     "text": [
      "GET: https://nwis.waterservices.usgs.gov/nwis/iv/?site=03276000&format=waterml,1.1&ParameterCd=00060&startDT=2014-01-01&endDT=2025-05-08\n",
      "\n",
      "Warning message in doTryCatch(return(expr), name, parentenv, handler):\n",
      "\"No data available for site 03276000\"\n"
     ]
    },
    {
     "data": {
      "text/html": [
       "'495/1056 - Downloading data for site 03275990'"
      ],
      "text/latex": [
       "'495/1056 - Downloading data for site 03275990'"
      ],
      "text/markdown": [
       "'495/1056 - Downloading data for site 03275990'"
      ],
      "text/plain": [
       "[1] \"495/1056 - Downloading data for site 03275990\""
      ]
     },
     "metadata": {
      "display_id": "status",
      "update": true
     },
     "output_type": "display_data"
    },
    {
     "name": "stderr",
     "output_type": "stream",
     "text": [
      "GET: https://nwis.waterservices.usgs.gov/nwis/iv/?site=03275990&format=waterml,1.1&ParameterCd=00060&startDT=2014-01-01&endDT=2025-05-08\n",
      "\n",
      "Warning message in doTryCatch(return(expr), name, parentenv, handler):\n",
      "\"No data available for site 03275990\"\n"
     ]
    },
    {
     "data": {
      "text/html": [
       "'496/1056 - Downloading data for site 03272100'"
      ],
      "text/latex": [
       "'496/1056 - Downloading data for site 03272100'"
      ],
      "text/markdown": [
       "'496/1056 - Downloading data for site 03272100'"
      ],
      "text/plain": [
       "[1] \"496/1056 - Downloading data for site 03272100\""
      ]
     },
     "metadata": {
      "display_id": "status",
      "update": true
     },
     "output_type": "display_data"
    },
    {
     "name": "stderr",
     "output_type": "stream",
     "text": [
      "GET: https://nwis.waterservices.usgs.gov/nwis/iv/?site=03272100&format=waterml,1.1&ParameterCd=00060&startDT=2014-01-01&endDT=2025-05-08\n",
      "\n"
     ]
    },
    {
     "data": {
      "text/html": [
       "'497/1056 - Downloading data for site 03275000'"
      ],
      "text/latex": [
       "'497/1056 - Downloading data for site 03275000'"
      ],
      "text/markdown": [
       "'497/1056 - Downloading data for site 03275000'"
      ],
      "text/plain": [
       "[1] \"497/1056 - Downloading data for site 03275000\""
      ]
     },
     "metadata": {
      "display_id": "status",
      "update": true
     },
     "output_type": "display_data"
    },
    {
     "name": "stderr",
     "output_type": "stream",
     "text": [
      "GET: https://nwis.waterservices.usgs.gov/nwis/iv/?site=03275000&format=waterml,1.1&ParameterCd=00060&startDT=2014-01-01&endDT=2025-05-08\n",
      "\n"
     ]
    },
    {
     "data": {
      "text/html": [
       "'498/1056 - Downloading data for site 03272700'"
      ],
      "text/latex": [
       "'498/1056 - Downloading data for site 03272700'"
      ],
      "text/markdown": [
       "'498/1056 - Downloading data for site 03272700'"
      ],
      "text/plain": [
       "[1] \"498/1056 - Downloading data for site 03272700\""
      ]
     },
     "metadata": {
      "display_id": "status",
      "update": true
     },
     "output_type": "display_data"
    },
    {
     "name": "stderr",
     "output_type": "stream",
     "text": [
      "GET: https://nwis.waterservices.usgs.gov/nwis/iv/?site=03272700&format=waterml,1.1&ParameterCd=00060&startDT=2014-01-01&endDT=2025-05-08\n",
      "\n"
     ]
    },
    {
     "data": {
      "text/html": [
       "'499/1056 - Downloading data for site 03272000'"
      ],
      "text/latex": [
       "'499/1056 - Downloading data for site 03272000'"
      ],
      "text/markdown": [
       "'499/1056 - Downloading data for site 03272000'"
      ],
      "text/plain": [
       "[1] \"499/1056 - Downloading data for site 03272000\""
      ]
     },
     "metadata": {
      "display_id": "status",
      "update": true
     },
     "output_type": "display_data"
    },
    {
     "name": "stderr",
     "output_type": "stream",
     "text": [
      "GET: https://nwis.waterservices.usgs.gov/nwis/iv/?site=03272000&format=waterml,1.1&ParameterCd=00060&startDT=2014-01-01&endDT=2025-05-08\n",
      "\n"
     ]
    },
    {
     "data": {
      "text/html": [
       "'500/1056 - Downloading data for site 03234300'"
      ],
      "text/latex": [
       "'500/1056 - Downloading data for site 03234300'"
      ],
      "text/markdown": [
       "'500/1056 - Downloading data for site 03234300'"
      ],
      "text/plain": [
       "[1] \"500/1056 - Downloading data for site 03234300\""
      ]
     },
     "metadata": {
      "display_id": "status",
      "update": true
     },
     "output_type": "display_data"
    },
    {
     "name": "stderr",
     "output_type": "stream",
     "text": [
      "GET: https://nwis.waterservices.usgs.gov/nwis/iv/?site=03234300&format=waterml,1.1&ParameterCd=00060&startDT=2014-01-01&endDT=2025-05-08\n",
      "\n"
     ]
    },
    {
     "data": {
      "text/html": [
       "'501/1056 - Downloading data for site 03231500'"
      ],
      "text/latex": [
       "'501/1056 - Downloading data for site 03231500'"
      ],
      "text/markdown": [
       "'501/1056 - Downloading data for site 03231500'"
      ],
      "text/plain": [
       "[1] \"501/1056 - Downloading data for site 03231500\""
      ]
     },
     "metadata": {
      "display_id": "status",
      "update": true
     },
     "output_type": "display_data"
    },
    {
     "name": "stderr",
     "output_type": "stream",
     "text": [
      "GET: https://nwis.waterservices.usgs.gov/nwis/iv/?site=03231500&format=waterml,1.1&ParameterCd=00060&startDT=2014-01-01&endDT=2025-05-08\n",
      "\n"
     ]
    },
    {
     "data": {
      "text/html": [
       "'502/1056 - Downloading data for site 03157500'"
      ],
      "text/latex": [
       "'502/1056 - Downloading data for site 03157500'"
      ],
      "text/markdown": [
       "'502/1056 - Downloading data for site 03157500'"
      ],
      "text/plain": [
       "[1] \"502/1056 - Downloading data for site 03157500\""
      ]
     },
     "metadata": {
      "display_id": "status",
      "update": true
     },
     "output_type": "display_data"
    },
    {
     "name": "stderr",
     "output_type": "stream",
     "text": [
      "GET: https://nwis.waterservices.usgs.gov/nwis/iv/?site=03157500&format=waterml,1.1&ParameterCd=00060&startDT=2014-01-01&endDT=2025-05-08\n",
      "\n"
     ]
    },
    {
     "data": {
      "text/html": [
       "'503/1056 - Downloading data for site 03231000'"
      ],
      "text/latex": [
       "'503/1056 - Downloading data for site 03231000'"
      ],
      "text/markdown": [
       "'503/1056 - Downloading data for site 03231000'"
      ],
      "text/plain": [
       "[1] \"503/1056 - Downloading data for site 03231000\""
      ]
     },
     "metadata": {
      "display_id": "status",
      "update": true
     },
     "output_type": "display_data"
    },
    {
     "name": "stderr",
     "output_type": "stream",
     "text": [
      "GET: https://nwis.waterservices.usgs.gov/nwis/iv/?site=03231000&format=waterml,1.1&ParameterCd=00060&startDT=2014-01-01&endDT=2025-05-08\n",
      "\n",
      "Warning message in doTryCatch(return(expr), name, parentenv, handler):\n",
      "\"No data available for site 03231000\"\n"
     ]
    },
    {
     "data": {
      "text/html": [
       "'504/1056 - Downloading data for site 03157000'"
      ],
      "text/latex": [
       "'504/1056 - Downloading data for site 03157000'"
      ],
      "text/markdown": [
       "'504/1056 - Downloading data for site 03157000'"
      ],
      "text/plain": [
       "[1] \"504/1056 - Downloading data for site 03157000\""
      ]
     },
     "metadata": {
      "display_id": "status",
      "update": true
     },
     "output_type": "display_data"
    },
    {
     "name": "stderr",
     "output_type": "stream",
     "text": [
      "GET: https://nwis.waterservices.usgs.gov/nwis/iv/?site=03157000&format=waterml,1.1&ParameterCd=00060&startDT=2014-01-01&endDT=2025-05-08\n",
      "\n"
     ]
    },
    {
     "data": {
      "text/html": [
       "'505/1056 - Downloading data for site 03230700'"
      ],
      "text/latex": [
       "'505/1056 - Downloading data for site 03230700'"
      ],
      "text/markdown": [
       "'505/1056 - Downloading data for site 03230700'"
      ],
      "text/plain": [
       "[1] \"505/1056 - Downloading data for site 03230700\""
      ]
     },
     "metadata": {
      "display_id": "status",
      "update": true
     },
     "output_type": "display_data"
    },
    {
     "name": "stderr",
     "output_type": "stream",
     "text": [
      "GET: https://nwis.waterservices.usgs.gov/nwis/iv/?site=03230700&format=waterml,1.1&ParameterCd=00060&startDT=2014-01-01&endDT=2025-05-08\n",
      "\n"
     ]
    },
    {
     "data": {
      "text/html": [
       "'506/1056 - Downloading data for site 03230900'"
      ],
      "text/latex": [
       "'506/1056 - Downloading data for site 03230900'"
      ],
      "text/markdown": [
       "'506/1056 - Downloading data for site 03230900'"
      ],
      "text/plain": [
       "[1] \"506/1056 - Downloading data for site 03230900\""
      ]
     },
     "metadata": {
      "display_id": "status",
      "update": true
     },
     "output_type": "display_data"
    },
    {
     "name": "stderr",
     "output_type": "stream",
     "text": [
      "GET: https://nwis.waterservices.usgs.gov/nwis/iv/?site=03230900&format=waterml,1.1&ParameterCd=00060&startDT=2014-01-01&endDT=2025-05-08\n",
      "\n",
      "Warning message in doTryCatch(return(expr), name, parentenv, handler):\n",
      "\"No data available for site 03230900\"\n"
     ]
    },
    {
     "data": {
      "text/html": [
       "'507/1056 - Downloading data for site 03230500'"
      ],
      "text/latex": [
       "'507/1056 - Downloading data for site 03230500'"
      ],
      "text/markdown": [
       "'507/1056 - Downloading data for site 03230500'"
      ],
      "text/plain": [
       "[1] \"507/1056 - Downloading data for site 03230500\""
      ]
     },
     "metadata": {
      "display_id": "status",
      "update": true
     },
     "output_type": "display_data"
    },
    {
     "name": "stderr",
     "output_type": "stream",
     "text": [
      "GET: https://nwis.waterservices.usgs.gov/nwis/iv/?site=03230500&format=waterml,1.1&ParameterCd=00060&startDT=2014-01-01&endDT=2025-05-08\n",
      "\n"
     ]
    },
    {
     "data": {
      "text/html": [
       "'508/1056 - Downloading data for site 03156400'"
      ],
      "text/latex": [
       "'508/1056 - Downloading data for site 03156400'"
      ],
      "text/markdown": [
       "'508/1056 - Downloading data for site 03156400'"
      ],
      "text/plain": [
       "[1] \"508/1056 - Downloading data for site 03156400\""
      ]
     },
     "metadata": {
      "display_id": "status",
      "update": true
     },
     "output_type": "display_data"
    },
    {
     "name": "stderr",
     "output_type": "stream",
     "text": [
      "GET: https://nwis.waterservices.usgs.gov/nwis/iv/?site=03156400&format=waterml,1.1&ParameterCd=00060&startDT=2014-01-01&endDT=2025-05-08\n",
      "\n"
     ]
    },
    {
     "data": {
      "text/html": [
       "'509/1056 - Downloading data for site 03229796'"
      ],
      "text/latex": [
       "'509/1056 - Downloading data for site 03229796'"
      ],
      "text/markdown": [
       "'509/1056 - Downloading data for site 03229796'"
      ],
      "text/plain": [
       "[1] \"509/1056 - Downloading data for site 03229796\""
      ]
     },
     "metadata": {
      "display_id": "status",
      "update": true
     },
     "output_type": "display_data"
    },
    {
     "name": "stderr",
     "output_type": "stream",
     "text": [
      "GET: https://nwis.waterservices.usgs.gov/nwis/iv/?site=03229796&format=waterml,1.1&ParameterCd=00060&startDT=2014-01-01&endDT=2025-05-08\n",
      "\n"
     ]
    },
    {
     "data": {
      "text/html": [
       "'510/1056 - Downloading data for site 03297900'"
      ],
      "text/latex": [
       "'510/1056 - Downloading data for site 03297900'"
      ],
      "text/markdown": [
       "'510/1056 - Downloading data for site 03297900'"
      ],
      "text/plain": [
       "[1] \"510/1056 - Downloading data for site 03297900\""
      ]
     },
     "metadata": {
      "display_id": "status",
      "update": true
     },
     "output_type": "display_data"
    },
    {
     "name": "stderr",
     "output_type": "stream",
     "text": [
      "GET: https://nwis.waterservices.usgs.gov/nwis/iv/?site=03297900&format=waterml,1.1&ParameterCd=00060&startDT=2014-01-01&endDT=2025-05-08\n",
      "\n"
     ]
    },
    {
     "data": {
      "text/html": [
       "'511/1056 - Downloading data for site 0329247450'"
      ],
      "text/latex": [
       "'511/1056 - Downloading data for site 0329247450'"
      ],
      "text/markdown": [
       "'511/1056 - Downloading data for site 0329247450'"
      ],
      "text/plain": [
       "[1] \"511/1056 - Downloading data for site 0329247450\""
      ]
     },
     "metadata": {
      "display_id": "status",
      "update": true
     },
     "output_type": "display_data"
    },
    {
     "name": "stderr",
     "output_type": "stream",
     "text": [
      "GET: https://nwis.waterservices.usgs.gov/nwis/iv/?site=0329247450&format=waterml,1.1&ParameterCd=00060&startDT=2014-01-01&endDT=2025-05-08\n",
      "\n",
      "Warning message in doTryCatch(return(expr), name, parentenv, handler):\n",
      "\"No data available for site 0329247450\"\n"
     ]
    },
    {
     "data": {
      "text/html": [
       "'512/1056 - Downloading data for site 03294445'"
      ],
      "text/latex": [
       "'512/1056 - Downloading data for site 03294445'"
      ],
      "text/markdown": [
       "'512/1056 - Downloading data for site 03294445'"
      ],
      "text/plain": [
       "[1] \"512/1056 - Downloading data for site 03294445\""
      ]
     },
     "metadata": {
      "display_id": "status",
      "update": true
     },
     "output_type": "display_data"
    },
    {
     "name": "stderr",
     "output_type": "stream",
     "text": [
      "GET: https://nwis.waterservices.usgs.gov/nwis/iv/?site=03294445&format=waterml,1.1&ParameterCd=00060&startDT=2014-01-01&endDT=2025-05-08\n",
      "\n",
      "Warning message in doTryCatch(return(expr), name, parentenv, handler):\n",
      "\"No data available for site 03294445\"\n"
     ]
    },
    {
     "data": {
      "text/html": [
       "'513/1056 - Downloading data for site 03292475'"
      ],
      "text/latex": [
       "'513/1056 - Downloading data for site 03292475'"
      ],
      "text/markdown": [
       "'513/1056 - Downloading data for site 03292475'"
      ],
      "text/plain": [
       "[1] \"513/1056 - Downloading data for site 03292475\""
      ]
     },
     "metadata": {
      "display_id": "status",
      "update": true
     },
     "output_type": "display_data"
    },
    {
     "name": "stderr",
     "output_type": "stream",
     "text": [
      "GET: https://nwis.waterservices.usgs.gov/nwis/iv/?site=03292475&format=waterml,1.1&ParameterCd=00060&startDT=2014-01-01&endDT=2025-05-08\n",
      "\n"
     ]
    },
    {
     "data": {
      "text/html": [
       "'514/1056 - Downloading data for site 03292480'"
      ],
      "text/latex": [
       "'514/1056 - Downloading data for site 03292480'"
      ],
      "text/markdown": [
       "'514/1056 - Downloading data for site 03292480'"
      ],
      "text/plain": [
       "[1] \"514/1056 - Downloading data for site 03292480\""
      ]
     },
     "metadata": {
      "display_id": "status",
      "update": true
     },
     "output_type": "display_data"
    },
    {
     "name": "stderr",
     "output_type": "stream",
     "text": [
      "GET: https://nwis.waterservices.usgs.gov/nwis/iv/?site=03292480&format=waterml,1.1&ParameterCd=00060&startDT=2014-01-01&endDT=2025-05-08\n",
      "\n"
     ]
    },
    {
     "data": {
      "text/html": [
       "'515/1056 - Downloading data for site 03292470'"
      ],
      "text/latex": [
       "'515/1056 - Downloading data for site 03292470'"
      ],
      "text/markdown": [
       "'515/1056 - Downloading data for site 03292470'"
      ],
      "text/plain": [
       "[1] \"515/1056 - Downloading data for site 03292470\""
      ]
     },
     "metadata": {
      "display_id": "status",
      "update": true
     },
     "output_type": "display_data"
    },
    {
     "name": "stderr",
     "output_type": "stream",
     "text": [
      "GET: https://nwis.waterservices.usgs.gov/nwis/iv/?site=03292470&format=waterml,1.1&ParameterCd=00060&startDT=2014-01-01&endDT=2025-05-08\n",
      "\n"
     ]
    },
    {
     "data": {
      "text/html": [
       "'516/1056 - Downloading data for site 03294000'"
      ],
      "text/latex": [
       "'516/1056 - Downloading data for site 03294000'"
      ],
      "text/markdown": [
       "'516/1056 - Downloading data for site 03294000'"
      ],
      "text/plain": [
       "[1] \"516/1056 - Downloading data for site 03294000\""
      ]
     },
     "metadata": {
      "display_id": "status",
      "update": true
     },
     "output_type": "display_data"
    },
    {
     "name": "stderr",
     "output_type": "stream",
     "text": [
      "GET: https://nwis.waterservices.usgs.gov/nwis/iv/?site=03294000&format=waterml,1.1&ParameterCd=00060&startDT=2014-01-01&endDT=2025-05-08\n",
      "\n"
     ]
    },
    {
     "data": {
      "text/html": [
       "'517/1056 - Downloading data for site 03302849'"
      ],
      "text/latex": [
       "'517/1056 - Downloading data for site 03302849'"
      ],
      "text/markdown": [
       "'517/1056 - Downloading data for site 03302849'"
      ],
      "text/plain": [
       "[1] \"517/1056 - Downloading data for site 03302849\""
      ]
     },
     "metadata": {
      "display_id": "status",
      "update": true
     },
     "output_type": "display_data"
    },
    {
     "name": "stderr",
     "output_type": "stream",
     "text": [
      "GET: https://nwis.waterservices.usgs.gov/nwis/iv/?site=03302849&format=waterml,1.1&ParameterCd=00060&startDT=2014-01-01&endDT=2025-05-08\n",
      "\n",
      "Warning message in doTryCatch(return(expr), name, parentenv, handler):\n",
      "\"No data available for site 03302849\"\n"
     ]
    },
    {
     "data": {
      "text/html": [
       "'518/1056 - Downloading data for site 03302800'"
      ],
      "text/latex": [
       "'518/1056 - Downloading data for site 03302800'"
      ],
      "text/markdown": [
       "'518/1056 - Downloading data for site 03302800'"
      ],
      "text/plain": [
       "[1] \"518/1056 - Downloading data for site 03302800\""
      ]
     },
     "metadata": {
      "display_id": "status",
      "update": true
     },
     "output_type": "display_data"
    },
    {
     "name": "stderr",
     "output_type": "stream",
     "text": [
      "GET: https://nwis.waterservices.usgs.gov/nwis/iv/?site=03302800&format=waterml,1.1&ParameterCd=00060&startDT=2014-01-01&endDT=2025-05-08\n",
      "\n"
     ]
    },
    {
     "data": {
      "text/html": [
       "'519/1056 - Downloading data for site 03302680'"
      ],
      "text/latex": [
       "'519/1056 - Downloading data for site 03302680'"
      ],
      "text/markdown": [
       "'519/1056 - Downloading data for site 03302680'"
      ],
      "text/plain": [
       "[1] \"519/1056 - Downloading data for site 03302680\""
      ]
     },
     "metadata": {
      "display_id": "status",
      "update": true
     },
     "output_type": "display_data"
    },
    {
     "name": "stderr",
     "output_type": "stream",
     "text": [
      "GET: https://nwis.waterservices.usgs.gov/nwis/iv/?site=03302680&format=waterml,1.1&ParameterCd=00060&startDT=2014-01-01&endDT=2025-05-08\n",
      "\n"
     ]
    },
    {
     "data": {
      "text/html": [
       "'520/1056 - Downloading data for site 03374000'"
      ],
      "text/latex": [
       "'520/1056 - Downloading data for site 03374000'"
      ],
      "text/markdown": [
       "'520/1056 - Downloading data for site 03374000'"
      ],
      "text/plain": [
       "[1] \"520/1056 - Downloading data for site 03374000\""
      ]
     },
     "metadata": {
      "display_id": "status",
      "update": true
     },
     "output_type": "display_data"
    },
    {
     "name": "stderr",
     "output_type": "stream",
     "text": [
      "GET: https://nwis.waterservices.usgs.gov/nwis/iv/?site=03374000&format=waterml,1.1&ParameterCd=00060&startDT=2014-01-01&endDT=2025-05-08\n",
      "\n"
     ]
    },
    {
     "data": {
      "text/html": [
       "'521/1056 - Downloading data for site 03373980'"
      ],
      "text/latex": [
       "'521/1056 - Downloading data for site 03373980'"
      ],
      "text/markdown": [
       "'521/1056 - Downloading data for site 03373980'"
      ],
      "text/plain": [
       "[1] \"521/1056 - Downloading data for site 03373980\""
      ]
     },
     "metadata": {
      "display_id": "status",
      "update": true
     },
     "output_type": "display_data"
    },
    {
     "name": "stderr",
     "output_type": "stream",
     "text": [
      "GET: https://nwis.waterservices.usgs.gov/nwis/iv/?site=03373980&format=waterml,1.1&ParameterCd=00060&startDT=2014-01-01&endDT=2025-05-08\n",
      "\n"
     ]
    },
    {
     "data": {
      "text/html": [
       "'522/1056 - Downloading data for site 03373610'"
      ],
      "text/latex": [
       "'522/1056 - Downloading data for site 03373610'"
      ],
      "text/markdown": [
       "'522/1056 - Downloading data for site 03373610'"
      ],
      "text/plain": [
       "[1] \"522/1056 - Downloading data for site 03373610\""
      ]
     },
     "metadata": {
      "display_id": "status",
      "update": true
     },
     "output_type": "display_data"
    },
    {
     "name": "stderr",
     "output_type": "stream",
     "text": [
      "GET: https://nwis.waterservices.usgs.gov/nwis/iv/?site=03373610&format=waterml,1.1&ParameterCd=00060&startDT=2014-01-01&endDT=2025-05-08\n",
      "\n"
     ]
    },
    {
     "data": {
      "text/html": [
       "'523/1056 - Downloading data for site 03373560'"
      ],
      "text/latex": [
       "'523/1056 - Downloading data for site 03373560'"
      ],
      "text/markdown": [
       "'523/1056 - Downloading data for site 03373560'"
      ],
      "text/plain": [
       "[1] \"523/1056 - Downloading data for site 03373560\""
      ]
     },
     "metadata": {
      "display_id": "status",
      "update": true
     },
     "output_type": "display_data"
    },
    {
     "name": "stderr",
     "output_type": "stream",
     "text": [
      "GET: https://nwis.waterservices.usgs.gov/nwis/iv/?site=03373560&format=waterml,1.1&ParameterCd=00060&startDT=2014-01-01&endDT=2025-05-08\n",
      "\n"
     ]
    },
    {
     "data": {
      "text/html": [
       "'524/1056 - Downloading data for site 03373500'"
      ],
      "text/latex": [
       "'524/1056 - Downloading data for site 03373500'"
      ],
      "text/markdown": [
       "'524/1056 - Downloading data for site 03373500'"
      ],
      "text/plain": [
       "[1] \"524/1056 - Downloading data for site 03373500\""
      ]
     },
     "metadata": {
      "display_id": "status",
      "update": true
     },
     "output_type": "display_data"
    },
    {
     "name": "stderr",
     "output_type": "stream",
     "text": [
      "GET: https://nwis.waterservices.usgs.gov/nwis/iv/?site=03373500&format=waterml,1.1&ParameterCd=00060&startDT=2014-01-01&endDT=2025-05-08\n",
      "\n"
     ]
    },
    {
     "data": {
      "text/html": [
       "'525/1056 - Downloading data for site 03373508'"
      ],
      "text/latex": [
       "'525/1056 - Downloading data for site 03373508'"
      ],
      "text/markdown": [
       "'525/1056 - Downloading data for site 03373508'"
      ],
      "text/plain": [
       "[1] \"525/1056 - Downloading data for site 03373508\""
      ]
     },
     "metadata": {
      "display_id": "status",
      "update": true
     },
     "output_type": "display_data"
    },
    {
     "name": "stderr",
     "output_type": "stream",
     "text": [
      "GET: https://nwis.waterservices.usgs.gov/nwis/iv/?site=03373508&format=waterml,1.1&ParameterCd=00060&startDT=2014-01-01&endDT=2025-05-08\n",
      "\n"
     ]
    },
    {
     "data": {
      "text/html": [
       "'526/1056 - Downloading data for site 03343010'"
      ],
      "text/latex": [
       "'526/1056 - Downloading data for site 03343010'"
      ],
      "text/markdown": [
       "'526/1056 - Downloading data for site 03343010'"
      ],
      "text/plain": [
       "[1] \"526/1056 - Downloading data for site 03343010\""
      ]
     },
     "metadata": {
      "display_id": "status",
      "update": true
     },
     "output_type": "display_data"
    },
    {
     "name": "stderr",
     "output_type": "stream",
     "text": [
      "GET: https://nwis.waterservices.usgs.gov/nwis/iv/?site=03343010&format=waterml,1.1&ParameterCd=00060&startDT=2014-01-01&endDT=2025-05-08\n",
      "\n"
     ]
    },
    {
     "data": {
      "text/html": [
       "'527/1056 - Downloading data for site 03346500'"
      ],
      "text/latex": [
       "'527/1056 - Downloading data for site 03346500'"
      ],
      "text/markdown": [
       "'527/1056 - Downloading data for site 03346500'"
      ],
      "text/plain": [
       "[1] \"527/1056 - Downloading data for site 03346500\""
      ]
     },
     "metadata": {
      "display_id": "status",
      "update": true
     },
     "output_type": "display_data"
    },
    {
     "name": "stderr",
     "output_type": "stream",
     "text": [
      "GET: https://nwis.waterservices.usgs.gov/nwis/iv/?site=03346500&format=waterml,1.1&ParameterCd=00060&startDT=2014-01-01&endDT=2025-05-08\n",
      "\n"
     ]
    },
    {
     "data": {
      "text/html": [
       "'528/1056 - Downloading data for site 03371500'"
      ],
      "text/latex": [
       "'528/1056 - Downloading data for site 03371500'"
      ],
      "text/markdown": [
       "'528/1056 - Downloading data for site 03371500'"
      ],
      "text/plain": [
       "[1] \"528/1056 - Downloading data for site 03371500\""
      ]
     },
     "metadata": {
      "display_id": "status",
      "update": true
     },
     "output_type": "display_data"
    },
    {
     "name": "stderr",
     "output_type": "stream",
     "text": [
      "GET: https://nwis.waterservices.usgs.gov/nwis/iv/?site=03371500&format=waterml,1.1&ParameterCd=00060&startDT=2014-01-01&endDT=2025-05-08\n",
      "\n"
     ]
    },
    {
     "data": {
      "text/html": [
       "'529/1056 - Downloading data for site 03360730'"
      ],
      "text/latex": [
       "'529/1056 - Downloading data for site 03360730'"
      ],
      "text/markdown": [
       "'529/1056 - Downloading data for site 03360730'"
      ],
      "text/plain": [
       "[1] \"529/1056 - Downloading data for site 03360730\""
      ]
     },
     "metadata": {
      "display_id": "status",
      "update": true
     },
     "output_type": "display_data"
    },
    {
     "name": "stderr",
     "output_type": "stream",
     "text": [
      "GET: https://nwis.waterservices.usgs.gov/nwis/iv/?site=03360730&format=waterml,1.1&ParameterCd=00060&startDT=2014-01-01&endDT=2025-05-08\n",
      "\n"
     ]
    },
    {
     "data": {
      "text/html": [
       "'530/1056 - Downloading data for site 03378000'"
      ],
      "text/latex": [
       "'530/1056 - Downloading data for site 03378000'"
      ],
      "text/markdown": [
       "'530/1056 - Downloading data for site 03378000'"
      ],
      "text/plain": [
       "[1] \"530/1056 - Downloading data for site 03378000\""
      ]
     },
     "metadata": {
      "display_id": "status",
      "update": true
     },
     "output_type": "display_data"
    },
    {
     "name": "stderr",
     "output_type": "stream",
     "text": [
      "GET: https://nwis.waterservices.usgs.gov/nwis/iv/?site=03378000&format=waterml,1.1&ParameterCd=00060&startDT=2014-01-01&endDT=2025-05-08\n",
      "\n"
     ]
    },
    {
     "data": {
      "text/html": [
       "'531/1056 - Downloading data for site 03377500'"
      ],
      "text/latex": [
       "'531/1056 - Downloading data for site 03377500'"
      ],
      "text/markdown": [
       "'531/1056 - Downloading data for site 03377500'"
      ],
      "text/plain": [
       "[1] \"531/1056 - Downloading data for site 03377500\""
      ]
     },
     "metadata": {
      "display_id": "status",
      "update": true
     },
     "output_type": "display_data"
    },
    {
     "name": "stderr",
     "output_type": "stream",
     "text": [
      "GET: https://nwis.waterservices.usgs.gov/nwis/iv/?site=03377500&format=waterml,1.1&ParameterCd=00060&startDT=2014-01-01&endDT=2025-05-08\n",
      "\n"
     ]
    },
    {
     "data": {
      "text/html": [
       "'532/1056 - Downloading data for site 03379500'"
      ],
      "text/latex": [
       "'532/1056 - Downloading data for site 03379500'"
      ],
      "text/markdown": [
       "'532/1056 - Downloading data for site 03379500'"
      ],
      "text/plain": [
       "[1] \"532/1056 - Downloading data for site 03379500\""
      ]
     },
     "metadata": {
      "display_id": "status",
      "update": true
     },
     "output_type": "display_data"
    },
    {
     "name": "stderr",
     "output_type": "stream",
     "text": [
      "GET: https://nwis.waterservices.usgs.gov/nwis/iv/?site=03379500&format=waterml,1.1&ParameterCd=00060&startDT=2014-01-01&endDT=2025-05-08\n",
      "\n"
     ]
    },
    {
     "data": {
      "text/html": [
       "'533/1056 - Downloading data for site 03345500'"
      ],
      "text/latex": [
       "'533/1056 - Downloading data for site 03345500'"
      ],
      "text/markdown": [
       "'533/1056 - Downloading data for site 03345500'"
      ],
      "text/plain": [
       "[1] \"533/1056 - Downloading data for site 03345500\""
      ]
     },
     "metadata": {
      "display_id": "status",
      "update": true
     },
     "output_type": "display_data"
    },
    {
     "name": "stderr",
     "output_type": "stream",
     "text": [
      "GET: https://nwis.waterservices.usgs.gov/nwis/iv/?site=03345500&format=waterml,1.1&ParameterCd=00060&startDT=2014-01-01&endDT=2025-05-08\n",
      "\n"
     ]
    },
    {
     "data": {
      "text/html": [
       "'534/1056 - Downloading data for site 03346000'"
      ],
      "text/latex": [
       "'534/1056 - Downloading data for site 03346000'"
      ],
      "text/markdown": [
       "'534/1056 - Downloading data for site 03346000'"
      ],
      "text/plain": [
       "[1] \"534/1056 - Downloading data for site 03346000\""
      ]
     },
     "metadata": {
      "display_id": "status",
      "update": true
     },
     "output_type": "display_data"
    },
    {
     "name": "stderr",
     "output_type": "stream",
     "text": [
      "GET: https://nwis.waterservices.usgs.gov/nwis/iv/?site=03346000&format=waterml,1.1&ParameterCd=00060&startDT=2014-01-01&endDT=2025-05-08\n",
      "\n"
     ]
    },
    {
     "data": {
      "text/html": [
       "'535/1056 - Downloading data for site 03378635'"
      ],
      "text/latex": [
       "'535/1056 - Downloading data for site 03378635'"
      ],
      "text/markdown": [
       "'535/1056 - Downloading data for site 03378635'"
      ],
      "text/plain": [
       "[1] \"535/1056 - Downloading data for site 03378635\""
      ]
     },
     "metadata": {
      "display_id": "status",
      "update": true
     },
     "output_type": "display_data"
    },
    {
     "name": "stderr",
     "output_type": "stream",
     "text": [
      "GET: https://nwis.waterservices.usgs.gov/nwis/iv/?site=03378635&format=waterml,1.1&ParameterCd=00060&startDT=2014-01-01&endDT=2025-05-08\n",
      "\n"
     ]
    },
    {
     "data": {
      "text/html": [
       "'536/1056 - Downloading data for site 03366500'"
      ],
      "text/latex": [
       "'536/1056 - Downloading data for site 03366500'"
      ],
      "text/markdown": [
       "'536/1056 - Downloading data for site 03366500'"
      ],
      "text/plain": [
       "[1] \"536/1056 - Downloading data for site 03366500\""
      ]
     },
     "metadata": {
      "display_id": "status",
      "update": true
     },
     "output_type": "display_data"
    },
    {
     "name": "stderr",
     "output_type": "stream",
     "text": [
      "GET: https://nwis.waterservices.usgs.gov/nwis/iv/?site=03366500&format=waterml,1.1&ParameterCd=00060&startDT=2014-01-01&endDT=2025-05-08\n",
      "\n"
     ]
    },
    {
     "data": {
      "text/html": [
       "'537/1056 - Downloading data for site 03291780'"
      ],
      "text/latex": [
       "'537/1056 - Downloading data for site 03291780'"
      ],
      "text/markdown": [
       "'537/1056 - Downloading data for site 03291780'"
      ],
      "text/plain": [
       "[1] \"537/1056 - Downloading data for site 03291780\""
      ]
     },
     "metadata": {
      "display_id": "status",
      "update": true
     },
     "output_type": "display_data"
    },
    {
     "name": "stderr",
     "output_type": "stream",
     "text": [
      "GET: https://nwis.waterservices.usgs.gov/nwis/iv/?site=03291780&format=waterml,1.1&ParameterCd=00060&startDT=2014-01-01&endDT=2025-05-08\n",
      "\n"
     ]
    },
    {
     "data": {
      "text/html": [
       "'538/1056 - Downloading data for site 03371600'"
      ],
      "text/latex": [
       "'538/1056 - Downloading data for site 03371600'"
      ],
      "text/markdown": [
       "'538/1056 - Downloading data for site 03371600'"
      ],
      "text/plain": [
       "[1] \"538/1056 - Downloading data for site 03371600\""
      ]
     },
     "metadata": {
      "display_id": "status",
      "update": true
     },
     "output_type": "display_data"
    },
    {
     "name": "stderr",
     "output_type": "stream",
     "text": [
      "GET: https://nwis.waterservices.usgs.gov/nwis/iv/?site=03371600&format=waterml,1.1&ParameterCd=00060&startDT=2014-01-01&endDT=2025-05-08\n",
      "\n"
     ]
    },
    {
     "data": {
      "text/html": [
       "'539/1056 - Downloading data for site 03369500'"
      ],
      "text/latex": [
       "'539/1056 - Downloading data for site 03369500'"
      ],
      "text/markdown": [
       "'539/1056 - Downloading data for site 03369500'"
      ],
      "text/plain": [
       "[1] \"539/1056 - Downloading data for site 03369500\""
      ]
     },
     "metadata": {
      "display_id": "status",
      "update": true
     },
     "output_type": "display_data"
    },
    {
     "name": "stderr",
     "output_type": "stream",
     "text": [
      "GET: https://nwis.waterservices.usgs.gov/nwis/iv/?site=03369500&format=waterml,1.1&ParameterCd=00060&startDT=2014-01-01&endDT=2025-05-08\n",
      "\n"
     ]
    },
    {
     "data": {
      "text/html": [
       "'540/1056 - Downloading data for site 03365500'"
      ],
      "text/latex": [
       "'540/1056 - Downloading data for site 03365500'"
      ],
      "text/markdown": [
       "'540/1056 - Downloading data for site 03365500'"
      ],
      "text/plain": [
       "[1] \"540/1056 - Downloading data for site 03365500\""
      ]
     },
     "metadata": {
      "display_id": "status",
      "update": true
     },
     "output_type": "display_data"
    },
    {
     "name": "stderr",
     "output_type": "stream",
     "text": [
      "GET: https://nwis.waterservices.usgs.gov/nwis/iv/?site=03365500&format=waterml,1.1&ParameterCd=00060&startDT=2014-01-01&endDT=2025-05-08\n",
      "\n"
     ]
    },
    {
     "data": {
      "text/html": [
       "'541/1056 - Downloading data for site 03368000'"
      ],
      "text/latex": [
       "'541/1056 - Downloading data for site 03368000'"
      ],
      "text/markdown": [
       "'541/1056 - Downloading data for site 03368000'"
      ],
      "text/plain": [
       "[1] \"541/1056 - Downloading data for site 03368000\""
      ]
     },
     "metadata": {
      "display_id": "status",
      "update": true
     },
     "output_type": "display_data"
    },
    {
     "name": "stderr",
     "output_type": "stream",
     "text": [
      "GET: https://nwis.waterservices.usgs.gov/nwis/iv/?site=03368000&format=waterml,1.1&ParameterCd=00060&startDT=2014-01-01&endDT=2025-05-08\n",
      "\n"
     ]
    },
    {
     "data": {
      "text/html": [
       "'542/1056 - Downloading data for site 03364650'"
      ],
      "text/latex": [
       "'542/1056 - Downloading data for site 03364650'"
      ],
      "text/markdown": [
       "'542/1056 - Downloading data for site 03364650'"
      ],
      "text/plain": [
       "[1] \"542/1056 - Downloading data for site 03364650\""
      ]
     },
     "metadata": {
      "display_id": "status",
      "update": true
     },
     "output_type": "display_data"
    },
    {
     "name": "stderr",
     "output_type": "stream",
     "text": [
      "GET: https://nwis.waterservices.usgs.gov/nwis/iv/?site=03364650&format=waterml,1.1&ParameterCd=00060&startDT=2014-01-01&endDT=2025-05-08\n",
      "\n"
     ]
    },
    {
     "data": {
      "text/html": [
       "'543/1056 - Downloading data for site 03364340'"
      ],
      "text/latex": [
       "'543/1056 - Downloading data for site 03364340'"
      ],
      "text/markdown": [
       "'543/1056 - Downloading data for site 03364340'"
      ],
      "text/plain": [
       "[1] \"543/1056 - Downloading data for site 03364340\""
      ]
     },
     "metadata": {
      "display_id": "status",
      "update": true
     },
     "output_type": "display_data"
    },
    {
     "name": "stderr",
     "output_type": "stream",
     "text": [
      "GET: https://nwis.waterservices.usgs.gov/nwis/iv/?site=03364340&format=waterml,1.1&ParameterCd=00060&startDT=2014-01-01&endDT=2025-05-08\n",
      "\n",
      "Warning message in doTryCatch(return(expr), name, parentenv, handler):\n",
      "\"No data available for site 03364340\"\n"
     ]
    },
    {
     "data": {
      "text/html": [
       "'544/1056 - Downloading data for site 03364000'"
      ],
      "text/latex": [
       "'544/1056 - Downloading data for site 03364000'"
      ],
      "text/markdown": [
       "'544/1056 - Downloading data for site 03364000'"
      ],
      "text/plain": [
       "[1] \"544/1056 - Downloading data for site 03364000\""
      ]
     },
     "metadata": {
      "display_id": "status",
      "update": true
     },
     "output_type": "display_data"
    },
    {
     "name": "stderr",
     "output_type": "stream",
     "text": [
      "GET: https://nwis.waterservices.usgs.gov/nwis/iv/?site=03364000&format=waterml,1.1&ParameterCd=00060&startDT=2014-01-01&endDT=2025-05-08\n",
      "\n"
     ]
    },
    {
     "data": {
      "text/html": [
       "'545/1056 - Downloading data for site 03371650'"
      ],
      "text/latex": [
       "'545/1056 - Downloading data for site 03371650'"
      ],
      "text/markdown": [
       "'545/1056 - Downloading data for site 03371650'"
      ],
      "text/plain": [
       "[1] \"545/1056 - Downloading data for site 03371650\""
      ]
     },
     "metadata": {
      "display_id": "status",
      "update": true
     },
     "output_type": "display_data"
    },
    {
     "name": "stderr",
     "output_type": "stream",
     "text": [
      "GET: https://nwis.waterservices.usgs.gov/nwis/iv/?site=03371650&format=waterml,1.1&ParameterCd=00060&startDT=2014-01-01&endDT=2025-05-08\n",
      "\n"
     ]
    },
    {
     "data": {
      "text/html": [
       "'546/1056 - Downloading data for site 03360600'"
      ],
      "text/latex": [
       "'546/1056 - Downloading data for site 03360600'"
      ],
      "text/markdown": [
       "'546/1056 - Downloading data for site 03360600'"
      ],
      "text/plain": [
       "[1] \"546/1056 - Downloading data for site 03360600\""
      ]
     },
     "metadata": {
      "display_id": "status",
      "update": true
     },
     "output_type": "display_data"
    },
    {
     "name": "stderr",
     "output_type": "stream",
     "text": [
      "GET: https://nwis.waterservices.usgs.gov/nwis/iv/?site=03360600&format=waterml,1.1&ParameterCd=00060&startDT=2014-01-01&endDT=2025-05-08\n",
      "\n"
     ]
    },
    {
     "data": {
      "text/html": [
       "'547/1056 - Downloading data for site 03360590'"
      ],
      "text/latex": [
       "'547/1056 - Downloading data for site 03360590'"
      ],
      "text/markdown": [
       "'547/1056 - Downloading data for site 03360590'"
      ],
      "text/plain": [
       "[1] \"547/1056 - Downloading data for site 03360590\""
      ]
     },
     "metadata": {
      "display_id": "status",
      "update": true
     },
     "output_type": "display_data"
    },
    {
     "name": "stderr",
     "output_type": "stream",
     "text": [
      "GET: https://nwis.waterservices.usgs.gov/nwis/iv/?site=03360590&format=waterml,1.1&ParameterCd=00060&startDT=2014-01-01&endDT=2025-05-08\n",
      "\n",
      "Warning message in doTryCatch(return(expr), name, parentenv, handler):\n",
      "\"No data available for site 03360590\"\n"
     ]
    },
    {
     "data": {
      "text/html": [
       "'548/1056 - Downloading data for site 03360500'"
      ],
      "text/latex": [
       "'548/1056 - Downloading data for site 03360500'"
      ],
      "text/markdown": [
       "'548/1056 - Downloading data for site 03360500'"
      ],
      "text/plain": [
       "[1] \"548/1056 - Downloading data for site 03360500\""
      ]
     },
     "metadata": {
      "display_id": "status",
      "update": true
     },
     "output_type": "display_data"
    },
    {
     "name": "stderr",
     "output_type": "stream",
     "text": [
      "GET: https://nwis.waterservices.usgs.gov/nwis/iv/?site=03360500&format=waterml,1.1&ParameterCd=00060&startDT=2014-01-01&endDT=2025-05-08\n",
      "\n"
     ]
    },
    {
     "data": {
      "text/html": [
       "'549/1056 - Downloading data for site 03342500'"
      ],
      "text/latex": [
       "'549/1056 - Downloading data for site 03342500'"
      ],
      "text/markdown": [
       "'549/1056 - Downloading data for site 03342500'"
      ],
      "text/plain": [
       "[1] \"549/1056 - Downloading data for site 03342500\""
      ]
     },
     "metadata": {
      "display_id": "status",
      "update": true
     },
     "output_type": "display_data"
    },
    {
     "name": "stderr",
     "output_type": "stream",
     "text": [
      "GET: https://nwis.waterservices.usgs.gov/nwis/iv/?site=03342500&format=waterml,1.1&ParameterCd=00060&startDT=2014-01-01&endDT=2025-05-08\n",
      "\n"
     ]
    },
    {
     "data": {
      "text/html": [
       "'550/1056 - Downloading data for site 03372500'"
      ],
      "text/latex": [
       "'550/1056 - Downloading data for site 03372500'"
      ],
      "text/markdown": [
       "'550/1056 - Downloading data for site 03372500'"
      ],
      "text/plain": [
       "[1] \"550/1056 - Downloading data for site 03372500\""
      ]
     },
     "metadata": {
      "display_id": "status",
      "update": true
     },
     "output_type": "display_data"
    },
    {
     "name": "stderr",
     "output_type": "stream",
     "text": [
      "GET: https://nwis.waterservices.usgs.gov/nwis/iv/?site=03372500&format=waterml,1.1&ParameterCd=00060&startDT=2014-01-01&endDT=2025-05-08\n",
      "\n",
      "Warning message in doTryCatch(return(expr), name, parentenv, handler):\n",
      "\"No data available for site 03372500\"\n"
     ]
    },
    {
     "data": {
      "text/html": [
       "'551/1056 - Downloading data for site 03372400'"
      ],
      "text/latex": [
       "'551/1056 - Downloading data for site 03372400'"
      ],
      "text/markdown": [
       "'551/1056 - Downloading data for site 03372400'"
      ],
      "text/plain": [
       "[1] \"551/1056 - Downloading data for site 03372400\""
      ]
     },
     "metadata": {
      "display_id": "status",
      "update": true
     },
     "output_type": "display_data"
    },
    {
     "name": "stderr",
     "output_type": "stream",
     "text": [
      "GET: https://nwis.waterservices.usgs.gov/nwis/iv/?site=03372400&format=waterml,1.1&ParameterCd=00060&startDT=2014-01-01&endDT=2025-05-08\n",
      "\n",
      "Warning message in doTryCatch(return(expr), name, parentenv, handler):\n",
      "\"No data available for site 03372400\"\n"
     ]
    },
    {
     "data": {
      "text/html": [
       "'552/1056 - Downloading data for site 03342000'"
      ],
      "text/latex": [
       "'552/1056 - Downloading data for site 03342000'"
      ],
      "text/markdown": [
       "'552/1056 - Downloading data for site 03342000'"
      ],
      "text/plain": [
       "[1] \"552/1056 - Downloading data for site 03342000\""
      ]
     },
     "metadata": {
      "display_id": "status",
      "update": true
     },
     "output_type": "display_data"
    },
    {
     "name": "stderr",
     "output_type": "stream",
     "text": [
      "GET: https://nwis.waterservices.usgs.gov/nwis/iv/?site=03342000&format=waterml,1.1&ParameterCd=00060&startDT=2014-01-01&endDT=2025-05-08\n",
      "\n"
     ]
    },
    {
     "data": {
      "text/html": [
       "'553/1056 - Downloading data for site 03360652'"
      ],
      "text/latex": [
       "'553/1056 - Downloading data for site 03360652'"
      ],
      "text/markdown": [
       "'553/1056 - Downloading data for site 03360652'"
      ],
      "text/plain": [
       "[1] \"553/1056 - Downloading data for site 03360652\""
      ]
     },
     "metadata": {
      "display_id": "status",
      "update": true
     },
     "output_type": "display_data"
    },
    {
     "name": "stderr",
     "output_type": "stream",
     "text": [
      "GET: https://nwis.waterservices.usgs.gov/nwis/iv/?site=03360652&format=waterml,1.1&ParameterCd=00060&startDT=2014-01-01&endDT=2025-05-08\n",
      "\n"
     ]
    },
    {
     "data": {
      "text/html": [
       "'554/1056 - Downloading data for site 03357000'"
      ],
      "text/latex": [
       "'554/1056 - Downloading data for site 03357000'"
      ],
      "text/markdown": [
       "'554/1056 - Downloading data for site 03357000'"
      ],
      "text/plain": [
       "[1] \"554/1056 - Downloading data for site 03357000\""
      ]
     },
     "metadata": {
      "display_id": "status",
      "update": true
     },
     "output_type": "display_data"
    },
    {
     "name": "stderr",
     "output_type": "stream",
     "text": [
      "GET: https://nwis.waterservices.usgs.gov/nwis/iv/?site=03357000&format=waterml,1.1&ParameterCd=00060&startDT=2014-01-01&endDT=2025-05-08\n",
      "\n"
     ]
    },
    {
     "data": {
      "text/html": [
       "'555/1056 - Downloading data for site 03360000'"
      ],
      "text/latex": [
       "'555/1056 - Downloading data for site 03360000'"
      ],
      "text/markdown": [
       "'555/1056 - Downloading data for site 03360000'"
      ],
      "text/plain": [
       "[1] \"555/1056 - Downloading data for site 03360000\""
      ]
     },
     "metadata": {
      "display_id": "status",
      "update": true
     },
     "output_type": "display_data"
    },
    {
     "name": "stderr",
     "output_type": "stream",
     "text": [
      "GET: https://nwis.waterservices.usgs.gov/nwis/iv/?site=03360000&format=waterml,1.1&ParameterCd=00060&startDT=2014-01-01&endDT=2025-05-08\n",
      "\n"
     ]
    },
    {
     "data": {
      "text/html": [
       "'556/1056 - Downloading data for site 03363900'"
      ],
      "text/latex": [
       "'556/1056 - Downloading data for site 03363900'"
      ],
      "text/markdown": [
       "'556/1056 - Downloading data for site 03363900'"
      ],
      "text/plain": [
       "[1] \"556/1056 - Downloading data for site 03363900\""
      ]
     },
     "metadata": {
      "display_id": "status",
      "update": true
     },
     "output_type": "display_data"
    },
    {
     "name": "stderr",
     "output_type": "stream",
     "text": [
      "GET: https://nwis.waterservices.usgs.gov/nwis/iv/?site=03363900&format=waterml,1.1&ParameterCd=00060&startDT=2014-01-01&endDT=2025-05-08\n",
      "\n"
     ]
    },
    {
     "data": {
      "text/html": [
       "'557/1056 - Downloading data for site 03364200'"
      ],
      "text/latex": [
       "'557/1056 - Downloading data for site 03364200'"
      ],
      "text/markdown": [
       "'557/1056 - Downloading data for site 03364200'"
      ],
      "text/plain": [
       "[1] \"557/1056 - Downloading data for site 03364200\""
      ]
     },
     "metadata": {
      "display_id": "status",
      "update": true
     },
     "output_type": "display_data"
    },
    {
     "name": "stderr",
     "output_type": "stream",
     "text": [
      "GET: https://nwis.waterservices.usgs.gov/nwis/iv/?site=03364200&format=waterml,1.1&ParameterCd=00060&startDT=2014-01-01&endDT=2025-05-08\n",
      "\n"
     ]
    },
    {
     "data": {
      "text/html": [
       "'558/1056 - Downloading data for site 03364500'"
      ],
      "text/latex": [
       "'558/1056 - Downloading data for site 03364500'"
      ],
      "text/markdown": [
       "'558/1056 - Downloading data for site 03364500'"
      ],
      "text/plain": [
       "[1] \"558/1056 - Downloading data for site 03364500\""
      ]
     },
     "metadata": {
      "display_id": "status",
      "update": true
     },
     "output_type": "display_data"
    },
    {
     "name": "stderr",
     "output_type": "stream",
     "text": [
      "GET: https://nwis.waterservices.usgs.gov/nwis/iv/?site=03364500&format=waterml,1.1&ParameterCd=00060&startDT=2014-01-01&endDT=2025-05-08\n",
      "\n"
     ]
    },
    {
     "data": {
      "text/html": [
       "'559/1056 - Downloading data for site 03364042'"
      ],
      "text/latex": [
       "'559/1056 - Downloading data for site 03364042'"
      ],
      "text/markdown": [
       "'559/1056 - Downloading data for site 03364042'"
      ],
      "text/plain": [
       "[1] \"559/1056 - Downloading data for site 03364042\""
      ]
     },
     "metadata": {
      "display_id": "status",
      "update": true
     },
     "output_type": "display_data"
    },
    {
     "name": "stderr",
     "output_type": "stream",
     "text": [
      "GET: https://nwis.waterservices.usgs.gov/nwis/iv/?site=03364042&format=waterml,1.1&ParameterCd=00060&startDT=2014-01-01&endDT=2025-05-08\n",
      "\n"
     ]
    },
    {
     "data": {
      "text/html": [
       "'560/1056 - Downloading data for site 03363000'"
      ],
      "text/latex": [
       "'560/1056 - Downloading data for site 03363000'"
      ],
      "text/markdown": [
       "'560/1056 - Downloading data for site 03363000'"
      ],
      "text/plain": [
       "[1] \"560/1056 - Downloading data for site 03363000\""
      ]
     },
     "metadata": {
      "display_id": "status",
      "update": true
     },
     "output_type": "display_data"
    },
    {
     "name": "stderr",
     "output_type": "stream",
     "text": [
      "GET: https://nwis.waterservices.usgs.gov/nwis/iv/?site=03363000&format=waterml,1.1&ParameterCd=00060&startDT=2014-01-01&endDT=2025-05-08\n",
      "\n"
     ]
    },
    {
     "data": {
      "text/html": [
       "'561/1056 - Downloading data for site 03362500'"
      ],
      "text/latex": [
       "'561/1056 - Downloading data for site 03362500'"
      ],
      "text/markdown": [
       "'561/1056 - Downloading data for site 03362500'"
      ],
      "text/plain": [
       "[1] \"561/1056 - Downloading data for site 03362500\""
      ]
     },
     "metadata": {
      "display_id": "status",
      "update": true
     },
     "output_type": "display_data"
    },
    {
     "name": "stderr",
     "output_type": "stream",
     "text": [
      "GET: https://nwis.waterservices.usgs.gov/nwis/iv/?site=03362500&format=waterml,1.1&ParameterCd=00060&startDT=2014-01-01&endDT=2025-05-08\n",
      "\n"
     ]
    },
    {
     "data": {
      "text/html": [
       "'562/1056 - Downloading data for site 03363500'"
      ],
      "text/latex": [
       "'562/1056 - Downloading data for site 03363500'"
      ],
      "text/markdown": [
       "'562/1056 - Downloading data for site 03363500'"
      ],
      "text/plain": [
       "[1] \"562/1056 - Downloading data for site 03363500\""
      ]
     },
     "metadata": {
      "display_id": "status",
      "update": true
     },
     "output_type": "display_data"
    },
    {
     "name": "stderr",
     "output_type": "stream",
     "text": [
      "GET: https://nwis.waterservices.usgs.gov/nwis/iv/?site=03363500&format=waterml,1.1&ParameterCd=00060&startDT=2014-01-01&endDT=2025-05-08\n",
      "\n"
     ]
    },
    {
     "data": {
      "text/html": [
       "'563/1056 - Downloading data for site 03362000'"
      ],
      "text/latex": [
       "'563/1056 - Downloading data for site 03362000'"
      ],
      "text/markdown": [
       "'563/1056 - Downloading data for site 03362000'"
      ],
      "text/plain": [
       "[1] \"563/1056 - Downloading data for site 03362000\""
      ]
     },
     "metadata": {
      "display_id": "status",
      "update": true
     },
     "output_type": "display_data"
    },
    {
     "name": "stderr",
     "output_type": "stream",
     "text": [
      "GET: https://nwis.waterservices.usgs.gov/nwis/iv/?site=03362000&format=waterml,1.1&ParameterCd=00060&startDT=2014-01-01&endDT=2025-05-08\n",
      "\n"
     ]
    },
    {
     "data": {
      "text/html": [
       "'564/1056 - Downloading data for site 03361440'"
      ],
      "text/latex": [
       "'564/1056 - Downloading data for site 03361440'"
      ],
      "text/markdown": [
       "'564/1056 - Downloading data for site 03361440'"
      ],
      "text/plain": [
       "[1] \"564/1056 - Downloading data for site 03361440\""
      ]
     },
     "metadata": {
      "display_id": "status",
      "update": true
     },
     "output_type": "display_data"
    },
    {
     "name": "stderr",
     "output_type": "stream",
     "text": [
      "GET: https://nwis.waterservices.usgs.gov/nwis/iv/?site=03361440&format=waterml,1.1&ParameterCd=00060&startDT=2014-01-01&endDT=2025-05-08\n",
      "\n"
     ]
    },
    {
     "data": {
      "text/html": [
       "'565/1056 - Downloading data for site 03361500'"
      ],
      "text/latex": [
       "'565/1056 - Downloading data for site 03361500'"
      ],
      "text/markdown": [
       "'565/1056 - Downloading data for site 03361500'"
      ],
      "text/plain": [
       "[1] \"565/1056 - Downloading data for site 03361500\""
      ]
     },
     "metadata": {
      "display_id": "status",
      "update": true
     },
     "output_type": "display_data"
    },
    {
     "name": "stderr",
     "output_type": "stream",
     "text": [
      "GET: https://nwis.waterservices.usgs.gov/nwis/iv/?site=03361500&format=waterml,1.1&ParameterCd=00060&startDT=2014-01-01&endDT=2025-05-08\n",
      "\n"
     ]
    },
    {
     "data": {
      "text/html": [
       "'566/1056 - Downloading data for site 03358000'"
      ],
      "text/latex": [
       "'566/1056 - Downloading data for site 03358000'"
      ],
      "text/markdown": [
       "'566/1056 - Downloading data for site 03358000'"
      ],
      "text/plain": [
       "[1] \"566/1056 - Downloading data for site 03358000\""
      ]
     },
     "metadata": {
      "display_id": "status",
      "update": true
     },
     "output_type": "display_data"
    },
    {
     "name": "stderr",
     "output_type": "stream",
     "text": [
      "GET: https://nwis.waterservices.usgs.gov/nwis/iv/?site=03358000&format=waterml,1.1&ParameterCd=00060&startDT=2014-01-01&endDT=2025-05-08\n",
      "\n"
     ]
    },
    {
     "data": {
      "text/html": [
       "'567/1056 - Downloading data for site 03341558'"
      ],
      "text/latex": [
       "'567/1056 - Downloading data for site 03341558'"
      ],
      "text/markdown": [
       "'567/1056 - Downloading data for site 03341558'"
      ],
      "text/plain": [
       "[1] \"567/1056 - Downloading data for site 03341558\""
      ]
     },
     "metadata": {
      "display_id": "status",
      "update": true
     },
     "output_type": "display_data"
    },
    {
     "name": "stderr",
     "output_type": "stream",
     "text": [
      "GET: https://nwis.waterservices.usgs.gov/nwis/iv/?site=03341558&format=waterml,1.1&ParameterCd=00060&startDT=2014-01-01&endDT=2025-05-08\n",
      "\n"
     ]
    },
    {
     "data": {
      "text/html": [
       "'568/1056 - Downloading data for site 03341500'"
      ],
      "text/latex": [
       "'568/1056 - Downloading data for site 03341500'"
      ],
      "text/markdown": [
       "'568/1056 - Downloading data for site 03341500'"
      ],
      "text/plain": [
       "[1] \"568/1056 - Downloading data for site 03341500\""
      ]
     },
     "metadata": {
      "display_id": "status",
      "update": true
     },
     "output_type": "display_data"
    },
    {
     "name": "stderr",
     "output_type": "stream",
     "text": [
      "GET: https://nwis.waterservices.usgs.gov/nwis/iv/?site=03341500&format=waterml,1.1&ParameterCd=00060&startDT=2014-01-01&endDT=2025-05-08\n",
      "\n"
     ]
    },
    {
     "data": {
      "text/html": [
       "'569/1056 - Downloading data for site 03358900'"
      ],
      "text/latex": [
       "'569/1056 - Downloading data for site 03358900'"
      ],
      "text/markdown": [
       "'569/1056 - Downloading data for site 03358900'"
      ],
      "text/plain": [
       "[1] \"569/1056 - Downloading data for site 03358900\""
      ]
     },
     "metadata": {
      "display_id": "status",
      "update": true
     },
     "output_type": "display_data"
    },
    {
     "name": "stderr",
     "output_type": "stream",
     "text": [
      "GET: https://nwis.waterservices.usgs.gov/nwis/iv/?site=03358900&format=waterml,1.1&ParameterCd=00060&startDT=2014-01-01&endDT=2025-05-08\n",
      "\n",
      "Warning message in doTryCatch(return(expr), name, parentenv, handler):\n",
      "\"No data available for site 03358900\"\n"
     ]
    },
    {
     "data": {
      "text/html": [
       "'570/1056 - Downloading data for site 03359000'"
      ],
      "text/latex": [
       "'570/1056 - Downloading data for site 03359000'"
      ],
      "text/markdown": [
       "'570/1056 - Downloading data for site 03359000'"
      ],
      "text/plain": [
       "[1] \"570/1056 - Downloading data for site 03359000\""
      ]
     },
     "metadata": {
      "display_id": "status",
      "update": true
     },
     "output_type": "display_data"
    },
    {
     "name": "stderr",
     "output_type": "stream",
     "text": [
      "GET: https://nwis.waterservices.usgs.gov/nwis/iv/?site=03359000&format=waterml,1.1&ParameterCd=00060&startDT=2014-01-01&endDT=2025-05-08\n",
      "\n",
      "Warning message in doTryCatch(return(expr), name, parentenv, handler):\n",
      "\"No data available for site 03359000\"\n"
     ]
    },
    {
     "data": {
      "text/html": [
       "'571/1056 - Downloading data for site 03354000'"
      ],
      "text/latex": [
       "'571/1056 - Downloading data for site 03354000'"
      ],
      "text/markdown": [
       "'571/1056 - Downloading data for site 03354000'"
      ],
      "text/plain": [
       "[1] \"571/1056 - Downloading data for site 03354000\""
      ]
     },
     "metadata": {
      "display_id": "status",
      "update": true
     },
     "output_type": "display_data"
    },
    {
     "name": "stderr",
     "output_type": "stream",
     "text": [
      "GET: https://nwis.waterservices.usgs.gov/nwis/iv/?site=03354000&format=waterml,1.1&ParameterCd=00060&startDT=2014-01-01&endDT=2025-05-08\n",
      "\n"
     ]
    },
    {
     "data": {
      "text/html": [
       "'572/1056 - Downloading data for site 03357500'"
      ],
      "text/latex": [
       "'572/1056 - Downloading data for site 03357500'"
      ],
      "text/markdown": [
       "'572/1056 - Downloading data for site 03357500'"
      ],
      "text/plain": [
       "[1] \"572/1056 - Downloading data for site 03357500\""
      ]
     },
     "metadata": {
      "display_id": "status",
      "update": true
     },
     "output_type": "display_data"
    },
    {
     "name": "stderr",
     "output_type": "stream",
     "text": [
      "GET: https://nwis.waterservices.usgs.gov/nwis/iv/?site=03357500&format=waterml,1.1&ParameterCd=00060&startDT=2014-01-01&endDT=2025-05-08\n",
      "\n",
      "Warning message in doTryCatch(return(expr), name, parentenv, handler):\n",
      "\"No data available for site 03357500\"\n"
     ]
    },
    {
     "data": {
      "text/html": [
       "'573/1056 - Downloading data for site 03341300'"
      ],
      "text/latex": [
       "'573/1056 - Downloading data for site 03341300'"
      ],
      "text/markdown": [
       "'573/1056 - Downloading data for site 03341300'"
      ],
      "text/plain": [
       "[1] \"573/1056 - Downloading data for site 03341300\""
      ]
     },
     "metadata": {
      "display_id": "status",
      "update": true
     },
     "output_type": "display_data"
    },
    {
     "name": "stderr",
     "output_type": "stream",
     "text": [
      "GET: https://nwis.waterservices.usgs.gov/nwis/iv/?site=03341300&format=waterml,1.1&ParameterCd=00060&startDT=2014-01-01&endDT=2025-05-08\n",
      "\n"
     ]
    },
    {
     "data": {
      "text/html": [
       "'574/1056 - Downloading data for site 03340900'"
      ],
      "text/latex": [
       "'574/1056 - Downloading data for site 03340900'"
      ],
      "text/markdown": [
       "'574/1056 - Downloading data for site 03340900'"
      ],
      "text/plain": [
       "[1] \"574/1056 - Downloading data for site 03340900\""
      ]
     },
     "metadata": {
      "display_id": "status",
      "update": true
     },
     "output_type": "display_data"
    },
    {
     "name": "stderr",
     "output_type": "stream",
     "text": [
      "GET: https://nwis.waterservices.usgs.gov/nwis/iv/?site=03340900&format=waterml,1.1&ParameterCd=00060&startDT=2014-01-01&endDT=2025-05-08\n",
      "\n"
     ]
    },
    {
     "data": {
      "text/html": [
       "'575/1056 - Downloading data for site 03340870'"
      ],
      "text/latex": [
       "'575/1056 - Downloading data for site 03340870'"
      ],
      "text/markdown": [
       "'575/1056 - Downloading data for site 03340870'"
      ],
      "text/plain": [
       "[1] \"575/1056 - Downloading data for site 03340870\""
      ]
     },
     "metadata": {
      "display_id": "status",
      "update": true
     },
     "output_type": "display_data"
    },
    {
     "name": "stderr",
     "output_type": "stream",
     "text": [
      "GET: https://nwis.waterservices.usgs.gov/nwis/iv/?site=03340870&format=waterml,1.1&ParameterCd=00060&startDT=2014-01-01&endDT=2025-05-08\n",
      "\n",
      "Warning message in doTryCatch(return(expr), name, parentenv, handler):\n",
      "\"No data available for site 03340870\"\n"
     ]
    },
    {
     "data": {
      "text/html": [
       "'576/1056 - Downloading data for site 03361617'"
      ],
      "text/latex": [
       "'576/1056 - Downloading data for site 03361617'"
      ],
      "text/markdown": [
       "'576/1056 - Downloading data for site 03361617'"
      ],
      "text/plain": [
       "[1] \"576/1056 - Downloading data for site 03361617\""
      ]
     },
     "metadata": {
      "display_id": "status",
      "update": true
     },
     "output_type": "display_data"
    },
    {
     "name": "stderr",
     "output_type": "stream",
     "text": [
      "GET: https://nwis.waterservices.usgs.gov/nwis/iv/?site=03361617&format=waterml,1.1&ParameterCd=00060&startDT=2014-01-01&endDT=2025-05-08\n",
      "\n"
     ]
    },
    {
     "data": {
      "text/html": [
       "'577/1056 - Downloading data for site 03361872'"
      ],
      "text/latex": [
       "'577/1056 - Downloading data for site 03361872'"
      ],
      "text/markdown": [
       "'577/1056 - Downloading data for site 03361872'"
      ],
      "text/plain": [
       "[1] \"577/1056 - Downloading data for site 03361872\""
      ]
     },
     "metadata": {
      "display_id": "status",
      "update": true
     },
     "output_type": "display_data"
    },
    {
     "name": "stderr",
     "output_type": "stream",
     "text": [
      "GET: https://nwis.waterservices.usgs.gov/nwis/iv/?site=03361872&format=waterml,1.1&ParameterCd=00060&startDT=2014-01-01&endDT=2025-05-08\n",
      "\n"
     ]
    },
    {
     "data": {
      "text/html": [
       "'578/1056 - Downloading data for site 03363400'"
      ],
      "text/latex": [
       "'578/1056 - Downloading data for site 03363400'"
      ],
      "text/markdown": [
       "'578/1056 - Downloading data for site 03363400'"
      ],
      "text/plain": [
       "[1] \"578/1056 - Downloading data for site 03363400\""
      ]
     },
     "metadata": {
      "display_id": "status",
      "update": true
     },
     "output_type": "display_data"
    },
    {
     "name": "stderr",
     "output_type": "stream",
     "text": [
      "GET: https://nwis.waterservices.usgs.gov/nwis/iv/?site=03363400&format=waterml,1.1&ParameterCd=00060&startDT=2014-01-01&endDT=2025-05-08\n",
      "\n",
      "Warning message in doTryCatch(return(expr), name, parentenv, handler):\n",
      "\"No data available for site 03363400\"\n"
     ]
    },
    {
     "data": {
      "text/html": [
       "'579/1056 - Downloading data for site 03353800'"
      ],
      "text/latex": [
       "'579/1056 - Downloading data for site 03353800'"
      ],
      "text/markdown": [
       "'579/1056 - Downloading data for site 03353800'"
      ],
      "text/plain": [
       "[1] \"579/1056 - Downloading data for site 03353800\""
      ]
     },
     "metadata": {
      "display_id": "status",
      "update": true
     },
     "output_type": "display_data"
    },
    {
     "name": "stderr",
     "output_type": "stream",
     "text": [
      "GET: https://nwis.waterservices.usgs.gov/nwis/iv/?site=03353800&format=waterml,1.1&ParameterCd=00060&startDT=2014-01-01&endDT=2025-05-08\n",
      "\n"
     ]
    },
    {
     "data": {
      "text/html": [
       "'580/1056 - Downloading data for site 03353910'"
      ],
      "text/latex": [
       "'580/1056 - Downloading data for site 03353910'"
      ],
      "text/markdown": [
       "'580/1056 - Downloading data for site 03353910'"
      ],
      "text/plain": [
       "[1] \"580/1056 - Downloading data for site 03353910\""
      ]
     },
     "metadata": {
      "display_id": "status",
      "update": true
     },
     "output_type": "display_data"
    },
    {
     "name": "stderr",
     "output_type": "stream",
     "text": [
      "GET: https://nwis.waterservices.usgs.gov/nwis/iv/?site=03353910&format=waterml,1.1&ParameterCd=00060&startDT=2014-01-01&endDT=2025-05-08\n",
      "\n"
     ]
    },
    {
     "data": {
      "text/html": [
       "'581/1056 - Downloading data for site 03361850'"
      ],
      "text/latex": [
       "'581/1056 - Downloading data for site 03361850'"
      ],
      "text/markdown": [
       "'581/1056 - Downloading data for site 03361850'"
      ],
      "text/plain": [
       "[1] \"581/1056 - Downloading data for site 03361850\""
      ]
     },
     "metadata": {
      "display_id": "status",
      "update": true
     },
     "output_type": "display_data"
    },
    {
     "name": "stderr",
     "output_type": "stream",
     "text": [
      "GET: https://nwis.waterservices.usgs.gov/nwis/iv/?site=03361850&format=waterml,1.1&ParameterCd=00060&startDT=2014-01-01&endDT=2025-05-08\n",
      "\n"
     ]
    },
    {
     "data": {
      "text/html": [
       "'582/1056 - Downloading data for site 03353638'"
      ],
      "text/latex": [
       "'582/1056 - Downloading data for site 03353638'"
      ],
      "text/markdown": [
       "'582/1056 - Downloading data for site 03353638'"
      ],
      "text/plain": [
       "[1] \"582/1056 - Downloading data for site 03353638\""
      ]
     },
     "metadata": {
      "display_id": "status",
      "update": true
     },
     "output_type": "display_data"
    },
    {
     "name": "stderr",
     "output_type": "stream",
     "text": [
      "GET: https://nwis.waterservices.usgs.gov/nwis/iv/?site=03353638&format=waterml,1.1&ParameterCd=00060&startDT=2014-01-01&endDT=2025-05-08\n",
      "\n"
     ]
    },
    {
     "data": {
      "text/html": [
       "'583/1056 - Downloading data for site 03353633'"
      ],
      "text/latex": [
       "'583/1056 - Downloading data for site 03353633'"
      ],
      "text/markdown": [
       "'583/1056 - Downloading data for site 03353633'"
      ],
      "text/plain": [
       "[1] \"583/1056 - Downloading data for site 03353633\""
      ]
     },
     "metadata": {
      "display_id": "status",
      "update": true
     },
     "output_type": "display_data"
    },
    {
     "name": "stderr",
     "output_type": "stream",
     "text": [
      "GET: https://nwis.waterservices.usgs.gov/nwis/iv/?site=03353633&format=waterml,1.1&ParameterCd=00060&startDT=2014-01-01&endDT=2025-05-08\n",
      "\n",
      "Warning message in doTryCatch(return(expr), name, parentenv, handler):\n",
      "\"No data available for site 03353633\"\n"
     ]
    },
    {
     "data": {
      "text/html": [
       "'584/1056 - Downloading data for site 03353620'"
      ],
      "text/latex": [
       "'584/1056 - Downloading data for site 03353620'"
      ],
      "text/markdown": [
       "'584/1056 - Downloading data for site 03353620'"
      ],
      "text/plain": [
       "[1] \"584/1056 - Downloading data for site 03353620\""
      ]
     },
     "metadata": {
      "display_id": "status",
      "update": true
     },
     "output_type": "display_data"
    },
    {
     "name": "stderr",
     "output_type": "stream",
     "text": [
      "GET: https://nwis.waterservices.usgs.gov/nwis/iv/?site=03353620&format=waterml,1.1&ParameterCd=00060&startDT=2014-01-01&endDT=2025-05-08\n",
      "\n"
     ]
    },
    {
     "data": {
      "text/html": [
       "'585/1056 - Downloading data for site 03361650'"
      ],
      "text/latex": [
       "'585/1056 - Downloading data for site 03361650'"
      ],
      "text/markdown": [
       "'585/1056 - Downloading data for site 03361650'"
      ],
      "text/plain": [
       "[1] \"585/1056 - Downloading data for site 03361650\""
      ]
     },
     "metadata": {
      "display_id": "status",
      "update": true
     },
     "output_type": "display_data"
    },
    {
     "name": "stderr",
     "output_type": "stream",
     "text": [
      "GET: https://nwis.waterservices.usgs.gov/nwis/iv/?site=03361650&format=waterml,1.1&ParameterCd=00060&startDT=2014-01-01&endDT=2025-05-08\n",
      "\n"
     ]
    },
    {
     "data": {
      "text/html": [
       "'586/1056 - Downloading data for site 03353611'"
      ],
      "text/latex": [
       "'586/1056 - Downloading data for site 03353611'"
      ],
      "text/markdown": [
       "'586/1056 - Downloading data for site 03353611'"
      ],
      "text/plain": [
       "[1] \"586/1056 - Downloading data for site 03353611\""
      ]
     },
     "metadata": {
      "display_id": "status",
      "update": true
     },
     "output_type": "display_data"
    },
    {
     "name": "stderr",
     "output_type": "stream",
     "text": [
      "GET: https://nwis.waterservices.usgs.gov/nwis/iv/?site=03353611&format=waterml,1.1&ParameterCd=00060&startDT=2014-01-01&endDT=2025-05-08\n",
      "\n"
     ]
    },
    {
     "data": {
      "text/html": [
       "'587/1056 - Downloading data for site 03353626'"
      ],
      "text/latex": [
       "'587/1056 - Downloading data for site 03353626'"
      ],
      "text/markdown": [
       "'587/1056 - Downloading data for site 03353626'"
      ],
      "text/plain": [
       "[1] \"587/1056 - Downloading data for site 03353626\""
      ]
     },
     "metadata": {
      "display_id": "status",
      "update": true
     },
     "output_type": "display_data"
    },
    {
     "name": "stderr",
     "output_type": "stream",
     "text": [
      "GET: https://nwis.waterservices.usgs.gov/nwis/iv/?site=03353626&format=waterml,1.1&ParameterCd=00060&startDT=2014-01-01&endDT=2025-05-08\n",
      "\n",
      "Warning message in doTryCatch(return(expr), name, parentenv, handler):\n",
      "\"No data available for site 03353626\"\n"
     ]
    },
    {
     "data": {
      "text/html": [
       "'588/1056 - Downloading data for site 033531908'"
      ],
      "text/latex": [
       "'588/1056 - Downloading data for site 033531908'"
      ],
      "text/markdown": [
       "'588/1056 - Downloading data for site 033531908'"
      ],
      "text/plain": [
       "[1] \"588/1056 - Downloading data for site 033531908\""
      ]
     },
     "metadata": {
      "display_id": "status",
      "update": true
     },
     "output_type": "display_data"
    },
    {
     "name": "stderr",
     "output_type": "stream",
     "text": [
      "GET: https://nwis.waterservices.usgs.gov/nwis/iv/?site=033531908&format=waterml,1.1&ParameterCd=00060&startDT=2014-01-01&endDT=2025-05-08\n",
      "\n",
      "Warning message in doTryCatch(return(expr), name, parentenv, handler):\n",
      "\"No data available for site 033531908\"\n"
     ]
    },
    {
     "data": {
      "text/html": [
       "'589/1056 - Downloading data for site 03363220'"
      ],
      "text/latex": [
       "'589/1056 - Downloading data for site 03363220'"
      ],
      "text/markdown": [
       "'589/1056 - Downloading data for site 03363220'"
      ],
      "text/plain": [
       "[1] \"589/1056 - Downloading data for site 03363220\""
      ]
     },
     "metadata": {
      "display_id": "status",
      "update": true
     },
     "output_type": "display_data"
    },
    {
     "name": "stderr",
     "output_type": "stream",
     "text": [
      "GET: https://nwis.waterservices.usgs.gov/nwis/iv/?site=03363220&format=waterml,1.1&ParameterCd=00060&startDT=2014-01-01&endDT=2025-05-08\n",
      "\n",
      "Warning message in doTryCatch(return(expr), name, parentenv, handler):\n",
      "\"No data available for site 03363220\"\n"
     ]
    },
    {
     "data": {
      "text/html": [
       "'590/1056 - Downloading data for site 033536062'"
      ],
      "text/latex": [
       "'590/1056 - Downloading data for site 033536062'"
      ],
      "text/markdown": [
       "'590/1056 - Downloading data for site 033536062'"
      ],
      "text/plain": [
       "[1] \"590/1056 - Downloading data for site 033536062\""
      ]
     },
     "metadata": {
      "display_id": "status",
      "update": true
     },
     "output_type": "display_data"
    },
    {
     "name": "stderr",
     "output_type": "stream",
     "text": [
      "GET: https://nwis.waterservices.usgs.gov/nwis/iv/?site=033536062&format=waterml,1.1&ParameterCd=00060&startDT=2014-01-01&endDT=2025-05-08\n",
      "\n",
      "Warning message in doTryCatch(return(expr), name, parentenv, handler):\n",
      "\"No data available for site 033536062\"\n"
     ]
    },
    {
     "data": {
      "text/html": [
       "'591/1056 - Downloading data for site 03353000'"
      ],
      "text/latex": [
       "'591/1056 - Downloading data for site 03353000'"
      ],
      "text/markdown": [
       "'591/1056 - Downloading data for site 03353000'"
      ],
      "text/plain": [
       "[1] \"591/1056 - Downloading data for site 03353000\""
      ]
     },
     "metadata": {
      "display_id": "status",
      "update": true
     },
     "output_type": "display_data"
    },
    {
     "name": "stderr",
     "output_type": "stream",
     "text": [
      "GET: https://nwis.waterservices.usgs.gov/nwis/iv/?site=03353000&format=waterml,1.1&ParameterCd=00060&startDT=2014-01-01&endDT=2025-05-08\n",
      "\n"
     ]
    },
    {
     "data": {
      "text/html": [
       "'592/1056 - Downloading data for site 03361000'"
      ],
      "text/latex": [
       "'592/1056 - Downloading data for site 03361000'"
      ],
      "text/markdown": [
       "'592/1056 - Downloading data for site 03361000'"
      ],
      "text/plain": [
       "[1] \"592/1056 - Downloading data for site 03361000\""
      ]
     },
     "metadata": {
      "display_id": "status",
      "update": true
     },
     "output_type": "display_data"
    },
    {
     "name": "stderr",
     "output_type": "stream",
     "text": [
      "GET: https://nwis.waterservices.usgs.gov/nwis/iv/?site=03361000&format=waterml,1.1&ParameterCd=00060&startDT=2014-01-01&endDT=2025-05-08\n",
      "\n",
      "Warning message in doTryCatch(return(expr), name, parentenv, handler):\n",
      "\"No data available for site 03361000\"\n"
     ]
    },
    {
     "data": {
      "text/html": [
       "'593/1056 - Downloading data for site 03353603'"
      ],
      "text/latex": [
       "'593/1056 - Downloading data for site 03353603'"
      ],
      "text/markdown": [
       "'593/1056 - Downloading data for site 03353603'"
      ],
      "text/plain": [
       "[1] \"593/1056 - Downloading data for site 03353603\""
      ]
     },
     "metadata": {
      "display_id": "status",
      "update": true
     },
     "output_type": "display_data"
    },
    {
     "name": "stderr",
     "output_type": "stream",
     "text": [
      "GET: https://nwis.waterservices.usgs.gov/nwis/iv/?site=03353603&format=waterml,1.1&ParameterCd=00060&startDT=2014-01-01&endDT=2025-05-08\n",
      "\n",
      "Warning message in doTryCatch(return(expr), name, parentenv, handler):\n",
      "\"No data available for site 03353603\"\n"
     ]
    },
    {
     "data": {
      "text/html": [
       "'594/1056 - Downloading data for site 03352988'"
      ],
      "text/latex": [
       "'594/1056 - Downloading data for site 03352988'"
      ],
      "text/markdown": [
       "'594/1056 - Downloading data for site 03352988'"
      ],
      "text/plain": [
       "[1] \"594/1056 - Downloading data for site 03352988\""
      ]
     },
     "metadata": {
      "display_id": "status",
      "update": true
     },
     "output_type": "display_data"
    },
    {
     "name": "stderr",
     "output_type": "stream",
     "text": [
      "GET: https://nwis.waterservices.usgs.gov/nwis/iv/?site=03352988&format=waterml,1.1&ParameterCd=00060&startDT=2014-01-01&endDT=2025-05-08\n",
      "\n"
     ]
    },
    {
     "data": {
      "text/html": [
       "'595/1056 - Downloading data for site 03352953'"
      ],
      "text/latex": [
       "'595/1056 - Downloading data for site 03352953'"
      ],
      "text/markdown": [
       "'595/1056 - Downloading data for site 03352953'"
      ],
      "text/plain": [
       "[1] \"595/1056 - Downloading data for site 03352953\""
      ]
     },
     "metadata": {
      "display_id": "status",
      "update": true
     },
     "output_type": "display_data"
    },
    {
     "name": "stderr",
     "output_type": "stream",
     "text": [
      "GET: https://nwis.waterservices.usgs.gov/nwis/iv/?site=03352953&format=waterml,1.1&ParameterCd=00060&startDT=2014-01-01&endDT=2025-05-08\n",
      "\n"
     ]
    },
    {
     "data": {
      "text/html": [
       "'596/1056 - Downloading data for site 03353120'"
      ],
      "text/latex": [
       "'596/1056 - Downloading data for site 03353120'"
      ],
      "text/markdown": [
       "'596/1056 - Downloading data for site 03353120'"
      ],
      "text/plain": [
       "[1] \"596/1056 - Downloading data for site 03353120\""
      ]
     },
     "metadata": {
      "display_id": "status",
      "update": true
     },
     "output_type": "display_data"
    },
    {
     "name": "stderr",
     "output_type": "stream",
     "text": [
      "GET: https://nwis.waterservices.usgs.gov/nwis/iv/?site=03353120&format=waterml,1.1&ParameterCd=00060&startDT=2014-01-01&endDT=2025-05-08\n",
      "\n"
     ]
    },
    {
     "data": {
      "text/html": [
       "'597/1056 - Downloading data for site 03353500'"
      ],
      "text/latex": [
       "'597/1056 - Downloading data for site 03353500'"
      ],
      "text/markdown": [
       "'597/1056 - Downloading data for site 03353500'"
      ],
      "text/plain": [
       "[1] \"597/1056 - Downloading data for site 03353500\""
      ]
     },
     "metadata": {
      "display_id": "status",
      "update": true
     },
     "output_type": "display_data"
    },
    {
     "name": "stderr",
     "output_type": "stream",
     "text": [
      "GET: https://nwis.waterservices.usgs.gov/nwis/iv/?site=03353500&format=waterml,1.1&ParameterCd=00060&startDT=2014-01-01&endDT=2025-05-08\n",
      "\n"
     ]
    },
    {
     "data": {
      "text/html": [
       "'598/1056 - Downloading data for site 03361605'"
      ],
      "text/latex": [
       "'598/1056 - Downloading data for site 03361605'"
      ],
      "text/markdown": [
       "'598/1056 - Downloading data for site 03361605'"
      ],
      "text/plain": [
       "[1] \"598/1056 - Downloading data for site 03361605\""
      ]
     },
     "metadata": {
      "display_id": "status",
      "update": true
     },
     "output_type": "display_data"
    },
    {
     "name": "stderr",
     "output_type": "stream",
     "text": [
      "GET: https://nwis.waterservices.usgs.gov/nwis/iv/?site=03361605&format=waterml,1.1&ParameterCd=00060&startDT=2014-01-01&endDT=2025-05-08\n",
      "\n"
     ]
    },
    {
     "data": {
      "text/html": [
       "'599/1056 - Downloading data for site 03353600'"
      ],
      "text/latex": [
       "'599/1056 - Downloading data for site 03353600'"
      ],
      "text/markdown": [
       "'599/1056 - Downloading data for site 03353600'"
      ],
      "text/plain": [
       "[1] \"599/1056 - Downloading data for site 03353600\""
      ]
     },
     "metadata": {
      "display_id": "status",
      "update": true
     },
     "output_type": "display_data"
    },
    {
     "name": "stderr",
     "output_type": "stream",
     "text": [
      "GET: https://nwis.waterservices.usgs.gov/nwis/iv/?site=03353600&format=waterml,1.1&ParameterCd=00060&startDT=2014-01-01&endDT=2025-05-08\n",
      "\n"
     ]
    },
    {
     "data": {
      "text/html": [
       "'600/1056 - Downloading data for site 03351350'"
      ],
      "text/latex": [
       "'600/1056 - Downloading data for site 03351350'"
      ],
      "text/markdown": [
       "'600/1056 - Downloading data for site 03351350'"
      ],
      "text/plain": [
       "[1] \"600/1056 - Downloading data for site 03351350\""
      ]
     },
     "metadata": {
      "display_id": "status",
      "update": true
     },
     "output_type": "display_data"
    },
    {
     "name": "stderr",
     "output_type": "stream",
     "text": [
      "GET: https://nwis.waterservices.usgs.gov/nwis/iv/?site=03351350&format=waterml,1.1&ParameterCd=00060&startDT=2014-01-01&endDT=2025-05-08\n",
      "\n"
     ]
    },
    {
     "data": {
      "text/html": [
       "'601/1056 - Downloading data for site 03352875'"
      ],
      "text/latex": [
       "'601/1056 - Downloading data for site 03352875'"
      ],
      "text/markdown": [
       "'601/1056 - Downloading data for site 03352875'"
      ],
      "text/plain": [
       "[1] \"601/1056 - Downloading data for site 03352875\""
      ]
     },
     "metadata": {
      "display_id": "status",
      "update": true
     },
     "output_type": "display_data"
    },
    {
     "name": "stderr",
     "output_type": "stream",
     "text": [
      "GET: https://nwis.waterservices.usgs.gov/nwis/iv/?site=03352875&format=waterml,1.1&ParameterCd=00060&startDT=2014-01-01&endDT=2025-05-08\n",
      "\n"
     ]
    },
    {
     "data": {
      "text/html": [
       "'602/1056 - Downloading data for site 03352972'"
      ],
      "text/latex": [
       "'602/1056 - Downloading data for site 03352972'"
      ],
      "text/markdown": [
       "'602/1056 - Downloading data for site 03352972'"
      ],
      "text/plain": [
       "[1] \"602/1056 - Downloading data for site 03352972\""
      ]
     },
     "metadata": {
      "display_id": "status",
      "update": true
     },
     "output_type": "display_data"
    },
    {
     "name": "stderr",
     "output_type": "stream",
     "text": [
      "GET: https://nwis.waterservices.usgs.gov/nwis/iv/?site=03352972&format=waterml,1.1&ParameterCd=00060&startDT=2014-01-01&endDT=2025-05-08\n",
      "\n",
      "Warning message in doTryCatch(return(expr), name, parentenv, handler):\n",
      "\"No data available for site 03352972\"\n"
     ]
    },
    {
     "data": {
      "text/html": [
       "'603/1056 - Downloading data for site 03353460'"
      ],
      "text/latex": [
       "'603/1056 - Downloading data for site 03353460'"
      ],
      "text/markdown": [
       "'603/1056 - Downloading data for site 03353460'"
      ],
      "text/plain": [
       "[1] \"603/1056 - Downloading data for site 03353460\""
      ]
     },
     "metadata": {
      "display_id": "status",
      "update": true
     },
     "output_type": "display_data"
    },
    {
     "name": "stderr",
     "output_type": "stream",
     "text": [
      "GET: https://nwis.waterservices.usgs.gov/nwis/iv/?site=03353460&format=waterml,1.1&ParameterCd=00060&startDT=2014-01-01&endDT=2025-05-08\n",
      "\n"
     ]
    },
    {
     "data": {
      "text/html": [
       "'604/1056 - Downloading data for site 03353451'"
      ],
      "text/latex": [
       "'604/1056 - Downloading data for site 03353451'"
      ],
      "text/markdown": [
       "'604/1056 - Downloading data for site 03353451'"
      ],
      "text/plain": [
       "[1] \"604/1056 - Downloading data for site 03353451\""
      ]
     },
     "metadata": {
      "display_id": "status",
      "update": true
     },
     "output_type": "display_data"
    },
    {
     "name": "stderr",
     "output_type": "stream",
     "text": [
      "GET: https://nwis.waterservices.usgs.gov/nwis/iv/?site=03353451&format=waterml,1.1&ParameterCd=00060&startDT=2014-01-01&endDT=2025-05-08\n",
      "\n"
     ]
    },
    {
     "data": {
      "text/html": [
       "'605/1056 - Downloading data for site 03353450'"
      ],
      "text/latex": [
       "'605/1056 - Downloading data for site 03353450'"
      ],
      "text/markdown": [
       "'605/1056 - Downloading data for site 03353450'"
      ],
      "text/plain": [
       "[1] \"605/1056 - Downloading data for site 03353450\""
      ]
     },
     "metadata": {
      "display_id": "status",
      "update": true
     },
     "output_type": "display_data"
    },
    {
     "name": "stderr",
     "output_type": "stream",
     "text": [
      "GET: https://nwis.waterservices.usgs.gov/nwis/iv/?site=03353450&format=waterml,1.1&ParameterCd=00060&startDT=2014-01-01&endDT=2025-05-08\n",
      "\n",
      "Warning message in doTryCatch(return(expr), name, parentenv, handler):\n",
      "\"No data available for site 03353450\"\n"
     ]
    },
    {
     "data": {
      "text/html": [
       "'606/1056 - Downloading data for site 03075590'"
      ],
      "text/latex": [
       "'606/1056 - Downloading data for site 03075590'"
      ],
      "text/markdown": [
       "'606/1056 - Downloading data for site 03075590'"
      ],
      "text/plain": [
       "[1] \"606/1056 - Downloading data for site 03075590\""
      ]
     },
     "metadata": {
      "display_id": "status",
      "update": true
     },
     "output_type": "display_data"
    },
    {
     "name": "stderr",
     "output_type": "stream",
     "text": [
      "GET: https://nwis.waterservices.usgs.gov/nwis/iv/?site=03075590&format=waterml,1.1&ParameterCd=00060&startDT=2014-01-01&endDT=2025-05-08\n",
      "\n"
     ]
    },
    {
     "data": {
      "text/html": [
       "'607/1056 - Downloading data for site 03075500'"
      ],
      "text/latex": [
       "'607/1056 - Downloading data for site 03075500'"
      ],
      "text/markdown": [
       "'607/1056 - Downloading data for site 03075500'"
      ],
      "text/plain": [
       "[1] \"607/1056 - Downloading data for site 03075500\""
      ]
     },
     "metadata": {
      "display_id": "status",
      "update": true
     },
     "output_type": "display_data"
    },
    {
     "name": "stderr",
     "output_type": "stream",
     "text": [
      "GET: https://nwis.waterservices.usgs.gov/nwis/iv/?site=03075500&format=waterml,1.1&ParameterCd=00060&startDT=2014-01-01&endDT=2025-05-08\n",
      "\n"
     ]
    },
    {
     "data": {
      "text/html": [
       "'608/1056 - Downloading data for site 03061000'"
      ],
      "text/latex": [
       "'608/1056 - Downloading data for site 03061000'"
      ],
      "text/markdown": [
       "'608/1056 - Downloading data for site 03061000'"
      ],
      "text/plain": [
       "[1] \"608/1056 - Downloading data for site 03061000\""
      ]
     },
     "metadata": {
      "display_id": "status",
      "update": true
     },
     "output_type": "display_data"
    },
    {
     "name": "stderr",
     "output_type": "stream",
     "text": [
      "GET: https://nwis.waterservices.usgs.gov/nwis/iv/?site=03061000&format=waterml,1.1&ParameterCd=00060&startDT=2014-01-01&endDT=2025-05-08\n",
      "\n"
     ]
    },
    {
     "data": {
      "text/html": [
       "'609/1056 - Downloading data for site 03057000'"
      ],
      "text/latex": [
       "'609/1056 - Downloading data for site 03057000'"
      ],
      "text/markdown": [
       "'609/1056 - Downloading data for site 03057000'"
      ],
      "text/plain": [
       "[1] \"609/1056 - Downloading data for site 03057000\""
      ]
     },
     "metadata": {
      "display_id": "status",
      "update": true
     },
     "output_type": "display_data"
    },
    {
     "name": "stderr",
     "output_type": "stream",
     "text": [
      "GET: https://nwis.waterservices.usgs.gov/nwis/iv/?site=03057000&format=waterml,1.1&ParameterCd=00060&startDT=2014-01-01&endDT=2025-05-08\n",
      "\n"
     ]
    },
    {
     "data": {
      "text/html": [
       "'610/1056 - Downloading data for site 03070260'"
      ],
      "text/latex": [
       "'610/1056 - Downloading data for site 03070260'"
      ],
      "text/markdown": [
       "'610/1056 - Downloading data for site 03070260'"
      ],
      "text/plain": [
       "[1] \"610/1056 - Downloading data for site 03070260\""
      ]
     },
     "metadata": {
      "display_id": "status",
      "update": true
     },
     "output_type": "display_data"
    },
    {
     "name": "stderr",
     "output_type": "stream",
     "text": [
      "GET: https://nwis.waterservices.usgs.gov/nwis/iv/?site=03070260&format=waterml,1.1&ParameterCd=00060&startDT=2014-01-01&endDT=2025-05-08\n",
      "\n"
     ]
    },
    {
     "data": {
      "text/html": [
       "'611/1056 - Downloading data for site 03061500'"
      ],
      "text/latex": [
       "'611/1056 - Downloading data for site 03061500'"
      ],
      "text/markdown": [
       "'611/1056 - Downloading data for site 03061500'"
      ],
      "text/plain": [
       "[1] \"611/1056 - Downloading data for site 03061500\""
      ]
     },
     "metadata": {
      "display_id": "status",
      "update": true
     },
     "output_type": "display_data"
    },
    {
     "name": "stderr",
     "output_type": "stream",
     "text": [
      "GET: https://nwis.waterservices.usgs.gov/nwis/iv/?site=03061500&format=waterml,1.1&ParameterCd=00060&startDT=2014-01-01&endDT=2025-05-08\n",
      "\n"
     ]
    },
    {
     "data": {
      "text/html": [
       "'612/1056 - Downloading data for site 03061430'"
      ],
      "text/latex": [
       "'612/1056 - Downloading data for site 03061430'"
      ],
      "text/markdown": [
       "'612/1056 - Downloading data for site 03061430'"
      ],
      "text/plain": [
       "[1] \"612/1056 - Downloading data for site 03061430\""
      ]
     },
     "metadata": {
      "display_id": "status",
      "update": true
     },
     "output_type": "display_data"
    },
    {
     "name": "stderr",
     "output_type": "stream",
     "text": [
      "GET: https://nwis.waterservices.usgs.gov/nwis/iv/?site=03061430&format=waterml,1.1&ParameterCd=00060&startDT=2014-01-01&endDT=2025-05-08\n",
      "\n",
      "Warning message in doTryCatch(return(expr), name, parentenv, handler):\n",
      "\"No data available for site 03061430\"\n"
     ]
    },
    {
     "data": {
      "text/html": [
       "'613/1056 - Downloading data for site 03062224'"
      ],
      "text/latex": [
       "'613/1056 - Downloading data for site 03062224'"
      ],
      "text/markdown": [
       "'613/1056 - Downloading data for site 03062224'"
      ],
      "text/plain": [
       "[1] \"613/1056 - Downloading data for site 03062224\""
      ]
     },
     "metadata": {
      "display_id": "status",
      "update": true
     },
     "output_type": "display_data"
    },
    {
     "name": "stderr",
     "output_type": "stream",
     "text": [
      "GET: https://nwis.waterservices.usgs.gov/nwis/iv/?site=03062224&format=waterml,1.1&ParameterCd=00060&startDT=2014-01-01&endDT=2025-05-08\n",
      "\n",
      "Warning message in doTryCatch(return(expr), name, parentenv, handler):\n",
      "\"No data available for site 03062224\"\n"
     ]
    },
    {
     "data": {
      "text/html": [
       "'614/1056 - Downloading data for site 03062225'"
      ],
      "text/latex": [
       "'614/1056 - Downloading data for site 03062225'"
      ],
      "text/markdown": [
       "'614/1056 - Downloading data for site 03062225'"
      ],
      "text/plain": [
       "[1] \"614/1056 - Downloading data for site 03062225\""
      ]
     },
     "metadata": {
      "display_id": "status",
      "update": true
     },
     "output_type": "display_data"
    },
    {
     "name": "stderr",
     "output_type": "stream",
     "text": [
      "GET: https://nwis.waterservices.usgs.gov/nwis/iv/?site=03062225&format=waterml,1.1&ParameterCd=00060&startDT=2014-01-01&endDT=2025-05-08\n",
      "\n",
      "Warning message in doTryCatch(return(expr), name, parentenv, handler):\n",
      "\"No data available for site 03062225\"\n"
     ]
    },
    {
     "data": {
      "text/html": [
       "'615/1056 - Downloading data for site 03062245'"
      ],
      "text/latex": [
       "'615/1056 - Downloading data for site 03062245'"
      ],
      "text/markdown": [
       "'615/1056 - Downloading data for site 03062245'"
      ],
      "text/plain": [
       "[1] \"615/1056 - Downloading data for site 03062245\""
      ]
     },
     "metadata": {
      "display_id": "status",
      "update": true
     },
     "output_type": "display_data"
    },
    {
     "name": "stderr",
     "output_type": "stream",
     "text": [
      "GET: https://nwis.waterservices.usgs.gov/nwis/iv/?site=03062245&format=waterml,1.1&ParameterCd=00060&startDT=2014-01-01&endDT=2025-05-08\n",
      "\n",
      "Warning message in doTryCatch(return(expr), name, parentenv, handler):\n",
      "\"No data available for site 03062245\"\n"
     ]
    },
    {
     "data": {
      "text/html": [
       "'616/1056 - Downloading data for site 03062250'"
      ],
      "text/latex": [
       "'616/1056 - Downloading data for site 03062250'"
      ],
      "text/markdown": [
       "'616/1056 - Downloading data for site 03062250'"
      ],
      "text/plain": [
       "[1] \"616/1056 - Downloading data for site 03062250\""
      ]
     },
     "metadata": {
      "display_id": "status",
      "update": true
     },
     "output_type": "display_data"
    },
    {
     "name": "stderr",
     "output_type": "stream",
     "text": [
      "GET: https://nwis.waterservices.usgs.gov/nwis/iv/?site=03062250&format=waterml,1.1&ParameterCd=00060&startDT=2014-01-01&endDT=2025-05-08\n",
      "\n",
      "Warning message in doTryCatch(return(expr), name, parentenv, handler):\n",
      "\"No data available for site 03062250\"\n"
     ]
    },
    {
     "data": {
      "text/html": [
       "'617/1056 - Downloading data for site 03075850'"
      ],
      "text/latex": [
       "'617/1056 - Downloading data for site 03075850'"
      ],
      "text/markdown": [
       "'617/1056 - Downloading data for site 03075850'"
      ],
      "text/plain": [
       "[1] \"617/1056 - Downloading data for site 03075850\""
      ]
     },
     "metadata": {
      "display_id": "status",
      "update": true
     },
     "output_type": "display_data"
    },
    {
     "name": "stderr",
     "output_type": "stream",
     "text": [
      "GET: https://nwis.waterservices.usgs.gov/nwis/iv/?site=03075850&format=waterml,1.1&ParameterCd=00060&startDT=2014-01-01&endDT=2025-05-08\n",
      "\n"
     ]
    },
    {
     "data": {
      "text/html": [
       "'618/1056 - Downloading data for site 03075825'"
      ],
      "text/latex": [
       "'618/1056 - Downloading data for site 03075825'"
      ],
      "text/markdown": [
       "'618/1056 - Downloading data for site 03075825'"
      ],
      "text/plain": [
       "[1] \"618/1056 - Downloading data for site 03075825\""
      ]
     },
     "metadata": {
      "display_id": "status",
      "update": true
     },
     "output_type": "display_data"
    },
    {
     "name": "stderr",
     "output_type": "stream",
     "text": [
      "GET: https://nwis.waterservices.usgs.gov/nwis/iv/?site=03075825&format=waterml,1.1&ParameterCd=00060&startDT=2014-01-01&endDT=2025-05-08\n",
      "\n"
     ]
    },
    {
     "data": {
      "text/html": [
       "'619/1056 - Downloading data for site 03075871'"
      ],
      "text/latex": [
       "'619/1056 - Downloading data for site 03075871'"
      ],
      "text/markdown": [
       "'619/1056 - Downloading data for site 03075871'"
      ],
      "text/plain": [
       "[1] \"619/1056 - Downloading data for site 03075871\""
      ]
     },
     "metadata": {
      "display_id": "status",
      "update": true
     },
     "output_type": "display_data"
    },
    {
     "name": "stderr",
     "output_type": "stream",
     "text": [
      "GET: https://nwis.waterservices.usgs.gov/nwis/iv/?site=03075871&format=waterml,1.1&ParameterCd=00060&startDT=2014-01-01&endDT=2025-05-08\n",
      "\n",
      "Warning message in doTryCatch(return(expr), name, parentenv, handler):\n",
      "\"No data available for site 03075871\"\n"
     ]
    },
    {
     "data": {
      "text/html": [
       "'620/1056 - Downloading data for site 03076100'"
      ],
      "text/latex": [
       "'620/1056 - Downloading data for site 03076100'"
      ],
      "text/markdown": [
       "'620/1056 - Downloading data for site 03076100'"
      ],
      "text/plain": [
       "[1] \"620/1056 - Downloading data for site 03076100\""
      ]
     },
     "metadata": {
      "display_id": "status",
      "update": true
     },
     "output_type": "display_data"
    },
    {
     "name": "stderr",
     "output_type": "stream",
     "text": [
      "GET: https://nwis.waterservices.usgs.gov/nwis/iv/?site=03076100&format=waterml,1.1&ParameterCd=00060&startDT=2014-01-01&endDT=2025-05-08\n",
      "\n"
     ]
    },
    {
     "data": {
      "text/html": [
       "'621/1056 - Downloading data for site 03075905'"
      ],
      "text/latex": [
       "'621/1056 - Downloading data for site 03075905'"
      ],
      "text/markdown": [
       "'621/1056 - Downloading data for site 03075905'"
      ],
      "text/plain": [
       "[1] \"621/1056 - Downloading data for site 03075905\""
      ]
     },
     "metadata": {
      "display_id": "status",
      "update": true
     },
     "output_type": "display_data"
    },
    {
     "name": "stderr",
     "output_type": "stream",
     "text": [
      "GET: https://nwis.waterservices.usgs.gov/nwis/iv/?site=03075905&format=waterml,1.1&ParameterCd=00060&startDT=2014-01-01&endDT=2025-05-08\n",
      "\n"
     ]
    },
    {
     "data": {
      "text/html": [
       "'622/1056 - Downloading data for site 03076500'"
      ],
      "text/latex": [
       "'622/1056 - Downloading data for site 03076500'"
      ],
      "text/markdown": [
       "'622/1056 - Downloading data for site 03076500'"
      ],
      "text/plain": [
       "[1] \"622/1056 - Downloading data for site 03076500\""
      ]
     },
     "metadata": {
      "display_id": "status",
      "update": true
     },
     "output_type": "display_data"
    },
    {
     "name": "stderr",
     "output_type": "stream",
     "text": [
      "GET: https://nwis.waterservices.usgs.gov/nwis/iv/?site=03076500&format=waterml,1.1&ParameterCd=00060&startDT=2014-01-01&endDT=2025-05-08\n",
      "\n"
     ]
    },
    {
     "data": {
      "text/html": [
       "'623/1056 - Downloading data for site 03076600'"
      ],
      "text/latex": [
       "'623/1056 - Downloading data for site 03076600'"
      ],
      "text/markdown": [
       "'623/1056 - Downloading data for site 03076600'"
      ],
      "text/plain": [
       "[1] \"623/1056 - Downloading data for site 03076600\""
      ]
     },
     "metadata": {
      "display_id": "status",
      "update": true
     },
     "output_type": "display_data"
    },
    {
     "name": "stderr",
     "output_type": "stream",
     "text": [
      "GET: https://nwis.waterservices.usgs.gov/nwis/iv/?site=03076600&format=waterml,1.1&ParameterCd=00060&startDT=2014-01-01&endDT=2025-05-08\n",
      "\n"
     ]
    },
    {
     "data": {
      "text/html": [
       "'624/1056 - Downloading data for site 03078000'"
      ],
      "text/latex": [
       "'624/1056 - Downloading data for site 03078000'"
      ],
      "text/markdown": [
       "'624/1056 - Downloading data for site 03078000'"
      ],
      "text/plain": [
       "[1] \"624/1056 - Downloading data for site 03078000\""
      ]
     },
     "metadata": {
      "display_id": "status",
      "update": true
     },
     "output_type": "display_data"
    },
    {
     "name": "stderr",
     "output_type": "stream",
     "text": [
      "GET: https://nwis.waterservices.usgs.gov/nwis/iv/?site=03078000&format=waterml,1.1&ParameterCd=00060&startDT=2014-01-01&endDT=2025-05-08\n",
      "\n"
     ]
    },
    {
     "data": {
      "text/html": [
       "'625/1056 - Downloading data for site 03077000'"
      ],
      "text/latex": [
       "'625/1056 - Downloading data for site 03077000'"
      ],
      "text/markdown": [
       "'625/1056 - Downloading data for site 03077000'"
      ],
      "text/plain": [
       "[1] \"625/1056 - Downloading data for site 03077000\""
      ]
     },
     "metadata": {
      "display_id": "status",
      "update": true
     },
     "output_type": "display_data"
    },
    {
     "name": "stderr",
     "output_type": "stream",
     "text": [
      "GET: https://nwis.waterservices.usgs.gov/nwis/iv/?site=03077000&format=waterml,1.1&ParameterCd=00060&startDT=2014-01-01&endDT=2025-05-08\n",
      "\n",
      "Warning message in doTryCatch(return(expr), name, parentenv, handler):\n",
      "\"No data available for site 03077000\"\n"
     ]
    },
    {
     "data": {
      "text/html": [
       "'626/1056 - Downloading data for site 03077500'"
      ],
      "text/latex": [
       "'626/1056 - Downloading data for site 03077500'"
      ],
      "text/markdown": [
       "'626/1056 - Downloading data for site 03077500'"
      ],
      "text/plain": [
       "[1] \"626/1056 - Downloading data for site 03077500\""
      ]
     },
     "metadata": {
      "display_id": "status",
      "update": true
     },
     "output_type": "display_data"
    },
    {
     "name": "stderr",
     "output_type": "stream",
     "text": [
      "GET: https://nwis.waterservices.usgs.gov/nwis/iv/?site=03077500&format=waterml,1.1&ParameterCd=00060&startDT=2014-01-01&endDT=2025-05-08\n",
      "\n"
     ]
    },
    {
     "data": {
      "text/html": [
       "'627/1056 - Downloading data for site 03080000'"
      ],
      "text/latex": [
       "'627/1056 - Downloading data for site 03080000'"
      ],
      "text/markdown": [
       "'627/1056 - Downloading data for site 03080000'"
      ],
      "text/plain": [
       "[1] \"627/1056 - Downloading data for site 03080000\""
      ]
     },
     "metadata": {
      "display_id": "status",
      "update": true
     },
     "output_type": "display_data"
    },
    {
     "name": "stderr",
     "output_type": "stream",
     "text": [
      "GET: https://nwis.waterservices.usgs.gov/nwis/iv/?site=03080000&format=waterml,1.1&ParameterCd=00060&startDT=2014-01-01&endDT=2025-05-08\n",
      "\n"
     ]
    },
    {
     "data": {
      "text/html": [
       "'628/1056 - Downloading data for site 03081000'"
      ],
      "text/latex": [
       "'628/1056 - Downloading data for site 03081000'"
      ],
      "text/markdown": [
       "'628/1056 - Downloading data for site 03081000'"
      ],
      "text/plain": [
       "[1] \"628/1056 - Downloading data for site 03081000\""
      ]
     },
     "metadata": {
      "display_id": "status",
      "update": true
     },
     "output_type": "display_data"
    },
    {
     "name": "stderr",
     "output_type": "stream",
     "text": [
      "GET: https://nwis.waterservices.usgs.gov/nwis/iv/?site=03081000&format=waterml,1.1&ParameterCd=00060&startDT=2014-01-01&endDT=2025-05-08\n",
      "\n"
     ]
    },
    {
     "data": {
      "text/html": [
       "'629/1056 - Downloading data for site 03079000'"
      ],
      "text/latex": [
       "'629/1056 - Downloading data for site 03079000'"
      ],
      "text/markdown": [
       "'629/1056 - Downloading data for site 03079000'"
      ],
      "text/plain": [
       "[1] \"629/1056 - Downloading data for site 03079000\""
      ]
     },
     "metadata": {
      "display_id": "status",
      "update": true
     },
     "output_type": "display_data"
    },
    {
     "name": "stderr",
     "output_type": "stream",
     "text": [
      "GET: https://nwis.waterservices.usgs.gov/nwis/iv/?site=03079000&format=waterml,1.1&ParameterCd=00060&startDT=2014-01-01&endDT=2025-05-08\n",
      "\n"
     ]
    },
    {
     "data": {
      "text/html": [
       "'630/1056 - Downloading data for site 03072655'"
      ],
      "text/latex": [
       "'630/1056 - Downloading data for site 03072655'"
      ],
      "text/markdown": [
       "'630/1056 - Downloading data for site 03072655'"
      ],
      "text/plain": [
       "[1] \"630/1056 - Downloading data for site 03072655\""
      ]
     },
     "metadata": {
      "display_id": "status",
      "update": true
     },
     "output_type": "display_data"
    },
    {
     "name": "stderr",
     "output_type": "stream",
     "text": [
      "GET: https://nwis.waterservices.usgs.gov/nwis/iv/?site=03072655&format=waterml,1.1&ParameterCd=00060&startDT=2014-01-01&endDT=2025-05-08\n",
      "\n"
     ]
    },
    {
     "data": {
      "text/html": [
       "'631/1056 - Downloading data for site 03072656'"
      ],
      "text/latex": [
       "'631/1056 - Downloading data for site 03072656'"
      ],
      "text/markdown": [
       "'631/1056 - Downloading data for site 03072656'"
      ],
      "text/plain": [
       "[1] \"631/1056 - Downloading data for site 03072656\""
      ]
     },
     "metadata": {
      "display_id": "status",
      "update": true
     },
     "output_type": "display_data"
    },
    {
     "name": "stderr",
     "output_type": "stream",
     "text": [
      "GET: https://nwis.waterservices.usgs.gov/nwis/iv/?site=03072656&format=waterml,1.1&ParameterCd=00060&startDT=2014-01-01&endDT=2025-05-08\n",
      "\n",
      "Warning message in doTryCatch(return(expr), name, parentenv, handler):\n",
      "\"No data available for site 03072656\"\n"
     ]
    },
    {
     "data": {
      "text/html": [
       "'632/1056 - Downloading data for site 03081500'"
      ],
      "text/latex": [
       "'632/1056 - Downloading data for site 03081500'"
      ],
      "text/markdown": [
       "'632/1056 - Downloading data for site 03081500'"
      ],
      "text/plain": [
       "[1] \"632/1056 - Downloading data for site 03081500\""
      ]
     },
     "metadata": {
      "display_id": "status",
      "update": true
     },
     "output_type": "display_data"
    },
    {
     "name": "stderr",
     "output_type": "stream",
     "text": [
      "GET: https://nwis.waterservices.usgs.gov/nwis/iv/?site=03081500&format=waterml,1.1&ParameterCd=00060&startDT=2014-01-01&endDT=2025-05-08\n",
      "\n"
     ]
    },
    {
     "data": {
      "text/html": [
       "'633/1056 - Downloading data for site 03073000'"
      ],
      "text/latex": [
       "'633/1056 - Downloading data for site 03073000'"
      ],
      "text/markdown": [
       "'633/1056 - Downloading data for site 03073000'"
      ],
      "text/plain": [
       "[1] \"633/1056 - Downloading data for site 03073000\""
      ]
     },
     "metadata": {
      "display_id": "status",
      "update": true
     },
     "output_type": "display_data"
    },
    {
     "name": "stderr",
     "output_type": "stream",
     "text": [
      "GET: https://nwis.waterservices.usgs.gov/nwis/iv/?site=03073000&format=waterml,1.1&ParameterCd=00060&startDT=2014-01-01&endDT=2025-05-08\n",
      "\n"
     ]
    },
    {
     "data": {
      "text/html": [
       "'634/1056 - Downloading data for site 03074500'"
      ],
      "text/latex": [
       "'634/1056 - Downloading data for site 03074500'"
      ],
      "text/markdown": [
       "'634/1056 - Downloading data for site 03074500'"
      ],
      "text/plain": [
       "[1] \"634/1056 - Downloading data for site 03074500\""
      ]
     },
     "metadata": {
      "display_id": "status",
      "update": true
     },
     "output_type": "display_data"
    },
    {
     "name": "stderr",
     "output_type": "stream",
     "text": [
      "GET: https://nwis.waterservices.usgs.gov/nwis/iv/?site=03074500&format=waterml,1.1&ParameterCd=00060&startDT=2014-01-01&endDT=2025-05-08\n",
      "\n"
     ]
    },
    {
     "data": {
      "text/html": [
       "'635/1056 - Downloading data for site 03073751'"
      ],
      "text/latex": [
       "'635/1056 - Downloading data for site 03073751'"
      ],
      "text/markdown": [
       "'635/1056 - Downloading data for site 03073751'"
      ],
      "text/plain": [
       "[1] \"635/1056 - Downloading data for site 03073751\""
      ]
     },
     "metadata": {
      "display_id": "status",
      "update": true
     },
     "output_type": "display_data"
    },
    {
     "name": "stderr",
     "output_type": "stream",
     "text": [
      "GET: https://nwis.waterservices.usgs.gov/nwis/iv/?site=03073751&format=waterml,1.1&ParameterCd=00060&startDT=2014-01-01&endDT=2025-05-08\n",
      "\n",
      "Warning message in doTryCatch(return(expr), name, parentenv, handler):\n",
      "\"No data available for site 03073751\"\n"
     ]
    },
    {
     "data": {
      "text/html": [
       "'636/1056 - Downloading data for site 03073750'"
      ],
      "text/latex": [
       "'636/1056 - Downloading data for site 03073750'"
      ],
      "text/markdown": [
       "'636/1056 - Downloading data for site 03073750'"
      ],
      "text/plain": [
       "[1] \"636/1056 - Downloading data for site 03073750\""
      ]
     },
     "metadata": {
      "display_id": "status",
      "update": true
     },
     "output_type": "display_data"
    },
    {
     "name": "stderr",
     "output_type": "stream",
     "text": [
      "GET: https://nwis.waterservices.usgs.gov/nwis/iv/?site=03073750&format=waterml,1.1&ParameterCd=00060&startDT=2014-01-01&endDT=2025-05-08\n",
      "\n",
      "Warning message in doTryCatch(return(expr), name, parentenv, handler):\n",
      "\"No data available for site 03073750\"\n"
     ]
    },
    {
     "data": {
      "text/html": [
       "'637/1056 - Downloading data for site 03082500'"
      ],
      "text/latex": [
       "'637/1056 - Downloading data for site 03082500'"
      ],
      "text/markdown": [
       "'637/1056 - Downloading data for site 03082500'"
      ],
      "text/plain": [
       "[1] \"637/1056 - Downloading data for site 03082500\""
      ]
     },
     "metadata": {
      "display_id": "status",
      "update": true
     },
     "output_type": "display_data"
    },
    {
     "name": "stderr",
     "output_type": "stream",
     "text": [
      "GET: https://nwis.waterservices.usgs.gov/nwis/iv/?site=03082500&format=waterml,1.1&ParameterCd=00060&startDT=2014-01-01&endDT=2025-05-08\n",
      "\n"
     ]
    },
    {
     "data": {
      "text/html": [
       "'638/1056 - Downloading data for site 03074850'"
      ],
      "text/latex": [
       "'638/1056 - Downloading data for site 03074850'"
      ],
      "text/markdown": [
       "'638/1056 - Downloading data for site 03074850'"
      ],
      "text/plain": [
       "[1] \"638/1056 - Downloading data for site 03074850\""
      ]
     },
     "metadata": {
      "display_id": "status",
      "update": true
     },
     "output_type": "display_data"
    },
    {
     "name": "stderr",
     "output_type": "stream",
     "text": [
      "GET: https://nwis.waterservices.usgs.gov/nwis/iv/?site=03074850&format=waterml,1.1&ParameterCd=00060&startDT=2014-01-01&endDT=2025-05-08\n",
      "\n",
      "Warning message in doTryCatch(return(expr), name, parentenv, handler):\n",
      "\"No data available for site 03074850\"\n"
     ]
    },
    {
     "data": {
      "text/html": [
       "'639/1056 - Downloading data for site 03074998'"
      ],
      "text/latex": [
       "'639/1056 - Downloading data for site 03074998'"
      ],
      "text/markdown": [
       "'639/1056 - Downloading data for site 03074998'"
      ],
      "text/plain": [
       "[1] \"639/1056 - Downloading data for site 03074998\""
      ]
     },
     "metadata": {
      "display_id": "status",
      "update": true
     },
     "output_type": "display_data"
    },
    {
     "name": "stderr",
     "output_type": "stream",
     "text": [
      "GET: https://nwis.waterservices.usgs.gov/nwis/iv/?site=03074998&format=waterml,1.1&ParameterCd=00060&startDT=2014-01-01&endDT=2025-05-08\n",
      "\n",
      "Warning message in doTryCatch(return(expr), name, parentenv, handler):\n",
      "\"No data available for site 03074998\"\n"
     ]
    },
    {
     "data": {
      "text/html": [
       "'640/1056 - Downloading data for site 03044810'"
      ],
      "text/latex": [
       "'640/1056 - Downloading data for site 03044810'"
      ],
      "text/markdown": [
       "'640/1056 - Downloading data for site 03044810'"
      ],
      "text/plain": [
       "[1] \"640/1056 - Downloading data for site 03044810\""
      ]
     },
     "metadata": {
      "display_id": "status",
      "update": true
     },
     "output_type": "display_data"
    },
    {
     "name": "stderr",
     "output_type": "stream",
     "text": [
      "GET: https://nwis.waterservices.usgs.gov/nwis/iv/?site=03044810&format=waterml,1.1&ParameterCd=00060&startDT=2014-01-01&endDT=2025-05-08\n",
      "\n"
     ]
    },
    {
     "data": {
      "text/html": [
       "'641/1056 - Downloading data for site 03040000'"
      ],
      "text/latex": [
       "'641/1056 - Downloading data for site 03040000'"
      ],
      "text/markdown": [
       "'641/1056 - Downloading data for site 03040000'"
      ],
      "text/plain": [
       "[1] \"641/1056 - Downloading data for site 03040000\""
      ]
     },
     "metadata": {
      "display_id": "status",
      "update": true
     },
     "output_type": "display_data"
    },
    {
     "name": "stderr",
     "output_type": "stream",
     "text": [
      "GET: https://nwis.waterservices.usgs.gov/nwis/iv/?site=03040000&format=waterml,1.1&ParameterCd=00060&startDT=2014-01-01&endDT=2025-05-08\n",
      "\n"
     ]
    },
    {
     "data": {
      "text/html": [
       "'642/1056 - Downloading data for site 03045000'"
      ],
      "text/latex": [
       "'642/1056 - Downloading data for site 03045000'"
      ],
      "text/markdown": [
       "'642/1056 - Downloading data for site 03045000'"
      ],
      "text/plain": [
       "[1] \"642/1056 - Downloading data for site 03045000\""
      ]
     },
     "metadata": {
      "display_id": "status",
      "update": true
     },
     "output_type": "display_data"
    },
    {
     "name": "stderr",
     "output_type": "stream",
     "text": [
      "GET: https://nwis.waterservices.usgs.gov/nwis/iv/?site=03045000&format=waterml,1.1&ParameterCd=00060&startDT=2014-01-01&endDT=2025-05-08\n",
      "\n"
     ]
    },
    {
     "data": {
      "text/html": [
       "'643/1056 - Downloading data for site 03045010'"
      ],
      "text/latex": [
       "'643/1056 - Downloading data for site 03045010'"
      ],
      "text/markdown": [
       "'643/1056 - Downloading data for site 03045010'"
      ],
      "text/plain": [
       "[1] \"643/1056 - Downloading data for site 03045010\""
      ]
     },
     "metadata": {
      "display_id": "status",
      "update": true
     },
     "output_type": "display_data"
    },
    {
     "name": "stderr",
     "output_type": "stream",
     "text": [
      "GET: https://nwis.waterservices.usgs.gov/nwis/iv/?site=03045010&format=waterml,1.1&ParameterCd=00060&startDT=2014-01-01&endDT=2025-05-08\n",
      "\n",
      "Warning message in doTryCatch(return(expr), name, parentenv, handler):\n",
      "\"No data available for site 03045010\"\n"
     ]
    },
    {
     "data": {
      "text/html": [
       "'644/1056 - Downloading data for site 03041029'"
      ],
      "text/latex": [
       "'644/1056 - Downloading data for site 03041029'"
      ],
      "text/markdown": [
       "'644/1056 - Downloading data for site 03041029'"
      ],
      "text/plain": [
       "[1] \"644/1056 - Downloading data for site 03041029\""
      ]
     },
     "metadata": {
      "display_id": "status",
      "update": true
     },
     "output_type": "display_data"
    },
    {
     "name": "stderr",
     "output_type": "stream",
     "text": [
      "GET: https://nwis.waterservices.usgs.gov/nwis/iv/?site=03041029&format=waterml,1.1&ParameterCd=00060&startDT=2014-01-01&endDT=2025-05-08\n",
      "\n"
     ]
    },
    {
     "data": {
      "text/html": [
       "'645/1056 - Downloading data for site 03041000'"
      ],
      "text/latex": [
       "'645/1056 - Downloading data for site 03041000'"
      ],
      "text/markdown": [
       "'645/1056 - Downloading data for site 03041000'"
      ],
      "text/plain": [
       "[1] \"645/1056 - Downloading data for site 03041000\""
      ]
     },
     "metadata": {
      "display_id": "status",
      "update": true
     },
     "output_type": "display_data"
    },
    {
     "name": "stderr",
     "output_type": "stream",
     "text": [
      "GET: https://nwis.waterservices.usgs.gov/nwis/iv/?site=03041000&format=waterml,1.1&ParameterCd=00060&startDT=2014-01-01&endDT=2025-05-08\n",
      "\n",
      "Warning message in doTryCatch(return(expr), name, parentenv, handler):\n",
      "\"No data available for site 03041000\"\n"
     ]
    },
    {
     "data": {
      "text/html": [
       "'646/1056 - Downloading data for site 03040100'"
      ],
      "text/latex": [
       "'646/1056 - Downloading data for site 03040100'"
      ],
      "text/markdown": [
       "'646/1056 - Downloading data for site 03040100'"
      ],
      "text/plain": [
       "[1] \"646/1056 - Downloading data for site 03040100\""
      ]
     },
     "metadata": {
      "display_id": "status",
      "update": true
     },
     "output_type": "display_data"
    },
    {
     "name": "stderr",
     "output_type": "stream",
     "text": [
      "GET: https://nwis.waterservices.usgs.gov/nwis/iv/?site=03040100&format=waterml,1.1&ParameterCd=00060&startDT=2014-01-01&endDT=2025-05-08\n",
      "\n",
      "Warning message in doTryCatch(return(expr), name, parentenv, handler):\n",
      "\"No data available for site 03040100\"\n"
     ]
    },
    {
     "data": {
      "text/html": [
       "'647/1056 - Downloading data for site 03040050'"
      ],
      "text/latex": [
       "'647/1056 - Downloading data for site 03040050'"
      ],
      "text/markdown": [
       "'647/1056 - Downloading data for site 03040050'"
      ],
      "text/plain": [
       "[1] \"647/1056 - Downloading data for site 03040050\""
      ]
     },
     "metadata": {
      "display_id": "status",
      "update": true
     },
     "output_type": "display_data"
    },
    {
     "name": "stderr",
     "output_type": "stream",
     "text": [
      "GET: https://nwis.waterservices.usgs.gov/nwis/iv/?site=03040050&format=waterml,1.1&ParameterCd=00060&startDT=2014-01-01&endDT=2025-05-08\n",
      "\n",
      "Warning message in doTryCatch(return(expr), name, parentenv, handler):\n",
      "\"No data available for site 03040050\"\n"
     ]
    },
    {
     "data": {
      "text/html": [
       "'648/1056 - Downloading data for site 03084800'"
      ],
      "text/latex": [
       "'648/1056 - Downloading data for site 03084800'"
      ],
      "text/markdown": [
       "'648/1056 - Downloading data for site 03084800'"
      ],
      "text/plain": [
       "[1] \"648/1056 - Downloading data for site 03084800\""
      ]
     },
     "metadata": {
      "display_id": "status",
      "update": true
     },
     "output_type": "display_data"
    },
    {
     "name": "stderr",
     "output_type": "stream",
     "text": [
      "GET: https://nwis.waterservices.usgs.gov/nwis/iv/?site=03084800&format=waterml,1.1&ParameterCd=00060&startDT=2014-01-01&endDT=2025-05-08\n",
      "\n",
      "Warning message in value[[3L]](cond):\n",
      "\"Error downloading data for site 03084800 : \"\n"
     ]
    },
    {
     "data": {
      "text/html": [
       "'649/1056 - Downloading data for site 030850498'"
      ],
      "text/latex": [
       "'649/1056 - Downloading data for site 030850498'"
      ],
      "text/markdown": [
       "'649/1056 - Downloading data for site 030850498'"
      ],
      "text/plain": [
       "[1] \"649/1056 - Downloading data for site 030850498\""
      ]
     },
     "metadata": {
      "display_id": "status",
      "update": true
     },
     "output_type": "display_data"
    },
    {
     "name": "stderr",
     "output_type": "stream",
     "text": [
      "GET: https://nwis.waterservices.usgs.gov/nwis/iv/?site=030850498&format=waterml,1.1&ParameterCd=00060&startDT=2014-01-01&endDT=2025-05-08\n",
      "\n"
     ]
    },
    {
     "data": {
      "text/html": [
       "'650/1056 - Downloading data for site 03085213'"
      ],
      "text/latex": [
       "'650/1056 - Downloading data for site 03085213'"
      ],
      "text/markdown": [
       "'650/1056 - Downloading data for site 03085213'"
      ],
      "text/plain": [
       "[1] \"650/1056 - Downloading data for site 03085213\""
      ]
     },
     "metadata": {
      "display_id": "status",
      "update": true
     },
     "output_type": "display_data"
    },
    {
     "name": "stderr",
     "output_type": "stream",
     "text": [
      "GET: https://nwis.waterservices.usgs.gov/nwis/iv/?site=03085213&format=waterml,1.1&ParameterCd=00060&startDT=2014-01-01&endDT=2025-05-08\n",
      "\n",
      "Warning message in value[[3L]](cond):\n",
      "\"Error downloading data for site 03085213 : \"\n"
     ]
    },
    {
     "data": {
      "text/html": [
       "'651/1056 - Downloading data for site 03085152'"
      ],
      "text/latex": [
       "'651/1056 - Downloading data for site 03085152'"
      ],
      "text/markdown": [
       "'651/1056 - Downloading data for site 03085152'"
      ],
      "text/plain": [
       "[1] \"651/1056 - Downloading data for site 03085152\""
      ]
     },
     "metadata": {
      "display_id": "status",
      "update": true
     },
     "output_type": "display_data"
    },
    {
     "name": "stderr",
     "output_type": "stream",
     "text": [
      "GET: https://nwis.waterservices.usgs.gov/nwis/iv/?site=03085152&format=waterml,1.1&ParameterCd=00060&startDT=2014-01-01&endDT=2025-05-08\n",
      "\n",
      "Warning message in doTryCatch(return(expr), name, parentenv, handler):\n",
      "\"No data available for site 03085152\"\n"
     ]
    },
    {
     "data": {
      "text/html": [
       "'652/1056 - Downloading data for site 03046500'"
      ],
      "text/latex": [
       "'652/1056 - Downloading data for site 03046500'"
      ],
      "text/markdown": [
       "'652/1056 - Downloading data for site 03046500'"
      ],
      "text/plain": [
       "[1] \"652/1056 - Downloading data for site 03046500\""
      ]
     },
     "metadata": {
      "display_id": "status",
      "update": true
     },
     "output_type": "display_data"
    },
    {
     "name": "stderr",
     "output_type": "stream",
     "text": [
      "GET: https://nwis.waterservices.usgs.gov/nwis/iv/?site=03046500&format=waterml,1.1&ParameterCd=00060&startDT=2014-01-01&endDT=2025-05-08\n",
      "\n",
      "Warning message in doTryCatch(return(expr), name, parentenv, handler):\n",
      "\"No data available for site 03046500\"\n"
     ]
    },
    {
     "data": {
      "text/html": [
       "'653/1056 - Downloading data for site 03047000'"
      ],
      "text/latex": [
       "'653/1056 - Downloading data for site 03047000'"
      ],
      "text/markdown": [
       "'653/1056 - Downloading data for site 03047000'"
      ],
      "text/plain": [
       "[1] \"653/1056 - Downloading data for site 03047000\""
      ]
     },
     "metadata": {
      "display_id": "status",
      "update": true
     },
     "output_type": "display_data"
    },
    {
     "name": "stderr",
     "output_type": "stream",
     "text": [
      "GET: https://nwis.waterservices.usgs.gov/nwis/iv/?site=03047000&format=waterml,1.1&ParameterCd=00060&startDT=2014-01-01&endDT=2025-05-08\n",
      "\n"
     ]
    },
    {
     "data": {
      "text/html": [
       "'654/1056 - Downloading data for site 03049819'"
      ],
      "text/latex": [
       "'654/1056 - Downloading data for site 03049819'"
      ],
      "text/markdown": [
       "'654/1056 - Downloading data for site 03049819'"
      ],
      "text/plain": [
       "[1] \"654/1056 - Downloading data for site 03049819\""
      ]
     },
     "metadata": {
      "display_id": "status",
      "update": true
     },
     "output_type": "display_data"
    },
    {
     "name": "stderr",
     "output_type": "stream",
     "text": [
      "GET: https://nwis.waterservices.usgs.gov/nwis/iv/?site=03049819&format=waterml,1.1&ParameterCd=00060&startDT=2014-01-01&endDT=2025-05-08\n",
      "\n",
      "Warning message in value[[3L]](cond):\n",
      "\"Error downloading data for site 03049819 : \"\n"
     ]
    },
    {
     "data": {
      "text/html": [
       "'655/1056 - Downloading data for site 03049680'"
      ],
      "text/latex": [
       "'655/1056 - Downloading data for site 03049680'"
      ],
      "text/markdown": [
       "'655/1056 - Downloading data for site 03049680'"
      ],
      "text/plain": [
       "[1] \"655/1056 - Downloading data for site 03049680\""
      ]
     },
     "metadata": {
      "display_id": "status",
      "update": true
     },
     "output_type": "display_data"
    },
    {
     "name": "stderr",
     "output_type": "stream",
     "text": [
      "GET: https://nwis.waterservices.usgs.gov/nwis/iv/?site=03049680&format=waterml,1.1&ParameterCd=00060&startDT=2014-01-01&endDT=2025-05-08\n",
      "\n",
      "Warning message in doTryCatch(return(expr), name, parentenv, handler):\n",
      "\"No data available for site 03049680\"\n"
     ]
    },
    {
     "data": {
      "text/html": [
       "'656/1056 - Downloading data for site 03049681'"
      ],
      "text/latex": [
       "'656/1056 - Downloading data for site 03049681'"
      ],
      "text/markdown": [
       "'656/1056 - Downloading data for site 03049681'"
      ],
      "text/plain": [
       "[1] \"656/1056 - Downloading data for site 03049681\""
      ]
     },
     "metadata": {
      "display_id": "status",
      "update": true
     },
     "output_type": "display_data"
    },
    {
     "name": "stderr",
     "output_type": "stream",
     "text": [
      "GET: https://nwis.waterservices.usgs.gov/nwis/iv/?site=03049681&format=waterml,1.1&ParameterCd=00060&startDT=2014-01-01&endDT=2025-05-08\n",
      "\n",
      "Warning message in doTryCatch(return(expr), name, parentenv, handler):\n",
      "\"No data available for site 03049681\"\n"
     ]
    },
    {
     "data": {
      "text/html": [
       "'657/1056 - Downloading data for site 03049807'"
      ],
      "text/latex": [
       "'657/1056 - Downloading data for site 03049807'"
      ],
      "text/markdown": [
       "'657/1056 - Downloading data for site 03049807'"
      ],
      "text/plain": [
       "[1] \"657/1056 - Downloading data for site 03049807\""
      ]
     },
     "metadata": {
      "display_id": "status",
      "update": true
     },
     "output_type": "display_data"
    },
    {
     "name": "stderr",
     "output_type": "stream",
     "text": [
      "GET: https://nwis.waterservices.usgs.gov/nwis/iv/?site=03049807&format=waterml,1.1&ParameterCd=00060&startDT=2014-01-01&endDT=2025-05-08\n",
      "\n",
      "Warning message in value[[3L]](cond):\n",
      "\"Error downloading data for site 03049807 : \"\n"
     ]
    },
    {
     "data": {
      "text/html": [
       "'658/1056 - Downloading data for site 03041500'"
      ],
      "text/latex": [
       "'658/1056 - Downloading data for site 03041500'"
      ],
      "text/markdown": [
       "'658/1056 - Downloading data for site 03041500'"
      ],
      "text/plain": [
       "[1] \"658/1056 - Downloading data for site 03041500\""
      ]
     },
     "metadata": {
      "display_id": "status",
      "update": true
     },
     "output_type": "display_data"
    },
    {
     "name": "stderr",
     "output_type": "stream",
     "text": [
      "GET: https://nwis.waterservices.usgs.gov/nwis/iv/?site=03041500&format=waterml,1.1&ParameterCd=00060&startDT=2014-01-01&endDT=2025-05-08\n",
      "\n"
     ]
    },
    {
     "data": {
      "text/html": [
       "'659/1056 - Downloading data for site 03044000'"
      ],
      "text/latex": [
       "'659/1056 - Downloading data for site 03044000'"
      ],
      "text/markdown": [
       "'659/1056 - Downloading data for site 03044000'"
      ],
      "text/plain": [
       "[1] \"659/1056 - Downloading data for site 03044000\""
      ]
     },
     "metadata": {
      "display_id": "status",
      "update": true
     },
     "output_type": "display_data"
    },
    {
     "name": "stderr",
     "output_type": "stream",
     "text": [
      "GET: https://nwis.waterservices.usgs.gov/nwis/iv/?site=03044000&format=waterml,1.1&ParameterCd=00060&startDT=2014-01-01&endDT=2025-05-08\n",
      "\n"
     ]
    },
    {
     "data": {
      "text/html": [
       "'660/1056 - Downloading data for site 03043500'"
      ],
      "text/latex": [
       "'660/1056 - Downloading data for site 03043500'"
      ],
      "text/markdown": [
       "'660/1056 - Downloading data for site 03043500'"
      ],
      "text/plain": [
       "[1] \"660/1056 - Downloading data for site 03043500\""
      ]
     },
     "metadata": {
      "display_id": "status",
      "update": true
     },
     "output_type": "display_data"
    },
    {
     "name": "stderr",
     "output_type": "stream",
     "text": [
      "GET: https://nwis.waterservices.usgs.gov/nwis/iv/?site=03043500&format=waterml,1.1&ParameterCd=00060&startDT=2014-01-01&endDT=2025-05-08\n",
      "\n",
      "Warning message in doTryCatch(return(expr), name, parentenv, handler):\n",
      "\"No data available for site 03043500\"\n"
     ]
    },
    {
     "data": {
      "text/html": [
       "'661/1056 - Downloading data for site 03042000'"
      ],
      "text/latex": [
       "'661/1056 - Downloading data for site 03042000'"
      ],
      "text/markdown": [
       "'661/1056 - Downloading data for site 03042000'"
      ],
      "text/plain": [
       "[1] \"661/1056 - Downloading data for site 03042000\""
      ]
     },
     "metadata": {
      "display_id": "status",
      "update": true
     },
     "output_type": "display_data"
    },
    {
     "name": "stderr",
     "output_type": "stream",
     "text": [
      "GET: https://nwis.waterservices.usgs.gov/nwis/iv/?site=03042000&format=waterml,1.1&ParameterCd=00060&startDT=2014-01-01&endDT=2025-05-08\n",
      "\n"
     ]
    },
    {
     "data": {
      "text/html": [
       "'662/1056 - Downloading data for site 03042500'"
      ],
      "text/latex": [
       "'662/1056 - Downloading data for site 03042500'"
      ],
      "text/markdown": [
       "'662/1056 - Downloading data for site 03042500'"
      ],
      "text/plain": [
       "[1] \"662/1056 - Downloading data for site 03042500\""
      ]
     },
     "metadata": {
      "display_id": "status",
      "update": true
     },
     "output_type": "display_data"
    },
    {
     "name": "stderr",
     "output_type": "stream",
     "text": [
      "GET: https://nwis.waterservices.usgs.gov/nwis/iv/?site=03042500&format=waterml,1.1&ParameterCd=00060&startDT=2014-01-01&endDT=2025-05-08\n",
      "\n"
     ]
    },
    {
     "data": {
      "text/html": [
       "'663/1056 - Downloading data for site 03042280'"
      ],
      "text/latex": [
       "'663/1056 - Downloading data for site 03042280'"
      ],
      "text/markdown": [
       "'663/1056 - Downloading data for site 03042280'"
      ],
      "text/plain": [
       "[1] \"663/1056 - Downloading data for site 03042280\""
      ]
     },
     "metadata": {
      "display_id": "status",
      "update": true
     },
     "output_type": "display_data"
    },
    {
     "name": "stderr",
     "output_type": "stream",
     "text": [
      "GET: https://nwis.waterservices.usgs.gov/nwis/iv/?site=03042280&format=waterml,1.1&ParameterCd=00060&startDT=2014-01-01&endDT=2025-05-08\n",
      "\n"
     ]
    },
    {
     "data": {
      "text/html": [
       "'664/1056 - Downloading data for site 03038000'"
      ],
      "text/latex": [
       "'664/1056 - Downloading data for site 03038000'"
      ],
      "text/markdown": [
       "'664/1056 - Downloading data for site 03038000'"
      ],
      "text/plain": [
       "[1] \"664/1056 - Downloading data for site 03038000\""
      ]
     },
     "metadata": {
      "display_id": "status",
      "update": true
     },
     "output_type": "display_data"
    },
    {
     "name": "stderr",
     "output_type": "stream",
     "text": [
      "GET: https://nwis.waterservices.usgs.gov/nwis/iv/?site=03038000&format=waterml,1.1&ParameterCd=00060&startDT=2014-01-01&endDT=2025-05-08\n",
      "\n"
     ]
    },
    {
     "data": {
      "text/html": [
       "'665/1056 - Downloading data for site 03141700'"
      ],
      "text/latex": [
       "'665/1056 - Downloading data for site 03141700'"
      ],
      "text/markdown": [
       "'665/1056 - Downloading data for site 03141700'"
      ],
      "text/plain": [
       "[1] \"665/1056 - Downloading data for site 03141700\""
      ]
     },
     "metadata": {
      "display_id": "status",
      "update": true
     },
     "output_type": "display_data"
    },
    {
     "name": "stderr",
     "output_type": "stream",
     "text": [
      "GET: https://nwis.waterservices.usgs.gov/nwis/iv/?site=03141700&format=waterml,1.1&ParameterCd=00060&startDT=2014-01-01&endDT=2025-05-08\n",
      "\n",
      "Warning message in doTryCatch(return(expr), name, parentenv, handler):\n",
      "\"No data available for site 03141700\"\n"
     ]
    },
    {
     "data": {
      "text/html": [
       "'666/1056 - Downloading data for site 03141500'"
      ],
      "text/latex": [
       "'666/1056 - Downloading data for site 03141500'"
      ],
      "text/markdown": [
       "'666/1056 - Downloading data for site 03141500'"
      ],
      "text/plain": [
       "[1] \"666/1056 - Downloading data for site 03141500\""
      ]
     },
     "metadata": {
      "display_id": "status",
      "update": true
     },
     "output_type": "display_data"
    },
    {
     "name": "stderr",
     "output_type": "stream",
     "text": [
      "GET: https://nwis.waterservices.usgs.gov/nwis/iv/?site=03141500&format=waterml,1.1&ParameterCd=00060&startDT=2014-01-01&endDT=2025-05-08\n",
      "\n"
     ]
    },
    {
     "data": {
      "text/html": [
       "'667/1056 - Downloading data for site 03141000'"
      ],
      "text/latex": [
       "'667/1056 - Downloading data for site 03141000'"
      ],
      "text/markdown": [
       "'667/1056 - Downloading data for site 03141000'"
      ],
      "text/plain": [
       "[1] \"667/1056 - Downloading data for site 03141000\""
      ]
     },
     "metadata": {
      "display_id": "status",
      "update": true
     },
     "output_type": "display_data"
    },
    {
     "name": "stderr",
     "output_type": "stream",
     "text": [
      "GET: https://nwis.waterservices.usgs.gov/nwis/iv/?site=03141000&format=waterml,1.1&ParameterCd=00060&startDT=2014-01-01&endDT=2025-05-08\n",
      "\n",
      "Warning message in doTryCatch(return(expr), name, parentenv, handler):\n",
      "\"No data available for site 03141000\"\n"
     ]
    },
    {
     "data": {
      "text/html": [
       "'668/1056 - Downloading data for site 03141870'"
      ],
      "text/latex": [
       "'668/1056 - Downloading data for site 03141870'"
      ],
      "text/markdown": [
       "'668/1056 - Downloading data for site 03141870'"
      ],
      "text/plain": [
       "[1] \"668/1056 - Downloading data for site 03141870\""
      ]
     },
     "metadata": {
      "display_id": "status",
      "update": true
     },
     "output_type": "display_data"
    },
    {
     "name": "stderr",
     "output_type": "stream",
     "text": [
      "GET: https://nwis.waterservices.usgs.gov/nwis/iv/?site=03141870&format=waterml,1.1&ParameterCd=00060&startDT=2014-01-01&endDT=2025-05-08\n",
      "\n"
     ]
    },
    {
     "data": {
      "text/html": [
       "'669/1056 - Downloading data for site 03142000'"
      ],
      "text/latex": [
       "'669/1056 - Downloading data for site 03142000'"
      ],
      "text/markdown": [
       "'669/1056 - Downloading data for site 03142000'"
      ],
      "text/plain": [
       "[1] \"669/1056 - Downloading data for site 03142000\""
      ]
     },
     "metadata": {
      "display_id": "status",
      "update": true
     },
     "output_type": "display_data"
    },
    {
     "name": "stderr",
     "output_type": "stream",
     "text": [
      "GET: https://nwis.waterservices.usgs.gov/nwis/iv/?site=03142000&format=waterml,1.1&ParameterCd=00060&startDT=2014-01-01&endDT=2025-05-08\n",
      "\n"
     ]
    },
    {
     "data": {
      "text/html": [
       "'670/1056 - Downloading data for site 03125338'"
      ],
      "text/latex": [
       "'670/1056 - Downloading data for site 03125338'"
      ],
      "text/markdown": [
       "'670/1056 - Downloading data for site 03125338'"
      ],
      "text/plain": [
       "[1] \"670/1056 - Downloading data for site 03125338\""
      ]
     },
     "metadata": {
      "display_id": "status",
      "update": true
     },
     "output_type": "display_data"
    },
    {
     "name": "stderr",
     "output_type": "stream",
     "text": [
      "GET: https://nwis.waterservices.usgs.gov/nwis/iv/?site=03125338&format=waterml,1.1&ParameterCd=00060&startDT=2014-01-01&endDT=2025-05-08\n",
      "\n"
     ]
    },
    {
     "data": {
      "text/html": [
       "'671/1056 - Downloading data for site 03125500'"
      ],
      "text/latex": [
       "'671/1056 - Downloading data for site 03125500'"
      ],
      "text/markdown": [
       "'671/1056 - Downloading data for site 03125500'"
      ],
      "text/plain": [
       "[1] \"671/1056 - Downloading data for site 03125500\""
      ]
     },
     "metadata": {
      "display_id": "status",
      "update": true
     },
     "output_type": "display_data"
    },
    {
     "name": "stderr",
     "output_type": "stream",
     "text": [
      "GET: https://nwis.waterservices.usgs.gov/nwis/iv/?site=03125500&format=waterml,1.1&ParameterCd=00060&startDT=2014-01-01&endDT=2025-05-08\n",
      "\n",
      "Warning message in doTryCatch(return(expr), name, parentenv, handler):\n",
      "\"No data available for site 03125500\"\n"
     ]
    },
    {
     "data": {
      "text/html": [
       "'672/1056 - Downloading data for site 03125900'"
      ],
      "text/latex": [
       "'672/1056 - Downloading data for site 03125900'"
      ],
      "text/markdown": [
       "'672/1056 - Downloading data for site 03125900'"
      ],
      "text/plain": [
       "[1] \"672/1056 - Downloading data for site 03125900\""
      ]
     },
     "metadata": {
      "display_id": "status",
      "update": true
     },
     "output_type": "display_data"
    },
    {
     "name": "stderr",
     "output_type": "stream",
     "text": [
      "GET: https://nwis.waterservices.usgs.gov/nwis/iv/?site=03125900&format=waterml,1.1&ParameterCd=00060&startDT=2014-01-01&endDT=2025-05-08\n",
      "\n"
     ]
    },
    {
     "data": {
      "text/html": [
       "'673/1056 - Downloading data for site 03126000'"
      ],
      "text/latex": [
       "'673/1056 - Downloading data for site 03126000'"
      ],
      "text/markdown": [
       "'673/1056 - Downloading data for site 03126000'"
      ],
      "text/plain": [
       "[1] \"673/1056 - Downloading data for site 03126000\""
      ]
     },
     "metadata": {
      "display_id": "status",
      "update": true
     },
     "output_type": "display_data"
    },
    {
     "name": "stderr",
     "output_type": "stream",
     "text": [
      "GET: https://nwis.waterservices.usgs.gov/nwis/iv/?site=03126000&format=waterml,1.1&ParameterCd=00060&startDT=2014-01-01&endDT=2025-05-08\n",
      "\n"
     ]
    },
    {
     "data": {
      "text/html": [
       "'674/1056 - Downloading data for site 03126395'"
      ],
      "text/latex": [
       "'674/1056 - Downloading data for site 03126395'"
      ],
      "text/markdown": [
       "'674/1056 - Downloading data for site 03126395'"
      ],
      "text/plain": [
       "[1] \"674/1056 - Downloading data for site 03126395\""
      ]
     },
     "metadata": {
      "display_id": "status",
      "update": true
     },
     "output_type": "display_data"
    },
    {
     "name": "stderr",
     "output_type": "stream",
     "text": [
      "GET: https://nwis.waterservices.usgs.gov/nwis/iv/?site=03126395&format=waterml,1.1&ParameterCd=00060&startDT=2014-01-01&endDT=2025-05-08\n",
      "\n",
      "Warning message in doTryCatch(return(expr), name, parentenv, handler):\n",
      "\"No data available for site 03126395\"\n"
     ]
    },
    {
     "data": {
      "text/html": [
       "'675/1056 - Downloading data for site 03075000'"
      ],
      "text/latex": [
       "'675/1056 - Downloading data for site 03075000'"
      ],
      "text/markdown": [
       "'675/1056 - Downloading data for site 03075000'"
      ],
      "text/plain": [
       "[1] \"675/1056 - Downloading data for site 03075000\""
      ]
     },
     "metadata": {
      "display_id": "status",
      "update": true
     },
     "output_type": "display_data"
    },
    {
     "name": "stderr",
     "output_type": "stream",
     "text": [
      "GET: https://nwis.waterservices.usgs.gov/nwis/iv/?site=03075000&format=waterml,1.1&ParameterCd=00060&startDT=2014-01-01&endDT=2025-05-08\n",
      "\n",
      "Warning message in doTryCatch(return(expr), name, parentenv, handler):\n",
      "\"No data available for site 03075000\"\n"
     ]
    },
    {
     "data": {
      "text/html": [
       "'676/1056 - Downloading data for site 03083500'"
      ],
      "text/latex": [
       "'676/1056 - Downloading data for site 03083500'"
      ],
      "text/markdown": [
       "'676/1056 - Downloading data for site 03083500'"
      ],
      "text/plain": [
       "[1] \"676/1056 - Downloading data for site 03083500\""
      ]
     },
     "metadata": {
      "display_id": "status",
      "update": true
     },
     "output_type": "display_data"
    },
    {
     "name": "stderr",
     "output_type": "stream",
     "text": [
      "GET: https://nwis.waterservices.usgs.gov/nwis/iv/?site=03083500&format=waterml,1.1&ParameterCd=00060&startDT=2014-01-01&endDT=2025-05-08\n",
      "\n"
     ]
    },
    {
     "data": {
      "text/html": [
       "'677/1056 - Downloading data for site 03085250'"
      ],
      "text/latex": [
       "'677/1056 - Downloading data for site 03085250'"
      ],
      "text/markdown": [
       "'677/1056 - Downloading data for site 03085250'"
      ],
      "text/plain": [
       "[1] \"677/1056 - Downloading data for site 03085250\""
      ]
     },
     "metadata": {
      "display_id": "status",
      "update": true
     },
     "output_type": "display_data"
    },
    {
     "name": "stderr",
     "output_type": "stream",
     "text": [
      "GET: https://nwis.waterservices.usgs.gov/nwis/iv/?site=03085250&format=waterml,1.1&ParameterCd=00060&startDT=2014-01-01&endDT=2025-05-08\n",
      "\n",
      "Warning message in doTryCatch(return(expr), name, parentenv, handler):\n",
      "\"No data available for site 03085250\"\n"
     ]
    },
    {
     "data": {
      "text/html": [
       "'678/1056 - Downloading data for site 03075070'"
      ],
      "text/latex": [
       "'678/1056 - Downloading data for site 03075070'"
      ],
      "text/markdown": [
       "'678/1056 - Downloading data for site 03075070'"
      ],
      "text/plain": [
       "[1] \"678/1056 - Downloading data for site 03075070\""
      ]
     },
     "metadata": {
      "display_id": "status",
      "update": true
     },
     "output_type": "display_data"
    },
    {
     "name": "stderr",
     "output_type": "stream",
     "text": [
      "GET: https://nwis.waterservices.usgs.gov/nwis/iv/?site=03075070&format=waterml,1.1&ParameterCd=00060&startDT=2014-01-01&endDT=2025-05-08\n",
      "\n"
     ]
    },
    {
     "data": {
      "text/html": [
       "'679/1056 - Downloading data for site 03075071'"
      ],
      "text/latex": [
       "'679/1056 - Downloading data for site 03075071'"
      ],
      "text/markdown": [
       "'679/1056 - Downloading data for site 03075071'"
      ],
      "text/plain": [
       "[1] \"679/1056 - Downloading data for site 03075071\""
      ]
     },
     "metadata": {
      "display_id": "status",
      "update": true
     },
     "output_type": "display_data"
    },
    {
     "name": "stderr",
     "output_type": "stream",
     "text": [
      "GET: https://nwis.waterservices.usgs.gov/nwis/iv/?site=03075071&format=waterml,1.1&ParameterCd=00060&startDT=2014-01-01&endDT=2025-05-08\n",
      "\n",
      "Warning message in doTryCatch(return(expr), name, parentenv, handler):\n",
      "\"No data available for site 03075071\"\n"
     ]
    },
    {
     "data": {
      "text/html": [
       "'680/1056 - Downloading data for site 03085100'"
      ],
      "text/latex": [
       "'680/1056 - Downloading data for site 03085100'"
      ],
      "text/markdown": [
       "'680/1056 - Downloading data for site 03085100'"
      ],
      "text/plain": [
       "[1] \"680/1056 - Downloading data for site 03085100\""
      ]
     },
     "metadata": {
      "display_id": "status",
      "update": true
     },
     "output_type": "display_data"
    },
    {
     "name": "stderr",
     "output_type": "stream",
     "text": [
      "GET: https://nwis.waterservices.usgs.gov/nwis/iv/?site=03085100&format=waterml,1.1&ParameterCd=00060&startDT=2014-01-01&endDT=2025-05-08\n",
      "\n"
     ]
    },
    {
     "data": {
      "text/html": [
       "'681/1056 - Downloading data for site 03085000'"
      ],
      "text/latex": [
       "'681/1056 - Downloading data for site 03085000'"
      ],
      "text/markdown": [
       "'681/1056 - Downloading data for site 03085000'"
      ],
      "text/plain": [
       "[1] \"681/1056 - Downloading data for site 03085000\""
      ]
     },
     "metadata": {
      "display_id": "status",
      "update": true
     },
     "output_type": "display_data"
    },
    {
     "name": "stderr",
     "output_type": "stream",
     "text": [
      "GET: https://nwis.waterservices.usgs.gov/nwis/iv/?site=03085000&format=waterml,1.1&ParameterCd=00060&startDT=2014-01-01&endDT=2025-05-08\n",
      "\n",
      "Warning message in doTryCatch(return(expr), name, parentenv, handler):\n",
      "\"No data available for site 03085000\"\n"
     ]
    },
    {
     "data": {
      "text/html": [
       "'682/1056 - Downloading data for site 03085002'"
      ],
      "text/latex": [
       "'682/1056 - Downloading data for site 03085002'"
      ],
      "text/markdown": [
       "'682/1056 - Downloading data for site 03085002'"
      ],
      "text/plain": [
       "[1] \"682/1056 - Downloading data for site 03085002\""
      ]
     },
     "metadata": {
      "display_id": "status",
      "update": true
     },
     "output_type": "display_data"
    },
    {
     "name": "stderr",
     "output_type": "stream",
     "text": [
      "GET: https://nwis.waterservices.usgs.gov/nwis/iv/?site=03085002&format=waterml,1.1&ParameterCd=00060&startDT=2014-01-01&endDT=2025-05-08\n",
      "\n",
      "Warning message in doTryCatch(return(expr), name, parentenv, handler):\n",
      "\"No data available for site 03085002\"\n"
     ]
    },
    {
     "data": {
      "text/html": [
       "'683/1056 - Downloading data for site 03084698'"
      ],
      "text/latex": [
       "'683/1056 - Downloading data for site 03084698'"
      ],
      "text/markdown": [
       "'683/1056 - Downloading data for site 03084698'"
      ],
      "text/plain": [
       "[1] \"683/1056 - Downloading data for site 03084698\""
      ]
     },
     "metadata": {
      "display_id": "status",
      "update": true
     },
     "output_type": "display_data"
    },
    {
     "name": "stderr",
     "output_type": "stream",
     "text": [
      "GET: https://nwis.waterservices.usgs.gov/nwis/iv/?site=03084698&format=waterml,1.1&ParameterCd=00060&startDT=2014-01-01&endDT=2025-05-08\n",
      "\n",
      "Warning message in value[[3L]](cond):\n",
      "\"Error downloading data for site 03084698 : \"\n"
     ]
    },
    {
     "data": {
      "text/html": [
       "'684/1056 - Downloading data for site 03085500'"
      ],
      "text/latex": [
       "'684/1056 - Downloading data for site 03085500'"
      ],
      "text/markdown": [
       "'684/1056 - Downloading data for site 03085500'"
      ],
      "text/plain": [
       "[1] \"684/1056 - Downloading data for site 03085500\""
      ]
     },
     "metadata": {
      "display_id": "status",
      "update": true
     },
     "output_type": "display_data"
    },
    {
     "name": "stderr",
     "output_type": "stream",
     "text": [
      "GET: https://nwis.waterservices.usgs.gov/nwis/iv/?site=03085500&format=waterml,1.1&ParameterCd=00060&startDT=2014-01-01&endDT=2025-05-08\n",
      "\n"
     ]
    },
    {
     "data": {
      "text/html": [
       "'685/1056 - Downloading data for site 03112500'"
      ],
      "text/latex": [
       "'685/1056 - Downloading data for site 03112500'"
      ],
      "text/markdown": [
       "'685/1056 - Downloading data for site 03112500'"
      ],
      "text/plain": [
       "[1] \"685/1056 - Downloading data for site 03112500\""
      ]
     },
     "metadata": {
      "display_id": "status",
      "update": true
     },
     "output_type": "display_data"
    },
    {
     "name": "stderr",
     "output_type": "stream",
     "text": [
      "GET: https://nwis.waterservices.usgs.gov/nwis/iv/?site=03112500&format=waterml,1.1&ParameterCd=00060&startDT=2014-01-01&endDT=2025-05-08\n",
      "\n",
      "Warning message in doTryCatch(return(expr), name, parentenv, handler):\n",
      "\"No data available for site 03112500\"\n"
     ]
    },
    {
     "data": {
      "text/html": [
       "'686/1056 - Downloading data for site 03111548'"
      ],
      "text/latex": [
       "'686/1056 - Downloading data for site 03111548'"
      ],
      "text/markdown": [
       "'686/1056 - Downloading data for site 03111548'"
      ],
      "text/plain": [
       "[1] \"686/1056 - Downloading data for site 03111548\""
      ]
     },
     "metadata": {
      "display_id": "status",
      "update": true
     },
     "output_type": "display_data"
    },
    {
     "name": "stderr",
     "output_type": "stream",
     "text": [
      "GET: https://nwis.waterservices.usgs.gov/nwis/iv/?site=03111548&format=waterml,1.1&ParameterCd=00060&startDT=2014-01-01&endDT=2025-05-08\n",
      "\n"
     ]
    },
    {
     "data": {
      "text/html": [
       "'687/1056 - Downloading data for site 03111520'"
      ],
      "text/latex": [
       "'687/1056 - Downloading data for site 03111520'"
      ],
      "text/markdown": [
       "'687/1056 - Downloading data for site 03111520'"
      ],
      "text/plain": [
       "[1] \"687/1056 - Downloading data for site 03111520\""
      ]
     },
     "metadata": {
      "display_id": "status",
      "update": true
     },
     "output_type": "display_data"
    },
    {
     "name": "stderr",
     "output_type": "stream",
     "text": [
      "GET: https://nwis.waterservices.usgs.gov/nwis/iv/?site=03111520&format=waterml,1.1&ParameterCd=00060&startDT=2014-01-01&endDT=2025-05-08\n",
      "\n",
      "Warning message in doTryCatch(return(expr), name, parentenv, handler):\n",
      "\"No data available for site 03111520\"\n"
     ]
    },
    {
     "data": {
      "text/html": [
       "'688/1056 - Downloading data for site 03111515'"
      ],
      "text/latex": [
       "'688/1056 - Downloading data for site 03111515'"
      ],
      "text/markdown": [
       "'688/1056 - Downloading data for site 03111515'"
      ],
      "text/plain": [
       "[1] \"688/1056 - Downloading data for site 03111515\""
      ]
     },
     "metadata": {
      "display_id": "status",
      "update": true
     },
     "output_type": "display_data"
    },
    {
     "name": "stderr",
     "output_type": "stream",
     "text": [
      "GET: https://nwis.waterservices.usgs.gov/nwis/iv/?site=03111515&format=waterml,1.1&ParameterCd=00060&startDT=2014-01-01&endDT=2025-05-08\n",
      "\n",
      "Warning message in doTryCatch(return(expr), name, parentenv, handler):\n",
      "\"No data available for site 03111515\"\n"
     ]
    },
    {
     "data": {
      "text/html": [
       "'689/1056 - Downloading data for site 03111500'"
      ],
      "text/latex": [
       "'689/1056 - Downloading data for site 03111500'"
      ],
      "text/markdown": [
       "'689/1056 - Downloading data for site 03111500'"
      ],
      "text/plain": [
       "[1] \"689/1056 - Downloading data for site 03111500\""
      ]
     },
     "metadata": {
      "display_id": "status",
      "update": true
     },
     "output_type": "display_data"
    },
    {
     "name": "stderr",
     "output_type": "stream",
     "text": [
      "GET: https://nwis.waterservices.usgs.gov/nwis/iv/?site=03111500&format=waterml,1.1&ParameterCd=00060&startDT=2014-01-01&endDT=2025-05-08\n",
      "\n"
     ]
    },
    {
     "data": {
      "text/html": [
       "'690/1056 - Downloading data for site 03110830'"
      ],
      "text/latex": [
       "'690/1056 - Downloading data for site 03110830'"
      ],
      "text/markdown": [
       "'690/1056 - Downloading data for site 03110830'"
      ],
      "text/plain": [
       "[1] \"690/1056 - Downloading data for site 03110830\""
      ]
     },
     "metadata": {
      "display_id": "status",
      "update": true
     },
     "output_type": "display_data"
    },
    {
     "name": "stderr",
     "output_type": "stream",
     "text": [
      "GET: https://nwis.waterservices.usgs.gov/nwis/iv/?site=03110830&format=waterml,1.1&ParameterCd=00060&startDT=2014-01-01&endDT=2025-05-08\n",
      "\n"
     ]
    },
    {
     "data": {
      "text/html": [
       "'691/1056 - Downloading data for site 402823080552300'"
      ],
      "text/latex": [
       "'691/1056 - Downloading data for site 402823080552300'"
      ],
      "text/markdown": [
       "'691/1056 - Downloading data for site 402823080552300'"
      ],
      "text/plain": [
       "[1] \"691/1056 - Downloading data for site 402823080552300\""
      ]
     },
     "metadata": {
      "display_id": "status",
      "update": true
     },
     "output_type": "display_data"
    },
    {
     "name": "stderr",
     "output_type": "stream",
     "text": [
      "GET: https://nwis.waterservices.usgs.gov/nwis/iv/?site=402823080552300&format=waterml,1.1&ParameterCd=00060&startDT=2014-01-01&endDT=2025-05-08\n",
      "\n",
      "Warning message in doTryCatch(return(expr), name, parentenv, handler):\n",
      "\"No data available for site 402823080552300\"\n"
     ]
    },
    {
     "data": {
      "text/html": [
       "'692/1056 - Downloading data for site 03110690'"
      ],
      "text/latex": [
       "'692/1056 - Downloading data for site 03110690'"
      ],
      "text/markdown": [
       "'692/1056 - Downloading data for site 03110690'"
      ],
      "text/plain": [
       "[1] \"692/1056 - Downloading data for site 03110690\""
      ]
     },
     "metadata": {
      "display_id": "status",
      "update": true
     },
     "output_type": "display_data"
    },
    {
     "name": "stderr",
     "output_type": "stream",
     "text": [
      "GET: https://nwis.waterservices.usgs.gov/nwis/iv/?site=03110690&format=waterml,1.1&ParameterCd=00060&startDT=2014-01-01&endDT=2025-05-08\n",
      "\n",
      "Warning message in doTryCatch(return(expr), name, parentenv, handler):\n",
      "\"No data available for site 03110690\"\n"
     ]
    },
    {
     "data": {
      "text/html": [
       "'693/1056 - Downloading data for site 03110685'"
      ],
      "text/latex": [
       "'693/1056 - Downloading data for site 03110685'"
      ],
      "text/markdown": [
       "'693/1056 - Downloading data for site 03110685'"
      ],
      "text/plain": [
       "[1] \"693/1056 - Downloading data for site 03110685\""
      ]
     },
     "metadata": {
      "display_id": "status",
      "update": true
     },
     "output_type": "display_data"
    },
    {
     "name": "stderr",
     "output_type": "stream",
     "text": [
      "GET: https://nwis.waterservices.usgs.gov/nwis/iv/?site=03110685&format=waterml,1.1&ParameterCd=00060&startDT=2014-01-01&endDT=2025-05-08\n",
      "\n",
      "Warning message in doTryCatch(return(expr), name, parentenv, handler):\n",
      "\"No data available for site 03110685\"\n"
     ]
    },
    {
     "data": {
      "text/html": [
       "'694/1056 - Downloading data for site 03110000'"
      ],
      "text/latex": [
       "'694/1056 - Downloading data for site 03110000'"
      ],
      "text/markdown": [
       "'694/1056 - Downloading data for site 03110000'"
      ],
      "text/plain": [
       "[1] \"694/1056 - Downloading data for site 03110000\""
      ]
     },
     "metadata": {
      "display_id": "status",
      "update": true
     },
     "output_type": "display_data"
    },
    {
     "name": "stderr",
     "output_type": "stream",
     "text": [
      "GET: https://nwis.waterservices.usgs.gov/nwis/iv/?site=03110000&format=waterml,1.1&ParameterCd=00060&startDT=2014-01-01&endDT=2025-05-08\n",
      "\n"
     ]
    },
    {
     "data": {
      "text/html": [
       "'695/1056 - Downloading data for site 03129000'"
      ],
      "text/latex": [
       "'695/1056 - Downloading data for site 03129000'"
      ],
      "text/markdown": [
       "'695/1056 - Downloading data for site 03129000'"
      ],
      "text/plain": [
       "[1] \"695/1056 - Downloading data for site 03129000\""
      ]
     },
     "metadata": {
      "display_id": "status",
      "update": true
     },
     "output_type": "display_data"
    },
    {
     "name": "stderr",
     "output_type": "stream",
     "text": [
      "GET: https://nwis.waterservices.usgs.gov/nwis/iv/?site=03129000&format=waterml,1.1&ParameterCd=00060&startDT=2014-01-01&endDT=2025-05-08\n",
      "\n"
     ]
    },
    {
     "data": {
      "text/html": [
       "'696/1056 - Downloading data for site 03126910'"
      ],
      "text/latex": [
       "'696/1056 - Downloading data for site 03126910'"
      ],
      "text/markdown": [
       "'696/1056 - Downloading data for site 03126910'"
      ],
      "text/plain": [
       "[1] \"696/1056 - Downloading data for site 03126910\""
      ]
     },
     "metadata": {
      "display_id": "status",
      "update": true
     },
     "output_type": "display_data"
    },
    {
     "name": "stderr",
     "output_type": "stream",
     "text": [
      "GET: https://nwis.waterservices.usgs.gov/nwis/iv/?site=03126910&format=waterml,1.1&ParameterCd=00060&startDT=2014-01-01&endDT=2025-05-08\n",
      "\n"
     ]
    },
    {
     "data": {
      "text/html": [
       "'697/1056 - Downloading data for site 03126500'"
      ],
      "text/latex": [
       "'697/1056 - Downloading data for site 03126500'"
      ],
      "text/markdown": [
       "'697/1056 - Downloading data for site 03126500'"
      ],
      "text/plain": [
       "[1] \"697/1056 - Downloading data for site 03126500\""
      ]
     },
     "metadata": {
      "display_id": "status",
      "update": true
     },
     "output_type": "display_data"
    },
    {
     "name": "stderr",
     "output_type": "stream",
     "text": [
      "GET: https://nwis.waterservices.usgs.gov/nwis/iv/?site=03126500&format=waterml,1.1&ParameterCd=00060&startDT=2014-01-01&endDT=2025-05-08\n",
      "\n",
      "Warning message in doTryCatch(return(expr), name, parentenv, handler):\n",
      "\"No data available for site 03126500\"\n"
     ]
    },
    {
     "data": {
      "text/html": [
       "'698/1056 - Downloading data for site 03127000'"
      ],
      "text/latex": [
       "'698/1056 - Downloading data for site 03127000'"
      ],
      "text/markdown": [
       "'698/1056 - Downloading data for site 03127000'"
      ],
      "text/plain": [
       "[1] \"698/1056 - Downloading data for site 03127000\""
      ]
     },
     "metadata": {
      "display_id": "status",
      "update": true
     },
     "output_type": "display_data"
    },
    {
     "name": "stderr",
     "output_type": "stream",
     "text": [
      "GET: https://nwis.waterservices.usgs.gov/nwis/iv/?site=03127000&format=waterml,1.1&ParameterCd=00060&startDT=2014-01-01&endDT=2025-05-08\n",
      "\n"
     ]
    },
    {
     "data": {
      "text/html": [
       "'699/1056 - Downloading data for site 03127986'"
      ],
      "text/latex": [
       "'699/1056 - Downloading data for site 03127986'"
      ],
      "text/markdown": [
       "'699/1056 - Downloading data for site 03127986'"
      ],
      "text/plain": [
       "[1] \"699/1056 - Downloading data for site 03127986\""
      ]
     },
     "metadata": {
      "display_id": "status",
      "update": true
     },
     "output_type": "display_data"
    },
    {
     "name": "stderr",
     "output_type": "stream",
     "text": [
      "GET: https://nwis.waterservices.usgs.gov/nwis/iv/?site=03127986&format=waterml,1.1&ParameterCd=00060&startDT=2014-01-01&endDT=2025-05-08\n",
      "\n",
      "Warning message in doTryCatch(return(expr), name, parentenv, handler):\n",
      "\"No data available for site 03127986\"\n"
     ]
    },
    {
     "data": {
      "text/html": [
       "'700/1056 - Downloading data for site 03127980'"
      ],
      "text/latex": [
       "'700/1056 - Downloading data for site 03127980'"
      ],
      "text/markdown": [
       "'700/1056 - Downloading data for site 03127980'"
      ],
      "text/plain": [
       "[1] \"700/1056 - Downloading data for site 03127980\""
      ]
     },
     "metadata": {
      "display_id": "status",
      "update": true
     },
     "output_type": "display_data"
    },
    {
     "name": "stderr",
     "output_type": "stream",
     "text": [
      "GET: https://nwis.waterservices.usgs.gov/nwis/iv/?site=03127980&format=waterml,1.1&ParameterCd=00060&startDT=2014-01-01&endDT=2025-05-08\n",
      "\n",
      "Warning message in doTryCatch(return(expr), name, parentenv, handler):\n",
      "\"No data available for site 03127980\"\n"
     ]
    },
    {
     "data": {
      "text/html": [
       "'701/1056 - Downloading data for site 03127989'"
      ],
      "text/latex": [
       "'701/1056 - Downloading data for site 03127989'"
      ],
      "text/markdown": [
       "'701/1056 - Downloading data for site 03127989'"
      ],
      "text/plain": [
       "[1] \"701/1056 - Downloading data for site 03127989\""
      ]
     },
     "metadata": {
      "display_id": "status",
      "update": true
     },
     "output_type": "display_data"
    },
    {
     "name": "stderr",
     "output_type": "stream",
     "text": [
      "GET: https://nwis.waterservices.usgs.gov/nwis/iv/?site=03127989&format=waterml,1.1&ParameterCd=00060&startDT=2014-01-01&endDT=2025-05-08\n",
      "\n",
      "Warning message in doTryCatch(return(expr), name, parentenv, handler):\n",
      "\"No data available for site 03127989\"\n"
     ]
    },
    {
     "data": {
      "text/html": [
       "'702/1056 - Downloading data for site 03128000'"
      ],
      "text/latex": [
       "'702/1056 - Downloading data for site 03128000'"
      ],
      "text/markdown": [
       "'702/1056 - Downloading data for site 03128000'"
      ],
      "text/plain": [
       "[1] \"702/1056 - Downloading data for site 03128000\""
      ]
     },
     "metadata": {
      "display_id": "status",
      "update": true
     },
     "output_type": "display_data"
    },
    {
     "name": "stderr",
     "output_type": "stream",
     "text": [
      "GET: https://nwis.waterservices.usgs.gov/nwis/iv/?site=03128000&format=waterml,1.1&ParameterCd=00060&startDT=2014-01-01&endDT=2025-05-08\n",
      "\n",
      "Warning message in doTryCatch(return(expr), name, parentenv, handler):\n",
      "\"No data available for site 03128000\"\n"
     ]
    },
    {
     "data": {
      "text/html": [
       "'703/1056 - Downloading data for site 03128500'"
      ],
      "text/latex": [
       "'703/1056 - Downloading data for site 03128500'"
      ],
      "text/markdown": [
       "'703/1056 - Downloading data for site 03128500'"
      ],
      "text/plain": [
       "[1] \"703/1056 - Downloading data for site 03128500\""
      ]
     },
     "metadata": {
      "display_id": "status",
      "update": true
     },
     "output_type": "display_data"
    },
    {
     "name": "stderr",
     "output_type": "stream",
     "text": [
      "GET: https://nwis.waterservices.usgs.gov/nwis/iv/?site=03128500&format=waterml,1.1&ParameterCd=00060&startDT=2014-01-01&endDT=2025-05-08\n",
      "\n"
     ]
    },
    {
     "data": {
      "text/html": [
       "'704/1056 - Downloading data for site 03127500'"
      ],
      "text/latex": [
       "'704/1056 - Downloading data for site 03127500'"
      ],
      "text/markdown": [
       "'704/1056 - Downloading data for site 03127500'"
      ],
      "text/plain": [
       "[1] \"704/1056 - Downloading data for site 03127500\""
      ]
     },
     "metadata": {
      "display_id": "status",
      "update": true
     },
     "output_type": "display_data"
    },
    {
     "name": "stderr",
     "output_type": "stream",
     "text": [
      "GET: https://nwis.waterservices.usgs.gov/nwis/iv/?site=03127500&format=waterml,1.1&ParameterCd=00060&startDT=2014-01-01&endDT=2025-05-08\n",
      "\n",
      "Warning message in doTryCatch(return(expr), name, parentenv, handler):\n",
      "\"No data available for site 03127500\"\n"
     ]
    },
    {
     "data": {
      "text/html": [
       "'705/1056 - Downloading data for site 03119341'"
      ],
      "text/latex": [
       "'705/1056 - Downloading data for site 03119341'"
      ],
      "text/markdown": [
       "'705/1056 - Downloading data for site 03119341'"
      ],
      "text/plain": [
       "[1] \"705/1056 - Downloading data for site 03119341\""
      ]
     },
     "metadata": {
      "display_id": "status",
      "update": true
     },
     "output_type": "display_data"
    },
    {
     "name": "stderr",
     "output_type": "stream",
     "text": [
      "GET: https://nwis.waterservices.usgs.gov/nwis/iv/?site=03119341&format=waterml,1.1&ParameterCd=00060&startDT=2014-01-01&endDT=2025-05-08\n",
      "\n",
      "Warning message in doTryCatch(return(expr), name, parentenv, handler):\n",
      "\"No data available for site 03119341\"\n"
     ]
    },
    {
     "data": {
      "text/html": [
       "'706/1056 - Downloading data for site 03120500'"
      ],
      "text/latex": [
       "'706/1056 - Downloading data for site 03120500'"
      ],
      "text/markdown": [
       "'706/1056 - Downloading data for site 03120500'"
      ],
      "text/plain": [
       "[1] \"706/1056 - Downloading data for site 03120500\""
      ]
     },
     "metadata": {
      "display_id": "status",
      "update": true
     },
     "output_type": "display_data"
    },
    {
     "name": "stderr",
     "output_type": "stream",
     "text": [
      "GET: https://nwis.waterservices.usgs.gov/nwis/iv/?site=03120500&format=waterml,1.1&ParameterCd=00060&startDT=2014-01-01&endDT=2025-05-08\n",
      "\n"
     ]
    },
    {
     "data": {
      "text/html": [
       "'707/1056 - Downloading data for site 03120000'"
      ],
      "text/latex": [
       "'707/1056 - Downloading data for site 03120000'"
      ],
      "text/markdown": [
       "'707/1056 - Downloading data for site 03120000'"
      ],
      "text/plain": [
       "[1] \"707/1056 - Downloading data for site 03120000\""
      ]
     },
     "metadata": {
      "display_id": "status",
      "update": true
     },
     "output_type": "display_data"
    },
    {
     "name": "stderr",
     "output_type": "stream",
     "text": [
      "GET: https://nwis.waterservices.usgs.gov/nwis/iv/?site=03120000&format=waterml,1.1&ParameterCd=00060&startDT=2014-01-01&endDT=2025-05-08\n",
      "\n",
      "Warning message in doTryCatch(return(expr), name, parentenv, handler):\n",
      "\"No data available for site 03120000\"\n"
     ]
    },
    {
     "data": {
      "text/html": [
       "'708/1056 - Downloading data for site 03124800'"
      ],
      "text/latex": [
       "'708/1056 - Downloading data for site 03124800'"
      ],
      "text/markdown": [
       "'708/1056 - Downloading data for site 03124800'"
      ],
      "text/plain": [
       "[1] \"708/1056 - Downloading data for site 03124800\""
      ]
     },
     "metadata": {
      "display_id": "status",
      "update": true
     },
     "output_type": "display_data"
    },
    {
     "name": "stderr",
     "output_type": "stream",
     "text": [
      "GET: https://nwis.waterservices.usgs.gov/nwis/iv/?site=03124800&format=waterml,1.1&ParameterCd=00060&startDT=2014-01-01&endDT=2025-05-08\n",
      "\n"
     ]
    },
    {
     "data": {
      "text/html": [
       "'709/1056 - Downloading data for site 03119971'"
      ],
      "text/latex": [
       "'709/1056 - Downloading data for site 03119971'"
      ],
      "text/markdown": [
       "'709/1056 - Downloading data for site 03119971'"
      ],
      "text/plain": [
       "[1] \"709/1056 - Downloading data for site 03119971\""
      ]
     },
     "metadata": {
      "display_id": "status",
      "update": true
     },
     "output_type": "display_data"
    },
    {
     "name": "stderr",
     "output_type": "stream",
     "text": [
      "GET: https://nwis.waterservices.usgs.gov/nwis/iv/?site=03119971&format=waterml,1.1&ParameterCd=00060&startDT=2014-01-01&endDT=2025-05-08\n",
      "\n",
      "Warning message in doTryCatch(return(expr), name, parentenv, handler):\n",
      "\"No data available for site 03119971\"\n"
     ]
    },
    {
     "data": {
      "text/html": [
       "'710/1056 - Downloading data for site 03121500'"
      ],
      "text/latex": [
       "'710/1056 - Downloading data for site 03121500'"
      ],
      "text/markdown": [
       "'710/1056 - Downloading data for site 03121500'"
      ],
      "text/plain": [
       "[1] \"710/1056 - Downloading data for site 03121500\""
      ]
     },
     "metadata": {
      "display_id": "status",
      "update": true
     },
     "output_type": "display_data"
    },
    {
     "name": "stderr",
     "output_type": "stream",
     "text": [
      "GET: https://nwis.waterservices.usgs.gov/nwis/iv/?site=03121500&format=waterml,1.1&ParameterCd=00060&startDT=2014-01-01&endDT=2025-05-08\n",
      "\n"
     ]
    },
    {
     "data": {
      "text/html": [
       "'711/1056 - Downloading data for site 03121000'"
      ],
      "text/latex": [
       "'711/1056 - Downloading data for site 03121000'"
      ],
      "text/markdown": [
       "'711/1056 - Downloading data for site 03121000'"
      ],
      "text/plain": [
       "[1] \"711/1056 - Downloading data for site 03121000\""
      ]
     },
     "metadata": {
      "display_id": "status",
      "update": true
     },
     "output_type": "display_data"
    },
    {
     "name": "stderr",
     "output_type": "stream",
     "text": [
      "GET: https://nwis.waterservices.usgs.gov/nwis/iv/?site=03121000&format=waterml,1.1&ParameterCd=00060&startDT=2014-01-01&endDT=2025-05-08\n",
      "\n",
      "Warning message in doTryCatch(return(expr), name, parentenv, handler):\n",
      "\"No data available for site 03121000\"\n"
     ]
    },
    {
     "data": {
      "text/html": [
       "'712/1056 - Downloading data for site 03119979'"
      ],
      "text/latex": [
       "'712/1056 - Downloading data for site 03119979'"
      ],
      "text/markdown": [
       "'712/1056 - Downloading data for site 03119979'"
      ],
      "text/plain": [
       "[1] \"712/1056 - Downloading data for site 03119979\""
      ]
     },
     "metadata": {
      "display_id": "status",
      "update": true
     },
     "output_type": "display_data"
    },
    {
     "name": "stderr",
     "output_type": "stream",
     "text": [
      "GET: https://nwis.waterservices.usgs.gov/nwis/iv/?site=03119979&format=waterml,1.1&ParameterCd=00060&startDT=2014-01-01&endDT=2025-05-08\n",
      "\n",
      "Warning message in doTryCatch(return(expr), name, parentenv, handler):\n",
      "\"No data available for site 03119979\"\n"
     ]
    },
    {
     "data": {
      "text/html": [
       "'713/1056 - Downloading data for site 03122500'"
      ],
      "text/latex": [
       "'713/1056 - Downloading data for site 03122500'"
      ],
      "text/markdown": [
       "'713/1056 - Downloading data for site 03122500'"
      ],
      "text/plain": [
       "[1] \"713/1056 - Downloading data for site 03122500\""
      ]
     },
     "metadata": {
      "display_id": "status",
      "update": true
     },
     "output_type": "display_data"
    },
    {
     "name": "stderr",
     "output_type": "stream",
     "text": [
      "GET: https://nwis.waterservices.usgs.gov/nwis/iv/?site=03122500&format=waterml,1.1&ParameterCd=00060&startDT=2014-01-01&endDT=2025-05-08\n",
      "\n",
      "Warning message in doTryCatch(return(expr), name, parentenv, handler):\n",
      "\"No data available for site 03122500\"\n"
     ]
    },
    {
     "data": {
      "text/html": [
       "'714/1056 - Downloading data for site 03120820'"
      ],
      "text/latex": [
       "'714/1056 - Downloading data for site 03120820'"
      ],
      "text/markdown": [
       "'714/1056 - Downloading data for site 03120820'"
      ],
      "text/plain": [
       "[1] \"714/1056 - Downloading data for site 03120820\""
      ]
     },
     "metadata": {
      "display_id": "status",
      "update": true
     },
     "output_type": "display_data"
    },
    {
     "name": "stderr",
     "output_type": "stream",
     "text": [
      "GET: https://nwis.waterservices.usgs.gov/nwis/iv/?site=03120820&format=waterml,1.1&ParameterCd=00060&startDT=2014-01-01&endDT=2025-05-08\n",
      "\n",
      "Warning message in doTryCatch(return(expr), name, parentenv, handler):\n",
      "\"No data available for site 03120820\"\n"
     ]
    },
    {
     "data": {
      "text/html": [
       "'715/1056 - Downloading data for site 03049500'"
      ],
      "text/latex": [
       "'715/1056 - Downloading data for site 03049500'"
      ],
      "text/markdown": [
       "'715/1056 - Downloading data for site 03049500'"
      ],
      "text/plain": [
       "[1] \"715/1056 - Downloading data for site 03049500\""
      ]
     },
     "metadata": {
      "display_id": "status",
      "update": true
     },
     "output_type": "display_data"
    },
    {
     "name": "stderr",
     "output_type": "stream",
     "text": [
      "GET: https://nwis.waterservices.usgs.gov/nwis/iv/?site=03049500&format=waterml,1.1&ParameterCd=00060&startDT=2014-01-01&endDT=2025-05-08\n",
      "\n"
     ]
    },
    {
     "data": {
      "text/html": [
       "'716/1056 - Downloading data for site 03108000'"
      ],
      "text/latex": [
       "'716/1056 - Downloading data for site 03108000'"
      ],
      "text/markdown": [
       "'716/1056 - Downloading data for site 03108000'"
      ],
      "text/plain": [
       "[1] \"716/1056 - Downloading data for site 03108000\""
      ]
     },
     "metadata": {
      "display_id": "status",
      "update": true
     },
     "output_type": "display_data"
    },
    {
     "name": "stderr",
     "output_type": "stream",
     "text": [
      "GET: https://nwis.waterservices.usgs.gov/nwis/iv/?site=03108000&format=waterml,1.1&ParameterCd=00060&startDT=2014-01-01&endDT=2025-05-08\n",
      "\n"
     ]
    },
    {
     "data": {
      "text/html": [
       "'717/1056 - Downloading data for site 03108500'"
      ],
      "text/latex": [
       "'717/1056 - Downloading data for site 03108500'"
      ],
      "text/markdown": [
       "'717/1056 - Downloading data for site 03108500'"
      ],
      "text/plain": [
       "[1] \"717/1056 - Downloading data for site 03108500\""
      ]
     },
     "metadata": {
      "display_id": "status",
      "update": true
     },
     "output_type": "display_data"
    },
    {
     "name": "stderr",
     "output_type": "stream",
     "text": [
      "GET: https://nwis.waterservices.usgs.gov/nwis/iv/?site=03108500&format=waterml,1.1&ParameterCd=00060&startDT=2014-01-01&endDT=2025-05-08\n",
      "\n",
      "Warning message in doTryCatch(return(expr), name, parentenv, handler):\n",
      "\"No data available for site 03108500\"\n"
     ]
    },
    {
     "data": {
      "text/html": [
       "'718/1056 - Downloading data for site 03108490'"
      ],
      "text/latex": [
       "'718/1056 - Downloading data for site 03108490'"
      ],
      "text/markdown": [
       "'718/1056 - Downloading data for site 03108490'"
      ],
      "text/plain": [
       "[1] \"718/1056 - Downloading data for site 03108490\""
      ]
     },
     "metadata": {
      "display_id": "status",
      "update": true
     },
     "output_type": "display_data"
    },
    {
     "name": "stderr",
     "output_type": "stream",
     "text": [
      "GET: https://nwis.waterservices.usgs.gov/nwis/iv/?site=03108490&format=waterml,1.1&ParameterCd=00060&startDT=2014-01-01&endDT=2025-05-08\n",
      "\n",
      "Warning message in doTryCatch(return(expr), name, parentenv, handler):\n",
      "\"No data available for site 03108490\"\n"
     ]
    },
    {
     "data": {
      "text/html": [
       "'719/1056 - Downloading data for site 03039040'"
      ],
      "text/latex": [
       "'719/1056 - Downloading data for site 03039040'"
      ],
      "text/markdown": [
       "'719/1056 - Downloading data for site 03039040'"
      ],
      "text/plain": [
       "[1] \"719/1056 - Downloading data for site 03039040\""
      ]
     },
     "metadata": {
      "display_id": "status",
      "update": true
     },
     "output_type": "display_data"
    },
    {
     "name": "stderr",
     "output_type": "stream",
     "text": [
      "GET: https://nwis.waterservices.usgs.gov/nwis/iv/?site=03039040&format=waterml,1.1&ParameterCd=00060&startDT=2014-01-01&endDT=2025-05-08\n",
      "\n",
      "Warning message in doTryCatch(return(expr), name, parentenv, handler):\n",
      "\"No data available for site 03039040\"\n"
     ]
    },
    {
     "data": {
      "text/html": [
       "'720/1056 - Downloading data for site 03039041'"
      ],
      "text/latex": [
       "'720/1056 - Downloading data for site 03039041'"
      ],
      "text/markdown": [
       "'720/1056 - Downloading data for site 03039041'"
      ],
      "text/plain": [
       "[1] \"720/1056 - Downloading data for site 03039041\""
      ]
     },
     "metadata": {
      "display_id": "status",
      "update": true
     },
     "output_type": "display_data"
    },
    {
     "name": "stderr",
     "output_type": "stream",
     "text": [
      "GET: https://nwis.waterservices.usgs.gov/nwis/iv/?site=03039041&format=waterml,1.1&ParameterCd=00060&startDT=2014-01-01&endDT=2025-05-08\n",
      "\n",
      "Warning message in doTryCatch(return(expr), name, parentenv, handler):\n",
      "\"No data available for site 03039041\"\n"
     ]
    },
    {
     "data": {
      "text/html": [
       "'721/1056 - Downloading data for site 03038500'"
      ],
      "text/latex": [
       "'721/1056 - Downloading data for site 03038500'"
      ],
      "text/markdown": [
       "'721/1056 - Downloading data for site 03038500'"
      ],
      "text/plain": [
       "[1] \"721/1056 - Downloading data for site 03038500\""
      ]
     },
     "metadata": {
      "display_id": "status",
      "update": true
     },
     "output_type": "display_data"
    },
    {
     "name": "stderr",
     "output_type": "stream",
     "text": [
      "GET: https://nwis.waterservices.usgs.gov/nwis/iv/?site=03038500&format=waterml,1.1&ParameterCd=00060&startDT=2014-01-01&endDT=2025-05-08\n",
      "\n",
      "Warning message in doTryCatch(return(expr), name, parentenv, handler):\n",
      "\"No data available for site 03038500\"\n"
     ]
    },
    {
     "data": {
      "text/html": [
       "'722/1056 - Downloading data for site 03039036'"
      ],
      "text/latex": [
       "'722/1056 - Downloading data for site 03039036'"
      ],
      "text/markdown": [
       "'722/1056 - Downloading data for site 03039036'"
      ],
      "text/plain": [
       "[1] \"722/1056 - Downloading data for site 03039036\""
      ]
     },
     "metadata": {
      "display_id": "status",
      "update": true
     },
     "output_type": "display_data"
    },
    {
     "name": "stderr",
     "output_type": "stream",
     "text": [
      "GET: https://nwis.waterservices.usgs.gov/nwis/iv/?site=03039036&format=waterml,1.1&ParameterCd=00060&startDT=2014-01-01&endDT=2025-05-08\n",
      "\n",
      "Warning message in doTryCatch(return(expr), name, parentenv, handler):\n",
      "\"No data available for site 03039036\"\n"
     ]
    },
    {
     "data": {
      "text/html": [
       "'723/1056 - Downloading data for site 03039035'"
      ],
      "text/latex": [
       "'723/1056 - Downloading data for site 03039035'"
      ],
      "text/markdown": [
       "'723/1056 - Downloading data for site 03039035'"
      ],
      "text/plain": [
       "[1] \"723/1056 - Downloading data for site 03039035\""
      ]
     },
     "metadata": {
      "display_id": "status",
      "update": true
     },
     "output_type": "display_data"
    },
    {
     "name": "stderr",
     "output_type": "stream",
     "text": [
      "GET: https://nwis.waterservices.usgs.gov/nwis/iv/?site=03039035&format=waterml,1.1&ParameterCd=00060&startDT=2014-01-01&endDT=2025-05-08\n",
      "\n",
      "Warning message in doTryCatch(return(expr), name, parentenv, handler):\n",
      "\"No data available for site 03039035\"\n"
     ]
    },
    {
     "data": {
      "text/html": [
       "'724/1056 - Downloading data for site 03039000'"
      ],
      "text/latex": [
       "'724/1056 - Downloading data for site 03039000'"
      ],
      "text/markdown": [
       "'724/1056 - Downloading data for site 03039000'"
      ],
      "text/plain": [
       "[1] \"724/1056 - Downloading data for site 03039000\""
      ]
     },
     "metadata": {
      "display_id": "status",
      "update": true
     },
     "output_type": "display_data"
    },
    {
     "name": "stderr",
     "output_type": "stream",
     "text": [
      "GET: https://nwis.waterservices.usgs.gov/nwis/iv/?site=03039000&format=waterml,1.1&ParameterCd=00060&startDT=2014-01-01&endDT=2025-05-08\n",
      "\n"
     ]
    },
    {
     "data": {
      "text/html": [
       "'725/1056 - Downloading data for site 03120961'"
      ],
      "text/latex": [
       "'725/1056 - Downloading data for site 03120961'"
      ],
      "text/markdown": [
       "'725/1056 - Downloading data for site 03120961'"
      ],
      "text/plain": [
       "[1] \"725/1056 - Downloading data for site 03120961\""
      ]
     },
     "metadata": {
      "display_id": "status",
      "update": true
     },
     "output_type": "display_data"
    },
    {
     "name": "stderr",
     "output_type": "stream",
     "text": [
      "GET: https://nwis.waterservices.usgs.gov/nwis/iv/?site=03120961&format=waterml,1.1&ParameterCd=00060&startDT=2014-01-01&endDT=2025-05-08\n",
      "\n",
      "Warning message in doTryCatch(return(expr), name, parentenv, handler):\n",
      "\"No data available for site 03120961\"\n"
     ]
    },
    {
     "data": {
      "text/html": [
       "'726/1056 - Downloading data for site 03120869'"
      ],
      "text/latex": [
       "'726/1056 - Downloading data for site 03120869'"
      ],
      "text/markdown": [
       "'726/1056 - Downloading data for site 03120869'"
      ],
      "text/plain": [
       "[1] \"726/1056 - Downloading data for site 03120869\""
      ]
     },
     "metadata": {
      "display_id": "status",
      "update": true
     },
     "output_type": "display_data"
    },
    {
     "name": "stderr",
     "output_type": "stream",
     "text": [
      "GET: https://nwis.waterservices.usgs.gov/nwis/iv/?site=03120869&format=waterml,1.1&ParameterCd=00060&startDT=2014-01-01&endDT=2025-05-08\n",
      "\n",
      "Warning message in doTryCatch(return(expr), name, parentenv, handler):\n",
      "\"No data available for site 03120869\"\n"
     ]
    },
    {
     "data": {
      "text/html": [
       "'727/1056 - Downloading data for site 03124500'"
      ],
      "text/latex": [
       "'727/1056 - Downloading data for site 03124500'"
      ],
      "text/markdown": [
       "'727/1056 - Downloading data for site 03124500'"
      ],
      "text/plain": [
       "[1] \"727/1056 - Downloading data for site 03124500\""
      ]
     },
     "metadata": {
      "display_id": "status",
      "update": true
     },
     "output_type": "display_data"
    },
    {
     "name": "stderr",
     "output_type": "stream",
     "text": [
      "GET: https://nwis.waterservices.usgs.gov/nwis/iv/?site=03124500&format=waterml,1.1&ParameterCd=00060&startDT=2014-01-01&endDT=2025-05-08\n",
      "\n"
     ]
    },
    {
     "data": {
      "text/html": [
       "'728/1056 - Downloading data for site 03124000'"
      ],
      "text/latex": [
       "'728/1056 - Downloading data for site 03124000'"
      ],
      "text/markdown": [
       "'728/1056 - Downloading data for site 03124000'"
      ],
      "text/plain": [
       "[1] \"728/1056 - Downloading data for site 03124000\""
      ]
     },
     "metadata": {
      "display_id": "status",
      "update": true
     },
     "output_type": "display_data"
    },
    {
     "name": "stderr",
     "output_type": "stream",
     "text": [
      "GET: https://nwis.waterservices.usgs.gov/nwis/iv/?site=03124000&format=waterml,1.1&ParameterCd=00060&startDT=2014-01-01&endDT=2025-05-08\n",
      "\n",
      "Warning message in doTryCatch(return(expr), name, parentenv, handler):\n",
      "\"No data available for site 03124000\"\n"
     ]
    },
    {
     "data": {
      "text/html": [
       "'729/1056 - Downloading data for site 03117500'"
      ],
      "text/latex": [
       "'729/1056 - Downloading data for site 03117500'"
      ],
      "text/markdown": [
       "'729/1056 - Downloading data for site 03117500'"
      ],
      "text/plain": [
       "[1] \"729/1056 - Downloading data for site 03117500\""
      ]
     },
     "metadata": {
      "display_id": "status",
      "update": true
     },
     "output_type": "display_data"
    },
    {
     "name": "stderr",
     "output_type": "stream",
     "text": [
      "GET: https://nwis.waterservices.usgs.gov/nwis/iv/?site=03117500&format=waterml,1.1&ParameterCd=00060&startDT=2014-01-01&endDT=2025-05-08\n",
      "\n"
     ]
    },
    {
     "data": {
      "text/html": [
       "'730/1056 - Downloading data for site 03118500'"
      ],
      "text/latex": [
       "'730/1056 - Downloading data for site 03118500'"
      ],
      "text/markdown": [
       "'730/1056 - Downloading data for site 03118500'"
      ],
      "text/plain": [
       "[1] \"730/1056 - Downloading data for site 03118500\""
      ]
     },
     "metadata": {
      "display_id": "status",
      "update": true
     },
     "output_type": "display_data"
    },
    {
     "name": "stderr",
     "output_type": "stream",
     "text": [
      "GET: https://nwis.waterservices.usgs.gov/nwis/iv/?site=03118500&format=waterml,1.1&ParameterCd=00060&startDT=2014-01-01&endDT=2025-05-08\n",
      "\n"
     ]
    },
    {
     "data": {
      "text/html": [
       "'731/1056 - Downloading data for site 03117000'"
      ],
      "text/latex": [
       "'731/1056 - Downloading data for site 03117000'"
      ],
      "text/markdown": [
       "'731/1056 - Downloading data for site 03117000'"
      ],
      "text/plain": [
       "[1] \"731/1056 - Downloading data for site 03117000\""
      ]
     },
     "metadata": {
      "display_id": "status",
      "update": true
     },
     "output_type": "display_data"
    },
    {
     "name": "stderr",
     "output_type": "stream",
     "text": [
      "GET: https://nwis.waterservices.usgs.gov/nwis/iv/?site=03117000&format=waterml,1.1&ParameterCd=00060&startDT=2014-01-01&endDT=2025-05-08\n",
      "\n"
     ]
    },
    {
     "data": {
      "text/html": [
       "'732/1056 - Downloading data for site 03118000'"
      ],
      "text/latex": [
       "'732/1056 - Downloading data for site 03118000'"
      ],
      "text/markdown": [
       "'732/1056 - Downloading data for site 03118000'"
      ],
      "text/plain": [
       "[1] \"732/1056 - Downloading data for site 03118000\""
      ]
     },
     "metadata": {
      "display_id": "status",
      "update": true
     },
     "output_type": "display_data"
    },
    {
     "name": "stderr",
     "output_type": "stream",
     "text": [
      "GET: https://nwis.waterservices.usgs.gov/nwis/iv/?site=03118000&format=waterml,1.1&ParameterCd=00060&startDT=2014-01-01&endDT=2025-05-08\n",
      "\n"
     ]
    },
    {
     "data": {
      "text/html": [
       "'733/1056 - Downloading data for site 03118050'"
      ],
      "text/latex": [
       "'733/1056 - Downloading data for site 03118050'"
      ],
      "text/markdown": [
       "'733/1056 - Downloading data for site 03118050'"
      ],
      "text/plain": [
       "[1] \"733/1056 - Downloading data for site 03118050\""
      ]
     },
     "metadata": {
      "display_id": "status",
      "update": true
     },
     "output_type": "display_data"
    },
    {
     "name": "stderr",
     "output_type": "stream",
     "text": [
      "GET: https://nwis.waterservices.usgs.gov/nwis/iv/?site=03118050&format=waterml,1.1&ParameterCd=00060&startDT=2014-01-01&endDT=2025-05-08\n",
      "\n",
      "Warning message in doTryCatch(return(expr), name, parentenv, handler):\n",
      "\"No data available for site 03118050\"\n"
     ]
    },
    {
     "data": {
      "text/html": [
       "'734/1056 - Downloading data for site 03118209'"
      ],
      "text/latex": [
       "'734/1056 - Downloading data for site 03118209'"
      ],
      "text/markdown": [
       "'734/1056 - Downloading data for site 03118209'"
      ],
      "text/plain": [
       "[1] \"734/1056 - Downloading data for site 03118209\""
      ]
     },
     "metadata": {
      "display_id": "status",
      "update": true
     },
     "output_type": "display_data"
    },
    {
     "name": "stderr",
     "output_type": "stream",
     "text": [
      "GET: https://nwis.waterservices.usgs.gov/nwis/iv/?site=03118209&format=waterml,1.1&ParameterCd=00060&startDT=2014-01-01&endDT=2025-05-08\n",
      "\n",
      "Warning message in doTryCatch(return(expr), name, parentenv, handler):\n",
      "\"No data available for site 03118209\"\n"
     ]
    },
    {
     "data": {
      "text/html": [
       "'735/1056 - Downloading data for site 03109500'"
      ],
      "text/latex": [
       "'735/1056 - Downloading data for site 03109500'"
      ],
      "text/markdown": [
       "'735/1056 - Downloading data for site 03109500'"
      ],
      "text/plain": [
       "[1] \"735/1056 - Downloading data for site 03109500\""
      ]
     },
     "metadata": {
      "display_id": "status",
      "update": true
     },
     "output_type": "display_data"
    },
    {
     "name": "stderr",
     "output_type": "stream",
     "text": [
      "GET: https://nwis.waterservices.usgs.gov/nwis/iv/?site=03109500&format=waterml,1.1&ParameterCd=00060&startDT=2014-01-01&endDT=2025-05-08\n",
      "\n"
     ]
    },
    {
     "data": {
      "text/html": [
       "'736/1056 - Downloading data for site 03108985'"
      ],
      "text/latex": [
       "'736/1056 - Downloading data for site 03108985'"
      ],
      "text/markdown": [
       "'736/1056 - Downloading data for site 03108985'"
      ],
      "text/plain": [
       "[1] \"736/1056 - Downloading data for site 03108985\""
      ]
     },
     "metadata": {
      "display_id": "status",
      "update": true
     },
     "output_type": "display_data"
    },
    {
     "name": "stderr",
     "output_type": "stream",
     "text": [
      "GET: https://nwis.waterservices.usgs.gov/nwis/iv/?site=03108985&format=waterml,1.1&ParameterCd=00060&startDT=2014-01-01&endDT=2025-05-08\n",
      "\n",
      "Warning message in doTryCatch(return(expr), name, parentenv, handler):\n",
      "\"No data available for site 03108985\"\n"
     ]
    },
    {
     "data": {
      "text/html": [
       "'737/1056 - Downloading data for site 03086500'"
      ],
      "text/latex": [
       "'737/1056 - Downloading data for site 03086500'"
      ],
      "text/markdown": [
       "'737/1056 - Downloading data for site 03086500'"
      ],
      "text/plain": [
       "[1] \"737/1056 - Downloading data for site 03086500\""
      ]
     },
     "metadata": {
      "display_id": "status",
      "update": true
     },
     "output_type": "display_data"
    },
    {
     "name": "stderr",
     "output_type": "stream",
     "text": [
      "GET: https://nwis.waterservices.usgs.gov/nwis/iv/?site=03086500&format=waterml,1.1&ParameterCd=00060&startDT=2014-01-01&endDT=2025-05-08\n",
      "\n",
      "Warning message in doTryCatch(return(expr), name, parentenv, handler):\n",
      "\"No data available for site 03086500\"\n"
     ]
    },
    {
     "data": {
      "text/html": [
       "'738/1056 - Downloading data for site 03099500'"
      ],
      "text/latex": [
       "'738/1056 - Downloading data for site 03099500'"
      ],
      "text/markdown": [
       "'738/1056 - Downloading data for site 03099500'"
      ],
      "text/plain": [
       "[1] \"738/1056 - Downloading data for site 03099500\""
      ]
     },
     "metadata": {
      "display_id": "status",
      "update": true
     },
     "output_type": "display_data"
    },
    {
     "name": "stderr",
     "output_type": "stream",
     "text": [
      "GET: https://nwis.waterservices.usgs.gov/nwis/iv/?site=03099500&format=waterml,1.1&ParameterCd=00060&startDT=2014-01-01&endDT=2025-05-08\n",
      "\n"
     ]
    },
    {
     "data": {
      "text/html": [
       "'739/1056 - Downloading data for site 03090000'"
      ],
      "text/latex": [
       "'739/1056 - Downloading data for site 03090000'"
      ],
      "text/markdown": [
       "'739/1056 - Downloading data for site 03090000'"
      ],
      "text/plain": [
       "[1] \"739/1056 - Downloading data for site 03090000\""
      ]
     },
     "metadata": {
      "display_id": "status",
      "update": true
     },
     "output_type": "display_data"
    },
    {
     "name": "stderr",
     "output_type": "stream",
     "text": [
      "GET: https://nwis.waterservices.usgs.gov/nwis/iv/?site=03090000&format=waterml,1.1&ParameterCd=00060&startDT=2014-01-01&endDT=2025-05-08\n",
      "\n",
      "Warning message in doTryCatch(return(expr), name, parentenv, handler):\n",
      "\"No data available for site 03090000\"\n"
     ]
    },
    {
     "data": {
      "text/html": [
       "'740/1056 - Downloading data for site 03090500'"
      ],
      "text/latex": [
       "'740/1056 - Downloading data for site 03090500'"
      ],
      "text/markdown": [
       "'740/1056 - Downloading data for site 03090500'"
      ],
      "text/plain": [
       "[1] \"740/1056 - Downloading data for site 03090500\""
      ]
     },
     "metadata": {
      "display_id": "status",
      "update": true
     },
     "output_type": "display_data"
    },
    {
     "name": "stderr",
     "output_type": "stream",
     "text": [
      "GET: https://nwis.waterservices.usgs.gov/nwis/iv/?site=03090500&format=waterml,1.1&ParameterCd=00060&startDT=2014-01-01&endDT=2025-05-08\n",
      "\n"
     ]
    },
    {
     "data": {
      "text/html": [
       "'741/1056 - Downloading data for site 03098600'"
      ],
      "text/latex": [
       "'741/1056 - Downloading data for site 03098600'"
      ],
      "text/markdown": [
       "'741/1056 - Downloading data for site 03098600'"
      ],
      "text/plain": [
       "[1] \"741/1056 - Downloading data for site 03098600\""
      ]
     },
     "metadata": {
      "display_id": "status",
      "update": true
     },
     "output_type": "display_data"
    },
    {
     "name": "stderr",
     "output_type": "stream",
     "text": [
      "GET: https://nwis.waterservices.usgs.gov/nwis/iv/?site=03098600&format=waterml,1.1&ParameterCd=00060&startDT=2014-01-01&endDT=2025-05-08\n",
      "\n"
     ]
    },
    {
     "data": {
      "text/html": [
       "'742/1056 - Downloading data for site 03098700'"
      ],
      "text/latex": [
       "'742/1056 - Downloading data for site 03098700'"
      ],
      "text/markdown": [
       "'742/1056 - Downloading data for site 03098700'"
      ],
      "text/plain": [
       "[1] \"742/1056 - Downloading data for site 03098700\""
      ]
     },
     "metadata": {
      "display_id": "status",
      "update": true
     },
     "output_type": "display_data"
    },
    {
     "name": "stderr",
     "output_type": "stream",
     "text": [
      "GET: https://nwis.waterservices.usgs.gov/nwis/iv/?site=03098700&format=waterml,1.1&ParameterCd=00060&startDT=2014-01-01&endDT=2025-05-08\n",
      "\n",
      "Warning message in doTryCatch(return(expr), name, parentenv, handler):\n",
      "\"No data available for site 03098700\"\n"
     ]
    },
    {
     "data": {
      "text/html": [
       "'743/1056 - Downloading data for site 03091000'"
      ],
      "text/latex": [
       "'743/1056 - Downloading data for site 03091000'"
      ],
      "text/markdown": [
       "'743/1056 - Downloading data for site 03091000'"
      ],
      "text/plain": [
       "[1] \"743/1056 - Downloading data for site 03091000\""
      ]
     },
     "metadata": {
      "display_id": "status",
      "update": true
     },
     "output_type": "display_data"
    },
    {
     "name": "stderr",
     "output_type": "stream",
     "text": [
      "GET: https://nwis.waterservices.usgs.gov/nwis/iv/?site=03091000&format=waterml,1.1&ParameterCd=00060&startDT=2014-01-01&endDT=2025-05-08\n",
      "\n",
      "Warning message in doTryCatch(return(expr), name, parentenv, handler):\n",
      "\"No data available for site 03091000\"\n"
     ]
    },
    {
     "data": {
      "text/html": [
       "'744/1056 - Downloading data for site 03091500'"
      ],
      "text/latex": [
       "'744/1056 - Downloading data for site 03091500'"
      ],
      "text/markdown": [
       "'744/1056 - Downloading data for site 03091500'"
      ],
      "text/plain": [
       "[1] \"744/1056 - Downloading data for site 03091500\""
      ]
     },
     "metadata": {
      "display_id": "status",
      "update": true
     },
     "output_type": "display_data"
    },
    {
     "name": "stderr",
     "output_type": "stream",
     "text": [
      "GET: https://nwis.waterservices.usgs.gov/nwis/iv/?site=03091500&format=waterml,1.1&ParameterCd=00060&startDT=2014-01-01&endDT=2025-05-08\n",
      "\n"
     ]
    },
    {
     "data": {
      "text/html": [
       "'745/1056 - Downloading data for site 03118258'"
      ],
      "text/latex": [
       "'745/1056 - Downloading data for site 03118258'"
      ],
      "text/markdown": [
       "'745/1056 - Downloading data for site 03118258'"
      ],
      "text/plain": [
       "[1] \"745/1056 - Downloading data for site 03118258\""
      ]
     },
     "metadata": {
      "display_id": "status",
      "update": true
     },
     "output_type": "display_data"
    },
    {
     "name": "stderr",
     "output_type": "stream",
     "text": [
      "GET: https://nwis.waterservices.usgs.gov/nwis/iv/?site=03118258&format=waterml,1.1&ParameterCd=00060&startDT=2014-01-01&endDT=2025-05-08\n",
      "\n",
      "Warning message in doTryCatch(return(expr), name, parentenv, handler):\n",
      "\"No data available for site 03118258\"\n"
     ]
    },
    {
     "data": {
      "text/html": [
       "'746/1056 - Downloading data for site 03116000'"
      ],
      "text/latex": [
       "'746/1056 - Downloading data for site 03116000'"
      ],
      "text/markdown": [
       "'746/1056 - Downloading data for site 03116000'"
      ],
      "text/plain": [
       "[1] \"746/1056 - Downloading data for site 03116000\""
      ]
     },
     "metadata": {
      "display_id": "status",
      "update": true
     },
     "output_type": "display_data"
    },
    {
     "name": "stderr",
     "output_type": "stream",
     "text": [
      "GET: https://nwis.waterservices.usgs.gov/nwis/iv/?site=03116000&format=waterml,1.1&ParameterCd=00060&startDT=2014-01-01&endDT=2025-05-08\n",
      "\n"
     ]
    },
    {
     "data": {
      "text/html": [
       "'747/1056 - Downloading data for site 410014081362600'"
      ],
      "text/latex": [
       "'747/1056 - Downloading data for site 410014081362600'"
      ],
      "text/markdown": [
       "'747/1056 - Downloading data for site 410014081362600'"
      ],
      "text/plain": [
       "[1] \"747/1056 - Downloading data for site 410014081362600\""
      ]
     },
     "metadata": {
      "display_id": "status",
      "update": true
     },
     "output_type": "display_data"
    },
    {
     "name": "stderr",
     "output_type": "stream",
     "text": [
      "GET: https://nwis.waterservices.usgs.gov/nwis/iv/?site=410014081362600&format=waterml,1.1&ParameterCd=00060&startDT=2014-01-01&endDT=2025-05-08\n",
      "\n"
     ]
    },
    {
     "data": {
      "text/html": [
       "'748/1056 - Downloading data for site 03115917'"
      ],
      "text/latex": [
       "'748/1056 - Downloading data for site 03115917'"
      ],
      "text/markdown": [
       "'748/1056 - Downloading data for site 03115917'"
      ],
      "text/plain": [
       "[1] \"748/1056 - Downloading data for site 03115917\""
      ]
     },
     "metadata": {
      "display_id": "status",
      "update": true
     },
     "output_type": "display_data"
    },
    {
     "name": "stderr",
     "output_type": "stream",
     "text": [
      "GET: https://nwis.waterservices.usgs.gov/nwis/iv/?site=03115917&format=waterml,1.1&ParameterCd=00060&startDT=2014-01-01&endDT=2025-05-08\n",
      "\n"
     ]
    },
    {
     "data": {
      "text/html": [
       "'749/1056 - Downloading data for site 410121081330300'"
      ],
      "text/latex": [
       "'749/1056 - Downloading data for site 410121081330300'"
      ],
      "text/markdown": [
       "'749/1056 - Downloading data for site 410121081330300'"
      ],
      "text/plain": [
       "[1] \"749/1056 - Downloading data for site 410121081330300\""
      ]
     },
     "metadata": {
      "display_id": "status",
      "update": true
     },
     "output_type": "display_data"
    },
    {
     "name": "stderr",
     "output_type": "stream",
     "text": [
      "GET: https://nwis.waterservices.usgs.gov/nwis/iv/?site=410121081330300&format=waterml,1.1&ParameterCd=00060&startDT=2014-01-01&endDT=2025-05-08\n",
      "\n"
     ]
    },
    {
     "data": {
      "text/html": [
       "'750/1056 - Downloading data for site 410204081363200'"
      ],
      "text/latex": [
       "'750/1056 - Downloading data for site 410204081363200'"
      ],
      "text/markdown": [
       "'750/1056 - Downloading data for site 410204081363200'"
      ],
      "text/plain": [
       "[1] \"750/1056 - Downloading data for site 410204081363200\""
      ]
     },
     "metadata": {
      "display_id": "status",
      "update": true
     },
     "output_type": "display_data"
    },
    {
     "name": "stderr",
     "output_type": "stream",
     "text": [
      "GET: https://nwis.waterservices.usgs.gov/nwis/iv/?site=410204081363200&format=waterml,1.1&ParameterCd=00060&startDT=2014-01-01&endDT=2025-05-08\n",
      "\n",
      "Warning message in doTryCatch(return(expr), name, parentenv, handler):\n",
      "\"No data available for site 410204081363200\"\n"
     ]
    },
    {
     "data": {
      "text/html": [
       "'751/1056 - Downloading data for site 410211081370900'"
      ],
      "text/latex": [
       "'751/1056 - Downloading data for site 410211081370900'"
      ],
      "text/markdown": [
       "'751/1056 - Downloading data for site 410211081370900'"
      ],
      "text/plain": [
       "[1] \"751/1056 - Downloading data for site 410211081370900\""
      ]
     },
     "metadata": {
      "display_id": "status",
      "update": true
     },
     "output_type": "display_data"
    },
    {
     "name": "stderr",
     "output_type": "stream",
     "text": [
      "GET: https://nwis.waterservices.usgs.gov/nwis/iv/?site=410211081370900&format=waterml,1.1&ParameterCd=00060&startDT=2014-01-01&endDT=2025-05-08\n",
      "\n",
      "Warning message in doTryCatch(return(expr), name, parentenv, handler):\n",
      "\"No data available for site 410211081370900\"\n"
     ]
    },
    {
     "data": {
      "text/html": [
       "'752/1056 - Downloading data for site 03115990'"
      ],
      "text/latex": [
       "'752/1056 - Downloading data for site 03115990'"
      ],
      "text/markdown": [
       "'752/1056 - Downloading data for site 03115990'"
      ],
      "text/plain": [
       "[1] \"752/1056 - Downloading data for site 03115990\""
      ]
     },
     "metadata": {
      "display_id": "status",
      "update": true
     },
     "output_type": "display_data"
    },
    {
     "name": "stderr",
     "output_type": "stream",
     "text": [
      "GET: https://nwis.waterservices.usgs.gov/nwis/iv/?site=03115990&format=waterml,1.1&ParameterCd=00060&startDT=2014-01-01&endDT=2025-05-08\n",
      "\n",
      "Warning message in doTryCatch(return(expr), name, parentenv, handler):\n",
      "\"No data available for site 03115990\"\n"
     ]
    },
    {
     "data": {
      "text/html": [
       "'753/1056 - Downloading data for site 03130000'"
      ],
      "text/latex": [
       "'753/1056 - Downloading data for site 03130000'"
      ],
      "text/markdown": [
       "'753/1056 - Downloading data for site 03130000'"
      ],
      "text/plain": [
       "[1] \"753/1056 - Downloading data for site 03130000\""
      ]
     },
     "metadata": {
      "display_id": "status",
      "update": true
     },
     "output_type": "display_data"
    },
    {
     "name": "stderr",
     "output_type": "stream",
     "text": [
      "GET: https://nwis.waterservices.usgs.gov/nwis/iv/?site=03130000&format=waterml,1.1&ParameterCd=00060&startDT=2014-01-01&endDT=2025-05-08\n",
      "\n",
      "Warning message in doTryCatch(return(expr), name, parentenv, handler):\n",
      "\"No data available for site 03130000\"\n"
     ]
    },
    {
     "data": {
      "text/html": [
       "'754/1056 - Downloading data for site 03116196'"
      ],
      "text/latex": [
       "'754/1056 - Downloading data for site 03116196'"
      ],
      "text/markdown": [
       "'754/1056 - Downloading data for site 03116196'"
      ],
      "text/plain": [
       "[1] \"754/1056 - Downloading data for site 03116196\""
      ]
     },
     "metadata": {
      "display_id": "status",
      "update": true
     },
     "output_type": "display_data"
    },
    {
     "name": "stderr",
     "output_type": "stream",
     "text": [
      "GET: https://nwis.waterservices.usgs.gov/nwis/iv/?site=03116196&format=waterml,1.1&ParameterCd=00060&startDT=2014-01-01&endDT=2025-05-08\n",
      "\n"
     ]
    },
    {
     "data": {
      "text/html": [
       "'755/1056 - Downloading data for site 03116077'"
      ],
      "text/latex": [
       "'755/1056 - Downloading data for site 03116077'"
      ],
      "text/markdown": [
       "'755/1056 - Downloading data for site 03116077'"
      ],
      "text/plain": [
       "[1] \"755/1056 - Downloading data for site 03116077\""
      ]
     },
     "metadata": {
      "display_id": "status",
      "update": true
     },
     "output_type": "display_data"
    },
    {
     "name": "stderr",
     "output_type": "stream",
     "text": [
      "GET: https://nwis.waterservices.usgs.gov/nwis/iv/?site=03116077&format=waterml,1.1&ParameterCd=00060&startDT=2014-01-01&endDT=2025-05-08\n",
      "\n"
     ]
    },
    {
     "data": {
      "text/html": [
       "'756/1056 - Downloading data for site 03116192'"
      ],
      "text/latex": [
       "'756/1056 - Downloading data for site 03116192'"
      ],
      "text/markdown": [
       "'756/1056 - Downloading data for site 03116192'"
      ],
      "text/plain": [
       "[1] \"756/1056 - Downloading data for site 03116192\""
      ]
     },
     "metadata": {
      "display_id": "status",
      "update": true
     },
     "output_type": "display_data"
    },
    {
     "name": "stderr",
     "output_type": "stream",
     "text": [
      "GET: https://nwis.waterservices.usgs.gov/nwis/iv/?site=03116192&format=waterml,1.1&ParameterCd=00060&startDT=2014-01-01&endDT=2025-05-08\n",
      "\n",
      "Warning message in doTryCatch(return(expr), name, parentenv, handler):\n",
      "\"No data available for site 03116192\"\n"
     ]
    },
    {
     "data": {
      "text/html": [
       "'757/1056 - Downloading data for site 410051081594500'"
      ],
      "text/latex": [
       "'757/1056 - Downloading data for site 410051081594500'"
      ],
      "text/markdown": [
       "'757/1056 - Downloading data for site 410051081594500'"
      ],
      "text/plain": [
       "[1] \"757/1056 - Downloading data for site 410051081594500\""
      ]
     },
     "metadata": {
      "display_id": "status",
      "update": true
     },
     "output_type": "display_data"
    },
    {
     "name": "stderr",
     "output_type": "stream",
     "text": [
      "GET: https://nwis.waterservices.usgs.gov/nwis/iv/?site=410051081594500&format=waterml,1.1&ParameterCd=00060&startDT=2014-01-01&endDT=2025-05-08\n",
      "\n"
     ]
    },
    {
     "data": {
      "text/html": [
       "'758/1056 - Downloading data for site 03085730'"
      ],
      "text/latex": [
       "'758/1056 - Downloading data for site 03085730'"
      ],
      "text/markdown": [
       "'758/1056 - Downloading data for site 03085730'"
      ],
      "text/plain": [
       "[1] \"758/1056 - Downloading data for site 03085730\""
      ]
     },
     "metadata": {
      "display_id": "status",
      "update": true
     },
     "output_type": "display_data"
    },
    {
     "name": "stderr",
     "output_type": "stream",
     "text": [
      "GET: https://nwis.waterservices.usgs.gov/nwis/iv/?site=03085730&format=waterml,1.1&ParameterCd=00060&startDT=2014-01-01&endDT=2025-05-08\n",
      "\n",
      "Warning message in doTryCatch(return(expr), name, parentenv, handler):\n",
      "\"No data available for site 03085730\"\n"
     ]
    },
    {
     "data": {
      "text/html": [
       "'759/1056 - Downloading data for site 03085734'"
      ],
      "text/latex": [
       "'759/1056 - Downloading data for site 03085734'"
      ],
      "text/markdown": [
       "'759/1056 - Downloading data for site 03085734'"
      ],
      "text/plain": [
       "[1] \"759/1056 - Downloading data for site 03085734\""
      ]
     },
     "metadata": {
      "display_id": "status",
      "update": true
     },
     "output_type": "display_data"
    },
    {
     "name": "stderr",
     "output_type": "stream",
     "text": [
      "GET: https://nwis.waterservices.usgs.gov/nwis/iv/?site=03085734&format=waterml,1.1&ParameterCd=00060&startDT=2014-01-01&endDT=2025-05-08\n",
      "\n",
      "Warning message in doTryCatch(return(expr), name, parentenv, handler):\n",
      "\"No data available for site 03085734\"\n"
     ]
    },
    {
     "data": {
      "text/html": [
       "'760/1056 - Downloading data for site 03085947'"
      ],
      "text/latex": [
       "'760/1056 - Downloading data for site 03085947'"
      ],
      "text/markdown": [
       "'760/1056 - Downloading data for site 03085947'"
      ],
      "text/plain": [
       "[1] \"760/1056 - Downloading data for site 03085947\""
      ]
     },
     "metadata": {
      "display_id": "status",
      "update": true
     },
     "output_type": "display_data"
    },
    {
     "name": "stderr",
     "output_type": "stream",
     "text": [
      "GET: https://nwis.waterservices.usgs.gov/nwis/iv/?site=03085947&format=waterml,1.1&ParameterCd=00060&startDT=2014-01-01&endDT=2025-05-08\n",
      "\n",
      "Warning message in value[[3L]](cond):\n",
      "\"Error downloading data for site 03085947 : \"\n"
     ]
    },
    {
     "data": {
      "text/html": [
       "'761/1056 - Downloading data for site 03049800'"
      ],
      "text/latex": [
       "'761/1056 - Downloading data for site 03049800'"
      ],
      "text/markdown": [
       "'761/1056 - Downloading data for site 03049800'"
      ],
      "text/plain": [
       "[1] \"761/1056 - Downloading data for site 03049800\""
      ]
     },
     "metadata": {
      "display_id": "status",
      "update": true
     },
     "output_type": "display_data"
    },
    {
     "name": "stderr",
     "output_type": "stream",
     "text": [
      "GET: https://nwis.waterservices.usgs.gov/nwis/iv/?site=03049800&format=waterml,1.1&ParameterCd=00060&startDT=2014-01-01&endDT=2025-05-08\n",
      "\n"
     ]
    },
    {
     "data": {
      "text/html": [
       "'762/1056 - Downloading data for site 03049641'"
      ],
      "text/latex": [
       "'762/1056 - Downloading data for site 03049641'"
      ],
      "text/markdown": [
       "'762/1056 - Downloading data for site 03049641'"
      ],
      "text/plain": [
       "[1] \"762/1056 - Downloading data for site 03049641\""
      ]
     },
     "metadata": {
      "display_id": "status",
      "update": true
     },
     "output_type": "display_data"
    },
    {
     "name": "stderr",
     "output_type": "stream",
     "text": [
      "GET: https://nwis.waterservices.usgs.gov/nwis/iv/?site=03049641&format=waterml,1.1&ParameterCd=00060&startDT=2014-01-01&endDT=2025-05-08\n",
      "\n",
      "Warning message in doTryCatch(return(expr), name, parentenv, handler):\n",
      "\"No data available for site 03049641\"\n"
     ]
    },
    {
     "data": {
      "text/html": [
       "'763/1056 - Downloading data for site 03049640'"
      ],
      "text/latex": [
       "'763/1056 - Downloading data for site 03049640'"
      ],
      "text/markdown": [
       "'763/1056 - Downloading data for site 03049640'"
      ],
      "text/plain": [
       "[1] \"763/1056 - Downloading data for site 03049640\""
      ]
     },
     "metadata": {
      "display_id": "status",
      "update": true
     },
     "output_type": "display_data"
    },
    {
     "name": "stderr",
     "output_type": "stream",
     "text": [
      "GET: https://nwis.waterservices.usgs.gov/nwis/iv/?site=03049640&format=waterml,1.1&ParameterCd=00060&startDT=2014-01-01&endDT=2025-05-08\n",
      "\n",
      "Warning message in doTryCatch(return(expr), name, parentenv, handler):\n",
      "\"No data available for site 03049640\"\n"
     ]
    },
    {
     "data": {
      "text/html": [
       "'764/1056 - Downloading data for site 03086000'"
      ],
      "text/latex": [
       "'764/1056 - Downloading data for site 03086000'"
      ],
      "text/markdown": [
       "'764/1056 - Downloading data for site 03086000'"
      ],
      "text/plain": [
       "[1] \"764/1056 - Downloading data for site 03086000\""
      ]
     },
     "metadata": {
      "display_id": "status",
      "update": true
     },
     "output_type": "display_data"
    },
    {
     "name": "stderr",
     "output_type": "stream",
     "text": [
      "GET: https://nwis.waterservices.usgs.gov/nwis/iv/?site=03086000&format=waterml,1.1&ParameterCd=00060&startDT=2014-01-01&endDT=2025-05-08\n",
      "\n"
     ]
    },
    {
     "data": {
      "text/html": [
       "'765/1056 - Downloading data for site 03086001'"
      ],
      "text/latex": [
       "'765/1056 - Downloading data for site 03086001'"
      ],
      "text/markdown": [
       "'765/1056 - Downloading data for site 03086001'"
      ],
      "text/plain": [
       "[1] \"765/1056 - Downloading data for site 03086001\""
      ]
     },
     "metadata": {
      "display_id": "status",
      "update": true
     },
     "output_type": "display_data"
    },
    {
     "name": "stderr",
     "output_type": "stream",
     "text": [
      "GET: https://nwis.waterservices.usgs.gov/nwis/iv/?site=03086001&format=waterml,1.1&ParameterCd=00060&startDT=2014-01-01&endDT=2025-05-08\n",
      "\n",
      "Warning message in doTryCatch(return(expr), name, parentenv, handler):\n",
      "\"No data available for site 03086001\"\n"
     ]
    },
    {
     "data": {
      "text/html": [
       "'766/1056 - Downloading data for site 03048500'"
      ],
      "text/latex": [
       "'766/1056 - Downloading data for site 03048500'"
      ],
      "text/markdown": [
       "'766/1056 - Downloading data for site 03048500'"
      ],
      "text/plain": [
       "[1] \"766/1056 - Downloading data for site 03048500\""
      ]
     },
     "metadata": {
      "display_id": "status",
      "update": true
     },
     "output_type": "display_data"
    },
    {
     "name": "stderr",
     "output_type": "stream",
     "text": [
      "GET: https://nwis.waterservices.usgs.gov/nwis/iv/?site=03048500&format=waterml,1.1&ParameterCd=00060&startDT=2014-01-01&endDT=2025-05-08\n",
      "\n"
     ]
    },
    {
     "data": {
      "text/html": [
       "'767/1056 - Downloading data for site 03049501'"
      ],
      "text/latex": [
       "'767/1056 - Downloading data for site 03049501'"
      ],
      "text/markdown": [
       "'767/1056 - Downloading data for site 03049501'"
      ],
      "text/plain": [
       "[1] \"767/1056 - Downloading data for site 03049501\""
      ]
     },
     "metadata": {
      "display_id": "status",
      "update": true
     },
     "output_type": "display_data"
    },
    {
     "name": "stderr",
     "output_type": "stream",
     "text": [
      "GET: https://nwis.waterservices.usgs.gov/nwis/iv/?site=03049501&format=waterml,1.1&ParameterCd=00060&startDT=2014-01-01&endDT=2025-05-08\n",
      "\n",
      "Warning message in doTryCatch(return(expr), name, parentenv, handler):\n",
      "\"No data available for site 03049501\"\n"
     ]
    },
    {
     "data": {
      "text/html": [
       "'768/1056 - Downloading data for site 03034500'"
      ],
      "text/latex": [
       "'768/1056 - Downloading data for site 03034500'"
      ],
      "text/markdown": [
       "'768/1056 - Downloading data for site 03034500'"
      ],
      "text/plain": [
       "[1] \"768/1056 - Downloading data for site 03034500\""
      ]
     },
     "metadata": {
      "display_id": "status",
      "update": true
     },
     "output_type": "display_data"
    },
    {
     "name": "stderr",
     "output_type": "stream",
     "text": [
      "GET: https://nwis.waterservices.usgs.gov/nwis/iv/?site=03034500&format=waterml,1.1&ParameterCd=00060&startDT=2014-01-01&endDT=2025-05-08\n",
      "\n"
     ]
    },
    {
     "data": {
      "text/html": [
       "'769/1056 - Downloading data for site 03035500'"
      ],
      "text/latex": [
       "'769/1056 - Downloading data for site 03035500'"
      ],
      "text/markdown": [
       "'769/1056 - Downloading data for site 03035500'"
      ],
      "text/plain": [
       "[1] \"769/1056 - Downloading data for site 03035500\""
      ]
     },
     "metadata": {
      "display_id": "status",
      "update": true
     },
     "output_type": "display_data"
    },
    {
     "name": "stderr",
     "output_type": "stream",
     "text": [
      "GET: https://nwis.waterservices.usgs.gov/nwis/iv/?site=03035500&format=waterml,1.1&ParameterCd=00060&startDT=2014-01-01&endDT=2025-05-08\n",
      "\n",
      "Warning message in doTryCatch(return(expr), name, parentenv, handler):\n",
      "\"No data available for site 03035500\"\n"
     ]
    },
    {
     "data": {
      "text/html": [
       "'770/1056 - Downloading data for site 03036000'"
      ],
      "text/latex": [
       "'770/1056 - Downloading data for site 03036000'"
      ],
      "text/markdown": [
       "'770/1056 - Downloading data for site 03036000'"
      ],
      "text/plain": [
       "[1] \"770/1056 - Downloading data for site 03036000\""
      ]
     },
     "metadata": {
      "display_id": "status",
      "update": true
     },
     "output_type": "display_data"
    },
    {
     "name": "stderr",
     "output_type": "stream",
     "text": [
      "GET: https://nwis.waterservices.usgs.gov/nwis/iv/?site=03036000&format=waterml,1.1&ParameterCd=00060&startDT=2014-01-01&endDT=2025-05-08\n",
      "\n"
     ]
    },
    {
     "data": {
      "text/html": [
       "'771/1056 - Downloading data for site 03034000'"
      ],
      "text/latex": [
       "'771/1056 - Downloading data for site 03034000'"
      ],
      "text/markdown": [
       "'771/1056 - Downloading data for site 03034000'"
      ],
      "text/plain": [
       "[1] \"771/1056 - Downloading data for site 03034000\""
      ]
     },
     "metadata": {
      "display_id": "status",
      "update": true
     },
     "output_type": "display_data"
    },
    {
     "name": "stderr",
     "output_type": "stream",
     "text": [
      "GET: https://nwis.waterservices.usgs.gov/nwis/iv/?site=03034000&format=waterml,1.1&ParameterCd=00060&startDT=2014-01-01&endDT=2025-05-08\n",
      "\n"
     ]
    },
    {
     "data": {
      "text/html": [
       "'772/1056 - Downloading data for site 03033289'"
      ],
      "text/latex": [
       "'772/1056 - Downloading data for site 03033289'"
      ],
      "text/markdown": [
       "'772/1056 - Downloading data for site 03033289'"
      ],
      "text/plain": [
       "[1] \"772/1056 - Downloading data for site 03033289\""
      ]
     },
     "metadata": {
      "display_id": "status",
      "update": true
     },
     "output_type": "display_data"
    },
    {
     "name": "stderr",
     "output_type": "stream",
     "text": [
      "GET: https://nwis.waterservices.usgs.gov/nwis/iv/?site=03033289&format=waterml,1.1&ParameterCd=00060&startDT=2014-01-01&endDT=2025-05-08\n",
      "\n",
      "Warning message in doTryCatch(return(expr), name, parentenv, handler):\n",
      "\"No data available for site 03033289\"\n"
     ]
    },
    {
     "data": {
      "text/html": [
       "'773/1056 - Downloading data for site 03048900'"
      ],
      "text/latex": [
       "'773/1056 - Downloading data for site 03048900'"
      ],
      "text/markdown": [
       "'773/1056 - Downloading data for site 03048900'"
      ],
      "text/plain": [
       "[1] \"773/1056 - Downloading data for site 03048900\""
      ]
     },
     "metadata": {
      "display_id": "status",
      "update": true
     },
     "output_type": "display_data"
    },
    {
     "name": "stderr",
     "output_type": "stream",
     "text": [
      "GET: https://nwis.waterservices.usgs.gov/nwis/iv/?site=03048900&format=waterml,1.1&ParameterCd=00060&startDT=2014-01-01&endDT=2025-05-08\n",
      "\n"
     ]
    },
    {
     "data": {
      "text/html": [
       "'774/1056 - Downloading data for site 03107500'"
      ],
      "text/latex": [
       "'774/1056 - Downloading data for site 03107500'"
      ],
      "text/markdown": [
       "'774/1056 - Downloading data for site 03107500'"
      ],
      "text/plain": [
       "[1] \"774/1056 - Downloading data for site 03107500\""
      ]
     },
     "metadata": {
      "display_id": "status",
      "update": true
     },
     "output_type": "display_data"
    },
    {
     "name": "stderr",
     "output_type": "stream",
     "text": [
      "GET: https://nwis.waterservices.usgs.gov/nwis/iv/?site=03107500&format=waterml,1.1&ParameterCd=00060&startDT=2014-01-01&endDT=2025-05-08\n",
      "\n"
     ]
    },
    {
     "data": {
      "text/html": [
       "'775/1056 - Downloading data for site 03106000'"
      ],
      "text/latex": [
       "'775/1056 - Downloading data for site 03106000'"
      ],
      "text/markdown": [
       "'775/1056 - Downloading data for site 03106000'"
      ],
      "text/plain": [
       "[1] \"775/1056 - Downloading data for site 03106000\""
      ]
     },
     "metadata": {
      "display_id": "status",
      "update": true
     },
     "output_type": "display_data"
    },
    {
     "name": "stderr",
     "output_type": "stream",
     "text": [
      "GET: https://nwis.waterservices.usgs.gov/nwis/iv/?site=03106000&format=waterml,1.1&ParameterCd=00060&startDT=2014-01-01&endDT=2025-05-08\n",
      "\n"
     ]
    },
    {
     "data": {
      "text/html": [
       "'776/1056 - Downloading data for site 03036501'"
      ],
      "text/latex": [
       "'776/1056 - Downloading data for site 03036501'"
      ],
      "text/markdown": [
       "'776/1056 - Downloading data for site 03036501'"
      ],
      "text/plain": [
       "[1] \"776/1056 - Downloading data for site 03036501\""
      ]
     },
     "metadata": {
      "display_id": "status",
      "update": true
     },
     "output_type": "display_data"
    },
    {
     "name": "stderr",
     "output_type": "stream",
     "text": [
      "GET: https://nwis.waterservices.usgs.gov/nwis/iv/?site=03036501&format=waterml,1.1&ParameterCd=00060&startDT=2014-01-01&endDT=2025-05-08\n",
      "\n",
      "Warning message in doTryCatch(return(expr), name, parentenv, handler):\n",
      "\"No data available for site 03036501\"\n"
     ]
    },
    {
     "data": {
      "text/html": [
       "'777/1056 - Downloading data for site 03036500'"
      ],
      "text/latex": [
       "'777/1056 - Downloading data for site 03036500'"
      ],
      "text/markdown": [
       "'777/1056 - Downloading data for site 03036500'"
      ],
      "text/plain": [
       "[1] \"777/1056 - Downloading data for site 03036500\""
      ]
     },
     "metadata": {
      "display_id": "status",
      "update": true
     },
     "output_type": "display_data"
    },
    {
     "name": "stderr",
     "output_type": "stream",
     "text": [
      "GET: https://nwis.waterservices.usgs.gov/nwis/iv/?site=03036500&format=waterml,1.1&ParameterCd=00060&startDT=2014-01-01&endDT=2025-05-08\n",
      "\n"
     ]
    },
    {
     "data": {
      "text/html": [
       "'778/1056 - Downloading data for site 03106500'"
      ],
      "text/latex": [
       "'778/1056 - Downloading data for site 03106500'"
      ],
      "text/markdown": [
       "'778/1056 - Downloading data for site 03106500'"
      ],
      "text/plain": [
       "[1] \"778/1056 - Downloading data for site 03106500\""
      ]
     },
     "metadata": {
      "display_id": "status",
      "update": true
     },
     "output_type": "display_data"
    },
    {
     "name": "stderr",
     "output_type": "stream",
     "text": [
      "GET: https://nwis.waterservices.usgs.gov/nwis/iv/?site=03106500&format=waterml,1.1&ParameterCd=00060&startDT=2014-01-01&endDT=2025-05-08\n",
      "\n"
     ]
    },
    {
     "data": {
      "text/html": [
       "'779/1056 - Downloading data for site 03105500'"
      ],
      "text/latex": [
       "'779/1056 - Downloading data for site 03105500'"
      ],
      "text/markdown": [
       "'779/1056 - Downloading data for site 03105500'"
      ],
      "text/plain": [
       "[1] \"779/1056 - Downloading data for site 03105500\""
      ]
     },
     "metadata": {
      "display_id": "status",
      "update": true
     },
     "output_type": "display_data"
    },
    {
     "name": "stderr",
     "output_type": "stream",
     "text": [
      "GET: https://nwis.waterservices.usgs.gov/nwis/iv/?site=03105500&format=waterml,1.1&ParameterCd=00060&startDT=2014-01-01&endDT=2025-05-08\n",
      "\n"
     ]
    },
    {
     "data": {
      "text/html": [
       "'780/1056 - Downloading data for site 03036151'"
      ],
      "text/latex": [
       "'780/1056 - Downloading data for site 03036151'"
      ],
      "text/markdown": [
       "'780/1056 - Downloading data for site 03036151'"
      ],
      "text/plain": [
       "[1] \"780/1056 - Downloading data for site 03036151\""
      ]
     },
     "metadata": {
      "display_id": "status",
      "update": true
     },
     "output_type": "display_data"
    },
    {
     "name": "stderr",
     "output_type": "stream",
     "text": [
      "GET: https://nwis.waterservices.usgs.gov/nwis/iv/?site=03036151&format=waterml,1.1&ParameterCd=00060&startDT=2014-01-01&endDT=2025-05-08\n",
      "\n",
      "Warning message in doTryCatch(return(expr), name, parentenv, handler):\n",
      "\"No data available for site 03036151\"\n"
     ]
    },
    {
     "data": {
      "text/html": [
       "'781/1056 - Downloading data for site 03036150'"
      ],
      "text/latex": [
       "'781/1056 - Downloading data for site 03036150'"
      ],
      "text/markdown": [
       "'781/1056 - Downloading data for site 03036150'"
      ],
      "text/plain": [
       "[1] \"781/1056 - Downloading data for site 03036150\""
      ]
     },
     "metadata": {
      "display_id": "status",
      "update": true
     },
     "output_type": "display_data"
    },
    {
     "name": "stderr",
     "output_type": "stream",
     "text": [
      "GET: https://nwis.waterservices.usgs.gov/nwis/iv/?site=03036150&format=waterml,1.1&ParameterCd=00060&startDT=2014-01-01&endDT=2025-05-08\n",
      "\n",
      "Warning message in doTryCatch(return(expr), name, parentenv, handler):\n",
      "\"No data available for site 03036150\"\n"
     ]
    },
    {
     "data": {
      "text/html": [
       "'782/1056 - Downloading data for site 03033001'"
      ],
      "text/latex": [
       "'782/1056 - Downloading data for site 03033001'"
      ],
      "text/markdown": [
       "'782/1056 - Downloading data for site 03033001'"
      ],
      "text/plain": [
       "[1] \"782/1056 - Downloading data for site 03033001\""
      ]
     },
     "metadata": {
      "display_id": "status",
      "update": true
     },
     "output_type": "display_data"
    },
    {
     "name": "stderr",
     "output_type": "stream",
     "text": [
      "GET: https://nwis.waterservices.usgs.gov/nwis/iv/?site=03033001&format=waterml,1.1&ParameterCd=00060&startDT=2014-01-01&endDT=2025-05-08\n",
      "\n",
      "Warning message in doTryCatch(return(expr), name, parentenv, handler):\n",
      "\"No data available for site 03033001\"\n"
     ]
    },
    {
     "data": {
      "text/html": [
       "'783/1056 - Downloading data for site 03032500'"
      ],
      "text/latex": [
       "'783/1056 - Downloading data for site 03032500'"
      ],
      "text/markdown": [
       "'783/1056 - Downloading data for site 03032500'"
      ],
      "text/plain": [
       "[1] \"783/1056 - Downloading data for site 03032500\""
      ]
     },
     "metadata": {
      "display_id": "status",
      "update": true
     },
     "output_type": "display_data"
    },
    {
     "name": "stderr",
     "output_type": "stream",
     "text": [
      "GET: https://nwis.waterservices.usgs.gov/nwis/iv/?site=03032500&format=waterml,1.1&ParameterCd=00060&startDT=2014-01-01&endDT=2025-05-08\n",
      "\n"
     ]
    },
    {
     "data": {
      "text/html": [
       "'784/1056 - Downloading data for site 03033215'"
      ],
      "text/latex": [
       "'784/1056 - Downloading data for site 03033215'"
      ],
      "text/markdown": [
       "'784/1056 - Downloading data for site 03033215'"
      ],
      "text/plain": [
       "[1] \"784/1056 - Downloading data for site 03033215\""
      ]
     },
     "metadata": {
      "display_id": "status",
      "update": true
     },
     "output_type": "display_data"
    },
    {
     "name": "stderr",
     "output_type": "stream",
     "text": [
      "GET: https://nwis.waterservices.usgs.gov/nwis/iv/?site=03033215&format=waterml,1.1&ParameterCd=00060&startDT=2014-01-01&endDT=2025-05-08\n",
      "\n",
      "Warning message in doTryCatch(return(expr), name, parentenv, handler):\n",
      "\"No data available for site 03033215\"\n"
     ]
    },
    {
     "data": {
      "text/html": [
       "'785/1056 - Downloading data for site 03031624'"
      ],
      "text/latex": [
       "'785/1056 - Downloading data for site 03031624'"
      ],
      "text/markdown": [
       "'785/1056 - Downloading data for site 03031624'"
      ],
      "text/plain": [
       "[1] \"785/1056 - Downloading data for site 03031624\""
      ]
     },
     "metadata": {
      "display_id": "status",
      "update": true
     },
     "output_type": "display_data"
    },
    {
     "name": "stderr",
     "output_type": "stream",
     "text": [
      "GET: https://nwis.waterservices.usgs.gov/nwis/iv/?site=03031624&format=waterml,1.1&ParameterCd=00060&startDT=2014-01-01&endDT=2025-05-08\n",
      "\n",
      "Warning message in doTryCatch(return(expr), name, parentenv, handler):\n",
      "\"No data available for site 03031624\"\n"
     ]
    },
    {
     "data": {
      "text/html": [
       "'786/1056 - Downloading data for site 03031882'"
      ],
      "text/latex": [
       "'786/1056 - Downloading data for site 03031882'"
      ],
      "text/markdown": [
       "'786/1056 - Downloading data for site 03031882'"
      ],
      "text/plain": [
       "[1] \"786/1056 - Downloading data for site 03031882\""
      ]
     },
     "metadata": {
      "display_id": "status",
      "update": true
     },
     "output_type": "display_data"
    },
    {
     "name": "stderr",
     "output_type": "stream",
     "text": [
      "GET: https://nwis.waterservices.usgs.gov/nwis/iv/?site=03031882&format=waterml,1.1&ParameterCd=00060&startDT=2014-01-01&endDT=2025-05-08\n",
      "\n"
     ]
    },
    {
     "data": {
      "text/html": [
       "'787/1056 - Downloading data for site 03029500'"
      ],
      "text/latex": [
       "'787/1056 - Downloading data for site 03029500'"
      ],
      "text/markdown": [
       "'787/1056 - Downloading data for site 03029500'"
      ],
      "text/plain": [
       "[1] \"787/1056 - Downloading data for site 03029500\""
      ]
     },
     "metadata": {
      "display_id": "status",
      "update": true
     },
     "output_type": "display_data"
    },
    {
     "name": "stderr",
     "output_type": "stream",
     "text": [
      "GET: https://nwis.waterservices.usgs.gov/nwis/iv/?site=03029500&format=waterml,1.1&ParameterCd=00060&startDT=2014-01-01&endDT=2025-05-08\n",
      "\n"
     ]
    },
    {
     "data": {
      "text/html": [
       "'788/1056 - Downloading data for site 03029000'"
      ],
      "text/latex": [
       "'788/1056 - Downloading data for site 03029000'"
      ],
      "text/markdown": [
       "'788/1056 - Downloading data for site 03029000'"
      ],
      "text/plain": [
       "[1] \"788/1056 - Downloading data for site 03029000\""
      ]
     },
     "metadata": {
      "display_id": "status",
      "update": true
     },
     "output_type": "display_data"
    },
    {
     "name": "stderr",
     "output_type": "stream",
     "text": [
      "GET: https://nwis.waterservices.usgs.gov/nwis/iv/?site=03029000&format=waterml,1.1&ParameterCd=00060&startDT=2014-01-01&endDT=2025-05-08\n",
      "\n"
     ]
    },
    {
     "data": {
      "text/html": [
       "'789/1056 - Downloading data for site 03028900'"
      ],
      "text/latex": [
       "'789/1056 - Downloading data for site 03028900'"
      ],
      "text/markdown": [
       "'789/1056 - Downloading data for site 03028900'"
      ],
      "text/plain": [
       "[1] \"789/1056 - Downloading data for site 03028900\""
      ]
     },
     "metadata": {
      "display_id": "status",
      "update": true
     },
     "output_type": "display_data"
    },
    {
     "name": "stderr",
     "output_type": "stream",
     "text": [
      "GET: https://nwis.waterservices.usgs.gov/nwis/iv/?site=03028900&format=waterml,1.1&ParameterCd=00060&startDT=2014-01-01&endDT=2025-05-08\n",
      "\n",
      "Warning message in doTryCatch(return(expr), name, parentenv, handler):\n",
      "\"No data available for site 03028900\"\n"
     ]
    },
    {
     "data": {
      "text/html": [
       "'790/1056 - Downloading data for site 03028500'"
      ],
      "text/latex": [
       "'790/1056 - Downloading data for site 03028500'"
      ],
      "text/markdown": [
       "'790/1056 - Downloading data for site 03028500'"
      ],
      "text/plain": [
       "[1] \"790/1056 - Downloading data for site 03028500\""
      ]
     },
     "metadata": {
      "display_id": "status",
      "update": true
     },
     "output_type": "display_data"
    },
    {
     "name": "stderr",
     "output_type": "stream",
     "text": [
      "GET: https://nwis.waterservices.usgs.gov/nwis/iv/?site=03028500&format=waterml,1.1&ParameterCd=00060&startDT=2014-01-01&endDT=2025-05-08\n",
      "\n"
     ]
    },
    {
     "data": {
      "text/html": [
       "'791/1056 - Downloading data for site 03027500'"
      ],
      "text/latex": [
       "'791/1056 - Downloading data for site 03027500'"
      ],
      "text/markdown": [
       "'791/1056 - Downloading data for site 03027500'"
      ],
      "text/plain": [
       "[1] \"791/1056 - Downloading data for site 03027500\""
      ]
     },
     "metadata": {
      "display_id": "status",
      "update": true
     },
     "output_type": "display_data"
    },
    {
     "name": "stderr",
     "output_type": "stream",
     "text": [
      "GET: https://nwis.waterservices.usgs.gov/nwis/iv/?site=03027500&format=waterml,1.1&ParameterCd=00060&startDT=2014-01-01&endDT=2025-05-08\n",
      "\n"
     ]
    },
    {
     "data": {
      "text/html": [
       "'792/1056 - Downloading data for site 03027000'"
      ],
      "text/latex": [
       "'792/1056 - Downloading data for site 03027000'"
      ],
      "text/markdown": [
       "'792/1056 - Downloading data for site 03027000'"
      ],
      "text/plain": [
       "[1] \"792/1056 - Downloading data for site 03027000\""
      ]
     },
     "metadata": {
      "display_id": "status",
      "update": true
     },
     "output_type": "display_data"
    },
    {
     "name": "stderr",
     "output_type": "stream",
     "text": [
      "GET: https://nwis.waterservices.usgs.gov/nwis/iv/?site=03027000&format=waterml,1.1&ParameterCd=00060&startDT=2014-01-01&endDT=2025-05-08\n",
      "\n",
      "Warning message in doTryCatch(return(expr), name, parentenv, handler):\n",
      "\"No data available for site 03027000\"\n"
     ]
    },
    {
     "data": {
      "text/html": [
       "'793/1056 - Downloading data for site 03016000'"
      ],
      "text/latex": [
       "'793/1056 - Downloading data for site 03016000'"
      ],
      "text/markdown": [
       "'793/1056 - Downloading data for site 03016000'"
      ],
      "text/plain": [
       "[1] \"793/1056 - Downloading data for site 03016000\""
      ]
     },
     "metadata": {
      "display_id": "status",
      "update": true
     },
     "output_type": "display_data"
    },
    {
     "name": "stderr",
     "output_type": "stream",
     "text": [
      "GET: https://nwis.waterservices.usgs.gov/nwis/iv/?site=03016000&format=waterml,1.1&ParameterCd=00060&startDT=2014-01-01&endDT=2025-05-08\n",
      "\n"
     ]
    },
    {
     "data": {
      "text/html": [
       "'794/1056 - Downloading data for site 03033000'"
      ],
      "text/latex": [
       "'794/1056 - Downloading data for site 03033000'"
      ],
      "text/markdown": [
       "'794/1056 - Downloading data for site 03033000'"
      ],
      "text/plain": [
       "[1] \"794/1056 - Downloading data for site 03033000\""
      ]
     },
     "metadata": {
      "display_id": "status",
      "update": true
     },
     "output_type": "display_data"
    },
    {
     "name": "stderr",
     "output_type": "stream",
     "text": [
      "GET: https://nwis.waterservices.usgs.gov/nwis/iv/?site=03033000&format=waterml,1.1&ParameterCd=00060&startDT=2014-01-01&endDT=2025-05-08\n",
      "\n",
      "Warning message in doTryCatch(return(expr), name, parentenv, handler):\n",
      "\"No data available for site 03033000\"\n"
     ]
    },
    {
     "data": {
      "text/html": [
       "'795/1056 - Downloading data for site 03106280'"
      ],
      "text/latex": [
       "'795/1056 - Downloading data for site 03106280'"
      ],
      "text/markdown": [
       "'795/1056 - Downloading data for site 03106280'"
      ],
      "text/plain": [
       "[1] \"795/1056 - Downloading data for site 03106280\""
      ]
     },
     "metadata": {
      "display_id": "status",
      "update": true
     },
     "output_type": "display_data"
    },
    {
     "name": "stderr",
     "output_type": "stream",
     "text": [
      "GET: https://nwis.waterservices.usgs.gov/nwis/iv/?site=03106280&format=waterml,1.1&ParameterCd=00060&startDT=2014-01-01&endDT=2025-05-08\n",
      "\n",
      "Warning message in doTryCatch(return(expr), name, parentenv, handler):\n",
      "\"No data available for site 03106280\"\n"
     ]
    },
    {
     "data": {
      "text/html": [
       "'796/1056 - Downloading data for site 03106300'"
      ],
      "text/latex": [
       "'796/1056 - Downloading data for site 03106300'"
      ],
      "text/markdown": [
       "'796/1056 - Downloading data for site 03106300'"
      ],
      "text/plain": [
       "[1] \"796/1056 - Downloading data for site 03106300\""
      ]
     },
     "metadata": {
      "display_id": "status",
      "update": true
     },
     "output_type": "display_data"
    },
    {
     "name": "stderr",
     "output_type": "stream",
     "text": [
      "GET: https://nwis.waterservices.usgs.gov/nwis/iv/?site=03106300&format=waterml,1.1&ParameterCd=00060&startDT=2014-01-01&endDT=2025-05-08\n",
      "\n"
     ]
    },
    {
     "data": {
      "text/html": [
       "'797/1056 - Downloading data for site 03104490'"
      ],
      "text/latex": [
       "'797/1056 - Downloading data for site 03104490'"
      ],
      "text/markdown": [
       "'797/1056 - Downloading data for site 03104490'"
      ],
      "text/plain": [
       "[1] \"797/1056 - Downloading data for site 03104490\""
      ]
     },
     "metadata": {
      "display_id": "status",
      "update": true
     },
     "output_type": "display_data"
    },
    {
     "name": "stderr",
     "output_type": "stream",
     "text": [
      "GET: https://nwis.waterservices.usgs.gov/nwis/iv/?site=03104490&format=waterml,1.1&ParameterCd=00060&startDT=2014-01-01&endDT=2025-05-08\n",
      "\n",
      "Warning message in doTryCatch(return(expr), name, parentenv, handler):\n",
      "\"No data available for site 03104490\"\n"
     ]
    },
    {
     "data": {
      "text/html": [
       "'798/1056 - Downloading data for site 03031500'"
      ],
      "text/latex": [
       "'798/1056 - Downloading data for site 03031500'"
      ],
      "text/markdown": [
       "'798/1056 - Downloading data for site 03031500'"
      ],
      "text/plain": [
       "[1] \"798/1056 - Downloading data for site 03031500\""
      ]
     },
     "metadata": {
      "display_id": "status",
      "update": true
     },
     "output_type": "display_data"
    },
    {
     "name": "stderr",
     "output_type": "stream",
     "text": [
      "GET: https://nwis.waterservices.usgs.gov/nwis/iv/?site=03031500&format=waterml,1.1&ParameterCd=00060&startDT=2014-01-01&endDT=2025-05-08\n",
      "\n"
     ]
    },
    {
     "data": {
      "text/html": [
       "'799/1056 - Downloading data for site 03030500'"
      ],
      "text/latex": [
       "'799/1056 - Downloading data for site 03030500'"
      ],
      "text/markdown": [
       "'799/1056 - Downloading data for site 03030500'"
      ],
      "text/plain": [
       "[1] \"799/1056 - Downloading data for site 03030500\""
      ]
     },
     "metadata": {
      "display_id": "status",
      "update": true
     },
     "output_type": "display_data"
    },
    {
     "name": "stderr",
     "output_type": "stream",
     "text": [
      "GET: https://nwis.waterservices.usgs.gov/nwis/iv/?site=03030500&format=waterml,1.1&ParameterCd=00060&startDT=2014-01-01&endDT=2025-05-08\n",
      "\n"
     ]
    },
    {
     "data": {
      "text/html": [
       "'800/1056 - Downloading data for site 03103400'"
      ],
      "text/latex": [
       "'800/1056 - Downloading data for site 03103400'"
      ],
      "text/markdown": [
       "'800/1056 - Downloading data for site 03103400'"
      ],
      "text/plain": [
       "[1] \"800/1056 - Downloading data for site 03103400\""
      ]
     },
     "metadata": {
      "display_id": "status",
      "update": true
     },
     "output_type": "display_data"
    },
    {
     "name": "stderr",
     "output_type": "stream",
     "text": [
      "GET: https://nwis.waterservices.usgs.gov/nwis/iv/?site=03103400&format=waterml,1.1&ParameterCd=00060&startDT=2014-01-01&endDT=2025-05-08\n",
      "\n",
      "Warning message in doTryCatch(return(expr), name, parentenv, handler):\n",
      "\"No data available for site 03103400\"\n"
     ]
    },
    {
     "data": {
      "text/html": [
       "'801/1056 - Downloading data for site 03103500'"
      ],
      "text/latex": [
       "'801/1056 - Downloading data for site 03103500'"
      ],
      "text/markdown": [
       "'801/1056 - Downloading data for site 03103500'"
      ],
      "text/plain": [
       "[1] \"801/1056 - Downloading data for site 03103500\""
      ]
     },
     "metadata": {
      "display_id": "status",
      "update": true
     },
     "output_type": "display_data"
    },
    {
     "name": "stderr",
     "output_type": "stream",
     "text": [
      "GET: https://nwis.waterservices.usgs.gov/nwis/iv/?site=03103500&format=waterml,1.1&ParameterCd=00060&startDT=2014-01-01&endDT=2025-05-08\n",
      "\n"
     ]
    },
    {
     "data": {
      "text/html": [
       "'802/1056 - Downloading data for site 03102850'"
      ],
      "text/latex": [
       "'802/1056 - Downloading data for site 03102850'"
      ],
      "text/markdown": [
       "'802/1056 - Downloading data for site 03102850'"
      ],
      "text/plain": [
       "[1] \"802/1056 - Downloading data for site 03102850\""
      ]
     },
     "metadata": {
      "display_id": "status",
      "update": true
     },
     "output_type": "display_data"
    },
    {
     "name": "stderr",
     "output_type": "stream",
     "text": [
      "GET: https://nwis.waterservices.usgs.gov/nwis/iv/?site=03102850&format=waterml,1.1&ParameterCd=00060&startDT=2014-01-01&endDT=2025-05-08\n",
      "\n"
     ]
    },
    {
     "data": {
      "text/html": [
       "'803/1056 - Downloading data for site 03025500'"
      ],
      "text/latex": [
       "'803/1056 - Downloading data for site 03025500'"
      ],
      "text/markdown": [
       "'803/1056 - Downloading data for site 03025500'"
      ],
      "text/plain": [
       "[1] \"803/1056 - Downloading data for site 03025500\""
      ]
     },
     "metadata": {
      "display_id": "status",
      "update": true
     },
     "output_type": "display_data"
    },
    {
     "name": "stderr",
     "output_type": "stream",
     "text": [
      "GET: https://nwis.waterservices.usgs.gov/nwis/iv/?site=03025500&format=waterml,1.1&ParameterCd=00060&startDT=2014-01-01&endDT=2025-05-08\n",
      "\n"
     ]
    },
    {
     "data": {
      "text/html": [
       "'804/1056 - Downloading data for site 03092090'"
      ],
      "text/latex": [
       "'804/1056 - Downloading data for site 03092090'"
      ],
      "text/markdown": [
       "'804/1056 - Downloading data for site 03092090'"
      ],
      "text/plain": [
       "[1] \"804/1056 - Downloading data for site 03092090\""
      ]
     },
     "metadata": {
      "display_id": "status",
      "update": true
     },
     "output_type": "display_data"
    },
    {
     "name": "stderr",
     "output_type": "stream",
     "text": [
      "GET: https://nwis.waterservices.usgs.gov/nwis/iv/?site=03092090&format=waterml,1.1&ParameterCd=00060&startDT=2014-01-01&endDT=2025-05-08\n",
      "\n",
      "Warning message in value[[3L]](cond):\n",
      "\"Error downloading data for site 03092090 : \"\n"
     ]
    },
    {
     "data": {
      "text/html": [
       "'805/1056 - Downloading data for site 03092450'"
      ],
      "text/latex": [
       "'805/1056 - Downloading data for site 03092450'"
      ],
      "text/markdown": [
       "'805/1056 - Downloading data for site 03092450'"
      ],
      "text/plain": [
       "[1] \"805/1056 - Downloading data for site 03092450\""
      ]
     },
     "metadata": {
      "display_id": "status",
      "update": true
     },
     "output_type": "display_data"
    },
    {
     "name": "stderr",
     "output_type": "stream",
     "text": [
      "GET: https://nwis.waterservices.usgs.gov/nwis/iv/?site=03092450&format=waterml,1.1&ParameterCd=00060&startDT=2014-01-01&endDT=2025-05-08\n",
      "\n",
      "Warning message in doTryCatch(return(expr), name, parentenv, handler):\n",
      "\"No data available for site 03092450\"\n"
     ]
    },
    {
     "data": {
      "text/html": [
       "'806/1056 - Downloading data for site 03092460'"
      ],
      "text/latex": [
       "'806/1056 - Downloading data for site 03092460'"
      ],
      "text/markdown": [
       "'806/1056 - Downloading data for site 03092460'"
      ],
      "text/plain": [
       "[1] \"806/1056 - Downloading data for site 03092460\""
      ]
     },
     "metadata": {
      "display_id": "status",
      "update": true
     },
     "output_type": "display_data"
    },
    {
     "name": "stderr",
     "output_type": "stream",
     "text": [
      "GET: https://nwis.waterservices.usgs.gov/nwis/iv/?site=03092460&format=waterml,1.1&ParameterCd=00060&startDT=2014-01-01&endDT=2025-05-08\n",
      "\n"
     ]
    },
    {
     "data": {
      "text/html": [
       "'807/1056 - Downloading data for site 03094000'"
      ],
      "text/latex": [
       "'807/1056 - Downloading data for site 03094000'"
      ],
      "text/markdown": [
       "'807/1056 - Downloading data for site 03094000'"
      ],
      "text/plain": [
       "[1] \"807/1056 - Downloading data for site 03094000\""
      ]
     },
     "metadata": {
      "display_id": "status",
      "update": true
     },
     "output_type": "display_data"
    },
    {
     "name": "stderr",
     "output_type": "stream",
     "text": [
      "GET: https://nwis.waterservices.usgs.gov/nwis/iv/?site=03094000&format=waterml,1.1&ParameterCd=00060&startDT=2014-01-01&endDT=2025-05-08\n",
      "\n"
     ]
    },
    {
     "data": {
      "text/html": [
       "'808/1056 - Downloading data for site 03093000'"
      ],
      "text/latex": [
       "'808/1056 - Downloading data for site 03093000'"
      ],
      "text/markdown": [
       "'808/1056 - Downloading data for site 03093000'"
      ],
      "text/plain": [
       "[1] \"808/1056 - Downloading data for site 03093000\""
      ]
     },
     "metadata": {
      "display_id": "status",
      "update": true
     },
     "output_type": "display_data"
    },
    {
     "name": "stderr",
     "output_type": "stream",
     "text": [
      "GET: https://nwis.waterservices.usgs.gov/nwis/iv/?site=03093000&format=waterml,1.1&ParameterCd=00060&startDT=2014-01-01&endDT=2025-05-08\n",
      "\n"
     ]
    },
    {
     "data": {
      "text/html": [
       "'809/1056 - Downloading data for site 03095000'"
      ],
      "text/latex": [
       "'809/1056 - Downloading data for site 03095000'"
      ],
      "text/markdown": [
       "'809/1056 - Downloading data for site 03095000'"
      ],
      "text/plain": [
       "[1] \"809/1056 - Downloading data for site 03095000\""
      ]
     },
     "metadata": {
      "display_id": "status",
      "update": true
     },
     "output_type": "display_data"
    },
    {
     "name": "stderr",
     "output_type": "stream",
     "text": [
      "GET: https://nwis.waterservices.usgs.gov/nwis/iv/?site=03095000&format=waterml,1.1&ParameterCd=00060&startDT=2014-01-01&endDT=2025-05-08\n",
      "\n",
      "Warning message in doTryCatch(return(expr), name, parentenv, handler):\n",
      "\"No data available for site 03095000\"\n"
     ]
    },
    {
     "data": {
      "text/html": [
       "'810/1056 - Downloading data for site 03095500'"
      ],
      "text/latex": [
       "'810/1056 - Downloading data for site 03095500'"
      ],
      "text/markdown": [
       "'810/1056 - Downloading data for site 03095500'"
      ],
      "text/plain": [
       "[1] \"810/1056 - Downloading data for site 03095500\""
      ]
     },
     "metadata": {
      "display_id": "status",
      "update": true
     },
     "output_type": "display_data"
    },
    {
     "name": "stderr",
     "output_type": "stream",
     "text": [
      "GET: https://nwis.waterservices.usgs.gov/nwis/iv/?site=03095500&format=waterml,1.1&ParameterCd=00060&startDT=2014-01-01&endDT=2025-05-08\n",
      "\n"
     ]
    },
    {
     "data": {
      "text/html": [
       "'811/1056 - Downloading data for site 03102950'"
      ],
      "text/latex": [
       "'811/1056 - Downloading data for site 03102950'"
      ],
      "text/markdown": [
       "'811/1056 - Downloading data for site 03102950'"
      ],
      "text/plain": [
       "[1] \"811/1056 - Downloading data for site 03102950\""
      ]
     },
     "metadata": {
      "display_id": "status",
      "update": true
     },
     "output_type": "display_data"
    },
    {
     "name": "stderr",
     "output_type": "stream",
     "text": [
      "GET: https://nwis.waterservices.usgs.gov/nwis/iv/?site=03102950&format=waterml,1.1&ParameterCd=00060&startDT=2014-01-01&endDT=2025-05-08\n",
      "\n",
      "Warning message in doTryCatch(return(expr), name, parentenv, handler):\n",
      "\"No data available for site 03102950\"\n"
     ]
    },
    {
     "data": {
      "text/html": [
       "'812/1056 - Downloading data for site 03094704'"
      ],
      "text/latex": [
       "'812/1056 - Downloading data for site 03094704'"
      ],
      "text/markdown": [
       "'812/1056 - Downloading data for site 03094704'"
      ],
      "text/plain": [
       "[1] \"812/1056 - Downloading data for site 03094704\""
      ]
     },
     "metadata": {
      "display_id": "status",
      "update": true
     },
     "output_type": "display_data"
    },
    {
     "name": "stderr",
     "output_type": "stream",
     "text": [
      "GET: https://nwis.waterservices.usgs.gov/nwis/iv/?site=03094704&format=waterml,1.1&ParameterCd=00060&startDT=2014-01-01&endDT=2025-05-08\n",
      "\n"
     ]
    },
    {
     "data": {
      "text/html": [
       "'813/1056 - Downloading data for site 03102500'"
      ],
      "text/latex": [
       "'813/1056 - Downloading data for site 03102500'"
      ],
      "text/markdown": [
       "'813/1056 - Downloading data for site 03102500'"
      ],
      "text/plain": [
       "[1] \"813/1056 - Downloading data for site 03102500\""
      ]
     },
     "metadata": {
      "display_id": "status",
      "update": true
     },
     "output_type": "display_data"
    },
    {
     "name": "stderr",
     "output_type": "stream",
     "text": [
      "GET: https://nwis.waterservices.usgs.gov/nwis/iv/?site=03102500&format=waterml,1.1&ParameterCd=00060&startDT=2014-01-01&endDT=2025-05-08\n",
      "\n"
     ]
    },
    {
     "data": {
      "text/html": [
       "'814/1056 - Downloading data for site 03024000'"
      ],
      "text/latex": [
       "'814/1056 - Downloading data for site 03024000'"
      ],
      "text/markdown": [
       "'814/1056 - Downloading data for site 03024000'"
      ],
      "text/plain": [
       "[1] \"814/1056 - Downloading data for site 03024000\""
      ]
     },
     "metadata": {
      "display_id": "status",
      "update": true
     },
     "output_type": "display_data"
    },
    {
     "name": "stderr",
     "output_type": "stream",
     "text": [
      "GET: https://nwis.waterservices.usgs.gov/nwis/iv/?site=03024000&format=waterml,1.1&ParameterCd=00060&startDT=2014-01-01&endDT=2025-05-08\n",
      "\n"
     ]
    },
    {
     "data": {
      "text/html": [
       "'815/1056 - Downloading data for site 03019500'"
      ],
      "text/latex": [
       "'815/1056 - Downloading data for site 03019500'"
      ],
      "text/markdown": [
       "'815/1056 - Downloading data for site 03019500'"
      ],
      "text/plain": [
       "[1] \"815/1056 - Downloading data for site 03019500\""
      ]
     },
     "metadata": {
      "display_id": "status",
      "update": true
     },
     "output_type": "display_data"
    },
    {
     "name": "stderr",
     "output_type": "stream",
     "text": [
      "GET: https://nwis.waterservices.usgs.gov/nwis/iv/?site=03019500&format=waterml,1.1&ParameterCd=00060&startDT=2014-01-01&endDT=2025-05-08\n",
      "\n",
      "Warning message in doTryCatch(return(expr), name, parentenv, handler):\n",
      "\"No data available for site 03019500\"\n"
     ]
    },
    {
     "data": {
      "text/html": [
       "'816/1056 - Downloading data for site 03020000'"
      ],
      "text/latex": [
       "'816/1056 - Downloading data for site 03020000'"
      ],
      "text/markdown": [
       "'816/1056 - Downloading data for site 03020000'"
      ],
      "text/plain": [
       "[1] \"816/1056 - Downloading data for site 03020000\""
      ]
     },
     "metadata": {
      "display_id": "status",
      "update": true
     },
     "output_type": "display_data"
    },
    {
     "name": "stderr",
     "output_type": "stream",
     "text": [
      "GET: https://nwis.waterservices.usgs.gov/nwis/iv/?site=03020000&format=waterml,1.1&ParameterCd=00060&startDT=2014-01-01&endDT=2025-05-08\n",
      "\n"
     ]
    },
    {
     "data": {
      "text/html": [
       "'817/1056 - Downloading data for site 03020500'"
      ],
      "text/latex": [
       "'817/1056 - Downloading data for site 03020500'"
      ],
      "text/markdown": [
       "'817/1056 - Downloading data for site 03020500'"
      ],
      "text/plain": [
       "[1] \"817/1056 - Downloading data for site 03020500\""
      ]
     },
     "metadata": {
      "display_id": "status",
      "update": true
     },
     "output_type": "display_data"
    },
    {
     "name": "stderr",
     "output_type": "stream",
     "text": [
      "GET: https://nwis.waterservices.usgs.gov/nwis/iv/?site=03020500&format=waterml,1.1&ParameterCd=00060&startDT=2014-01-01&endDT=2025-05-08\n",
      "\n"
     ]
    },
    {
     "data": {
      "text/html": [
       "'818/1056 - Downloading data for site 03101500'"
      ],
      "text/latex": [
       "'818/1056 - Downloading data for site 03101500'"
      ],
      "text/markdown": [
       "'818/1056 - Downloading data for site 03101500'"
      ],
      "text/plain": [
       "[1] \"818/1056 - Downloading data for site 03101500\""
      ]
     },
     "metadata": {
      "display_id": "status",
      "update": true
     },
     "output_type": "display_data"
    },
    {
     "name": "stderr",
     "output_type": "stream",
     "text": [
      "GET: https://nwis.waterservices.usgs.gov/nwis/iv/?site=03101500&format=waterml,1.1&ParameterCd=00060&startDT=2014-01-01&endDT=2025-05-08\n",
      "\n"
     ]
    },
    {
     "data": {
      "text/html": [
       "'819/1056 - Downloading data for site 03023100'"
      ],
      "text/latex": [
       "'819/1056 - Downloading data for site 03023100'"
      ],
      "text/markdown": [
       "'819/1056 - Downloading data for site 03023100'"
      ],
      "text/plain": [
       "[1] \"819/1056 - Downloading data for site 03023100\""
      ]
     },
     "metadata": {
      "display_id": "status",
      "update": true
     },
     "output_type": "display_data"
    },
    {
     "name": "stderr",
     "output_type": "stream",
     "text": [
      "GET: https://nwis.waterservices.usgs.gov/nwis/iv/?site=03023100&format=waterml,1.1&ParameterCd=00060&startDT=2014-01-01&endDT=2025-05-08\n",
      "\n"
     ]
    },
    {
     "data": {
      "text/html": [
       "'820/1056 - Downloading data for site 03022540'"
      ],
      "text/latex": [
       "'820/1056 - Downloading data for site 03022540'"
      ],
      "text/markdown": [
       "'820/1056 - Downloading data for site 03022540'"
      ],
      "text/plain": [
       "[1] \"820/1056 - Downloading data for site 03022540\""
      ]
     },
     "metadata": {
      "display_id": "status",
      "update": true
     },
     "output_type": "display_data"
    },
    {
     "name": "stderr",
     "output_type": "stream",
     "text": [
      "GET: https://nwis.waterservices.usgs.gov/nwis/iv/?site=03022540&format=waterml,1.1&ParameterCd=00060&startDT=2014-01-01&endDT=2025-05-08\n",
      "\n"
     ]
    },
    {
     "data": {
      "text/html": [
       "'821/1056 - Downloading data for site 03022554'"
      ],
      "text/latex": [
       "'821/1056 - Downloading data for site 03022554'"
      ],
      "text/markdown": [
       "'821/1056 - Downloading data for site 03022554'"
      ],
      "text/plain": [
       "[1] \"821/1056 - Downloading data for site 03022554\""
      ]
     },
     "metadata": {
      "display_id": "status",
      "update": true
     },
     "output_type": "display_data"
    },
    {
     "name": "stderr",
     "output_type": "stream",
     "text": [
      "GET: https://nwis.waterservices.usgs.gov/nwis/iv/?site=03022554&format=waterml,1.1&ParameterCd=00060&startDT=2014-01-01&endDT=2025-05-08\n",
      "\n"
     ]
    },
    {
     "data": {
      "text/html": [
       "'822/1056 - Downloading data for site 03022550'"
      ],
      "text/latex": [
       "'822/1056 - Downloading data for site 03022550'"
      ],
      "text/markdown": [
       "'822/1056 - Downloading data for site 03022550'"
      ],
      "text/plain": [
       "[1] \"822/1056 - Downloading data for site 03022550\""
      ]
     },
     "metadata": {
      "display_id": "status",
      "update": true
     },
     "output_type": "display_data"
    },
    {
     "name": "stderr",
     "output_type": "stream",
     "text": [
      "GET: https://nwis.waterservices.usgs.gov/nwis/iv/?site=03022550&format=waterml,1.1&ParameterCd=00060&startDT=2014-01-01&endDT=2025-05-08\n",
      "\n",
      "Warning message in doTryCatch(return(expr), name, parentenv, handler):\n",
      "\"No data available for site 03022550\"\n"
     ]
    },
    {
     "data": {
      "text/html": [
       "'823/1056 - Downloading data for site 03021890'"
      ],
      "text/latex": [
       "'823/1056 - Downloading data for site 03021890'"
      ],
      "text/markdown": [
       "'823/1056 - Downloading data for site 03021890'"
      ],
      "text/plain": [
       "[1] \"823/1056 - Downloading data for site 03021890\""
      ]
     },
     "metadata": {
      "display_id": "status",
      "update": true
     },
     "output_type": "display_data"
    },
    {
     "name": "stderr",
     "output_type": "stream",
     "text": [
      "GET: https://nwis.waterservices.usgs.gov/nwis/iv/?site=03021890&format=waterml,1.1&ParameterCd=00060&startDT=2014-01-01&endDT=2025-05-08\n",
      "\n",
      "Warning message in doTryCatch(return(expr), name, parentenv, handler):\n",
      "\"No data available for site 03021890\"\n"
     ]
    },
    {
     "data": {
      "text/html": [
       "'824/1056 - Downloading data for site 03021520'"
      ],
      "text/latex": [
       "'824/1056 - Downloading data for site 03021520'"
      ],
      "text/markdown": [
       "'824/1056 - Downloading data for site 03021520'"
      ],
      "text/plain": [
       "[1] \"824/1056 - Downloading data for site 03021520\""
      ]
     },
     "metadata": {
      "display_id": "status",
      "update": true
     },
     "output_type": "display_data"
    },
    {
     "name": "stderr",
     "output_type": "stream",
     "text": [
      "GET: https://nwis.waterservices.usgs.gov/nwis/iv/?site=03021520&format=waterml,1.1&ParameterCd=00060&startDT=2014-01-01&endDT=2025-05-08\n",
      "\n"
     ]
    },
    {
     "data": {
      "text/html": [
       "'825/1056 - Downloading data for site 03021518'"
      ],
      "text/latex": [
       "'825/1056 - Downloading data for site 03021518'"
      ],
      "text/markdown": [
       "'825/1056 - Downloading data for site 03021518'"
      ],
      "text/plain": [
       "[1] \"825/1056 - Downloading data for site 03021518\""
      ]
     },
     "metadata": {
      "display_id": "status",
      "update": true
     },
     "output_type": "display_data"
    },
    {
     "name": "stderr",
     "output_type": "stream",
     "text": [
      "GET: https://nwis.waterservices.usgs.gov/nwis/iv/?site=03021518&format=waterml,1.1&ParameterCd=00060&startDT=2014-01-01&endDT=2025-05-08\n",
      "\n",
      "Warning message in doTryCatch(return(expr), name, parentenv, handler):\n",
      "\"No data available for site 03021518\"\n"
     ]
    },
    {
     "data": {
      "text/html": [
       "'826/1056 - Downloading data for site 03021350'"
      ],
      "text/latex": [
       "'826/1056 - Downloading data for site 03021350'"
      ],
      "text/markdown": [
       "'826/1056 - Downloading data for site 03021350'"
      ],
      "text/plain": [
       "[1] \"826/1056 - Downloading data for site 03021350\""
      ]
     },
     "metadata": {
      "display_id": "status",
      "update": true
     },
     "output_type": "display_data"
    },
    {
     "name": "stderr",
     "output_type": "stream",
     "text": [
      "GET: https://nwis.waterservices.usgs.gov/nwis/iv/?site=03021350&format=waterml,1.1&ParameterCd=00060&startDT=2014-01-01&endDT=2025-05-08\n",
      "\n"
     ]
    },
    {
     "data": {
      "text/html": [
       "'827/1056 - Downloading data for site 03021410'"
      ],
      "text/latex": [
       "'827/1056 - Downloading data for site 03021410'"
      ],
      "text/markdown": [
       "'827/1056 - Downloading data for site 03021410'"
      ],
      "text/plain": [
       "[1] \"827/1056 - Downloading data for site 03021410\""
      ]
     },
     "metadata": {
      "display_id": "status",
      "update": true
     },
     "output_type": "display_data"
    },
    {
     "name": "stderr",
     "output_type": "stream",
     "text": [
      "GET: https://nwis.waterservices.usgs.gov/nwis/iv/?site=03021410&format=waterml,1.1&ParameterCd=00060&startDT=2014-01-01&endDT=2025-05-08\n",
      "\n",
      "Warning message in doTryCatch(return(expr), name, parentenv, handler):\n",
      "\"No data available for site 03021410\"\n"
     ]
    },
    {
     "data": {
      "text/html": [
       "'828/1056 - Downloading data for site 03232300'"
      ],
      "text/latex": [
       "'828/1056 - Downloading data for site 03232300'"
      ],
      "text/markdown": [
       "'828/1056 - Downloading data for site 03232300'"
      ],
      "text/plain": [
       "[1] \"828/1056 - Downloading data for site 03232300\""
      ]
     },
     "metadata": {
      "display_id": "status",
      "update": true
     },
     "output_type": "display_data"
    },
    {
     "name": "stderr",
     "output_type": "stream",
     "text": [
      "GET: https://nwis.waterservices.usgs.gov/nwis/iv/?site=03232300&format=waterml,1.1&ParameterCd=00060&startDT=2014-01-01&endDT=2025-05-08\n",
      "\n",
      "Warning message in doTryCatch(return(expr), name, parentenv, handler):\n",
      "\"No data available for site 03232300\"\n"
     ]
    },
    {
     "data": {
      "text/html": [
       "'829/1056 - Downloading data for site 03232000'"
      ],
      "text/latex": [
       "'829/1056 - Downloading data for site 03232000'"
      ],
      "text/markdown": [
       "'829/1056 - Downloading data for site 03232000'"
      ],
      "text/plain": [
       "[1] \"829/1056 - Downloading data for site 03232000\""
      ]
     },
     "metadata": {
      "display_id": "status",
      "update": true
     },
     "output_type": "display_data"
    },
    {
     "name": "stderr",
     "output_type": "stream",
     "text": [
      "GET: https://nwis.waterservices.usgs.gov/nwis/iv/?site=03232000&format=waterml,1.1&ParameterCd=00060&startDT=2014-01-01&endDT=2025-05-08\n",
      "\n"
     ]
    },
    {
     "data": {
      "text/html": [
       "'830/1056 - Downloading data for site 03242350'"
      ],
      "text/latex": [
       "'830/1056 - Downloading data for site 03242350'"
      ],
      "text/markdown": [
       "'830/1056 - Downloading data for site 03242350'"
      ],
      "text/plain": [
       "[1] \"830/1056 - Downloading data for site 03242350\""
      ]
     },
     "metadata": {
      "display_id": "status",
      "update": true
     },
     "output_type": "display_data"
    },
    {
     "name": "stderr",
     "output_type": "stream",
     "text": [
      "GET: https://nwis.waterservices.usgs.gov/nwis/iv/?site=03242350&format=waterml,1.1&ParameterCd=00060&startDT=2014-01-01&endDT=2025-05-08\n",
      "\n",
      "Warning message in doTryCatch(return(expr), name, parentenv, handler):\n",
      "\"No data available for site 03242350\"\n"
     ]
    },
    {
     "data": {
      "text/html": [
       "'831/1056 - Downloading data for site 03242340'"
      ],
      "text/latex": [
       "'831/1056 - Downloading data for site 03242340'"
      ],
      "text/markdown": [
       "'831/1056 - Downloading data for site 03242340'"
      ],
      "text/plain": [
       "[1] \"831/1056 - Downloading data for site 03242340\""
      ]
     },
     "metadata": {
      "display_id": "status",
      "update": true
     },
     "output_type": "display_data"
    },
    {
     "name": "stderr",
     "output_type": "stream",
     "text": [
      "GET: https://nwis.waterservices.usgs.gov/nwis/iv/?site=03242340&format=waterml,1.1&ParameterCd=00060&startDT=2014-01-01&endDT=2025-05-08\n",
      "\n",
      "Warning message in doTryCatch(return(expr), name, parentenv, handler):\n",
      "\"No data available for site 03242340\"\n"
     ]
    },
    {
     "data": {
      "text/html": [
       "'832/1056 - Downloading data for site 03271620'"
      ],
      "text/latex": [
       "'832/1056 - Downloading data for site 03271620'"
      ],
      "text/markdown": [
       "'832/1056 - Downloading data for site 03271620'"
      ],
      "text/plain": [
       "[1] \"832/1056 - Downloading data for site 03271620\""
      ]
     },
     "metadata": {
      "display_id": "status",
      "update": true
     },
     "output_type": "display_data"
    },
    {
     "name": "stderr",
     "output_type": "stream",
     "text": [
      "GET: https://nwis.waterservices.usgs.gov/nwis/iv/?site=03271620&format=waterml,1.1&ParameterCd=00060&startDT=2014-01-01&endDT=2025-05-08\n",
      "\n"
     ]
    },
    {
     "data": {
      "text/html": [
       "'833/1056 - Downloading data for site 03242050'"
      ],
      "text/latex": [
       "'833/1056 - Downloading data for site 03242050'"
      ],
      "text/markdown": [
       "'833/1056 - Downloading data for site 03242050'"
      ],
      "text/plain": [
       "[1] \"833/1056 - Downloading data for site 03242050\""
      ]
     },
     "metadata": {
      "display_id": "status",
      "update": true
     },
     "output_type": "display_data"
    },
    {
     "name": "stderr",
     "output_type": "stream",
     "text": [
      "GET: https://nwis.waterservices.usgs.gov/nwis/iv/?site=03242050&format=waterml,1.1&ParameterCd=00060&startDT=2014-01-01&endDT=2025-05-08\n",
      "\n",
      "Warning message in doTryCatch(return(expr), name, parentenv, handler):\n",
      "\"No data available for site 03242050\"\n"
     ]
    },
    {
     "data": {
      "text/html": [
       "'834/1056 - Downloading data for site 03271500'"
      ],
      "text/latex": [
       "'834/1056 - Downloading data for site 03271500'"
      ],
      "text/markdown": [
       "'834/1056 - Downloading data for site 03271500'"
      ],
      "text/plain": [
       "[1] \"834/1056 - Downloading data for site 03271500\""
      ]
     },
     "metadata": {
      "display_id": "status",
      "update": true
     },
     "output_type": "display_data"
    },
    {
     "name": "stderr",
     "output_type": "stream",
     "text": [
      "GET: https://nwis.waterservices.usgs.gov/nwis/iv/?site=03271500&format=waterml,1.1&ParameterCd=00060&startDT=2014-01-01&endDT=2025-05-08\n",
      "\n"
     ]
    },
    {
     "data": {
      "text/html": [
       "'835/1056 - Downloading data for site 03271300'"
      ],
      "text/latex": [
       "'835/1056 - Downloading data for site 03271300'"
      ],
      "text/markdown": [
       "'835/1056 - Downloading data for site 03271300'"
      ],
      "text/plain": [
       "[1] \"835/1056 - Downloading data for site 03271300\""
      ]
     },
     "metadata": {
      "display_id": "status",
      "update": true
     },
     "output_type": "display_data"
    },
    {
     "name": "stderr",
     "output_type": "stream",
     "text": [
      "GET: https://nwis.waterservices.usgs.gov/nwis/iv/?site=03271300&format=waterml,1.1&ParameterCd=00060&startDT=2014-01-01&endDT=2025-05-08\n",
      "\n"
     ]
    },
    {
     "data": {
      "text/html": [
       "'836/1056 - Downloading data for site 03271207'"
      ],
      "text/latex": [
       "'836/1056 - Downloading data for site 03271207'"
      ],
      "text/markdown": [
       "'836/1056 - Downloading data for site 03271207'"
      ],
      "text/plain": [
       "[1] \"836/1056 - Downloading data for site 03271207\""
      ]
     },
     "metadata": {
      "display_id": "status",
      "update": true
     },
     "output_type": "display_data"
    },
    {
     "name": "stderr",
     "output_type": "stream",
     "text": [
      "GET: https://nwis.waterservices.usgs.gov/nwis/iv/?site=03271207&format=waterml,1.1&ParameterCd=00060&startDT=2014-01-01&endDT=2025-05-08\n",
      "\n",
      "Warning message in doTryCatch(return(expr), name, parentenv, handler):\n",
      "\"No data available for site 03271207\"\n"
     ]
    },
    {
     "data": {
      "text/html": [
       "'837/1056 - Downloading data for site 03241500'"
      ],
      "text/latex": [
       "'837/1056 - Downloading data for site 03241500'"
      ],
      "text/markdown": [
       "'837/1056 - Downloading data for site 03241500'"
      ],
      "text/plain": [
       "[1] \"837/1056 - Downloading data for site 03241500\""
      ]
     },
     "metadata": {
      "display_id": "status",
      "update": true
     },
     "output_type": "display_data"
    },
    {
     "name": "stderr",
     "output_type": "stream",
     "text": [
      "GET: https://nwis.waterservices.usgs.gov/nwis/iv/?site=03241500&format=waterml,1.1&ParameterCd=00060&startDT=2014-01-01&endDT=2025-05-08\n",
      "\n"
     ]
    },
    {
     "data": {
      "text/html": [
       "'838/1056 - Downloading data for site 03230800'"
      ],
      "text/latex": [
       "'838/1056 - Downloading data for site 03230800'"
      ],
      "text/markdown": [
       "'838/1056 - Downloading data for site 03230800'"
      ],
      "text/plain": [
       "[1] \"838/1056 - Downloading data for site 03230800\""
      ]
     },
     "metadata": {
      "display_id": "status",
      "update": true
     },
     "output_type": "display_data"
    },
    {
     "name": "stderr",
     "output_type": "stream",
     "text": [
      "GET: https://nwis.waterservices.usgs.gov/nwis/iv/?site=03230800&format=waterml,1.1&ParameterCd=00060&startDT=2014-01-01&endDT=2025-05-08\n",
      "\n"
     ]
    },
    {
     "data": {
      "text/html": [
       "'839/1056 - Downloading data for site 03229610'"
      ],
      "text/latex": [
       "'839/1056 - Downloading data for site 03229610'"
      ],
      "text/markdown": [
       "'839/1056 - Downloading data for site 03229610'"
      ],
      "text/plain": [
       "[1] \"839/1056 - Downloading data for site 03229610\""
      ]
     },
     "metadata": {
      "display_id": "status",
      "update": true
     },
     "output_type": "display_data"
    },
    {
     "name": "stderr",
     "output_type": "stream",
     "text": [
      "GET: https://nwis.waterservices.usgs.gov/nwis/iv/?site=03229610&format=waterml,1.1&ParameterCd=00060&startDT=2014-01-01&endDT=2025-05-08\n",
      "\n"
     ]
    },
    {
     "data": {
      "text/html": [
       "'840/1056 - Downloading data for site 03230450'"
      ],
      "text/latex": [
       "'840/1056 - Downloading data for site 03230450'"
      ],
      "text/markdown": [
       "'840/1056 - Downloading data for site 03230450'"
      ],
      "text/plain": [
       "[1] \"840/1056 - Downloading data for site 03230450\""
      ]
     },
     "metadata": {
      "display_id": "status",
      "update": true
     },
     "output_type": "display_data"
    },
    {
     "name": "stderr",
     "output_type": "stream",
     "text": [
      "GET: https://nwis.waterservices.usgs.gov/nwis/iv/?site=03230450&format=waterml,1.1&ParameterCd=00060&startDT=2014-01-01&endDT=2025-05-08\n",
      "\n"
     ]
    },
    {
     "data": {
      "text/html": [
       "'841/1056 - Downloading data for site 03229500'"
      ],
      "text/latex": [
       "'841/1056 - Downloading data for site 03229500'"
      ],
      "text/markdown": [
       "'841/1056 - Downloading data for site 03229500'"
      ],
      "text/plain": [
       "[1] \"841/1056 - Downloading data for site 03229500\""
      ]
     },
     "metadata": {
      "display_id": "status",
      "update": true
     },
     "output_type": "display_data"
    },
    {
     "name": "stderr",
     "output_type": "stream",
     "text": [
      "GET: https://nwis.waterservices.usgs.gov/nwis/iv/?site=03229500&format=waterml,1.1&ParameterCd=00060&startDT=2014-01-01&endDT=2025-05-08\n",
      "\n"
     ]
    },
    {
     "data": {
      "text/html": [
       "'842/1056 - Downloading data for site 395245082435800'"
      ],
      "text/latex": [
       "'842/1056 - Downloading data for site 395245082435800'"
      ],
      "text/markdown": [
       "'842/1056 - Downloading data for site 395245082435800'"
      ],
      "text/plain": [
       "[1] \"842/1056 - Downloading data for site 395245082435800\""
      ]
     },
     "metadata": {
      "display_id": "status",
      "update": true
     },
     "output_type": "display_data"
    },
    {
     "name": "stderr",
     "output_type": "stream",
     "text": [
      "GET: https://nwis.waterservices.usgs.gov/nwis/iv/?site=395245082435800&format=waterml,1.1&ParameterCd=00060&startDT=2014-01-01&endDT=2025-05-08\n",
      "\n",
      "Warning message in doTryCatch(return(expr), name, parentenv, handler):\n",
      "\"No data available for site 395245082435800\"\n"
     ]
    },
    {
     "data": {
      "text/html": [
       "'843/1056 - Downloading data for site 03227500'"
      ],
      "text/latex": [
       "'843/1056 - Downloading data for site 03227500'"
      ],
      "text/markdown": [
       "'843/1056 - Downloading data for site 03227500'"
      ],
      "text/plain": [
       "[1] \"843/1056 - Downloading data for site 03227500\""
      ]
     },
     "metadata": {
      "display_id": "status",
      "update": true
     },
     "output_type": "display_data"
    },
    {
     "name": "stderr",
     "output_type": "stream",
     "text": [
      "GET: https://nwis.waterservices.usgs.gov/nwis/iv/?site=03227500&format=waterml,1.1&ParameterCd=00060&startDT=2014-01-01&endDT=2025-05-08\n",
      "\n"
     ]
    },
    {
     "data": {
      "text/html": [
       "'844/1056 - Downloading data for site 395540082291600'"
      ],
      "text/latex": [
       "'844/1056 - Downloading data for site 395540082291600'"
      ],
      "text/markdown": [
       "'844/1056 - Downloading data for site 395540082291600'"
      ],
      "text/plain": [
       "[1] \"844/1056 - Downloading data for site 395540082291600\""
      ]
     },
     "metadata": {
      "display_id": "status",
      "update": true
     },
     "output_type": "display_data"
    },
    {
     "name": "stderr",
     "output_type": "stream",
     "text": [
      "GET: https://nwis.waterservices.usgs.gov/nwis/iv/?site=395540082291600&format=waterml,1.1&ParameterCd=00060&startDT=2014-01-01&endDT=2025-05-08\n",
      "\n",
      "Warning message in doTryCatch(return(expr), name, parentenv, handler):\n",
      "\"No data available for site 395540082291600\"\n"
     ]
    },
    {
     "data": {
      "text/html": [
       "'845/1056 - Downloading data for site 03228689'"
      ],
      "text/latex": [
       "'845/1056 - Downloading data for site 03228689'"
      ],
      "text/markdown": [
       "'845/1056 - Downloading data for site 03228689'"
      ],
      "text/plain": [
       "[1] \"845/1056 - Downloading data for site 03228689\""
      ]
     },
     "metadata": {
      "display_id": "status",
      "update": true
     },
     "output_type": "display_data"
    },
    {
     "name": "stderr",
     "output_type": "stream",
     "text": [
      "GET: https://nwis.waterservices.usgs.gov/nwis/iv/?site=03228689&format=waterml,1.1&ParameterCd=00060&startDT=2014-01-01&endDT=2025-05-08\n",
      "\n"
     ]
    },
    {
     "data": {
      "text/html": [
       "'846/1056 - Downloading data for site 03144950'"
      ],
      "text/latex": [
       "'846/1056 - Downloading data for site 03144950'"
      ],
      "text/markdown": [
       "'846/1056 - Downloading data for site 03144950'"
      ],
      "text/plain": [
       "[1] \"846/1056 - Downloading data for site 03144950\""
      ]
     },
     "metadata": {
      "display_id": "status",
      "update": true
     },
     "output_type": "display_data"
    },
    {
     "name": "stderr",
     "output_type": "stream",
     "text": [
      "GET: https://nwis.waterservices.usgs.gov/nwis/iv/?site=03144950&format=waterml,1.1&ParameterCd=00060&startDT=2014-01-01&endDT=2025-05-08\n",
      "\n",
      "Warning message in doTryCatch(return(expr), name, parentenv, handler):\n",
      "\"No data available for site 03144950\"\n"
     ]
    },
    {
     "data": {
      "text/html": [
       "'847/1056 - Downloading data for site 03230427'"
      ],
      "text/latex": [
       "'847/1056 - Downloading data for site 03230427'"
      ],
      "text/markdown": [
       "'847/1056 - Downloading data for site 03230427'"
      ],
      "text/plain": [
       "[1] \"847/1056 - Downloading data for site 03230427\""
      ]
     },
     "metadata": {
      "display_id": "status",
      "update": true
     },
     "output_type": "display_data"
    },
    {
     "name": "stderr",
     "output_type": "stream",
     "text": [
      "GET: https://nwis.waterservices.usgs.gov/nwis/iv/?site=03230427&format=waterml,1.1&ParameterCd=00060&startDT=2014-01-01&endDT=2025-05-08\n",
      "\n"
     ]
    },
    {
     "data": {
      "text/html": [
       "'848/1056 - Downloading data for site 03240000'"
      ],
      "text/latex": [
       "'848/1056 - Downloading data for site 03240000'"
      ],
      "text/markdown": [
       "'848/1056 - Downloading data for site 03240000'"
      ],
      "text/plain": [
       "[1] \"848/1056 - Downloading data for site 03240000\""
      ]
     },
     "metadata": {
      "display_id": "status",
      "update": true
     },
     "output_type": "display_data"
    },
    {
     "name": "stderr",
     "output_type": "stream",
     "text": [
      "GET: https://nwis.waterservices.usgs.gov/nwis/iv/?site=03240000&format=waterml,1.1&ParameterCd=00060&startDT=2014-01-01&endDT=2025-05-08\n",
      "\n"
     ]
    },
    {
     "data": {
      "text/html": [
       "'849/1056 - Downloading data for site 03270500'"
      ],
      "text/latex": [
       "'849/1056 - Downloading data for site 03270500'"
      ],
      "text/markdown": [
       "'849/1056 - Downloading data for site 03270500'"
      ],
      "text/plain": [
       "[1] \"849/1056 - Downloading data for site 03270500\""
      ]
     },
     "metadata": {
      "display_id": "status",
      "update": true
     },
     "output_type": "display_data"
    },
    {
     "name": "stderr",
     "output_type": "stream",
     "text": [
      "GET: https://nwis.waterservices.usgs.gov/nwis/iv/?site=03270500&format=waterml,1.1&ParameterCd=00060&startDT=2014-01-01&endDT=2025-05-08\n",
      "\n"
     ]
    },
    {
     "data": {
      "text/html": [
       "'850/1056 - Downloading data for site 03271000'"
      ],
      "text/latex": [
       "'850/1056 - Downloading data for site 03271000'"
      ],
      "text/markdown": [
       "'850/1056 - Downloading data for site 03271000'"
      ],
      "text/plain": [
       "[1] \"850/1056 - Downloading data for site 03271000\""
      ]
     },
     "metadata": {
      "display_id": "status",
      "update": true
     },
     "output_type": "display_data"
    },
    {
     "name": "stderr",
     "output_type": "stream",
     "text": [
      "GET: https://nwis.waterservices.usgs.gov/nwis/iv/?site=03271000&format=waterml,1.1&ParameterCd=00060&startDT=2014-01-01&endDT=2025-05-08\n",
      "\n"
     ]
    },
    {
     "data": {
      "text/html": [
       "'851/1056 - Downloading data for site 394653084072100'"
      ],
      "text/latex": [
       "'851/1056 - Downloading data for site 394653084072100'"
      ],
      "text/markdown": [
       "'851/1056 - Downloading data for site 394653084072100'"
      ],
      "text/plain": [
       "[1] \"851/1056 - Downloading data for site 394653084072100\""
      ]
     },
     "metadata": {
      "display_id": "status",
      "update": true
     },
     "output_type": "display_data"
    },
    {
     "name": "stderr",
     "output_type": "stream",
     "text": [
      "GET: https://nwis.waterservices.usgs.gov/nwis/iv/?site=394653084072100&format=waterml,1.1&ParameterCd=00060&startDT=2014-01-01&endDT=2025-05-08\n",
      "\n",
      "Warning message in doTryCatch(return(expr), name, parentenv, handler):\n",
      "\"No data available for site 394653084072100\"\n"
     ]
    },
    {
     "data": {
      "text/html": [
       "'852/1056 - Downloading data for site 03270000'"
      ],
      "text/latex": [
       "'852/1056 - Downloading data for site 03270000'"
      ],
      "text/markdown": [
       "'852/1056 - Downloading data for site 03270000'"
      ],
      "text/plain": [
       "[1] \"852/1056 - Downloading data for site 03270000\""
      ]
     },
     "metadata": {
      "display_id": "status",
      "update": true
     },
     "output_type": "display_data"
    },
    {
     "name": "stderr",
     "output_type": "stream",
     "text": [
      "GET: https://nwis.waterservices.usgs.gov/nwis/iv/?site=03270000&format=waterml,1.1&ParameterCd=00060&startDT=2014-01-01&endDT=2025-05-08\n",
      "\n"
     ]
    },
    {
     "data": {
      "text/html": [
       "'853/1056 - Downloading data for site 03269817'"
      ],
      "text/latex": [
       "'853/1056 - Downloading data for site 03269817'"
      ],
      "text/markdown": [
       "'853/1056 - Downloading data for site 03269817'"
      ],
      "text/plain": [
       "[1] \"853/1056 - Downloading data for site 03269817\""
      ]
     },
     "metadata": {
      "display_id": "status",
      "update": true
     },
     "output_type": "display_data"
    },
    {
     "name": "stderr",
     "output_type": "stream",
     "text": [
      "GET: https://nwis.waterservices.usgs.gov/nwis/iv/?site=03269817&format=waterml,1.1&ParameterCd=00060&startDT=2014-01-01&endDT=2025-05-08\n",
      "\n"
     ]
    },
    {
     "data": {
      "text/html": [
       "'854/1056 - Downloading data for site 03266000'"
      ],
      "text/latex": [
       "'854/1056 - Downloading data for site 03266000'"
      ],
      "text/markdown": [
       "'854/1056 - Downloading data for site 03266000'"
      ],
      "text/plain": [
       "[1] \"854/1056 - Downloading data for site 03266000\""
      ]
     },
     "metadata": {
      "display_id": "status",
      "update": true
     },
     "output_type": "display_data"
    },
    {
     "name": "stderr",
     "output_type": "stream",
     "text": [
      "GET: https://nwis.waterservices.usgs.gov/nwis/iv/?site=03266000&format=waterml,1.1&ParameterCd=00060&startDT=2014-01-01&endDT=2025-05-08\n",
      "\n"
     ]
    },
    {
     "data": {
      "text/html": [
       "'855/1056 - Downloading data for site 03263000'"
      ],
      "text/latex": [
       "'855/1056 - Downloading data for site 03263000'"
      ],
      "text/markdown": [
       "'855/1056 - Downloading data for site 03263000'"
      ],
      "text/plain": [
       "[1] \"855/1056 - Downloading data for site 03263000\""
      ]
     },
     "metadata": {
      "display_id": "status",
      "update": true
     },
     "output_type": "display_data"
    },
    {
     "name": "stderr",
     "output_type": "stream",
     "text": [
      "GET: https://nwis.waterservices.usgs.gov/nwis/iv/?site=03263000&format=waterml,1.1&ParameterCd=00060&startDT=2014-01-01&endDT=2025-05-08\n",
      "\n"
     ]
    },
    {
     "data": {
      "text/html": [
       "'856/1056 - Downloading data for site 03269500'"
      ],
      "text/latex": [
       "'856/1056 - Downloading data for site 03269500'"
      ],
      "text/markdown": [
       "'856/1056 - Downloading data for site 03269500'"
      ],
      "text/plain": [
       "[1] \"856/1056 - Downloading data for site 03269500\""
      ]
     },
     "metadata": {
      "display_id": "status",
      "update": true
     },
     "output_type": "display_data"
    },
    {
     "name": "stderr",
     "output_type": "stream",
     "text": [
      "GET: https://nwis.waterservices.usgs.gov/nwis/iv/?site=03269500&format=waterml,1.1&ParameterCd=00060&startDT=2014-01-01&endDT=2025-05-08\n",
      "\n"
     ]
    },
    {
     "data": {
      "text/html": [
       "'857/1056 - Downloading data for site 03268090'"
      ],
      "text/latex": [
       "'857/1056 - Downloading data for site 03268090'"
      ],
      "text/markdown": [
       "'857/1056 - Downloading data for site 03268090'"
      ],
      "text/plain": [
       "[1] \"857/1056 - Downloading data for site 03268090\""
      ]
     },
     "metadata": {
      "display_id": "status",
      "update": true
     },
     "output_type": "display_data"
    },
    {
     "name": "stderr",
     "output_type": "stream",
     "text": [
      "GET: https://nwis.waterservices.usgs.gov/nwis/iv/?site=03268090&format=waterml,1.1&ParameterCd=00060&startDT=2014-01-01&endDT=2025-05-08\n",
      "\n",
      "Warning message in doTryCatch(return(expr), name, parentenv, handler):\n",
      "\"No data available for site 03268090\"\n"
     ]
    },
    {
     "data": {
      "text/html": [
       "'858/1056 - Downloading data for site 03229000'"
      ],
      "text/latex": [
       "'858/1056 - Downloading data for site 03229000'"
      ],
      "text/markdown": [
       "'858/1056 - Downloading data for site 03229000'"
      ],
      "text/plain": [
       "[1] \"858/1056 - Downloading data for site 03229000\""
      ]
     },
     "metadata": {
      "display_id": "status",
      "update": true
     },
     "output_type": "display_data"
    },
    {
     "name": "stderr",
     "output_type": "stream",
     "text": [
      "GET: https://nwis.waterservices.usgs.gov/nwis/iv/?site=03229000&format=waterml,1.1&ParameterCd=00060&startDT=2014-01-01&endDT=2025-05-08\n",
      "\n",
      "Warning message in value[[3L]](cond):\n",
      "\"Error downloading data for site 03229000 : \"\n"
     ]
    },
    {
     "data": {
      "text/html": [
       "'859/1056 - Downloading data for site 03230310'"
      ],
      "text/latex": [
       "'859/1056 - Downloading data for site 03230310'"
      ],
      "text/markdown": [
       "'859/1056 - Downloading data for site 03230310'"
      ],
      "text/plain": [
       "[1] \"859/1056 - Downloading data for site 03230310\""
      ]
     },
     "metadata": {
      "display_id": "status",
      "update": true
     },
     "output_type": "display_data"
    },
    {
     "name": "stderr",
     "output_type": "stream",
     "text": [
      "GET: https://nwis.waterservices.usgs.gov/nwis/iv/?site=03230310&format=waterml,1.1&ParameterCd=00060&startDT=2014-01-01&endDT=2025-05-08\n",
      "\n"
     ]
    },
    {
     "data": {
      "text/html": [
       "'860/1056 - Downloading data for site 03228678'"
      ],
      "text/latex": [
       "'860/1056 - Downloading data for site 03228678'"
      ],
      "text/markdown": [
       "'860/1056 - Downloading data for site 03228678'"
      ],
      "text/plain": [
       "[1] \"860/1056 - Downloading data for site 03228678\""
      ]
     },
     "metadata": {
      "display_id": "status",
      "update": true
     },
     "output_type": "display_data"
    },
    {
     "name": "stderr",
     "output_type": "stream",
     "text": [
      "GET: https://nwis.waterservices.usgs.gov/nwis/iv/?site=03228678&format=waterml,1.1&ParameterCd=00060&startDT=2014-01-01&endDT=2025-05-08\n",
      "\n",
      "Warning message in doTryCatch(return(expr), name, parentenv, handler):\n",
      "\"No data available for site 03228678\"\n"
     ]
    },
    {
     "data": {
      "text/html": [
       "'861/1056 - Downloading data for site 03144816'"
      ],
      "text/latex": [
       "'861/1056 - Downloading data for site 03144816'"
      ],
      "text/markdown": [
       "'861/1056 - Downloading data for site 03144816'"
      ],
      "text/plain": [
       "[1] \"861/1056 - Downloading data for site 03144816\""
      ]
     },
     "metadata": {
      "display_id": "status",
      "update": true
     },
     "output_type": "display_data"
    },
    {
     "name": "stderr",
     "output_type": "stream",
     "text": [
      "GET: https://nwis.waterservices.usgs.gov/nwis/iv/?site=03144816&format=waterml,1.1&ParameterCd=00060&startDT=2014-01-01&endDT=2025-05-08\n",
      "\n"
     ]
    },
    {
     "data": {
      "text/html": [
       "'862/1056 - Downloading data for site 03145000'"
      ],
      "text/latex": [
       "'862/1056 - Downloading data for site 03145000'"
      ],
      "text/markdown": [
       "'862/1056 - Downloading data for site 03145000'"
      ],
      "text/plain": [
       "[1] \"862/1056 - Downloading data for site 03145000\""
      ]
     },
     "metadata": {
      "display_id": "status",
      "update": true
     },
     "output_type": "display_data"
    },
    {
     "name": "stderr",
     "output_type": "stream",
     "text": [
      "GET: https://nwis.waterservices.usgs.gov/nwis/iv/?site=03145000&format=waterml,1.1&ParameterCd=00060&startDT=2014-01-01&endDT=2025-05-08\n",
      "\n"
     ]
    },
    {
     "data": {
      "text/html": [
       "'863/1056 - Downloading data for site 03221646'"
      ],
      "text/latex": [
       "'863/1056 - Downloading data for site 03221646'"
      ],
      "text/markdown": [
       "'863/1056 - Downloading data for site 03221646'"
      ],
      "text/plain": [
       "[1] \"863/1056 - Downloading data for site 03221646\""
      ]
     },
     "metadata": {
      "display_id": "status",
      "update": true
     },
     "output_type": "display_data"
    },
    {
     "name": "stderr",
     "output_type": "stream",
     "text": [
      "GET: https://nwis.waterservices.usgs.gov/nwis/iv/?site=03221646&format=waterml,1.1&ParameterCd=00060&startDT=2014-01-01&endDT=2025-05-08\n",
      "\n"
     ]
    },
    {
     "data": {
      "text/html": [
       "'864/1056 - Downloading data for site 03227107'"
      ],
      "text/latex": [
       "'864/1056 - Downloading data for site 03227107'"
      ],
      "text/markdown": [
       "'864/1056 - Downloading data for site 03227107'"
      ],
      "text/plain": [
       "[1] \"864/1056 - Downloading data for site 03227107\""
      ]
     },
     "metadata": {
      "display_id": "status",
      "update": true
     },
     "output_type": "display_data"
    },
    {
     "name": "stderr",
     "output_type": "stream",
     "text": [
      "GET: https://nwis.waterservices.usgs.gov/nwis/iv/?site=03227107&format=waterml,1.1&ParameterCd=00060&startDT=2014-01-01&endDT=2025-05-08\n",
      "\n"
     ]
    },
    {
     "data": {
      "text/html": [
       "'865/1056 - Downloading data for site 03221500'"
      ],
      "text/latex": [
       "'865/1056 - Downloading data for site 03221500'"
      ],
      "text/markdown": [
       "'865/1056 - Downloading data for site 03221500'"
      ],
      "text/plain": [
       "[1] \"865/1056 - Downloading data for site 03221500\""
      ]
     },
     "metadata": {
      "display_id": "status",
      "update": true
     },
     "output_type": "display_data"
    },
    {
     "name": "stderr",
     "output_type": "stream",
     "text": [
      "GET: https://nwis.waterservices.usgs.gov/nwis/iv/?site=03221500&format=waterml,1.1&ParameterCd=00060&startDT=2014-01-01&endDT=2025-05-08\n",
      "\n",
      "Warning message in doTryCatch(return(expr), name, parentenv, handler):\n",
      "\"No data available for site 03221500\"\n"
     ]
    },
    {
     "data": {
      "text/html": [
       "'866/1056 - Downloading data for site 400150083053401'"
      ],
      "text/latex": [
       "'866/1056 - Downloading data for site 400150083053401'"
      ],
      "text/markdown": [
       "'866/1056 - Downloading data for site 400150083053401'"
      ],
      "text/plain": [
       "[1] \"866/1056 - Downloading data for site 400150083053401\""
      ]
     },
     "metadata": {
      "display_id": "status",
      "update": true
     },
     "output_type": "display_data"
    },
    {
     "name": "stderr",
     "output_type": "stream",
     "text": [
      "GET: https://nwis.waterservices.usgs.gov/nwis/iv/?site=400150083053401&format=waterml,1.1&ParameterCd=00060&startDT=2014-01-01&endDT=2025-05-08\n",
      "\n"
     ]
    },
    {
     "data": {
      "text/html": [
       "'867/1056 - Downloading data for site 400150083053402'"
      ],
      "text/latex": [
       "'867/1056 - Downloading data for site 400150083053402'"
      ],
      "text/markdown": [
       "'867/1056 - Downloading data for site 400150083053402'"
      ],
      "text/plain": [
       "[1] \"867/1056 - Downloading data for site 400150083053402\""
      ]
     },
     "metadata": {
      "display_id": "status",
      "update": true
     },
     "output_type": "display_data"
    },
    {
     "name": "stderr",
     "output_type": "stream",
     "text": [
      "GET: https://nwis.waterservices.usgs.gov/nwis/iv/?site=400150083053402&format=waterml,1.1&ParameterCd=00060&startDT=2014-01-01&endDT=2025-05-08\n",
      "\n"
     ]
    },
    {
     "data": {
      "text/html": [
       "'868/1056 - Downloading data for site 03148000'"
      ],
      "text/latex": [
       "'868/1056 - Downloading data for site 03148000'"
      ],
      "text/markdown": [
       "'868/1056 - Downloading data for site 03148000'"
      ],
      "text/plain": [
       "[1] \"868/1056 - Downloading data for site 03148000\""
      ]
     },
     "metadata": {
      "display_id": "status",
      "update": true
     },
     "output_type": "display_data"
    },
    {
     "name": "stderr",
     "output_type": "stream",
     "text": [
      "GET: https://nwis.waterservices.usgs.gov/nwis/iv/?site=03148000&format=waterml,1.1&ParameterCd=00060&startDT=2014-01-01&endDT=2025-05-08\n",
      "\n",
      "Warning message in doTryCatch(return(expr), name, parentenv, handler):\n",
      "\"No data available for site 03148000\"\n"
     ]
    },
    {
     "data": {
      "text/html": [
       "'869/1056 - Downloading data for site 03147500'"
      ],
      "text/latex": [
       "'869/1056 - Downloading data for site 03147500'"
      ],
      "text/markdown": [
       "'869/1056 - Downloading data for site 03147500'"
      ],
      "text/plain": [
       "[1] \"869/1056 - Downloading data for site 03147500\""
      ]
     },
     "metadata": {
      "display_id": "status",
      "update": true
     },
     "output_type": "display_data"
    },
    {
     "name": "stderr",
     "output_type": "stream",
     "text": [
      "GET: https://nwis.waterservices.usgs.gov/nwis/iv/?site=03147500&format=waterml,1.1&ParameterCd=00060&startDT=2014-01-01&endDT=2025-05-08\n",
      "\n",
      "Warning message in doTryCatch(return(expr), name, parentenv, handler):\n",
      "\"No data available for site 03147500\"\n"
     ]
    },
    {
     "data": {
      "text/html": [
       "'870/1056 - Downloading data for site 03145173'"
      ],
      "text/latex": [
       "'870/1056 - Downloading data for site 03145173'"
      ],
      "text/markdown": [
       "'870/1056 - Downloading data for site 03145173'"
      ],
      "text/plain": [
       "[1] \"870/1056 - Downloading data for site 03145173\""
      ]
     },
     "metadata": {
      "display_id": "status",
      "update": true
     },
     "output_type": "display_data"
    },
    {
     "name": "stderr",
     "output_type": "stream",
     "text": [
      "GET: https://nwis.waterservices.usgs.gov/nwis/iv/?site=03145173&format=waterml,1.1&ParameterCd=00060&startDT=2014-01-01&endDT=2025-05-08\n",
      "\n"
     ]
    },
    {
     "data": {
      "text/html": [
       "'871/1056 - Downloading data for site 03145534'"
      ],
      "text/latex": [
       "'871/1056 - Downloading data for site 03145534'"
      ],
      "text/markdown": [
       "'871/1056 - Downloading data for site 03145534'"
      ],
      "text/plain": [
       "[1] \"871/1056 - Downloading data for site 03145534\""
      ]
     },
     "metadata": {
      "display_id": "status",
      "update": true
     },
     "output_type": "display_data"
    },
    {
     "name": "stderr",
     "output_type": "stream",
     "text": [
      "GET: https://nwis.waterservices.usgs.gov/nwis/iv/?site=03145534&format=waterml,1.1&ParameterCd=00060&startDT=2014-01-01&endDT=2025-05-08\n",
      "\n"
     ]
    },
    {
     "data": {
      "text/html": [
       "'872/1056 - Downloading data for site 03146405'"
      ],
      "text/latex": [
       "'872/1056 - Downloading data for site 03146405'"
      ],
      "text/markdown": [
       "'872/1056 - Downloading data for site 03146405'"
      ],
      "text/plain": [
       "[1] \"872/1056 - Downloading data for site 03146405\""
      ]
     },
     "metadata": {
      "display_id": "status",
      "update": true
     },
     "output_type": "display_data"
    },
    {
     "name": "stderr",
     "output_type": "stream",
     "text": [
      "GET: https://nwis.waterservices.usgs.gov/nwis/iv/?site=03146405&format=waterml,1.1&ParameterCd=00060&startDT=2014-01-01&endDT=2025-05-08\n",
      "\n",
      "Warning message in doTryCatch(return(expr), name, parentenv, handler):\n",
      "\"No data available for site 03146405\"\n"
     ]
    },
    {
     "data": {
      "text/html": [
       "'873/1056 - Downloading data for site 03146500'"
      ],
      "text/latex": [
       "'873/1056 - Downloading data for site 03146500'"
      ],
      "text/markdown": [
       "'873/1056 - Downloading data for site 03146500'"
      ],
      "text/plain": [
       "[1] \"873/1056 - Downloading data for site 03146500\""
      ]
     },
     "metadata": {
      "display_id": "status",
      "update": true
     },
     "output_type": "display_data"
    },
    {
     "name": "stderr",
     "output_type": "stream",
     "text": [
      "GET: https://nwis.waterservices.usgs.gov/nwis/iv/?site=03146500&format=waterml,1.1&ParameterCd=00060&startDT=2014-01-01&endDT=2025-05-08\n",
      "\n"
     ]
    },
    {
     "data": {
      "text/html": [
       "'874/1056 - Downloading data for site 03146402'"
      ],
      "text/latex": [
       "'874/1056 - Downloading data for site 03146402'"
      ],
      "text/markdown": [
       "'874/1056 - Downloading data for site 03146402'"
      ],
      "text/plain": [
       "[1] \"874/1056 - Downloading data for site 03146402\""
      ]
     },
     "metadata": {
      "display_id": "status",
      "update": true
     },
     "output_type": "display_data"
    },
    {
     "name": "stderr",
     "output_type": "stream",
     "text": [
      "GET: https://nwis.waterservices.usgs.gov/nwis/iv/?site=03146402&format=waterml,1.1&ParameterCd=00060&startDT=2014-01-01&endDT=2025-05-08\n",
      "\n"
     ]
    },
    {
     "data": {
      "text/html": [
       "'875/1056 - Downloading data for site 03146277'"
      ],
      "text/latex": [
       "'875/1056 - Downloading data for site 03146277'"
      ],
      "text/markdown": [
       "'875/1056 - Downloading data for site 03146277'"
      ],
      "text/plain": [
       "[1] \"875/1056 - Downloading data for site 03146277\""
      ]
     },
     "metadata": {
      "display_id": "status",
      "update": true
     },
     "output_type": "display_data"
    },
    {
     "name": "stderr",
     "output_type": "stream",
     "text": [
      "GET: https://nwis.waterservices.usgs.gov/nwis/iv/?site=03146277&format=waterml,1.1&ParameterCd=00060&startDT=2014-01-01&endDT=2025-05-08\n",
      "\n",
      "Warning message in doTryCatch(return(expr), name, parentenv, handler):\n",
      "\"No data available for site 03146277\"\n"
     ]
    },
    {
     "data": {
      "text/html": [
       "'876/1056 - Downloading data for site 03144000'"
      ],
      "text/latex": [
       "'876/1056 - Downloading data for site 03144000'"
      ],
      "text/markdown": [
       "'876/1056 - Downloading data for site 03144000'"
      ],
      "text/plain": [
       "[1] \"876/1056 - Downloading data for site 03144000\""
      ]
     },
     "metadata": {
      "display_id": "status",
      "update": true
     },
     "output_type": "display_data"
    },
    {
     "name": "stderr",
     "output_type": "stream",
     "text": [
      "GET: https://nwis.waterservices.usgs.gov/nwis/iv/?site=03144000&format=waterml,1.1&ParameterCd=00060&startDT=2014-01-01&endDT=2025-05-08\n",
      "\n"
     ]
    },
    {
     "data": {
      "text/html": [
       "'877/1056 - Downloading data for site 03144500'"
      ],
      "text/latex": [
       "'877/1056 - Downloading data for site 03144500'"
      ],
      "text/markdown": [
       "'877/1056 - Downloading data for site 03144500'"
      ],
      "text/plain": [
       "[1] \"877/1056 - Downloading data for site 03144500\""
      ]
     },
     "metadata": {
      "display_id": "status",
      "update": true
     },
     "output_type": "display_data"
    },
    {
     "name": "stderr",
     "output_type": "stream",
     "text": [
      "GET: https://nwis.waterservices.usgs.gov/nwis/iv/?site=03144500&format=waterml,1.1&ParameterCd=00060&startDT=2014-01-01&endDT=2025-05-08\n",
      "\n"
     ]
    },
    {
     "data": {
      "text/html": [
       "'878/1056 - Downloading data for site 03275600'"
      ],
      "text/latex": [
       "'878/1056 - Downloading data for site 03275600'"
      ],
      "text/markdown": [
       "'878/1056 - Downloading data for site 03275600'"
      ],
      "text/plain": [
       "[1] \"878/1056 - Downloading data for site 03275600\""
      ]
     },
     "metadata": {
      "display_id": "status",
      "update": true
     },
     "output_type": "display_data"
    },
    {
     "name": "stderr",
     "output_type": "stream",
     "text": [
      "GET: https://nwis.waterservices.usgs.gov/nwis/iv/?site=03275600&format=waterml,1.1&ParameterCd=00060&startDT=2014-01-01&endDT=2025-05-08\n",
      "\n"
     ]
    },
    {
     "data": {
      "text/html": [
       "'879/1056 - Downloading data for site 03275500'"
      ],
      "text/latex": [
       "'879/1056 - Downloading data for site 03275500'"
      ],
      "text/markdown": [
       "'879/1056 - Downloading data for site 03275500'"
      ],
      "text/plain": [
       "[1] \"879/1056 - Downloading data for site 03275500\""
      ]
     },
     "metadata": {
      "display_id": "status",
      "update": true
     },
     "output_type": "display_data"
    },
    {
     "name": "stderr",
     "output_type": "stream",
     "text": [
      "GET: https://nwis.waterservices.usgs.gov/nwis/iv/?site=03275500&format=waterml,1.1&ParameterCd=00060&startDT=2014-01-01&endDT=2025-05-08\n",
      "\n"
     ]
    },
    {
     "data": {
      "text/html": [
       "'880/1056 - Downloading data for site 03274650'"
      ],
      "text/latex": [
       "'880/1056 - Downloading data for site 03274650'"
      ],
      "text/markdown": [
       "'880/1056 - Downloading data for site 03274650'"
      ],
      "text/plain": [
       "[1] \"880/1056 - Downloading data for site 03274650\""
      ]
     },
     "metadata": {
      "display_id": "status",
      "update": true
     },
     "output_type": "display_data"
    },
    {
     "name": "stderr",
     "output_type": "stream",
     "text": [
      "GET: https://nwis.waterservices.usgs.gov/nwis/iv/?site=03274650&format=waterml,1.1&ParameterCd=00060&startDT=2014-01-01&endDT=2025-05-08\n",
      "\n"
     ]
    },
    {
     "data": {
      "text/html": [
       "'881/1056 - Downloading data for site 03265000'"
      ],
      "text/latex": [
       "'881/1056 - Downloading data for site 03265000'"
      ],
      "text/markdown": [
       "'881/1056 - Downloading data for site 03265000'"
      ],
      "text/plain": [
       "[1] \"881/1056 - Downloading data for site 03265000\""
      ]
     },
     "metadata": {
      "display_id": "status",
      "update": true
     },
     "output_type": "display_data"
    },
    {
     "name": "stderr",
     "output_type": "stream",
     "text": [
      "GET: https://nwis.waterservices.usgs.gov/nwis/iv/?site=03265000&format=waterml,1.1&ParameterCd=00060&startDT=2014-01-01&endDT=2025-05-08\n",
      "\n"
     ]
    },
    {
     "data": {
      "text/html": [
       "'882/1056 - Downloading data for site 03264000'"
      ],
      "text/latex": [
       "'882/1056 - Downloading data for site 03264000'"
      ],
      "text/markdown": [
       "'882/1056 - Downloading data for site 03264000'"
      ],
      "text/plain": [
       "[1] \"882/1056 - Downloading data for site 03264000\""
      ]
     },
     "metadata": {
      "display_id": "status",
      "update": true
     },
     "output_type": "display_data"
    },
    {
     "name": "stderr",
     "output_type": "stream",
     "text": [
      "GET: https://nwis.waterservices.usgs.gov/nwis/iv/?site=03264000&format=waterml,1.1&ParameterCd=00060&startDT=2014-01-01&endDT=2025-05-08\n",
      "\n"
     ]
    },
    {
     "data": {
      "text/html": [
       "'883/1056 - Downloading data for site 03325519'"
      ],
      "text/latex": [
       "'883/1056 - Downloading data for site 03325519'"
      ],
      "text/markdown": [
       "'883/1056 - Downloading data for site 03325519'"
      ],
      "text/plain": [
       "[1] \"883/1056 - Downloading data for site 03325519\""
      ]
     },
     "metadata": {
      "display_id": "status",
      "update": true
     },
     "output_type": "display_data"
    },
    {
     "name": "stderr",
     "output_type": "stream",
     "text": [
      "GET: https://nwis.waterservices.usgs.gov/nwis/iv/?site=03325519&format=waterml,1.1&ParameterCd=00060&startDT=2014-01-01&endDT=2025-05-08\n",
      "\n"
     ]
    },
    {
     "data": {
      "text/html": [
       "'884/1056 - Downloading data for site 03261950'"
      ],
      "text/latex": [
       "'884/1056 - Downloading data for site 03261950'"
      ],
      "text/markdown": [
       "'884/1056 - Downloading data for site 03261950'"
      ],
      "text/plain": [
       "[1] \"884/1056 - Downloading data for site 03261950\""
      ]
     },
     "metadata": {
      "display_id": "status",
      "update": true
     },
     "output_type": "display_data"
    },
    {
     "name": "stderr",
     "output_type": "stream",
     "text": [
      "GET: https://nwis.waterservices.usgs.gov/nwis/iv/?site=03261950&format=waterml,1.1&ParameterCd=00060&startDT=2014-01-01&endDT=2025-05-08\n",
      "\n"
     ]
    },
    {
     "data": {
      "text/html": [
       "'885/1056 - Downloading data for site 03261800'"
      ],
      "text/latex": [
       "'885/1056 - Downloading data for site 03261800'"
      ],
      "text/markdown": [
       "'885/1056 - Downloading data for site 03261800'"
      ],
      "text/plain": [
       "[1] \"885/1056 - Downloading data for site 03261800\""
      ]
     },
     "metadata": {
      "display_id": "status",
      "update": true
     },
     "output_type": "display_data"
    },
    {
     "name": "stderr",
     "output_type": "stream",
     "text": [
      "GET: https://nwis.waterservices.usgs.gov/nwis/iv/?site=03261800&format=waterml,1.1&ParameterCd=00060&startDT=2014-01-01&endDT=2025-05-08\n",
      "\n",
      "Warning message in doTryCatch(return(expr), name, parentenv, handler):\n",
      "\"No data available for site 03261800\"\n"
     ]
    },
    {
     "data": {
      "text/html": [
       "'886/1056 - Downloading data for site 402304084230100'"
      ],
      "text/latex": [
       "'886/1056 - Downloading data for site 402304084230100'"
      ],
      "text/markdown": [
       "'886/1056 - Downloading data for site 402304084230100'"
      ],
      "text/plain": [
       "[1] \"886/1056 - Downloading data for site 402304084230100\""
      ]
     },
     "metadata": {
      "display_id": "status",
      "update": true
     },
     "output_type": "display_data"
    },
    {
     "name": "stderr",
     "output_type": "stream",
     "text": [
      "GET: https://nwis.waterservices.usgs.gov/nwis/iv/?site=402304084230100&format=waterml,1.1&ParameterCd=00060&startDT=2014-01-01&endDT=2025-05-08\n",
      "\n"
     ]
    },
    {
     "data": {
      "text/html": [
       "'887/1056 - Downloading data for site 03324200'"
      ],
      "text/latex": [
       "'887/1056 - Downloading data for site 03324200'"
      ],
      "text/markdown": [
       "'887/1056 - Downloading data for site 03324200'"
      ],
      "text/plain": [
       "[1] \"887/1056 - Downloading data for site 03324200\""
      ]
     },
     "metadata": {
      "display_id": "status",
      "update": true
     },
     "output_type": "display_data"
    },
    {
     "name": "stderr",
     "output_type": "stream",
     "text": [
      "GET: https://nwis.waterservices.usgs.gov/nwis/iv/?site=03324200&format=waterml,1.1&ParameterCd=00060&startDT=2014-01-01&endDT=2025-05-08\n",
      "\n"
     ]
    },
    {
     "data": {
      "text/html": [
       "'888/1056 - Downloading data for site 03268100'"
      ],
      "text/latex": [
       "'888/1056 - Downloading data for site 03268100'"
      ],
      "text/markdown": [
       "'888/1056 - Downloading data for site 03268100'"
      ],
      "text/plain": [
       "[1] \"888/1056 - Downloading data for site 03268100\""
      ]
     },
     "metadata": {
      "display_id": "status",
      "update": true
     },
     "output_type": "display_data"
    },
    {
     "name": "stderr",
     "output_type": "stream",
     "text": [
      "GET: https://nwis.waterservices.usgs.gov/nwis/iv/?site=03268100&format=waterml,1.1&ParameterCd=00060&startDT=2014-01-01&endDT=2025-05-08\n",
      "\n",
      "Warning message in doTryCatch(return(expr), name, parentenv, handler):\n",
      "\"No data available for site 03268100\"\n"
     ]
    },
    {
     "data": {
      "text/html": [
       "'889/1056 - Downloading data for site 03267900'"
      ],
      "text/latex": [
       "'889/1056 - Downloading data for site 03267900'"
      ],
      "text/markdown": [
       "'889/1056 - Downloading data for site 03267900'"
      ],
      "text/plain": [
       "[1] \"889/1056 - Downloading data for site 03267900\""
      ]
     },
     "metadata": {
      "display_id": "status",
      "update": true
     },
     "output_type": "display_data"
    },
    {
     "name": "stderr",
     "output_type": "stream",
     "text": [
      "GET: https://nwis.waterservices.usgs.gov/nwis/iv/?site=03267900&format=waterml,1.1&ParameterCd=00060&startDT=2014-01-01&endDT=2025-05-08\n",
      "\n"
     ]
    },
    {
     "data": {
      "text/html": [
       "'890/1056 - Downloading data for site 03262700'"
      ],
      "text/latex": [
       "'890/1056 - Downloading data for site 03262700'"
      ],
      "text/markdown": [
       "'890/1056 - Downloading data for site 03262700'"
      ],
      "text/plain": [
       "[1] \"890/1056 - Downloading data for site 03262700\""
      ]
     },
     "metadata": {
      "display_id": "status",
      "update": true
     },
     "output_type": "display_data"
    },
    {
     "name": "stderr",
     "output_type": "stream",
     "text": [
      "GET: https://nwis.waterservices.usgs.gov/nwis/iv/?site=03262700&format=waterml,1.1&ParameterCd=00060&startDT=2014-01-01&endDT=2025-05-08\n",
      "\n"
     ]
    },
    {
     "data": {
      "text/html": [
       "'891/1056 - Downloading data for site 03267000'"
      ],
      "text/latex": [
       "'891/1056 - Downloading data for site 03267000'"
      ],
      "text/markdown": [
       "'891/1056 - Downloading data for site 03267000'"
      ],
      "text/plain": [
       "[1] \"891/1056 - Downloading data for site 03267000\""
      ]
     },
     "metadata": {
      "display_id": "status",
      "update": true
     },
     "output_type": "display_data"
    },
    {
     "name": "stderr",
     "output_type": "stream",
     "text": [
      "GET: https://nwis.waterservices.usgs.gov/nwis/iv/?site=03267000&format=waterml,1.1&ParameterCd=00060&startDT=2014-01-01&endDT=2025-05-08\n",
      "\n"
     ]
    },
    {
     "data": {
      "text/html": [
       "'892/1056 - Downloading data for site 03262500'"
      ],
      "text/latex": [
       "'892/1056 - Downloading data for site 03262500'"
      ],
      "text/markdown": [
       "'892/1056 - Downloading data for site 03262500'"
      ],
      "text/plain": [
       "[1] \"892/1056 - Downloading data for site 03262500\""
      ]
     },
     "metadata": {
      "display_id": "status",
      "update": true
     },
     "output_type": "display_data"
    },
    {
     "name": "stderr",
     "output_type": "stream",
     "text": [
      "GET: https://nwis.waterservices.usgs.gov/nwis/iv/?site=03262500&format=waterml,1.1&ParameterCd=00060&startDT=2014-01-01&endDT=2025-05-08\n",
      "\n"
     ]
    },
    {
     "data": {
      "text/html": [
       "'893/1056 - Downloading data for site 03262000'"
      ],
      "text/latex": [
       "'893/1056 - Downloading data for site 03262000'"
      ],
      "text/markdown": [
       "'893/1056 - Downloading data for site 03262000'"
      ],
      "text/plain": [
       "[1] \"893/1056 - Downloading data for site 03262000\""
      ]
     },
     "metadata": {
      "display_id": "status",
      "update": true
     },
     "output_type": "display_data"
    },
    {
     "name": "stderr",
     "output_type": "stream",
     "text": [
      "GET: https://nwis.waterservices.usgs.gov/nwis/iv/?site=03262000&format=waterml,1.1&ParameterCd=00060&startDT=2014-01-01&endDT=2025-05-08\n",
      "\n"
     ]
    },
    {
     "data": {
      "text/html": [
       "'894/1056 - Downloading data for site 03266560'"
      ],
      "text/latex": [
       "'894/1056 - Downloading data for site 03266560'"
      ],
      "text/markdown": [
       "'894/1056 - Downloading data for site 03266560'"
      ],
      "text/plain": [
       "[1] \"894/1056 - Downloading data for site 03266560\""
      ]
     },
     "metadata": {
      "display_id": "status",
      "update": true
     },
     "output_type": "display_data"
    },
    {
     "name": "stderr",
     "output_type": "stream",
     "text": [
      "GET: https://nwis.waterservices.usgs.gov/nwis/iv/?site=03266560&format=waterml,1.1&ParameterCd=00060&startDT=2014-01-01&endDT=2025-05-08\n",
      "\n"
     ]
    },
    {
     "data": {
      "text/html": [
       "'895/1056 - Downloading data for site 03219781'"
      ],
      "text/latex": [
       "'895/1056 - Downloading data for site 03219781'"
      ],
      "text/markdown": [
       "'895/1056 - Downloading data for site 03219781'"
      ],
      "text/plain": [
       "[1] \"895/1056 - Downloading data for site 03219781\""
      ]
     },
     "metadata": {
      "display_id": "status",
      "update": true
     },
     "output_type": "display_data"
    },
    {
     "name": "stderr",
     "output_type": "stream",
     "text": [
      "GET: https://nwis.waterservices.usgs.gov/nwis/iv/?site=03219781&format=waterml,1.1&ParameterCd=00060&startDT=2014-01-01&endDT=2025-05-08\n",
      "\n"
     ]
    },
    {
     "data": {
      "text/html": [
       "'896/1056 - Downloading data for site 03261500'"
      ],
      "text/latex": [
       "'896/1056 - Downloading data for site 03261500'"
      ],
      "text/markdown": [
       "'896/1056 - Downloading data for site 03261500'"
      ],
      "text/plain": [
       "[1] \"896/1056 - Downloading data for site 03261500\""
      ]
     },
     "metadata": {
      "display_id": "status",
      "update": true
     },
     "output_type": "display_data"
    },
    {
     "name": "stderr",
     "output_type": "stream",
     "text": [
      "GET: https://nwis.waterservices.usgs.gov/nwis/iv/?site=03261500&format=waterml,1.1&ParameterCd=00060&startDT=2014-01-01&endDT=2025-05-08\n",
      "\n"
     ]
    },
    {
     "data": {
      "text/html": [
       "'897/1056 - Downloading data for site 03260706'"
      ],
      "text/latex": [
       "'897/1056 - Downloading data for site 03260706'"
      ],
      "text/markdown": [
       "'897/1056 - Downloading data for site 03260706'"
      ],
      "text/plain": [
       "[1] \"897/1056 - Downloading data for site 03260706\""
      ]
     },
     "metadata": {
      "display_id": "status",
      "update": true
     },
     "output_type": "display_data"
    },
    {
     "name": "stderr",
     "output_type": "stream",
     "text": [
      "GET: https://nwis.waterservices.usgs.gov/nwis/iv/?site=03260706&format=waterml,1.1&ParameterCd=00060&startDT=2014-01-01&endDT=2025-05-08\n",
      "\n"
     ]
    },
    {
     "data": {
      "text/html": [
       "'898/1056 - Downloading data for site 400153083053600'"
      ],
      "text/latex": [
       "'898/1056 - Downloading data for site 400153083053600'"
      ],
      "text/markdown": [
       "'898/1056 - Downloading data for site 400153083053600'"
      ],
      "text/plain": [
       "[1] \"898/1056 - Downloading data for site 400153083053600\""
      ]
     },
     "metadata": {
      "display_id": "status",
      "update": true
     },
     "output_type": "display_data"
    },
    {
     "name": "stderr",
     "output_type": "stream",
     "text": [
      "GET: https://nwis.waterservices.usgs.gov/nwis/iv/?site=400153083053600&format=waterml,1.1&ParameterCd=00060&startDT=2014-01-01&endDT=2025-05-08\n",
      "\n"
     ]
    },
    {
     "data": {
      "text/html": [
       "'899/1056 - Downloading data for site 03145483'"
      ],
      "text/latex": [
       "'899/1056 - Downloading data for site 03145483'"
      ],
      "text/markdown": [
       "'899/1056 - Downloading data for site 03145483'"
      ],
      "text/plain": [
       "[1] \"899/1056 - Downloading data for site 03145483\""
      ]
     },
     "metadata": {
      "display_id": "status",
      "update": true
     },
     "output_type": "display_data"
    },
    {
     "name": "stderr",
     "output_type": "stream",
     "text": [
      "GET: https://nwis.waterservices.usgs.gov/nwis/iv/?site=03145483&format=waterml,1.1&ParameterCd=00060&startDT=2014-01-01&endDT=2025-05-08\n",
      "\n"
     ]
    },
    {
     "data": {
      "text/html": [
       "'900/1056 - Downloading data for site 03228500'"
      ],
      "text/latex": [
       "'900/1056 - Downloading data for site 03228500'"
      ],
      "text/markdown": [
       "'900/1056 - Downloading data for site 03228500'"
      ],
      "text/plain": [
       "[1] \"900/1056 - Downloading data for site 03228500\""
      ]
     },
     "metadata": {
      "display_id": "status",
      "update": true
     },
     "output_type": "display_data"
    },
    {
     "name": "stderr",
     "output_type": "stream",
     "text": [
      "GET: https://nwis.waterservices.usgs.gov/nwis/iv/?site=03228500&format=waterml,1.1&ParameterCd=00060&startDT=2014-01-01&endDT=2025-05-08\n",
      "\n"
     ]
    },
    {
     "data": {
      "text/html": [
       "'901/1056 - Downloading data for site 03228400'"
      ],
      "text/latex": [
       "'901/1056 - Downloading data for site 03228400'"
      ],
      "text/markdown": [
       "'901/1056 - Downloading data for site 03228400'"
      ],
      "text/plain": [
       "[1] \"901/1056 - Downloading data for site 03228400\""
      ]
     },
     "metadata": {
      "display_id": "status",
      "update": true
     },
     "output_type": "display_data"
    },
    {
     "name": "stderr",
     "output_type": "stream",
     "text": [
      "GET: https://nwis.waterservices.usgs.gov/nwis/iv/?site=03228400&format=waterml,1.1&ParameterCd=00060&startDT=2014-01-01&endDT=2025-05-08\n",
      "\n",
      "Warning message in doTryCatch(return(expr), name, parentenv, handler):\n",
      "\"No data available for site 03228400\"\n"
     ]
    },
    {
     "data": {
      "text/html": [
       "'902/1056 - Downloading data for site 03226800'"
      ],
      "text/latex": [
       "'902/1056 - Downloading data for site 03226800'"
      ],
      "text/markdown": [
       "'902/1056 - Downloading data for site 03226800'"
      ],
      "text/plain": [
       "[1] \"902/1056 - Downloading data for site 03226800\""
      ]
     },
     "metadata": {
      "display_id": "status",
      "update": true
     },
     "output_type": "display_data"
    },
    {
     "name": "stderr",
     "output_type": "stream",
     "text": [
      "GET: https://nwis.waterservices.usgs.gov/nwis/iv/?site=03226800&format=waterml,1.1&ParameterCd=00060&startDT=2014-01-01&endDT=2025-05-08\n",
      "\n"
     ]
    },
    {
     "data": {
      "text/html": [
       "'903/1056 - Downloading data for site 03221000'"
      ],
      "text/latex": [
       "'903/1056 - Downloading data for site 03221000'"
      ],
      "text/markdown": [
       "'903/1056 - Downloading data for site 03221000'"
      ],
      "text/plain": [
       "[1] \"903/1056 - Downloading data for site 03221000\""
      ]
     },
     "metadata": {
      "display_id": "status",
      "update": true
     },
     "output_type": "display_data"
    },
    {
     "name": "stderr",
     "output_type": "stream",
     "text": [
      "GET: https://nwis.waterservices.usgs.gov/nwis/iv/?site=03221000&format=waterml,1.1&ParameterCd=00060&startDT=2014-01-01&endDT=2025-05-08\n",
      "\n"
     ]
    },
    {
     "data": {
      "text/html": [
       "'904/1056 - Downloading data for site 03220500'"
      ],
      "text/latex": [
       "'904/1056 - Downloading data for site 03220500'"
      ],
      "text/markdown": [
       "'904/1056 - Downloading data for site 03220500'"
      ],
      "text/plain": [
       "[1] \"904/1056 - Downloading data for site 03220500\""
      ]
     },
     "metadata": {
      "display_id": "status",
      "update": true
     },
     "output_type": "display_data"
    },
    {
     "name": "stderr",
     "output_type": "stream",
     "text": [
      "GET: https://nwis.waterservices.usgs.gov/nwis/iv/?site=03220500&format=waterml,1.1&ParameterCd=00060&startDT=2014-01-01&endDT=2025-05-08\n",
      "\n",
      "Warning message in doTryCatch(return(expr), name, parentenv, handler):\n",
      "\"No data available for site 03220500\"\n"
     ]
    },
    {
     "data": {
      "text/html": [
       "'905/1056 - Downloading data for site 03228805'"
      ],
      "text/latex": [
       "'905/1056 - Downloading data for site 03228805'"
      ],
      "text/markdown": [
       "'905/1056 - Downloading data for site 03228805'"
      ],
      "text/plain": [
       "[1] \"905/1056 - Downloading data for site 03228805\""
      ]
     },
     "metadata": {
      "display_id": "status",
      "update": true
     },
     "output_type": "display_data"
    },
    {
     "name": "stderr",
     "output_type": "stream",
     "text": [
      "GET: https://nwis.waterservices.usgs.gov/nwis/iv/?site=03228805&format=waterml,1.1&ParameterCd=00060&startDT=2014-01-01&endDT=2025-05-08\n",
      "\n"
     ]
    },
    {
     "data": {
      "text/html": [
       "'906/1056 - Downloading data for site 03146000'"
      ],
      "text/latex": [
       "'906/1056 - Downloading data for site 03146000'"
      ],
      "text/markdown": [
       "'906/1056 - Downloading data for site 03146000'"
      ],
      "text/plain": [
       "[1] \"906/1056 - Downloading data for site 03146000\""
      ]
     },
     "metadata": {
      "display_id": "status",
      "update": true
     },
     "output_type": "display_data"
    },
    {
     "name": "stderr",
     "output_type": "stream",
     "text": [
      "GET: https://nwis.waterservices.usgs.gov/nwis/iv/?site=03146000&format=waterml,1.1&ParameterCd=00060&startDT=2014-01-01&endDT=2025-05-08\n",
      "\n"
     ]
    },
    {
     "data": {
      "text/html": [
       "'907/1056 - Downloading data for site 03228300'"
      ],
      "text/latex": [
       "'907/1056 - Downloading data for site 03228300'"
      ],
      "text/markdown": [
       "'907/1056 - Downloading data for site 03228300'"
      ],
      "text/plain": [
       "[1] \"907/1056 - Downloading data for site 03228300\""
      ]
     },
     "metadata": {
      "display_id": "status",
      "update": true
     },
     "output_type": "display_data"
    },
    {
     "name": "stderr",
     "output_type": "stream",
     "text": [
      "GET: https://nwis.waterservices.usgs.gov/nwis/iv/?site=03228300&format=waterml,1.1&ParameterCd=00060&startDT=2014-01-01&endDT=2025-05-08\n",
      "\n"
     ]
    },
    {
     "data": {
      "text/html": [
       "'908/1056 - Downloading data for site 03143500'"
      ],
      "text/latex": [
       "'908/1056 - Downloading data for site 03143500'"
      ],
      "text/markdown": [
       "'908/1056 - Downloading data for site 03143500'"
      ],
      "text/plain": [
       "[1] \"908/1056 - Downloading data for site 03143500\""
      ]
     },
     "metadata": {
      "display_id": "status",
      "update": true
     },
     "output_type": "display_data"
    },
    {
     "name": "stderr",
     "output_type": "stream",
     "text": [
      "GET: https://nwis.waterservices.usgs.gov/nwis/iv/?site=03143500&format=waterml,1.1&ParameterCd=00060&startDT=2014-01-01&endDT=2025-05-08\n",
      "\n",
      "Warning message in doTryCatch(return(expr), name, parentenv, handler):\n",
      "\"No data available for site 03143500\"\n"
     ]
    },
    {
     "data": {
      "text/html": [
       "'909/1056 - Downloading data for site 03140500'"
      ],
      "text/latex": [
       "'909/1056 - Downloading data for site 03140500'"
      ],
      "text/markdown": [
       "'909/1056 - Downloading data for site 03140500'"
      ],
      "text/plain": [
       "[1] \"909/1056 - Downloading data for site 03140500\""
      ]
     },
     "metadata": {
      "display_id": "status",
      "update": true
     },
     "output_type": "display_data"
    },
    {
     "name": "stderr",
     "output_type": "stream",
     "text": [
      "GET: https://nwis.waterservices.usgs.gov/nwis/iv/?site=03140500&format=waterml,1.1&ParameterCd=00060&startDT=2014-01-01&endDT=2025-05-08\n",
      "\n"
     ]
    },
    {
     "data": {
      "text/html": [
       "'910/1056 - Downloading data for site 03139850'"
      ],
      "text/latex": [
       "'910/1056 - Downloading data for site 03139850'"
      ],
      "text/markdown": [
       "'910/1056 - Downloading data for site 03139850'"
      ],
      "text/plain": [
       "[1] \"910/1056 - Downloading data for site 03139850\""
      ]
     },
     "metadata": {
      "display_id": "status",
      "update": true
     },
     "output_type": "display_data"
    },
    {
     "name": "stderr",
     "output_type": "stream",
     "text": [
      "GET: https://nwis.waterservices.usgs.gov/nwis/iv/?site=03139850&format=waterml,1.1&ParameterCd=00060&startDT=2014-01-01&endDT=2025-05-08\n",
      "\n",
      "Warning message in doTryCatch(return(expr), name, parentenv, handler):\n",
      "\"No data available for site 03139850\"\n"
     ]
    },
    {
     "data": {
      "text/html": [
       "'911/1056 - Downloading data for site 03138500'"
      ],
      "text/latex": [
       "'911/1056 - Downloading data for site 03138500'"
      ],
      "text/markdown": [
       "'911/1056 - Downloading data for site 03138500'"
      ],
      "text/plain": [
       "[1] \"911/1056 - Downloading data for site 03138500\""
      ]
     },
     "metadata": {
      "display_id": "status",
      "update": true
     },
     "output_type": "display_data"
    },
    {
     "name": "stderr",
     "output_type": "stream",
     "text": [
      "GET: https://nwis.waterservices.usgs.gov/nwis/iv/?site=03138500&format=waterml,1.1&ParameterCd=00060&startDT=2014-01-01&endDT=2025-05-08\n",
      "\n",
      "Warning message in doTryCatch(return(expr), name, parentenv, handler):\n",
      "\"No data available for site 03138500\"\n"
     ]
    },
    {
     "data": {
      "text/html": [
       "'912/1056 - Downloading data for site 03140000'"
      ],
      "text/latex": [
       "'912/1056 - Downloading data for site 03140000'"
      ],
      "text/markdown": [
       "'912/1056 - Downloading data for site 03140000'"
      ],
      "text/plain": [
       "[1] \"912/1056 - Downloading data for site 03140000\""
      ]
     },
     "metadata": {
      "display_id": "status",
      "update": true
     },
     "output_type": "display_data"
    },
    {
     "name": "stderr",
     "output_type": "stream",
     "text": [
      "GET: https://nwis.waterservices.usgs.gov/nwis/iv/?site=03140000&format=waterml,1.1&ParameterCd=00060&startDT=2014-01-01&endDT=2025-05-08\n",
      "\n"
     ]
    },
    {
     "data": {
      "text/html": [
       "'913/1056 - Downloading data for site 03139000'"
      ],
      "text/latex": [
       "'913/1056 - Downloading data for site 03139000'"
      ],
      "text/markdown": [
       "'913/1056 - Downloading data for site 03139000'"
      ],
      "text/plain": [
       "[1] \"913/1056 - Downloading data for site 03139000\""
      ]
     },
     "metadata": {
      "display_id": "status",
      "update": true
     },
     "output_type": "display_data"
    },
    {
     "name": "stderr",
     "output_type": "stream",
     "text": [
      "GET: https://nwis.waterservices.usgs.gov/nwis/iv/?site=03139000&format=waterml,1.1&ParameterCd=00060&startDT=2014-01-01&endDT=2025-05-08\n",
      "\n"
     ]
    },
    {
     "data": {
      "text/html": [
       "'914/1056 - Downloading data for site 03133500'"
      ],
      "text/latex": [
       "'914/1056 - Downloading data for site 03133500'"
      ],
      "text/markdown": [
       "'914/1056 - Downloading data for site 03133500'"
      ],
      "text/plain": [
       "[1] \"914/1056 - Downloading data for site 03133500\""
      ]
     },
     "metadata": {
      "display_id": "status",
      "update": true
     },
     "output_type": "display_data"
    },
    {
     "name": "stderr",
     "output_type": "stream",
     "text": [
      "GET: https://nwis.waterservices.usgs.gov/nwis/iv/?site=03133500&format=waterml,1.1&ParameterCd=00060&startDT=2014-01-01&endDT=2025-05-08\n",
      "\n",
      "Warning message in doTryCatch(return(expr), name, parentenv, handler):\n",
      "\"No data available for site 03133500\"\n"
     ]
    },
    {
     "data": {
      "text/html": [
       "'915/1056 - Downloading data for site 03131500'"
      ],
      "text/latex": [
       "'915/1056 - Downloading data for site 03131500'"
      ],
      "text/markdown": [
       "'915/1056 - Downloading data for site 03131500'"
      ],
      "text/plain": [
       "[1] \"915/1056 - Downloading data for site 03131500\""
      ]
     },
     "metadata": {
      "display_id": "status",
      "update": true
     },
     "output_type": "display_data"
    },
    {
     "name": "stderr",
     "output_type": "stream",
     "text": [
      "GET: https://nwis.waterservices.usgs.gov/nwis/iv/?site=03131500&format=waterml,1.1&ParameterCd=00060&startDT=2014-01-01&endDT=2025-05-08\n",
      "\n",
      "Warning message in doTryCatch(return(expr), name, parentenv, handler):\n",
      "\"No data available for site 03131500\"\n"
     ]
    },
    {
     "data": {
      "text/html": [
       "'916/1056 - Downloading data for site 03131300'"
      ],
      "text/latex": [
       "'916/1056 - Downloading data for site 03131300'"
      ],
      "text/markdown": [
       "'916/1056 - Downloading data for site 03131300'"
      ],
      "text/plain": [
       "[1] \"916/1056 - Downloading data for site 03131300\""
      ]
     },
     "metadata": {
      "display_id": "status",
      "update": true
     },
     "output_type": "display_data"
    },
    {
     "name": "stderr",
     "output_type": "stream",
     "text": [
      "GET: https://nwis.waterservices.usgs.gov/nwis/iv/?site=03131300&format=waterml,1.1&ParameterCd=00060&startDT=2014-01-01&endDT=2025-05-08\n",
      "\n",
      "Warning message in doTryCatch(return(expr), name, parentenv, handler):\n",
      "\"No data available for site 03131300\"\n"
     ]
    },
    {
     "data": {
      "text/html": [
       "'917/1056 - Downloading data for site 03135000'"
      ],
      "text/latex": [
       "'917/1056 - Downloading data for site 03135000'"
      ],
      "text/markdown": [
       "'917/1056 - Downloading data for site 03135000'"
      ],
      "text/plain": [
       "[1] \"917/1056 - Downloading data for site 03135000\""
      ]
     },
     "metadata": {
      "display_id": "status",
      "update": true
     },
     "output_type": "display_data"
    },
    {
     "name": "stderr",
     "output_type": "stream",
     "text": [
      "GET: https://nwis.waterservices.usgs.gov/nwis/iv/?site=03135000&format=waterml,1.1&ParameterCd=00060&startDT=2014-01-01&endDT=2025-05-08\n",
      "\n",
      "Warning message in doTryCatch(return(expr), name, parentenv, handler):\n",
      "\"No data available for site 03135000\"\n"
     ]
    },
    {
     "data": {
      "text/html": [
       "'918/1056 - Downloading data for site 03220000'"
      ],
      "text/latex": [
       "'918/1056 - Downloading data for site 03220000'"
      ],
      "text/markdown": [
       "'918/1056 - Downloading data for site 03220000'"
      ],
      "text/plain": [
       "[1] \"918/1056 - Downloading data for site 03220000\""
      ]
     },
     "metadata": {
      "display_id": "status",
      "update": true
     },
     "output_type": "display_data"
    },
    {
     "name": "stderr",
     "output_type": "stream",
     "text": [
      "GET: https://nwis.waterservices.usgs.gov/nwis/iv/?site=03220000&format=waterml,1.1&ParameterCd=00060&startDT=2014-01-01&endDT=2025-05-08\n",
      "\n"
     ]
    },
    {
     "data": {
      "text/html": [
       "'919/1056 - Downloading data for site 03225500'"
      ],
      "text/latex": [
       "'919/1056 - Downloading data for site 03225500'"
      ],
      "text/markdown": [
       "'919/1056 - Downloading data for site 03225500'"
      ],
      "text/plain": [
       "[1] \"919/1056 - Downloading data for site 03225500\""
      ]
     },
     "metadata": {
      "display_id": "status",
      "update": true
     },
     "output_type": "display_data"
    },
    {
     "name": "stderr",
     "output_type": "stream",
     "text": [
      "GET: https://nwis.waterservices.usgs.gov/nwis/iv/?site=03225500&format=waterml,1.1&ParameterCd=00060&startDT=2014-01-01&endDT=2025-05-08\n",
      "\n"
     ]
    },
    {
     "data": {
      "text/html": [
       "'920/1056 - Downloading data for site 03228750'"
      ],
      "text/latex": [
       "'920/1056 - Downloading data for site 03228750'"
      ],
      "text/markdown": [
       "'920/1056 - Downloading data for site 03228750'"
      ],
      "text/plain": [
       "[1] \"920/1056 - Downloading data for site 03228750\""
      ]
     },
     "metadata": {
      "display_id": "status",
      "update": true
     },
     "output_type": "display_data"
    },
    {
     "name": "stderr",
     "output_type": "stream",
     "text": [
      "GET: https://nwis.waterservices.usgs.gov/nwis/iv/?site=03228750&format=waterml,1.1&ParameterCd=00060&startDT=2014-01-01&endDT=2025-05-08\n",
      "\n"
     ]
    },
    {
     "data": {
      "text/html": [
       "'921/1056 - Downloading data for site 03136500'"
      ],
      "text/latex": [
       "'921/1056 - Downloading data for site 03136500'"
      ],
      "text/markdown": [
       "'921/1056 - Downloading data for site 03136500'"
      ],
      "text/plain": [
       "[1] \"921/1056 - Downloading data for site 03136500\""
      ]
     },
     "metadata": {
      "display_id": "status",
      "update": true
     },
     "output_type": "display_data"
    },
    {
     "name": "stderr",
     "output_type": "stream",
     "text": [
      "GET: https://nwis.waterservices.usgs.gov/nwis/iv/?site=03136500&format=waterml,1.1&ParameterCd=00060&startDT=2014-01-01&endDT=2025-05-08\n",
      "\n"
     ]
    },
    {
     "data": {
      "text/html": [
       "'922/1056 - Downloading data for site 03219500'"
      ],
      "text/latex": [
       "'922/1056 - Downloading data for site 03219500'"
      ],
      "text/markdown": [
       "'922/1056 - Downloading data for site 03219500'"
      ],
      "text/plain": [
       "[1] \"922/1056 - Downloading data for site 03219500\""
      ]
     },
     "metadata": {
      "display_id": "status",
      "update": true
     },
     "output_type": "display_data"
    },
    {
     "name": "stderr",
     "output_type": "stream",
     "text": [
      "GET: https://nwis.waterservices.usgs.gov/nwis/iv/?site=03219500&format=waterml,1.1&ParameterCd=00060&startDT=2014-01-01&endDT=2025-05-08\n",
      "\n"
     ]
    },
    {
     "data": {
      "text/html": [
       "'923/1056 - Downloading data for site 03223425'"
      ],
      "text/latex": [
       "'923/1056 - Downloading data for site 03223425'"
      ],
      "text/markdown": [
       "'923/1056 - Downloading data for site 03223425'"
      ],
      "text/plain": [
       "[1] \"923/1056 - Downloading data for site 03223425\""
      ]
     },
     "metadata": {
      "display_id": "status",
      "update": true
     },
     "output_type": "display_data"
    },
    {
     "name": "stderr",
     "output_type": "stream",
     "text": [
      "GET: https://nwis.waterservices.usgs.gov/nwis/iv/?site=03223425&format=waterml,1.1&ParameterCd=00060&startDT=2014-01-01&endDT=2025-05-08\n",
      "\n"
     ]
    },
    {
     "data": {
      "text/html": [
       "'924/1056 - Downloading data for site 03223000'"
      ],
      "text/latex": [
       "'924/1056 - Downloading data for site 03223000'"
      ],
      "text/markdown": [
       "'924/1056 - Downloading data for site 03223000'"
      ],
      "text/plain": [
       "[1] \"924/1056 - Downloading data for site 03223000\""
      ]
     },
     "metadata": {
      "display_id": "status",
      "update": true
     },
     "output_type": "display_data"
    },
    {
     "name": "stderr",
     "output_type": "stream",
     "text": [
      "GET: https://nwis.waterservices.usgs.gov/nwis/iv/?site=03223000&format=waterml,1.1&ParameterCd=00060&startDT=2014-01-01&endDT=2025-05-08\n",
      "\n",
      "Warning message in doTryCatch(return(expr), name, parentenv, handler):\n",
      "\"No data available for site 03223000\"\n"
     ]
    },
    {
     "data": {
      "text/html": [
       "'925/1056 - Downloading data for site 03131982'"
      ],
      "text/latex": [
       "'925/1056 - Downloading data for site 03131982'"
      ],
      "text/markdown": [
       "'925/1056 - Downloading data for site 03131982'"
      ],
      "text/plain": [
       "[1] \"925/1056 - Downloading data for site 03131982\""
      ]
     },
     "metadata": {
      "display_id": "status",
      "update": true
     },
     "output_type": "display_data"
    },
    {
     "name": "stderr",
     "output_type": "stream",
     "text": [
      "GET: https://nwis.waterservices.usgs.gov/nwis/iv/?site=03131982&format=waterml,1.1&ParameterCd=00060&startDT=2014-01-01&endDT=2025-05-08\n",
      "\n"
     ]
    },
    {
     "data": {
      "text/html": [
       "'926/1056 - Downloading data for site 03131122'"
      ],
      "text/latex": [
       "'926/1056 - Downloading data for site 03131122'"
      ],
      "text/markdown": [
       "'926/1056 - Downloading data for site 03131122'"
      ],
      "text/plain": [
       "[1] \"926/1056 - Downloading data for site 03131122\""
      ]
     },
     "metadata": {
      "display_id": "status",
      "update": true
     },
     "output_type": "display_data"
    },
    {
     "name": "stderr",
     "output_type": "stream",
     "text": [
      "GET: https://nwis.waterservices.usgs.gov/nwis/iv/?site=03131122&format=waterml,1.1&ParameterCd=00060&startDT=2014-01-01&endDT=2025-05-08\n",
      "\n"
     ]
    },
    {
     "data": {
      "text/html": [
       "'927/1056 - Downloading data for site 03130647'"
      ],
      "text/latex": [
       "'927/1056 - Downloading data for site 03130647'"
      ],
      "text/markdown": [
       "'927/1056 - Downloading data for site 03130647'"
      ],
      "text/plain": [
       "[1] \"927/1056 - Downloading data for site 03130647\""
      ]
     },
     "metadata": {
      "display_id": "status",
      "update": true
     },
     "output_type": "display_data"
    },
    {
     "name": "stderr",
     "output_type": "stream",
     "text": [
      "GET: https://nwis.waterservices.usgs.gov/nwis/iv/?site=03130647&format=waterml,1.1&ParameterCd=00060&startDT=2014-01-01&endDT=2025-05-08\n",
      "\n"
     ]
    },
    {
     "data": {
      "text/html": [
       "'928/1056 - Downloading data for site 03351310'"
      ],
      "text/latex": [
       "'928/1056 - Downloading data for site 03351310'"
      ],
      "text/markdown": [
       "'928/1056 - Downloading data for site 03351310'"
      ],
      "text/plain": [
       "[1] \"928/1056 - Downloading data for site 03351310\""
      ]
     },
     "metadata": {
      "display_id": "status",
      "update": true
     },
     "output_type": "display_data"
    },
    {
     "name": "stderr",
     "output_type": "stream",
     "text": [
      "GET: https://nwis.waterservices.usgs.gov/nwis/iv/?site=03351310&format=waterml,1.1&ParameterCd=00060&startDT=2014-01-01&endDT=2025-05-08\n",
      "\n"
     ]
    },
    {
     "data": {
      "text/html": [
       "'929/1056 - Downloading data for site 03351201'"
      ],
      "text/latex": [
       "'929/1056 - Downloading data for site 03351201'"
      ],
      "text/markdown": [
       "'929/1056 - Downloading data for site 03351201'"
      ],
      "text/plain": [
       "[1] \"929/1056 - Downloading data for site 03351201\""
      ]
     },
     "metadata": {
      "display_id": "status",
      "update": true
     },
     "output_type": "display_data"
    },
    {
     "name": "stderr",
     "output_type": "stream",
     "text": [
      "GET: https://nwis.waterservices.usgs.gov/nwis/iv/?site=03351201&format=waterml,1.1&ParameterCd=00060&startDT=2014-01-01&endDT=2025-05-08\n",
      "\n"
     ]
    },
    {
     "data": {
      "text/html": [
       "'930/1056 - Downloading data for site 03352695'"
      ],
      "text/latex": [
       "'930/1056 - Downloading data for site 03352695'"
      ],
      "text/markdown": [
       "'930/1056 - Downloading data for site 03352695'"
      ],
      "text/plain": [
       "[1] \"930/1056 - Downloading data for site 03352695\""
      ]
     },
     "metadata": {
      "display_id": "status",
      "update": true
     },
     "output_type": "display_data"
    },
    {
     "name": "stderr",
     "output_type": "stream",
     "text": [
      "GET: https://nwis.waterservices.usgs.gov/nwis/iv/?site=03352695&format=waterml,1.1&ParameterCd=00060&startDT=2014-01-01&endDT=2025-05-08\n",
      "\n",
      "Warning message in doTryCatch(return(expr), name, parentenv, handler):\n",
      "\"No data available for site 03352695\"\n"
     ]
    },
    {
     "data": {
      "text/html": [
       "'931/1056 - Downloading data for site 03352500'"
      ],
      "text/latex": [
       "'931/1056 - Downloading data for site 03352500'"
      ],
      "text/markdown": [
       "'931/1056 - Downloading data for site 03352500'"
      ],
      "text/plain": [
       "[1] \"931/1056 - Downloading data for site 03352500\""
      ]
     },
     "metadata": {
      "display_id": "status",
      "update": true
     },
     "output_type": "display_data"
    },
    {
     "name": "stderr",
     "output_type": "stream",
     "text": [
      "GET: https://nwis.waterservices.usgs.gov/nwis/iv/?site=03352500&format=waterml,1.1&ParameterCd=00060&startDT=2014-01-01&endDT=2025-05-08\n",
      "\n"
     ]
    },
    {
     "data": {
      "text/html": [
       "'932/1056 - Downloading data for site 03352690'"
      ],
      "text/latex": [
       "'932/1056 - Downloading data for site 03352690'"
      ],
      "text/markdown": [
       "'932/1056 - Downloading data for site 03352690'"
      ],
      "text/plain": [
       "[1] \"932/1056 - Downloading data for site 03352690\""
      ]
     },
     "metadata": {
      "display_id": "status",
      "update": true
     },
     "output_type": "display_data"
    },
    {
     "name": "stderr",
     "output_type": "stream",
     "text": [
      "GET: https://nwis.waterservices.usgs.gov/nwis/iv/?site=03352690&format=waterml,1.1&ParameterCd=00060&startDT=2014-01-01&endDT=2025-05-08\n",
      "\n",
      "Warning message in doTryCatch(return(expr), name, parentenv, handler):\n",
      "\"No data available for site 03352690\"\n"
     ]
    },
    {
     "data": {
      "text/html": [
       "'933/1056 - Downloading data for site 03351060'"
      ],
      "text/latex": [
       "'933/1056 - Downloading data for site 03351060'"
      ],
      "text/markdown": [
       "'933/1056 - Downloading data for site 03351060'"
      ],
      "text/plain": [
       "[1] \"933/1056 - Downloading data for site 03351060\""
      ]
     },
     "metadata": {
      "display_id": "status",
      "update": true
     },
     "output_type": "display_data"
    },
    {
     "name": "stderr",
     "output_type": "stream",
     "text": [
      "GET: https://nwis.waterservices.usgs.gov/nwis/iv/?site=03351060&format=waterml,1.1&ParameterCd=00060&startDT=2014-01-01&endDT=2025-05-08\n",
      "\n",
      "Warning message in doTryCatch(return(expr), name, parentenv, handler):\n",
      "\"No data available for site 03351060\"\n"
     ]
    },
    {
     "data": {
      "text/html": [
       "'934/1056 - Downloading data for site 03353420'"
      ],
      "text/latex": [
       "'934/1056 - Downloading data for site 03353420'"
      ],
      "text/markdown": [
       "'934/1056 - Downloading data for site 03353420'"
      ],
      "text/plain": [
       "[1] \"934/1056 - Downloading data for site 03353420\""
      ]
     },
     "metadata": {
      "display_id": "status",
      "update": true
     },
     "output_type": "display_data"
    },
    {
     "name": "stderr",
     "output_type": "stream",
     "text": [
      "GET: https://nwis.waterservices.usgs.gov/nwis/iv/?site=03353420&format=waterml,1.1&ParameterCd=00060&startDT=2014-01-01&endDT=2025-05-08\n",
      "\n"
     ]
    },
    {
     "data": {
      "text/html": [
       "'935/1056 - Downloading data for site 03351071'"
      ],
      "text/latex": [
       "'935/1056 - Downloading data for site 03351071'"
      ],
      "text/markdown": [
       "'935/1056 - Downloading data for site 03351071'"
      ],
      "text/plain": [
       "[1] \"935/1056 - Downloading data for site 03351071\""
      ]
     },
     "metadata": {
      "display_id": "status",
      "update": true
     },
     "output_type": "display_data"
    },
    {
     "name": "stderr",
     "output_type": "stream",
     "text": [
      "GET: https://nwis.waterservices.usgs.gov/nwis/iv/?site=03351071&format=waterml,1.1&ParameterCd=00060&startDT=2014-01-01&endDT=2025-05-08\n",
      "\n",
      "Warning message in doTryCatch(return(expr), name, parentenv, handler):\n",
      "\"No data available for site 03351071\"\n"
     ]
    },
    {
     "data": {
      "text/html": [
       "'936/1056 - Downloading data for site 03353415'"
      ],
      "text/latex": [
       "'936/1056 - Downloading data for site 03353415'"
      ],
      "text/markdown": [
       "'936/1056 - Downloading data for site 03353415'"
      ],
      "text/plain": [
       "[1] \"936/1056 - Downloading data for site 03353415\""
      ]
     },
     "metadata": {
      "display_id": "status",
      "update": true
     },
     "output_type": "display_data"
    },
    {
     "name": "stderr",
     "output_type": "stream",
     "text": [
      "GET: https://nwis.waterservices.usgs.gov/nwis/iv/?site=03353415&format=waterml,1.1&ParameterCd=00060&startDT=2014-01-01&endDT=2025-05-08\n",
      "\n"
     ]
    },
    {
     "data": {
      "text/html": [
       "'937/1056 - Downloading data for site 03351005'"
      ],
      "text/latex": [
       "'937/1056 - Downloading data for site 03351005'"
      ],
      "text/markdown": [
       "'937/1056 - Downloading data for site 03351005'"
      ],
      "text/plain": [
       "[1] \"937/1056 - Downloading data for site 03351005\""
      ]
     },
     "metadata": {
      "display_id": "status",
      "update": true
     },
     "output_type": "display_data"
    },
    {
     "name": "stderr",
     "output_type": "stream",
     "text": [
      "GET: https://nwis.waterservices.usgs.gov/nwis/iv/?site=03351005&format=waterml,1.1&ParameterCd=00060&startDT=2014-01-01&endDT=2025-05-08\n",
      "\n",
      "Warning message in doTryCatch(return(expr), name, parentenv, handler):\n",
      "\"No data available for site 03351005\"\n"
     ]
    },
    {
     "data": {
      "text/html": [
       "'938/1056 - Downloading data for site 03353240'"
      ],
      "text/latex": [
       "'938/1056 - Downloading data for site 03353240'"
      ],
      "text/markdown": [
       "'938/1056 - Downloading data for site 03353240'"
      ],
      "text/plain": [
       "[1] \"938/1056 - Downloading data for site 03353240\""
      ]
     },
     "metadata": {
      "display_id": "status",
      "update": true
     },
     "output_type": "display_data"
    },
    {
     "name": "stderr",
     "output_type": "stream",
     "text": [
      "GET: https://nwis.waterservices.usgs.gov/nwis/iv/?site=03353240&format=waterml,1.1&ParameterCd=00060&startDT=2014-01-01&endDT=2025-05-08\n",
      "\n",
      "Warning message in doTryCatch(return(expr), name, parentenv, handler):\n",
      "\"No data available for site 03353240\"\n"
     ]
    },
    {
     "data": {
      "text/html": [
       "'939/1056 - Downloading data for site 03351710'"
      ],
      "text/latex": [
       "'939/1056 - Downloading data for site 03351710'"
      ],
      "text/markdown": [
       "'939/1056 - Downloading data for site 03351710'"
      ],
      "text/plain": [
       "[1] \"939/1056 - Downloading data for site 03351710\""
      ]
     },
     "metadata": {
      "display_id": "status",
      "update": true
     },
     "output_type": "display_data"
    },
    {
     "name": "stderr",
     "output_type": "stream",
     "text": [
      "GET: https://nwis.waterservices.usgs.gov/nwis/iv/?site=03351710&format=waterml,1.1&ParameterCd=00060&startDT=2014-01-01&endDT=2025-05-08\n",
      "\n"
     ]
    },
    {
     "data": {
      "text/html": [
       "'940/1056 - Downloading data for site 03351700'"
      ],
      "text/latex": [
       "'940/1056 - Downloading data for site 03351700'"
      ],
      "text/markdown": [
       "'940/1056 - Downloading data for site 03351700'"
      ],
      "text/plain": [
       "[1] \"940/1056 - Downloading data for site 03351700\""
      ]
     },
     "metadata": {
      "display_id": "status",
      "update": true
     },
     "output_type": "display_data"
    },
    {
     "name": "stderr",
     "output_type": "stream",
     "text": [
      "GET: https://nwis.waterservices.usgs.gov/nwis/iv/?site=03351700&format=waterml,1.1&ParameterCd=00060&startDT=2014-01-01&endDT=2025-05-08\n",
      "\n",
      "Warning message in doTryCatch(return(expr), name, parentenv, handler):\n",
      "\"No data available for site 03351700\"\n"
     ]
    },
    {
     "data": {
      "text/html": [
       "'941/1056 - Downloading data for site 03351000'"
      ],
      "text/latex": [
       "'941/1056 - Downloading data for site 03351000'"
      ],
      "text/markdown": [
       "'941/1056 - Downloading data for site 03351000'"
      ],
      "text/plain": [
       "[1] \"941/1056 - Downloading data for site 03351000\""
      ]
     },
     "metadata": {
      "display_id": "status",
      "update": true
     },
     "output_type": "display_data"
    },
    {
     "name": "stderr",
     "output_type": "stream",
     "text": [
      "GET: https://nwis.waterservices.usgs.gov/nwis/iv/?site=03351000&format=waterml,1.1&ParameterCd=00060&startDT=2014-01-01&endDT=2025-05-08\n",
      "\n"
     ]
    },
    {
     "data": {
      "text/html": [
       "'942/1056 - Downloading data for site 03351072'"
      ],
      "text/latex": [
       "'942/1056 - Downloading data for site 03351072'"
      ],
      "text/markdown": [
       "'942/1056 - Downloading data for site 03351072'"
      ],
      "text/plain": [
       "[1] \"942/1056 - Downloading data for site 03351072\""
      ]
     },
     "metadata": {
      "display_id": "status",
      "update": true
     },
     "output_type": "display_data"
    },
    {
     "name": "stderr",
     "output_type": "stream",
     "text": [
      "GET: https://nwis.waterservices.usgs.gov/nwis/iv/?site=03351072&format=waterml,1.1&ParameterCd=00060&startDT=2014-01-01&endDT=2025-05-08\n",
      "\n"
     ]
    },
    {
     "data": {
      "text/html": [
       "'943/1056 - Downloading data for site 03352162'"
      ],
      "text/latex": [
       "'943/1056 - Downloading data for site 03352162'"
      ],
      "text/markdown": [
       "'943/1056 - Downloading data for site 03352162'"
      ],
      "text/plain": [
       "[1] \"943/1056 - Downloading data for site 03352162\""
      ]
     },
     "metadata": {
      "display_id": "status",
      "update": true
     },
     "output_type": "display_data"
    },
    {
     "name": "stderr",
     "output_type": "stream",
     "text": [
      "GET: https://nwis.waterservices.usgs.gov/nwis/iv/?site=03352162&format=waterml,1.1&ParameterCd=00060&startDT=2014-01-01&endDT=2025-05-08\n",
      "\n"
     ]
    },
    {
     "data": {
      "text/html": [
       "'944/1056 - Downloading data for site 03353200'"
      ],
      "text/latex": [
       "'944/1056 - Downloading data for site 03353200'"
      ],
      "text/markdown": [
       "'944/1056 - Downloading data for site 03353200'"
      ],
      "text/plain": [
       "[1] \"944/1056 - Downloading data for site 03353200\""
      ]
     },
     "metadata": {
      "display_id": "status",
      "update": true
     },
     "output_type": "display_data"
    },
    {
     "name": "stderr",
     "output_type": "stream",
     "text": [
      "GET: https://nwis.waterservices.usgs.gov/nwis/iv/?site=03353200&format=waterml,1.1&ParameterCd=00060&startDT=2014-01-01&endDT=2025-05-08\n",
      "\n"
     ]
    }
   ],
   "source": [
    "# Download data for each station using a for loop\n",
    "station_codes <- stations$STAID\n",
    "\n",
    "# Define date range for 10 years\n",
    "start_date <- \"2014-01-01\"\n",
    "end_date <- \"2025-05-08\"\n",
    "\n",
    "# Define output directory\n",
    "output_dir <- \"/Users/alan/Data Science Projects/ML-ModClark-IUH-Model/data/bronze/tabular/streamflow\"\n",
    "\n",
    "# Initialize lists to store stations with errors and error messages\n",
    "error_stations <- character()\n",
    "error_messages <- character()\n",
    "\n",
    "count <- 0\n",
    "len <- length(station_codes)\n",
    "\n",
    "# Loop through each station code\n",
    "for (site in station_codes) {\n",
    "  count <- count + 1\n",
    "  \n",
    "  # Check if file already exists\n",
    "  file_path <- file.path(output_dir, paste0(\"streamflow_\", site, \".parquet\"))\n",
    "  if (file.exists(file_path)) {\n",
    "    message(paste(\"File already exists for site\", site, \"- skipping download\"))\n",
    "    next\n",
    "  }\n",
    "\n",
    "  # Update status in notebook (overwrites previous output)\n",
    "  display(paste0(count, \"/\", len, \" - Downloading data for site \", site), display_id = \"status\", update = TRUE)\n",
    "  \n",
    "  \n",
    "  # Try downloading data with error handling\n",
    "  tryCatch({\n",
    "    streamflow_data <- download_usgs_streamflow(\n",
    "      site_numbers = site,\n",
    "      start_date = start_date,\n",
    "      end_date = end_date\n",
    "    )\n",
    "    \n",
    "    # Save the data if download was successful\n",
    "    if (!is.null(streamflow_data)) {\n",
    "      save_streamflow_data(streamflow_data, site, output_dir)\n",
    "    } else {\n",
    "      warning(paste(\"No data available for site\", site))\n",
    "      error_stations <- c(error_stations, site)\n",
    "      error_messages <- c(error_messages, \"No data available\")\n",
    "    }\n",
    "    \n",
    "    # Add a delay to avoid overwhelming the USGS server\n",
    "    Sys.sleep(1)\n",
    "  }, error = function(e) {\n",
    "    warning(paste(\"Error downloading data for site\", site, \":\", e$message))\n",
    "    error_stations <- c(error_stations, site)\n",
    "    error_messages <- c(error_messages, e$message)\n",
    "  })\n",
    "}\n",
    "\n",
    "# Clear the status display\n",
    "display(\"\", display_id = \"status\", update = TRUE)\n",
    "\n",
    "# Summary\n",
    "message(\"Download and save process completed.\")\n",
    "message(paste(\"Check output directory:\", output_dir))\n",
    "if (length(error_stations) > 0) {\n",
    "  message(\"Stations with errors: \", paste(error_stations, collapse = \", \"))\n",
    "  message(\"Error messages: \", paste(error_messages, collapse = \"; \"))\n",
    "}"
   ]
  }
 ],
 "metadata": {
  "kernelspec": {
   "display_name": "R",
   "language": "R",
   "name": "ir"
  },
  "language_info": {
   "codemirror_mode": "r",
   "file_extension": ".r",
   "mimetype": "text/x-r-source",
   "name": "R",
   "pygments_lexer": "r",
   "version": "4.1.1"
  }
 },
 "nbformat": 4,
 "nbformat_minor": 5
}
