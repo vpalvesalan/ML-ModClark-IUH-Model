{
 "cells": [
  {
   "cell_type": "markdown",
   "id": "74d7d70b",
   "metadata": {},
   "source": [
    "# Download Historical Streamflow Data\n",
    "\n",
    "This Jupyter Notebook serves as the dedicated module for retrieving historical streamflow data, a pivotal component for the calibration and evaluation of the hydrological models in this study. Leveraging the capabilities of the `dataRetrieval` R package, designed for accessing U.S. Geological Survey (USGS) water data, the notebook systematically downloads streamflow records for all active and relevant stream gauge stations identified within the previously defined study region. The acquired streamflow time series represent the observed hydrographs, which are indispensable for calibrating the ModClark model's parameters ($T_c$ and $R$) and for rigorously assessing the predictive performance of the machine learning models by comparing their generated hydrographs against these real-world observations."
   ]
  },
  {
   "cell_type": "markdown",
   "id": "a3585f74",
   "metadata": {},
   "source": [
    "### Load the streamflow station data"
   ]
  },
  {
   "cell_type": "code",
   "execution_count": 4,
   "id": "e3001ce0",
   "metadata": {
    "vscode": {
     "languageId": "r"
    }
   },
   "outputs": [
    {
     "name": "stderr",
     "output_type": "stream",
     "text": [
      "Carregando pacotes exigidos: sf\n",
      "\n",
      "Linking to GEOS 3.8.1, GDAL 3.2.1, PROJ 7.2.1\n",
      "\n",
      "Carregando pacotes exigidos: dataRetrieval\n",
      "\n",
      "Carregando pacotes exigidos: dplyr\n",
      "\n",
      "\n",
      "Attaching package: 'dplyr'\n",
      "\n",
      "\n",
      "The following objects are masked from 'package:stats':\n",
      "\n",
      "    filter, lag\n",
      "\n",
      "\n",
      "The following objects are masked from 'package:base':\n",
      "\n",
      "    intersect, setdiff, setequal, union\n",
      "\n",
      "\n",
      "Carregando pacotes exigidos: arrow\n",
      "\n",
      "\n",
      "Attaching package: 'arrow'\n",
      "\n",
      "\n",
      "The following object is masked from 'package:utils':\n",
      "\n",
      "    timestamp\n",
      "\n",
      "\n",
      "Carregando pacotes exigidos: IRdisplay\n",
      "\n"
     ]
    },
    {
     "data": {
      "text/html": [
       "<ol>\n",
       "\t<li>NULL</li>\n",
       "\t<li>NULL</li>\n",
       "\t<li>NULL</li>\n",
       "\t<li>NULL</li>\n",
       "\t<li>NULL</li>\n",
       "</ol>\n"
      ],
      "text/latex": [
       "\\begin{enumerate}\n",
       "\\item NULL\n",
       "\\item NULL\n",
       "\\item NULL\n",
       "\\item NULL\n",
       "\\item NULL\n",
       "\\end{enumerate}\n"
      ],
      "text/markdown": [
       "1. NULL\n",
       "2. NULL\n",
       "3. NULL\n",
       "4. NULL\n",
       "5. NULL\n",
       "\n",
       "\n"
      ],
      "text/plain": [
       "[[1]]\n",
       "NULL\n",
       "\n",
       "[[2]]\n",
       "NULL\n",
       "\n",
       "[[3]]\n",
       "NULL\n",
       "\n",
       "[[4]]\n",
       "NULL\n",
       "\n",
       "[[5]]\n",
       "NULL\n"
      ]
     },
     "metadata": {},
     "output_type": "display_data"
    }
   ],
   "source": [
    "# List of required packages\n",
    "required_packages <- c(\"sf\", \"dataRetrieval\", \"dplyr\", \"arrow\", \"IRdisplay\")\n",
    "\n",
    "# Function to check and install packages\n",
    "check_and_install <- function(package) {\n",
    "  if (!require(package, character.only = TRUE)) {\n",
    "    install.packages(package, dependencies = TRUE)\n",
    "    library(package, character.only = TRUE)\n",
    "  }\n",
    "}\n",
    "\n",
    "# Apply the function to each package\n",
    "lapply(required_packages, check_and_install)    "
   ]
  },
  {
   "cell_type": "code",
   "execution_count": 5,
   "id": "3ff69e42",
   "metadata": {
    "vscode": {
     "languageId": "r"
    }
   },
   "outputs": [
    {
     "name": "stdout",
     "output_type": "stream",
     "text": [
      "Reading layer `study_area_stream_gauge_stn' from data source \n",
      "  `/Users/alan/Data Science Projects/ML-ModClark-IUH-Model/data/silver/geo/gpkg/study_area_stream_gauge_stn.gpkg' \n",
      "  using driver `GPKG'\n",
      "Simple feature collection with 1056 features and 14 fields\n",
      "Geometry type: POINT\n",
      "Dimension:     XY\n",
      "Bounding box:  xmin: -89.16257 ymin: 35.70829 xmax: -78.16294 ymax: 42.15683\n",
      "Geodetic CRS:  NAD83\n",
      "Rows: 1,056\n",
      "Columns: 15\n",
      "$ STAID      \u001b[3m\u001b[90m<chr>\u001b[39m\u001b[23m \"03165000\", \"03164000\", \"03165500\", \"03161000\", \"03208500\",~\n",
      "$ STANAME    \u001b[3m\u001b[90m<chr>\u001b[39m\u001b[23m \"CHESTNUT CREEK AT GALAX, VA\", \"NEW RIVER NEAR GALAX, VA\", ~\n",
      "$ ST         \u001b[3m\u001b[90m<chr>\u001b[39m\u001b[23m \"va\", \"va\", \"va\", \"nc\", \"va\", \"va\", \"va\", \"ky\", \"va\", \"va\",~\n",
      "$ HUC        \u001b[3m\u001b[90m<chr>\u001b[39m\u001b[23m \"05050001\", \"05050001\", \"05050001\", \"05050001\", \"05070202\",~\n",
      "$ CLASS      \u001b[3m\u001b[90m<int>\u001b[39m\u001b[23m 5, 0, 6, 5, 7, 8, 0, 0, 6, 6, 6, 0, 6, 7, 7, 0, 0, 0, 7, 0,~\n",
      "$ FLOW       \u001b[3m\u001b[90m<dbl>\u001b[39m\u001b[23m 59.4, 0.0, 3690.0, 429.0, 1490.0, 2340.0, 0.0, 0.0, 5550.0,~\n",
      "$ STAGE      \u001b[3m\u001b[90m<dbl>\u001b[39m\u001b[23m 1.56, 2.18, 4.26, 2.48, 4.60, 6.04, 11.11, 10.01, 3.05, 2.9~\n",
      "$ TIME       \u001b[3m\u001b[90m<chr>\u001b[39m\u001b[23m \"2025-02-02 12:00:00\", \"2025-02-02 12:30:00\", \"2025-02-02 1~\n",
      "$ TIME_UTC   \u001b[3m\u001b[90m<dttm>\u001b[39m\u001b[23m 2025-02-02, 2025-02-02, 2025-02-02, 2025-02-02, 2025-02-02~\n",
      "$ URL        \u001b[3m\u001b[90m<chr>\u001b[39m\u001b[23m \"https://waterdata.usgs.gov/monitoring-location/03165000\", ~\n",
      "$ DATUM      \u001b[3m\u001b[90m<chr>\u001b[39m\u001b[23m \"NAD83\", \"NAD83\", \"NAD83\", \"NAD83\", \"NAD83\", \"NAD83\", \"NAD8~\n",
      "$ COUNT      \u001b[3m\u001b[90m<int>\u001b[39m\u001b[23m 79, 94, 77, 97, 97, 59, 25, 0, 95, 40, 96, 0, 85, 86, 93, 0~\n",
      "$ PERCENTILE \u001b[3m\u001b[90m<dbl>\u001b[39m\u001b[23m 39.50, 74.20, 81.30, 53.41, 93.29, 98.33, 0.00, 0.00, 81.67~\n",
      "$ FLOODSTAGE \u001b[3m\u001b[90m<dbl>\u001b[39m\u001b[23m 7.0, 9.0, 16.0, 8.0, 16.0, 0.0, 15.0, 21.0, 8.0, 6.5, 8.0, ~\n",
      "$ geom       \u001b[3m\u001b[90m<POINT [arc_degree]>\u001b[39m\u001b[23m POINT (-80.91924 36.64596), POINT (-80.97897~\n"
     ]
    }
   ],
   "source": [
    "# Load the .gpkg file\n",
    "gpkg_file <- \"/Users/alan/Data Science Projects/ML-ModClark-IUH-Model/data/silver/geo/gpkg/study_area_stream_gauge_stn.gpkg\"\n",
    "stations <- st_read(gpkg_file)\n",
    "glimpse(stations)"
   ]
  },
  {
   "cell_type": "markdown",
   "id": "b2a1eb71",
   "metadata": {},
   "source": [
    "### Download Streamflow Data\n",
    "\n",
    "The time span chosen for this study is 10 years. Therefore data will be downloaded from **01-01-2014 to 05-08-2025**."
   ]
  },
  {
   "cell_type": "code",
   "execution_count": 6,
   "id": "e11e0a76",
   "metadata": {
    "vscode": {
     "languageId": "r"
    }
   },
   "outputs": [],
   "source": [
    "# Define function to download 15-minute streamflow data\n",
    "download_usgs_streamflow <- function(site_numbers, start_date, end_date, parameter_cd = \"00060\") {\n",
    "  # Input validation\n",
    "  if (!is.character(site_numbers) || length(site_numbers) == 0) {\n",
    "    stop(\"site_numbers must be a non-empty character vector of USGS site IDs\")\n",
    "  }\n",
    "  if (!is.character(start_date) || !is.character(end_date)) {\n",
    "    stop(\"start_date and end_date must be character strings in YYYY-MM-DD format\")\n",
    "  }\n",
    "\n",
    "  # Download 15-minute streamflow data using dataRetrieval\n",
    "  # parameter_cd = \"00060\" is for discharge (cubic feet per second)\n",
    "  streamflow_data <- readNWISuv(\n",
    "    siteNumbers = site_numbers,\n",
    "    parameterCd = parameter_cd,\n",
    "    startDate = start_date,\n",
    "    endDate = end_date,\n",
    "    tz = \"UTC\"  # Time zone for data retrieval\n",
    "  )\n",
    "\n",
    "  # Check if data was retrieved\n",
    "  if (nrow(streamflow_data) == 0) {\n",
    "    # warning(\"No data retrieved for the specified sites and date range\")\n",
    "    return(NULL)\n",
    "  }\n",
    "  return(streamflow_data)\n",
    "}\n"
   ]
  },
  {
   "cell_type": "code",
   "execution_count": 7,
   "id": "d15c6cd5",
   "metadata": {
    "vscode": {
     "languageId": "r"
    }
   },
   "outputs": [],
   "source": [
    "# Define function to save data locally as Parquet\n",
    "save_streamflow_data <- function(data, site_no, output_dir) {\n",
    "  # Drop redundant column stite_no (this number is incorporated in the file name)\n",
    "  # Create output directory if it doesn't exist\n",
    "  if (!dir.exists(output_dir)) {\n",
    "    dir.create(output_dir, recursive = TRUE)\n",
    "  }\n",
    "  \n",
    "  # Check if data is valid\n",
    "  if (is.null(data) || nrow(data) == 0) {\n",
    "    # warning(paste(\"No data to save for site\", site_no))\n",
    "    return(FALSE)\n",
    "  }\n",
    "  \n",
    "  # Define file path for Parquet\n",
    "  file_path <- file.path(output_dir, paste0(\"streamflow_\", site_no, \".parquet\"))\n",
    "  \n",
    "  # Save data as Parquet\n",
    "  write_parquet(data, file_path)\n",
    "  # print(paste(\"Data saved for site\", site_no, \"at\", file_path))\n",
    "  return(TRUE)\n",
    "}"
   ]
  },
  {
   "cell_type": "markdown",
   "id": "8227a403",
   "metadata": {},
   "source": [
    "**Download one station data as example**"
   ]
  },
  {
   "cell_type": "code",
   "execution_count": 13,
   "id": "89718519",
   "metadata": {
    "vscode": {
     "languageId": "r"
    }
   },
   "outputs": [
    {
     "name": "stdout",
     "output_type": "stream",
     "text": [
      "[1] \"Downloading data for station ID 03165000\"\n"
     ]
    },
    {
     "name": "stderr",
     "output_type": "stream",
     "text": [
      "GET: https://nwis.waterservices.usgs.gov/nwis/iv/?site=03165000&format=waterml,1.1&ParameterCd=00060&startDT=2014-01-01&endDT=2014-05-08\n",
      "\n"
     ]
    },
    {
     "name": "stdout",
     "output_type": "stream",
     "text": [
      "Rows: 9,404\n",
      "Columns: 6\n",
      "$ agency_cd        \u001b[3m\u001b[90m<chr>\u001b[39m\u001b[23m \"USGS\", \"USGS\", \"USGS\", \"USGS\", \"USGS\", \"USGS\", \"USGS~\n",
      "$ site_no          \u001b[3m\u001b[90m<chr>\u001b[39m\u001b[23m \"03165000\", \"03165000\", \"03165000\", \"03165000\", \"0316~\n",
      "$ dateTime         \u001b[3m\u001b[90m<dttm>\u001b[39m\u001b[23m 2014-01-14 05:00:00, 2014-01-14 05:15:00, 2014-01-14~\n",
      "$ X_00060_00000    \u001b[3m\u001b[90m<dbl>\u001b[39m\u001b[23m 101.0, 101.0, 101.0, 101.0, 101.0, 101.0, 101.0, 101.~\n",
      "$ X_00060_00000_cd \u001b[3m\u001b[90m<chr>\u001b[39m\u001b[23m \"A\", \"A\", \"A\", \"A\", \"A\", \"A\", \"A\", \"A\", \"A\", \"A\", \"A\"~\n",
      "$ tz_cd            \u001b[3m\u001b[90m<chr>\u001b[39m\u001b[23m \"UTC\", \"UTC\", \"UTC\", \"UTC\", \"UTC\", \"UTC\", \"UTC\", \"UTC~\n"
     ]
    },
    {
     "data": {
      "text/html": [
       "<table class=\"dataframe\">\n",
       "<caption>A data.frame: 6 × 6</caption>\n",
       "<thead>\n",
       "\t<tr><th></th><th scope=col>agency_cd</th><th scope=col>site_no</th><th scope=col>dateTime</th><th scope=col>X_00060_00000</th><th scope=col>X_00060_00000_cd</th><th scope=col>tz_cd</th></tr>\n",
       "\t<tr><th></th><th scope=col>&lt;chr&gt;</th><th scope=col>&lt;chr&gt;</th><th scope=col>&lt;dttm&gt;</th><th scope=col>&lt;dbl&gt;</th><th scope=col>&lt;chr&gt;</th><th scope=col>&lt;chr&gt;</th></tr>\n",
       "</thead>\n",
       "<tbody>\n",
       "\t<tr><th scope=row>1</th><td>USGS</td><td>03165000</td><td>2014-01-14 05:00:00</td><td>101</td><td>A</td><td>UTC</td></tr>\n",
       "\t<tr><th scope=row>2</th><td>USGS</td><td>03165000</td><td>2014-01-14 05:15:00</td><td>101</td><td>A</td><td>UTC</td></tr>\n",
       "\t<tr><th scope=row>3</th><td>USGS</td><td>03165000</td><td>2014-01-14 05:30:00</td><td>101</td><td>A</td><td>UTC</td></tr>\n",
       "\t<tr><th scope=row>4</th><td>USGS</td><td>03165000</td><td>2014-01-14 05:45:00</td><td>101</td><td>A</td><td>UTC</td></tr>\n",
       "\t<tr><th scope=row>5</th><td>USGS</td><td>03165000</td><td>2014-01-14 06:00:00</td><td>101</td><td>A</td><td>UTC</td></tr>\n",
       "\t<tr><th scope=row>6</th><td>USGS</td><td>03165000</td><td>2014-01-14 06:15:00</td><td>101</td><td>A</td><td>UTC</td></tr>\n",
       "</tbody>\n",
       "</table>\n"
      ],
      "text/latex": [
       "A data.frame: 6 × 6\n",
       "\\begin{tabular}{r|llllll}\n",
       "  & agency\\_cd & site\\_no & dateTime & X\\_00060\\_00000 & X\\_00060\\_00000\\_cd & tz\\_cd\\\\\n",
       "  & <chr> & <chr> & <dttm> & <dbl> & <chr> & <chr>\\\\\n",
       "\\hline\n",
       "\t1 & USGS & 03165000 & 2014-01-14 05:00:00 & 101 & A & UTC\\\\\n",
       "\t2 & USGS & 03165000 & 2014-01-14 05:15:00 & 101 & A & UTC\\\\\n",
       "\t3 & USGS & 03165000 & 2014-01-14 05:30:00 & 101 & A & UTC\\\\\n",
       "\t4 & USGS & 03165000 & 2014-01-14 05:45:00 & 101 & A & UTC\\\\\n",
       "\t5 & USGS & 03165000 & 2014-01-14 06:00:00 & 101 & A & UTC\\\\\n",
       "\t6 & USGS & 03165000 & 2014-01-14 06:15:00 & 101 & A & UTC\\\\\n",
       "\\end{tabular}\n"
      ],
      "text/markdown": [
       "\n",
       "A data.frame: 6 × 6\n",
       "\n",
       "| <!--/--> | agency_cd &lt;chr&gt; | site_no &lt;chr&gt; | dateTime &lt;dttm&gt; | X_00060_00000 &lt;dbl&gt; | X_00060_00000_cd &lt;chr&gt; | tz_cd &lt;chr&gt; |\n",
       "|---|---|---|---|---|---|---|\n",
       "| 1 | USGS | 03165000 | 2014-01-14 05:00:00 | 101 | A | UTC |\n",
       "| 2 | USGS | 03165000 | 2014-01-14 05:15:00 | 101 | A | UTC |\n",
       "| 3 | USGS | 03165000 | 2014-01-14 05:30:00 | 101 | A | UTC |\n",
       "| 4 | USGS | 03165000 | 2014-01-14 05:45:00 | 101 | A | UTC |\n",
       "| 5 | USGS | 03165000 | 2014-01-14 06:00:00 | 101 | A | UTC |\n",
       "| 6 | USGS | 03165000 | 2014-01-14 06:15:00 | 101 | A | UTC |\n",
       "\n"
      ],
      "text/plain": [
       "  agency_cd site_no  dateTime            X_00060_00000 X_00060_00000_cd tz_cd\n",
       "1 USGS      03165000 2014-01-14 05:00:00 101           A                UTC  \n",
       "2 USGS      03165000 2014-01-14 05:15:00 101           A                UTC  \n",
       "3 USGS      03165000 2014-01-14 05:30:00 101           A                UTC  \n",
       "4 USGS      03165000 2014-01-14 05:45:00 101           A                UTC  \n",
       "5 USGS      03165000 2014-01-14 06:00:00 101           A                UTC  \n",
       "6 USGS      03165000 2014-01-14 06:15:00 101           A                UTC  "
      ]
     },
     "metadata": {},
     "output_type": "display_data"
    }
   ],
   "source": [
    "station_code_example <- stations$STAID[1]\n",
    "\n",
    "# Define date range\n",
    "start_date <- \"2014-01-01\"\n",
    "end_date <- \"2014-05-08\"\n",
    "\n",
    "# Download data example\n",
    "print(paste(\"Downloading data for station ID\", station_code_example))\n",
    "streamflow_data_example <- download_usgs_streamflow(\n",
    "    site_numbers = station_code_example,\n",
    "    start_date = start_date,\n",
    "    end_date = end_date\n",
    ")\n",
    "glimpse(streamflow_data_example)\n",
    "head(streamflow_data_example)\n"
   ]
  },
  {
   "cell_type": "code",
   "execution_count": 14,
   "id": "a94ba733",
   "metadata": {
    "vscode": {
     "languageId": "r"
    }
   },
   "outputs": [
    {
     "data": {
      "text/plain": [
       "  agency_cd           site_no             dateTime                  \n",
       " Length:9404        Length:9404        Min.   :2014-01-14 05:00:00  \n",
       " Class :character   Class :character   1st Qu.:2014-02-24 16:41:15  \n",
       " Mode  :character   Mode  :character   Median :2014-03-21 04:22:30  \n",
       "                                       Mean   :2014-03-19 04:21:16  \n",
       "                                       3rd Qu.:2014-04-14 16:03:45  \n",
       "                                       Max.   :2014-05-09 03:45:00  \n",
       " X_00060_00000    X_00060_00000_cd      tz_cd          \n",
       " Min.   : 55.40   Length:9404        Length:9404       \n",
       " 1st Qu.: 66.10   Class :character   Class :character  \n",
       " Median : 71.10   Mode  :character   Mode  :character  \n",
       " Mean   : 78.61                                        \n",
       " 3rd Qu.: 79.80                                        \n",
       " Max.   :366.00                                        "
      ]
     },
     "metadata": {},
     "output_type": "display_data"
    }
   ],
   "source": [
    "summary(streamflow_data_example)"
   ]
  },
  {
   "cell_type": "markdown",
   "id": "9d9f583e",
   "metadata": {},
   "source": [
    "#### Clean Downloaded Stream Flow Data**\n",
    "\n",
    "The data retrieved from USGS, is pretty much clean already. However, to save space and time, after downloading each data file  from each station, unecessary columns will be removed, and columns renamed, before saving the file locally. The code  **00060** is used to retrieve discharge in **Cubic Feet per Second ($ft^3/s$)** - see documentation in (https://cran.r-project.org/web/packages/dataRetrieval/vignettes/dataRetrieval.htmlcolumn). The column name **X_00060_00000** indicates discharge ($ft^3/s$) and column **X_00060_00000_cd** is the measurement quality flag. **dateTime** column are in **UTC**. \n",
    "\n",
    "The cleaning steps are:\n",
    "- Remove columns: `agency_cd`and `tz_cd`\n",
    "- Rename columns: `X_00060_00000` and `X_00060_00000_cd`\n",
    "\n",
    "Commom USGS parameter codes:\n",
    "| pCode      | shortName |\n",
    "| ----------- | ----------- |\n",
    "| 00060\t| Discharge [ft3/s] |\n",
    "| 00065\t| Gage height [ft] |\n",
    "| 00010\t| Temperature [C] |\n",
    "| 00045\t| Precipitation [in] |\n",
    "| 00400\t| pH |"
   ]
  },
  {
   "cell_type": "code",
   "execution_count": 8,
   "id": "f91eddd1",
   "metadata": {
    "vscode": {
     "languageId": "r"
    }
   },
   "outputs": [],
   "source": [
    "  # Clean and format the data\n",
    "clean_streamflow_data <- function(streamflow_data) {\n",
    "  streamflow_data <- streamflow_data %>%\n",
    "    select(site_no, dateTime, X_00060_00000, X_00060_00000_cd) %>%\n",
    "    rename(\n",
    "      discharge_cfs = X_00060_00000,\n",
    "      discharge_quality = X_00060_00000_cd\n",
    "    )\n",
    "  \n",
    "  return(streamflow_data)\n",
    "}"
   ]
  },
  {
   "cell_type": "code",
   "execution_count": 16,
   "id": "a8d997c4",
   "metadata": {
    "vscode": {
     "languageId": "r"
    }
   },
   "outputs": [
    {
     "name": "stdout",
     "output_type": "stream",
     "text": [
      "Rows: 9,404\n",
      "Columns: 4\n",
      "$ site_no           \u001b[3m\u001b[90m<chr>\u001b[39m\u001b[23m \"03165000\", \"03165000\", \"03165000\", \"03165000\", \"031~\n",
      "$ dateTime          \u001b[3m\u001b[90m<dttm>\u001b[39m\u001b[23m 2014-01-14 05:00:00, 2014-01-14 05:15:00, 2014-01-1~\n",
      "$ discharge_cfs     \u001b[3m\u001b[90m<dbl>\u001b[39m\u001b[23m 101.0, 101.0, 101.0, 101.0, 101.0, 101.0, 101.0, 101~\n",
      "$ discharge_quality \u001b[3m\u001b[90m<chr>\u001b[39m\u001b[23m \"A\", \"A\", \"A\", \"A\", \"A\", \"A\", \"A\", \"A\", \"A\", \"A\", \"A~\n"
     ]
    },
    {
     "data": {
      "text/html": [
       "<table class=\"dataframe\">\n",
       "<caption>A data.frame: 6 × 4</caption>\n",
       "<thead>\n",
       "\t<tr><th></th><th scope=col>site_no</th><th scope=col>dateTime</th><th scope=col>discharge_cfs</th><th scope=col>discharge_quality</th></tr>\n",
       "\t<tr><th></th><th scope=col>&lt;chr&gt;</th><th scope=col>&lt;dttm&gt;</th><th scope=col>&lt;dbl&gt;</th><th scope=col>&lt;chr&gt;</th></tr>\n",
       "</thead>\n",
       "<tbody>\n",
       "\t<tr><th scope=row>1</th><td>03165000</td><td>2014-01-14 05:00:00</td><td>101</td><td>A</td></tr>\n",
       "\t<tr><th scope=row>2</th><td>03165000</td><td>2014-01-14 05:15:00</td><td>101</td><td>A</td></tr>\n",
       "\t<tr><th scope=row>3</th><td>03165000</td><td>2014-01-14 05:30:00</td><td>101</td><td>A</td></tr>\n",
       "\t<tr><th scope=row>4</th><td>03165000</td><td>2014-01-14 05:45:00</td><td>101</td><td>A</td></tr>\n",
       "\t<tr><th scope=row>5</th><td>03165000</td><td>2014-01-14 06:00:00</td><td>101</td><td>A</td></tr>\n",
       "\t<tr><th scope=row>6</th><td>03165000</td><td>2014-01-14 06:15:00</td><td>101</td><td>A</td></tr>\n",
       "</tbody>\n",
       "</table>\n"
      ],
      "text/latex": [
       "A data.frame: 6 × 4\n",
       "\\begin{tabular}{r|llll}\n",
       "  & site\\_no & dateTime & discharge\\_cfs & discharge\\_quality\\\\\n",
       "  & <chr> & <dttm> & <dbl> & <chr>\\\\\n",
       "\\hline\n",
       "\t1 & 03165000 & 2014-01-14 05:00:00 & 101 & A\\\\\n",
       "\t2 & 03165000 & 2014-01-14 05:15:00 & 101 & A\\\\\n",
       "\t3 & 03165000 & 2014-01-14 05:30:00 & 101 & A\\\\\n",
       "\t4 & 03165000 & 2014-01-14 05:45:00 & 101 & A\\\\\n",
       "\t5 & 03165000 & 2014-01-14 06:00:00 & 101 & A\\\\\n",
       "\t6 & 03165000 & 2014-01-14 06:15:00 & 101 & A\\\\\n",
       "\\end{tabular}\n"
      ],
      "text/markdown": [
       "\n",
       "A data.frame: 6 × 4\n",
       "\n",
       "| <!--/--> | site_no &lt;chr&gt; | dateTime &lt;dttm&gt; | discharge_cfs &lt;dbl&gt; | discharge_quality &lt;chr&gt; |\n",
       "|---|---|---|---|---|\n",
       "| 1 | 03165000 | 2014-01-14 05:00:00 | 101 | A |\n",
       "| 2 | 03165000 | 2014-01-14 05:15:00 | 101 | A |\n",
       "| 3 | 03165000 | 2014-01-14 05:30:00 | 101 | A |\n",
       "| 4 | 03165000 | 2014-01-14 05:45:00 | 101 | A |\n",
       "| 5 | 03165000 | 2014-01-14 06:00:00 | 101 | A |\n",
       "| 6 | 03165000 | 2014-01-14 06:15:00 | 101 | A |\n",
       "\n"
      ],
      "text/plain": [
       "  site_no  dateTime            discharge_cfs discharge_quality\n",
       "1 03165000 2014-01-14 05:00:00 101           A                \n",
       "2 03165000 2014-01-14 05:15:00 101           A                \n",
       "3 03165000 2014-01-14 05:30:00 101           A                \n",
       "4 03165000 2014-01-14 05:45:00 101           A                \n",
       "5 03165000 2014-01-14 06:00:00 101           A                \n",
       "6 03165000 2014-01-14 06:15:00 101           A                "
      ]
     },
     "metadata": {},
     "output_type": "display_data"
    }
   ],
   "source": [
    "cleaned_streamflow_data_example <- clean_streamflow_data(streamflow_data_example)\n",
    "glimpse(cleaned_streamflow_data_example)\n",
    "head(cleaned_streamflow_data_example)"
   ]
  },
  {
   "cell_type": "markdown",
   "id": "8409984f",
   "metadata": {},
   "source": [
    "#### Download data for over 1000 USGS station within the study area"
   ]
  },
  {
   "cell_type": "code",
   "execution_count": null,
   "id": "494ad11f",
   "metadata": {
    "vscode": {
     "languageId": "r"
    }
   },
   "outputs": [
    {
     "data": {
      "text/html": [
       "'12/1056 - Downloading data for site 03170500'"
      ],
      "text/latex": [
       "'12/1056 - Downloading data for site 03170500'"
      ],
      "text/markdown": [
       "'12/1056 - Downloading data for site 03170500'"
      ],
      "text/plain": [
       "[1] \"12/1056 - Downloading data for site 03170500\""
      ]
     },
     "metadata": {
      "display_id": "status",
      "update": true
     },
     "output_type": "display_data"
    },
    {
     "name": "stderr",
     "output_type": "stream",
     "text": [
      "GET: https://nwis.waterservices.usgs.gov/nwis/iv/?site=03170500&format=waterml,1.1&ParameterCd=00060&startDT=2014-01-01&endDT=2025-05-08\n",
      "\n"
     ]
    },
    {
     "data": {
      "text/html": [
       "'16/1056 - Downloading data for site 0317154954'"
      ],
      "text/latex": [
       "'16/1056 - Downloading data for site 0317154954'"
      ],
      "text/markdown": [
       "'16/1056 - Downloading data for site 0317154954'"
      ],
      "text/plain": [
       "[1] \"16/1056 - Downloading data for site 0317154954\""
      ]
     },
     "metadata": {
      "display_id": "status",
      "update": true
     },
     "output_type": "display_data"
    },
    {
     "name": "stderr",
     "output_type": "stream",
     "text": [
      "GET: https://nwis.waterservices.usgs.gov/nwis/iv/?site=0317154954&format=waterml,1.1&ParameterCd=00060&startDT=2014-01-01&endDT=2025-05-08\n",
      "\n"
     ]
    },
    {
     "data": {
      "text/html": [
       "'17/1056 - Downloading data for site 0317159760'"
      ],
      "text/latex": [
       "'17/1056 - Downloading data for site 0317159760'"
      ],
      "text/markdown": [
       "'17/1056 - Downloading data for site 0317159760'"
      ],
      "text/plain": [
       "[1] \"17/1056 - Downloading data for site 0317159760\""
      ]
     },
     "metadata": {
      "display_id": "status",
      "update": true
     },
     "output_type": "display_data"
    },
    {
     "name": "stderr",
     "output_type": "stream",
     "text": [
      "GET: https://nwis.waterservices.usgs.gov/nwis/iv/?site=0317159760&format=waterml,1.1&ParameterCd=00060&startDT=2014-01-01&endDT=2025-05-08\n",
      "\n"
     ]
    },
    {
     "data": {
      "text/html": [
       "'20/1056 - Downloading data for site 03178150'"
      ],
      "text/latex": [
       "'20/1056 - Downloading data for site 03178150'"
      ],
      "text/markdown": [
       "'20/1056 - Downloading data for site 03178150'"
      ],
      "text/plain": [
       "[1] \"20/1056 - Downloading data for site 03178150\""
      ]
     },
     "metadata": {
      "display_id": "status",
      "update": true
     },
     "output_type": "display_data"
    },
    {
     "name": "stderr",
     "output_type": "stream",
     "text": [
      "GET: https://nwis.waterservices.usgs.gov/nwis/iv/?site=03178150&format=waterml,1.1&ParameterCd=00060&startDT=2014-01-01&endDT=2025-05-08\n",
      "\n"
     ]
    },
    {
     "data": {
      "text/html": [
       "'21/1056 - Downloading data for site 03178179'"
      ],
      "text/latex": [
       "'21/1056 - Downloading data for site 03178179'"
      ],
      "text/markdown": [
       "'21/1056 - Downloading data for site 03178179'"
      ],
      "text/plain": [
       "[1] \"21/1056 - Downloading data for site 03178179\""
      ]
     },
     "metadata": {
      "display_id": "status",
      "update": true
     },
     "output_type": "display_data"
    },
    {
     "name": "stderr",
     "output_type": "stream",
     "text": [
      "GET: https://nwis.waterservices.usgs.gov/nwis/iv/?site=03178179&format=waterml,1.1&ParameterCd=00060&startDT=2014-01-01&endDT=2025-05-08\n",
      "\n"
     ]
    },
    {
     "data": {
      "text/html": [
       "'22/1056 - Downloading data for site 03178000'"
      ],
      "text/latex": [
       "'22/1056 - Downloading data for site 03178000'"
      ],
      "text/markdown": [
       "'22/1056 - Downloading data for site 03178000'"
      ],
      "text/plain": [
       "[1] \"22/1056 - Downloading data for site 03178000\""
      ]
     },
     "metadata": {
      "display_id": "status",
      "update": true
     },
     "output_type": "display_data"
    },
    {
     "name": "stderr",
     "output_type": "stream",
     "text": [
      "GET: https://nwis.waterservices.usgs.gov/nwis/iv/?site=03178000&format=waterml,1.1&ParameterCd=00060&startDT=2014-01-01&endDT=2025-05-08\n",
      "\n"
     ]
    },
    {
     "data": {
      "text/html": [
       "'24/1056 - Downloading data for site 03178120'"
      ],
      "text/latex": [
       "'24/1056 - Downloading data for site 03178120'"
      ],
      "text/markdown": [
       "'24/1056 - Downloading data for site 03178120'"
      ],
      "text/plain": [
       "[1] \"24/1056 - Downloading data for site 03178120\""
      ]
     },
     "metadata": {
      "display_id": "status",
      "update": true
     },
     "output_type": "display_data"
    },
    {
     "name": "stderr",
     "output_type": "stream",
     "text": [
      "GET: https://nwis.waterservices.usgs.gov/nwis/iv/?site=03178120&format=waterml,1.1&ParameterCd=00060&startDT=2014-01-01&endDT=2025-05-08\n",
      "\n"
     ]
    },
    {
     "data": {
      "text/html": [
       "'32/1056 - Downloading data for site 03179800'"
      ],
      "text/latex": [
       "'32/1056 - Downloading data for site 03179800'"
      ],
      "text/markdown": [
       "'32/1056 - Downloading data for site 03179800'"
      ],
      "text/plain": [
       "[1] \"32/1056 - Downloading data for site 03179800\""
      ]
     },
     "metadata": {
      "display_id": "status",
      "update": true
     },
     "output_type": "display_data"
    },
    {
     "name": "stderr",
     "output_type": "stream",
     "text": [
      "GET: https://nwis.waterservices.usgs.gov/nwis/iv/?site=03179800&format=waterml,1.1&ParameterCd=00060&startDT=2014-01-01&endDT=2025-05-08\n",
      "\n"
     ]
    },
    {
     "data": {
      "text/html": [
       "'33/1056 - Downloading data for site 03184500'"
      ],
      "text/latex": [
       "'33/1056 - Downloading data for site 03184500'"
      ],
      "text/markdown": [
       "'33/1056 - Downloading data for site 03184500'"
      ],
      "text/plain": [
       "[1] \"33/1056 - Downloading data for site 03184500\""
      ]
     },
     "metadata": {
      "display_id": "status",
      "update": true
     },
     "output_type": "display_data"
    },
    {
     "name": "stderr",
     "output_type": "stream",
     "text": [
      "GET: https://nwis.waterservices.usgs.gov/nwis/iv/?site=03184500&format=waterml,1.1&ParameterCd=00060&startDT=2014-01-01&endDT=2025-05-08\n",
      "\n"
     ]
    },
    {
     "data": {
      "text/html": [
       "'36/1056 - Downloading data for site 0318989690'"
      ],
      "text/latex": [
       "'36/1056 - Downloading data for site 0318989690'"
      ],
      "text/markdown": [
       "'36/1056 - Downloading data for site 0318989690'"
      ],
      "text/plain": [
       "[1] \"36/1056 - Downloading data for site 0318989690\""
      ]
     },
     "metadata": {
      "display_id": "status",
      "update": true
     },
     "output_type": "display_data"
    },
    {
     "name": "stderr",
     "output_type": "stream",
     "text": [
      "GET: https://nwis.waterservices.usgs.gov/nwis/iv/?site=0318989690&format=waterml,1.1&ParameterCd=00060&startDT=2014-01-01&endDT=2025-05-08\n",
      "\n"
     ]
    },
    {
     "data": {
      "text/html": [
       "'37/1056 - Downloading data for site 03189863'"
      ],
      "text/latex": [
       "'37/1056 - Downloading data for site 03189863'"
      ],
      "text/markdown": [
       "'37/1056 - Downloading data for site 03189863'"
      ],
      "text/plain": [
       "[1] \"37/1056 - Downloading data for site 03189863\""
      ]
     },
     "metadata": {
      "display_id": "status",
      "update": true
     },
     "output_type": "display_data"
    },
    {
     "name": "stderr",
     "output_type": "stream",
     "text": [
      "GET: https://nwis.waterservices.usgs.gov/nwis/iv/?site=03189863&format=waterml,1.1&ParameterCd=00060&startDT=2014-01-01&endDT=2025-05-08\n",
      "\n"
     ]
    },
    {
     "data": {
      "text/html": [
       "'38/1056 - Downloading data for site 03182888'"
      ],
      "text/latex": [
       "'38/1056 - Downloading data for site 03182888'"
      ],
      "text/markdown": [
       "'38/1056 - Downloading data for site 03182888'"
      ],
      "text/plain": [
       "[1] \"38/1056 - Downloading data for site 03182888\""
      ]
     },
     "metadata": {
      "display_id": "status",
      "update": true
     },
     "output_type": "display_data"
    },
    {
     "name": "stderr",
     "output_type": "stream",
     "text": [
      "GET: https://nwis.waterservices.usgs.gov/nwis/iv/?site=03182888&format=waterml,1.1&ParameterCd=00060&startDT=2014-01-01&endDT=2025-05-08\n",
      "\n"
     ]
    },
    {
     "data": {
      "text/html": [
       "'39/1056 - Downloading data for site 03182970'"
      ],
      "text/latex": [
       "'39/1056 - Downloading data for site 03182970'"
      ],
      "text/markdown": [
       "'39/1056 - Downloading data for site 03182970'"
      ],
      "text/plain": [
       "[1] \"39/1056 - Downloading data for site 03182970\""
      ]
     },
     "metadata": {
      "display_id": "status",
      "update": true
     },
     "output_type": "display_data"
    },
    {
     "name": "stderr",
     "output_type": "stream",
     "text": [
      "GET: https://nwis.waterservices.usgs.gov/nwis/iv/?site=03182970&format=waterml,1.1&ParameterCd=00060&startDT=2014-01-01&endDT=2025-05-08\n",
      "\n"
     ]
    },
    {
     "data": {
      "text/html": [
       "'40/1056 - Downloading data for site 03182890'"
      ],
      "text/latex": [
       "'40/1056 - Downloading data for site 03182890'"
      ],
      "text/markdown": [
       "'40/1056 - Downloading data for site 03182890'"
      ],
      "text/plain": [
       "[1] \"40/1056 - Downloading data for site 03182890\""
      ]
     },
     "metadata": {
      "display_id": "status",
      "update": true
     },
     "output_type": "display_data"
    },
    {
     "name": "stderr",
     "output_type": "stream",
     "text": [
      "GET: https://nwis.waterservices.usgs.gov/nwis/iv/?site=03182890&format=waterml,1.1&ParameterCd=00060&startDT=2014-01-01&endDT=2025-05-08\n",
      "\n"
     ]
    },
    {
     "data": {
      "text/html": [
       "'41/1056 - Downloading data for site 03182900'"
      ],
      "text/latex": [
       "'41/1056 - Downloading data for site 03182900'"
      ],
      "text/markdown": [
       "'41/1056 - Downloading data for site 03182900'"
      ],
      "text/plain": [
       "[1] \"41/1056 - Downloading data for site 03182900\""
      ]
     },
     "metadata": {
      "display_id": "status",
      "update": true
     },
     "output_type": "display_data"
    },
    {
     "name": "stderr",
     "output_type": "stream",
     "text": [
      "GET: https://nwis.waterservices.usgs.gov/nwis/iv/?site=03182900&format=waterml,1.1&ParameterCd=00060&startDT=2014-01-01&endDT=2025-05-08\n",
      "\n"
     ]
    },
    {
     "data": {
      "text/html": [
       "'43/1056 - Downloading data for site 03182600'"
      ],
      "text/latex": [
       "'43/1056 - Downloading data for site 03182600'"
      ],
      "text/markdown": [
       "'43/1056 - Downloading data for site 03182600'"
      ],
      "text/plain": [
       "[1] \"43/1056 - Downloading data for site 03182600\""
      ]
     },
     "metadata": {
      "display_id": "status",
      "update": true
     },
     "output_type": "display_data"
    },
    {
     "name": "stderr",
     "output_type": "stream",
     "text": [
      "GET: https://nwis.waterservices.usgs.gov/nwis/iv/?site=03182600&format=waterml,1.1&ParameterCd=00060&startDT=2014-01-01&endDT=2025-05-08\n",
      "\n"
     ]
    },
    {
     "data": {
      "text/html": [
       "'46/1056 - Downloading data for site 03182050'"
      ],
      "text/latex": [
       "'46/1056 - Downloading data for site 03182050'"
      ],
      "text/markdown": [
       "'46/1056 - Downloading data for site 03182050'"
      ],
      "text/plain": [
       "[1] \"46/1056 - Downloading data for site 03182050\""
      ]
     },
     "metadata": {
      "display_id": "status",
      "update": true
     },
     "output_type": "display_data"
    },
    {
     "name": "stderr",
     "output_type": "stream",
     "text": [
      "GET: https://nwis.waterservices.usgs.gov/nwis/iv/?site=03182050&format=waterml,1.1&ParameterCd=00060&startDT=2014-01-01&endDT=2025-05-08\n",
      "\n"
     ]
    },
    {
     "data": {
      "text/html": [
       "'47/1056 - Downloading data for site 03180900'"
      ],
      "text/latex": [
       "'47/1056 - Downloading data for site 03180900'"
      ],
      "text/markdown": [
       "'47/1056 - Downloading data for site 03180900'"
      ],
      "text/plain": [
       "[1] \"47/1056 - Downloading data for site 03180900\""
      ]
     },
     "metadata": {
      "display_id": "status",
      "update": true
     },
     "output_type": "display_data"
    },
    {
     "name": "stderr",
     "output_type": "stream",
     "text": [
      "GET: https://nwis.waterservices.usgs.gov/nwis/iv/?site=03180900&format=waterml,1.1&ParameterCd=00060&startDT=2014-01-01&endDT=2025-05-08\n",
      "\n"
     ]
    },
    {
     "data": {
      "text/html": [
       "'49/1056 - Downloading data for site 03049925'"
      ],
      "text/latex": [
       "'49/1056 - Downloading data for site 03049925'"
      ],
      "text/markdown": [
       "'49/1056 - Downloading data for site 03049925'"
      ],
      "text/plain": [
       "[1] \"49/1056 - Downloading data for site 03049925\""
      ]
     },
     "metadata": {
      "display_id": "status",
      "update": true
     },
     "output_type": "display_data"
    },
    {
     "name": "stderr",
     "output_type": "stream",
     "text": [
      "GET: https://nwis.waterservices.usgs.gov/nwis/iv/?site=03049925&format=waterml,1.1&ParameterCd=00060&startDT=2014-01-01&endDT=2025-05-08\n",
      "\n"
     ]
    },
    {
     "data": {
      "text/html": [
       "'50/1056 - Downloading data for site 03049930'"
      ],
      "text/latex": [
       "'50/1056 - Downloading data for site 03049930'"
      ],
      "text/markdown": [
       "'50/1056 - Downloading data for site 03049930'"
      ],
      "text/plain": [
       "[1] \"50/1056 - Downloading data for site 03049930\""
      ]
     },
     "metadata": {
      "display_id": "status",
      "update": true
     },
     "output_type": "display_data"
    },
    {
     "name": "stderr",
     "output_type": "stream",
     "text": [
      "GET: https://nwis.waterservices.usgs.gov/nwis/iv/?site=03049930&format=waterml,1.1&ParameterCd=00060&startDT=2014-01-01&endDT=2025-05-08\n",
      "\n"
     ]
    },
    {
     "data": {
      "text/html": [
       "'54/1056 - Downloading data for site 380649081083301'"
      ],
      "text/latex": [
       "'54/1056 - Downloading data for site 380649081083301'"
      ],
      "text/markdown": [
       "'54/1056 - Downloading data for site 380649081083301'"
      ],
      "text/plain": [
       "[1] \"54/1056 - Downloading data for site 380649081083301\""
      ]
     },
     "metadata": {
      "display_id": "status",
      "update": true
     },
     "output_type": "display_data"
    },
    {
     "name": "stderr",
     "output_type": "stream",
     "text": [
      "GET: https://nwis.waterservices.usgs.gov/nwis/iv/?site=380649081083301&format=waterml,1.1&ParameterCd=00060&startDT=2014-01-01&endDT=2025-05-08\n",
      "\n"
     ]
    },
    {
     "data": {
      "text/html": [
       "'58/1056 - Downloading data for site 0319382976'"
      ],
      "text/latex": [
       "'58/1056 - Downloading data for site 0319382976'"
      ],
      "text/markdown": [
       "'58/1056 - Downloading data for site 0319382976'"
      ],
      "text/plain": [
       "[1] \"58/1056 - Downloading data for site 0319382976\""
      ]
     },
     "metadata": {
      "display_id": "status",
      "update": true
     },
     "output_type": "display_data"
    },
    {
     "name": "stderr",
     "output_type": "stream",
     "text": [
      "GET: https://nwis.waterservices.usgs.gov/nwis/iv/?site=0319382976&format=waterml,1.1&ParameterCd=00060&startDT=2014-01-01&endDT=2025-05-08\n",
      "\n"
     ]
    },
    {
     "data": {
      "text/html": [
       "'60/1056 - Downloading data for site 03197939'"
      ],
      "text/latex": [
       "'60/1056 - Downloading data for site 03197939'"
      ],
      "text/markdown": [
       "'60/1056 - Downloading data for site 03197939'"
      ],
      "text/plain": [
       "[1] \"60/1056 - Downloading data for site 03197939\""
      ]
     },
     "metadata": {
      "display_id": "status",
      "update": true
     },
     "output_type": "display_data"
    },
    {
     "name": "stderr",
     "output_type": "stream",
     "text": [
      "GET: https://nwis.waterservices.usgs.gov/nwis/iv/?site=03197939&format=waterml,1.1&ParameterCd=00060&startDT=2014-01-01&endDT=2025-05-08\n",
      "\n"
     ]
    },
    {
     "data": {
      "text/html": [
       "'61/1056 - Downloading data for site 03197910'"
      ],
      "text/latex": [
       "'61/1056 - Downloading data for site 03197910'"
      ],
      "text/markdown": [
       "'61/1056 - Downloading data for site 03197910'"
      ],
      "text/plain": [
       "[1] \"61/1056 - Downloading data for site 03197910\""
      ]
     },
     "metadata": {
      "display_id": "status",
      "update": true
     },
     "output_type": "display_data"
    },
    {
     "name": "stderr",
     "output_type": "stream",
     "text": [
      "GET: https://nwis.waterservices.usgs.gov/nwis/iv/?site=03197910&format=waterml,1.1&ParameterCd=00060&startDT=2014-01-01&endDT=2025-05-08\n",
      "\n"
     ]
    },
    {
     "data": {
      "text/html": [
       "'64/1056 - Downloading data for site 03189600'"
      ],
      "text/latex": [
       "'64/1056 - Downloading data for site 03189600'"
      ],
      "text/markdown": [
       "'64/1056 - Downloading data for site 03189600'"
      ],
      "text/plain": [
       "[1] \"64/1056 - Downloading data for site 03189600\""
      ]
     },
     "metadata": {
      "display_id": "status",
      "update": true
     },
     "output_type": "display_data"
    },
    {
     "name": "stderr",
     "output_type": "stream",
     "text": [
      "GET: https://nwis.waterservices.usgs.gov/nwis/iv/?site=03189600&format=waterml,1.1&ParameterCd=00060&startDT=2014-01-01&endDT=2025-05-08\n",
      "\n"
     ]
    },
    {
     "data": {
      "text/html": [
       "'68/1056 - Downloading data for site 03187000'"
      ],
      "text/latex": [
       "'68/1056 - Downloading data for site 03187000'"
      ],
      "text/markdown": [
       "'68/1056 - Downloading data for site 03187000'"
      ],
      "text/plain": [
       "[1] \"68/1056 - Downloading data for site 03187000\""
      ]
     },
     "metadata": {
      "display_id": "status",
      "update": true
     },
     "output_type": "display_data"
    },
    {
     "name": "stderr",
     "output_type": "stream",
     "text": [
      "GET: https://nwis.waterservices.usgs.gov/nwis/iv/?site=03187000&format=waterml,1.1&ParameterCd=00060&startDT=2014-01-01&endDT=2025-05-08\n",
      "\n"
     ]
    },
    {
     "data": {
      "text/html": [
       "'71/1056 - Downloading data for site 03196500'"
      ],
      "text/latex": [
       "'71/1056 - Downloading data for site 03196500'"
      ],
      "text/markdown": [
       "'71/1056 - Downloading data for site 03196500'"
      ],
      "text/plain": [
       "[1] \"71/1056 - Downloading data for site 03196500\""
      ]
     },
     "metadata": {
      "display_id": "status",
      "update": true
     },
     "output_type": "display_data"
    },
    {
     "name": "stderr",
     "output_type": "stream",
     "text": [
      "GET: https://nwis.waterservices.usgs.gov/nwis/iv/?site=03196500&format=waterml,1.1&ParameterCd=00060&startDT=2014-01-01&endDT=2025-05-08\n",
      "\n"
     ]
    },
    {
     "data": {
      "text/html": [
       "'75/1056 - Downloading data for site 03197445'"
      ],
      "text/latex": [
       "'75/1056 - Downloading data for site 03197445'"
      ],
      "text/markdown": [
       "'75/1056 - Downloading data for site 03197445'"
      ],
      "text/plain": [
       "[1] \"75/1056 - Downloading data for site 03197445\""
      ]
     },
     "metadata": {
      "display_id": "status",
      "update": true
     },
     "output_type": "display_data"
    },
    {
     "name": "stderr",
     "output_type": "stream",
     "text": [
      "GET: https://nwis.waterservices.usgs.gov/nwis/iv/?site=03197445&format=waterml,1.1&ParameterCd=00060&startDT=2014-01-01&endDT=2025-05-08\n",
      "\n"
     ]
    },
    {
     "data": {
      "text/html": [
       "'77/1056 - Downloading data for site 03159750'"
      ],
      "text/latex": [
       "'77/1056 - Downloading data for site 03159750'"
      ],
      "text/markdown": [
       "'77/1056 - Downloading data for site 03159750'"
      ],
      "text/plain": [
       "[1] \"77/1056 - Downloading data for site 03159750\""
      ]
     },
     "metadata": {
      "display_id": "status",
      "update": true
     },
     "output_type": "display_data"
    },
    {
     "name": "stderr",
     "output_type": "stream",
     "text": [
      "GET: https://nwis.waterservices.usgs.gov/nwis/iv/?site=03159750&format=waterml,1.1&ParameterCd=00060&startDT=2014-01-01&endDT=2025-05-08\n",
      "\n"
     ]
    },
    {
     "data": {
      "text/html": [
       "'81/1056 - Downloading data for site 03155588'"
      ],
      "text/latex": [
       "'81/1056 - Downloading data for site 03155588'"
      ],
      "text/markdown": [
       "'81/1056 - Downloading data for site 03155588'"
      ],
      "text/plain": [
       "[1] \"81/1056 - Downloading data for site 03155588\""
      ]
     },
     "metadata": {
      "display_id": "status",
      "update": true
     },
     "output_type": "display_data"
    },
    {
     "name": "stderr",
     "output_type": "stream",
     "text": [
      "GET: https://nwis.waterservices.usgs.gov/nwis/iv/?site=03155588&format=waterml,1.1&ParameterCd=00060&startDT=2014-01-01&endDT=2025-05-08\n",
      "\n"
     ]
    },
    {
     "data": {
      "text/html": [
       "'82/1056 - Downloading data for site 03049975'"
      ],
      "text/latex": [
       "'82/1056 - Downloading data for site 03049975'"
      ],
      "text/markdown": [
       "'82/1056 - Downloading data for site 03049975'"
      ],
      "text/plain": [
       "[1] \"82/1056 - Downloading data for site 03049975\""
      ]
     },
     "metadata": {
      "display_id": "status",
      "update": true
     },
     "output_type": "display_data"
    },
    {
     "name": "stderr",
     "output_type": "stream",
     "text": [
      "GET: https://nwis.waterservices.usgs.gov/nwis/iv/?site=03049975&format=waterml,1.1&ParameterCd=00060&startDT=2014-01-01&endDT=2025-05-08\n",
      "\n"
     ]
    },
    {
     "data": {
      "text/html": [
       "'83/1056 - Downloading data for site 03051100'"
      ],
      "text/latex": [
       "'83/1056 - Downloading data for site 03051100'"
      ],
      "text/markdown": [
       "'83/1056 - Downloading data for site 03051100'"
      ],
      "text/plain": [
       "[1] \"83/1056 - Downloading data for site 03051100\""
      ]
     },
     "metadata": {
      "display_id": "status",
      "update": true
     },
     "output_type": "display_data"
    },
    {
     "name": "stderr",
     "output_type": "stream",
     "text": [
      "GET: https://nwis.waterservices.usgs.gov/nwis/iv/?site=03051100&format=waterml,1.1&ParameterCd=00060&startDT=2014-01-01&endDT=2025-05-08\n",
      "\n"
     ]
    },
    {
     "data": {
      "text/html": [
       "'84/1056 - Downloading data for site 03068000'"
      ],
      "text/latex": [
       "'84/1056 - Downloading data for site 03068000'"
      ],
      "text/markdown": [
       "'84/1056 - Downloading data for site 03068000'"
      ],
      "text/plain": [
       "[1] \"84/1056 - Downloading data for site 03068000\""
      ]
     },
     "metadata": {
      "display_id": "status",
      "update": true
     },
     "output_type": "display_data"
    },
    {
     "name": "stderr",
     "output_type": "stream",
     "text": [
      "GET: https://nwis.waterservices.usgs.gov/nwis/iv/?site=03068000&format=waterml,1.1&ParameterCd=00060&startDT=2014-01-01&endDT=2025-05-08\n",
      "\n"
     ]
    },
    {
     "data": {
      "text/html": [
       "'87/1056 - Downloading data for site 03057300'"
      ],
      "text/latex": [
       "'87/1056 - Downloading data for site 03057300'"
      ],
      "text/markdown": [
       "'87/1056 - Downloading data for site 03057300'"
      ],
      "text/plain": [
       "[1] \"87/1056 - Downloading data for site 03057300\""
      ]
     },
     "metadata": {
      "display_id": "status",
      "update": true
     },
     "output_type": "display_data"
    },
    {
     "name": "stderr",
     "output_type": "stream",
     "text": [
      "GET: https://nwis.waterservices.usgs.gov/nwis/iv/?site=03057300&format=waterml,1.1&ParameterCd=00060&startDT=2014-01-01&endDT=2025-05-08\n",
      "\n"
     ]
    },
    {
     "data": {
      "text/html": [
       "'88/1056 - Downloading data for site 03063550'"
      ],
      "text/latex": [
       "'88/1056 - Downloading data for site 03063550'"
      ],
      "text/markdown": [
       "'88/1056 - Downloading data for site 03063550'"
      ],
      "text/plain": [
       "[1] \"88/1056 - Downloading data for site 03063550\""
      ]
     },
     "metadata": {
      "display_id": "status",
      "update": true
     },
     "output_type": "display_data"
    },
    {
     "name": "stderr",
     "output_type": "stream",
     "text": [
      "GET: https://nwis.waterservices.usgs.gov/nwis/iv/?site=03063550&format=waterml,1.1&ParameterCd=00060&startDT=2014-01-01&endDT=2025-05-08\n",
      "\n"
     ]
    },
    {
     "data": {
      "text/html": [
       "'90/1056 - Downloading data for site 03051260'"
      ],
      "text/latex": [
       "'90/1056 - Downloading data for site 03051260'"
      ],
      "text/markdown": [
       "'90/1056 - Downloading data for site 03051260'"
      ],
      "text/plain": [
       "[1] \"90/1056 - Downloading data for site 03051260\""
      ]
     },
     "metadata": {
      "display_id": "status",
      "update": true
     },
     "output_type": "display_data"
    },
    {
     "name": "stderr",
     "output_type": "stream",
     "text": [
      "GET: https://nwis.waterservices.usgs.gov/nwis/iv/?site=03051260&format=waterml,1.1&ParameterCd=00060&startDT=2014-01-01&endDT=2025-05-08\n",
      "\n"
     ]
    },
    {
     "data": {
      "text/html": [
       "'91/1056 - Downloading data for site 03050339'"
      ],
      "text/latex": [
       "'91/1056 - Downloading data for site 03050339'"
      ],
      "text/markdown": [
       "'91/1056 - Downloading data for site 03050339'"
      ],
      "text/plain": [
       "[1] \"91/1056 - Downloading data for site 03050339\""
      ]
     },
     "metadata": {
      "display_id": "status",
      "update": true
     },
     "output_type": "display_data"
    },
    {
     "name": "stderr",
     "output_type": "stream",
     "text": [
      "GET: https://nwis.waterservices.usgs.gov/nwis/iv/?site=03050339&format=waterml,1.1&ParameterCd=00060&startDT=2014-01-01&endDT=2025-05-08\n",
      "\n"
     ]
    },
    {
     "data": {
      "text/html": [
       "'94/1056 - Downloading data for site 03195500'"
      ],
      "text/latex": [
       "'94/1056 - Downloading data for site 03195500'"
      ],
      "text/markdown": [
       "'94/1056 - Downloading data for site 03195500'"
      ],
      "text/plain": [
       "[1] \"94/1056 - Downloading data for site 03195500\""
      ]
     },
     "metadata": {
      "display_id": "status",
      "update": true
     },
     "output_type": "display_data"
    },
    {
     "name": "stderr",
     "output_type": "stream",
     "text": [
      "GET: https://nwis.waterservices.usgs.gov/nwis/iv/?site=03195500&format=waterml,1.1&ParameterCd=00060&startDT=2014-01-01&endDT=2025-05-08\n",
      "\n"
     ]
    },
    {
     "data": {
      "text/html": [
       "'95/1056 - Downloading data for site 03151550'"
      ],
      "text/latex": [
       "'95/1056 - Downloading data for site 03151550'"
      ],
      "text/markdown": [
       "'95/1056 - Downloading data for site 03151550'"
      ],
      "text/plain": [
       "[1] \"95/1056 - Downloading data for site 03151550\""
      ]
     },
     "metadata": {
      "display_id": "status",
      "update": true
     },
     "output_type": "display_data"
    },
    {
     "name": "stderr",
     "output_type": "stream",
     "text": [
      "GET: https://nwis.waterservices.usgs.gov/nwis/iv/?site=03151550&format=waterml,1.1&ParameterCd=00060&startDT=2014-01-01&endDT=2025-05-08\n",
      "\n"
     ]
    },
    {
     "data": {
      "text/html": [
       "'98/1056 - Downloading data for site 03153500'"
      ],
      "text/latex": [
       "'98/1056 - Downloading data for site 03153500'"
      ],
      "text/markdown": [
       "'98/1056 - Downloading data for site 03153500'"
      ],
      "text/plain": [
       "[1] \"98/1056 - Downloading data for site 03153500\""
      ]
     },
     "metadata": {
      "display_id": "status",
      "update": true
     },
     "output_type": "display_data"
    },
    {
     "name": "stderr",
     "output_type": "stream",
     "text": [
      "GET: https://nwis.waterservices.usgs.gov/nwis/iv/?site=03153500&format=waterml,1.1&ParameterCd=00060&startDT=2014-01-01&endDT=2025-05-08\n",
      "\n"
     ]
    },
    {
     "data": {
      "text/html": [
       "'101/1056 - Downloading data for site 03155405'"
      ],
      "text/latex": [
       "'101/1056 - Downloading data for site 03155405'"
      ],
      "text/markdown": [
       "'101/1056 - Downloading data for site 03155405'"
      ],
      "text/plain": [
       "[1] \"101/1056 - Downloading data for site 03155405\""
      ]
     },
     "metadata": {
      "display_id": "status",
      "update": true
     },
     "output_type": "display_data"
    },
    {
     "name": "stderr",
     "output_type": "stream",
     "text": [
      "GET: https://nwis.waterservices.usgs.gov/nwis/iv/?site=03155405&format=waterml,1.1&ParameterCd=00060&startDT=2014-01-01&endDT=2025-05-08\n",
      "\n"
     ]
    },
    {
     "data": {
      "text/html": [
       "'102/1056 - Downloading data for site 03050500'"
      ],
      "text/latex": [
       "'102/1056 - Downloading data for site 03050500'"
      ],
      "text/markdown": [
       "'102/1056 - Downloading data for site 03050500'"
      ],
      "text/plain": [
       "[1] \"102/1056 - Downloading data for site 03050500\""
      ]
     },
     "metadata": {
      "display_id": "status",
      "update": true
     },
     "output_type": "display_data"
    },
    {
     "name": "stderr",
     "output_type": "stream",
     "text": [
      "GET: https://nwis.waterservices.usgs.gov/nwis/iv/?site=03050500&format=waterml,1.1&ParameterCd=00060&startDT=2014-01-01&endDT=2025-05-08\n",
      "\n"
     ]
    },
    {
     "data": {
      "text/html": [
       "'104/1056 - Downloading data for site 03057900'"
      ],
      "text/latex": [
       "'104/1056 - Downloading data for site 03057900'"
      ],
      "text/markdown": [
       "'104/1056 - Downloading data for site 03057900'"
      ],
      "text/plain": [
       "[1] \"104/1056 - Downloading data for site 03057900\""
      ]
     },
     "metadata": {
      "display_id": "status",
      "update": true
     },
     "output_type": "display_data"
    },
    {
     "name": "stderr",
     "output_type": "stream",
     "text": [
      "GET: https://nwis.waterservices.usgs.gov/nwis/iv/?site=03057900&format=waterml,1.1&ParameterCd=00060&startDT=2014-01-01&endDT=2025-05-08\n",
      "\n"
     ]
    },
    {
     "data": {
      "text/html": [
       "'107/1056 - Downloading data for site 03064800'"
      ],
      "text/latex": [
       "'107/1056 - Downloading data for site 03064800'"
      ],
      "text/markdown": [
       "'107/1056 - Downloading data for site 03064800'"
      ],
      "text/plain": [
       "[1] \"107/1056 - Downloading data for site 03064800\""
      ]
     },
     "metadata": {
      "display_id": "status",
      "update": true
     },
     "output_type": "display_data"
    },
    {
     "name": "stderr",
     "output_type": "stream",
     "text": [
      "GET: https://nwis.waterservices.usgs.gov/nwis/iv/?site=03064800&format=waterml,1.1&ParameterCd=00060&startDT=2014-01-01&endDT=2025-05-08\n",
      "\n"
     ]
    },
    {
     "data": {
      "text/html": [
       "'109/1056 - Downloading data for site 03058020'"
      ],
      "text/latex": [
       "'109/1056 - Downloading data for site 03058020'"
      ],
      "text/markdown": [
       "'109/1056 - Downloading data for site 03058020'"
      ],
      "text/plain": [
       "[1] \"109/1056 - Downloading data for site 03058020\""
      ]
     },
     "metadata": {
      "display_id": "status",
      "update": true
     },
     "output_type": "display_data"
    },
    {
     "name": "stderr",
     "output_type": "stream",
     "text": [
      "GET: https://nwis.waterservices.usgs.gov/nwis/iv/?site=03058020&format=waterml,1.1&ParameterCd=00060&startDT=2014-01-01&endDT=2025-05-08\n",
      "\n"
     ]
    },
    {
     "data": {
      "text/html": [
       "'117/1056 - Downloading data for site 03058975'"
      ],
      "text/latex": [
       "'117/1056 - Downloading data for site 03058975'"
      ],
      "text/markdown": [
       "'117/1056 - Downloading data for site 03058975'"
      ],
      "text/plain": [
       "[1] \"117/1056 - Downloading data for site 03058975\""
      ]
     },
     "metadata": {
      "display_id": "status",
      "update": true
     },
     "output_type": "display_data"
    },
    {
     "name": "stderr",
     "output_type": "stream",
     "text": [
      "GET: https://nwis.waterservices.usgs.gov/nwis/iv/?site=03058975&format=waterml,1.1&ParameterCd=00060&startDT=2014-01-01&endDT=2025-05-08\n",
      "\n"
     ]
    },
    {
     "data": {
      "text/html": [
       "'118/1056 - Downloading data for site 03055500'"
      ],
      "text/latex": [
       "'118/1056 - Downloading data for site 03055500'"
      ],
      "text/markdown": [
       "'118/1056 - Downloading data for site 03055500'"
      ],
      "text/plain": [
       "[1] \"118/1056 - Downloading data for site 03055500\""
      ]
     },
     "metadata": {
      "display_id": "status",
      "update": true
     },
     "output_type": "display_data"
    },
    {
     "name": "stderr",
     "output_type": "stream",
     "text": [
      "GET: https://nwis.waterservices.usgs.gov/nwis/iv/?site=03055500&format=waterml,1.1&ParameterCd=00060&startDT=2014-01-01&endDT=2025-05-08\n",
      "\n"
     ]
    },
    {
     "data": {
      "text/html": [
       "'122/1056 - Downloading data for site 03151000'"
      ],
      "text/latex": [
       "'122/1056 - Downloading data for site 03151000'"
      ],
      "text/markdown": [
       "'122/1056 - Downloading data for site 03151000'"
      ],
      "text/plain": [
       "[1] \"122/1056 - Downloading data for site 03151000\""
      ]
     },
     "metadata": {
      "display_id": "status",
      "update": true
     },
     "output_type": "display_data"
    },
    {
     "name": "stderr",
     "output_type": "stream",
     "text": [
      "GET: https://nwis.waterservices.usgs.gov/nwis/iv/?site=03151000&format=waterml,1.1&ParameterCd=00060&startDT=2014-01-01&endDT=2025-05-08\n",
      "\n"
     ]
    },
    {
     "data": {
      "text/html": [
       "'123/1056 - Downloading data for site 03150700'"
      ],
      "text/latex": [
       "'123/1056 - Downloading data for site 03150700'"
      ],
      "text/markdown": [
       "'123/1056 - Downloading data for site 03150700'"
      ],
      "text/plain": [
       "[1] \"123/1056 - Downloading data for site 03150700\""
      ]
     },
     "metadata": {
      "display_id": "status",
      "update": true
     },
     "output_type": "display_data"
    },
    {
     "name": "stderr",
     "output_type": "stream",
     "text": [
      "GET: https://nwis.waterservices.usgs.gov/nwis/iv/?site=03150700&format=waterml,1.1&ParameterCd=00060&startDT=2014-01-01&endDT=2025-05-08\n",
      "\n"
     ]
    },
    {
     "data": {
      "text/html": [
       "'129/1056 - Downloading data for site 03140900'"
      ],
      "text/latex": [
       "'129/1056 - Downloading data for site 03140900'"
      ],
      "text/markdown": [
       "'129/1056 - Downloading data for site 03140900'"
      ],
      "text/plain": [
       "[1] \"129/1056 - Downloading data for site 03140900\""
      ]
     },
     "metadata": {
      "display_id": "status",
      "update": true
     },
     "output_type": "display_data"
    },
    {
     "name": "stderr",
     "output_type": "stream",
     "text": [
      "GET: https://nwis.waterservices.usgs.gov/nwis/iv/?site=03140900&format=waterml,1.1&ParameterCd=00060&startDT=2014-01-01&endDT=2025-05-08\n",
      "\n"
     ]
    },
    {
     "data": {
      "text/html": [
       "'130/1056 - Downloading data for site 03140853'"
      ],
      "text/latex": [
       "'130/1056 - Downloading data for site 03140853'"
      ],
      "text/markdown": [
       "'130/1056 - Downloading data for site 03140853'"
      ],
      "text/plain": [
       "[1] \"130/1056 - Downloading data for site 03140853\""
      ]
     },
     "metadata": {
      "display_id": "status",
      "update": true
     },
     "output_type": "display_data"
    },
    {
     "name": "stderr",
     "output_type": "stream",
     "text": [
      "GET: https://nwis.waterservices.usgs.gov/nwis/iv/?site=03140853&format=waterml,1.1&ParameterCd=00060&startDT=2014-01-01&endDT=2025-05-08\n",
      "\n"
     ]
    },
    {
     "data": {
      "text/html": [
       "'131/1056 - Downloading data for site 03140950'"
      ],
      "text/latex": [
       "'131/1056 - Downloading data for site 03140950'"
      ],
      "text/markdown": [
       "'131/1056 - Downloading data for site 03140950'"
      ],
      "text/plain": [
       "[1] \"131/1056 - Downloading data for site 03140950\""
      ]
     },
     "metadata": {
      "display_id": "status",
      "update": true
     },
     "output_type": "display_data"
    },
    {
     "name": "stderr",
     "output_type": "stream",
     "text": [
      "GET: https://nwis.waterservices.usgs.gov/nwis/iv/?site=03140950&format=waterml,1.1&ParameterCd=00060&startDT=2014-01-01&endDT=2025-05-08\n",
      "\n"
     ]
    },
    {
     "data": {
      "text/html": [
       "'137/1056 - Downloading data for site 03114280'"
      ],
      "text/latex": [
       "'137/1056 - Downloading data for site 03114280'"
      ],
      "text/markdown": [
       "'137/1056 - Downloading data for site 03114280'"
      ],
      "text/plain": [
       "[1] \"137/1056 - Downloading data for site 03114280\""
      ]
     },
     "metadata": {
      "display_id": "status",
      "update": true
     },
     "output_type": "display_data"
    },
    {
     "name": "stderr",
     "output_type": "stream",
     "text": [
      "GET: https://nwis.waterservices.usgs.gov/nwis/iv/?site=03114280&format=waterml,1.1&ParameterCd=00060&startDT=2014-01-01&endDT=2025-05-08\n",
      "\n"
     ]
    },
    {
     "data": {
      "text/html": [
       "'138/1056 - Downloading data for site 03114275'"
      ],
      "text/latex": [
       "'138/1056 - Downloading data for site 03114275'"
      ],
      "text/markdown": [
       "'138/1056 - Downloading data for site 03114275'"
      ],
      "text/plain": [
       "[1] \"138/1056 - Downloading data for site 03114275\""
      ]
     },
     "metadata": {
      "display_id": "status",
      "update": true
     },
     "output_type": "display_data"
    },
    {
     "name": "stderr",
     "output_type": "stream",
     "text": [
      "GET: https://nwis.waterservices.usgs.gov/nwis/iv/?site=03114275&format=waterml,1.1&ParameterCd=00060&startDT=2014-01-01&endDT=2025-05-08\n",
      "\n"
     ]
    },
    {
     "data": {
      "text/html": [
       "'140/1056 - Downloading data for site 03111950'"
      ],
      "text/latex": [
       "'140/1056 - Downloading data for site 03111950'"
      ],
      "text/markdown": [
       "'140/1056 - Downloading data for site 03111950'"
      ],
      "text/plain": [
       "[1] \"140/1056 - Downloading data for site 03111950\""
      ]
     },
     "metadata": {
      "display_id": "status",
      "update": true
     },
     "output_type": "display_data"
    },
    {
     "name": "stderr",
     "output_type": "stream",
     "text": [
      "GET: https://nwis.waterservices.usgs.gov/nwis/iv/?site=03111950&format=waterml,1.1&ParameterCd=00060&startDT=2014-01-01&endDT=2025-05-08\n",
      "\n"
     ]
    },
    {
     "data": {
      "text/html": [
       "'142/1056 - Downloading data for site 03062445'"
      ],
      "text/latex": [
       "'142/1056 - Downloading data for site 03062445'"
      ],
      "text/markdown": [
       "'142/1056 - Downloading data for site 03062445'"
      ],
      "text/plain": [
       "[1] \"142/1056 - Downloading data for site 03062445\""
      ]
     },
     "metadata": {
      "display_id": "status",
      "update": true
     },
     "output_type": "display_data"
    },
    {
     "name": "stderr",
     "output_type": "stream",
     "text": [
      "GET: https://nwis.waterservices.usgs.gov/nwis/iv/?site=03062445&format=waterml,1.1&ParameterCd=00060&startDT=2014-01-01&endDT=2025-05-08\n",
      "\n"
     ]
    },
    {
     "data": {
      "text/html": [
       "'143/1056 - Downloading data for site 03062450'"
      ],
      "text/latex": [
       "'143/1056 - Downloading data for site 03062450'"
      ],
      "text/markdown": [
       "'143/1056 - Downloading data for site 03062450'"
      ],
      "text/plain": [
       "[1] \"143/1056 - Downloading data for site 03062450\""
      ]
     },
     "metadata": {
      "display_id": "status",
      "update": true
     },
     "output_type": "display_data"
    },
    {
     "name": "stderr",
     "output_type": "stream",
     "text": [
      "GET: https://nwis.waterservices.usgs.gov/nwis/iv/?site=03062450&format=waterml,1.1&ParameterCd=00060&startDT=2014-01-01&endDT=2025-05-08\n",
      "\n"
     ]
    },
    {
     "data": {
      "text/html": [
       "'147/1056 - Downloading data for site 03071590'"
      ],
      "text/latex": [
       "'147/1056 - Downloading data for site 03071590'"
      ],
      "text/markdown": [
       "'147/1056 - Downloading data for site 03071590'"
      ],
      "text/plain": [
       "[1] \"147/1056 - Downloading data for site 03071590\""
      ]
     },
     "metadata": {
      "display_id": "status",
      "update": true
     },
     "output_type": "display_data"
    },
    {
     "name": "stderr",
     "output_type": "stream",
     "text": [
      "GET: https://nwis.waterservices.usgs.gov/nwis/iv/?site=03071590&format=waterml,1.1&ParameterCd=00060&startDT=2014-01-01&endDT=2025-05-08\n",
      "\n"
     ]
    },
    {
     "data": {
      "text/html": [
       "'148/1056 - Downloading data for site 03071600'"
      ],
      "text/latex": [
       "'148/1056 - Downloading data for site 03071600'"
      ],
      "text/markdown": [
       "'148/1056 - Downloading data for site 03071600'"
      ],
      "text/plain": [
       "[1] \"148/1056 - Downloading data for site 03071600\""
      ]
     },
     "metadata": {
      "display_id": "status",
      "update": true
     },
     "output_type": "display_data"
    },
    {
     "name": "stderr",
     "output_type": "stream",
     "text": [
      "GET: https://nwis.waterservices.usgs.gov/nwis/iv/?site=03071600&format=waterml,1.1&ParameterCd=00060&startDT=2014-01-01&endDT=2025-05-08\n",
      "\n"
     ]
    },
    {
     "data": {
      "text/html": [
       "'149/1056 - Downloading data for site 03063000'"
      ],
      "text/latex": [
       "'149/1056 - Downloading data for site 03063000'"
      ],
      "text/markdown": [
       "'149/1056 - Downloading data for site 03063000'"
      ],
      "text/plain": [
       "[1] \"149/1056 - Downloading data for site 03063000\""
      ]
     },
     "metadata": {
      "display_id": "status",
      "update": true
     },
     "output_type": "display_data"
    },
    {
     "name": "stderr",
     "output_type": "stream",
     "text": [
      "GET: https://nwis.waterservices.usgs.gov/nwis/iv/?site=03063000&format=waterml,1.1&ParameterCd=00060&startDT=2014-01-01&endDT=2025-05-08\n",
      "\n"
     ]
    },
    {
     "data": {
      "text/html": [
       "'150/1056 - Downloading data for site 03062998'"
      ],
      "text/latex": [
       "'150/1056 - Downloading data for site 03062998'"
      ],
      "text/markdown": [
       "'150/1056 - Downloading data for site 03062998'"
      ],
      "text/plain": [
       "[1] \"150/1056 - Downloading data for site 03062998\""
      ]
     },
     "metadata": {
      "display_id": "status",
      "update": true
     },
     "output_type": "display_data"
    },
    {
     "name": "stderr",
     "output_type": "stream",
     "text": [
      "GET: https://nwis.waterservices.usgs.gov/nwis/iv/?site=03062998&format=waterml,1.1&ParameterCd=00060&startDT=2014-01-01&endDT=2025-05-08\n",
      "\n"
     ]
    },
    {
     "data": {
      "text/html": [
       "'154/1056 - Downloading data for site 03432100'"
      ],
      "text/latex": [
       "'154/1056 - Downloading data for site 03432100'"
      ],
      "text/markdown": [
       "'154/1056 - Downloading data for site 03432100'"
      ],
      "text/plain": [
       "[1] \"154/1056 - Downloading data for site 03432100\""
      ]
     },
     "metadata": {
      "display_id": "status",
      "update": true
     },
     "output_type": "display_data"
    },
    {
     "name": "stderr",
     "output_type": "stream",
     "text": [
      "GET: https://nwis.waterservices.usgs.gov/nwis/iv/?site=03432100&format=waterml,1.1&ParameterCd=00060&startDT=2014-01-01&endDT=2025-05-08\n",
      "\n"
     ]
    },
    {
     "data": {
      "text/html": [
       "'169/1056 - Downloading data for site 03418420'"
      ],
      "text/latex": [
       "'169/1056 - Downloading data for site 03418420'"
      ],
      "text/markdown": [
       "'169/1056 - Downloading data for site 03418420'"
      ],
      "text/plain": [
       "[1] \"169/1056 - Downloading data for site 03418420\""
      ]
     },
     "metadata": {
      "display_id": "status",
      "update": true
     },
     "output_type": "display_data"
    },
    {
     "name": "stderr",
     "output_type": "stream",
     "text": [
      "GET: https://nwis.waterservices.usgs.gov/nwis/iv/?site=03418420&format=waterml,1.1&ParameterCd=00060&startDT=2014-01-01&endDT=2025-05-08\n",
      "\n"
     ]
    },
    {
     "data": {
      "text/html": [
       "'182/1056 - Downloading data for site 03431091'"
      ],
      "text/latex": [
       "'182/1056 - Downloading data for site 03431091'"
      ],
      "text/markdown": [
       "'182/1056 - Downloading data for site 03431091'"
      ],
      "text/plain": [
       "[1] \"182/1056 - Downloading data for site 03431091\""
      ]
     },
     "metadata": {
      "display_id": "status",
      "update": true
     },
     "output_type": "display_data"
    },
    {
     "name": "stderr",
     "output_type": "stream",
     "text": [
      "GET: https://nwis.waterservices.usgs.gov/nwis/iv/?site=03431091&format=waterml,1.1&ParameterCd=00060&startDT=2014-01-01&endDT=2025-05-08\n",
      "\n"
     ]
    },
    {
     "data": {
      "text/html": [
       "'183/1056 - Downloading data for site 03431712'"
      ],
      "text/latex": [
       "'183/1056 - Downloading data for site 03431712'"
      ],
      "text/markdown": [
       "'183/1056 - Downloading data for site 03431712'"
      ],
      "text/plain": [
       "[1] \"183/1056 - Downloading data for site 03431712\""
      ]
     },
     "metadata": {
      "display_id": "status",
      "update": true
     },
     "output_type": "display_data"
    },
    {
     "name": "stderr",
     "output_type": "stream",
     "text": [
      "GET: https://nwis.waterservices.usgs.gov/nwis/iv/?site=03431712&format=waterml,1.1&ParameterCd=00060&startDT=2014-01-01&endDT=2025-05-08\n",
      "\n"
     ]
    },
    {
     "data": {
      "text/html": [
       "'185/1056 - Downloading data for site 03431514'"
      ],
      "text/latex": [
       "'185/1056 - Downloading data for site 03431514'"
      ],
      "text/markdown": [
       "'185/1056 - Downloading data for site 03431514'"
      ],
      "text/plain": [
       "[1] \"185/1056 - Downloading data for site 03431514\""
      ]
     },
     "metadata": {
      "display_id": "status",
      "update": true
     },
     "output_type": "display_data"
    },
    {
     "name": "stderr",
     "output_type": "stream",
     "text": [
      "GET: https://nwis.waterservices.usgs.gov/nwis/iv/?site=03431514&format=waterml,1.1&ParameterCd=00060&startDT=2014-01-01&endDT=2025-05-08\n",
      "\n"
     ]
    },
    {
     "data": {
      "text/html": [
       "'186/1056 - Downloading data for site 03430250'"
      ],
      "text/latex": [
       "'186/1056 - Downloading data for site 03430250'"
      ],
      "text/markdown": [
       "'186/1056 - Downloading data for site 03430250'"
      ],
      "text/plain": [
       "[1] \"186/1056 - Downloading data for site 03430250\""
      ]
     },
     "metadata": {
      "display_id": "status",
      "update": true
     },
     "output_type": "display_data"
    },
    {
     "name": "stderr",
     "output_type": "stream",
     "text": [
      "GET: https://nwis.waterservices.usgs.gov/nwis/iv/?site=03430250&format=waterml,1.1&ParameterCd=00060&startDT=2014-01-01&endDT=2025-05-08\n",
      "\n"
     ]
    },
    {
     "data": {
      "text/html": [
       "'188/1056 - Downloading data for site 03430320'"
      ],
      "text/latex": [
       "'188/1056 - Downloading data for site 03430320'"
      ],
      "text/markdown": [
       "'188/1056 - Downloading data for site 03430320'"
      ],
      "text/plain": [
       "[1] \"188/1056 - Downloading data for site 03430320\""
      ]
     },
     "metadata": {
      "display_id": "status",
      "update": true
     },
     "output_type": "display_data"
    },
    {
     "name": "stderr",
     "output_type": "stream",
     "text": [
      "GET: https://nwis.waterservices.usgs.gov/nwis/iv/?site=03430320&format=waterml,1.1&ParameterCd=00060&startDT=2014-01-01&endDT=2025-05-08\n",
      "\n"
     ]
    },
    {
     "data": {
      "text/html": [
       "'192/1056 - Downloading data for site 03426490'"
      ],
      "text/latex": [
       "'192/1056 - Downloading data for site 03426490'"
      ],
      "text/markdown": [
       "'192/1056 - Downloading data for site 03426490'"
      ],
      "text/plain": [
       "[1] \"192/1056 - Downloading data for site 03426490\""
      ]
     },
     "metadata": {
      "display_id": "status",
      "update": true
     },
     "output_type": "display_data"
    },
    {
     "name": "stderr",
     "output_type": "stream",
     "text": [
      "GET: https://nwis.waterservices.usgs.gov/nwis/iv/?site=03426490&format=waterml,1.1&ParameterCd=00060&startDT=2014-01-01&endDT=2025-05-08\n",
      "\n"
     ]
    },
    {
     "data": {
      "text/html": [
       "'199/1056 - Downloading data for site 03437500'"
      ],
      "text/latex": [
       "'199/1056 - Downloading data for site 03437500'"
      ],
      "text/markdown": [
       "'199/1056 - Downloading data for site 03437500'"
      ],
      "text/plain": [
       "[1] \"199/1056 - Downloading data for site 03437500\""
      ]
     },
     "metadata": {
      "display_id": "status",
      "update": true
     },
     "output_type": "display_data"
    },
    {
     "name": "stderr",
     "output_type": "stream",
     "text": [
      "GET: https://nwis.waterservices.usgs.gov/nwis/iv/?site=03437500&format=waterml,1.1&ParameterCd=00060&startDT=2014-01-01&endDT=2025-05-08\n",
      "\n"
     ]
    },
    {
     "data": {
      "text/html": [
       "'204/1056 - Downloading data for site 03417500'"
      ],
      "text/latex": [
       "'204/1056 - Downloading data for site 03417500'"
      ],
      "text/markdown": [
       "'204/1056 - Downloading data for site 03417500'"
      ],
      "text/plain": [
       "[1] \"204/1056 - Downloading data for site 03417500\""
      ]
     },
     "metadata": {
      "display_id": "status",
      "update": true
     },
     "output_type": "display_data"
    },
    {
     "name": "stderr",
     "output_type": "stream",
     "text": [
      "GET: https://nwis.waterservices.usgs.gov/nwis/iv/?site=03417500&format=waterml,1.1&ParameterCd=00060&startDT=2014-01-01&endDT=2025-05-08\n",
      "\n"
     ]
    },
    {
     "data": {
      "text/html": [
       "'206/1056 - Downloading data for site 03414170'"
      ],
      "text/latex": [
       "'206/1056 - Downloading data for site 03414170'"
      ],
      "text/markdown": [
       "'206/1056 - Downloading data for site 03414170'"
      ],
      "text/plain": [
       "[1] \"206/1056 - Downloading data for site 03414170\""
      ]
     },
     "metadata": {
      "display_id": "status",
      "update": true
     },
     "output_type": "display_data"
    },
    {
     "name": "stderr",
     "output_type": "stream",
     "text": [
      "GET: https://nwis.waterservices.usgs.gov/nwis/iv/?site=03414170&format=waterml,1.1&ParameterCd=00060&startDT=2014-01-01&endDT=2025-05-08\n",
      "\n"
     ]
    },
    {
     "data": {
      "text/html": [
       "'208/1056 - Downloading data for site 03312900'"
      ],
      "text/latex": [
       "'208/1056 - Downloading data for site 03312900'"
      ],
      "text/markdown": [
       "'208/1056 - Downloading data for site 03312900'"
      ],
      "text/plain": [
       "[1] \"208/1056 - Downloading data for site 03312900\""
      ]
     },
     "metadata": {
      "display_id": "status",
      "update": true
     },
     "output_type": "display_data"
    },
    {
     "name": "stderr",
     "output_type": "stream",
     "text": [
      "GET: https://nwis.waterservices.usgs.gov/nwis/iv/?site=03312900&format=waterml,1.1&ParameterCd=00060&startDT=2014-01-01&endDT=2025-05-08\n",
      "\n"
     ]
    },
    {
     "data": {
      "text/html": [
       "'209/1056 - Downloading data for site 03313000'"
      ],
      "text/latex": [
       "'209/1056 - Downloading data for site 03313000'"
      ],
      "text/markdown": [
       "'209/1056 - Downloading data for site 03313000'"
      ],
      "text/plain": [
       "[1] \"209/1056 - Downloading data for site 03313000\""
      ]
     },
     "metadata": {
      "display_id": "status",
      "update": true
     },
     "output_type": "display_data"
    },
    {
     "name": "stderr",
     "output_type": "stream",
     "text": [
      "GET: https://nwis.waterservices.usgs.gov/nwis/iv/?site=03313000&format=waterml,1.1&ParameterCd=00060&startDT=2014-01-01&endDT=2025-05-08\n",
      "\n"
     ]
    },
    {
     "data": {
      "text/html": [
       "'217/1056 - Downloading data for site 03414000'"
      ],
      "text/latex": [
       "'217/1056 - Downloading data for site 03414000'"
      ],
      "text/markdown": [
       "'217/1056 - Downloading data for site 03414000'"
      ],
      "text/plain": [
       "[1] \"217/1056 - Downloading data for site 03414000\""
      ]
     },
     "metadata": {
      "display_id": "status",
      "update": true
     },
     "output_type": "display_data"
    },
    {
     "name": "stderr",
     "output_type": "stream",
     "text": [
      "GET: https://nwis.waterservices.usgs.gov/nwis/iv/?site=03414000&format=waterml,1.1&ParameterCd=00060&startDT=2014-01-01&endDT=2025-05-08\n",
      "\n"
     ]
    },
    {
     "data": {
      "text/html": [
       "'223/1056 - Downloading data for site 03400798'"
      ],
      "text/latex": [
       "'223/1056 - Downloading data for site 03400798'"
      ],
      "text/markdown": [
       "'223/1056 - Downloading data for site 03400798'"
      ],
      "text/plain": [
       "[1] \"223/1056 - Downloading data for site 03400798\""
      ]
     },
     "metadata": {
      "display_id": "status",
      "update": true
     },
     "output_type": "display_data"
    },
    {
     "name": "stderr",
     "output_type": "stream",
     "text": [
      "GET: https://nwis.waterservices.usgs.gov/nwis/iv/?site=03400798&format=waterml,1.1&ParameterCd=00060&startDT=2014-01-01&endDT=2025-05-08\n",
      "\n"
     ]
    },
    {
     "data": {
      "text/html": [
       "'230/1056 - Downloading data for site 03209310'"
      ],
      "text/latex": [
       "'230/1056 - Downloading data for site 03209310'"
      ],
      "text/markdown": [
       "'230/1056 - Downloading data for site 03209310'"
      ],
      "text/plain": [
       "[1] \"230/1056 - Downloading data for site 03209310\""
      ]
     },
     "metadata": {
      "display_id": "status",
      "update": true
     },
     "output_type": "display_data"
    },
    {
     "name": "stderr",
     "output_type": "stream",
     "text": [
      "GET: https://nwis.waterservices.usgs.gov/nwis/iv/?site=03209310&format=waterml,1.1&ParameterCd=00060&startDT=2014-01-01&endDT=2025-05-08\n",
      "\n"
     ]
    },
    {
     "data": {
      "text/html": [
       "'231/1056 - Downloading data for site 371016082381001'"
      ],
      "text/latex": [
       "'231/1056 - Downloading data for site 371016082381001'"
      ],
      "text/markdown": [
       "'231/1056 - Downloading data for site 371016082381001'"
      ],
      "text/plain": [
       "[1] \"231/1056 - Downloading data for site 371016082381001\""
      ]
     },
     "metadata": {
      "display_id": "status",
      "update": true
     },
     "output_type": "display_data"
    },
    {
     "name": "stderr",
     "output_type": "stream",
     "text": [
      "GET: https://nwis.waterservices.usgs.gov/nwis/iv/?site=371016082381001&format=waterml,1.1&ParameterCd=00060&startDT=2014-01-01&endDT=2025-05-08\n",
      "\n"
     ]
    },
    {
     "data": {
      "text/html": [
       "'235/1056 - Downloading data for site 03403500'"
      ],
      "text/latex": [
       "'235/1056 - Downloading data for site 03403500'"
      ],
      "text/markdown": [
       "'235/1056 - Downloading data for site 03403500'"
      ],
      "text/plain": [
       "[1] \"235/1056 - Downloading data for site 03403500\""
      ]
     },
     "metadata": {
      "display_id": "status",
      "update": true
     },
     "output_type": "display_data"
    },
    {
     "name": "stderr",
     "output_type": "stream",
     "text": [
      "GET: https://nwis.waterservices.usgs.gov/nwis/iv/?site=03403500&format=waterml,1.1&ParameterCd=00060&startDT=2014-01-01&endDT=2025-05-08\n",
      "\n"
     ]
    },
    {
     "data": {
      "text/html": [
       "'237/1056 - Downloading data for site 03404820'"
      ],
      "text/latex": [
       "'237/1056 - Downloading data for site 03404820'"
      ],
      "text/markdown": [
       "'237/1056 - Downloading data for site 03404820'"
      ],
      "text/plain": [
       "[1] \"237/1056 - Downloading data for site 03404820\""
      ]
     },
     "metadata": {
      "display_id": "status",
      "update": true
     },
     "output_type": "display_data"
    },
    {
     "name": "stderr",
     "output_type": "stream",
     "text": [
      "GET: https://nwis.waterservices.usgs.gov/nwis/iv/?site=03404820&format=waterml,1.1&ParameterCd=00060&startDT=2014-01-01&endDT=2025-05-08\n",
      "\n"
     ]
    },
    {
     "data": {
      "text/html": [
       "'238/1056 - Downloading data for site 03280612'"
      ],
      "text/latex": [
       "'238/1056 - Downloading data for site 03280612'"
      ],
      "text/markdown": [
       "'238/1056 - Downloading data for site 03280612'"
      ],
      "text/plain": [
       "[1] \"238/1056 - Downloading data for site 03280612\""
      ]
     },
     "metadata": {
      "display_id": "status",
      "update": true
     },
     "output_type": "display_data"
    },
    {
     "name": "stderr",
     "output_type": "stream",
     "text": [
      "GET: https://nwis.waterservices.usgs.gov/nwis/iv/?site=03280612&format=waterml,1.1&ParameterCd=00060&startDT=2014-01-01&endDT=2025-05-08\n",
      "\n"
     ]
    },
    {
     "data": {
      "text/html": [
       "'241/1056 - Downloading data for site 03280790'"
      ],
      "text/latex": [
       "'241/1056 - Downloading data for site 03280790'"
      ],
      "text/markdown": [
       "'241/1056 - Downloading data for site 03280790'"
      ],
      "text/plain": [
       "[1] \"241/1056 - Downloading data for site 03280790\""
      ]
     },
     "metadata": {
      "display_id": "status",
      "update": true
     },
     "output_type": "display_data"
    },
    {
     "name": "stderr",
     "output_type": "stream",
     "text": [
      "GET: https://nwis.waterservices.usgs.gov/nwis/iv/?site=03280790&format=waterml,1.1&ParameterCd=00060&startDT=2014-01-01&endDT=2025-05-08\n",
      "\n"
     ]
    },
    {
     "data": {
      "text/html": [
       "'242/1056 - Downloading data for site 03209325'"
      ],
      "text/latex": [
       "'242/1056 - Downloading data for site 03209325'"
      ],
      "text/markdown": [
       "'242/1056 - Downloading data for site 03209325'"
      ],
      "text/plain": [
       "[1] \"242/1056 - Downloading data for site 03209325\""
      ]
     },
     "metadata": {
      "display_id": "status",
      "update": true
     },
     "output_type": "display_data"
    },
    {
     "name": "stderr",
     "output_type": "stream",
     "text": [
      "GET: https://nwis.waterservices.usgs.gov/nwis/iv/?site=03209325&format=waterml,1.1&ParameterCd=00060&startDT=2014-01-01&endDT=2025-05-08\n",
      "\n"
     ]
    },
    {
     "data": {
      "text/html": [
       "'243/1056 - Downloading data for site 371144082383401'"
      ],
      "text/latex": [
       "'243/1056 - Downloading data for site 371144082383401'"
      ],
      "text/markdown": [
       "'243/1056 - Downloading data for site 371144082383401'"
      ],
      "text/plain": [
       "[1] \"243/1056 - Downloading data for site 371144082383401\""
      ]
     },
     "metadata": {
      "display_id": "status",
      "update": true
     },
     "output_type": "display_data"
    },
    {
     "name": "stderr",
     "output_type": "stream",
     "text": [
      "GET: https://nwis.waterservices.usgs.gov/nwis/iv/?site=371144082383401&format=waterml,1.1&ParameterCd=00060&startDT=2014-01-01&endDT=2025-05-08\n",
      "\n"
     ]
    },
    {
     "data": {
      "text/html": [
       "'244/1056 - Downloading data for site 03277446'"
      ],
      "text/latex": [
       "'244/1056 - Downloading data for site 03277446'"
      ],
      "text/markdown": [
       "'244/1056 - Downloading data for site 03277446'"
      ],
      "text/plain": [
       "[1] \"244/1056 - Downloading data for site 03277446\""
      ]
     },
     "metadata": {
      "display_id": "status",
      "update": true
     },
     "output_type": "display_data"
    },
    {
     "name": "stderr",
     "output_type": "stream",
     "text": [
      "GET: https://nwis.waterservices.usgs.gov/nwis/iv/?site=03277446&format=waterml,1.1&ParameterCd=00060&startDT=2014-01-01&endDT=2025-05-08\n",
      "\n"
     ]
    },
    {
     "data": {
      "text/html": [
       "'245/1056 - Downloading data for site 03277450'"
      ],
      "text/latex": [
       "'245/1056 - Downloading data for site 03277450'"
      ],
      "text/markdown": [
       "'245/1056 - Downloading data for site 03277450'"
      ],
      "text/plain": [
       "[1] \"245/1056 - Downloading data for site 03277450\""
      ]
     },
     "metadata": {
      "display_id": "status",
      "update": true
     },
     "output_type": "display_data"
    },
    {
     "name": "stderr",
     "output_type": "stream",
     "text": [
      "GET: https://nwis.waterservices.usgs.gov/nwis/iv/?site=03277450&format=waterml,1.1&ParameterCd=00060&startDT=2014-01-01&endDT=2025-05-08\n",
      "\n"
     ]
    },
    {
     "data": {
      "text/html": [
       "'251/1056 - Downloading data for site 03211500'"
      ],
      "text/latex": [
       "'251/1056 - Downloading data for site 03211500'"
      ],
      "text/markdown": [
       "'251/1056 - Downloading data for site 03211500'"
      ],
      "text/plain": [
       "[1] \"251/1056 - Downloading data for site 03211500\""
      ]
     },
     "metadata": {
      "display_id": "status",
      "update": true
     },
     "output_type": "display_data"
    },
    {
     "name": "stderr",
     "output_type": "stream",
     "text": [
      "GET: https://nwis.waterservices.usgs.gov/nwis/iv/?site=03211500&format=waterml,1.1&ParameterCd=00060&startDT=2014-01-01&endDT=2025-05-08\n",
      "\n"
     ]
    },
    {
     "data": {
      "text/html": [
       "'253/1056 - Downloading data for site 0321357157'"
      ],
      "text/latex": [
       "'253/1056 - Downloading data for site 0321357157'"
      ],
      "text/markdown": [
       "'253/1056 - Downloading data for site 0321357157'"
      ],
      "text/plain": [
       "[1] \"253/1056 - Downloading data for site 0321357157\""
      ]
     },
     "metadata": {
      "display_id": "status",
      "update": true
     },
     "output_type": "display_data"
    },
    {
     "name": "stderr",
     "output_type": "stream",
     "text": [
      "GET: https://nwis.waterservices.usgs.gov/nwis/iv/?site=0321357157&format=waterml,1.1&ParameterCd=00060&startDT=2014-01-01&endDT=2025-05-08\n",
      "\n"
     ]
    },
    {
     "data": {
      "text/html": [
       "'255/1056 - Downloading data for site 03208000'"
      ],
      "text/latex": [
       "'255/1056 - Downloading data for site 03208000'"
      ],
      "text/markdown": [
       "'255/1056 - Downloading data for site 03208000'"
      ],
      "text/plain": [
       "[1] \"255/1056 - Downloading data for site 03208000\""
      ]
     },
     "metadata": {
      "display_id": "status",
      "update": true
     },
     "output_type": "display_data"
    },
    {
     "name": "stderr",
     "output_type": "stream",
     "text": [
      "GET: https://nwis.waterservices.usgs.gov/nwis/iv/?site=03208000&format=waterml,1.1&ParameterCd=00060&startDT=2014-01-01&endDT=2025-05-08\n",
      "\n"
     ]
    },
    {
     "data": {
      "text/html": [
       "'262/1056 - Downloading data for site 03280800'"
      ],
      "text/latex": [
       "'262/1056 - Downloading data for site 03280800'"
      ],
      "text/markdown": [
       "'262/1056 - Downloading data for site 03280800'"
      ],
      "text/plain": [
       "[1] \"262/1056 - Downloading data for site 03280800\""
      ]
     },
     "metadata": {
      "display_id": "status",
      "update": true
     },
     "output_type": "display_data"
    },
    {
     "name": "stderr",
     "output_type": "stream",
     "text": [
      "GET: https://nwis.waterservices.usgs.gov/nwis/iv/?site=03280800&format=waterml,1.1&ParameterCd=00060&startDT=2014-01-01&endDT=2025-05-08\n",
      "\n"
     ]
    },
    {
     "data": {
      "text/html": [
       "'272/1056 - Downloading data for site 03286000'"
      ],
      "text/latex": [
       "'272/1056 - Downloading data for site 03286000'"
      ],
      "text/markdown": [
       "'272/1056 - Downloading data for site 03286000'"
      ],
      "text/plain": [
       "[1] \"272/1056 - Downloading data for site 03286000\""
      ]
     },
     "metadata": {
      "display_id": "status",
      "update": true
     },
     "output_type": "display_data"
    },
    {
     "name": "stderr",
     "output_type": "stream",
     "text": [
      "GET: https://nwis.waterservices.usgs.gov/nwis/iv/?site=03286000&format=waterml,1.1&ParameterCd=00060&startDT=2014-01-01&endDT=2025-05-08\n",
      "\n"
     ]
    },
    {
     "data": {
      "text/html": [
       "'286/1056 - Downloading data for site 03249500'"
      ],
      "text/latex": [
       "'286/1056 - Downloading data for site 03249500'"
      ],
      "text/markdown": [
       "'286/1056 - Downloading data for site 03249500'"
      ],
      "text/plain": [
       "[1] \"286/1056 - Downloading data for site 03249500\""
      ]
     },
     "metadata": {
      "display_id": "status",
      "update": true
     },
     "output_type": "display_data"
    },
    {
     "name": "stderr",
     "output_type": "stream",
     "text": [
      "GET: https://nwis.waterservices.usgs.gov/nwis/iv/?site=03249500&format=waterml,1.1&ParameterCd=00060&startDT=2014-01-01&endDT=2025-05-08\n",
      "\n"
     ]
    },
    {
     "data": {
      "text/html": [
       "'287/1056 - Downloading data for site 03249498'"
      ],
      "text/latex": [
       "'287/1056 - Downloading data for site 03249498'"
      ],
      "text/markdown": [
       "'287/1056 - Downloading data for site 03249498'"
      ],
      "text/plain": [
       "[1] \"287/1056 - Downloading data for site 03249498\""
      ]
     },
     "metadata": {
      "display_id": "status",
      "update": true
     },
     "output_type": "display_data"
    },
    {
     "name": "stderr",
     "output_type": "stream",
     "text": [
      "GET: https://nwis.waterservices.usgs.gov/nwis/iv/?site=03249498&format=waterml,1.1&ParameterCd=00060&startDT=2014-01-01&endDT=2025-05-08\n",
      "\n"
     ]
    },
    {
     "data": {
      "text/html": [
       "'288/1056 - Downloading data for site 03249505'"
      ],
      "text/latex": [
       "'288/1056 - Downloading data for site 03249505'"
      ],
      "text/markdown": [
       "'288/1056 - Downloading data for site 03249505'"
      ],
      "text/plain": [
       "[1] \"288/1056 - Downloading data for site 03249505\""
      ]
     },
     "metadata": {
      "display_id": "status",
      "update": true
     },
     "output_type": "display_data"
    },
    {
     "name": "stderr",
     "output_type": "stream",
     "text": [
      "GET: https://nwis.waterservices.usgs.gov/nwis/iv/?site=03249505&format=waterml,1.1&ParameterCd=00060&startDT=2014-01-01&endDT=2025-05-08\n",
      "\n"
     ]
    },
    {
     "data": {
      "text/html": [
       "'294/1056 - Downloading data for site 03203647'"
      ],
      "text/latex": [
       "'294/1056 - Downloading data for site 03203647'"
      ],
      "text/markdown": [
       "'294/1056 - Downloading data for site 03203647'"
      ],
      "text/plain": [
       "[1] \"294/1056 - Downloading data for site 03203647\""
      ]
     },
     "metadata": {
      "display_id": "status",
      "update": true
     },
     "output_type": "display_data"
    },
    {
     "name": "stderr",
     "output_type": "stream",
     "text": [
      "GET: https://nwis.waterservices.usgs.gov/nwis/iv/?site=03203647&format=waterml,1.1&ParameterCd=00060&startDT=2014-01-01&endDT=2025-05-08\n",
      "\n"
     ]
    },
    {
     "data": {
      "text/html": [
       "'297/1056 - Downloading data for site 03204250'"
      ],
      "text/latex": [
       "'297/1056 - Downloading data for site 03204250'"
      ],
      "text/markdown": [
       "'297/1056 - Downloading data for site 03204250'"
      ],
      "text/plain": [
       "[1] \"297/1056 - Downloading data for site 03204250\""
      ]
     },
     "metadata": {
      "display_id": "status",
      "update": true
     },
     "output_type": "display_data"
    },
    {
     "name": "stderr",
     "output_type": "stream",
     "text": [
      "GET: https://nwis.waterservices.usgs.gov/nwis/iv/?site=03204250&format=waterml,1.1&ParameterCd=00060&startDT=2014-01-01&endDT=2025-05-08\n",
      "\n"
     ]
    },
    {
     "data": {
      "text/html": [
       "'298/1056 - Downloading data for site 03204000'"
      ],
      "text/latex": [
       "'298/1056 - Downloading data for site 03204000'"
      ],
      "text/markdown": [
       "'298/1056 - Downloading data for site 03204000'"
      ],
      "text/plain": [
       "[1] \"298/1056 - Downloading data for site 03204000\""
      ]
     },
     "metadata": {
      "display_id": "status",
      "update": true
     },
     "output_type": "display_data"
    },
    {
     "name": "stderr",
     "output_type": "stream",
     "text": [
      "GET: https://nwis.waterservices.usgs.gov/nwis/iv/?site=03204000&format=waterml,1.1&ParameterCd=00060&startDT=2014-01-01&endDT=2025-05-08\n",
      "\n"
     ]
    },
    {
     "data": {
      "text/html": [
       "'300/1056 - Downloading data for site 03204294'"
      ],
      "text/latex": [
       "'300/1056 - Downloading data for site 03204294'"
      ],
      "text/markdown": [
       "'300/1056 - Downloading data for site 03204294'"
      ],
      "text/plain": [
       "[1] \"300/1056 - Downloading data for site 03204294\""
      ]
     },
     "metadata": {
      "display_id": "status",
      "update": true
     },
     "output_type": "display_data"
    },
    {
     "name": "stderr",
     "output_type": "stream",
     "text": [
      "GET: https://nwis.waterservices.usgs.gov/nwis/iv/?site=03204294&format=waterml,1.1&ParameterCd=00060&startDT=2014-01-01&endDT=2025-05-08\n",
      "\n"
     ]
    },
    {
     "data": {
      "text/html": [
       "'304/1056 - Downloading data for site 03215000'"
      ],
      "text/latex": [
       "'304/1056 - Downloading data for site 03215000'"
      ],
      "text/markdown": [
       "'304/1056 - Downloading data for site 03215000'"
      ],
      "text/plain": [
       "[1] \"304/1056 - Downloading data for site 03215000\""
      ]
     },
     "metadata": {
      "display_id": "status",
      "update": true
     },
     "output_type": "display_data"
    },
    {
     "name": "stderr",
     "output_type": "stream",
     "text": [
      "GET: https://nwis.waterservices.usgs.gov/nwis/iv/?site=03215000&format=waterml,1.1&ParameterCd=00060&startDT=2014-01-01&endDT=2025-05-08\n",
      "\n"
     ]
    },
    {
     "data": {
      "text/html": [
       "'305/1056 - Downloading data for site 03207020'"
      ],
      "text/latex": [
       "'305/1056 - Downloading data for site 03207020'"
      ],
      "text/markdown": [
       "'305/1056 - Downloading data for site 03207020'"
      ],
      "text/plain": [
       "[1] \"305/1056 - Downloading data for site 03207020\""
      ]
     },
     "metadata": {
      "display_id": "status",
      "update": true
     },
     "output_type": "display_data"
    },
    {
     "name": "stderr",
     "output_type": "stream",
     "text": [
      "GET: https://nwis.waterservices.usgs.gov/nwis/iv/?site=03207020&format=waterml,1.1&ParameterCd=00060&startDT=2014-01-01&endDT=2025-05-08\n",
      "\n"
     ]
    },
    {
     "data": {
      "text/html": [
       "'306/1056 - Downloading data for site 03216300'"
      ],
      "text/latex": [
       "'306/1056 - Downloading data for site 03216300'"
      ],
      "text/markdown": [
       "'306/1056 - Downloading data for site 03216300'"
      ],
      "text/plain": [
       "[1] \"306/1056 - Downloading data for site 03216300\""
      ]
     },
     "metadata": {
      "display_id": "status",
      "update": true
     },
     "output_type": "display_data"
    },
    {
     "name": "stderr",
     "output_type": "stream",
     "text": [
      "GET: https://nwis.waterservices.usgs.gov/nwis/iv/?site=03216300&format=waterml,1.1&ParameterCd=00060&startDT=2014-01-01&endDT=2025-05-08\n",
      "\n"
     ]
    },
    {
     "data": {
      "text/html": [
       "'311/1056 - Downloading data for site 03206000'"
      ],
      "text/latex": [
       "'311/1056 - Downloading data for site 03206000'"
      ],
      "text/markdown": [
       "'311/1056 - Downloading data for site 03206000'"
      ],
      "text/plain": [
       "[1] \"311/1056 - Downloading data for site 03206000\""
      ]
     },
     "metadata": {
      "display_id": "status",
      "update": true
     },
     "output_type": "display_data"
    },
    {
     "name": "stderr",
     "output_type": "stream",
     "text": [
      "GET: https://nwis.waterservices.usgs.gov/nwis/iv/?site=03206000&format=waterml,1.1&ParameterCd=00060&startDT=2014-01-01&endDT=2025-05-08\n",
      "\n"
     ]
    },
    {
     "data": {
      "text/html": [
       "'313/1056 - Downloading data for site 03611000'"
      ],
      "text/latex": [
       "'313/1056 - Downloading data for site 03611000'"
      ],
      "text/markdown": [
       "'313/1056 - Downloading data for site 03611000'"
      ],
      "text/plain": [
       "[1] \"313/1056 - Downloading data for site 03611000\""
      ]
     },
     "metadata": {
      "display_id": "status",
      "update": true
     },
     "output_type": "display_data"
    },
    {
     "name": "stderr",
     "output_type": "stream",
     "text": [
      "GET: https://nwis.waterservices.usgs.gov/nwis/iv/?site=03611000&format=waterml,1.1&ParameterCd=00060&startDT=2014-01-01&endDT=2025-05-08\n",
      "\n"
     ]
    },
    {
     "data": {
      "text/html": [
       "'316/1056 - Downloading data for site 03384500'"
      ],
      "text/latex": [
       "'316/1056 - Downloading data for site 03384500'"
      ],
      "text/markdown": [
       "'316/1056 - Downloading data for site 03384500'"
      ],
      "text/plain": [
       "[1] \"316/1056 - Downloading data for site 03384500\""
      ]
     },
     "metadata": {
      "display_id": "status",
      "update": true
     },
     "output_type": "display_data"
    },
    {
     "name": "stderr",
     "output_type": "stream",
     "text": [
      "GET: https://nwis.waterservices.usgs.gov/nwis/iv/?site=03384500&format=waterml,1.1&ParameterCd=00060&startDT=2014-01-01&endDT=2025-05-08\n",
      "\n"
     ]
    },
    {
     "data": {
      "text/html": [
       "'320/1056 - Downloading data for site 03437370'"
      ],
      "text/latex": [
       "'320/1056 - Downloading data for site 03437370'"
      ],
      "text/markdown": [
       "'320/1056 - Downloading data for site 03437370'"
      ],
      "text/plain": [
       "[1] \"320/1056 - Downloading data for site 03437370\""
      ]
     },
     "metadata": {
      "display_id": "status",
      "update": true
     },
     "output_type": "display_data"
    },
    {
     "name": "stderr",
     "output_type": "stream",
     "text": [
      "GET: https://nwis.waterservices.usgs.gov/nwis/iv/?site=03437370&format=waterml,1.1&ParameterCd=00060&startDT=2014-01-01&endDT=2025-05-08\n",
      "\n"
     ]
    },
    {
     "data": {
      "text/html": [
       "'323/1056 - Downloading data for site 03315500'"
      ],
      "text/latex": [
       "'323/1056 - Downloading data for site 03315500'"
      ],
      "text/markdown": [
       "'323/1056 - Downloading data for site 03315500'"
      ],
      "text/plain": [
       "[1] \"323/1056 - Downloading data for site 03315500\""
      ]
     },
     "metadata": {
      "display_id": "status",
      "update": true
     },
     "output_type": "display_data"
    },
    {
     "name": "stderr",
     "output_type": "stream",
     "text": [
      "GET: https://nwis.waterservices.usgs.gov/nwis/iv/?site=03315500&format=waterml,1.1&ParameterCd=00060&startDT=2014-01-01&endDT=2025-05-08\n",
      "\n"
     ]
    },
    {
     "data": {
      "text/html": [
       "'324/1056 - Downloading data for site 03315850'"
      ],
      "text/latex": [
       "'324/1056 - Downloading data for site 03315850'"
      ],
      "text/markdown": [
       "'324/1056 - Downloading data for site 03315850'"
      ],
      "text/plain": [
       "[1] \"324/1056 - Downloading data for site 03315850\""
      ]
     },
     "metadata": {
      "display_id": "status",
      "update": true
     },
     "output_type": "display_data"
    },
    {
     "name": "stderr",
     "output_type": "stream",
     "text": [
      "GET: https://nwis.waterservices.usgs.gov/nwis/iv/?site=03315850&format=waterml,1.1&ParameterCd=00060&startDT=2014-01-01&endDT=2025-05-08\n",
      "\n"
     ]
    },
    {
     "data": {
      "text/html": [
       "'326/1056 - Downloading data for site 03316645'"
      ],
      "text/latex": [
       "'326/1056 - Downloading data for site 03316645'"
      ],
      "text/markdown": [
       "'326/1056 - Downloading data for site 03316645'"
      ],
      "text/plain": [
       "[1] \"326/1056 - Downloading data for site 03316645\""
      ]
     },
     "metadata": {
      "display_id": "status",
      "update": true
     },
     "output_type": "display_data"
    },
    {
     "name": "stderr",
     "output_type": "stream",
     "text": [
      "GET: https://nwis.waterservices.usgs.gov/nwis/iv/?site=03316645&format=waterml,1.1&ParameterCd=00060&startDT=2014-01-01&endDT=2025-05-08\n",
      "\n"
     ]
    },
    {
     "data": {
      "text/html": [
       "'329/1056 - Downloading data for site 03319885'"
      ],
      "text/latex": [
       "'329/1056 - Downloading data for site 03319885'"
      ],
      "text/markdown": [
       "'329/1056 - Downloading data for site 03319885'"
      ],
      "text/plain": [
       "[1] \"329/1056 - Downloading data for site 03319885\""
      ]
     },
     "metadata": {
      "display_id": "status",
      "update": true
     },
     "output_type": "display_data"
    },
    {
     "name": "stderr",
     "output_type": "stream",
     "text": [
      "GET: https://nwis.waterservices.usgs.gov/nwis/iv/?site=03319885&format=waterml,1.1&ParameterCd=00060&startDT=2014-01-01&endDT=2025-05-08\n",
      "\n"
     ]
    },
    {
     "data": {
      "text/html": [
       "'331/1056 - Downloading data for site 03311513'"
      ],
      "text/latex": [
       "'331/1056 - Downloading data for site 03311513'"
      ],
      "text/markdown": [
       "'331/1056 - Downloading data for site 03311513'"
      ],
      "text/plain": [
       "[1] \"331/1056 - Downloading data for site 03311513\""
      ]
     },
     "metadata": {
      "display_id": "status",
      "update": true
     },
     "output_type": "display_data"
    },
    {
     "name": "stderr",
     "output_type": "stream",
     "text": [
      "GET: https://nwis.waterservices.usgs.gov/nwis/iv/?site=03311513&format=waterml,1.1&ParameterCd=00060&startDT=2014-01-01&endDT=2025-05-08\n",
      "\n"
     ]
    },
    {
     "data": {
      "text/html": [
       "'332/1056 - Downloading data for site 03306000'"
      ],
      "text/latex": [
       "'332/1056 - Downloading data for site 03306000'"
      ],
      "text/markdown": [
       "'332/1056 - Downloading data for site 03306000'"
      ],
      "text/plain": [
       "[1] \"332/1056 - Downloading data for site 03306000\""
      ]
     },
     "metadata": {
      "display_id": "status",
      "update": true
     },
     "output_type": "display_data"
    },
    {
     "name": "stderr",
     "output_type": "stream",
     "text": [
      "GET: https://nwis.waterservices.usgs.gov/nwis/iv/?site=03306000&format=waterml,1.1&ParameterCd=00060&startDT=2014-01-01&endDT=2025-05-08\n",
      "\n"
     ]
    },
    {
     "data": {
      "text/html": [
       "'333/1056 - Downloading data for site 03305990'"
      ],
      "text/latex": [
       "'333/1056 - Downloading data for site 03305990'"
      ],
      "text/markdown": [
       "'333/1056 - Downloading data for site 03305990'"
      ],
      "text/plain": [
       "[1] \"333/1056 - Downloading data for site 03305990\""
      ]
     },
     "metadata": {
      "display_id": "status",
      "update": true
     },
     "output_type": "display_data"
    },
    {
     "name": "stderr",
     "output_type": "stream",
     "text": [
      "GET: https://nwis.waterservices.usgs.gov/nwis/iv/?site=03305990&format=waterml,1.1&ParameterCd=00060&startDT=2014-01-01&endDT=2025-05-08\n",
      "\n"
     ]
    },
    {
     "data": {
      "text/html": [
       "'334/1056 - Downloading data for site 03306500'"
      ],
      "text/latex": [
       "'334/1056 - Downloading data for site 03306500'"
      ],
      "text/markdown": [
       "'334/1056 - Downloading data for site 03306500'"
      ],
      "text/plain": [
       "[1] \"334/1056 - Downloading data for site 03306500\""
      ]
     },
     "metadata": {
      "display_id": "status",
      "update": true
     },
     "output_type": "display_data"
    },
    {
     "name": "stderr",
     "output_type": "stream",
     "text": [
      "GET: https://nwis.waterservices.usgs.gov/nwis/iv/?site=03306500&format=waterml,1.1&ParameterCd=00060&startDT=2014-01-01&endDT=2025-05-08\n",
      "\n"
     ]
    },
    {
     "data": {
      "text/html": [
       "'336/1056 - Downloading data for site 03311000'"
      ],
      "text/latex": [
       "'336/1056 - Downloading data for site 03311000'"
      ],
      "text/markdown": [
       "'336/1056 - Downloading data for site 03311000'"
      ],
      "text/plain": [
       "[1] \"336/1056 - Downloading data for site 03311000\""
      ]
     },
     "metadata": {
      "display_id": "status",
      "update": true
     },
     "output_type": "display_data"
    },
    {
     "name": "stderr",
     "output_type": "stream",
     "text": [
      "GET: https://nwis.waterservices.usgs.gov/nwis/iv/?site=03311000&format=waterml,1.1&ParameterCd=00060&startDT=2014-01-01&endDT=2025-05-08\n",
      "\n"
     ]
    },
    {
     "data": {
      "text/html": [
       "'337/1056 - Downloading data for site 03310900'"
      ],
      "text/latex": [
       "'337/1056 - Downloading data for site 03310900'"
      ],
      "text/markdown": [
       "'337/1056 - Downloading data for site 03310900'"
      ],
      "text/plain": [
       "[1] \"337/1056 - Downloading data for site 03310900\""
      ]
     },
     "metadata": {
      "display_id": "status",
      "update": true
     },
     "output_type": "display_data"
    },
    {
     "name": "stderr",
     "output_type": "stream",
     "text": [
      "GET: https://nwis.waterservices.usgs.gov/nwis/iv/?site=03310900&format=waterml,1.1&ParameterCd=00060&startDT=2014-01-01&endDT=2025-05-08\n",
      "\n"
     ]
    },
    {
     "data": {
      "text/html": [
       "'341/1056 - Downloading data for site 03319000'"
      ],
      "text/latex": [
       "'341/1056 - Downloading data for site 03319000'"
      ],
      "text/markdown": [
       "'341/1056 - Downloading data for site 03319000'"
      ],
      "text/plain": [
       "[1] \"341/1056 - Downloading data for site 03319000\""
      ]
     },
     "metadata": {
      "display_id": "status",
      "update": true
     },
     "output_type": "display_data"
    },
    {
     "name": "stderr",
     "output_type": "stream",
     "text": [
      "GET: https://nwis.waterservices.usgs.gov/nwis/iv/?site=03319000&format=waterml,1.1&ParameterCd=00060&startDT=2014-01-01&endDT=2025-05-08\n",
      "\n"
     ]
    },
    {
     "data": {
      "text/html": [
       "'343/1056 - Downloading data for site 03318005'"
      ],
      "text/latex": [
       "'343/1056 - Downloading data for site 03318005'"
      ],
      "text/markdown": [
       "'343/1056 - Downloading data for site 03318005'"
      ],
      "text/plain": [
       "[1] \"343/1056 - Downloading data for site 03318005\""
      ]
     },
     "metadata": {
      "display_id": "status",
      "update": true
     },
     "output_type": "display_data"
    },
    {
     "name": "stderr",
     "output_type": "stream",
     "text": [
      "GET: https://nwis.waterservices.usgs.gov/nwis/iv/?site=03318005&format=waterml,1.1&ParameterCd=00060&startDT=2014-01-01&endDT=2025-05-08\n",
      "\n"
     ]
    },
    {
     "data": {
      "text/html": [
       "'344/1056 - Downloading data for site 03318007'"
      ],
      "text/latex": [
       "'344/1056 - Downloading data for site 03318007'"
      ],
      "text/markdown": [
       "'344/1056 - Downloading data for site 03318007'"
      ],
      "text/plain": [
       "[1] \"344/1056 - Downloading data for site 03318007\""
      ]
     },
     "metadata": {
      "display_id": "status",
      "update": true
     },
     "output_type": "display_data"
    },
    {
     "name": "stderr",
     "output_type": "stream",
     "text": [
      "GET: https://nwis.waterservices.usgs.gov/nwis/iv/?site=03318007&format=waterml,1.1&ParameterCd=00060&startDT=2014-01-01&endDT=2025-05-08\n",
      "\n"
     ]
    },
    {
     "data": {
      "text/html": [
       "'345/1056 - Downloading data for site 03318010'"
      ],
      "text/latex": [
       "'345/1056 - Downloading data for site 03318010'"
      ],
      "text/markdown": [
       "'345/1056 - Downloading data for site 03318010'"
      ],
      "text/plain": [
       "[1] \"345/1056 - Downloading data for site 03318010\""
      ]
     },
     "metadata": {
      "display_id": "status",
      "update": true
     },
     "output_type": "display_data"
    },
    {
     "name": "stderr",
     "output_type": "stream",
     "text": [
      "GET: https://nwis.waterservices.usgs.gov/nwis/iv/?site=03318010&format=waterml,1.1&ParameterCd=00060&startDT=2014-01-01&endDT=2025-05-08\n",
      "\n"
     ]
    },
    {
     "data": {
      "text/html": [
       "'346/1056 - Downloading data for site 03303502'"
      ],
      "text/latex": [
       "'346/1056 - Downloading data for site 03303502'"
      ],
      "text/markdown": [
       "'346/1056 - Downloading data for site 03303502'"
      ],
      "text/plain": [
       "[1] \"346/1056 - Downloading data for site 03303502\""
      ]
     },
     "metadata": {
      "display_id": "status",
      "update": true
     },
     "output_type": "display_data"
    },
    {
     "name": "stderr",
     "output_type": "stream",
     "text": [
      "GET: https://nwis.waterservices.usgs.gov/nwis/iv/?site=03303502&format=waterml,1.1&ParameterCd=00060&startDT=2014-01-01&endDT=2025-05-08\n",
      "\n"
     ]
    },
    {
     "data": {
      "text/html": [
       "'347/1056 - Downloading data for site 03322190'"
      ],
      "text/latex": [
       "'347/1056 - Downloading data for site 03322190'"
      ],
      "text/markdown": [
       "'347/1056 - Downloading data for site 03322190'"
      ],
      "text/plain": [
       "[1] \"347/1056 - Downloading data for site 03322190\""
      ]
     },
     "metadata": {
      "display_id": "status",
      "update": true
     },
     "output_type": "display_data"
    },
    {
     "name": "stderr",
     "output_type": "stream",
     "text": [
      "GET: https://nwis.waterservices.usgs.gov/nwis/iv/?site=03322190&format=waterml,1.1&ParameterCd=00060&startDT=2014-01-01&endDT=2025-05-08\n",
      "\n"
     ]
    },
    {
     "data": {
      "text/html": [
       "'355/1056 - Downloading data for site 03301630'"
      ],
      "text/latex": [
       "'355/1056 - Downloading data for site 03301630'"
      ],
      "text/markdown": [
       "'355/1056 - Downloading data for site 03301630'"
      ],
      "text/plain": [
       "[1] \"355/1056 - Downloading data for site 03301630\""
      ]
     },
     "metadata": {
      "display_id": "status",
      "update": true
     },
     "output_type": "display_data"
    },
    {
     "name": "stderr",
     "output_type": "stream",
     "text": [
      "GET: https://nwis.waterservices.usgs.gov/nwis/iv/?site=03301630&format=waterml,1.1&ParameterCd=00060&startDT=2014-01-01&endDT=2025-05-08\n",
      "\n"
     ]
    },
    {
     "data": {
      "text/html": [
       "'361/1056 - Downloading data for site 03382200'"
      ],
      "text/latex": [
       "'361/1056 - Downloading data for site 03382200'"
      ],
      "text/markdown": [
       "'361/1056 - Downloading data for site 03382200'"
      ],
      "text/plain": [
       "[1] \"361/1056 - Downloading data for site 03382200\""
      ]
     },
     "metadata": {
      "display_id": "status",
      "update": true
     },
     "output_type": "display_data"
    },
    {
     "name": "stderr",
     "output_type": "stream",
     "text": [
      "GET: https://nwis.waterservices.usgs.gov/nwis/iv/?site=03382200&format=waterml,1.1&ParameterCd=00060&startDT=2014-01-01&endDT=2025-05-08\n",
      "\n"
     ]
    },
    {
     "data": {
      "text/html": [
       "'362/1056 - Downloading data for site 03322420'"
      ],
      "text/latex": [
       "'362/1056 - Downloading data for site 03322420'"
      ],
      "text/markdown": [
       "'362/1056 - Downloading data for site 03322420'"
      ],
      "text/plain": [
       "[1] \"362/1056 - Downloading data for site 03322420\""
      ]
     },
     "metadata": {
      "display_id": "status",
      "update": true
     },
     "output_type": "display_data"
    },
    {
     "name": "stderr",
     "output_type": "stream",
     "text": [
      "GET: https://nwis.waterservices.usgs.gov/nwis/iv/?site=03322420&format=waterml,1.1&ParameterCd=00060&startDT=2014-01-01&endDT=2025-05-08\n",
      "\n"
     ]
    },
    {
     "data": {
      "text/html": [
       "'363/1056 - Downloading data for site 374815087555101'"
      ],
      "text/latex": [
       "'363/1056 - Downloading data for site 374815087555101'"
      ],
      "text/markdown": [
       "'363/1056 - Downloading data for site 374815087555101'"
      ],
      "text/plain": [
       "[1] \"363/1056 - Downloading data for site 374815087555101\""
      ]
     },
     "metadata": {
      "display_id": "status",
      "update": true
     },
     "output_type": "display_data"
    },
    {
     "name": "stderr",
     "output_type": "stream",
     "text": [
      "GET: https://nwis.waterservices.usgs.gov/nwis/iv/?site=374815087555101&format=waterml,1.1&ParameterCd=00060&startDT=2014-01-01&endDT=2025-05-08\n",
      "\n"
     ]
    },
    {
     "data": {
      "text/html": [
       "'366/1056 - Downloading data for site 03381495'"
      ],
      "text/latex": [
       "'366/1056 - Downloading data for site 03381495'"
      ],
      "text/markdown": [
       "'366/1056 - Downloading data for site 03381495'"
      ],
      "text/plain": [
       "[1] \"366/1056 - Downloading data for site 03381495\""
      ]
     },
     "metadata": {
      "display_id": "status",
      "update": true
     },
     "output_type": "display_data"
    },
    {
     "name": "stderr",
     "output_type": "stream",
     "text": [
      "GET: https://nwis.waterservices.usgs.gov/nwis/iv/?site=03381495&format=waterml,1.1&ParameterCd=00060&startDT=2014-01-01&endDT=2025-05-08\n",
      "\n"
     ]
    },
    {
     "data": {
      "text/html": [
       "'369/1056 - Downloading data for site 03380000'"
      ],
      "text/latex": [
       "'369/1056 - Downloading data for site 03380000'"
      ],
      "text/markdown": [
       "'369/1056 - Downloading data for site 03380000'"
      ],
      "text/plain": [
       "[1] \"369/1056 - Downloading data for site 03380000\""
      ]
     },
     "metadata": {
      "display_id": "status",
      "update": true
     },
     "output_type": "display_data"
    },
    {
     "name": "stderr",
     "output_type": "stream",
     "text": [
      "GET: https://nwis.waterservices.usgs.gov/nwis/iv/?site=03380000&format=waterml,1.1&ParameterCd=00060&startDT=2014-01-01&endDT=2025-05-08\n",
      "\n"
     ]
    },
    {
     "data": {
      "text/html": [
       "'370/1056 - Downloading data for site 03302058'"
      ],
      "text/latex": [
       "'370/1056 - Downloading data for site 03302058'"
      ],
      "text/markdown": [
       "'370/1056 - Downloading data for site 03302058'"
      ],
      "text/plain": [
       "[1] \"370/1056 - Downloading data for site 03302058\""
      ]
     },
     "metadata": {
      "display_id": "status",
      "update": true
     },
     "output_type": "display_data"
    },
    {
     "name": "stderr",
     "output_type": "stream",
     "text": [
      "GET: https://nwis.waterservices.usgs.gov/nwis/iv/?site=03302058&format=waterml,1.1&ParameterCd=00060&startDT=2014-01-01&endDT=2025-05-08\n",
      "\n"
     ]
    },
    {
     "data": {
      "text/html": [
       "'371/1056 - Downloading data for site 03298470'"
      ],
      "text/latex": [
       "'371/1056 - Downloading data for site 03298470'"
      ],
      "text/markdown": [
       "'371/1056 - Downloading data for site 03298470'"
      ],
      "text/plain": [
       "[1] \"371/1056 - Downloading data for site 03298470\""
      ]
     },
     "metadata": {
      "display_id": "status",
      "update": true
     },
     "output_type": "display_data"
    },
    {
     "name": "stderr",
     "output_type": "stream",
     "text": [
      "GET: https://nwis.waterservices.usgs.gov/nwis/iv/?site=03298470&format=waterml,1.1&ParameterCd=00060&startDT=2014-01-01&endDT=2025-05-08\n",
      "\n"
     ]
    },
    {
     "data": {
      "text/html": [
       "'372/1056 - Downloading data for site 03295597'"
      ],
      "text/latex": [
       "'372/1056 - Downloading data for site 03295597'"
      ],
      "text/markdown": [
       "'372/1056 - Downloading data for site 03295597'"
      ],
      "text/plain": [
       "[1] \"372/1056 - Downloading data for site 03295597\""
      ]
     },
     "metadata": {
      "display_id": "status",
      "update": true
     },
     "output_type": "display_data"
    },
    {
     "name": "stderr",
     "output_type": "stream",
     "text": [
      "GET: https://nwis.waterservices.usgs.gov/nwis/iv/?site=03295597&format=waterml,1.1&ParameterCd=00060&startDT=2014-01-01&endDT=2025-05-08\n",
      "\n"
     ]
    },
    {
     "data": {
      "text/html": [
       "'373/1056 - Downloading data for site 03294600'"
      ],
      "text/latex": [
       "'373/1056 - Downloading data for site 03294600'"
      ],
      "text/markdown": [
       "'373/1056 - Downloading data for site 03294600'"
      ],
      "text/plain": [
       "[1] \"373/1056 - Downloading data for site 03294600\""
      ]
     },
     "metadata": {
      "display_id": "status",
      "update": true
     },
     "output_type": "display_data"
    },
    {
     "name": "stderr",
     "output_type": "stream",
     "text": [
      "GET: https://nwis.waterservices.usgs.gov/nwis/iv/?site=03294600&format=waterml,1.1&ParameterCd=00060&startDT=2014-01-01&endDT=2025-05-08\n",
      "\n"
     ]
    },
    {
     "data": {
      "text/html": [
       "'383/1056 - Downloading data for site 03294560'"
      ],
      "text/latex": [
       "'383/1056 - Downloading data for site 03294560'"
      ],
      "text/markdown": [
       "'383/1056 - Downloading data for site 03294560'"
      ],
      "text/plain": [
       "[1] \"383/1056 - Downloading data for site 03294560\""
      ]
     },
     "metadata": {
      "display_id": "status",
      "update": true
     },
     "output_type": "display_data"
    },
    {
     "name": "stderr",
     "output_type": "stream",
     "text": [
      "GET: https://nwis.waterservices.usgs.gov/nwis/iv/?site=03294560&format=waterml,1.1&ParameterCd=00060&startDT=2014-01-01&endDT=2025-05-08\n",
      "\n"
     ]
    },
    {
     "data": {
      "text/html": [
       "'390/1056 - Downloading data for site 03304300'"
      ],
      "text/latex": [
       "'390/1056 - Downloading data for site 03304300'"
      ],
      "text/markdown": [
       "'390/1056 - Downloading data for site 03304300'"
      ],
      "text/plain": [
       "[1] \"390/1056 - Downloading data for site 03304300\""
      ]
     },
     "metadata": {
      "display_id": "status",
      "update": true
     },
     "output_type": "display_data"
    },
    {
     "name": "stderr",
     "output_type": "stream",
     "text": [
      "GET: https://nwis.waterservices.usgs.gov/nwis/iv/?site=03304300&format=waterml,1.1&ParameterCd=00060&startDT=2014-01-01&endDT=2025-05-08\n",
      "\n"
     ]
    },
    {
     "data": {
      "text/html": [
       "'391/1056 - Downloading data for site 03322000'"
      ],
      "text/latex": [
       "'391/1056 - Downloading data for site 03322000'"
      ],
      "text/markdown": [
       "'391/1056 - Downloading data for site 03322000'"
      ],
      "text/plain": [
       "[1] \"391/1056 - Downloading data for site 03322000\""
      ]
     },
     "metadata": {
      "display_id": "status",
      "update": true
     },
     "output_type": "display_data"
    },
    {
     "name": "stderr",
     "output_type": "stream",
     "text": [
      "GET: https://nwis.waterservices.usgs.gov/nwis/iv/?site=03322000&format=waterml,1.1&ParameterCd=00060&startDT=2014-01-01&endDT=2025-05-08\n",
      "\n"
     ]
    },
    {
     "data": {
      "text/html": [
       "'397/1056 - Downloading data for site 03374498'"
      ],
      "text/latex": [
       "'397/1056 - Downloading data for site 03374498'"
      ],
      "text/markdown": [
       "'397/1056 - Downloading data for site 03374498'"
      ],
      "text/plain": [
       "[1] \"397/1056 - Downloading data for site 03374498\""
      ]
     },
     "metadata": {
      "display_id": "status",
      "update": true
     },
     "output_type": "display_data"
    },
    {
     "name": "stderr",
     "output_type": "stream",
     "text": [
      "GET: https://nwis.waterservices.usgs.gov/nwis/iv/?site=03374498&format=waterml,1.1&ParameterCd=00060&startDT=2014-01-01&endDT=2025-05-08\n",
      "\n"
     ]
    },
    {
     "data": {
      "text/html": [
       "'398/1056 - Downloading data for site 03374500'"
      ],
      "text/latex": [
       "'398/1056 - Downloading data for site 03374500'"
      ],
      "text/markdown": [
       "'398/1056 - Downloading data for site 03374500'"
      ],
      "text/plain": [
       "[1] \"398/1056 - Downloading data for site 03374500\""
      ]
     },
     "metadata": {
      "display_id": "status",
      "update": true
     },
     "output_type": "display_data"
    },
    {
     "name": "stderr",
     "output_type": "stream",
     "text": [
      "GET: https://nwis.waterservices.usgs.gov/nwis/iv/?site=03374500&format=waterml,1.1&ParameterCd=00060&startDT=2014-01-01&endDT=2025-05-08\n",
      "\n"
     ]
    },
    {
     "data": {
      "text/html": [
       "'404/1056 - Downloading data for site 03293551'"
      ],
      "text/latex": [
       "'404/1056 - Downloading data for site 03293551'"
      ],
      "text/markdown": [
       "'404/1056 - Downloading data for site 03293551'"
      ],
      "text/plain": [
       "[1] \"404/1056 - Downloading data for site 03293551\""
      ]
     },
     "metadata": {
      "display_id": "status",
      "update": true
     },
     "output_type": "display_data"
    },
    {
     "name": "stderr",
     "output_type": "stream",
     "text": [
      "GET: https://nwis.waterservices.usgs.gov/nwis/iv/?site=03293551&format=waterml,1.1&ParameterCd=00060&startDT=2014-01-01&endDT=2025-05-08\n",
      "\n"
     ]
    },
    {
     "data": {
      "text/html": [
       "'427/1056 - Downloading data for site 03238000'"
      ],
      "text/latex": [
       "'427/1056 - Downloading data for site 03238000'"
      ],
      "text/markdown": [
       "'427/1056 - Downloading data for site 03238000'"
      ],
      "text/plain": [
       "[1] \"427/1056 - Downloading data for site 03238000\""
      ]
     },
     "metadata": {
      "display_id": "status",
      "update": true
     },
     "output_type": "display_data"
    },
    {
     "name": "stderr",
     "output_type": "stream",
     "text": [
      "GET: https://nwis.waterservices.usgs.gov/nwis/iv/?site=03238000&format=waterml,1.1&ParameterCd=00060&startDT=2014-01-01&endDT=2025-05-08\n",
      "\n"
     ]
    },
    {
     "data": {
      "text/html": [
       "'435/1056 - Downloading data for site 03291585'"
      ],
      "text/latex": [
       "'435/1056 - Downloading data for site 03291585'"
      ],
      "text/markdown": [
       "'435/1056 - Downloading data for site 03291585'"
      ],
      "text/plain": [
       "[1] \"435/1056 - Downloading data for site 03291585\""
      ]
     },
     "metadata": {
      "display_id": "status",
      "update": true
     },
     "output_type": "display_data"
    },
    {
     "name": "stderr",
     "output_type": "stream",
     "text": [
      "GET: https://nwis.waterservices.usgs.gov/nwis/iv/?site=03291585&format=waterml,1.1&ParameterCd=00060&startDT=2014-01-01&endDT=2025-05-08\n",
      "\n"
     ]
    },
    {
     "data": {
      "text/html": [
       "'440/1056 - Downloading data for site 03216000'"
      ],
      "text/latex": [
       "'440/1056 - Downloading data for site 03216000'"
      ],
      "text/markdown": [
       "'440/1056 - Downloading data for site 03216000'"
      ],
      "text/plain": [
       "[1] \"440/1056 - Downloading data for site 03216000\""
      ]
     },
     "metadata": {
      "display_id": "status",
      "update": true
     },
     "output_type": "display_data"
    },
    {
     "name": "stderr",
     "output_type": "stream",
     "text": [
      "GET: https://nwis.waterservices.usgs.gov/nwis/iv/?site=03216000&format=waterml,1.1&ParameterCd=00060&startDT=2014-01-01&endDT=2025-05-08\n",
      "\n"
     ]
    },
    {
     "data": {
      "text/html": [
       "'446/1056 - Downloading data for site 03217200'"
      ],
      "text/latex": [
       "'446/1056 - Downloading data for site 03217200'"
      ],
      "text/markdown": [
       "'446/1056 - Downloading data for site 03217200'"
      ],
      "text/plain": [
       "[1] \"446/1056 - Downloading data for site 03217200\""
      ]
     },
     "metadata": {
      "display_id": "status",
      "update": true
     },
     "output_type": "display_data"
    },
    {
     "name": "stderr",
     "output_type": "stream",
     "text": [
      "GET: https://nwis.waterservices.usgs.gov/nwis/iv/?site=03217200&format=waterml,1.1&ParameterCd=00060&startDT=2014-01-01&endDT=2025-05-08\n",
      "\n"
     ]
    },
    {
     "data": {
      "text/html": [
       "'455/1056 - Downloading data for site 03238798'"
      ],
      "text/latex": [
       "'455/1056 - Downloading data for site 03238798'"
      ],
      "text/markdown": [
       "'455/1056 - Downloading data for site 03238798'"
      ],
      "text/plain": [
       "[1] \"455/1056 - Downloading data for site 03238798\""
      ]
     },
     "metadata": {
      "display_id": "status",
      "update": true
     },
     "output_type": "display_data"
    },
    {
     "name": "stderr",
     "output_type": "stream",
     "text": [
      "GET: https://nwis.waterservices.usgs.gov/nwis/iv/?site=03238798&format=waterml,1.1&ParameterCd=00060&startDT=2014-01-01&endDT=2025-05-08\n",
      "\n"
     ]
    },
    {
     "data": {
      "text/html": [
       "'462/1056 - Downloading data for site 03247040'"
      ],
      "text/latex": [
       "'462/1056 - Downloading data for site 03247040'"
      ],
      "text/markdown": [
       "'462/1056 - Downloading data for site 03247040'"
      ],
      "text/plain": [
       "[1] \"462/1056 - Downloading data for site 03247040\""
      ]
     },
     "metadata": {
      "display_id": "status",
      "update": true
     },
     "output_type": "display_data"
    },
    {
     "name": "stderr",
     "output_type": "stream",
     "text": [
      "GET: https://nwis.waterservices.usgs.gov/nwis/iv/?site=03247040&format=waterml,1.1&ParameterCd=00060&startDT=2014-01-01&endDT=2025-05-08\n",
      "\n"
     ]
    },
    {
     "data": {
      "text/html": [
       "'463/1056 - Downloading data for site 03247041'"
      ],
      "text/latex": [
       "'463/1056 - Downloading data for site 03247041'"
      ],
      "text/markdown": [
       "'463/1056 - Downloading data for site 03247041'"
      ],
      "text/plain": [
       "[1] \"463/1056 - Downloading data for site 03247041\""
      ]
     },
     "metadata": {
      "display_id": "status",
      "update": true
     },
     "output_type": "display_data"
    },
    {
     "name": "stderr",
     "output_type": "stream",
     "text": [
      "GET: https://nwis.waterservices.usgs.gov/nwis/iv/?site=03247041&format=waterml,1.1&ParameterCd=00060&startDT=2014-01-01&endDT=2025-05-08\n",
      "\n"
     ]
    },
    {
     "data": {
      "text/html": [
       "'468/1056 - Downloading data for site 03232470'"
      ],
      "text/latex": [
       "'468/1056 - Downloading data for site 03232470'"
      ],
      "text/markdown": [
       "'468/1056 - Downloading data for site 03232470'"
      ],
      "text/plain": [
       "[1] \"468/1056 - Downloading data for site 03232470\""
      ]
     },
     "metadata": {
      "display_id": "status",
      "update": true
     },
     "output_type": "display_data"
    },
    {
     "name": "stderr",
     "output_type": "stream",
     "text": [
      "GET: https://nwis.waterservices.usgs.gov/nwis/iv/?site=03232470&format=waterml,1.1&ParameterCd=00060&startDT=2014-01-01&endDT=2025-05-08\n",
      "\n"
     ]
    },
    {
     "data": {
      "text/html": [
       "'472/1056 - Downloading data for site 03201500'"
      ],
      "text/latex": [
       "'472/1056 - Downloading data for site 03201500'"
      ],
      "text/markdown": [
       "'472/1056 - Downloading data for site 03201500'"
      ],
      "text/plain": [
       "[1] \"472/1056 - Downloading data for site 03201500\""
      ]
     },
     "metadata": {
      "display_id": "status",
      "update": true
     },
     "output_type": "display_data"
    },
    {
     "name": "stderr",
     "output_type": "stream",
     "text": [
      "GET: https://nwis.waterservices.usgs.gov/nwis/iv/?site=03201500&format=waterml,1.1&ParameterCd=00060&startDT=2014-01-01&endDT=2025-05-08\n",
      "\n"
     ]
    },
    {
     "data": {
      "text/html": [
       "'476/1056 - Downloading data for site 03159000'"
      ],
      "text/latex": [
       "'476/1056 - Downloading data for site 03159000'"
      ],
      "text/markdown": [
       "'476/1056 - Downloading data for site 03159000'"
      ],
      "text/plain": [
       "[1] \"476/1056 - Downloading data for site 03159000\""
      ]
     },
     "metadata": {
      "display_id": "status",
      "update": true
     },
     "output_type": "display_data"
    },
    {
     "name": "stderr",
     "output_type": "stream",
     "text": [
      "GET: https://nwis.waterservices.usgs.gov/nwis/iv/?site=03159000&format=waterml,1.1&ParameterCd=00060&startDT=2014-01-01&endDT=2025-05-08\n",
      "\n"
     ]
    },
    {
     "data": {
      "text/html": [
       "'477/1056 - Downloading data for site 03158510'"
      ],
      "text/latex": [
       "'477/1056 - Downloading data for site 03158510'"
      ],
      "text/markdown": [
       "'477/1056 - Downloading data for site 03158510'"
      ],
      "text/plain": [
       "[1] \"477/1056 - Downloading data for site 03158510\""
      ]
     },
     "metadata": {
      "display_id": "status",
      "update": true
     },
     "output_type": "display_data"
    },
    {
     "name": "stderr",
     "output_type": "stream",
     "text": [
      "GET: https://nwis.waterservices.usgs.gov/nwis/iv/?site=03158510&format=waterml,1.1&ParameterCd=00060&startDT=2014-01-01&endDT=2025-05-08\n",
      "\n"
     ]
    },
    {
     "data": {
      "text/html": [
       "'480/1056 - Downloading data for site 03255000'"
      ],
      "text/latex": [
       "'480/1056 - Downloading data for site 03255000'"
      ],
      "text/markdown": [
       "'480/1056 - Downloading data for site 03255000'"
      ],
      "text/plain": [
       "[1] \"480/1056 - Downloading data for site 03255000\""
      ]
     },
     "metadata": {
      "display_id": "status",
      "update": true
     },
     "output_type": "display_data"
    },
    {
     "name": "stderr",
     "output_type": "stream",
     "text": [
      "GET: https://nwis.waterservices.usgs.gov/nwis/iv/?site=03255000&format=waterml,1.1&ParameterCd=00060&startDT=2014-01-01&endDT=2025-05-08\n",
      "\n"
     ]
    },
    {
     "data": {
      "text/html": [
       "'481/1056 - Downloading data for site 03276650'"
      ],
      "text/latex": [
       "'481/1056 - Downloading data for site 03276650'"
      ],
      "text/markdown": [
       "'481/1056 - Downloading data for site 03276650'"
      ],
      "text/plain": [
       "[1] \"481/1056 - Downloading data for site 03276650\""
      ]
     },
     "metadata": {
      "display_id": "status",
      "update": true
     },
     "output_type": "display_data"
    },
    {
     "name": "stderr",
     "output_type": "stream",
     "text": [
      "GET: https://nwis.waterservices.usgs.gov/nwis/iv/?site=03276650&format=waterml,1.1&ParameterCd=00060&startDT=2014-01-01&endDT=2025-05-08\n",
      "\n"
     ]
    },
    {
     "data": {
      "text/html": [
       "'485/1056 - Downloading data for site 03274615'"
      ],
      "text/latex": [
       "'485/1056 - Downloading data for site 03274615'"
      ],
      "text/markdown": [
       "'485/1056 - Downloading data for site 03274615'"
      ],
      "text/plain": [
       "[1] \"485/1056 - Downloading data for site 03274615\""
      ]
     },
     "metadata": {
      "display_id": "status",
      "update": true
     },
     "output_type": "display_data"
    },
    {
     "name": "stderr",
     "output_type": "stream",
     "text": [
      "GET: https://nwis.waterservices.usgs.gov/nwis/iv/?site=03274615&format=waterml,1.1&ParameterCd=00060&startDT=2014-01-01&endDT=2025-05-08\n",
      "\n"
     ]
    },
    {
     "data": {
      "text/html": [
       "'486/1056 - Downloading data for site 03255500'"
      ],
      "text/latex": [
       "'486/1056 - Downloading data for site 03255500'"
      ],
      "text/markdown": [
       "'486/1056 - Downloading data for site 03255500'"
      ],
      "text/plain": [
       "[1] \"486/1056 - Downloading data for site 03255500\""
      ]
     },
     "metadata": {
      "display_id": "status",
      "update": true
     },
     "output_type": "display_data"
    },
    {
     "name": "stderr",
     "output_type": "stream",
     "text": [
      "GET: https://nwis.waterservices.usgs.gov/nwis/iv/?site=03255500&format=waterml,1.1&ParameterCd=00060&startDT=2014-01-01&endDT=2025-05-08\n",
      "\n"
     ]
    },
    {
     "data": {
      "text/html": [
       "'488/1056 - Downloading data for site 03256500'"
      ],
      "text/latex": [
       "'488/1056 - Downloading data for site 03256500'"
      ],
      "text/markdown": [
       "'488/1056 - Downloading data for site 03256500'"
      ],
      "text/plain": [
       "[1] \"488/1056 - Downloading data for site 03256500\""
      ]
     },
     "metadata": {
      "display_id": "status",
      "update": true
     },
     "output_type": "display_data"
    },
    {
     "name": "stderr",
     "output_type": "stream",
     "text": [
      "GET: https://nwis.waterservices.usgs.gov/nwis/iv/?site=03256500&format=waterml,1.1&ParameterCd=00060&startDT=2014-01-01&endDT=2025-05-08\n",
      "\n"
     ]
    },
    {
     "data": {
      "text/html": [
       "'490/1056 - Downloading data for site 03255390'"
      ],
      "text/latex": [
       "'490/1056 - Downloading data for site 03255390'"
      ],
      "text/markdown": [
       "'490/1056 - Downloading data for site 03255390'"
      ],
      "text/plain": [
       "[1] \"490/1056 - Downloading data for site 03255390\""
      ]
     },
     "metadata": {
      "display_id": "status",
      "update": true
     },
     "output_type": "display_data"
    },
    {
     "name": "stderr",
     "output_type": "stream",
     "text": [
      "GET: https://nwis.waterservices.usgs.gov/nwis/iv/?site=03255390&format=waterml,1.1&ParameterCd=00060&startDT=2014-01-01&endDT=2025-05-08\n",
      "\n"
     ]
    },
    {
     "data": {
      "text/html": [
       "'491/1056 - Downloading data for site 03255300'"
      ],
      "text/latex": [
       "'491/1056 - Downloading data for site 03255300'"
      ],
      "text/markdown": [
       "'491/1056 - Downloading data for site 03255300'"
      ],
      "text/plain": [
       "[1] \"491/1056 - Downloading data for site 03255300\""
      ]
     },
     "metadata": {
      "display_id": "status",
      "update": true
     },
     "output_type": "display_data"
    },
    {
     "name": "stderr",
     "output_type": "stream",
     "text": [
      "GET: https://nwis.waterservices.usgs.gov/nwis/iv/?site=03255300&format=waterml,1.1&ParameterCd=00060&startDT=2014-01-01&endDT=2025-05-08\n",
      "\n"
     ]
    },
    {
     "data": {
      "text/html": [
       "'494/1056 - Downloading data for site 03276000'"
      ],
      "text/latex": [
       "'494/1056 - Downloading data for site 03276000'"
      ],
      "text/markdown": [
       "'494/1056 - Downloading data for site 03276000'"
      ],
      "text/plain": [
       "[1] \"494/1056 - Downloading data for site 03276000\""
      ]
     },
     "metadata": {
      "display_id": "status",
      "update": true
     },
     "output_type": "display_data"
    },
    {
     "name": "stderr",
     "output_type": "stream",
     "text": [
      "GET: https://nwis.waterservices.usgs.gov/nwis/iv/?site=03276000&format=waterml,1.1&ParameterCd=00060&startDT=2014-01-01&endDT=2025-05-08\n",
      "\n"
     ]
    },
    {
     "data": {
      "text/html": [
       "'495/1056 - Downloading data for site 03275990'"
      ],
      "text/latex": [
       "'495/1056 - Downloading data for site 03275990'"
      ],
      "text/markdown": [
       "'495/1056 - Downloading data for site 03275990'"
      ],
      "text/plain": [
       "[1] \"495/1056 - Downloading data for site 03275990\""
      ]
     },
     "metadata": {
      "display_id": "status",
      "update": true
     },
     "output_type": "display_data"
    },
    {
     "name": "stderr",
     "output_type": "stream",
     "text": [
      "GET: https://nwis.waterservices.usgs.gov/nwis/iv/?site=03275990&format=waterml,1.1&ParameterCd=00060&startDT=2014-01-01&endDT=2025-05-08\n",
      "\n"
     ]
    },
    {
     "data": {
      "text/html": [
       "'503/1056 - Downloading data for site 03231000'"
      ],
      "text/latex": [
       "'503/1056 - Downloading data for site 03231000'"
      ],
      "text/markdown": [
       "'503/1056 - Downloading data for site 03231000'"
      ],
      "text/plain": [
       "[1] \"503/1056 - Downloading data for site 03231000\""
      ]
     },
     "metadata": {
      "display_id": "status",
      "update": true
     },
     "output_type": "display_data"
    },
    {
     "name": "stderr",
     "output_type": "stream",
     "text": [
      "GET: https://nwis.waterservices.usgs.gov/nwis/iv/?site=03231000&format=waterml,1.1&ParameterCd=00060&startDT=2014-01-01&endDT=2025-05-08\n",
      "\n"
     ]
    },
    {
     "data": {
      "text/html": [
       "'506/1056 - Downloading data for site 03230900'"
      ],
      "text/latex": [
       "'506/1056 - Downloading data for site 03230900'"
      ],
      "text/markdown": [
       "'506/1056 - Downloading data for site 03230900'"
      ],
      "text/plain": [
       "[1] \"506/1056 - Downloading data for site 03230900\""
      ]
     },
     "metadata": {
      "display_id": "status",
      "update": true
     },
     "output_type": "display_data"
    },
    {
     "name": "stderr",
     "output_type": "stream",
     "text": [
      "GET: https://nwis.waterservices.usgs.gov/nwis/iv/?site=03230900&format=waterml,1.1&ParameterCd=00060&startDT=2014-01-01&endDT=2025-05-08\n",
      "\n"
     ]
    },
    {
     "data": {
      "text/html": [
       "'511/1056 - Downloading data for site 0329247450'"
      ],
      "text/latex": [
       "'511/1056 - Downloading data for site 0329247450'"
      ],
      "text/markdown": [
       "'511/1056 - Downloading data for site 0329247450'"
      ],
      "text/plain": [
       "[1] \"511/1056 - Downloading data for site 0329247450\""
      ]
     },
     "metadata": {
      "display_id": "status",
      "update": true
     },
     "output_type": "display_data"
    },
    {
     "name": "stderr",
     "output_type": "stream",
     "text": [
      "GET: https://nwis.waterservices.usgs.gov/nwis/iv/?site=0329247450&format=waterml,1.1&ParameterCd=00060&startDT=2014-01-01&endDT=2025-05-08\n",
      "\n"
     ]
    },
    {
     "data": {
      "text/html": [
       "'512/1056 - Downloading data for site 03294445'"
      ],
      "text/latex": [
       "'512/1056 - Downloading data for site 03294445'"
      ],
      "text/markdown": [
       "'512/1056 - Downloading data for site 03294445'"
      ],
      "text/plain": [
       "[1] \"512/1056 - Downloading data for site 03294445\""
      ]
     },
     "metadata": {
      "display_id": "status",
      "update": true
     },
     "output_type": "display_data"
    },
    {
     "name": "stderr",
     "output_type": "stream",
     "text": [
      "GET: https://nwis.waterservices.usgs.gov/nwis/iv/?site=03294445&format=waterml,1.1&ParameterCd=00060&startDT=2014-01-01&endDT=2025-05-08\n",
      "\n"
     ]
    },
    {
     "data": {
      "text/html": [
       "'517/1056 - Downloading data for site 03302849'"
      ],
      "text/latex": [
       "'517/1056 - Downloading data for site 03302849'"
      ],
      "text/markdown": [
       "'517/1056 - Downloading data for site 03302849'"
      ],
      "text/plain": [
       "[1] \"517/1056 - Downloading data for site 03302849\""
      ]
     },
     "metadata": {
      "display_id": "status",
      "update": true
     },
     "output_type": "display_data"
    },
    {
     "name": "stderr",
     "output_type": "stream",
     "text": [
      "GET: https://nwis.waterservices.usgs.gov/nwis/iv/?site=03302849&format=waterml,1.1&ParameterCd=00060&startDT=2014-01-01&endDT=2025-05-08\n",
      "\n"
     ]
    },
    {
     "data": {
      "text/html": [
       "'543/1056 - Downloading data for site 03364340'"
      ],
      "text/latex": [
       "'543/1056 - Downloading data for site 03364340'"
      ],
      "text/markdown": [
       "'543/1056 - Downloading data for site 03364340'"
      ],
      "text/plain": [
       "[1] \"543/1056 - Downloading data for site 03364340\""
      ]
     },
     "metadata": {
      "display_id": "status",
      "update": true
     },
     "output_type": "display_data"
    },
    {
     "name": "stderr",
     "output_type": "stream",
     "text": [
      "GET: https://nwis.waterservices.usgs.gov/nwis/iv/?site=03364340&format=waterml,1.1&ParameterCd=00060&startDT=2014-01-01&endDT=2025-05-08\n",
      "\n"
     ]
    },
    {
     "data": {
      "text/html": [
       "'547/1056 - Downloading data for site 03360590'"
      ],
      "text/latex": [
       "'547/1056 - Downloading data for site 03360590'"
      ],
      "text/markdown": [
       "'547/1056 - Downloading data for site 03360590'"
      ],
      "text/plain": [
       "[1] \"547/1056 - Downloading data for site 03360590\""
      ]
     },
     "metadata": {
      "display_id": "status",
      "update": true
     },
     "output_type": "display_data"
    },
    {
     "name": "stderr",
     "output_type": "stream",
     "text": [
      "GET: https://nwis.waterservices.usgs.gov/nwis/iv/?site=03360590&format=waterml,1.1&ParameterCd=00060&startDT=2014-01-01&endDT=2025-05-08\n",
      "\n"
     ]
    },
    {
     "data": {
      "text/html": [
       "'550/1056 - Downloading data for site 03372500'"
      ],
      "text/latex": [
       "'550/1056 - Downloading data for site 03372500'"
      ],
      "text/markdown": [
       "'550/1056 - Downloading data for site 03372500'"
      ],
      "text/plain": [
       "[1] \"550/1056 - Downloading data for site 03372500\""
      ]
     },
     "metadata": {
      "display_id": "status",
      "update": true
     },
     "output_type": "display_data"
    },
    {
     "name": "stderr",
     "output_type": "stream",
     "text": [
      "GET: https://nwis.waterservices.usgs.gov/nwis/iv/?site=03372500&format=waterml,1.1&ParameterCd=00060&startDT=2014-01-01&endDT=2025-05-08\n",
      "\n"
     ]
    },
    {
     "data": {
      "text/html": [
       "'551/1056 - Downloading data for site 03372400'"
      ],
      "text/latex": [
       "'551/1056 - Downloading data for site 03372400'"
      ],
      "text/markdown": [
       "'551/1056 - Downloading data for site 03372400'"
      ],
      "text/plain": [
       "[1] \"551/1056 - Downloading data for site 03372400\""
      ]
     },
     "metadata": {
      "display_id": "status",
      "update": true
     },
     "output_type": "display_data"
    },
    {
     "name": "stderr",
     "output_type": "stream",
     "text": [
      "GET: https://nwis.waterservices.usgs.gov/nwis/iv/?site=03372400&format=waterml,1.1&ParameterCd=00060&startDT=2014-01-01&endDT=2025-05-08\n",
      "\n"
     ]
    },
    {
     "data": {
      "text/html": [
       "'569/1056 - Downloading data for site 03358900'"
      ],
      "text/latex": [
       "'569/1056 - Downloading data for site 03358900'"
      ],
      "text/markdown": [
       "'569/1056 - Downloading data for site 03358900'"
      ],
      "text/plain": [
       "[1] \"569/1056 - Downloading data for site 03358900\""
      ]
     },
     "metadata": {
      "display_id": "status",
      "update": true
     },
     "output_type": "display_data"
    },
    {
     "name": "stderr",
     "output_type": "stream",
     "text": [
      "GET: https://nwis.waterservices.usgs.gov/nwis/iv/?site=03358900&format=waterml,1.1&ParameterCd=00060&startDT=2014-01-01&endDT=2025-05-08\n",
      "\n"
     ]
    },
    {
     "data": {
      "text/html": [
       "'570/1056 - Downloading data for site 03359000'"
      ],
      "text/latex": [
       "'570/1056 - Downloading data for site 03359000'"
      ],
      "text/markdown": [
       "'570/1056 - Downloading data for site 03359000'"
      ],
      "text/plain": [
       "[1] \"570/1056 - Downloading data for site 03359000\""
      ]
     },
     "metadata": {
      "display_id": "status",
      "update": true
     },
     "output_type": "display_data"
    },
    {
     "name": "stderr",
     "output_type": "stream",
     "text": [
      "GET: https://nwis.waterservices.usgs.gov/nwis/iv/?site=03359000&format=waterml,1.1&ParameterCd=00060&startDT=2014-01-01&endDT=2025-05-08\n",
      "\n"
     ]
    },
    {
     "data": {
      "text/html": [
       "'572/1056 - Downloading data for site 03357500'"
      ],
      "text/latex": [
       "'572/1056 - Downloading data for site 03357500'"
      ],
      "text/markdown": [
       "'572/1056 - Downloading data for site 03357500'"
      ],
      "text/plain": [
       "[1] \"572/1056 - Downloading data for site 03357500\""
      ]
     },
     "metadata": {
      "display_id": "status",
      "update": true
     },
     "output_type": "display_data"
    },
    {
     "name": "stderr",
     "output_type": "stream",
     "text": [
      "GET: https://nwis.waterservices.usgs.gov/nwis/iv/?site=03357500&format=waterml,1.1&ParameterCd=00060&startDT=2014-01-01&endDT=2025-05-08\n",
      "\n"
     ]
    },
    {
     "data": {
      "text/html": [
       "'575/1056 - Downloading data for site 03340870'"
      ],
      "text/latex": [
       "'575/1056 - Downloading data for site 03340870'"
      ],
      "text/markdown": [
       "'575/1056 - Downloading data for site 03340870'"
      ],
      "text/plain": [
       "[1] \"575/1056 - Downloading data for site 03340870\""
      ]
     },
     "metadata": {
      "display_id": "status",
      "update": true
     },
     "output_type": "display_data"
    },
    {
     "name": "stderr",
     "output_type": "stream",
     "text": [
      "GET: https://nwis.waterservices.usgs.gov/nwis/iv/?site=03340870&format=waterml,1.1&ParameterCd=00060&startDT=2014-01-01&endDT=2025-05-08\n",
      "\n"
     ]
    },
    {
     "data": {
      "text/html": [
       "'578/1056 - Downloading data for site 03363400'"
      ],
      "text/latex": [
       "'578/1056 - Downloading data for site 03363400'"
      ],
      "text/markdown": [
       "'578/1056 - Downloading data for site 03363400'"
      ],
      "text/plain": [
       "[1] \"578/1056 - Downloading data for site 03363400\""
      ]
     },
     "metadata": {
      "display_id": "status",
      "update": true
     },
     "output_type": "display_data"
    },
    {
     "name": "stderr",
     "output_type": "stream",
     "text": [
      "GET: https://nwis.waterservices.usgs.gov/nwis/iv/?site=03363400&format=waterml,1.1&ParameterCd=00060&startDT=2014-01-01&endDT=2025-05-08\n",
      "\n"
     ]
    },
    {
     "data": {
      "text/html": [
       "'583/1056 - Downloading data for site 03353633'"
      ],
      "text/latex": [
       "'583/1056 - Downloading data for site 03353633'"
      ],
      "text/markdown": [
       "'583/1056 - Downloading data for site 03353633'"
      ],
      "text/plain": [
       "[1] \"583/1056 - Downloading data for site 03353633\""
      ]
     },
     "metadata": {
      "display_id": "status",
      "update": true
     },
     "output_type": "display_data"
    },
    {
     "name": "stderr",
     "output_type": "stream",
     "text": [
      "GET: https://nwis.waterservices.usgs.gov/nwis/iv/?site=03353633&format=waterml,1.1&ParameterCd=00060&startDT=2014-01-01&endDT=2025-05-08\n",
      "\n"
     ]
    },
    {
     "data": {
      "text/html": [
       "'587/1056 - Downloading data for site 03353626'"
      ],
      "text/latex": [
       "'587/1056 - Downloading data for site 03353626'"
      ],
      "text/markdown": [
       "'587/1056 - Downloading data for site 03353626'"
      ],
      "text/plain": [
       "[1] \"587/1056 - Downloading data for site 03353626\""
      ]
     },
     "metadata": {
      "display_id": "status",
      "update": true
     },
     "output_type": "display_data"
    },
    {
     "name": "stderr",
     "output_type": "stream",
     "text": [
      "GET: https://nwis.waterservices.usgs.gov/nwis/iv/?site=03353626&format=waterml,1.1&ParameterCd=00060&startDT=2014-01-01&endDT=2025-05-08\n",
      "\n"
     ]
    },
    {
     "data": {
      "text/html": [
       "'588/1056 - Downloading data for site 033531908'"
      ],
      "text/latex": [
       "'588/1056 - Downloading data for site 033531908'"
      ],
      "text/markdown": [
       "'588/1056 - Downloading data for site 033531908'"
      ],
      "text/plain": [
       "[1] \"588/1056 - Downloading data for site 033531908\""
      ]
     },
     "metadata": {
      "display_id": "status",
      "update": true
     },
     "output_type": "display_data"
    },
    {
     "name": "stderr",
     "output_type": "stream",
     "text": [
      "GET: https://nwis.waterservices.usgs.gov/nwis/iv/?site=033531908&format=waterml,1.1&ParameterCd=00060&startDT=2014-01-01&endDT=2025-05-08\n",
      "\n"
     ]
    },
    {
     "data": {
      "text/html": [
       "'589/1056 - Downloading data for site 03363220'"
      ],
      "text/latex": [
       "'589/1056 - Downloading data for site 03363220'"
      ],
      "text/markdown": [
       "'589/1056 - Downloading data for site 03363220'"
      ],
      "text/plain": [
       "[1] \"589/1056 - Downloading data for site 03363220\""
      ]
     },
     "metadata": {
      "display_id": "status",
      "update": true
     },
     "output_type": "display_data"
    },
    {
     "name": "stderr",
     "output_type": "stream",
     "text": [
      "GET: https://nwis.waterservices.usgs.gov/nwis/iv/?site=03363220&format=waterml,1.1&ParameterCd=00060&startDT=2014-01-01&endDT=2025-05-08\n",
      "\n"
     ]
    },
    {
     "data": {
      "text/html": [
       "'590/1056 - Downloading data for site 033536062'"
      ],
      "text/latex": [
       "'590/1056 - Downloading data for site 033536062'"
      ],
      "text/markdown": [
       "'590/1056 - Downloading data for site 033536062'"
      ],
      "text/plain": [
       "[1] \"590/1056 - Downloading data for site 033536062\""
      ]
     },
     "metadata": {
      "display_id": "status",
      "update": true
     },
     "output_type": "display_data"
    },
    {
     "name": "stderr",
     "output_type": "stream",
     "text": [
      "GET: https://nwis.waterservices.usgs.gov/nwis/iv/?site=033536062&format=waterml,1.1&ParameterCd=00060&startDT=2014-01-01&endDT=2025-05-08\n",
      "\n"
     ]
    },
    {
     "data": {
      "text/html": [
       "'592/1056 - Downloading data for site 03361000'"
      ],
      "text/latex": [
       "'592/1056 - Downloading data for site 03361000'"
      ],
      "text/markdown": [
       "'592/1056 - Downloading data for site 03361000'"
      ],
      "text/plain": [
       "[1] \"592/1056 - Downloading data for site 03361000\""
      ]
     },
     "metadata": {
      "display_id": "status",
      "update": true
     },
     "output_type": "display_data"
    },
    {
     "name": "stderr",
     "output_type": "stream",
     "text": [
      "GET: https://nwis.waterservices.usgs.gov/nwis/iv/?site=03361000&format=waterml,1.1&ParameterCd=00060&startDT=2014-01-01&endDT=2025-05-08\n",
      "\n"
     ]
    },
    {
     "data": {
      "text/html": [
       "'593/1056 - Downloading data for site 03353603'"
      ],
      "text/latex": [
       "'593/1056 - Downloading data for site 03353603'"
      ],
      "text/markdown": [
       "'593/1056 - Downloading data for site 03353603'"
      ],
      "text/plain": [
       "[1] \"593/1056 - Downloading data for site 03353603\""
      ]
     },
     "metadata": {
      "display_id": "status",
      "update": true
     },
     "output_type": "display_data"
    },
    {
     "name": "stderr",
     "output_type": "stream",
     "text": [
      "GET: https://nwis.waterservices.usgs.gov/nwis/iv/?site=03353603&format=waterml,1.1&ParameterCd=00060&startDT=2014-01-01&endDT=2025-05-08\n",
      "\n"
     ]
    },
    {
     "data": {
      "text/html": [
       "'602/1056 - Downloading data for site 03352972'"
      ],
      "text/latex": [
       "'602/1056 - Downloading data for site 03352972'"
      ],
      "text/markdown": [
       "'602/1056 - Downloading data for site 03352972'"
      ],
      "text/plain": [
       "[1] \"602/1056 - Downloading data for site 03352972\""
      ]
     },
     "metadata": {
      "display_id": "status",
      "update": true
     },
     "output_type": "display_data"
    },
    {
     "name": "stderr",
     "output_type": "stream",
     "text": [
      "GET: https://nwis.waterservices.usgs.gov/nwis/iv/?site=03352972&format=waterml,1.1&ParameterCd=00060&startDT=2014-01-01&endDT=2025-05-08\n",
      "\n"
     ]
    },
    {
     "data": {
      "text/html": [
       "'605/1056 - Downloading data for site 03353450'"
      ],
      "text/latex": [
       "'605/1056 - Downloading data for site 03353450'"
      ],
      "text/markdown": [
       "'605/1056 - Downloading data for site 03353450'"
      ],
      "text/plain": [
       "[1] \"605/1056 - Downloading data for site 03353450\""
      ]
     },
     "metadata": {
      "display_id": "status",
      "update": true
     },
     "output_type": "display_data"
    },
    {
     "name": "stderr",
     "output_type": "stream",
     "text": [
      "GET: https://nwis.waterservices.usgs.gov/nwis/iv/?site=03353450&format=waterml,1.1&ParameterCd=00060&startDT=2014-01-01&endDT=2025-05-08\n",
      "\n"
     ]
    },
    {
     "data": {
      "text/html": [
       "'612/1056 - Downloading data for site 03061430'"
      ],
      "text/latex": [
       "'612/1056 - Downloading data for site 03061430'"
      ],
      "text/markdown": [
       "'612/1056 - Downloading data for site 03061430'"
      ],
      "text/plain": [
       "[1] \"612/1056 - Downloading data for site 03061430\""
      ]
     },
     "metadata": {
      "display_id": "status",
      "update": true
     },
     "output_type": "display_data"
    },
    {
     "name": "stderr",
     "output_type": "stream",
     "text": [
      "GET: https://nwis.waterservices.usgs.gov/nwis/iv/?site=03061430&format=waterml,1.1&ParameterCd=00060&startDT=2014-01-01&endDT=2025-05-08\n",
      "\n"
     ]
    },
    {
     "data": {
      "text/html": [
       "'613/1056 - Downloading data for site 03062224'"
      ],
      "text/latex": [
       "'613/1056 - Downloading data for site 03062224'"
      ],
      "text/markdown": [
       "'613/1056 - Downloading data for site 03062224'"
      ],
      "text/plain": [
       "[1] \"613/1056 - Downloading data for site 03062224\""
      ]
     },
     "metadata": {
      "display_id": "status",
      "update": true
     },
     "output_type": "display_data"
    },
    {
     "name": "stderr",
     "output_type": "stream",
     "text": [
      "GET: https://nwis.waterservices.usgs.gov/nwis/iv/?site=03062224&format=waterml,1.1&ParameterCd=00060&startDT=2014-01-01&endDT=2025-05-08\n",
      "\n"
     ]
    },
    {
     "data": {
      "text/html": [
       "'614/1056 - Downloading data for site 03062225'"
      ],
      "text/latex": [
       "'614/1056 - Downloading data for site 03062225'"
      ],
      "text/markdown": [
       "'614/1056 - Downloading data for site 03062225'"
      ],
      "text/plain": [
       "[1] \"614/1056 - Downloading data for site 03062225\""
      ]
     },
     "metadata": {
      "display_id": "status",
      "update": true
     },
     "output_type": "display_data"
    },
    {
     "name": "stderr",
     "output_type": "stream",
     "text": [
      "GET: https://nwis.waterservices.usgs.gov/nwis/iv/?site=03062225&format=waterml,1.1&ParameterCd=00060&startDT=2014-01-01&endDT=2025-05-08\n",
      "\n"
     ]
    },
    {
     "data": {
      "text/html": [
       "'615/1056 - Downloading data for site 03062245'"
      ],
      "text/latex": [
       "'615/1056 - Downloading data for site 03062245'"
      ],
      "text/markdown": [
       "'615/1056 - Downloading data for site 03062245'"
      ],
      "text/plain": [
       "[1] \"615/1056 - Downloading data for site 03062245\""
      ]
     },
     "metadata": {
      "display_id": "status",
      "update": true
     },
     "output_type": "display_data"
    },
    {
     "name": "stderr",
     "output_type": "stream",
     "text": [
      "GET: https://nwis.waterservices.usgs.gov/nwis/iv/?site=03062245&format=waterml,1.1&ParameterCd=00060&startDT=2014-01-01&endDT=2025-05-08\n",
      "\n"
     ]
    },
    {
     "data": {
      "text/html": [
       "'616/1056 - Downloading data for site 03062250'"
      ],
      "text/latex": [
       "'616/1056 - Downloading data for site 03062250'"
      ],
      "text/markdown": [
       "'616/1056 - Downloading data for site 03062250'"
      ],
      "text/plain": [
       "[1] \"616/1056 - Downloading data for site 03062250\""
      ]
     },
     "metadata": {
      "display_id": "status",
      "update": true
     },
     "output_type": "display_data"
    },
    {
     "name": "stderr",
     "output_type": "stream",
     "text": [
      "GET: https://nwis.waterservices.usgs.gov/nwis/iv/?site=03062250&format=waterml,1.1&ParameterCd=00060&startDT=2014-01-01&endDT=2025-05-08\n",
      "\n"
     ]
    },
    {
     "data": {
      "text/html": [
       "'619/1056 - Downloading data for site 03075871'"
      ],
      "text/latex": [
       "'619/1056 - Downloading data for site 03075871'"
      ],
      "text/markdown": [
       "'619/1056 - Downloading data for site 03075871'"
      ],
      "text/plain": [
       "[1] \"619/1056 - Downloading data for site 03075871\""
      ]
     },
     "metadata": {
      "display_id": "status",
      "update": true
     },
     "output_type": "display_data"
    },
    {
     "name": "stderr",
     "output_type": "stream",
     "text": [
      "GET: https://nwis.waterservices.usgs.gov/nwis/iv/?site=03075871&format=waterml,1.1&ParameterCd=00060&startDT=2014-01-01&endDT=2025-05-08\n",
      "\n"
     ]
    },
    {
     "data": {
      "text/html": [
       "'625/1056 - Downloading data for site 03077000'"
      ],
      "text/latex": [
       "'625/1056 - Downloading data for site 03077000'"
      ],
      "text/markdown": [
       "'625/1056 - Downloading data for site 03077000'"
      ],
      "text/plain": [
       "[1] \"625/1056 - Downloading data for site 03077000\""
      ]
     },
     "metadata": {
      "display_id": "status",
      "update": true
     },
     "output_type": "display_data"
    },
    {
     "name": "stderr",
     "output_type": "stream",
     "text": [
      "GET: https://nwis.waterservices.usgs.gov/nwis/iv/?site=03077000&format=waterml,1.1&ParameterCd=00060&startDT=2014-01-01&endDT=2025-05-08\n",
      "\n"
     ]
    },
    {
     "data": {
      "text/html": [
       "'631/1056 - Downloading data for site 03072656'"
      ],
      "text/latex": [
       "'631/1056 - Downloading data for site 03072656'"
      ],
      "text/markdown": [
       "'631/1056 - Downloading data for site 03072656'"
      ],
      "text/plain": [
       "[1] \"631/1056 - Downloading data for site 03072656\""
      ]
     },
     "metadata": {
      "display_id": "status",
      "update": true
     },
     "output_type": "display_data"
    },
    {
     "name": "stderr",
     "output_type": "stream",
     "text": [
      "GET: https://nwis.waterservices.usgs.gov/nwis/iv/?site=03072656&format=waterml,1.1&ParameterCd=00060&startDT=2014-01-01&endDT=2025-05-08\n",
      "\n"
     ]
    },
    {
     "data": {
      "text/html": [
       "'635/1056 - Downloading data for site 03073751'"
      ],
      "text/latex": [
       "'635/1056 - Downloading data for site 03073751'"
      ],
      "text/markdown": [
       "'635/1056 - Downloading data for site 03073751'"
      ],
      "text/plain": [
       "[1] \"635/1056 - Downloading data for site 03073751\""
      ]
     },
     "metadata": {
      "display_id": "status",
      "update": true
     },
     "output_type": "display_data"
    },
    {
     "name": "stderr",
     "output_type": "stream",
     "text": [
      "GET: https://nwis.waterservices.usgs.gov/nwis/iv/?site=03073751&format=waterml,1.1&ParameterCd=00060&startDT=2014-01-01&endDT=2025-05-08\n",
      "\n"
     ]
    },
    {
     "data": {
      "text/html": [
       "'636/1056 - Downloading data for site 03073750'"
      ],
      "text/latex": [
       "'636/1056 - Downloading data for site 03073750'"
      ],
      "text/markdown": [
       "'636/1056 - Downloading data for site 03073750'"
      ],
      "text/plain": [
       "[1] \"636/1056 - Downloading data for site 03073750\""
      ]
     },
     "metadata": {
      "display_id": "status",
      "update": true
     },
     "output_type": "display_data"
    },
    {
     "name": "stderr",
     "output_type": "stream",
     "text": [
      "GET: https://nwis.waterservices.usgs.gov/nwis/iv/?site=03073750&format=waterml,1.1&ParameterCd=00060&startDT=2014-01-01&endDT=2025-05-08\n",
      "\n"
     ]
    },
    {
     "data": {
      "text/html": [
       "'638/1056 - Downloading data for site 03074850'"
      ],
      "text/latex": [
       "'638/1056 - Downloading data for site 03074850'"
      ],
      "text/markdown": [
       "'638/1056 - Downloading data for site 03074850'"
      ],
      "text/plain": [
       "[1] \"638/1056 - Downloading data for site 03074850\""
      ]
     },
     "metadata": {
      "display_id": "status",
      "update": true
     },
     "output_type": "display_data"
    },
    {
     "name": "stderr",
     "output_type": "stream",
     "text": [
      "GET: https://nwis.waterservices.usgs.gov/nwis/iv/?site=03074850&format=waterml,1.1&ParameterCd=00060&startDT=2014-01-01&endDT=2025-05-08\n",
      "\n"
     ]
    },
    {
     "data": {
      "text/html": [
       "'639/1056 - Downloading data for site 03074998'"
      ],
      "text/latex": [
       "'639/1056 - Downloading data for site 03074998'"
      ],
      "text/markdown": [
       "'639/1056 - Downloading data for site 03074998'"
      ],
      "text/plain": [
       "[1] \"639/1056 - Downloading data for site 03074998\""
      ]
     },
     "metadata": {
      "display_id": "status",
      "update": true
     },
     "output_type": "display_data"
    },
    {
     "name": "stderr",
     "output_type": "stream",
     "text": [
      "GET: https://nwis.waterservices.usgs.gov/nwis/iv/?site=03074998&format=waterml,1.1&ParameterCd=00060&startDT=2014-01-01&endDT=2025-05-08\n",
      "\n"
     ]
    },
    {
     "data": {
      "text/html": [
       "'643/1056 - Downloading data for site 03045010'"
      ],
      "text/latex": [
       "'643/1056 - Downloading data for site 03045010'"
      ],
      "text/markdown": [
       "'643/1056 - Downloading data for site 03045010'"
      ],
      "text/plain": [
       "[1] \"643/1056 - Downloading data for site 03045010\""
      ]
     },
     "metadata": {
      "display_id": "status",
      "update": true
     },
     "output_type": "display_data"
    },
    {
     "name": "stderr",
     "output_type": "stream",
     "text": [
      "GET: https://nwis.waterservices.usgs.gov/nwis/iv/?site=03045010&format=waterml,1.1&ParameterCd=00060&startDT=2014-01-01&endDT=2025-05-08\n",
      "\n"
     ]
    },
    {
     "data": {
      "text/html": [
       "'645/1056 - Downloading data for site 03041000'"
      ],
      "text/latex": [
       "'645/1056 - Downloading data for site 03041000'"
      ],
      "text/markdown": [
       "'645/1056 - Downloading data for site 03041000'"
      ],
      "text/plain": [
       "[1] \"645/1056 - Downloading data for site 03041000\""
      ]
     },
     "metadata": {
      "display_id": "status",
      "update": true
     },
     "output_type": "display_data"
    },
    {
     "name": "stderr",
     "output_type": "stream",
     "text": [
      "GET: https://nwis.waterservices.usgs.gov/nwis/iv/?site=03041000&format=waterml,1.1&ParameterCd=00060&startDT=2014-01-01&endDT=2025-05-08\n",
      "\n"
     ]
    },
    {
     "data": {
      "text/html": [
       "'646/1056 - Downloading data for site 03040100'"
      ],
      "text/latex": [
       "'646/1056 - Downloading data for site 03040100'"
      ],
      "text/markdown": [
       "'646/1056 - Downloading data for site 03040100'"
      ],
      "text/plain": [
       "[1] \"646/1056 - Downloading data for site 03040100\""
      ]
     },
     "metadata": {
      "display_id": "status",
      "update": true
     },
     "output_type": "display_data"
    },
    {
     "name": "stderr",
     "output_type": "stream",
     "text": [
      "GET: https://nwis.waterservices.usgs.gov/nwis/iv/?site=03040100&format=waterml,1.1&ParameterCd=00060&startDT=2014-01-01&endDT=2025-05-08\n",
      "\n"
     ]
    },
    {
     "data": {
      "text/html": [
       "'647/1056 - Downloading data for site 03040050'"
      ],
      "text/latex": [
       "'647/1056 - Downloading data for site 03040050'"
      ],
      "text/markdown": [
       "'647/1056 - Downloading data for site 03040050'"
      ],
      "text/plain": [
       "[1] \"647/1056 - Downloading data for site 03040050\""
      ]
     },
     "metadata": {
      "display_id": "status",
      "update": true
     },
     "output_type": "display_data"
    },
    {
     "name": "stderr",
     "output_type": "stream",
     "text": [
      "GET: https://nwis.waterservices.usgs.gov/nwis/iv/?site=03040050&format=waterml,1.1&ParameterCd=00060&startDT=2014-01-01&endDT=2025-05-08\n",
      "\n"
     ]
    },
    {
     "data": {
      "text/html": [
       "'648/1056 - Downloading data for site 03084800'"
      ],
      "text/latex": [
       "'648/1056 - Downloading data for site 03084800'"
      ],
      "text/markdown": [
       "'648/1056 - Downloading data for site 03084800'"
      ],
      "text/plain": [
       "[1] \"648/1056 - Downloading data for site 03084800\""
      ]
     },
     "metadata": {
      "display_id": "status",
      "update": true
     },
     "output_type": "display_data"
    },
    {
     "name": "stderr",
     "output_type": "stream",
     "text": [
      "GET: https://nwis.waterservices.usgs.gov/nwis/iv/?site=03084800&format=waterml,1.1&ParameterCd=00060&startDT=2014-01-01&endDT=2025-05-08\n",
      "\n"
     ]
    },
    {
     "data": {
      "text/html": [
       "'650/1056 - Downloading data for site 03085213'"
      ],
      "text/latex": [
       "'650/1056 - Downloading data for site 03085213'"
      ],
      "text/markdown": [
       "'650/1056 - Downloading data for site 03085213'"
      ],
      "text/plain": [
       "[1] \"650/1056 - Downloading data for site 03085213\""
      ]
     },
     "metadata": {
      "display_id": "status",
      "update": true
     },
     "output_type": "display_data"
    },
    {
     "name": "stderr",
     "output_type": "stream",
     "text": [
      "GET: https://nwis.waterservices.usgs.gov/nwis/iv/?site=03085213&format=waterml,1.1&ParameterCd=00060&startDT=2014-01-01&endDT=2025-05-08\n",
      "\n"
     ]
    },
    {
     "data": {
      "text/html": [
       "'651/1056 - Downloading data for site 03085152'"
      ],
      "text/latex": [
       "'651/1056 - Downloading data for site 03085152'"
      ],
      "text/markdown": [
       "'651/1056 - Downloading data for site 03085152'"
      ],
      "text/plain": [
       "[1] \"651/1056 - Downloading data for site 03085152\""
      ]
     },
     "metadata": {
      "display_id": "status",
      "update": true
     },
     "output_type": "display_data"
    },
    {
     "name": "stderr",
     "output_type": "stream",
     "text": [
      "GET: https://nwis.waterservices.usgs.gov/nwis/iv/?site=03085152&format=waterml,1.1&ParameterCd=00060&startDT=2014-01-01&endDT=2025-05-08\n",
      "\n"
     ]
    },
    {
     "data": {
      "text/html": [
       "'652/1056 - Downloading data for site 03046500'"
      ],
      "text/latex": [
       "'652/1056 - Downloading data for site 03046500'"
      ],
      "text/markdown": [
       "'652/1056 - Downloading data for site 03046500'"
      ],
      "text/plain": [
       "[1] \"652/1056 - Downloading data for site 03046500\""
      ]
     },
     "metadata": {
      "display_id": "status",
      "update": true
     },
     "output_type": "display_data"
    },
    {
     "name": "stderr",
     "output_type": "stream",
     "text": [
      "GET: https://nwis.waterservices.usgs.gov/nwis/iv/?site=03046500&format=waterml,1.1&ParameterCd=00060&startDT=2014-01-01&endDT=2025-05-08\n",
      "\n"
     ]
    },
    {
     "data": {
      "text/html": [
       "'654/1056 - Downloading data for site 03049819'"
      ],
      "text/latex": [
       "'654/1056 - Downloading data for site 03049819'"
      ],
      "text/markdown": [
       "'654/1056 - Downloading data for site 03049819'"
      ],
      "text/plain": [
       "[1] \"654/1056 - Downloading data for site 03049819\""
      ]
     },
     "metadata": {
      "display_id": "status",
      "update": true
     },
     "output_type": "display_data"
    },
    {
     "name": "stderr",
     "output_type": "stream",
     "text": [
      "GET: https://nwis.waterservices.usgs.gov/nwis/iv/?site=03049819&format=waterml,1.1&ParameterCd=00060&startDT=2014-01-01&endDT=2025-05-08\n",
      "\n"
     ]
    },
    {
     "data": {
      "text/html": [
       "'655/1056 - Downloading data for site 03049680'"
      ],
      "text/latex": [
       "'655/1056 - Downloading data for site 03049680'"
      ],
      "text/markdown": [
       "'655/1056 - Downloading data for site 03049680'"
      ],
      "text/plain": [
       "[1] \"655/1056 - Downloading data for site 03049680\""
      ]
     },
     "metadata": {
      "display_id": "status",
      "update": true
     },
     "output_type": "display_data"
    },
    {
     "name": "stderr",
     "output_type": "stream",
     "text": [
      "GET: https://nwis.waterservices.usgs.gov/nwis/iv/?site=03049680&format=waterml,1.1&ParameterCd=00060&startDT=2014-01-01&endDT=2025-05-08\n",
      "\n"
     ]
    },
    {
     "data": {
      "text/html": [
       "'656/1056 - Downloading data for site 03049681'"
      ],
      "text/latex": [
       "'656/1056 - Downloading data for site 03049681'"
      ],
      "text/markdown": [
       "'656/1056 - Downloading data for site 03049681'"
      ],
      "text/plain": [
       "[1] \"656/1056 - Downloading data for site 03049681\""
      ]
     },
     "metadata": {
      "display_id": "status",
      "update": true
     },
     "output_type": "display_data"
    },
    {
     "name": "stderr",
     "output_type": "stream",
     "text": [
      "GET: https://nwis.waterservices.usgs.gov/nwis/iv/?site=03049681&format=waterml,1.1&ParameterCd=00060&startDT=2014-01-01&endDT=2025-05-08\n",
      "\n"
     ]
    },
    {
     "data": {
      "text/html": [
       "'657/1056 - Downloading data for site 03049807'"
      ],
      "text/latex": [
       "'657/1056 - Downloading data for site 03049807'"
      ],
      "text/markdown": [
       "'657/1056 - Downloading data for site 03049807'"
      ],
      "text/plain": [
       "[1] \"657/1056 - Downloading data for site 03049807\""
      ]
     },
     "metadata": {
      "display_id": "status",
      "update": true
     },
     "output_type": "display_data"
    },
    {
     "name": "stderr",
     "output_type": "stream",
     "text": [
      "GET: https://nwis.waterservices.usgs.gov/nwis/iv/?site=03049807&format=waterml,1.1&ParameterCd=00060&startDT=2014-01-01&endDT=2025-05-08\n",
      "\n"
     ]
    },
    {
     "data": {
      "text/html": [
       "'660/1056 - Downloading data for site 03043500'"
      ],
      "text/latex": [
       "'660/1056 - Downloading data for site 03043500'"
      ],
      "text/markdown": [
       "'660/1056 - Downloading data for site 03043500'"
      ],
      "text/plain": [
       "[1] \"660/1056 - Downloading data for site 03043500\""
      ]
     },
     "metadata": {
      "display_id": "status",
      "update": true
     },
     "output_type": "display_data"
    },
    {
     "name": "stderr",
     "output_type": "stream",
     "text": [
      "GET: https://nwis.waterservices.usgs.gov/nwis/iv/?site=03043500&format=waterml,1.1&ParameterCd=00060&startDT=2014-01-01&endDT=2025-05-08\n",
      "\n"
     ]
    },
    {
     "data": {
      "text/html": [
       "'665/1056 - Downloading data for site 03141700'"
      ],
      "text/latex": [
       "'665/1056 - Downloading data for site 03141700'"
      ],
      "text/markdown": [
       "'665/1056 - Downloading data for site 03141700'"
      ],
      "text/plain": [
       "[1] \"665/1056 - Downloading data for site 03141700\""
      ]
     },
     "metadata": {
      "display_id": "status",
      "update": true
     },
     "output_type": "display_data"
    },
    {
     "name": "stderr",
     "output_type": "stream",
     "text": [
      "GET: https://nwis.waterservices.usgs.gov/nwis/iv/?site=03141700&format=waterml,1.1&ParameterCd=00060&startDT=2014-01-01&endDT=2025-05-08\n",
      "\n"
     ]
    },
    {
     "data": {
      "text/html": [
       "'667/1056 - Downloading data for site 03141000'"
      ],
      "text/latex": [
       "'667/1056 - Downloading data for site 03141000'"
      ],
      "text/markdown": [
       "'667/1056 - Downloading data for site 03141000'"
      ],
      "text/plain": [
       "[1] \"667/1056 - Downloading data for site 03141000\""
      ]
     },
     "metadata": {
      "display_id": "status",
      "update": true
     },
     "output_type": "display_data"
    },
    {
     "name": "stderr",
     "output_type": "stream",
     "text": [
      "GET: https://nwis.waterservices.usgs.gov/nwis/iv/?site=03141000&format=waterml,1.1&ParameterCd=00060&startDT=2014-01-01&endDT=2025-05-08\n",
      "\n"
     ]
    },
    {
     "data": {
      "text/html": [
       "'671/1056 - Downloading data for site 03125500'"
      ],
      "text/latex": [
       "'671/1056 - Downloading data for site 03125500'"
      ],
      "text/markdown": [
       "'671/1056 - Downloading data for site 03125500'"
      ],
      "text/plain": [
       "[1] \"671/1056 - Downloading data for site 03125500\""
      ]
     },
     "metadata": {
      "display_id": "status",
      "update": true
     },
     "output_type": "display_data"
    },
    {
     "name": "stderr",
     "output_type": "stream",
     "text": [
      "GET: https://nwis.waterservices.usgs.gov/nwis/iv/?site=03125500&format=waterml,1.1&ParameterCd=00060&startDT=2014-01-01&endDT=2025-05-08\n",
      "\n"
     ]
    },
    {
     "data": {
      "text/html": [
       "'674/1056 - Downloading data for site 03126395'"
      ],
      "text/latex": [
       "'674/1056 - Downloading data for site 03126395'"
      ],
      "text/markdown": [
       "'674/1056 - Downloading data for site 03126395'"
      ],
      "text/plain": [
       "[1] \"674/1056 - Downloading data for site 03126395\""
      ]
     },
     "metadata": {
      "display_id": "status",
      "update": true
     },
     "output_type": "display_data"
    },
    {
     "name": "stderr",
     "output_type": "stream",
     "text": [
      "GET: https://nwis.waterservices.usgs.gov/nwis/iv/?site=03126395&format=waterml,1.1&ParameterCd=00060&startDT=2014-01-01&endDT=2025-05-08\n",
      "\n"
     ]
    },
    {
     "data": {
      "text/html": [
       "'675/1056 - Downloading data for site 03075000'"
      ],
      "text/latex": [
       "'675/1056 - Downloading data for site 03075000'"
      ],
      "text/markdown": [
       "'675/1056 - Downloading data for site 03075000'"
      ],
      "text/plain": [
       "[1] \"675/1056 - Downloading data for site 03075000\""
      ]
     },
     "metadata": {
      "display_id": "status",
      "update": true
     },
     "output_type": "display_data"
    },
    {
     "name": "stderr",
     "output_type": "stream",
     "text": [
      "GET: https://nwis.waterservices.usgs.gov/nwis/iv/?site=03075000&format=waterml,1.1&ParameterCd=00060&startDT=2014-01-01&endDT=2025-05-08\n",
      "\n"
     ]
    },
    {
     "data": {
      "text/html": [
       "'677/1056 - Downloading data for site 03085250'"
      ],
      "text/latex": [
       "'677/1056 - Downloading data for site 03085250'"
      ],
      "text/markdown": [
       "'677/1056 - Downloading data for site 03085250'"
      ],
      "text/plain": [
       "[1] \"677/1056 - Downloading data for site 03085250\""
      ]
     },
     "metadata": {
      "display_id": "status",
      "update": true
     },
     "output_type": "display_data"
    },
    {
     "name": "stderr",
     "output_type": "stream",
     "text": [
      "GET: https://nwis.waterservices.usgs.gov/nwis/iv/?site=03085250&format=waterml,1.1&ParameterCd=00060&startDT=2014-01-01&endDT=2025-05-08\n",
      "\n"
     ]
    },
    {
     "data": {
      "text/html": [
       "'679/1056 - Downloading data for site 03075071'"
      ],
      "text/latex": [
       "'679/1056 - Downloading data for site 03075071'"
      ],
      "text/markdown": [
       "'679/1056 - Downloading data for site 03075071'"
      ],
      "text/plain": [
       "[1] \"679/1056 - Downloading data for site 03075071\""
      ]
     },
     "metadata": {
      "display_id": "status",
      "update": true
     },
     "output_type": "display_data"
    },
    {
     "name": "stderr",
     "output_type": "stream",
     "text": [
      "GET: https://nwis.waterservices.usgs.gov/nwis/iv/?site=03075071&format=waterml,1.1&ParameterCd=00060&startDT=2014-01-01&endDT=2025-05-08\n",
      "\n"
     ]
    },
    {
     "data": {
      "text/html": [
       "'681/1056 - Downloading data for site 03085000'"
      ],
      "text/latex": [
       "'681/1056 - Downloading data for site 03085000'"
      ],
      "text/markdown": [
       "'681/1056 - Downloading data for site 03085000'"
      ],
      "text/plain": [
       "[1] \"681/1056 - Downloading data for site 03085000\""
      ]
     },
     "metadata": {
      "display_id": "status",
      "update": true
     },
     "output_type": "display_data"
    },
    {
     "name": "stderr",
     "output_type": "stream",
     "text": [
      "GET: https://nwis.waterservices.usgs.gov/nwis/iv/?site=03085000&format=waterml,1.1&ParameterCd=00060&startDT=2014-01-01&endDT=2025-05-08\n",
      "\n"
     ]
    },
    {
     "data": {
      "text/html": [
       "'682/1056 - Downloading data for site 03085002'"
      ],
      "text/latex": [
       "'682/1056 - Downloading data for site 03085002'"
      ],
      "text/markdown": [
       "'682/1056 - Downloading data for site 03085002'"
      ],
      "text/plain": [
       "[1] \"682/1056 - Downloading data for site 03085002\""
      ]
     },
     "metadata": {
      "display_id": "status",
      "update": true
     },
     "output_type": "display_data"
    },
    {
     "name": "stderr",
     "output_type": "stream",
     "text": [
      "GET: https://nwis.waterservices.usgs.gov/nwis/iv/?site=03085002&format=waterml,1.1&ParameterCd=00060&startDT=2014-01-01&endDT=2025-05-08\n",
      "\n"
     ]
    },
    {
     "data": {
      "text/html": [
       "'683/1056 - Downloading data for site 03084698'"
      ],
      "text/latex": [
       "'683/1056 - Downloading data for site 03084698'"
      ],
      "text/markdown": [
       "'683/1056 - Downloading data for site 03084698'"
      ],
      "text/plain": [
       "[1] \"683/1056 - Downloading data for site 03084698\""
      ]
     },
     "metadata": {
      "display_id": "status",
      "update": true
     },
     "output_type": "display_data"
    },
    {
     "name": "stderr",
     "output_type": "stream",
     "text": [
      "GET: https://nwis.waterservices.usgs.gov/nwis/iv/?site=03084698&format=waterml,1.1&ParameterCd=00060&startDT=2014-01-01&endDT=2025-05-08\n",
      "\n"
     ]
    },
    {
     "data": {
      "text/html": [
       "'685/1056 - Downloading data for site 03112500'"
      ],
      "text/latex": [
       "'685/1056 - Downloading data for site 03112500'"
      ],
      "text/markdown": [
       "'685/1056 - Downloading data for site 03112500'"
      ],
      "text/plain": [
       "[1] \"685/1056 - Downloading data for site 03112500\""
      ]
     },
     "metadata": {
      "display_id": "status",
      "update": true
     },
     "output_type": "display_data"
    },
    {
     "name": "stderr",
     "output_type": "stream",
     "text": [
      "GET: https://nwis.waterservices.usgs.gov/nwis/iv/?site=03112500&format=waterml,1.1&ParameterCd=00060&startDT=2014-01-01&endDT=2025-05-08\n",
      "\n"
     ]
    },
    {
     "data": {
      "text/html": [
       "'687/1056 - Downloading data for site 03111520'"
      ],
      "text/latex": [
       "'687/1056 - Downloading data for site 03111520'"
      ],
      "text/markdown": [
       "'687/1056 - Downloading data for site 03111520'"
      ],
      "text/plain": [
       "[1] \"687/1056 - Downloading data for site 03111520\""
      ]
     },
     "metadata": {
      "display_id": "status",
      "update": true
     },
     "output_type": "display_data"
    },
    {
     "name": "stderr",
     "output_type": "stream",
     "text": [
      "GET: https://nwis.waterservices.usgs.gov/nwis/iv/?site=03111520&format=waterml,1.1&ParameterCd=00060&startDT=2014-01-01&endDT=2025-05-08\n",
      "\n"
     ]
    },
    {
     "data": {
      "text/html": [
       "'688/1056 - Downloading data for site 03111515'"
      ],
      "text/latex": [
       "'688/1056 - Downloading data for site 03111515'"
      ],
      "text/markdown": [
       "'688/1056 - Downloading data for site 03111515'"
      ],
      "text/plain": [
       "[1] \"688/1056 - Downloading data for site 03111515\""
      ]
     },
     "metadata": {
      "display_id": "status",
      "update": true
     },
     "output_type": "display_data"
    },
    {
     "name": "stderr",
     "output_type": "stream",
     "text": [
      "GET: https://nwis.waterservices.usgs.gov/nwis/iv/?site=03111515&format=waterml,1.1&ParameterCd=00060&startDT=2014-01-01&endDT=2025-05-08\n",
      "\n"
     ]
    },
    {
     "data": {
      "text/html": [
       "'691/1056 - Downloading data for site 402823080552300'"
      ],
      "text/latex": [
       "'691/1056 - Downloading data for site 402823080552300'"
      ],
      "text/markdown": [
       "'691/1056 - Downloading data for site 402823080552300'"
      ],
      "text/plain": [
       "[1] \"691/1056 - Downloading data for site 402823080552300\""
      ]
     },
     "metadata": {
      "display_id": "status",
      "update": true
     },
     "output_type": "display_data"
    },
    {
     "name": "stderr",
     "output_type": "stream",
     "text": [
      "GET: https://nwis.waterservices.usgs.gov/nwis/iv/?site=402823080552300&format=waterml,1.1&ParameterCd=00060&startDT=2014-01-01&endDT=2025-05-08\n",
      "\n"
     ]
    },
    {
     "data": {
      "text/html": [
       "'692/1056 - Downloading data for site 03110690'"
      ],
      "text/latex": [
       "'692/1056 - Downloading data for site 03110690'"
      ],
      "text/markdown": [
       "'692/1056 - Downloading data for site 03110690'"
      ],
      "text/plain": [
       "[1] \"692/1056 - Downloading data for site 03110690\""
      ]
     },
     "metadata": {
      "display_id": "status",
      "update": true
     },
     "output_type": "display_data"
    },
    {
     "name": "stderr",
     "output_type": "stream",
     "text": [
      "GET: https://nwis.waterservices.usgs.gov/nwis/iv/?site=03110690&format=waterml,1.1&ParameterCd=00060&startDT=2014-01-01&endDT=2025-05-08\n",
      "\n"
     ]
    },
    {
     "data": {
      "text/html": [
       "'693/1056 - Downloading data for site 03110685'"
      ],
      "text/latex": [
       "'693/1056 - Downloading data for site 03110685'"
      ],
      "text/markdown": [
       "'693/1056 - Downloading data for site 03110685'"
      ],
      "text/plain": [
       "[1] \"693/1056 - Downloading data for site 03110685\""
      ]
     },
     "metadata": {
      "display_id": "status",
      "update": true
     },
     "output_type": "display_data"
    },
    {
     "name": "stderr",
     "output_type": "stream",
     "text": [
      "GET: https://nwis.waterservices.usgs.gov/nwis/iv/?site=03110685&format=waterml,1.1&ParameterCd=00060&startDT=2014-01-01&endDT=2025-05-08\n",
      "\n"
     ]
    },
    {
     "data": {
      "text/html": [
       "'697/1056 - Downloading data for site 03126500'"
      ],
      "text/latex": [
       "'697/1056 - Downloading data for site 03126500'"
      ],
      "text/markdown": [
       "'697/1056 - Downloading data for site 03126500'"
      ],
      "text/plain": [
       "[1] \"697/1056 - Downloading data for site 03126500\""
      ]
     },
     "metadata": {
      "display_id": "status",
      "update": true
     },
     "output_type": "display_data"
    },
    {
     "name": "stderr",
     "output_type": "stream",
     "text": [
      "GET: https://nwis.waterservices.usgs.gov/nwis/iv/?site=03126500&format=waterml,1.1&ParameterCd=00060&startDT=2014-01-01&endDT=2025-05-08\n",
      "\n"
     ]
    },
    {
     "data": {
      "text/html": [
       "'699/1056 - Downloading data for site 03127986'"
      ],
      "text/latex": [
       "'699/1056 - Downloading data for site 03127986'"
      ],
      "text/markdown": [
       "'699/1056 - Downloading data for site 03127986'"
      ],
      "text/plain": [
       "[1] \"699/1056 - Downloading data for site 03127986\""
      ]
     },
     "metadata": {
      "display_id": "status",
      "update": true
     },
     "output_type": "display_data"
    },
    {
     "name": "stderr",
     "output_type": "stream",
     "text": [
      "GET: https://nwis.waterservices.usgs.gov/nwis/iv/?site=03127986&format=waterml,1.1&ParameterCd=00060&startDT=2014-01-01&endDT=2025-05-08\n",
      "\n"
     ]
    },
    {
     "data": {
      "text/html": [
       "'700/1056 - Downloading data for site 03127980'"
      ],
      "text/latex": [
       "'700/1056 - Downloading data for site 03127980'"
      ],
      "text/markdown": [
       "'700/1056 - Downloading data for site 03127980'"
      ],
      "text/plain": [
       "[1] \"700/1056 - Downloading data for site 03127980\""
      ]
     },
     "metadata": {
      "display_id": "status",
      "update": true
     },
     "output_type": "display_data"
    },
    {
     "name": "stderr",
     "output_type": "stream",
     "text": [
      "GET: https://nwis.waterservices.usgs.gov/nwis/iv/?site=03127980&format=waterml,1.1&ParameterCd=00060&startDT=2014-01-01&endDT=2025-05-08\n",
      "\n"
     ]
    },
    {
     "data": {
      "text/html": [
       "'701/1056 - Downloading data for site 03127989'"
      ],
      "text/latex": [
       "'701/1056 - Downloading data for site 03127989'"
      ],
      "text/markdown": [
       "'701/1056 - Downloading data for site 03127989'"
      ],
      "text/plain": [
       "[1] \"701/1056 - Downloading data for site 03127989\""
      ]
     },
     "metadata": {
      "display_id": "status",
      "update": true
     },
     "output_type": "display_data"
    },
    {
     "name": "stderr",
     "output_type": "stream",
     "text": [
      "GET: https://nwis.waterservices.usgs.gov/nwis/iv/?site=03127989&format=waterml,1.1&ParameterCd=00060&startDT=2014-01-01&endDT=2025-05-08\n",
      "\n"
     ]
    },
    {
     "data": {
      "text/html": [
       "'702/1056 - Downloading data for site 03128000'"
      ],
      "text/latex": [
       "'702/1056 - Downloading data for site 03128000'"
      ],
      "text/markdown": [
       "'702/1056 - Downloading data for site 03128000'"
      ],
      "text/plain": [
       "[1] \"702/1056 - Downloading data for site 03128000\""
      ]
     },
     "metadata": {
      "display_id": "status",
      "update": true
     },
     "output_type": "display_data"
    },
    {
     "name": "stderr",
     "output_type": "stream",
     "text": [
      "GET: https://nwis.waterservices.usgs.gov/nwis/iv/?site=03128000&format=waterml,1.1&ParameterCd=00060&startDT=2014-01-01&endDT=2025-05-08\n",
      "\n"
     ]
    },
    {
     "data": {
      "text/html": [
       "'704/1056 - Downloading data for site 03127500'"
      ],
      "text/latex": [
       "'704/1056 - Downloading data for site 03127500'"
      ],
      "text/markdown": [
       "'704/1056 - Downloading data for site 03127500'"
      ],
      "text/plain": [
       "[1] \"704/1056 - Downloading data for site 03127500\""
      ]
     },
     "metadata": {
      "display_id": "status",
      "update": true
     },
     "output_type": "display_data"
    },
    {
     "name": "stderr",
     "output_type": "stream",
     "text": [
      "GET: https://nwis.waterservices.usgs.gov/nwis/iv/?site=03127500&format=waterml,1.1&ParameterCd=00060&startDT=2014-01-01&endDT=2025-05-08\n",
      "\n"
     ]
    },
    {
     "data": {
      "text/html": [
       "'705/1056 - Downloading data for site 03119341'"
      ],
      "text/latex": [
       "'705/1056 - Downloading data for site 03119341'"
      ],
      "text/markdown": [
       "'705/1056 - Downloading data for site 03119341'"
      ],
      "text/plain": [
       "[1] \"705/1056 - Downloading data for site 03119341\""
      ]
     },
     "metadata": {
      "display_id": "status",
      "update": true
     },
     "output_type": "display_data"
    },
    {
     "name": "stderr",
     "output_type": "stream",
     "text": [
      "GET: https://nwis.waterservices.usgs.gov/nwis/iv/?site=03119341&format=waterml,1.1&ParameterCd=00060&startDT=2014-01-01&endDT=2025-05-08\n",
      "\n"
     ]
    },
    {
     "data": {
      "text/html": [
       "'707/1056 - Downloading data for site 03120000'"
      ],
      "text/latex": [
       "'707/1056 - Downloading data for site 03120000'"
      ],
      "text/markdown": [
       "'707/1056 - Downloading data for site 03120000'"
      ],
      "text/plain": [
       "[1] \"707/1056 - Downloading data for site 03120000\""
      ]
     },
     "metadata": {
      "display_id": "status",
      "update": true
     },
     "output_type": "display_data"
    },
    {
     "name": "stderr",
     "output_type": "stream",
     "text": [
      "GET: https://nwis.waterservices.usgs.gov/nwis/iv/?site=03120000&format=waterml,1.1&ParameterCd=00060&startDT=2014-01-01&endDT=2025-05-08\n",
      "\n"
     ]
    },
    {
     "data": {
      "text/html": [
       "'709/1056 - Downloading data for site 03119971'"
      ],
      "text/latex": [
       "'709/1056 - Downloading data for site 03119971'"
      ],
      "text/markdown": [
       "'709/1056 - Downloading data for site 03119971'"
      ],
      "text/plain": [
       "[1] \"709/1056 - Downloading data for site 03119971\""
      ]
     },
     "metadata": {
      "display_id": "status",
      "update": true
     },
     "output_type": "display_data"
    },
    {
     "name": "stderr",
     "output_type": "stream",
     "text": [
      "GET: https://nwis.waterservices.usgs.gov/nwis/iv/?site=03119971&format=waterml,1.1&ParameterCd=00060&startDT=2014-01-01&endDT=2025-05-08\n",
      "\n"
     ]
    },
    {
     "data": {
      "text/html": [
       "'711/1056 - Downloading data for site 03121000'"
      ],
      "text/latex": [
       "'711/1056 - Downloading data for site 03121000'"
      ],
      "text/markdown": [
       "'711/1056 - Downloading data for site 03121000'"
      ],
      "text/plain": [
       "[1] \"711/1056 - Downloading data for site 03121000\""
      ]
     },
     "metadata": {
      "display_id": "status",
      "update": true
     },
     "output_type": "display_data"
    },
    {
     "name": "stderr",
     "output_type": "stream",
     "text": [
      "GET: https://nwis.waterservices.usgs.gov/nwis/iv/?site=03121000&format=waterml,1.1&ParameterCd=00060&startDT=2014-01-01&endDT=2025-05-08\n",
      "\n"
     ]
    },
    {
     "data": {
      "text/html": [
       "'712/1056 - Downloading data for site 03119979'"
      ],
      "text/latex": [
       "'712/1056 - Downloading data for site 03119979'"
      ],
      "text/markdown": [
       "'712/1056 - Downloading data for site 03119979'"
      ],
      "text/plain": [
       "[1] \"712/1056 - Downloading data for site 03119979\""
      ]
     },
     "metadata": {
      "display_id": "status",
      "update": true
     },
     "output_type": "display_data"
    },
    {
     "name": "stderr",
     "output_type": "stream",
     "text": [
      "GET: https://nwis.waterservices.usgs.gov/nwis/iv/?site=03119979&format=waterml,1.1&ParameterCd=00060&startDT=2014-01-01&endDT=2025-05-08\n",
      "\n"
     ]
    },
    {
     "data": {
      "text/html": [
       "'713/1056 - Downloading data for site 03122500'"
      ],
      "text/latex": [
       "'713/1056 - Downloading data for site 03122500'"
      ],
      "text/markdown": [
       "'713/1056 - Downloading data for site 03122500'"
      ],
      "text/plain": [
       "[1] \"713/1056 - Downloading data for site 03122500\""
      ]
     },
     "metadata": {
      "display_id": "status",
      "update": true
     },
     "output_type": "display_data"
    },
    {
     "name": "stderr",
     "output_type": "stream",
     "text": [
      "GET: https://nwis.waterservices.usgs.gov/nwis/iv/?site=03122500&format=waterml,1.1&ParameterCd=00060&startDT=2014-01-01&endDT=2025-05-08\n",
      "\n"
     ]
    },
    {
     "data": {
      "text/html": [
       "'714/1056 - Downloading data for site 03120820'"
      ],
      "text/latex": [
       "'714/1056 - Downloading data for site 03120820'"
      ],
      "text/markdown": [
       "'714/1056 - Downloading data for site 03120820'"
      ],
      "text/plain": [
       "[1] \"714/1056 - Downloading data for site 03120820\""
      ]
     },
     "metadata": {
      "display_id": "status",
      "update": true
     },
     "output_type": "display_data"
    },
    {
     "name": "stderr",
     "output_type": "stream",
     "text": [
      "GET: https://nwis.waterservices.usgs.gov/nwis/iv/?site=03120820&format=waterml,1.1&ParameterCd=00060&startDT=2014-01-01&endDT=2025-05-08\n",
      "\n"
     ]
    },
    {
     "data": {
      "text/html": [
       "'717/1056 - Downloading data for site 03108500'"
      ],
      "text/latex": [
       "'717/1056 - Downloading data for site 03108500'"
      ],
      "text/markdown": [
       "'717/1056 - Downloading data for site 03108500'"
      ],
      "text/plain": [
       "[1] \"717/1056 - Downloading data for site 03108500\""
      ]
     },
     "metadata": {
      "display_id": "status",
      "update": true
     },
     "output_type": "display_data"
    },
    {
     "name": "stderr",
     "output_type": "stream",
     "text": [
      "GET: https://nwis.waterservices.usgs.gov/nwis/iv/?site=03108500&format=waterml,1.1&ParameterCd=00060&startDT=2014-01-01&endDT=2025-05-08\n",
      "\n"
     ]
    },
    {
     "data": {
      "text/html": [
       "'718/1056 - Downloading data for site 03108490'"
      ],
      "text/latex": [
       "'718/1056 - Downloading data for site 03108490'"
      ],
      "text/markdown": [
       "'718/1056 - Downloading data for site 03108490'"
      ],
      "text/plain": [
       "[1] \"718/1056 - Downloading data for site 03108490\""
      ]
     },
     "metadata": {
      "display_id": "status",
      "update": true
     },
     "output_type": "display_data"
    },
    {
     "name": "stderr",
     "output_type": "stream",
     "text": [
      "GET: https://nwis.waterservices.usgs.gov/nwis/iv/?site=03108490&format=waterml,1.1&ParameterCd=00060&startDT=2014-01-01&endDT=2025-05-08\n",
      "\n"
     ]
    },
    {
     "data": {
      "text/html": [
       "'719/1056 - Downloading data for site 03039040'"
      ],
      "text/latex": [
       "'719/1056 - Downloading data for site 03039040'"
      ],
      "text/markdown": [
       "'719/1056 - Downloading data for site 03039040'"
      ],
      "text/plain": [
       "[1] \"719/1056 - Downloading data for site 03039040\""
      ]
     },
     "metadata": {
      "display_id": "status",
      "update": true
     },
     "output_type": "display_data"
    },
    {
     "name": "stderr",
     "output_type": "stream",
     "text": [
      "GET: https://nwis.waterservices.usgs.gov/nwis/iv/?site=03039040&format=waterml,1.1&ParameterCd=00060&startDT=2014-01-01&endDT=2025-05-08\n",
      "\n"
     ]
    },
    {
     "data": {
      "text/html": [
       "'720/1056 - Downloading data for site 03039041'"
      ],
      "text/latex": [
       "'720/1056 - Downloading data for site 03039041'"
      ],
      "text/markdown": [
       "'720/1056 - Downloading data for site 03039041'"
      ],
      "text/plain": [
       "[1] \"720/1056 - Downloading data for site 03039041\""
      ]
     },
     "metadata": {
      "display_id": "status",
      "update": true
     },
     "output_type": "display_data"
    },
    {
     "name": "stderr",
     "output_type": "stream",
     "text": [
      "GET: https://nwis.waterservices.usgs.gov/nwis/iv/?site=03039041&format=waterml,1.1&ParameterCd=00060&startDT=2014-01-01&endDT=2025-05-08\n",
      "\n"
     ]
    },
    {
     "data": {
      "text/html": [
       "'721/1056 - Downloading data for site 03038500'"
      ],
      "text/latex": [
       "'721/1056 - Downloading data for site 03038500'"
      ],
      "text/markdown": [
       "'721/1056 - Downloading data for site 03038500'"
      ],
      "text/plain": [
       "[1] \"721/1056 - Downloading data for site 03038500\""
      ]
     },
     "metadata": {
      "display_id": "status",
      "update": true
     },
     "output_type": "display_data"
    },
    {
     "name": "stderr",
     "output_type": "stream",
     "text": [
      "GET: https://nwis.waterservices.usgs.gov/nwis/iv/?site=03038500&format=waterml,1.1&ParameterCd=00060&startDT=2014-01-01&endDT=2025-05-08\n",
      "\n"
     ]
    },
    {
     "data": {
      "text/html": [
       "'722/1056 - Downloading data for site 03039036'"
      ],
      "text/latex": [
       "'722/1056 - Downloading data for site 03039036'"
      ],
      "text/markdown": [
       "'722/1056 - Downloading data for site 03039036'"
      ],
      "text/plain": [
       "[1] \"722/1056 - Downloading data for site 03039036\""
      ]
     },
     "metadata": {
      "display_id": "status",
      "update": true
     },
     "output_type": "display_data"
    },
    {
     "name": "stderr",
     "output_type": "stream",
     "text": [
      "GET: https://nwis.waterservices.usgs.gov/nwis/iv/?site=03039036&format=waterml,1.1&ParameterCd=00060&startDT=2014-01-01&endDT=2025-05-08\n",
      "\n"
     ]
    },
    {
     "data": {
      "text/html": [
       "'723/1056 - Downloading data for site 03039035'"
      ],
      "text/latex": [
       "'723/1056 - Downloading data for site 03039035'"
      ],
      "text/markdown": [
       "'723/1056 - Downloading data for site 03039035'"
      ],
      "text/plain": [
       "[1] \"723/1056 - Downloading data for site 03039035\""
      ]
     },
     "metadata": {
      "display_id": "status",
      "update": true
     },
     "output_type": "display_data"
    },
    {
     "name": "stderr",
     "output_type": "stream",
     "text": [
      "GET: https://nwis.waterservices.usgs.gov/nwis/iv/?site=03039035&format=waterml,1.1&ParameterCd=00060&startDT=2014-01-01&endDT=2025-05-08\n",
      "\n"
     ]
    },
    {
     "data": {
      "text/html": [
       "'725/1056 - Downloading data for site 03120961'"
      ],
      "text/latex": [
       "'725/1056 - Downloading data for site 03120961'"
      ],
      "text/markdown": [
       "'725/1056 - Downloading data for site 03120961'"
      ],
      "text/plain": [
       "[1] \"725/1056 - Downloading data for site 03120961\""
      ]
     },
     "metadata": {
      "display_id": "status",
      "update": true
     },
     "output_type": "display_data"
    },
    {
     "name": "stderr",
     "output_type": "stream",
     "text": [
      "GET: https://nwis.waterservices.usgs.gov/nwis/iv/?site=03120961&format=waterml,1.1&ParameterCd=00060&startDT=2014-01-01&endDT=2025-05-08\n",
      "\n"
     ]
    },
    {
     "data": {
      "text/html": [
       "'726/1056 - Downloading data for site 03120869'"
      ],
      "text/latex": [
       "'726/1056 - Downloading data for site 03120869'"
      ],
      "text/markdown": [
       "'726/1056 - Downloading data for site 03120869'"
      ],
      "text/plain": [
       "[1] \"726/1056 - Downloading data for site 03120869\""
      ]
     },
     "metadata": {
      "display_id": "status",
      "update": true
     },
     "output_type": "display_data"
    },
    {
     "name": "stderr",
     "output_type": "stream",
     "text": [
      "GET: https://nwis.waterservices.usgs.gov/nwis/iv/?site=03120869&format=waterml,1.1&ParameterCd=00060&startDT=2014-01-01&endDT=2025-05-08\n",
      "\n"
     ]
    },
    {
     "data": {
      "text/html": [
       "'728/1056 - Downloading data for site 03124000'"
      ],
      "text/latex": [
       "'728/1056 - Downloading data for site 03124000'"
      ],
      "text/markdown": [
       "'728/1056 - Downloading data for site 03124000'"
      ],
      "text/plain": [
       "[1] \"728/1056 - Downloading data for site 03124000\""
      ]
     },
     "metadata": {
      "display_id": "status",
      "update": true
     },
     "output_type": "display_data"
    },
    {
     "name": "stderr",
     "output_type": "stream",
     "text": [
      "GET: https://nwis.waterservices.usgs.gov/nwis/iv/?site=03124000&format=waterml,1.1&ParameterCd=00060&startDT=2014-01-01&endDT=2025-05-08\n",
      "\n"
     ]
    },
    {
     "data": {
      "text/html": [
       "'733/1056 - Downloading data for site 03118050'"
      ],
      "text/latex": [
       "'733/1056 - Downloading data for site 03118050'"
      ],
      "text/markdown": [
       "'733/1056 - Downloading data for site 03118050'"
      ],
      "text/plain": [
       "[1] \"733/1056 - Downloading data for site 03118050\""
      ]
     },
     "metadata": {
      "display_id": "status",
      "update": true
     },
     "output_type": "display_data"
    },
    {
     "name": "stderr",
     "output_type": "stream",
     "text": [
      "GET: https://nwis.waterservices.usgs.gov/nwis/iv/?site=03118050&format=waterml,1.1&ParameterCd=00060&startDT=2014-01-01&endDT=2025-05-08\n",
      "\n"
     ]
    },
    {
     "data": {
      "text/html": [
       "'734/1056 - Downloading data for site 03118209'"
      ],
      "text/latex": [
       "'734/1056 - Downloading data for site 03118209'"
      ],
      "text/markdown": [
       "'734/1056 - Downloading data for site 03118209'"
      ],
      "text/plain": [
       "[1] \"734/1056 - Downloading data for site 03118209\""
      ]
     },
     "metadata": {
      "display_id": "status",
      "update": true
     },
     "output_type": "display_data"
    },
    {
     "name": "stderr",
     "output_type": "stream",
     "text": [
      "GET: https://nwis.waterservices.usgs.gov/nwis/iv/?site=03118209&format=waterml,1.1&ParameterCd=00060&startDT=2014-01-01&endDT=2025-05-08\n",
      "\n"
     ]
    },
    {
     "data": {
      "text/html": [
       "'736/1056 - Downloading data for site 03108985'"
      ],
      "text/latex": [
       "'736/1056 - Downloading data for site 03108985'"
      ],
      "text/markdown": [
       "'736/1056 - Downloading data for site 03108985'"
      ],
      "text/plain": [
       "[1] \"736/1056 - Downloading data for site 03108985\""
      ]
     },
     "metadata": {
      "display_id": "status",
      "update": true
     },
     "output_type": "display_data"
    },
    {
     "name": "stderr",
     "output_type": "stream",
     "text": [
      "GET: https://nwis.waterservices.usgs.gov/nwis/iv/?site=03108985&format=waterml,1.1&ParameterCd=00060&startDT=2014-01-01&endDT=2025-05-08\n",
      "\n"
     ]
    },
    {
     "data": {
      "text/html": [
       "'737/1056 - Downloading data for site 03086500'"
      ],
      "text/latex": [
       "'737/1056 - Downloading data for site 03086500'"
      ],
      "text/markdown": [
       "'737/1056 - Downloading data for site 03086500'"
      ],
      "text/plain": [
       "[1] \"737/1056 - Downloading data for site 03086500\""
      ]
     },
     "metadata": {
      "display_id": "status",
      "update": true
     },
     "output_type": "display_data"
    },
    {
     "name": "stderr",
     "output_type": "stream",
     "text": [
      "GET: https://nwis.waterservices.usgs.gov/nwis/iv/?site=03086500&format=waterml,1.1&ParameterCd=00060&startDT=2014-01-01&endDT=2025-05-08\n",
      "\n"
     ]
    },
    {
     "data": {
      "text/html": [
       "'739/1056 - Downloading data for site 03090000'"
      ],
      "text/latex": [
       "'739/1056 - Downloading data for site 03090000'"
      ],
      "text/markdown": [
       "'739/1056 - Downloading data for site 03090000'"
      ],
      "text/plain": [
       "[1] \"739/1056 - Downloading data for site 03090000\""
      ]
     },
     "metadata": {
      "display_id": "status",
      "update": true
     },
     "output_type": "display_data"
    },
    {
     "name": "stderr",
     "output_type": "stream",
     "text": [
      "GET: https://nwis.waterservices.usgs.gov/nwis/iv/?site=03090000&format=waterml,1.1&ParameterCd=00060&startDT=2014-01-01&endDT=2025-05-08\n",
      "\n"
     ]
    },
    {
     "data": {
      "text/html": [
       "'742/1056 - Downloading data for site 03098700'"
      ],
      "text/latex": [
       "'742/1056 - Downloading data for site 03098700'"
      ],
      "text/markdown": [
       "'742/1056 - Downloading data for site 03098700'"
      ],
      "text/plain": [
       "[1] \"742/1056 - Downloading data for site 03098700\""
      ]
     },
     "metadata": {
      "display_id": "status",
      "update": true
     },
     "output_type": "display_data"
    },
    {
     "name": "stderr",
     "output_type": "stream",
     "text": [
      "GET: https://nwis.waterservices.usgs.gov/nwis/iv/?site=03098700&format=waterml,1.1&ParameterCd=00060&startDT=2014-01-01&endDT=2025-05-08\n",
      "\n"
     ]
    },
    {
     "data": {
      "text/html": [
       "'743/1056 - Downloading data for site 03091000'"
      ],
      "text/latex": [
       "'743/1056 - Downloading data for site 03091000'"
      ],
      "text/markdown": [
       "'743/1056 - Downloading data for site 03091000'"
      ],
      "text/plain": [
       "[1] \"743/1056 - Downloading data for site 03091000\""
      ]
     },
     "metadata": {
      "display_id": "status",
      "update": true
     },
     "output_type": "display_data"
    },
    {
     "name": "stderr",
     "output_type": "stream",
     "text": [
      "GET: https://nwis.waterservices.usgs.gov/nwis/iv/?site=03091000&format=waterml,1.1&ParameterCd=00060&startDT=2014-01-01&endDT=2025-05-08\n",
      "\n"
     ]
    },
    {
     "data": {
      "text/html": [
       "'745/1056 - Downloading data for site 03118258'"
      ],
      "text/latex": [
       "'745/1056 - Downloading data for site 03118258'"
      ],
      "text/markdown": [
       "'745/1056 - Downloading data for site 03118258'"
      ],
      "text/plain": [
       "[1] \"745/1056 - Downloading data for site 03118258\""
      ]
     },
     "metadata": {
      "display_id": "status",
      "update": true
     },
     "output_type": "display_data"
    },
    {
     "name": "stderr",
     "output_type": "stream",
     "text": [
      "GET: https://nwis.waterservices.usgs.gov/nwis/iv/?site=03118258&format=waterml,1.1&ParameterCd=00060&startDT=2014-01-01&endDT=2025-05-08\n",
      "\n"
     ]
    },
    {
     "data": {
      "text/html": [
       "'750/1056 - Downloading data for site 410204081363200'"
      ],
      "text/latex": [
       "'750/1056 - Downloading data for site 410204081363200'"
      ],
      "text/markdown": [
       "'750/1056 - Downloading data for site 410204081363200'"
      ],
      "text/plain": [
       "[1] \"750/1056 - Downloading data for site 410204081363200\""
      ]
     },
     "metadata": {
      "display_id": "status",
      "update": true
     },
     "output_type": "display_data"
    },
    {
     "name": "stderr",
     "output_type": "stream",
     "text": [
      "GET: https://nwis.waterservices.usgs.gov/nwis/iv/?site=410204081363200&format=waterml,1.1&ParameterCd=00060&startDT=2014-01-01&endDT=2025-05-08\n",
      "\n"
     ]
    },
    {
     "data": {
      "text/html": [
       "'751/1056 - Downloading data for site 410211081370900'"
      ],
      "text/latex": [
       "'751/1056 - Downloading data for site 410211081370900'"
      ],
      "text/markdown": [
       "'751/1056 - Downloading data for site 410211081370900'"
      ],
      "text/plain": [
       "[1] \"751/1056 - Downloading data for site 410211081370900\""
      ]
     },
     "metadata": {
      "display_id": "status",
      "update": true
     },
     "output_type": "display_data"
    },
    {
     "name": "stderr",
     "output_type": "stream",
     "text": [
      "GET: https://nwis.waterservices.usgs.gov/nwis/iv/?site=410211081370900&format=waterml,1.1&ParameterCd=00060&startDT=2014-01-01&endDT=2025-05-08\n",
      "\n"
     ]
    },
    {
     "data": {
      "text/html": [
       "'752/1056 - Downloading data for site 03115990'"
      ],
      "text/latex": [
       "'752/1056 - Downloading data for site 03115990'"
      ],
      "text/markdown": [
       "'752/1056 - Downloading data for site 03115990'"
      ],
      "text/plain": [
       "[1] \"752/1056 - Downloading data for site 03115990\""
      ]
     },
     "metadata": {
      "display_id": "status",
      "update": true
     },
     "output_type": "display_data"
    },
    {
     "name": "stderr",
     "output_type": "stream",
     "text": [
      "GET: https://nwis.waterservices.usgs.gov/nwis/iv/?site=03115990&format=waterml,1.1&ParameterCd=00060&startDT=2014-01-01&endDT=2025-05-08\n",
      "\n"
     ]
    },
    {
     "data": {
      "text/html": [
       "'753/1056 - Downloading data for site 03130000'"
      ],
      "text/latex": [
       "'753/1056 - Downloading data for site 03130000'"
      ],
      "text/markdown": [
       "'753/1056 - Downloading data for site 03130000'"
      ],
      "text/plain": [
       "[1] \"753/1056 - Downloading data for site 03130000\""
      ]
     },
     "metadata": {
      "display_id": "status",
      "update": true
     },
     "output_type": "display_data"
    },
    {
     "name": "stderr",
     "output_type": "stream",
     "text": [
      "GET: https://nwis.waterservices.usgs.gov/nwis/iv/?site=03130000&format=waterml,1.1&ParameterCd=00060&startDT=2014-01-01&endDT=2025-05-08\n",
      "\n"
     ]
    },
    {
     "data": {
      "text/html": [
       "'756/1056 - Downloading data for site 03116192'"
      ],
      "text/latex": [
       "'756/1056 - Downloading data for site 03116192'"
      ],
      "text/markdown": [
       "'756/1056 - Downloading data for site 03116192'"
      ],
      "text/plain": [
       "[1] \"756/1056 - Downloading data for site 03116192\""
      ]
     },
     "metadata": {
      "display_id": "status",
      "update": true
     },
     "output_type": "display_data"
    },
    {
     "name": "stderr",
     "output_type": "stream",
     "text": [
      "GET: https://nwis.waterservices.usgs.gov/nwis/iv/?site=03116192&format=waterml,1.1&ParameterCd=00060&startDT=2014-01-01&endDT=2025-05-08\n",
      "\n"
     ]
    },
    {
     "data": {
      "text/html": [
       "'758/1056 - Downloading data for site 03085730'"
      ],
      "text/latex": [
       "'758/1056 - Downloading data for site 03085730'"
      ],
      "text/markdown": [
       "'758/1056 - Downloading data for site 03085730'"
      ],
      "text/plain": [
       "[1] \"758/1056 - Downloading data for site 03085730\""
      ]
     },
     "metadata": {
      "display_id": "status",
      "update": true
     },
     "output_type": "display_data"
    },
    {
     "name": "stderr",
     "output_type": "stream",
     "text": [
      "GET: https://nwis.waterservices.usgs.gov/nwis/iv/?site=03085730&format=waterml,1.1&ParameterCd=00060&startDT=2014-01-01&endDT=2025-05-08\n",
      "\n"
     ]
    },
    {
     "data": {
      "text/html": [
       "'759/1056 - Downloading data for site 03085734'"
      ],
      "text/latex": [
       "'759/1056 - Downloading data for site 03085734'"
      ],
      "text/markdown": [
       "'759/1056 - Downloading data for site 03085734'"
      ],
      "text/plain": [
       "[1] \"759/1056 - Downloading data for site 03085734\""
      ]
     },
     "metadata": {
      "display_id": "status",
      "update": true
     },
     "output_type": "display_data"
    },
    {
     "name": "stderr",
     "output_type": "stream",
     "text": [
      "GET: https://nwis.waterservices.usgs.gov/nwis/iv/?site=03085734&format=waterml,1.1&ParameterCd=00060&startDT=2014-01-01&endDT=2025-05-08\n",
      "\n"
     ]
    },
    {
     "data": {
      "text/html": [
       "'760/1056 - Downloading data for site 03085947'"
      ],
      "text/latex": [
       "'760/1056 - Downloading data for site 03085947'"
      ],
      "text/markdown": [
       "'760/1056 - Downloading data for site 03085947'"
      ],
      "text/plain": [
       "[1] \"760/1056 - Downloading data for site 03085947\""
      ]
     },
     "metadata": {
      "display_id": "status",
      "update": true
     },
     "output_type": "display_data"
    },
    {
     "name": "stderr",
     "output_type": "stream",
     "text": [
      "GET: https://nwis.waterservices.usgs.gov/nwis/iv/?site=03085947&format=waterml,1.1&ParameterCd=00060&startDT=2014-01-01&endDT=2025-05-08\n",
      "\n"
     ]
    },
    {
     "data": {
      "text/html": [
       "'762/1056 - Downloading data for site 03049641'"
      ],
      "text/latex": [
       "'762/1056 - Downloading data for site 03049641'"
      ],
      "text/markdown": [
       "'762/1056 - Downloading data for site 03049641'"
      ],
      "text/plain": [
       "[1] \"762/1056 - Downloading data for site 03049641\""
      ]
     },
     "metadata": {
      "display_id": "status",
      "update": true
     },
     "output_type": "display_data"
    },
    {
     "name": "stderr",
     "output_type": "stream",
     "text": [
      "GET: https://nwis.waterservices.usgs.gov/nwis/iv/?site=03049641&format=waterml,1.1&ParameterCd=00060&startDT=2014-01-01&endDT=2025-05-08\n",
      "\n"
     ]
    },
    {
     "data": {
      "text/html": [
       "'763/1056 - Downloading data for site 03049640'"
      ],
      "text/latex": [
       "'763/1056 - Downloading data for site 03049640'"
      ],
      "text/markdown": [
       "'763/1056 - Downloading data for site 03049640'"
      ],
      "text/plain": [
       "[1] \"763/1056 - Downloading data for site 03049640\""
      ]
     },
     "metadata": {
      "display_id": "status",
      "update": true
     },
     "output_type": "display_data"
    },
    {
     "name": "stderr",
     "output_type": "stream",
     "text": [
      "GET: https://nwis.waterservices.usgs.gov/nwis/iv/?site=03049640&format=waterml,1.1&ParameterCd=00060&startDT=2014-01-01&endDT=2025-05-08\n",
      "\n"
     ]
    },
    {
     "data": {
      "text/html": [
       "'765/1056 - Downloading data for site 03086001'"
      ],
      "text/latex": [
       "'765/1056 - Downloading data for site 03086001'"
      ],
      "text/markdown": [
       "'765/1056 - Downloading data for site 03086001'"
      ],
      "text/plain": [
       "[1] \"765/1056 - Downloading data for site 03086001\""
      ]
     },
     "metadata": {
      "display_id": "status",
      "update": true
     },
     "output_type": "display_data"
    },
    {
     "name": "stderr",
     "output_type": "stream",
     "text": [
      "GET: https://nwis.waterservices.usgs.gov/nwis/iv/?site=03086001&format=waterml,1.1&ParameterCd=00060&startDT=2014-01-01&endDT=2025-05-08\n",
      "\n"
     ]
    },
    {
     "data": {
      "text/html": [
       "'767/1056 - Downloading data for site 03049501'"
      ],
      "text/latex": [
       "'767/1056 - Downloading data for site 03049501'"
      ],
      "text/markdown": [
       "'767/1056 - Downloading data for site 03049501'"
      ],
      "text/plain": [
       "[1] \"767/1056 - Downloading data for site 03049501\""
      ]
     },
     "metadata": {
      "display_id": "status",
      "update": true
     },
     "output_type": "display_data"
    },
    {
     "name": "stderr",
     "output_type": "stream",
     "text": [
      "GET: https://nwis.waterservices.usgs.gov/nwis/iv/?site=03049501&format=waterml,1.1&ParameterCd=00060&startDT=2014-01-01&endDT=2025-05-08\n",
      "\n"
     ]
    },
    {
     "data": {
      "text/html": [
       "'769/1056 - Downloading data for site 03035500'"
      ],
      "text/latex": [
       "'769/1056 - Downloading data for site 03035500'"
      ],
      "text/markdown": [
       "'769/1056 - Downloading data for site 03035500'"
      ],
      "text/plain": [
       "[1] \"769/1056 - Downloading data for site 03035500\""
      ]
     },
     "metadata": {
      "display_id": "status",
      "update": true
     },
     "output_type": "display_data"
    },
    {
     "name": "stderr",
     "output_type": "stream",
     "text": [
      "GET: https://nwis.waterservices.usgs.gov/nwis/iv/?site=03035500&format=waterml,1.1&ParameterCd=00060&startDT=2014-01-01&endDT=2025-05-08\n",
      "\n"
     ]
    },
    {
     "data": {
      "text/html": [
       "'772/1056 - Downloading data for site 03033289'"
      ],
      "text/latex": [
       "'772/1056 - Downloading data for site 03033289'"
      ],
      "text/markdown": [
       "'772/1056 - Downloading data for site 03033289'"
      ],
      "text/plain": [
       "[1] \"772/1056 - Downloading data for site 03033289\""
      ]
     },
     "metadata": {
      "display_id": "status",
      "update": true
     },
     "output_type": "display_data"
    },
    {
     "name": "stderr",
     "output_type": "stream",
     "text": [
      "GET: https://nwis.waterservices.usgs.gov/nwis/iv/?site=03033289&format=waterml,1.1&ParameterCd=00060&startDT=2014-01-01&endDT=2025-05-08\n",
      "\n"
     ]
    },
    {
     "data": {
      "text/html": [
       "'776/1056 - Downloading data for site 03036501'"
      ],
      "text/latex": [
       "'776/1056 - Downloading data for site 03036501'"
      ],
      "text/markdown": [
       "'776/1056 - Downloading data for site 03036501'"
      ],
      "text/plain": [
       "[1] \"776/1056 - Downloading data for site 03036501\""
      ]
     },
     "metadata": {
      "display_id": "status",
      "update": true
     },
     "output_type": "display_data"
    },
    {
     "name": "stderr",
     "output_type": "stream",
     "text": [
      "GET: https://nwis.waterservices.usgs.gov/nwis/iv/?site=03036501&format=waterml,1.1&ParameterCd=00060&startDT=2014-01-01&endDT=2025-05-08\n",
      "\n"
     ]
    },
    {
     "data": {
      "text/html": [
       "'780/1056 - Downloading data for site 03036151'"
      ],
      "text/latex": [
       "'780/1056 - Downloading data for site 03036151'"
      ],
      "text/markdown": [
       "'780/1056 - Downloading data for site 03036151'"
      ],
      "text/plain": [
       "[1] \"780/1056 - Downloading data for site 03036151\""
      ]
     },
     "metadata": {
      "display_id": "status",
      "update": true
     },
     "output_type": "display_data"
    },
    {
     "name": "stderr",
     "output_type": "stream",
     "text": [
      "GET: https://nwis.waterservices.usgs.gov/nwis/iv/?site=03036151&format=waterml,1.1&ParameterCd=00060&startDT=2014-01-01&endDT=2025-05-08\n",
      "\n"
     ]
    },
    {
     "data": {
      "text/html": [
       "'781/1056 - Downloading data for site 03036150'"
      ],
      "text/latex": [
       "'781/1056 - Downloading data for site 03036150'"
      ],
      "text/markdown": [
       "'781/1056 - Downloading data for site 03036150'"
      ],
      "text/plain": [
       "[1] \"781/1056 - Downloading data for site 03036150\""
      ]
     },
     "metadata": {
      "display_id": "status",
      "update": true
     },
     "output_type": "display_data"
    },
    {
     "name": "stderr",
     "output_type": "stream",
     "text": [
      "GET: https://nwis.waterservices.usgs.gov/nwis/iv/?site=03036150&format=waterml,1.1&ParameterCd=00060&startDT=2014-01-01&endDT=2025-05-08\n",
      "\n"
     ]
    },
    {
     "data": {
      "text/html": [
       "'782/1056 - Downloading data for site 03033001'"
      ],
      "text/latex": [
       "'782/1056 - Downloading data for site 03033001'"
      ],
      "text/markdown": [
       "'782/1056 - Downloading data for site 03033001'"
      ],
      "text/plain": [
       "[1] \"782/1056 - Downloading data for site 03033001\""
      ]
     },
     "metadata": {
      "display_id": "status",
      "update": true
     },
     "output_type": "display_data"
    },
    {
     "name": "stderr",
     "output_type": "stream",
     "text": [
      "GET: https://nwis.waterservices.usgs.gov/nwis/iv/?site=03033001&format=waterml,1.1&ParameterCd=00060&startDT=2014-01-01&endDT=2025-05-08\n",
      "\n"
     ]
    },
    {
     "data": {
      "text/html": [
       "'784/1056 - Downloading data for site 03033215'"
      ],
      "text/latex": [
       "'784/1056 - Downloading data for site 03033215'"
      ],
      "text/markdown": [
       "'784/1056 - Downloading data for site 03033215'"
      ],
      "text/plain": [
       "[1] \"784/1056 - Downloading data for site 03033215\""
      ]
     },
     "metadata": {
      "display_id": "status",
      "update": true
     },
     "output_type": "display_data"
    },
    {
     "name": "stderr",
     "output_type": "stream",
     "text": [
      "GET: https://nwis.waterservices.usgs.gov/nwis/iv/?site=03033215&format=waterml,1.1&ParameterCd=00060&startDT=2014-01-01&endDT=2025-05-08\n",
      "\n"
     ]
    },
    {
     "data": {
      "text/html": [
       "'785/1056 - Downloading data for site 03031624'"
      ],
      "text/latex": [
       "'785/1056 - Downloading data for site 03031624'"
      ],
      "text/markdown": [
       "'785/1056 - Downloading data for site 03031624'"
      ],
      "text/plain": [
       "[1] \"785/1056 - Downloading data for site 03031624\""
      ]
     },
     "metadata": {
      "display_id": "status",
      "update": true
     },
     "output_type": "display_data"
    },
    {
     "name": "stderr",
     "output_type": "stream",
     "text": [
      "GET: https://nwis.waterservices.usgs.gov/nwis/iv/?site=03031624&format=waterml,1.1&ParameterCd=00060&startDT=2014-01-01&endDT=2025-05-08\n",
      "\n"
     ]
    },
    {
     "data": {
      "text/html": [
       "'789/1056 - Downloading data for site 03028900'"
      ],
      "text/latex": [
       "'789/1056 - Downloading data for site 03028900'"
      ],
      "text/markdown": [
       "'789/1056 - Downloading data for site 03028900'"
      ],
      "text/plain": [
       "[1] \"789/1056 - Downloading data for site 03028900\""
      ]
     },
     "metadata": {
      "display_id": "status",
      "update": true
     },
     "output_type": "display_data"
    },
    {
     "name": "stderr",
     "output_type": "stream",
     "text": [
      "GET: https://nwis.waterservices.usgs.gov/nwis/iv/?site=03028900&format=waterml,1.1&ParameterCd=00060&startDT=2014-01-01&endDT=2025-05-08\n",
      "\n"
     ]
    },
    {
     "data": {
      "text/html": [
       "'792/1056 - Downloading data for site 03027000'"
      ],
      "text/latex": [
       "'792/1056 - Downloading data for site 03027000'"
      ],
      "text/markdown": [
       "'792/1056 - Downloading data for site 03027000'"
      ],
      "text/plain": [
       "[1] \"792/1056 - Downloading data for site 03027000\""
      ]
     },
     "metadata": {
      "display_id": "status",
      "update": true
     },
     "output_type": "display_data"
    },
    {
     "name": "stderr",
     "output_type": "stream",
     "text": [
      "GET: https://nwis.waterservices.usgs.gov/nwis/iv/?site=03027000&format=waterml,1.1&ParameterCd=00060&startDT=2014-01-01&endDT=2025-05-08\n",
      "\n"
     ]
    },
    {
     "data": {
      "text/html": [
       "'794/1056 - Downloading data for site 03033000'"
      ],
      "text/latex": [
       "'794/1056 - Downloading data for site 03033000'"
      ],
      "text/markdown": [
       "'794/1056 - Downloading data for site 03033000'"
      ],
      "text/plain": [
       "[1] \"794/1056 - Downloading data for site 03033000\""
      ]
     },
     "metadata": {
      "display_id": "status",
      "update": true
     },
     "output_type": "display_data"
    },
    {
     "name": "stderr",
     "output_type": "stream",
     "text": [
      "GET: https://nwis.waterservices.usgs.gov/nwis/iv/?site=03033000&format=waterml,1.1&ParameterCd=00060&startDT=2014-01-01&endDT=2025-05-08\n",
      "\n"
     ]
    },
    {
     "data": {
      "text/html": [
       "'795/1056 - Downloading data for site 03106280'"
      ],
      "text/latex": [
       "'795/1056 - Downloading data for site 03106280'"
      ],
      "text/markdown": [
       "'795/1056 - Downloading data for site 03106280'"
      ],
      "text/plain": [
       "[1] \"795/1056 - Downloading data for site 03106280\""
      ]
     },
     "metadata": {
      "display_id": "status",
      "update": true
     },
     "output_type": "display_data"
    },
    {
     "name": "stderr",
     "output_type": "stream",
     "text": [
      "GET: https://nwis.waterservices.usgs.gov/nwis/iv/?site=03106280&format=waterml,1.1&ParameterCd=00060&startDT=2014-01-01&endDT=2025-05-08\n",
      "\n"
     ]
    },
    {
     "data": {
      "text/html": [
       "'797/1056 - Downloading data for site 03104490'"
      ],
      "text/latex": [
       "'797/1056 - Downloading data for site 03104490'"
      ],
      "text/markdown": [
       "'797/1056 - Downloading data for site 03104490'"
      ],
      "text/plain": [
       "[1] \"797/1056 - Downloading data for site 03104490\""
      ]
     },
     "metadata": {
      "display_id": "status",
      "update": true
     },
     "output_type": "display_data"
    },
    {
     "name": "stderr",
     "output_type": "stream",
     "text": [
      "GET: https://nwis.waterservices.usgs.gov/nwis/iv/?site=03104490&format=waterml,1.1&ParameterCd=00060&startDT=2014-01-01&endDT=2025-05-08\n",
      "\n"
     ]
    },
    {
     "data": {
      "text/html": [
       "'800/1056 - Downloading data for site 03103400'"
      ],
      "text/latex": [
       "'800/1056 - Downloading data for site 03103400'"
      ],
      "text/markdown": [
       "'800/1056 - Downloading data for site 03103400'"
      ],
      "text/plain": [
       "[1] \"800/1056 - Downloading data for site 03103400\""
      ]
     },
     "metadata": {
      "display_id": "status",
      "update": true
     },
     "output_type": "display_data"
    },
    {
     "name": "stderr",
     "output_type": "stream",
     "text": [
      "GET: https://nwis.waterservices.usgs.gov/nwis/iv/?site=03103400&format=waterml,1.1&ParameterCd=00060&startDT=2014-01-01&endDT=2025-05-08\n",
      "\n"
     ]
    },
    {
     "data": {
      "text/html": [
       "'804/1056 - Downloading data for site 03092090'"
      ],
      "text/latex": [
       "'804/1056 - Downloading data for site 03092090'"
      ],
      "text/markdown": [
       "'804/1056 - Downloading data for site 03092090'"
      ],
      "text/plain": [
       "[1] \"804/1056 - Downloading data for site 03092090\""
      ]
     },
     "metadata": {
      "display_id": "status",
      "update": true
     },
     "output_type": "display_data"
    },
    {
     "name": "stderr",
     "output_type": "stream",
     "text": [
      "GET: https://nwis.waterservices.usgs.gov/nwis/iv/?site=03092090&format=waterml,1.1&ParameterCd=00060&startDT=2014-01-01&endDT=2025-05-08\n",
      "\n"
     ]
    },
    {
     "data": {
      "text/html": [
       "'805/1056 - Downloading data for site 03092450'"
      ],
      "text/latex": [
       "'805/1056 - Downloading data for site 03092450'"
      ],
      "text/markdown": [
       "'805/1056 - Downloading data for site 03092450'"
      ],
      "text/plain": [
       "[1] \"805/1056 - Downloading data for site 03092450\""
      ]
     },
     "metadata": {
      "display_id": "status",
      "update": true
     },
     "output_type": "display_data"
    },
    {
     "name": "stderr",
     "output_type": "stream",
     "text": [
      "GET: https://nwis.waterservices.usgs.gov/nwis/iv/?site=03092450&format=waterml,1.1&ParameterCd=00060&startDT=2014-01-01&endDT=2025-05-08\n",
      "\n"
     ]
    },
    {
     "data": {
      "text/html": [
       "'809/1056 - Downloading data for site 03095000'"
      ],
      "text/latex": [
       "'809/1056 - Downloading data for site 03095000'"
      ],
      "text/markdown": [
       "'809/1056 - Downloading data for site 03095000'"
      ],
      "text/plain": [
       "[1] \"809/1056 - Downloading data for site 03095000\""
      ]
     },
     "metadata": {
      "display_id": "status",
      "update": true
     },
     "output_type": "display_data"
    },
    {
     "name": "stderr",
     "output_type": "stream",
     "text": [
      "GET: https://nwis.waterservices.usgs.gov/nwis/iv/?site=03095000&format=waterml,1.1&ParameterCd=00060&startDT=2014-01-01&endDT=2025-05-08\n",
      "\n"
     ]
    },
    {
     "data": {
      "text/html": [
       "'811/1056 - Downloading data for site 03102950'"
      ],
      "text/latex": [
       "'811/1056 - Downloading data for site 03102950'"
      ],
      "text/markdown": [
       "'811/1056 - Downloading data for site 03102950'"
      ],
      "text/plain": [
       "[1] \"811/1056 - Downloading data for site 03102950\""
      ]
     },
     "metadata": {
      "display_id": "status",
      "update": true
     },
     "output_type": "display_data"
    },
    {
     "name": "stderr",
     "output_type": "stream",
     "text": [
      "GET: https://nwis.waterservices.usgs.gov/nwis/iv/?site=03102950&format=waterml,1.1&ParameterCd=00060&startDT=2014-01-01&endDT=2025-05-08\n",
      "\n"
     ]
    },
    {
     "data": {
      "text/html": [
       "'815/1056 - Downloading data for site 03019500'"
      ],
      "text/latex": [
       "'815/1056 - Downloading data for site 03019500'"
      ],
      "text/markdown": [
       "'815/1056 - Downloading data for site 03019500'"
      ],
      "text/plain": [
       "[1] \"815/1056 - Downloading data for site 03019500\""
      ]
     },
     "metadata": {
      "display_id": "status",
      "update": true
     },
     "output_type": "display_data"
    },
    {
     "name": "stderr",
     "output_type": "stream",
     "text": [
      "GET: https://nwis.waterservices.usgs.gov/nwis/iv/?site=03019500&format=waterml,1.1&ParameterCd=00060&startDT=2014-01-01&endDT=2025-05-08\n",
      "\n"
     ]
    },
    {
     "data": {
      "text/html": [
       "'822/1056 - Downloading data for site 03022550'"
      ],
      "text/latex": [
       "'822/1056 - Downloading data for site 03022550'"
      ],
      "text/markdown": [
       "'822/1056 - Downloading data for site 03022550'"
      ],
      "text/plain": [
       "[1] \"822/1056 - Downloading data for site 03022550\""
      ]
     },
     "metadata": {
      "display_id": "status",
      "update": true
     },
     "output_type": "display_data"
    },
    {
     "name": "stderr",
     "output_type": "stream",
     "text": [
      "GET: https://nwis.waterservices.usgs.gov/nwis/iv/?site=03022550&format=waterml,1.1&ParameterCd=00060&startDT=2014-01-01&endDT=2025-05-08\n",
      "\n"
     ]
    },
    {
     "data": {
      "text/html": [
       "'823/1056 - Downloading data for site 03021890'"
      ],
      "text/latex": [
       "'823/1056 - Downloading data for site 03021890'"
      ],
      "text/markdown": [
       "'823/1056 - Downloading data for site 03021890'"
      ],
      "text/plain": [
       "[1] \"823/1056 - Downloading data for site 03021890\""
      ]
     },
     "metadata": {
      "display_id": "status",
      "update": true
     },
     "output_type": "display_data"
    },
    {
     "name": "stderr",
     "output_type": "stream",
     "text": [
      "GET: https://nwis.waterservices.usgs.gov/nwis/iv/?site=03021890&format=waterml,1.1&ParameterCd=00060&startDT=2014-01-01&endDT=2025-05-08\n",
      "\n"
     ]
    },
    {
     "data": {
      "text/html": [
       "'825/1056 - Downloading data for site 03021518'"
      ],
      "text/latex": [
       "'825/1056 - Downloading data for site 03021518'"
      ],
      "text/markdown": [
       "'825/1056 - Downloading data for site 03021518'"
      ],
      "text/plain": [
       "[1] \"825/1056 - Downloading data for site 03021518\""
      ]
     },
     "metadata": {
      "display_id": "status",
      "update": true
     },
     "output_type": "display_data"
    },
    {
     "name": "stderr",
     "output_type": "stream",
     "text": [
      "GET: https://nwis.waterservices.usgs.gov/nwis/iv/?site=03021518&format=waterml,1.1&ParameterCd=00060&startDT=2014-01-01&endDT=2025-05-08\n",
      "\n"
     ]
    },
    {
     "data": {
      "text/html": [
       "'827/1056 - Downloading data for site 03021410'"
      ],
      "text/latex": [
       "'827/1056 - Downloading data for site 03021410'"
      ],
      "text/markdown": [
       "'827/1056 - Downloading data for site 03021410'"
      ],
      "text/plain": [
       "[1] \"827/1056 - Downloading data for site 03021410\""
      ]
     },
     "metadata": {
      "display_id": "status",
      "update": true
     },
     "output_type": "display_data"
    },
    {
     "name": "stderr",
     "output_type": "stream",
     "text": [
      "GET: https://nwis.waterservices.usgs.gov/nwis/iv/?site=03021410&format=waterml,1.1&ParameterCd=00060&startDT=2014-01-01&endDT=2025-05-08\n",
      "\n"
     ]
    },
    {
     "data": {
      "text/html": [
       "'828/1056 - Downloading data for site 03232300'"
      ],
      "text/latex": [
       "'828/1056 - Downloading data for site 03232300'"
      ],
      "text/markdown": [
       "'828/1056 - Downloading data for site 03232300'"
      ],
      "text/plain": [
       "[1] \"828/1056 - Downloading data for site 03232300\""
      ]
     },
     "metadata": {
      "display_id": "status",
      "update": true
     },
     "output_type": "display_data"
    },
    {
     "name": "stderr",
     "output_type": "stream",
     "text": [
      "GET: https://nwis.waterservices.usgs.gov/nwis/iv/?site=03232300&format=waterml,1.1&ParameterCd=00060&startDT=2014-01-01&endDT=2025-05-08\n",
      "\n"
     ]
    },
    {
     "data": {
      "text/html": [
       "'830/1056 - Downloading data for site 03242350'"
      ],
      "text/latex": [
       "'830/1056 - Downloading data for site 03242350'"
      ],
      "text/markdown": [
       "'830/1056 - Downloading data for site 03242350'"
      ],
      "text/plain": [
       "[1] \"830/1056 - Downloading data for site 03242350\""
      ]
     },
     "metadata": {
      "display_id": "status",
      "update": true
     },
     "output_type": "display_data"
    },
    {
     "name": "stderr",
     "output_type": "stream",
     "text": [
      "GET: https://nwis.waterservices.usgs.gov/nwis/iv/?site=03242350&format=waterml,1.1&ParameterCd=00060&startDT=2014-01-01&endDT=2025-05-08\n",
      "\n"
     ]
    },
    {
     "data": {
      "text/html": [
       "'831/1056 - Downloading data for site 03242340'"
      ],
      "text/latex": [
       "'831/1056 - Downloading data for site 03242340'"
      ],
      "text/markdown": [
       "'831/1056 - Downloading data for site 03242340'"
      ],
      "text/plain": [
       "[1] \"831/1056 - Downloading data for site 03242340\""
      ]
     },
     "metadata": {
      "display_id": "status",
      "update": true
     },
     "output_type": "display_data"
    },
    {
     "name": "stderr",
     "output_type": "stream",
     "text": [
      "GET: https://nwis.waterservices.usgs.gov/nwis/iv/?site=03242340&format=waterml,1.1&ParameterCd=00060&startDT=2014-01-01&endDT=2025-05-08\n",
      "\n"
     ]
    },
    {
     "data": {
      "text/html": [
       "'833/1056 - Downloading data for site 03242050'"
      ],
      "text/latex": [
       "'833/1056 - Downloading data for site 03242050'"
      ],
      "text/markdown": [
       "'833/1056 - Downloading data for site 03242050'"
      ],
      "text/plain": [
       "[1] \"833/1056 - Downloading data for site 03242050\""
      ]
     },
     "metadata": {
      "display_id": "status",
      "update": true
     },
     "output_type": "display_data"
    },
    {
     "name": "stderr",
     "output_type": "stream",
     "text": [
      "GET: https://nwis.waterservices.usgs.gov/nwis/iv/?site=03242050&format=waterml,1.1&ParameterCd=00060&startDT=2014-01-01&endDT=2025-05-08\n",
      "\n"
     ]
    },
    {
     "data": {
      "text/html": [
       "'836/1056 - Downloading data for site 03271207'"
      ],
      "text/latex": [
       "'836/1056 - Downloading data for site 03271207'"
      ],
      "text/markdown": [
       "'836/1056 - Downloading data for site 03271207'"
      ],
      "text/plain": [
       "[1] \"836/1056 - Downloading data for site 03271207\""
      ]
     },
     "metadata": {
      "display_id": "status",
      "update": true
     },
     "output_type": "display_data"
    },
    {
     "name": "stderr",
     "output_type": "stream",
     "text": [
      "GET: https://nwis.waterservices.usgs.gov/nwis/iv/?site=03271207&format=waterml,1.1&ParameterCd=00060&startDT=2014-01-01&endDT=2025-05-08\n",
      "\n"
     ]
    },
    {
     "data": {
      "text/html": [
       "'842/1056 - Downloading data for site 395245082435800'"
      ],
      "text/latex": [
       "'842/1056 - Downloading data for site 395245082435800'"
      ],
      "text/markdown": [
       "'842/1056 - Downloading data for site 395245082435800'"
      ],
      "text/plain": [
       "[1] \"842/1056 - Downloading data for site 395245082435800\""
      ]
     },
     "metadata": {
      "display_id": "status",
      "update": true
     },
     "output_type": "display_data"
    },
    {
     "name": "stderr",
     "output_type": "stream",
     "text": [
      "GET: https://nwis.waterservices.usgs.gov/nwis/iv/?site=395245082435800&format=waterml,1.1&ParameterCd=00060&startDT=2014-01-01&endDT=2025-05-08\n",
      "\n"
     ]
    },
    {
     "data": {
      "text/html": [
       "'844/1056 - Downloading data for site 395540082291600'"
      ],
      "text/latex": [
       "'844/1056 - Downloading data for site 395540082291600'"
      ],
      "text/markdown": [
       "'844/1056 - Downloading data for site 395540082291600'"
      ],
      "text/plain": [
       "[1] \"844/1056 - Downloading data for site 395540082291600\""
      ]
     },
     "metadata": {
      "display_id": "status",
      "update": true
     },
     "output_type": "display_data"
    },
    {
     "name": "stderr",
     "output_type": "stream",
     "text": [
      "GET: https://nwis.waterservices.usgs.gov/nwis/iv/?site=395540082291600&format=waterml,1.1&ParameterCd=00060&startDT=2014-01-01&endDT=2025-05-08\n",
      "\n"
     ]
    },
    {
     "data": {
      "text/html": [
       "'846/1056 - Downloading data for site 03144950'"
      ],
      "text/latex": [
       "'846/1056 - Downloading data for site 03144950'"
      ],
      "text/markdown": [
       "'846/1056 - Downloading data for site 03144950'"
      ],
      "text/plain": [
       "[1] \"846/1056 - Downloading data for site 03144950\""
      ]
     },
     "metadata": {
      "display_id": "status",
      "update": true
     },
     "output_type": "display_data"
    },
    {
     "name": "stderr",
     "output_type": "stream",
     "text": [
      "GET: https://nwis.waterservices.usgs.gov/nwis/iv/?site=03144950&format=waterml,1.1&ParameterCd=00060&startDT=2014-01-01&endDT=2025-05-08\n",
      "\n"
     ]
    },
    {
     "data": {
      "text/html": [
       "'851/1056 - Downloading data for site 394653084072100'"
      ],
      "text/latex": [
       "'851/1056 - Downloading data for site 394653084072100'"
      ],
      "text/markdown": [
       "'851/1056 - Downloading data for site 394653084072100'"
      ],
      "text/plain": [
       "[1] \"851/1056 - Downloading data for site 394653084072100\""
      ]
     },
     "metadata": {
      "display_id": "status",
      "update": true
     },
     "output_type": "display_data"
    },
    {
     "name": "stderr",
     "output_type": "stream",
     "text": [
      "GET: https://nwis.waterservices.usgs.gov/nwis/iv/?site=394653084072100&format=waterml,1.1&ParameterCd=00060&startDT=2014-01-01&endDT=2025-05-08\n",
      "\n"
     ]
    },
    {
     "data": {
      "text/html": [
       "'857/1056 - Downloading data for site 03268090'"
      ],
      "text/latex": [
       "'857/1056 - Downloading data for site 03268090'"
      ],
      "text/markdown": [
       "'857/1056 - Downloading data for site 03268090'"
      ],
      "text/plain": [
       "[1] \"857/1056 - Downloading data for site 03268090\""
      ]
     },
     "metadata": {
      "display_id": "status",
      "update": true
     },
     "output_type": "display_data"
    },
    {
     "name": "stderr",
     "output_type": "stream",
     "text": [
      "GET: https://nwis.waterservices.usgs.gov/nwis/iv/?site=03268090&format=waterml,1.1&ParameterCd=00060&startDT=2014-01-01&endDT=2025-05-08\n",
      "\n"
     ]
    },
    {
     "data": {
      "text/html": [
       "'858/1056 - Downloading data for site 03229000'"
      ],
      "text/latex": [
       "'858/1056 - Downloading data for site 03229000'"
      ],
      "text/markdown": [
       "'858/1056 - Downloading data for site 03229000'"
      ],
      "text/plain": [
       "[1] \"858/1056 - Downloading data for site 03229000\""
      ]
     },
     "metadata": {
      "display_id": "status",
      "update": true
     },
     "output_type": "display_data"
    },
    {
     "name": "stderr",
     "output_type": "stream",
     "text": [
      "GET: https://nwis.waterservices.usgs.gov/nwis/iv/?site=03229000&format=waterml,1.1&ParameterCd=00060&startDT=2014-01-01&endDT=2025-05-08\n",
      "\n"
     ]
    },
    {
     "data": {
      "text/html": [
       "'860/1056 - Downloading data for site 03228678'"
      ],
      "text/latex": [
       "'860/1056 - Downloading data for site 03228678'"
      ],
      "text/markdown": [
       "'860/1056 - Downloading data for site 03228678'"
      ],
      "text/plain": [
       "[1] \"860/1056 - Downloading data for site 03228678\""
      ]
     },
     "metadata": {
      "display_id": "status",
      "update": true
     },
     "output_type": "display_data"
    },
    {
     "name": "stderr",
     "output_type": "stream",
     "text": [
      "GET: https://nwis.waterservices.usgs.gov/nwis/iv/?site=03228678&format=waterml,1.1&ParameterCd=00060&startDT=2014-01-01&endDT=2025-05-08\n",
      "\n"
     ]
    },
    {
     "data": {
      "text/html": [
       "'865/1056 - Downloading data for site 03221500'"
      ],
      "text/latex": [
       "'865/1056 - Downloading data for site 03221500'"
      ],
      "text/markdown": [
       "'865/1056 - Downloading data for site 03221500'"
      ],
      "text/plain": [
       "[1] \"865/1056 - Downloading data for site 03221500\""
      ]
     },
     "metadata": {
      "display_id": "status",
      "update": true
     },
     "output_type": "display_data"
    },
    {
     "name": "stderr",
     "output_type": "stream",
     "text": [
      "GET: https://nwis.waterservices.usgs.gov/nwis/iv/?site=03221500&format=waterml,1.1&ParameterCd=00060&startDT=2014-01-01&endDT=2025-05-08\n",
      "\n"
     ]
    },
    {
     "data": {
      "text/html": [
       "'868/1056 - Downloading data for site 03148000'"
      ],
      "text/latex": [
       "'868/1056 - Downloading data for site 03148000'"
      ],
      "text/markdown": [
       "'868/1056 - Downloading data for site 03148000'"
      ],
      "text/plain": [
       "[1] \"868/1056 - Downloading data for site 03148000\""
      ]
     },
     "metadata": {
      "display_id": "status",
      "update": true
     },
     "output_type": "display_data"
    },
    {
     "name": "stderr",
     "output_type": "stream",
     "text": [
      "GET: https://nwis.waterservices.usgs.gov/nwis/iv/?site=03148000&format=waterml,1.1&ParameterCd=00060&startDT=2014-01-01&endDT=2025-05-08\n",
      "\n"
     ]
    },
    {
     "data": {
      "text/html": [
       "'869/1056 - Downloading data for site 03147500'"
      ],
      "text/latex": [
       "'869/1056 - Downloading data for site 03147500'"
      ],
      "text/markdown": [
       "'869/1056 - Downloading data for site 03147500'"
      ],
      "text/plain": [
       "[1] \"869/1056 - Downloading data for site 03147500\""
      ]
     },
     "metadata": {
      "display_id": "status",
      "update": true
     },
     "output_type": "display_data"
    },
    {
     "name": "stderr",
     "output_type": "stream",
     "text": [
      "GET: https://nwis.waterservices.usgs.gov/nwis/iv/?site=03147500&format=waterml,1.1&ParameterCd=00060&startDT=2014-01-01&endDT=2025-05-08\n",
      "\n"
     ]
    },
    {
     "data": {
      "text/html": [
       "'872/1056 - Downloading data for site 03146405'"
      ],
      "text/latex": [
       "'872/1056 - Downloading data for site 03146405'"
      ],
      "text/markdown": [
       "'872/1056 - Downloading data for site 03146405'"
      ],
      "text/plain": [
       "[1] \"872/1056 - Downloading data for site 03146405\""
      ]
     },
     "metadata": {
      "display_id": "status",
      "update": true
     },
     "output_type": "display_data"
    },
    {
     "name": "stderr",
     "output_type": "stream",
     "text": [
      "GET: https://nwis.waterservices.usgs.gov/nwis/iv/?site=03146405&format=waterml,1.1&ParameterCd=00060&startDT=2014-01-01&endDT=2025-05-08\n",
      "\n"
     ]
    },
    {
     "data": {
      "text/html": [
       "'875/1056 - Downloading data for site 03146277'"
      ],
      "text/latex": [
       "'875/1056 - Downloading data for site 03146277'"
      ],
      "text/markdown": [
       "'875/1056 - Downloading data for site 03146277'"
      ],
      "text/plain": [
       "[1] \"875/1056 - Downloading data for site 03146277\""
      ]
     },
     "metadata": {
      "display_id": "status",
      "update": true
     },
     "output_type": "display_data"
    },
    {
     "name": "stderr",
     "output_type": "stream",
     "text": [
      "GET: https://nwis.waterservices.usgs.gov/nwis/iv/?site=03146277&format=waterml,1.1&ParameterCd=00060&startDT=2014-01-01&endDT=2025-05-08\n",
      "\n"
     ]
    },
    {
     "data": {
      "text/html": [
       "'885/1056 - Downloading data for site 03261800'"
      ],
      "text/latex": [
       "'885/1056 - Downloading data for site 03261800'"
      ],
      "text/markdown": [
       "'885/1056 - Downloading data for site 03261800'"
      ],
      "text/plain": [
       "[1] \"885/1056 - Downloading data for site 03261800\""
      ]
     },
     "metadata": {
      "display_id": "status",
      "update": true
     },
     "output_type": "display_data"
    },
    {
     "name": "stderr",
     "output_type": "stream",
     "text": [
      "GET: https://nwis.waterservices.usgs.gov/nwis/iv/?site=03261800&format=waterml,1.1&ParameterCd=00060&startDT=2014-01-01&endDT=2025-05-08\n",
      "\n"
     ]
    },
    {
     "data": {
      "text/html": [
       "'888/1056 - Downloading data for site 03268100'"
      ],
      "text/latex": [
       "'888/1056 - Downloading data for site 03268100'"
      ],
      "text/markdown": [
       "'888/1056 - Downloading data for site 03268100'"
      ],
      "text/plain": [
       "[1] \"888/1056 - Downloading data for site 03268100\""
      ]
     },
     "metadata": {
      "display_id": "status",
      "update": true
     },
     "output_type": "display_data"
    },
    {
     "name": "stderr",
     "output_type": "stream",
     "text": [
      "GET: https://nwis.waterservices.usgs.gov/nwis/iv/?site=03268100&format=waterml,1.1&ParameterCd=00060&startDT=2014-01-01&endDT=2025-05-08\n",
      "\n"
     ]
    },
    {
     "data": {
      "text/html": [
       "'901/1056 - Downloading data for site 03228400'"
      ],
      "text/latex": [
       "'901/1056 - Downloading data for site 03228400'"
      ],
      "text/markdown": [
       "'901/1056 - Downloading data for site 03228400'"
      ],
      "text/plain": [
       "[1] \"901/1056 - Downloading data for site 03228400\""
      ]
     },
     "metadata": {
      "display_id": "status",
      "update": true
     },
     "output_type": "display_data"
    },
    {
     "name": "stderr",
     "output_type": "stream",
     "text": [
      "GET: https://nwis.waterservices.usgs.gov/nwis/iv/?site=03228400&format=waterml,1.1&ParameterCd=00060&startDT=2014-01-01&endDT=2025-05-08\n",
      "\n"
     ]
    },
    {
     "data": {
      "text/html": [
       "'904/1056 - Downloading data for site 03220500'"
      ],
      "text/latex": [
       "'904/1056 - Downloading data for site 03220500'"
      ],
      "text/markdown": [
       "'904/1056 - Downloading data for site 03220500'"
      ],
      "text/plain": [
       "[1] \"904/1056 - Downloading data for site 03220500\""
      ]
     },
     "metadata": {
      "display_id": "status",
      "update": true
     },
     "output_type": "display_data"
    },
    {
     "name": "stderr",
     "output_type": "stream",
     "text": [
      "GET: https://nwis.waterservices.usgs.gov/nwis/iv/?site=03220500&format=waterml,1.1&ParameterCd=00060&startDT=2014-01-01&endDT=2025-05-08\n",
      "\n"
     ]
    },
    {
     "data": {
      "text/html": [
       "'908/1056 - Downloading data for site 03143500'"
      ],
      "text/latex": [
       "'908/1056 - Downloading data for site 03143500'"
      ],
      "text/markdown": [
       "'908/1056 - Downloading data for site 03143500'"
      ],
      "text/plain": [
       "[1] \"908/1056 - Downloading data for site 03143500\""
      ]
     },
     "metadata": {
      "display_id": "status",
      "update": true
     },
     "output_type": "display_data"
    },
    {
     "name": "stderr",
     "output_type": "stream",
     "text": [
      "GET: https://nwis.waterservices.usgs.gov/nwis/iv/?site=03143500&format=waterml,1.1&ParameterCd=00060&startDT=2014-01-01&endDT=2025-05-08\n",
      "\n"
     ]
    },
    {
     "data": {
      "text/html": [
       "'910/1056 - Downloading data for site 03139850'"
      ],
      "text/latex": [
       "'910/1056 - Downloading data for site 03139850'"
      ],
      "text/markdown": [
       "'910/1056 - Downloading data for site 03139850'"
      ],
      "text/plain": [
       "[1] \"910/1056 - Downloading data for site 03139850\""
      ]
     },
     "metadata": {
      "display_id": "status",
      "update": true
     },
     "output_type": "display_data"
    },
    {
     "name": "stderr",
     "output_type": "stream",
     "text": [
      "GET: https://nwis.waterservices.usgs.gov/nwis/iv/?site=03139850&format=waterml,1.1&ParameterCd=00060&startDT=2014-01-01&endDT=2025-05-08\n",
      "\n"
     ]
    },
    {
     "data": {
      "text/html": [
       "'911/1056 - Downloading data for site 03138500'"
      ],
      "text/latex": [
       "'911/1056 - Downloading data for site 03138500'"
      ],
      "text/markdown": [
       "'911/1056 - Downloading data for site 03138500'"
      ],
      "text/plain": [
       "[1] \"911/1056 - Downloading data for site 03138500\""
      ]
     },
     "metadata": {
      "display_id": "status",
      "update": true
     },
     "output_type": "display_data"
    },
    {
     "name": "stderr",
     "output_type": "stream",
     "text": [
      "GET: https://nwis.waterservices.usgs.gov/nwis/iv/?site=03138500&format=waterml,1.1&ParameterCd=00060&startDT=2014-01-01&endDT=2025-05-08\n",
      "\n"
     ]
    },
    {
     "data": {
      "text/html": [
       "'914/1056 - Downloading data for site 03133500'"
      ],
      "text/latex": [
       "'914/1056 - Downloading data for site 03133500'"
      ],
      "text/markdown": [
       "'914/1056 - Downloading data for site 03133500'"
      ],
      "text/plain": [
       "[1] \"914/1056 - Downloading data for site 03133500\""
      ]
     },
     "metadata": {
      "display_id": "status",
      "update": true
     },
     "output_type": "display_data"
    },
    {
     "name": "stderr",
     "output_type": "stream",
     "text": [
      "GET: https://nwis.waterservices.usgs.gov/nwis/iv/?site=03133500&format=waterml,1.1&ParameterCd=00060&startDT=2014-01-01&endDT=2025-05-08\n",
      "\n"
     ]
    },
    {
     "data": {
      "text/html": [
       "'915/1056 - Downloading data for site 03131500'"
      ],
      "text/latex": [
       "'915/1056 - Downloading data for site 03131500'"
      ],
      "text/markdown": [
       "'915/1056 - Downloading data for site 03131500'"
      ],
      "text/plain": [
       "[1] \"915/1056 - Downloading data for site 03131500\""
      ]
     },
     "metadata": {
      "display_id": "status",
      "update": true
     },
     "output_type": "display_data"
    },
    {
     "name": "stderr",
     "output_type": "stream",
     "text": [
      "GET: https://nwis.waterservices.usgs.gov/nwis/iv/?site=03131500&format=waterml,1.1&ParameterCd=00060&startDT=2014-01-01&endDT=2025-05-08\n",
      "\n"
     ]
    },
    {
     "data": {
      "text/html": [
       "'916/1056 - Downloading data for site 03131300'"
      ],
      "text/latex": [
       "'916/1056 - Downloading data for site 03131300'"
      ],
      "text/markdown": [
       "'916/1056 - Downloading data for site 03131300'"
      ],
      "text/plain": [
       "[1] \"916/1056 - Downloading data for site 03131300\""
      ]
     },
     "metadata": {
      "display_id": "status",
      "update": true
     },
     "output_type": "display_data"
    },
    {
     "name": "stderr",
     "output_type": "stream",
     "text": [
      "GET: https://nwis.waterservices.usgs.gov/nwis/iv/?site=03131300&format=waterml,1.1&ParameterCd=00060&startDT=2014-01-01&endDT=2025-05-08\n",
      "\n"
     ]
    },
    {
     "data": {
      "text/html": [
       "'917/1056 - Downloading data for site 03135000'"
      ],
      "text/latex": [
       "'917/1056 - Downloading data for site 03135000'"
      ],
      "text/markdown": [
       "'917/1056 - Downloading data for site 03135000'"
      ],
      "text/plain": [
       "[1] \"917/1056 - Downloading data for site 03135000\""
      ]
     },
     "metadata": {
      "display_id": "status",
      "update": true
     },
     "output_type": "display_data"
    },
    {
     "name": "stderr",
     "output_type": "stream",
     "text": [
      "GET: https://nwis.waterservices.usgs.gov/nwis/iv/?site=03135000&format=waterml,1.1&ParameterCd=00060&startDT=2014-01-01&endDT=2025-05-08\n",
      "\n"
     ]
    },
    {
     "data": {
      "text/html": [
       "'924/1056 - Downloading data for site 03223000'"
      ],
      "text/latex": [
       "'924/1056 - Downloading data for site 03223000'"
      ],
      "text/markdown": [
       "'924/1056 - Downloading data for site 03223000'"
      ],
      "text/plain": [
       "[1] \"924/1056 - Downloading data for site 03223000\""
      ]
     },
     "metadata": {
      "display_id": "status",
      "update": true
     },
     "output_type": "display_data"
    },
    {
     "name": "stderr",
     "output_type": "stream",
     "text": [
      "GET: https://nwis.waterservices.usgs.gov/nwis/iv/?site=03223000&format=waterml,1.1&ParameterCd=00060&startDT=2014-01-01&endDT=2025-05-08\n",
      "\n"
     ]
    },
    {
     "data": {
      "text/html": [
       "'930/1056 - Downloading data for site 03352695'"
      ],
      "text/latex": [
       "'930/1056 - Downloading data for site 03352695'"
      ],
      "text/markdown": [
       "'930/1056 - Downloading data for site 03352695'"
      ],
      "text/plain": [
       "[1] \"930/1056 - Downloading data for site 03352695\""
      ]
     },
     "metadata": {
      "display_id": "status",
      "update": true
     },
     "output_type": "display_data"
    },
    {
     "name": "stderr",
     "output_type": "stream",
     "text": [
      "GET: https://nwis.waterservices.usgs.gov/nwis/iv/?site=03352695&format=waterml,1.1&ParameterCd=00060&startDT=2014-01-01&endDT=2025-05-08\n",
      "\n"
     ]
    },
    {
     "data": {
      "text/html": [
       "'932/1056 - Downloading data for site 03352690'"
      ],
      "text/latex": [
       "'932/1056 - Downloading data for site 03352690'"
      ],
      "text/markdown": [
       "'932/1056 - Downloading data for site 03352690'"
      ],
      "text/plain": [
       "[1] \"932/1056 - Downloading data for site 03352690\""
      ]
     },
     "metadata": {
      "display_id": "status",
      "update": true
     },
     "output_type": "display_data"
    },
    {
     "name": "stderr",
     "output_type": "stream",
     "text": [
      "GET: https://nwis.waterservices.usgs.gov/nwis/iv/?site=03352690&format=waterml,1.1&ParameterCd=00060&startDT=2014-01-01&endDT=2025-05-08\n",
      "\n"
     ]
    },
    {
     "data": {
      "text/html": [
       "'933/1056 - Downloading data for site 03351060'"
      ],
      "text/latex": [
       "'933/1056 - Downloading data for site 03351060'"
      ],
      "text/markdown": [
       "'933/1056 - Downloading data for site 03351060'"
      ],
      "text/plain": [
       "[1] \"933/1056 - Downloading data for site 03351060\""
      ]
     },
     "metadata": {
      "display_id": "status",
      "update": true
     },
     "output_type": "display_data"
    },
    {
     "name": "stderr",
     "output_type": "stream",
     "text": [
      "GET: https://nwis.waterservices.usgs.gov/nwis/iv/?site=03351060&format=waterml,1.1&ParameterCd=00060&startDT=2014-01-01&endDT=2025-05-08\n",
      "\n"
     ]
    },
    {
     "data": {
      "text/html": [
       "'935/1056 - Downloading data for site 03351071'"
      ],
      "text/latex": [
       "'935/1056 - Downloading data for site 03351071'"
      ],
      "text/markdown": [
       "'935/1056 - Downloading data for site 03351071'"
      ],
      "text/plain": [
       "[1] \"935/1056 - Downloading data for site 03351071\""
      ]
     },
     "metadata": {
      "display_id": "status",
      "update": true
     },
     "output_type": "display_data"
    },
    {
     "name": "stderr",
     "output_type": "stream",
     "text": [
      "GET: https://nwis.waterservices.usgs.gov/nwis/iv/?site=03351071&format=waterml,1.1&ParameterCd=00060&startDT=2014-01-01&endDT=2025-05-08\n",
      "\n"
     ]
    },
    {
     "data": {
      "text/html": [
       "'937/1056 - Downloading data for site 03351005'"
      ],
      "text/latex": [
       "'937/1056 - Downloading data for site 03351005'"
      ],
      "text/markdown": [
       "'937/1056 - Downloading data for site 03351005'"
      ],
      "text/plain": [
       "[1] \"937/1056 - Downloading data for site 03351005\""
      ]
     },
     "metadata": {
      "display_id": "status",
      "update": true
     },
     "output_type": "display_data"
    },
    {
     "name": "stderr",
     "output_type": "stream",
     "text": [
      "GET: https://nwis.waterservices.usgs.gov/nwis/iv/?site=03351005&format=waterml,1.1&ParameterCd=00060&startDT=2014-01-01&endDT=2025-05-08\n",
      "\n"
     ]
    },
    {
     "data": {
      "text/html": [
       "'938/1056 - Downloading data for site 03353240'"
      ],
      "text/latex": [
       "'938/1056 - Downloading data for site 03353240'"
      ],
      "text/markdown": [
       "'938/1056 - Downloading data for site 03353240'"
      ],
      "text/plain": [
       "[1] \"938/1056 - Downloading data for site 03353240\""
      ]
     },
     "metadata": {
      "display_id": "status",
      "update": true
     },
     "output_type": "display_data"
    },
    {
     "name": "stderr",
     "output_type": "stream",
     "text": [
      "GET: https://nwis.waterservices.usgs.gov/nwis/iv/?site=03353240&format=waterml,1.1&ParameterCd=00060&startDT=2014-01-01&endDT=2025-05-08\n",
      "\n"
     ]
    },
    {
     "data": {
      "text/html": [
       "'940/1056 - Downloading data for site 03351700'"
      ],
      "text/latex": [
       "'940/1056 - Downloading data for site 03351700'"
      ],
      "text/markdown": [
       "'940/1056 - Downloading data for site 03351700'"
      ],
      "text/plain": [
       "[1] \"940/1056 - Downloading data for site 03351700\""
      ]
     },
     "metadata": {
      "display_id": "status",
      "update": true
     },
     "output_type": "display_data"
    },
    {
     "name": "stderr",
     "output_type": "stream",
     "text": [
      "GET: https://nwis.waterservices.usgs.gov/nwis/iv/?site=03351700&format=waterml,1.1&ParameterCd=00060&startDT=2014-01-01&endDT=2025-05-08\n",
      "\n"
     ]
    },
    {
     "data": {
      "text/html": [
       "'963/1056 - Downloading data for site 03350400'"
      ],
      "text/latex": [
       "'963/1056 - Downloading data for site 03350400'"
      ],
      "text/markdown": [
       "'963/1056 - Downloading data for site 03350400'"
      ],
      "text/plain": [
       "[1] \"963/1056 - Downloading data for site 03350400\""
      ]
     },
     "metadata": {
      "display_id": "status",
      "update": true
     },
     "output_type": "display_data"
    },
    {
     "name": "stderr",
     "output_type": "stream",
     "text": [
      "GET: https://nwis.waterservices.usgs.gov/nwis/iv/?site=03350400&format=waterml,1.1&ParameterCd=00060&startDT=2014-01-01&endDT=2025-05-08\n",
      "\n"
     ]
    },
    {
     "data": {
      "text/html": [
       "'966/1056 - Downloading data for site 03348502'"
      ],
      "text/latex": [
       "'966/1056 - Downloading data for site 03348502'"
      ],
      "text/markdown": [
       "'966/1056 - Downloading data for site 03348502'"
      ],
      "text/plain": [
       "[1] \"966/1056 - Downloading data for site 03348502\""
      ]
     },
     "metadata": {
      "display_id": "status",
      "update": true
     },
     "output_type": "display_data"
    },
    {
     "name": "stderr",
     "output_type": "stream",
     "text": [
      "GET: https://nwis.waterservices.usgs.gov/nwis/iv/?site=03348502&format=waterml,1.1&ParameterCd=00060&startDT=2014-01-01&endDT=2025-05-08\n",
      "\n"
     ]
    },
    {
     "data": {
      "text/html": [
       "'967/1056 - Downloading data for site 03347598'"
      ],
      "text/latex": [
       "'967/1056 - Downloading data for site 03347598'"
      ],
      "text/markdown": [
       "'967/1056 - Downloading data for site 03347598'"
      ],
      "text/plain": [
       "[1] \"967/1056 - Downloading data for site 03347598\""
      ]
     },
     "metadata": {
      "display_id": "status",
      "update": true
     },
     "output_type": "display_data"
    },
    {
     "name": "stderr",
     "output_type": "stream",
     "text": [
      "GET: https://nwis.waterservices.usgs.gov/nwis/iv/?site=03347598&format=waterml,1.1&ParameterCd=00060&startDT=2014-01-01&endDT=2025-05-08\n",
      "\n"
     ]
    },
    {
     "data": {
      "text/html": [
       "'973/1056 - Downloading data for site 03338780'"
      ],
      "text/latex": [
       "'973/1056 - Downloading data for site 03338780'"
      ],
      "text/markdown": [
       "'973/1056 - Downloading data for site 03338780'"
      ],
      "text/plain": [
       "[1] \"973/1056 - Downloading data for site 03338780\""
      ]
     },
     "metadata": {
      "display_id": "status",
      "update": true
     },
     "output_type": "display_data"
    },
    {
     "name": "stderr",
     "output_type": "stream",
     "text": [
      "GET: https://nwis.waterservices.usgs.gov/nwis/iv/?site=03338780&format=waterml,1.1&ParameterCd=00060&startDT=2014-01-01&endDT=2025-05-08\n",
      "\n"
     ]
    },
    {
     "data": {
      "text/html": [
       "'975/1056 - Downloading data for site 03335680'"
      ],
      "text/latex": [
       "'975/1056 - Downloading data for site 03335680'"
      ],
      "text/markdown": [
       "'975/1056 - Downloading data for site 03335680'"
      ],
      "text/plain": [
       "[1] \"975/1056 - Downloading data for site 03335680\""
      ]
     },
     "metadata": {
      "display_id": "status",
      "update": true
     },
     "output_type": "display_data"
    },
    {
     "name": "stderr",
     "output_type": "stream",
     "text": [
      "GET: https://nwis.waterservices.usgs.gov/nwis/iv/?site=03335680&format=waterml,1.1&ParameterCd=00060&startDT=2014-01-01&endDT=2025-05-08\n",
      "\n"
     ]
    },
    {
     "data": {
      "text/html": [
       "'982/1056 - Downloading data for site 03329500'"
      ],
      "text/latex": [
       "'982/1056 - Downloading data for site 03329500'"
      ],
      "text/markdown": [
       "'982/1056 - Downloading data for site 03329500'"
      ],
      "text/plain": [
       "[1] \"982/1056 - Downloading data for site 03329500\""
      ]
     },
     "metadata": {
      "display_id": "status",
      "update": true
     },
     "output_type": "display_data"
    },
    {
     "name": "stderr",
     "output_type": "stream",
     "text": [
      "GET: https://nwis.waterservices.usgs.gov/nwis/iv/?site=03329500&format=waterml,1.1&ParameterCd=00060&startDT=2014-01-01&endDT=2025-05-08\n",
      "\n"
     ]
    },
    {
     "data": {
      "text/html": [
       "'992/1056 - Downloading data for site 03326950'"
      ],
      "text/latex": [
       "'992/1056 - Downloading data for site 03326950'"
      ],
      "text/markdown": [
       "'992/1056 - Downloading data for site 03326950'"
      ],
      "text/plain": [
       "[1] \"992/1056 - Downloading data for site 03326950\""
      ]
     },
     "metadata": {
      "display_id": "status",
      "update": true
     },
     "output_type": "display_data"
    },
    {
     "name": "stderr",
     "output_type": "stream",
     "text": [
      "GET: https://nwis.waterservices.usgs.gov/nwis/iv/?site=03326950&format=waterml,1.1&ParameterCd=00060&startDT=2014-01-01&endDT=2025-05-08\n",
      "\n"
     ]
    },
    {
     "data": {
      "text/html": [
       "'995/1056 - Downloading data for site 403204084342601'"
      ],
      "text/latex": [
       "'995/1056 - Downloading data for site 403204084342601'"
      ],
      "text/markdown": [
       "'995/1056 - Downloading data for site 403204084342601'"
      ],
      "text/plain": [
       "[1] \"995/1056 - Downloading data for site 403204084342601\""
      ]
     },
     "metadata": {
      "display_id": "status",
      "update": true
     },
     "output_type": "display_data"
    },
    {
     "name": "stderr",
     "output_type": "stream",
     "text": [
      "GET: https://nwis.waterservices.usgs.gov/nwis/iv/?site=403204084342601&format=waterml,1.1&ParameterCd=00060&startDT=2014-01-01&endDT=2025-05-08\n",
      "\n"
     ]
    },
    {
     "data": {
      "text/html": [
       "'999/1056 - Downloading data for site 03327000'"
      ],
      "text/latex": [
       "'999/1056 - Downloading data for site 03327000'"
      ],
      "text/markdown": [
       "'999/1056 - Downloading data for site 03327000'"
      ],
      "text/plain": [
       "[1] \"999/1056 - Downloading data for site 03327000\""
      ]
     },
     "metadata": {
      "display_id": "status",
      "update": true
     },
     "output_type": "display_data"
    },
    {
     "name": "stderr",
     "output_type": "stream",
     "text": [
      "GET: https://nwis.waterservices.usgs.gov/nwis/iv/?site=03327000&format=waterml,1.1&ParameterCd=00060&startDT=2014-01-01&endDT=2025-05-08\n",
      "\n"
     ]
    },
    {
     "data": {
      "text/html": [
       "'1000/1056 - Downloading data for site 03327528'"
      ],
      "text/latex": [
       "'1000/1056 - Downloading data for site 03327528'"
      ],
      "text/markdown": [
       "'1000/1056 - Downloading data for site 03327528'"
      ],
      "text/plain": [
       "[1] \"1000/1056 - Downloading data for site 03327528\""
      ]
     },
     "metadata": {
      "display_id": "status",
      "update": true
     },
     "output_type": "display_data"
    },
    {
     "name": "stderr",
     "output_type": "stream",
     "text": [
      "GET: https://nwis.waterservices.usgs.gov/nwis/iv/?site=03327528&format=waterml,1.1&ParameterCd=00060&startDT=2014-01-01&endDT=2025-05-08\n",
      "\n"
     ]
    },
    {
     "data": {
      "text/html": [
       "'1005/1056 - Downloading data for site 03324450'"
      ],
      "text/latex": [
       "'1005/1056 - Downloading data for site 03324450'"
      ],
      "text/markdown": [
       "'1005/1056 - Downloading data for site 03324450'"
      ],
      "text/plain": [
       "[1] \"1005/1056 - Downloading data for site 03324450\""
      ]
     },
     "metadata": {
      "display_id": "status",
      "update": true
     },
     "output_type": "display_data"
    },
    {
     "name": "stderr",
     "output_type": "stream",
     "text": [
      "GET: https://nwis.waterservices.usgs.gov/nwis/iv/?site=03324450&format=waterml,1.1&ParameterCd=00060&startDT=2014-01-01&endDT=2025-05-08\n",
      "\n"
     ]
    },
    {
     "data": {
      "text/html": [
       "'1006/1056 - Downloading data for site 03324500'"
      ],
      "text/latex": [
       "'1006/1056 - Downloading data for site 03324500'"
      ],
      "text/markdown": [
       "'1006/1056 - Downloading data for site 03324500'"
      ],
      "text/plain": [
       "[1] \"1006/1056 - Downloading data for site 03324500\""
      ]
     },
     "metadata": {
      "display_id": "status",
      "update": true
     },
     "output_type": "display_data"
    },
    {
     "name": "stderr",
     "output_type": "stream",
     "text": [
      "GET: https://nwis.waterservices.usgs.gov/nwis/iv/?site=03324500&format=waterml,1.1&ParameterCd=00060&startDT=2014-01-01&endDT=2025-05-08\n",
      "\n"
     ]
    },
    {
     "data": {
      "text/html": [
       "'1007/1056 - Downloading data for site 03323090'"
      ],
      "text/latex": [
       "'1007/1056 - Downloading data for site 03323090'"
      ],
      "text/markdown": [
       "'1007/1056 - Downloading data for site 03323090'"
      ],
      "text/plain": [
       "[1] \"1007/1056 - Downloading data for site 03323090\""
      ]
     },
     "metadata": {
      "display_id": "status",
      "update": true
     },
     "output_type": "display_data"
    },
    {
     "name": "stderr",
     "output_type": "stream",
     "text": [
      "GET: https://nwis.waterservices.usgs.gov/nwis/iv/?site=03323090&format=waterml,1.1&ParameterCd=00060&startDT=2014-01-01&endDT=2025-05-08\n",
      "\n"
     ]
    },
    {
     "data": {
      "text/html": [
       "'1015/1056 - Downloading data for site 03343350'"
      ],
      "text/latex": [
       "'1015/1056 - Downloading data for site 03343350'"
      ],
      "text/markdown": [
       "'1015/1056 - Downloading data for site 03343350'"
      ],
      "text/plain": [
       "[1] \"1015/1056 - Downloading data for site 03343350\""
      ]
     },
     "metadata": {
      "display_id": "status",
      "update": true
     },
     "output_type": "display_data"
    },
    {
     "name": "stderr",
     "output_type": "stream",
     "text": [
      "GET: https://nwis.waterservices.usgs.gov/nwis/iv/?site=03343350&format=waterml,1.1&ParameterCd=00060&startDT=2014-01-01&endDT=2025-05-08\n",
      "\n"
     ]
    },
    {
     "data": {
      "text/html": [
       "'1016/1056 - Downloading data for site 03336998'"
      ],
      "text/latex": [
       "'1016/1056 - Downloading data for site 03336998'"
      ],
      "text/markdown": [
       "'1016/1056 - Downloading data for site 03336998'"
      ],
      "text/plain": [
       "[1] \"1016/1056 - Downloading data for site 03336998\""
      ]
     },
     "metadata": {
      "display_id": "status",
      "update": true
     },
     "output_type": "display_data"
    },
    {
     "name": "stderr",
     "output_type": "stream",
     "text": [
      "GET: https://nwis.waterservices.usgs.gov/nwis/iv/?site=03336998&format=waterml,1.1&ParameterCd=00060&startDT=2014-01-01&endDT=2025-05-08\n",
      "\n"
     ]
    },
    {
     "data": {
      "text/html": [
       "'1018/1056 - Downloading data for site 03323450'"
      ],
      "text/latex": [
       "'1018/1056 - Downloading data for site 03323450'"
      ],
      "text/markdown": [
       "'1018/1056 - Downloading data for site 03323450'"
      ],
      "text/plain": [
       "[1] \"1018/1056 - Downloading data for site 03323450\""
      ]
     },
     "metadata": {
      "display_id": "status",
      "update": true
     },
     "output_type": "display_data"
    },
    {
     "name": "stderr",
     "output_type": "stream",
     "text": [
      "GET: https://nwis.waterservices.usgs.gov/nwis/iv/?site=03323450&format=waterml,1.1&ParameterCd=00060&startDT=2014-01-01&endDT=2025-05-08\n",
      "\n"
     ]
    },
    {
     "data": {
      "text/html": [
       "'1019/1056 - Downloading data for site 03323500'"
      ],
      "text/latex": [
       "'1019/1056 - Downloading data for site 03323500'"
      ],
      "text/markdown": [
       "'1019/1056 - Downloading data for site 03323500'"
      ],
      "text/plain": [
       "[1] \"1019/1056 - Downloading data for site 03323500\""
      ]
     },
     "metadata": {
      "display_id": "status",
      "update": true
     },
     "output_type": "display_data"
    },
    {
     "name": "stderr",
     "output_type": "stream",
     "text": [
      "GET: https://nwis.waterservices.usgs.gov/nwis/iv/?site=03323500&format=waterml,1.1&ParameterCd=00060&startDT=2014-01-01&endDT=2025-05-08\n",
      "\n"
     ]
    },
    {
     "data": {
      "text/html": [
       "'1023/1056 - Downloading data for site 03331040'"
      ],
      "text/latex": [
       "'1023/1056 - Downloading data for site 03331040'"
      ],
      "text/markdown": [
       "'1023/1056 - Downloading data for site 03331040'"
      ],
      "text/plain": [
       "[1] \"1023/1056 - Downloading data for site 03331040\""
      ]
     },
     "metadata": {
      "display_id": "status",
      "update": true
     },
     "output_type": "display_data"
    },
    {
     "name": "stderr",
     "output_type": "stream",
     "text": [
      "GET: https://nwis.waterservices.usgs.gov/nwis/iv/?site=03331040&format=waterml,1.1&ParameterCd=00060&startDT=2014-01-01&endDT=2025-05-08\n",
      "\n"
     ]
    },
    {
     "data": {
      "text/html": [
       "'1028/1056 - Downloading data for site 03331440'"
      ],
      "text/latex": [
       "'1028/1056 - Downloading data for site 03331440'"
      ],
      "text/markdown": [
       "'1028/1056 - Downloading data for site 03331440'"
      ],
      "text/plain": [
       "[1] \"1028/1056 - Downloading data for site 03331440\""
      ]
     },
     "metadata": {
      "display_id": "status",
      "update": true
     },
     "output_type": "display_data"
    },
    {
     "name": "stderr",
     "output_type": "stream",
     "text": [
      "GET: https://nwis.waterservices.usgs.gov/nwis/iv/?site=03331440&format=waterml,1.1&ParameterCd=00060&startDT=2014-01-01&endDT=2025-05-08\n",
      "\n"
     ]
    },
    {
     "data": {
      "text/html": [
       "'1029/1056 - Downloading data for site 03260500'"
      ],
      "text/latex": [
       "'1029/1056 - Downloading data for site 03260500'"
      ],
      "text/markdown": [
       "'1029/1056 - Downloading data for site 03260500'"
      ],
      "text/plain": [
       "[1] \"1029/1056 - Downloading data for site 03260500\""
      ]
     },
     "metadata": {
      "display_id": "status",
      "update": true
     },
     "output_type": "display_data"
    },
    {
     "name": "stderr",
     "output_type": "stream",
     "text": [
      "GET: https://nwis.waterservices.usgs.gov/nwis/iv/?site=03260500&format=waterml,1.1&ParameterCd=00060&startDT=2014-01-01&endDT=2025-05-08\n",
      "\n"
     ]
    },
    {
     "data": {
      "text/html": [
       "'1039/1056 - Downloading data for site 03012520'"
      ],
      "text/latex": [
       "'1039/1056 - Downloading data for site 03012520'"
      ],
      "text/markdown": [
       "'1039/1056 - Downloading data for site 03012520'"
      ],
      "text/plain": [
       "[1] \"1039/1056 - Downloading data for site 03012520\""
      ]
     },
     "metadata": {
      "display_id": "status",
      "update": true
     },
     "output_type": "display_data"
    },
    {
     "name": "stderr",
     "output_type": "stream",
     "text": [
      "GET: https://nwis.waterservices.usgs.gov/nwis/iv/?site=03012520&format=waterml,1.1&ParameterCd=00060&startDT=2014-01-01&endDT=2025-05-08\n",
      "\n"
     ]
    },
    {
     "data": {
      "text/html": [
       "'1045/1056 - Downloading data for site 03010955'"
      ],
      "text/latex": [
       "'1045/1056 - Downloading data for site 03010955'"
      ],
      "text/markdown": [
       "'1045/1056 - Downloading data for site 03010955'"
      ],
      "text/plain": [
       "[1] \"1045/1056 - Downloading data for site 03010955\""
      ]
     },
     "metadata": {
      "display_id": "status",
      "update": true
     },
     "output_type": "display_data"
    },
    {
     "name": "stderr",
     "output_type": "stream",
     "text": [
      "GET: https://nwis.waterservices.usgs.gov/nwis/iv/?site=03010955&format=waterml,1.1&ParameterCd=00060&startDT=2014-01-01&endDT=2025-05-08\n",
      "\n"
     ]
    },
    {
     "data": {
      "text/html": [
       "'1047/1056 - Downloading data for site 03010720'"
      ],
      "text/latex": [
       "'1047/1056 - Downloading data for site 03010720'"
      ],
      "text/markdown": [
       "'1047/1056 - Downloading data for site 03010720'"
      ],
      "text/plain": [
       "[1] \"1047/1056 - Downloading data for site 03010720\""
      ]
     },
     "metadata": {
      "display_id": "status",
      "update": true
     },
     "output_type": "display_data"
    },
    {
     "name": "stderr",
     "output_type": "stream",
     "text": [
      "GET: https://nwis.waterservices.usgs.gov/nwis/iv/?site=03010720&format=waterml,1.1&ParameterCd=00060&startDT=2014-01-01&endDT=2025-05-08\n",
      "\n"
     ]
    },
    {
     "data": {
      "text/html": [
       "'1048/1056 - Downloading data for site 03010674'"
      ],
      "text/latex": [
       "'1048/1056 - Downloading data for site 03010674'"
      ],
      "text/markdown": [
       "'1048/1056 - Downloading data for site 03010674'"
      ],
      "text/plain": [
       "[1] \"1048/1056 - Downloading data for site 03010674\""
      ]
     },
     "metadata": {
      "display_id": "status",
      "update": true
     },
     "output_type": "display_data"
    },
    {
     "name": "stderr",
     "output_type": "stream",
     "text": [
      "GET: https://nwis.waterservices.usgs.gov/nwis/iv/?site=03010674&format=waterml,1.1&ParameterCd=00060&startDT=2014-01-01&endDT=2025-05-08\n",
      "\n"
     ]
    },
    {
     "data": {
      "text/html": [
       "'1051/1056 - Downloading data for site 03011500'"
      ],
      "text/latex": [
       "'1051/1056 - Downloading data for site 03011500'"
      ],
      "text/markdown": [
       "'1051/1056 - Downloading data for site 03011500'"
      ],
      "text/plain": [
       "[1] \"1051/1056 - Downloading data for site 03011500\""
      ]
     },
     "metadata": {
      "display_id": "status",
      "update": true
     },
     "output_type": "display_data"
    },
    {
     "name": "stderr",
     "output_type": "stream",
     "text": [
      "GET: https://nwis.waterservices.usgs.gov/nwis/iv/?site=03011500&format=waterml,1.1&ParameterCd=00060&startDT=2014-01-01&endDT=2025-05-08\n",
      "\n"
     ]
    },
    {
     "data": {
      "text/html": [
       "'1052/1056 - Downloading data for site 03013946'"
      ],
      "text/latex": [
       "'1052/1056 - Downloading data for site 03013946'"
      ],
      "text/markdown": [
       "'1052/1056 - Downloading data for site 03013946'"
      ],
      "text/plain": [
       "[1] \"1052/1056 - Downloading data for site 03013946\""
      ]
     },
     "metadata": {
      "display_id": "status",
      "update": true
     },
     "output_type": "display_data"
    },
    {
     "name": "stderr",
     "output_type": "stream",
     "text": [
      "GET: https://nwis.waterservices.usgs.gov/nwis/iv/?site=03013946&format=waterml,1.1&ParameterCd=00060&startDT=2014-01-01&endDT=2025-05-08\n",
      "\n"
     ]
    },
    {
     "data": {
      "text/html": [
       "'1054/1056 - Downloading data for site 370000089094501'"
      ],
      "text/latex": [
       "'1054/1056 - Downloading data for site 370000089094501'"
      ],
      "text/markdown": [
       "'1054/1056 - Downloading data for site 370000089094501'"
      ],
      "text/plain": [
       "[1] \"1054/1056 - Downloading data for site 370000089094501\""
      ]
     },
     "metadata": {
      "display_id": "status",
      "update": true
     },
     "output_type": "display_data"
    },
    {
     "name": "stderr",
     "output_type": "stream",
     "text": [
      "GET: https://nwis.waterservices.usgs.gov/nwis/iv/?site=370000089094501&format=waterml,1.1&ParameterCd=00060&startDT=2014-01-01&endDT=2025-05-08\n",
      "\n"
     ]
    },
    {
     "data": {
      "text/html": [
       "''"
      ],
      "text/latex": [
       "''"
      ],
      "text/markdown": [
       "''"
      ],
      "text/plain": [
       "[1] \"\""
      ]
     },
     "metadata": {
      "display_id": "status",
      "update": true
     },
     "output_type": "display_data"
    },
    {
     "name": "stderr",
     "output_type": "stream",
     "text": [
      "Download and save process completed.\n",
      "\n",
      "Check output directory: /Users/alan/Data Science Projects/ML-ModClark-IUH-Model/data/bronze/tabular/streamflow\n",
      "\n",
      "Stations with errors: 03170500, 0317154954, 0317159760, 03178150, 03178179, 03178000, 03178120, 03179800, 03184500, 0318989690, 03189863, 03182888, 03182970, 03182890, 03182900, 03182600, 03182050, 03180900, 03049925, 03049930, 380649081083301, 0319382976, 03197939, 03197910, 03189600, 03187000, 03196500, 03197445, 03159750, 03155588, 03049975, 03051100, 03068000, 03057300, 03063550, 03051260, 03050339, 03195500, 03151550, 03153500, 03155405, 03050500, 03057900, 03064800, 03058020, 03058975, 03055500, 03151000, 03150700, 03140900, 03140853, 03140950, 03114280, 03114275, 03111950, 03062445, 03062450, 03071590, 03071600, 03063000, 03062998, 03432100, 03418420, 03431091, 03431712, 03431514, 03430250, 03430320, 03426490, 03437500, 03417500, 03414170, 03312900, 03313000, 03414000, 03400798, 03209310, 371016082381001, 03403500, 03404820, 03280612, 03280790, 03209325, 371144082383401, 03277446, 03277450, 03211500, 0321357157, 03208000, 03280800, 03286000, 03249500, 03249498, 03249505, 03203647, 03204250, 03204000, 03204294, 03215000, 03207020, 03216300, 03206000, 03611000, 03384500, 03437370, 03315500, 03315850, 03316645, 03319885, 03311513, 03306000, 03305990, 03306500, 03311000, 03310900, 03319000, 03318005, 03318007, 03318010, 03303502, 03322190, 03301630, 03382200, 03322420, 374815087555101, 03381495, 03380000, 03302058, 03298470, 03295597, 03294600, 03294560, 03304300, 03322000, 03374498, 03374500, 03293551, 03238000, 03291585, 03216000, 03217200, 03238798, 03247040, 03247041, 03232470, 03201500, 03159000, 03158510, 03255000, 03276650, 03274615, 03255500, 03256500, 03255390, 03255300, 03276000, 03275990, 03231000, 03230900, 0329247450, 03294445, 03302849, 03364340, 03360590, 03372500, 03372400, 03358900, 03359000, 03357500, 03340870, 03363400, 03353633, 03353626, 033531908, 03363220, 033536062, 03361000, 03353603, 03352972, 03353450, 03061430, 03062224, 03062225, 03062245, 03062250, 03075871, 03077000, 03072656, 03073751, 03073750, 03074850, 03074998, 03045010, 03041000, 03040100, 03040050, 03085152, 03046500, 03049680, 03049681, 03043500, 03141700, 03141000, 03125500, 03126395, 03075000, 03085250, 03075071, 03085000, 03085002, 03112500, 03111520, 03111515, 402823080552300, 03110690, 03110685, 03126500, 03127986, 03127980, 03127989, 03128000, 03127500, 03119341, 03120000, 03119971, 03121000, 03119979, 03122500, 03120820, 03108500, 03108490, 03039040, 03039041, 03038500, 03039036, 03039035, 03120961, 03120869, 03124000, 03118050, 03118209, 03108985, 03086500, 03090000, 03098700, 03091000, 03118258, 410204081363200, 410211081370900, 03115990, 03130000, 03116192, 03085730, 03085734, 03049641, 03049640, 03086001, 03049501, 03035500, 03033289, 03036501, 03036151, 03036150, 03033001, 03033215, 03031624, 03028900, 03027000, 03033000, 03106280, 03104490, 03103400, 03092450, 03095000, 03102950, 03019500, 03022550, 03021890, 03021518, 03021410, 03232300, 03242350, 03242340, 03242050, 03271207, 395245082435800, 395540082291600, 03144950, 394653084072100, 03268090, 03228678, 03221500, 03148000, 03147500, 03146405, 03146277, 03261800, 03268100, 03228400, 03220500, 03143500, 03139850, 03138500, 03133500, 03131500, 03131300, 03135000, 03223000, 03352695, 03352690, 03351060, 03351071, 03351005, 03353240, 03351700, 03350400, 03348502, 03347598, 03335680, 03329500, 03326950, 403204084342601, 03327000, 03327528, 03324450, 03324500, 03323090, 03343350, 03336998, 03323450, 03323500, 03331040, 03331440, 03260500, 03012520, 03010955, 03010720, 03010674, 03011500, 03013946, 370000089094501\n",
      "\n",
      "Error messages: No data available; No data available; No data available; No data available; No data available; No data available; No data available; No data available; No data available; No data available; No data available; No data available; No data available; No data available; No data available; No data available; No data available; No data available; No data available; No data available; No data available; No data available; No data available; No data available; No data available; No data available; No data available; No data available; No data available; No data available; No data available; No data available; No data available; No data available; No data available; No data available; No data available; No data available; No data available; No data available; No data available; No data available; No data available; No data available; No data available; No data available; No data available; No data available; No data available; No data available; No data available; No data available; No data available; No data available; No data available; No data available; No data available; No data available; No data available; No data available; No data available; No data available; No data available; No data available; No data available; No data available; No data available; No data available; No data available; No data available; No data available; No data available; No data available; No data available; No data available; No data available; No data available; No data available; No data available; No data available; No data available; No data available; No data available; No data available; No data available; No data available; No data available; No data available; No data available; No data available; No data available; No data available; No data available; No data available; No data available; No data available; No data available; No data available; No data available; No data available; No data available; No data available; No data available; No data available; No data available; No data available; No data available; No data available; No data available; No data available; No data available; No data available; No data available; No data available; No data available; No data available; No data available; No data available; No data available; No data available; No data available; No data available; No data available; No data available; No data available; No data available; No data available; No data available; No data available; No data available; No data available; No data available; No data available; No data available; No data available; No data available; No data available; No data available; No data available; No data available; No data available; No data available; No data available; No data available; No data available; No data available; No data available; No data available; No data available; No data available; No data available; No data available; No data available; No data available; No data available; No data available; No data available; No data available; No data available; No data available; No data available; No data available; No data available; No data available; No data available; No data available; No data available; No data available; No data available; No data available; No data available; No data available; No data available; No data available; No data available; No data available; No data available; No data available; No data available; No data available; No data available; No data available; No data available; No data available; No data available; No data available; No data available; No data available; No data available; No data available; No data available; No data available; No data available; No data available; No data available; No data available; No data available; No data available; No data available; No data available; No data available; No data available; No data available; No data available; No data available; No data available; No data available; No data available; No data available; No data available; No data available; No data available; No data available; No data available; No data available; No data available; No data available; No data available; No data available; No data available; No data available; No data available; No data available; No data available; No data available; No data available; No data available; No data available; No data available; No data available; No data available; No data available; No data available; No data available; No data available; No data available; No data available; No data available; No data available; No data available; No data available; No data available; No data available; No data available; No data available; No data available; No data available; No data available; No data available; No data available; No data available; No data available; No data available; No data available; No data available; No data available; No data available; No data available; No data available; No data available; No data available; No data available; No data available; No data available; No data available; No data available; No data available; No data available; No data available; No data available; No data available; No data available; No data available; No data available; No data available; No data available; No data available; No data available; No data available; No data available; No data available; No data available; No data available; No data available; No data available; No data available; No data available; No data available; No data available; No data available; No data available; No data available; No data available; No data available; No data available; No data available; No data available; No data available; No data available; No data available; No data available; No data available; No data available; No data available; No data available; No data available; No data available; No data available; No data available; No data available; No data available; No data available; No data available; No data available; No data available; No data available; No data available; No data available; No data available; No data available; No data available; No data available; No data available; No data available; No data available; No data available; No data available; No data available; No data available; No data available; No data available; No data available; No data available; No data available; No data available; No data available; No data available; No data available; No data available; No data available; No data available\n",
      "\n"
     ]
    }
   ],
   "source": [
    "# Download data for each station using a for loop\n",
    "station_codes <- stations$STAID\n",
    "\n",
    "# Define date range for 10 years\n",
    "start_date <- \"2014-01-01\"\n",
    "end_date <- \"2025-05-08\"\n",
    "\n",
    "# Define output directory\n",
    "output_dir <- \"/Users/alan/Data Science Projects/ML-ModClark-IUH-Model/data/bronze/tabular/streamflow\"\n",
    "\n",
    "# Initialize lists to store stations with errors and error messages\n",
    "error_stations <- character()\n",
    "error_messages <- character()\n",
    "\n",
    "count <- 0\n",
    "len <- length(station_codes)\n",
    "\n",
    "# Loop through each station code\n",
    "for (site in station_codes) {\n",
    "  count <- count + 1\n",
    "  \n",
    "  # Check if file already exists\n",
    "  file_path <- file.path(output_dir, paste0(\"streamflow_\", site, \".parquet\"))\n",
    "  if (file.exists(file_path)) {\n",
    "    # message(paste(\"File already exists for site\", site, \"- skipping download\"))\n",
    "    next\n",
    "  }\n",
    "\n",
    "  # Update status in notebook (overwrites previous output)\n",
    "  display(paste0(count, \"/\", len, \" - Downloading data for site \", site), display_id = \"status\", update = TRUE)\n",
    "  \n",
    "  \n",
    "  # Try downloading data with error handling\n",
    "  tryCatch({\n",
    "    streamflow_data <- download_usgs_streamflow(\n",
    "      site_numbers = site,\n",
    "      start_date = start_date,\n",
    "      end_date = end_date\n",
    "    )\n",
    "    \n",
    "    # Save the data if download was successful\n",
    "    if (!is.null(streamflow_data)) {\n",
    "      streamflow_data <- clean_streamflow_data(streamflow_data)\n",
    "    } else {\n",
    "      # warning(paste(\"No data available for site\", site))\n",
    "      error_stations <- c(error_stations, site)\n",
    "      error_messages <- c(error_messages, \"No data available\")\n",
    "    }\n",
    "    # Save the cleaned data\n",
    "    save_streamflow_data(streamflow_data, site, output_dir)\n",
    "    \n",
    "    # Add a delay to avoid overwhelming the USGS server\n",
    "    Sys.sleep(1)\n",
    "  }, error = function(e) {\n",
    "    # warning(paste(\"Error downloading data for site\", site, \":\", e$message))\n",
    "    error_stations <- c(error_stations, site)\n",
    "    error_messages <- c(error_messages, e$message)\n",
    "  })\n",
    "}\n",
    "\n",
    "# Clear the status display\n",
    "display(\"\", display_id = \"status\", update = TRUE)\n",
    "\n",
    "# Summary\n",
    "message(\"Download and save process completed.\")\n",
    "message(paste(\"Check output directory:\", output_dir))\n",
    "if (length(error_stations) > 0) {\n",
    "  message(\"Stations with errors: \", paste(error_stations, collapse = \", \"))\n",
    "  message(\"Error messages: \", paste(error_messages, collapse = \"; \"))\n",
    "}"
   ]
  },
  {
   "cell_type": "markdown",
   "id": "c4bf5f04",
   "metadata": {},
   "source": [
    "#### Failed Downloads\n",
    "\n",
    "Not all stations could be downloaded. The likely cause, is that they might not have data covering the period of study **(2014 - 2025)**. This section investigate the failed downloads."
   ]
  },
  {
   "cell_type": "code",
   "execution_count": null,
   "id": "7e4b2fba",
   "metadata": {
    "vscode": {
     "languageId": "r"
    }
   },
   "outputs": [
    {
     "data": {
      "text/html": [
       "'03007800'"
      ],
      "text/latex": [
       "'03007800'"
      ],
      "text/markdown": [
       "'03007800'"
      ],
      "text/plain": [
       "[1] \"03007800\""
      ]
     },
     "metadata": {},
     "output_type": "display_data"
    }
   ],
   "source": [
    "# Get the station IDs of downloaded streamflow data\n",
    "streamflow_data_dir <- \"/Users/alan/Data Science Projects/ML-ModClark-IUH-Model/data/bronze/tabular/streamflow\"\n",
    "streamflow_files <- list.files(path = streamflow_data_dir, full.names = FALSE)\n",
    "downloaded_streamflow_STID <- gsub(\"streamflow_|\\\\.parquet\", \"\", streamflow_files)\n",
    "downloaded_streamflow_STID[1]"
   ]
  },
  {
   "cell_type": "code",
   "execution_count": 12,
   "id": "24bb4309",
   "metadata": {
    "vscode": {
     "languageId": "r"
    }
   },
   "outputs": [
    {
     "name": "stdout",
     "output_type": "stream",
     "text": [
      "[1] \"350 Station IDs failed to download\"\n"
     ]
    },
    {
     "data": {
      "text/html": [
       "<style>\n",
       ".list-inline {list-style: none; margin:0; padding: 0}\n",
       ".list-inline>li {display: inline-block}\n",
       ".list-inline>li:not(:last-child)::after {content: \"\\00b7\"; padding: 0 .5ex}\n",
       "</style>\n",
       "<ol class=list-inline><li>'03170500'</li><li>'0317154954'</li><li>'0317159760'</li><li>'03178150'</li><li>'03178179'</li><li>'03178000'</li><li>'03178120'</li><li>'03179800'</li><li>'03184500'</li><li>'0318989690'</li></ol>\n"
      ],
      "text/latex": [
       "\\begin{enumerate*}\n",
       "\\item '03170500'\n",
       "\\item '0317154954'\n",
       "\\item '0317159760'\n",
       "\\item '03178150'\n",
       "\\item '03178179'\n",
       "\\item '03178000'\n",
       "\\item '03178120'\n",
       "\\item '03179800'\n",
       "\\item '03184500'\n",
       "\\item '0318989690'\n",
       "\\end{enumerate*}\n"
      ],
      "text/markdown": [
       "1. '03170500'\n",
       "2. '0317154954'\n",
       "3. '0317159760'\n",
       "4. '03178150'\n",
       "5. '03178179'\n",
       "6. '03178000'\n",
       "7. '03178120'\n",
       "8. '03179800'\n",
       "9. '03184500'\n",
       "10. '0318989690'\n",
       "\n",
       "\n"
      ],
      "text/plain": [
       " [1] \"03170500\"   \"0317154954\" \"0317159760\" \"03178150\"   \"03178179\"  \n",
       " [6] \"03178000\"   \"03178120\"   \"03179800\"   \"03184500\"   \"0318989690\""
      ]
     },
     "metadata": {},
     "output_type": "display_data"
    }
   ],
   "source": [
    "# Get the station IDs of failed downloads\n",
    "station_codes <- stations$STAID\n",
    "failed_downloads_stid <- setdiff(station_codes, downloaded_streamflow_STID)\n",
    "print(paste(length(failed_downloads_stid), \"Station IDs failed to download\"))\n",
    "failed_downloads_stid[1:10]"
   ]
  },
  {
   "cell_type": "code",
   "execution_count": 13,
   "id": "220414ba",
   "metadata": {
    "vscode": {
     "languageId": "r"
    }
   },
   "outputs": [],
   "source": [
    "# Function to get the period of data coverage for USGS stations\n",
    "get_usgs_coverage <- function(site_numbers, parameter_cd = \"00060\", service = \"uv\") {\n",
    "  # Input validation\n",
    "  if (!is.character(site_numbers) || length(site_numbers) == 0) {\n",
    "    stop(\"site_numbers must be a non-empty character vector of USGS site IDs\")\n",
    "  }\n",
    "  if (!is.character(parameter_cd) || length(parameter_cd) != 1) {\n",
    "    stop(\"parameter_cd must be a single character string (e.g., '00060' for discharge)\")\n",
    "  }\n",
    "  if (!service %in% c(\"uv\", \"dv\")) {\n",
    "    stop(\"service must be 'uv' (instantaneous) or 'dv' (daily)\")\n",
    "  }\n",
    "  \n",
    "  # Query NWIS for data availability\n",
    "  coverage_data <- tryCatch({\n",
    "    whatNWISdata(\n",
    "      siteNumber = site_numbers,\n",
    "      parameterCd = parameter_cd,\n",
    "      service = service\n",
    "    )\n",
    "  }, error = function(e) {\n",
    "    warning(paste(\"Error querying NWIS for sites:\", e$message))\n",
    "    return(NULL)\n",
    "  })\n",
    "  \n",
    "  # Check if data was retrieved\n",
    "  if (is.null(coverage_data) || nrow(coverage_data) == 0) {\n",
    "    warning(\"No coverage data available for the specified sites and parameter\")\n",
    "    return(data.frame(\n",
    "      site_no = site_numbers,\n",
    "      parameter_cd = parameter_cd,\n",
    "      start_date = as.Date(NA),\n",
    "      end_date = as.Date(NA),\n",
    "      record_count = NA_integer_\n",
    "    ))\n",
    "  }\n",
    "  return(coverage_data)\n",
    "}"
   ]
  },
  {
   "cell_type": "code",
   "execution_count": 14,
   "id": "636b48e1",
   "metadata": {
    "vscode": {
     "languageId": "r"
    }
   },
   "outputs": [
    {
     "name": "stdout",
     "output_type": "stream",
     "text": [
      "[1] \"03170500\"   \"0317154954\"\n"
     ]
    },
    {
     "name": "stderr",
     "output_type": "stream",
     "text": [
      "GET: https://waterservices.usgs.gov/nwis/site/?seriesCatalogOutput=true&sites=03170500,0317154954&format=rdb\n",
      "\n",
      "Warning message in get_usgs_coverage(site_numbers, parameter_cd = \"00060\", service = \"uv\"):\n",
      "\"No coverage data available for the specified sites and parameter\"\n"
     ]
    },
    {
     "name": "stdout",
     "output_type": "stream",
     "text": [
      "     site_no parameter_cd start_date end_date record_count\n",
      "1   03170500        00060       <NA>     <NA>           NA\n",
      "2 0317154954        00060       <NA>     <NA>           NA\n"
     ]
    }
   ],
   "source": [
    "# Get converage for first two failed  sites\n",
    "site_numbers <- failed_downloads_stid[1:2]\n",
    "print(site_numbers)\n",
    "coverage_data <- get_usgs_coverage(site_numbers, parameter_cd = \"00060\", service = \"uv\")\n",
    "print(coverage_data)"
   ]
  },
  {
   "cell_type": "markdown",
   "id": "a2d087e0",
   "metadata": {},
   "source": [
    "**Test the function to example station id of downloaded data**"
   ]
  },
  {
   "cell_type": "code",
   "execution_count": 25,
   "id": "4759f109",
   "metadata": {
    "vscode": {
     "languageId": "r"
    }
   },
   "outputs": [
    {
     "name": "stdout",
     "output_type": "stream",
     "text": [
      "[1] \"03007800\" \"03010500\" \"03010655\" \"03010820\" \"03011020\"\n"
     ]
    },
    {
     "name": "stderr",
     "output_type": "stream",
     "text": [
      "GET: https://waterservices.usgs.gov/nwis/site/?seriesCatalogOutput=true&sites=03007800,03010500,03010655,03010820,03011020&format=rdb\n",
      "\n"
     ]
    },
    {
     "name": "stdout",
     "output_type": "stream",
     "text": [
      "    agency_cd  site_no                           station_nm site_tp_cd\n",
      "154      USGS 03007800 Allegheny River at Port Allegany, PA         ST\n",
      "535      USGS 03010500        Allegheny River at Eldred, PA         ST\n",
      "543      USGS 03010655     Oswayo Creek at Shinglehouse, PA         ST\n",
      "550      USGS 03010820          ALLEGHENY RIVER AT OLEAN NY         ST\n",
      "789      USGS 03011020      ALLEGHENY RIVER AT SALAMANCA NY         ST\n",
      "    dec_lat_va dec_long_va coord_acy_cd dec_coord_datum_cd  alt_va alt_acy_va\n",
      "154   41.81868   -78.29279            S              NAD83 1454.38       0.01\n",
      "535   41.96340   -78.38613            S              NAD83 1416.53      11.00\n",
      "543   41.96173   -78.19807            S              NAD83 1460.34       0.01\n",
      "550   42.07236   -78.45086            1              NAD83 1399.50       0.01\n",
      "789   42.15683   -78.71556            1              NAD83 1357.49       0.01\n",
      "    alt_datum_cd   huc_cd data_type_cd parm_cd stat_cd  ts_id loc_web_ds\n",
      "154       NAVD88 05010001           uv   00060    <NA> 122208       <NA>\n",
      "535       NGVD29 05010001           uv   00060    <NA> 122215       <NA>\n",
      "543       NGVD29 05010001           uv   00060    <NA> 122220       <NA>\n",
      "550       NAVD88 05010001           uv   00060    <NA> 107518       <NA>\n",
      "789       NAVD88 05010001           uv   00060    <NA> 107522       <NA>\n",
      "    medium_grp_cd parm_grp_cd  srs_id access_cd begin_date   end_date count_nu\n",
      "154           wat        <NA> 1645423         0 1991-10-01 2025-05-11    12276\n",
      "535           wat        <NA> 1645423         0 1991-10-01 2025-05-11    12276\n",
      "543           wat        <NA> 1645423         0 1991-10-01 2025-05-11    12276\n",
      "550           wat        <NA> 1645423         0 2010-08-21 2025-05-11     5377\n",
      "789           wat        <NA> 1645423         0 1990-10-01 2025-05-11    12641\n"
     ]
    }
   ],
   "source": [
    "# Get converage for first two downloaded five sites\n",
    "site_numbers_examples_downloaded_data <- downloaded_streamflow_STID[1:5]\n",
    "print(site_numbers_examples_downloaded_data)\n",
    "coverage_downloaded_data <- get_usgs_coverage(site_numbers_examples_downloaded_data, parameter_cd = \"00060\", service = \"uv\")\n",
    "print(coverage_downloaded_data)"
   ]
  },
  {
   "cell_type": "code",
   "execution_count": 26,
   "id": "3a4c0ce3",
   "metadata": {
    "vscode": {
     "languageId": "r"
    }
   },
   "outputs": [
    {
     "data": {
      "text/html": [
       "<table class=\"dataframe\">\n",
       "<caption>A data.frame: 5 × 5</caption>\n",
       "<thead>\n",
       "\t<tr><th scope=col>site_no</th><th scope=col>parameter_cd</th><th scope=col>start_date</th><th scope=col>end_date</th><th scope=col>record_count</th></tr>\n",
       "\t<tr><th scope=col>&lt;chr&gt;</th><th scope=col>&lt;chr&gt;</th><th scope=col>&lt;date&gt;</th><th scope=col>&lt;date&gt;</th><th scope=col>&lt;int&gt;</th></tr>\n",
       "</thead>\n",
       "<tbody>\n",
       "\t<tr><td>03007800</td><td>00060</td><td>1991-10-01</td><td>2025-05-11</td><td>12276</td></tr>\n",
       "\t<tr><td>03010500</td><td>00060</td><td>1991-10-01</td><td>2025-05-11</td><td>12276</td></tr>\n",
       "\t<tr><td>03010655</td><td>00060</td><td>1991-10-01</td><td>2025-05-11</td><td>12276</td></tr>\n",
       "\t<tr><td>03010820</td><td>00060</td><td>2010-08-21</td><td>2025-05-11</td><td> 5377</td></tr>\n",
       "\t<tr><td>03011020</td><td>00060</td><td>1990-10-01</td><td>2025-05-11</td><td>12641</td></tr>\n",
       "</tbody>\n",
       "</table>\n"
      ],
      "text/latex": [
       "A data.frame: 5 × 5\n",
       "\\begin{tabular}{lllll}\n",
       " site\\_no & parameter\\_cd & start\\_date & end\\_date & record\\_count\\\\\n",
       " <chr> & <chr> & <date> & <date> & <int>\\\\\n",
       "\\hline\n",
       "\t 03007800 & 00060 & 1991-10-01 & 2025-05-11 & 12276\\\\\n",
       "\t 03010500 & 00060 & 1991-10-01 & 2025-05-11 & 12276\\\\\n",
       "\t 03010655 & 00060 & 1991-10-01 & 2025-05-11 & 12276\\\\\n",
       "\t 03010820 & 00060 & 2010-08-21 & 2025-05-11 &  5377\\\\\n",
       "\t 03011020 & 00060 & 1990-10-01 & 2025-05-11 & 12641\\\\\n",
       "\\end{tabular}\n"
      ],
      "text/markdown": [
       "\n",
       "A data.frame: 5 × 5\n",
       "\n",
       "| site_no &lt;chr&gt; | parameter_cd &lt;chr&gt; | start_date &lt;date&gt; | end_date &lt;date&gt; | record_count &lt;int&gt; |\n",
       "|---|---|---|---|---|\n",
       "| 03007800 | 00060 | 1991-10-01 | 2025-05-11 | 12276 |\n",
       "| 03010500 | 00060 | 1991-10-01 | 2025-05-11 | 12276 |\n",
       "| 03010655 | 00060 | 1991-10-01 | 2025-05-11 | 12276 |\n",
       "| 03010820 | 00060 | 2010-08-21 | 2025-05-11 |  5377 |\n",
       "| 03011020 | 00060 | 1990-10-01 | 2025-05-11 | 12641 |\n",
       "\n"
      ],
      "text/plain": [
       "  site_no  parameter_cd start_date end_date   record_count\n",
       "1 03007800 00060        1991-10-01 2025-05-11 12276       \n",
       "2 03010500 00060        1991-10-01 2025-05-11 12276       \n",
       "3 03010655 00060        1991-10-01 2025-05-11 12276       \n",
       "4 03010820 00060        2010-08-21 2025-05-11  5377       \n",
       "5 03011020 00060        1990-10-01 2025-05-11 12641       "
      ]
     },
     "metadata": {},
     "output_type": "display_data"
    }
   ],
   "source": [
    "parameter_cd = \"00060\"\n",
    "# Select and format relevant columns\n",
    "coverage_downloaded_data <- coverage_downloaded_data %>%\n",
    "  dplyr::select(\n",
    "    site_no,\n",
    "    parm_cd,\n",
    "    begin_date,\n",
    "    end_date,\n",
    "    count_nu\n",
    "  ) %>%\n",
    "  dplyr::rename(\n",
    "    parameter_cd = parm_cd,\n",
    "    start_date = begin_date,\n",
    "    end_date = end_date,\n",
    "    record_count = count_nu\n",
    "  ) %>%\n",
    "  dplyr::filter(parameter_cd == !!parameter_cd)\n",
    "\n",
    "# Ensure all input sites are returned (even if no data)\n",
    "all_sites <- data.frame(site_no = site_numbers_examples_downloaded_data)\n",
    "coverage_downloaded_data <- all_sites %>%\n",
    "  dplyr::left_join(coverage_downloaded_data, by = \"site_no\") %>%\n",
    "  dplyr::mutate(\n",
    "    parameter_cd = parameter_cd,\n",
    "    start_date = as.Date(start_date),\n",
    "    end_date = as.Date(end_date),\n",
    "    record_count = as.integer(record_count)\n",
    "  ) %>%\n",
    "  dplyr::select(site_no, parameter_cd, start_date, end_date, record_count)\n",
    "coverage_downloaded_data\n"
   ]
  },
  {
   "cell_type": "markdown",
   "id": "f7c1cfea",
   "metadata": {},
   "source": [
    "Apparently the two sation id in which it failed to dowload, have no data. The code below retrieves info about all failed stations. If no info is retrieved for any specific stations, it will be assumed no data is available for that station and will be excluded from modeling. "
   ]
  },
  {
   "cell_type": "code",
   "execution_count": 37,
   "id": "41a531fd",
   "metadata": {
    "vscode": {
     "languageId": "r"
    }
   },
   "outputs": [],
   "source": [
    "# Define function to clean and format the coverage data\n",
    "clean_usgs_coverage <- function(coverage_data, parameter_cd = \"00060\", site_numbers) {\n",
    "  tryCatch({\n",
    "    # Clean and format the coverage data\n",
    "    coverage_data <- coverage_data %>%\n",
    "      dplyr::select(\n",
    "        site_no,\n",
    "        parm_cd,\n",
    "        begin_date,\n",
    "        end_date,\n",
    "        count_nu\n",
    "      ) %>%\n",
    "      dplyr::rename(\n",
    "        parameter_cd = parm_cd,\n",
    "        start_date = begin_date,\n",
    "        end_date = end_date,\n",
    "        record_count = count_nu\n",
    "      ) %>%\n",
    "      dplyr::filter(parameter_cd == !!parameter_cd)\n",
    "\n",
    "    # Ensure all input sites are returned (even if no data)\n",
    "    all_sites <- data.frame(site_no = site_numbers)\n",
    "    coverage_data <- all_sites %>%\n",
    "      dplyr::left_join(coverage_data, by = \"site_no\") %>%\n",
    "      dplyr::mutate(\n",
    "        parameter_cd = parameter_cd,\n",
    "        start_date = as.Date(start_date),\n",
    "        end_date = as.Date(end_date),\n",
    "        record_count = as.integer(record_count)\n",
    "      ) %>%\n",
    "      dplyr::select(site_no, parameter_cd, start_date, end_date, record_count)\n",
    "\n",
    "    return(coverage_data)\n",
    "  }, error = function(e) {\n",
    "    return(coverage_data)\n",
    "  })\n",
    "}"
   ]
  },
  {
   "cell_type": "code",
   "execution_count": 44,
   "id": "88d7b0fc",
   "metadata": {
    "vscode": {
     "languageId": "r"
    }
   },
   "outputs": [
    {
     "name": "stdout",
     "output_type": "stream",
     "text": [
      "[1] \"03170500\"\n"
     ]
    },
    {
     "name": "stderr",
     "output_type": "stream",
     "text": [
      "GET: https://waterservices.usgs.gov/nwis/site/?seriesCatalogOutput=true&sites=03170500&format=rdb\n",
      "\n",
      "Warning message in get_usgs_coverage(site_number, parameter_cd = parameter_cd, service = \"uv\"):\n",
      "\"No coverage data available for the specified sites and parameter\"\n"
     ]
    },
    {
     "data": {
      "text/html": [
       "<table class=\"dataframe\">\n",
       "<caption>A data.frame: 1 × 5</caption>\n",
       "<thead>\n",
       "\t<tr><th scope=col>site_no</th><th scope=col>parameter_cd</th><th scope=col>start_date</th><th scope=col>end_date</th><th scope=col>record_count</th></tr>\n",
       "\t<tr><th scope=col>&lt;chr&gt;</th><th scope=col>&lt;chr&gt;</th><th scope=col>&lt;date&gt;</th><th scope=col>&lt;date&gt;</th><th scope=col>&lt;int&gt;</th></tr>\n",
       "</thead>\n",
       "<tbody>\n",
       "\t<tr><td>03170500</td><td>00060</td><td>NA</td><td>NA</td><td>NA</td></tr>\n",
       "</tbody>\n",
       "</table>\n"
      ],
      "text/latex": [
       "A data.frame: 1 × 5\n",
       "\\begin{tabular}{lllll}\n",
       " site\\_no & parameter\\_cd & start\\_date & end\\_date & record\\_count\\\\\n",
       " <chr> & <chr> & <date> & <date> & <int>\\\\\n",
       "\\hline\n",
       "\t 03170500 & 00060 & NA & NA & NA\\\\\n",
       "\\end{tabular}\n"
      ],
      "text/markdown": [
       "\n",
       "A data.frame: 1 × 5\n",
       "\n",
       "| site_no &lt;chr&gt; | parameter_cd &lt;chr&gt; | start_date &lt;date&gt; | end_date &lt;date&gt; | record_count &lt;int&gt; |\n",
       "|---|---|---|---|---|\n",
       "| 03170500 | 00060 | NA | NA | NA |\n",
       "\n"
      ],
      "text/plain": [
       "  site_no  parameter_cd start_date end_date record_count\n",
       "1 03170500 00060        <NA>       <NA>     NA          "
      ]
     },
     "metadata": {},
     "output_type": "display_data"
    }
   ],
   "source": [
    "# Test the function for one failed site\n",
    "site_number <- failed_downloads_stid[1]\n",
    "parameter_cd <- \"00060\"\n",
    "print(site_number)\n",
    "coverage_data <- get_usgs_coverage(site_number, parameter_cd = parameter_cd, service = \"uv\") %>% \n",
    "  clean_usgs_coverage(parameter_cd = parameter_cd, site_numbers = site_number)\n",
    "coverage_data\n"
   ]
  },
  {
   "cell_type": "code",
   "execution_count": 40,
   "id": "9af1f24a",
   "metadata": {
    "vscode": {
     "languageId": "r"
    }
   },
   "outputs": [
    {
     "name": "stderr",
     "output_type": "stream",
     "text": [
      "POST: https://waterservices.usgs.gov/nwis/site/\n",
      "\n"
     ]
    },
    {
     "data": {
      "text/html": [
       "<table class=\"dataframe\">\n",
       "<caption>A data.frame: 360 × 5</caption>\n",
       "<thead>\n",
       "\t<tr><th scope=col>site_no</th><th scope=col>parameter_cd</th><th scope=col>start_date</th><th scope=col>end_date</th><th scope=col>record_count</th></tr>\n",
       "\t<tr><th scope=col>&lt;chr&gt;</th><th scope=col>&lt;chr&gt;</th><th scope=col>&lt;date&gt;</th><th scope=col>&lt;date&gt;</th><th scope=col>&lt;int&gt;</th></tr>\n",
       "</thead>\n",
       "<tbody>\n",
       "\t<tr><td>03170500       </td><td>NA   </td><td>NA</td><td>NA</td><td>  NA</td></tr>\n",
       "\t<tr><td>0317154954     </td><td>NA   </td><td>NA</td><td>NA</td><td>  NA</td></tr>\n",
       "\t<tr><td>0317159760     </td><td>NA   </td><td>NA</td><td>NA</td><td>  NA</td></tr>\n",
       "\t<tr><td>03178150       </td><td>NA   </td><td>NA</td><td>NA</td><td>  NA</td></tr>\n",
       "\t<tr><td>03178179       </td><td>NA   </td><td>NA</td><td>NA</td><td>  NA</td></tr>\n",
       "\t<tr><td>03178000       </td><td>00060</td><td>1997-02-14</td><td>1998-08-19</td><td> 551</td></tr>\n",
       "\t<tr><td>03178120       </td><td>NA   </td><td>NA</td><td>NA</td><td>  NA</td></tr>\n",
       "\t<tr><td>03179800       </td><td>NA   </td><td>NA</td><td>NA</td><td>  NA</td></tr>\n",
       "\t<tr><td>03184500       </td><td>00060</td><td>1996-10-01</td><td>2003-09-30</td><td>2555</td></tr>\n",
       "\t<tr><td>0318989690     </td><td>NA   </td><td>NA</td><td>NA</td><td>  NA</td></tr>\n",
       "\t<tr><td>03189863       </td><td>NA   </td><td>NA</td><td>NA</td><td>  NA</td></tr>\n",
       "\t<tr><td>03182888       </td><td>NA   </td><td>NA</td><td>NA</td><td>  NA</td></tr>\n",
       "\t<tr><td>03182970       </td><td>NA   </td><td>NA</td><td>NA</td><td>  NA</td></tr>\n",
       "\t<tr><td>03182890       </td><td>NA   </td><td>NA</td><td>NA</td><td>  NA</td></tr>\n",
       "\t<tr><td>03182900       </td><td>NA   </td><td>NA</td><td>NA</td><td>  NA</td></tr>\n",
       "\t<tr><td>03182600       </td><td>NA   </td><td>NA</td><td>NA</td><td>  NA</td></tr>\n",
       "\t<tr><td>03182050       </td><td>NA   </td><td>NA</td><td>NA</td><td>  NA</td></tr>\n",
       "\t<tr><td>03180900       </td><td>NA   </td><td>NA</td><td>NA</td><td>  NA</td></tr>\n",
       "\t<tr><td>03049925       </td><td>NA   </td><td>NA</td><td>NA</td><td>  NA</td></tr>\n",
       "\t<tr><td>03049930       </td><td>NA   </td><td>NA</td><td>NA</td><td>  NA</td></tr>\n",
       "\t<tr><td>380649081083301</td><td>NA   </td><td>NA</td><td>NA</td><td>  NA</td></tr>\n",
       "\t<tr><td>0319382976     </td><td>NA   </td><td>NA</td><td>NA</td><td>  NA</td></tr>\n",
       "\t<tr><td>03197939       </td><td>NA   </td><td>NA</td><td>NA</td><td>  NA</td></tr>\n",
       "\t<tr><td>03197910       </td><td>NA   </td><td>NA</td><td>NA</td><td>  NA</td></tr>\n",
       "\t<tr><td>03189600       </td><td>00060</td><td>1996-10-01</td><td>2003-09-30</td><td>2555</td></tr>\n",
       "\t<tr><td>03187000       </td><td>NA   </td><td>NA</td><td>NA</td><td>  NA</td></tr>\n",
       "\t<tr><td>03196500       </td><td>NA   </td><td>NA</td><td>NA</td><td>  NA</td></tr>\n",
       "\t<tr><td>03197445       </td><td>NA   </td><td>NA</td><td>NA</td><td>  NA</td></tr>\n",
       "\t<tr><td>03159750       </td><td>NA   </td><td>NA</td><td>NA</td><td>  NA</td></tr>\n",
       "\t<tr><td>03155588       </td><td>NA   </td><td>NA</td><td>NA</td><td>  NA</td></tr>\n",
       "\t<tr><td>⋮</td><td>⋮</td><td>⋮</td><td>⋮</td><td>⋮</td></tr>\n",
       "\t<tr><td>03353240       </td><td>NA   </td><td>NA</td><td>NA</td><td>  NA</td></tr>\n",
       "\t<tr><td>03351700       </td><td>NA   </td><td>NA</td><td>NA</td><td>  NA</td></tr>\n",
       "\t<tr><td>03350400       </td><td>NA   </td><td>NA</td><td>NA</td><td>  NA</td></tr>\n",
       "\t<tr><td>03348502       </td><td>NA   </td><td>NA</td><td>NA</td><td>  NA</td></tr>\n",
       "\t<tr><td>03347598       </td><td>NA   </td><td>NA</td><td>NA</td><td>  NA</td></tr>\n",
       "\t<tr><td>03338780       </td><td>00060</td><td>1988-11-03</td><td>2010-09-30</td><td>8001</td></tr>\n",
       "\t<tr><td>03338780       </td><td>00060</td><td>2007-10-01</td><td>2014-11-12</td><td>2599</td></tr>\n",
       "\t<tr><td>03335680       </td><td>NA   </td><td>NA</td><td>NA</td><td>  NA</td></tr>\n",
       "\t<tr><td>03329500       </td><td>NA   </td><td>NA</td><td>NA</td><td>  NA</td></tr>\n",
       "\t<tr><td>03326950       </td><td>NA   </td><td>NA</td><td>NA</td><td>  NA</td></tr>\n",
       "\t<tr><td>403204084342601</td><td>NA   </td><td>NA</td><td>NA</td><td>  NA</td></tr>\n",
       "\t<tr><td>03327000       </td><td>NA   </td><td>NA</td><td>NA</td><td>  NA</td></tr>\n",
       "\t<tr><td>03327528       </td><td>NA   </td><td>NA</td><td>NA</td><td>  NA</td></tr>\n",
       "\t<tr><td>03324450       </td><td>NA   </td><td>NA</td><td>NA</td><td>  NA</td></tr>\n",
       "\t<tr><td>03324500       </td><td>NA   </td><td>NA</td><td>NA</td><td>  NA</td></tr>\n",
       "\t<tr><td>03323090       </td><td>NA   </td><td>NA</td><td>NA</td><td>  NA</td></tr>\n",
       "\t<tr><td>03343350       </td><td>NA   </td><td>NA</td><td>NA</td><td>  NA</td></tr>\n",
       "\t<tr><td>03336998       </td><td>NA   </td><td>NA</td><td>NA</td><td>  NA</td></tr>\n",
       "\t<tr><td>03323450       </td><td>NA   </td><td>NA</td><td>NA</td><td>  NA</td></tr>\n",
       "\t<tr><td>03323500       </td><td>NA   </td><td>NA</td><td>NA</td><td>  NA</td></tr>\n",
       "\t<tr><td>03331040       </td><td>NA   </td><td>NA</td><td>NA</td><td>  NA</td></tr>\n",
       "\t<tr><td>03331440       </td><td>NA   </td><td>NA</td><td>NA</td><td>  NA</td></tr>\n",
       "\t<tr><td>03260500       </td><td>NA   </td><td>NA</td><td>NA</td><td>  NA</td></tr>\n",
       "\t<tr><td>03012520       </td><td>NA   </td><td>NA</td><td>NA</td><td>  NA</td></tr>\n",
       "\t<tr><td>03010955       </td><td>NA   </td><td>NA</td><td>NA</td><td>  NA</td></tr>\n",
       "\t<tr><td>03010720       </td><td>NA   </td><td>NA</td><td>NA</td><td>  NA</td></tr>\n",
       "\t<tr><td>03010674       </td><td>NA   </td><td>NA</td><td>NA</td><td>  NA</td></tr>\n",
       "\t<tr><td>03011500       </td><td>NA   </td><td>NA</td><td>NA</td><td>  NA</td></tr>\n",
       "\t<tr><td>03013946       </td><td>NA   </td><td>NA</td><td>NA</td><td>  NA</td></tr>\n",
       "\t<tr><td>370000089094501</td><td>NA   </td><td>NA</td><td>NA</td><td>  NA</td></tr>\n",
       "</tbody>\n",
       "</table>\n"
      ],
      "text/latex": [
       "A data.frame: 360 × 5\n",
       "\\begin{tabular}{lllll}\n",
       " site\\_no & parameter\\_cd & start\\_date & end\\_date & record\\_count\\\\\n",
       " <chr> & <chr> & <date> & <date> & <int>\\\\\n",
       "\\hline\n",
       "\t 03170500        & NA    & NA & NA &   NA\\\\\n",
       "\t 0317154954      & NA    & NA & NA &   NA\\\\\n",
       "\t 0317159760      & NA    & NA & NA &   NA\\\\\n",
       "\t 03178150        & NA    & NA & NA &   NA\\\\\n",
       "\t 03178179        & NA    & NA & NA &   NA\\\\\n",
       "\t 03178000        & 00060 & 1997-02-14 & 1998-08-19 &  551\\\\\n",
       "\t 03178120        & NA    & NA & NA &   NA\\\\\n",
       "\t 03179800        & NA    & NA & NA &   NA\\\\\n",
       "\t 03184500        & 00060 & 1996-10-01 & 2003-09-30 & 2555\\\\\n",
       "\t 0318989690      & NA    & NA & NA &   NA\\\\\n",
       "\t 03189863        & NA    & NA & NA &   NA\\\\\n",
       "\t 03182888        & NA    & NA & NA &   NA\\\\\n",
       "\t 03182970        & NA    & NA & NA &   NA\\\\\n",
       "\t 03182890        & NA    & NA & NA &   NA\\\\\n",
       "\t 03182900        & NA    & NA & NA &   NA\\\\\n",
       "\t 03182600        & NA    & NA & NA &   NA\\\\\n",
       "\t 03182050        & NA    & NA & NA &   NA\\\\\n",
       "\t 03180900        & NA    & NA & NA &   NA\\\\\n",
       "\t 03049925        & NA    & NA & NA &   NA\\\\\n",
       "\t 03049930        & NA    & NA & NA &   NA\\\\\n",
       "\t 380649081083301 & NA    & NA & NA &   NA\\\\\n",
       "\t 0319382976      & NA    & NA & NA &   NA\\\\\n",
       "\t 03197939        & NA    & NA & NA &   NA\\\\\n",
       "\t 03197910        & NA    & NA & NA &   NA\\\\\n",
       "\t 03189600        & 00060 & 1996-10-01 & 2003-09-30 & 2555\\\\\n",
       "\t 03187000        & NA    & NA & NA &   NA\\\\\n",
       "\t 03196500        & NA    & NA & NA &   NA\\\\\n",
       "\t 03197445        & NA    & NA & NA &   NA\\\\\n",
       "\t 03159750        & NA    & NA & NA &   NA\\\\\n",
       "\t 03155588        & NA    & NA & NA &   NA\\\\\n",
       "\t ⋮ & ⋮ & ⋮ & ⋮ & ⋮\\\\\n",
       "\t 03353240        & NA    & NA & NA &   NA\\\\\n",
       "\t 03351700        & NA    & NA & NA &   NA\\\\\n",
       "\t 03350400        & NA    & NA & NA &   NA\\\\\n",
       "\t 03348502        & NA    & NA & NA &   NA\\\\\n",
       "\t 03347598        & NA    & NA & NA &   NA\\\\\n",
       "\t 03338780        & 00060 & 1988-11-03 & 2010-09-30 & 8001\\\\\n",
       "\t 03338780        & 00060 & 2007-10-01 & 2014-11-12 & 2599\\\\\n",
       "\t 03335680        & NA    & NA & NA &   NA\\\\\n",
       "\t 03329500        & NA    & NA & NA &   NA\\\\\n",
       "\t 03326950        & NA    & NA & NA &   NA\\\\\n",
       "\t 403204084342601 & NA    & NA & NA &   NA\\\\\n",
       "\t 03327000        & NA    & NA & NA &   NA\\\\\n",
       "\t 03327528        & NA    & NA & NA &   NA\\\\\n",
       "\t 03324450        & NA    & NA & NA &   NA\\\\\n",
       "\t 03324500        & NA    & NA & NA &   NA\\\\\n",
       "\t 03323090        & NA    & NA & NA &   NA\\\\\n",
       "\t 03343350        & NA    & NA & NA &   NA\\\\\n",
       "\t 03336998        & NA    & NA & NA &   NA\\\\\n",
       "\t 03323450        & NA    & NA & NA &   NA\\\\\n",
       "\t 03323500        & NA    & NA & NA &   NA\\\\\n",
       "\t 03331040        & NA    & NA & NA &   NA\\\\\n",
       "\t 03331440        & NA    & NA & NA &   NA\\\\\n",
       "\t 03260500        & NA    & NA & NA &   NA\\\\\n",
       "\t 03012520        & NA    & NA & NA &   NA\\\\\n",
       "\t 03010955        & NA    & NA & NA &   NA\\\\\n",
       "\t 03010720        & NA    & NA & NA &   NA\\\\\n",
       "\t 03010674        & NA    & NA & NA &   NA\\\\\n",
       "\t 03011500        & NA    & NA & NA &   NA\\\\\n",
       "\t 03013946        & NA    & NA & NA &   NA\\\\\n",
       "\t 370000089094501 & NA    & NA & NA &   NA\\\\\n",
       "\\end{tabular}\n"
      ],
      "text/markdown": [
       "\n",
       "A data.frame: 360 × 5\n",
       "\n",
       "| site_no &lt;chr&gt; | parameter_cd &lt;chr&gt; | start_date &lt;date&gt; | end_date &lt;date&gt; | record_count &lt;int&gt; |\n",
       "|---|---|---|---|---|\n",
       "| 03170500        | NA    | NA | NA |   NA |\n",
       "| 0317154954      | NA    | NA | NA |   NA |\n",
       "| 0317159760      | NA    | NA | NA |   NA |\n",
       "| 03178150        | NA    | NA | NA |   NA |\n",
       "| 03178179        | NA    | NA | NA |   NA |\n",
       "| 03178000        | 00060 | 1997-02-14 | 1998-08-19 |  551 |\n",
       "| 03178120        | NA    | NA | NA |   NA |\n",
       "| 03179800        | NA    | NA | NA |   NA |\n",
       "| 03184500        | 00060 | 1996-10-01 | 2003-09-30 | 2555 |\n",
       "| 0318989690      | NA    | NA | NA |   NA |\n",
       "| 03189863        | NA    | NA | NA |   NA |\n",
       "| 03182888        | NA    | NA | NA |   NA |\n",
       "| 03182970        | NA    | NA | NA |   NA |\n",
       "| 03182890        | NA    | NA | NA |   NA |\n",
       "| 03182900        | NA    | NA | NA |   NA |\n",
       "| 03182600        | NA    | NA | NA |   NA |\n",
       "| 03182050        | NA    | NA | NA |   NA |\n",
       "| 03180900        | NA    | NA | NA |   NA |\n",
       "| 03049925        | NA    | NA | NA |   NA |\n",
       "| 03049930        | NA    | NA | NA |   NA |\n",
       "| 380649081083301 | NA    | NA | NA |   NA |\n",
       "| 0319382976      | NA    | NA | NA |   NA |\n",
       "| 03197939        | NA    | NA | NA |   NA |\n",
       "| 03197910        | NA    | NA | NA |   NA |\n",
       "| 03189600        | 00060 | 1996-10-01 | 2003-09-30 | 2555 |\n",
       "| 03187000        | NA    | NA | NA |   NA |\n",
       "| 03196500        | NA    | NA | NA |   NA |\n",
       "| 03197445        | NA    | NA | NA |   NA |\n",
       "| 03159750        | NA    | NA | NA |   NA |\n",
       "| 03155588        | NA    | NA | NA |   NA |\n",
       "| ⋮ | ⋮ | ⋮ | ⋮ | ⋮ |\n",
       "| 03353240        | NA    | NA | NA |   NA |\n",
       "| 03351700        | NA    | NA | NA |   NA |\n",
       "| 03350400        | NA    | NA | NA |   NA |\n",
       "| 03348502        | NA    | NA | NA |   NA |\n",
       "| 03347598        | NA    | NA | NA |   NA |\n",
       "| 03338780        | 00060 | 1988-11-03 | 2010-09-30 | 8001 |\n",
       "| 03338780        | 00060 | 2007-10-01 | 2014-11-12 | 2599 |\n",
       "| 03335680        | NA    | NA | NA |   NA |\n",
       "| 03329500        | NA    | NA | NA |   NA |\n",
       "| 03326950        | NA    | NA | NA |   NA |\n",
       "| 403204084342601 | NA    | NA | NA |   NA |\n",
       "| 03327000        | NA    | NA | NA |   NA |\n",
       "| 03327528        | NA    | NA | NA |   NA |\n",
       "| 03324450        | NA    | NA | NA |   NA |\n",
       "| 03324500        | NA    | NA | NA |   NA |\n",
       "| 03323090        | NA    | NA | NA |   NA |\n",
       "| 03343350        | NA    | NA | NA |   NA |\n",
       "| 03336998        | NA    | NA | NA |   NA |\n",
       "| 03323450        | NA    | NA | NA |   NA |\n",
       "| 03323500        | NA    | NA | NA |   NA |\n",
       "| 03331040        | NA    | NA | NA |   NA |\n",
       "| 03331440        | NA    | NA | NA |   NA |\n",
       "| 03260500        | NA    | NA | NA |   NA |\n",
       "| 03012520        | NA    | NA | NA |   NA |\n",
       "| 03010955        | NA    | NA | NA |   NA |\n",
       "| 03010720        | NA    | NA | NA |   NA |\n",
       "| 03010674        | NA    | NA | NA |   NA |\n",
       "| 03011500        | NA    | NA | NA |   NA |\n",
       "| 03013946        | NA    | NA | NA |   NA |\n",
       "| 370000089094501 | NA    | NA | NA |   NA |\n",
       "\n"
      ],
      "text/plain": [
       "    site_no         parameter_cd start_date end_date   record_count\n",
       "1   03170500        NA           <NA>       <NA>         NA        \n",
       "2   0317154954      NA           <NA>       <NA>         NA        \n",
       "3   0317159760      NA           <NA>       <NA>         NA        \n",
       "4   03178150        NA           <NA>       <NA>         NA        \n",
       "5   03178179        NA           <NA>       <NA>         NA        \n",
       "6   03178000        00060        1997-02-14 1998-08-19  551        \n",
       "7   03178120        NA           <NA>       <NA>         NA        \n",
       "8   03179800        NA           <NA>       <NA>         NA        \n",
       "9   03184500        00060        1996-10-01 2003-09-30 2555        \n",
       "10  0318989690      NA           <NA>       <NA>         NA        \n",
       "11  03189863        NA           <NA>       <NA>         NA        \n",
       "12  03182888        NA           <NA>       <NA>         NA        \n",
       "13  03182970        NA           <NA>       <NA>         NA        \n",
       "14  03182890        NA           <NA>       <NA>         NA        \n",
       "15  03182900        NA           <NA>       <NA>         NA        \n",
       "16  03182600        NA           <NA>       <NA>         NA        \n",
       "17  03182050        NA           <NA>       <NA>         NA        \n",
       "18  03180900        NA           <NA>       <NA>         NA        \n",
       "19  03049925        NA           <NA>       <NA>         NA        \n",
       "20  03049930        NA           <NA>       <NA>         NA        \n",
       "21  380649081083301 NA           <NA>       <NA>         NA        \n",
       "22  0319382976      NA           <NA>       <NA>         NA        \n",
       "23  03197939        NA           <NA>       <NA>         NA        \n",
       "24  03197910        NA           <NA>       <NA>         NA        \n",
       "25  03189600        00060        1996-10-01 2003-09-30 2555        \n",
       "26  03187000        NA           <NA>       <NA>         NA        \n",
       "27  03196500        NA           <NA>       <NA>         NA        \n",
       "28  03197445        NA           <NA>       <NA>         NA        \n",
       "29  03159750        NA           <NA>       <NA>         NA        \n",
       "30  03155588        NA           <NA>       <NA>         NA        \n",
       "<U+22EE>   <U+22EE>        <U+22EE>     <U+22EE>   <U+22EE>   <U+22EE>    \n",
       "331 03353240        NA           <NA>       <NA>         NA        \n",
       "332 03351700        NA           <NA>       <NA>         NA        \n",
       "333 03350400        NA           <NA>       <NA>         NA        \n",
       "334 03348502        NA           <NA>       <NA>         NA        \n",
       "335 03347598        NA           <NA>       <NA>         NA        \n",
       "336 03338780        00060        1988-11-03 2010-09-30 8001        \n",
       "337 03338780        00060        2007-10-01 2014-11-12 2599        \n",
       "338 03335680        NA           <NA>       <NA>         NA        \n",
       "339 03329500        NA           <NA>       <NA>         NA        \n",
       "340 03326950        NA           <NA>       <NA>         NA        \n",
       "341 403204084342601 NA           <NA>       <NA>         NA        \n",
       "342 03327000        NA           <NA>       <NA>         NA        \n",
       "343 03327528        NA           <NA>       <NA>         NA        \n",
       "344 03324450        NA           <NA>       <NA>         NA        \n",
       "345 03324500        NA           <NA>       <NA>         NA        \n",
       "346 03323090        NA           <NA>       <NA>         NA        \n",
       "347 03343350        NA           <NA>       <NA>         NA        \n",
       "348 03336998        NA           <NA>       <NA>         NA        \n",
       "349 03323450        NA           <NA>       <NA>         NA        \n",
       "350 03323500        NA           <NA>       <NA>         NA        \n",
       "351 03331040        NA           <NA>       <NA>         NA        \n",
       "352 03331440        NA           <NA>       <NA>         NA        \n",
       "353 03260500        NA           <NA>       <NA>         NA        \n",
       "354 03012520        NA           <NA>       <NA>         NA        \n",
       "355 03010955        NA           <NA>       <NA>         NA        \n",
       "356 03010720        NA           <NA>       <NA>         NA        \n",
       "357 03010674        NA           <NA>       <NA>         NA        \n",
       "358 03011500        NA           <NA>       <NA>         NA        \n",
       "359 03013946        NA           <NA>       <NA>         NA        \n",
       "360 370000089094501 NA           <NA>       <NA>         NA        "
      ]
     },
     "metadata": {},
     "output_type": "display_data"
    }
   ],
   "source": [
    "# Get coverage for all downloaded sites\n",
    "site_numbers <- failed_downloads_stid\n",
    "parameter_cd <- \"00060\"\n",
    "coverage_data_all_failed_sites <- get_usgs_coverage(site_numbers, parameter_cd = parameter_cd, service = \"uv\") %>% \n",
    "  clean_usgs_coverage(parameter_cd = parameter_cd, site_numbers = site_numbers)\n",
    "coverage_data_all_failed_sites"
   ]
  },
  {
   "cell_type": "markdown",
   "id": "47b17e77",
   "metadata": {},
   "source": [
    "As seen from table above, the most of failed stations have no info data available. Next, is checked the period coverage for sites with avialable info. "
   ]
  },
  {
   "cell_type": "code",
   "execution_count": 41,
   "id": "bbeee54b",
   "metadata": {
    "vscode": {
     "languageId": "r"
    }
   },
   "outputs": [
    {
     "data": {
      "text/html": [
       "<table class=\"dataframe\">\n",
       "<caption>A data.frame: 55 × 5</caption>\n",
       "<thead>\n",
       "\t<tr><th scope=col>site_no</th><th scope=col>parameter_cd</th><th scope=col>start_date</th><th scope=col>end_date</th><th scope=col>record_count</th></tr>\n",
       "\t<tr><th scope=col>&lt;chr&gt;</th><th scope=col>&lt;chr&gt;</th><th scope=col>&lt;date&gt;</th><th scope=col>&lt;date&gt;</th><th scope=col>&lt;int&gt;</th></tr>\n",
       "</thead>\n",
       "<tbody>\n",
       "\t<tr><td>03084800</td><td>00060</td><td>2024-10-01</td><td>2025-05-11</td><td> 222</td></tr>\n",
       "\t<tr><td>03085213</td><td>00060</td><td>2025-01-11</td><td>2025-05-11</td><td> 120</td></tr>\n",
       "\t<tr><td>03049819</td><td>00060</td><td>2025-01-11</td><td>2025-05-11</td><td> 120</td></tr>\n",
       "\t<tr><td>03049807</td><td>00060</td><td>2024-10-01</td><td>2025-05-11</td><td> 222</td></tr>\n",
       "\t<tr><td>03084698</td><td>00060</td><td>2007-10-01</td><td>2025-05-11</td><td>6432</td></tr>\n",
       "\t<tr><td>03085947</td><td>00060</td><td>2007-10-01</td><td>2025-05-11</td><td>6432</td></tr>\n",
       "\t<tr><td>03092090</td><td>00060</td><td>2022-10-01</td><td>2025-05-11</td><td> 953</td></tr>\n",
       "\t<tr><td>03229000</td><td>00060</td><td>2024-08-10</td><td>2025-05-11</td><td> 274</td></tr>\n",
       "\t<tr><td>03338780</td><td>00060</td><td>2007-10-01</td><td>2014-11-12</td><td>2599</td></tr>\n",
       "\t<tr><td>03432100</td><td>00060</td><td>2007-10-01</td><td>2012-09-30</td><td>1826</td></tr>\n",
       "\t<tr><td>03146405</td><td>00060</td><td>2007-10-13</td><td>2010-09-30</td><td>1083</td></tr>\n",
       "\t<tr><td>03338780</td><td>00060</td><td>1988-11-03</td><td>2010-09-30</td><td>8001</td></tr>\n",
       "\t<tr><td>03146277</td><td>00060</td><td>2007-10-06</td><td>2009-09-30</td><td> 725</td></tr>\n",
       "\t<tr><td>03249500</td><td>00060</td><td>1987-10-01</td><td>2009-09-26</td><td>8031</td></tr>\n",
       "\t<tr><td>03146405</td><td>00060</td><td>2007-10-13</td><td>2009-09-18</td><td> 706</td></tr>\n",
       "\t<tr><td>03084800</td><td>00060</td><td>2004-05-13</td><td>2008-09-30</td><td>1601</td></tr>\n",
       "\t<tr><td>03085213</td><td>00060</td><td>2004-05-01</td><td>2008-09-30</td><td>1613</td></tr>\n",
       "\t<tr><td>03049819</td><td>00060</td><td>2006-06-13</td><td>2008-09-30</td><td> 840</td></tr>\n",
       "\t<tr><td>03049807</td><td>00060</td><td>2006-06-13</td><td>2008-09-30</td><td> 840</td></tr>\n",
       "\t<tr><td>03084698</td><td>00060</td><td>2004-08-09</td><td>2008-09-30</td><td>1513</td></tr>\n",
       "\t<tr><td>03085947</td><td>00060</td><td>2006-06-07</td><td>2008-09-30</td><td> 846</td></tr>\n",
       "\t<tr><td>03249505</td><td>00060</td><td>2003-10-01</td><td>2006-09-30</td><td>1095</td></tr>\n",
       "\t<tr><td>03361000</td><td>00060</td><td>1987-10-01</td><td>2005-10-01</td><td>6575</td></tr>\n",
       "\t<tr><td>03403500</td><td>00060</td><td>1984-03-17</td><td>2005-09-30</td><td>7867</td></tr>\n",
       "\t<tr><td>03050500</td><td>00060</td><td>1996-10-01</td><td>2004-09-30</td><td>2921</td></tr>\n",
       "\t<tr><td>03319000</td><td>00060</td><td>1987-01-01</td><td>2004-09-30</td><td>6482</td></tr>\n",
       "\t<tr><td>03085000</td><td>00060</td><td>1988-10-05</td><td>2004-03-29</td><td>5654</td></tr>\n",
       "\t<tr><td>03357500</td><td>00060</td><td>1988-10-01</td><td>2004-01-22</td><td>5591</td></tr>\n",
       "\t<tr><td>03184500</td><td>00060</td><td>1996-10-01</td><td>2003-09-30</td><td>2555</td></tr>\n",
       "\t<tr><td>03189600</td><td>00060</td><td>1996-10-01</td><td>2003-09-30</td><td>2555</td></tr>\n",
       "\t<tr><td>03098700</td><td>00060</td><td>1999-04-01</td><td>2000-09-30</td><td> 548</td></tr>\n",
       "\t<tr><td>03229000</td><td>00060</td><td>1990-10-01</td><td>1998-09-30</td><td>2921</td></tr>\n",
       "\t<tr><td>03223000</td><td>00060</td><td>1990-10-01</td><td>1998-09-30</td><td>2921</td></tr>\n",
       "\t<tr><td>03178000</td><td>00060</td><td>1997-02-14</td><td>1998-08-19</td><td> 551</td></tr>\n",
       "\t<tr><td>03230900</td><td>00060</td><td>1990-10-01</td><td>1997-09-30</td><td>2556</td></tr>\n",
       "\t<tr><td>03313000</td><td>00060</td><td>1987-03-06</td><td>1994-09-30</td><td>2765</td></tr>\n",
       "\t<tr><td>03306000</td><td>00060</td><td>1986-10-10</td><td>1994-09-30</td><td>2912</td></tr>\n",
       "\t<tr><td>03102950</td><td>00060</td><td>1990-10-01</td><td>1994-09-30</td><td>1460</td></tr>\n",
       "\t<tr><td>03092090</td><td>00060</td><td>1988-11-03</td><td>1993-09-30</td><td>1792</td></tr>\n",
       "\t<tr><td>03021410</td><td>00060</td><td>1991-10-01</td><td>1993-09-30</td><td> 730</td></tr>\n",
       "\t<tr><td>03135000</td><td>00060</td><td>1990-10-01</td><td>1993-09-30</td><td>1095</td></tr>\n",
       "\t<tr><td>03086500</td><td>00060</td><td>1990-10-01</td><td>1993-09-04</td><td>1069</td></tr>\n",
       "\t<tr><td>03315500</td><td>00060</td><td>1987-10-01</td><td>1992-09-30</td><td>1826</td></tr>\n",
       "\t<tr><td>03417500</td><td>00060</td><td>1987-10-05</td><td>1991-09-30</td><td>1456</td></tr>\n",
       "\t<tr><td>03232470</td><td>00060</td><td>1988-10-05</td><td>1991-09-30</td><td>1090</td></tr>\n",
       "\t<tr><td>03255500</td><td>00060</td><td>1990-10-01</td><td>1991-09-30</td><td> 364</td></tr>\n",
       "\t<tr><td>03231000</td><td>00060</td><td>1990-10-01</td><td>1991-09-30</td><td> 364</td></tr>\n",
       "\t<tr><td>03122500</td><td>00060</td><td>1990-10-01</td><td>1991-09-30</td><td> 364</td></tr>\n",
       "\t<tr><td>03124000</td><td>00060</td><td>1990-10-01</td><td>1991-09-30</td><td> 364</td></tr>\n",
       "\t<tr><td>03130000</td><td>00060</td><td>1990-10-01</td><td>1991-09-30</td><td> 364</td></tr>\n",
       "\t<tr><td>03147500</td><td>00060</td><td>1990-10-01</td><td>1991-09-30</td><td> 364</td></tr>\n",
       "\t<tr><td>03143500</td><td>00060</td><td>1988-10-05</td><td>1991-09-30</td><td>1090</td></tr>\n",
       "\t<tr><td>03138500</td><td>00060</td><td>1990-10-01</td><td>1991-09-30</td><td> 364</td></tr>\n",
       "\t<tr><td>03133500</td><td>00060</td><td>1990-10-01</td><td>1991-09-30</td><td> 364</td></tr>\n",
       "\t<tr><td>03131500</td><td>00060</td><td>1988-10-05</td><td>1991-09-30</td><td>1090</td></tr>\n",
       "</tbody>\n",
       "</table>\n"
      ],
      "text/latex": [
       "A data.frame: 55 × 5\n",
       "\\begin{tabular}{lllll}\n",
       " site\\_no & parameter\\_cd & start\\_date & end\\_date & record\\_count\\\\\n",
       " <chr> & <chr> & <date> & <date> & <int>\\\\\n",
       "\\hline\n",
       "\t 03084800 & 00060 & 2024-10-01 & 2025-05-11 &  222\\\\\n",
       "\t 03085213 & 00060 & 2025-01-11 & 2025-05-11 &  120\\\\\n",
       "\t 03049819 & 00060 & 2025-01-11 & 2025-05-11 &  120\\\\\n",
       "\t 03049807 & 00060 & 2024-10-01 & 2025-05-11 &  222\\\\\n",
       "\t 03084698 & 00060 & 2007-10-01 & 2025-05-11 & 6432\\\\\n",
       "\t 03085947 & 00060 & 2007-10-01 & 2025-05-11 & 6432\\\\\n",
       "\t 03092090 & 00060 & 2022-10-01 & 2025-05-11 &  953\\\\\n",
       "\t 03229000 & 00060 & 2024-08-10 & 2025-05-11 &  274\\\\\n",
       "\t 03338780 & 00060 & 2007-10-01 & 2014-11-12 & 2599\\\\\n",
       "\t 03432100 & 00060 & 2007-10-01 & 2012-09-30 & 1826\\\\\n",
       "\t 03146405 & 00060 & 2007-10-13 & 2010-09-30 & 1083\\\\\n",
       "\t 03338780 & 00060 & 1988-11-03 & 2010-09-30 & 8001\\\\\n",
       "\t 03146277 & 00060 & 2007-10-06 & 2009-09-30 &  725\\\\\n",
       "\t 03249500 & 00060 & 1987-10-01 & 2009-09-26 & 8031\\\\\n",
       "\t 03146405 & 00060 & 2007-10-13 & 2009-09-18 &  706\\\\\n",
       "\t 03084800 & 00060 & 2004-05-13 & 2008-09-30 & 1601\\\\\n",
       "\t 03085213 & 00060 & 2004-05-01 & 2008-09-30 & 1613\\\\\n",
       "\t 03049819 & 00060 & 2006-06-13 & 2008-09-30 &  840\\\\\n",
       "\t 03049807 & 00060 & 2006-06-13 & 2008-09-30 &  840\\\\\n",
       "\t 03084698 & 00060 & 2004-08-09 & 2008-09-30 & 1513\\\\\n",
       "\t 03085947 & 00060 & 2006-06-07 & 2008-09-30 &  846\\\\\n",
       "\t 03249505 & 00060 & 2003-10-01 & 2006-09-30 & 1095\\\\\n",
       "\t 03361000 & 00060 & 1987-10-01 & 2005-10-01 & 6575\\\\\n",
       "\t 03403500 & 00060 & 1984-03-17 & 2005-09-30 & 7867\\\\\n",
       "\t 03050500 & 00060 & 1996-10-01 & 2004-09-30 & 2921\\\\\n",
       "\t 03319000 & 00060 & 1987-01-01 & 2004-09-30 & 6482\\\\\n",
       "\t 03085000 & 00060 & 1988-10-05 & 2004-03-29 & 5654\\\\\n",
       "\t 03357500 & 00060 & 1988-10-01 & 2004-01-22 & 5591\\\\\n",
       "\t 03184500 & 00060 & 1996-10-01 & 2003-09-30 & 2555\\\\\n",
       "\t 03189600 & 00060 & 1996-10-01 & 2003-09-30 & 2555\\\\\n",
       "\t 03098700 & 00060 & 1999-04-01 & 2000-09-30 &  548\\\\\n",
       "\t 03229000 & 00060 & 1990-10-01 & 1998-09-30 & 2921\\\\\n",
       "\t 03223000 & 00060 & 1990-10-01 & 1998-09-30 & 2921\\\\\n",
       "\t 03178000 & 00060 & 1997-02-14 & 1998-08-19 &  551\\\\\n",
       "\t 03230900 & 00060 & 1990-10-01 & 1997-09-30 & 2556\\\\\n",
       "\t 03313000 & 00060 & 1987-03-06 & 1994-09-30 & 2765\\\\\n",
       "\t 03306000 & 00060 & 1986-10-10 & 1994-09-30 & 2912\\\\\n",
       "\t 03102950 & 00060 & 1990-10-01 & 1994-09-30 & 1460\\\\\n",
       "\t 03092090 & 00060 & 1988-11-03 & 1993-09-30 & 1792\\\\\n",
       "\t 03021410 & 00060 & 1991-10-01 & 1993-09-30 &  730\\\\\n",
       "\t 03135000 & 00060 & 1990-10-01 & 1993-09-30 & 1095\\\\\n",
       "\t 03086500 & 00060 & 1990-10-01 & 1993-09-04 & 1069\\\\\n",
       "\t 03315500 & 00060 & 1987-10-01 & 1992-09-30 & 1826\\\\\n",
       "\t 03417500 & 00060 & 1987-10-05 & 1991-09-30 & 1456\\\\\n",
       "\t 03232470 & 00060 & 1988-10-05 & 1991-09-30 & 1090\\\\\n",
       "\t 03255500 & 00060 & 1990-10-01 & 1991-09-30 &  364\\\\\n",
       "\t 03231000 & 00060 & 1990-10-01 & 1991-09-30 &  364\\\\\n",
       "\t 03122500 & 00060 & 1990-10-01 & 1991-09-30 &  364\\\\\n",
       "\t 03124000 & 00060 & 1990-10-01 & 1991-09-30 &  364\\\\\n",
       "\t 03130000 & 00060 & 1990-10-01 & 1991-09-30 &  364\\\\\n",
       "\t 03147500 & 00060 & 1990-10-01 & 1991-09-30 &  364\\\\\n",
       "\t 03143500 & 00060 & 1988-10-05 & 1991-09-30 & 1090\\\\\n",
       "\t 03138500 & 00060 & 1990-10-01 & 1991-09-30 &  364\\\\\n",
       "\t 03133500 & 00060 & 1990-10-01 & 1991-09-30 &  364\\\\\n",
       "\t 03131500 & 00060 & 1988-10-05 & 1991-09-30 & 1090\\\\\n",
       "\\end{tabular}\n"
      ],
      "text/markdown": [
       "\n",
       "A data.frame: 55 × 5\n",
       "\n",
       "| site_no &lt;chr&gt; | parameter_cd &lt;chr&gt; | start_date &lt;date&gt; | end_date &lt;date&gt; | record_count &lt;int&gt; |\n",
       "|---|---|---|---|---|\n",
       "| 03084800 | 00060 | 2024-10-01 | 2025-05-11 |  222 |\n",
       "| 03085213 | 00060 | 2025-01-11 | 2025-05-11 |  120 |\n",
       "| 03049819 | 00060 | 2025-01-11 | 2025-05-11 |  120 |\n",
       "| 03049807 | 00060 | 2024-10-01 | 2025-05-11 |  222 |\n",
       "| 03084698 | 00060 | 2007-10-01 | 2025-05-11 | 6432 |\n",
       "| 03085947 | 00060 | 2007-10-01 | 2025-05-11 | 6432 |\n",
       "| 03092090 | 00060 | 2022-10-01 | 2025-05-11 |  953 |\n",
       "| 03229000 | 00060 | 2024-08-10 | 2025-05-11 |  274 |\n",
       "| 03338780 | 00060 | 2007-10-01 | 2014-11-12 | 2599 |\n",
       "| 03432100 | 00060 | 2007-10-01 | 2012-09-30 | 1826 |\n",
       "| 03146405 | 00060 | 2007-10-13 | 2010-09-30 | 1083 |\n",
       "| 03338780 | 00060 | 1988-11-03 | 2010-09-30 | 8001 |\n",
       "| 03146277 | 00060 | 2007-10-06 | 2009-09-30 |  725 |\n",
       "| 03249500 | 00060 | 1987-10-01 | 2009-09-26 | 8031 |\n",
       "| 03146405 | 00060 | 2007-10-13 | 2009-09-18 |  706 |\n",
       "| 03084800 | 00060 | 2004-05-13 | 2008-09-30 | 1601 |\n",
       "| 03085213 | 00060 | 2004-05-01 | 2008-09-30 | 1613 |\n",
       "| 03049819 | 00060 | 2006-06-13 | 2008-09-30 |  840 |\n",
       "| 03049807 | 00060 | 2006-06-13 | 2008-09-30 |  840 |\n",
       "| 03084698 | 00060 | 2004-08-09 | 2008-09-30 | 1513 |\n",
       "| 03085947 | 00060 | 2006-06-07 | 2008-09-30 |  846 |\n",
       "| 03249505 | 00060 | 2003-10-01 | 2006-09-30 | 1095 |\n",
       "| 03361000 | 00060 | 1987-10-01 | 2005-10-01 | 6575 |\n",
       "| 03403500 | 00060 | 1984-03-17 | 2005-09-30 | 7867 |\n",
       "| 03050500 | 00060 | 1996-10-01 | 2004-09-30 | 2921 |\n",
       "| 03319000 | 00060 | 1987-01-01 | 2004-09-30 | 6482 |\n",
       "| 03085000 | 00060 | 1988-10-05 | 2004-03-29 | 5654 |\n",
       "| 03357500 | 00060 | 1988-10-01 | 2004-01-22 | 5591 |\n",
       "| 03184500 | 00060 | 1996-10-01 | 2003-09-30 | 2555 |\n",
       "| 03189600 | 00060 | 1996-10-01 | 2003-09-30 | 2555 |\n",
       "| 03098700 | 00060 | 1999-04-01 | 2000-09-30 |  548 |\n",
       "| 03229000 | 00060 | 1990-10-01 | 1998-09-30 | 2921 |\n",
       "| 03223000 | 00060 | 1990-10-01 | 1998-09-30 | 2921 |\n",
       "| 03178000 | 00060 | 1997-02-14 | 1998-08-19 |  551 |\n",
       "| 03230900 | 00060 | 1990-10-01 | 1997-09-30 | 2556 |\n",
       "| 03313000 | 00060 | 1987-03-06 | 1994-09-30 | 2765 |\n",
       "| 03306000 | 00060 | 1986-10-10 | 1994-09-30 | 2912 |\n",
       "| 03102950 | 00060 | 1990-10-01 | 1994-09-30 | 1460 |\n",
       "| 03092090 | 00060 | 1988-11-03 | 1993-09-30 | 1792 |\n",
       "| 03021410 | 00060 | 1991-10-01 | 1993-09-30 |  730 |\n",
       "| 03135000 | 00060 | 1990-10-01 | 1993-09-30 | 1095 |\n",
       "| 03086500 | 00060 | 1990-10-01 | 1993-09-04 | 1069 |\n",
       "| 03315500 | 00060 | 1987-10-01 | 1992-09-30 | 1826 |\n",
       "| 03417500 | 00060 | 1987-10-05 | 1991-09-30 | 1456 |\n",
       "| 03232470 | 00060 | 1988-10-05 | 1991-09-30 | 1090 |\n",
       "| 03255500 | 00060 | 1990-10-01 | 1991-09-30 |  364 |\n",
       "| 03231000 | 00060 | 1990-10-01 | 1991-09-30 |  364 |\n",
       "| 03122500 | 00060 | 1990-10-01 | 1991-09-30 |  364 |\n",
       "| 03124000 | 00060 | 1990-10-01 | 1991-09-30 |  364 |\n",
       "| 03130000 | 00060 | 1990-10-01 | 1991-09-30 |  364 |\n",
       "| 03147500 | 00060 | 1990-10-01 | 1991-09-30 |  364 |\n",
       "| 03143500 | 00060 | 1988-10-05 | 1991-09-30 | 1090 |\n",
       "| 03138500 | 00060 | 1990-10-01 | 1991-09-30 |  364 |\n",
       "| 03133500 | 00060 | 1990-10-01 | 1991-09-30 |  364 |\n",
       "| 03131500 | 00060 | 1988-10-05 | 1991-09-30 | 1090 |\n",
       "\n"
      ],
      "text/plain": [
       "   site_no  parameter_cd start_date end_date   record_count\n",
       "1  03084800 00060        2024-10-01 2025-05-11  222        \n",
       "2  03085213 00060        2025-01-11 2025-05-11  120        \n",
       "3  03049819 00060        2025-01-11 2025-05-11  120        \n",
       "4  03049807 00060        2024-10-01 2025-05-11  222        \n",
       "5  03084698 00060        2007-10-01 2025-05-11 6432        \n",
       "6  03085947 00060        2007-10-01 2025-05-11 6432        \n",
       "7  03092090 00060        2022-10-01 2025-05-11  953        \n",
       "8  03229000 00060        2024-08-10 2025-05-11  274        \n",
       "9  03338780 00060        2007-10-01 2014-11-12 2599        \n",
       "10 03432100 00060        2007-10-01 2012-09-30 1826        \n",
       "11 03146405 00060        2007-10-13 2010-09-30 1083        \n",
       "12 03338780 00060        1988-11-03 2010-09-30 8001        \n",
       "13 03146277 00060        2007-10-06 2009-09-30  725        \n",
       "14 03249500 00060        1987-10-01 2009-09-26 8031        \n",
       "15 03146405 00060        2007-10-13 2009-09-18  706        \n",
       "16 03084800 00060        2004-05-13 2008-09-30 1601        \n",
       "17 03085213 00060        2004-05-01 2008-09-30 1613        \n",
       "18 03049819 00060        2006-06-13 2008-09-30  840        \n",
       "19 03049807 00060        2006-06-13 2008-09-30  840        \n",
       "20 03084698 00060        2004-08-09 2008-09-30 1513        \n",
       "21 03085947 00060        2006-06-07 2008-09-30  846        \n",
       "22 03249505 00060        2003-10-01 2006-09-30 1095        \n",
       "23 03361000 00060        1987-10-01 2005-10-01 6575        \n",
       "24 03403500 00060        1984-03-17 2005-09-30 7867        \n",
       "25 03050500 00060        1996-10-01 2004-09-30 2921        \n",
       "26 03319000 00060        1987-01-01 2004-09-30 6482        \n",
       "27 03085000 00060        1988-10-05 2004-03-29 5654        \n",
       "28 03357500 00060        1988-10-01 2004-01-22 5591        \n",
       "29 03184500 00060        1996-10-01 2003-09-30 2555        \n",
       "30 03189600 00060        1996-10-01 2003-09-30 2555        \n",
       "31 03098700 00060        1999-04-01 2000-09-30  548        \n",
       "32 03229000 00060        1990-10-01 1998-09-30 2921        \n",
       "33 03223000 00060        1990-10-01 1998-09-30 2921        \n",
       "34 03178000 00060        1997-02-14 1998-08-19  551        \n",
       "35 03230900 00060        1990-10-01 1997-09-30 2556        \n",
       "36 03313000 00060        1987-03-06 1994-09-30 2765        \n",
       "37 03306000 00060        1986-10-10 1994-09-30 2912        \n",
       "38 03102950 00060        1990-10-01 1994-09-30 1460        \n",
       "39 03092090 00060        1988-11-03 1993-09-30 1792        \n",
       "40 03021410 00060        1991-10-01 1993-09-30  730        \n",
       "41 03135000 00060        1990-10-01 1993-09-30 1095        \n",
       "42 03086500 00060        1990-10-01 1993-09-04 1069        \n",
       "43 03315500 00060        1987-10-01 1992-09-30 1826        \n",
       "44 03417500 00060        1987-10-05 1991-09-30 1456        \n",
       "45 03232470 00060        1988-10-05 1991-09-30 1090        \n",
       "46 03255500 00060        1990-10-01 1991-09-30  364        \n",
       "47 03231000 00060        1990-10-01 1991-09-30  364        \n",
       "48 03122500 00060        1990-10-01 1991-09-30  364        \n",
       "49 03124000 00060        1990-10-01 1991-09-30  364        \n",
       "50 03130000 00060        1990-10-01 1991-09-30  364        \n",
       "51 03147500 00060        1990-10-01 1991-09-30  364        \n",
       "52 03143500 00060        1988-10-05 1991-09-30 1090        \n",
       "53 03138500 00060        1990-10-01 1991-09-30  364        \n",
       "54 03133500 00060        1990-10-01 1991-09-30  364        \n",
       "55 03131500 00060        1988-10-05 1991-09-30 1090        "
      ]
     },
     "metadata": {},
     "output_type": "display_data"
    }
   ],
   "source": [
    "coverage_data_all_failed_sites %>% filter(!is.na(end_date)) %>% arrange(desc(end_date))"
   ]
  },
  {
   "cell_type": "markdown",
   "id": "ff9b8872",
   "metadata": {},
   "source": [
    "There are 55 failed sites that actually have data available. Next is selected only the failed sites with data avialable in the coverage period (2014 - 2025), and attempt to download again data for those sites. "
   ]
  },
  {
   "cell_type": "code",
   "execution_count": 42,
   "id": "3c2b5ad2",
   "metadata": {
    "vscode": {
     "languageId": "r"
    }
   },
   "outputs": [
    {
     "data": {
      "text/html": [
       "<table class=\"dataframe\">\n",
       "<caption>A data.frame: 9 × 5</caption>\n",
       "<thead>\n",
       "\t<tr><th scope=col>site_no</th><th scope=col>parameter_cd</th><th scope=col>start_date</th><th scope=col>end_date</th><th scope=col>record_count</th></tr>\n",
       "\t<tr><th scope=col>&lt;chr&gt;</th><th scope=col>&lt;chr&gt;</th><th scope=col>&lt;date&gt;</th><th scope=col>&lt;date&gt;</th><th scope=col>&lt;int&gt;</th></tr>\n",
       "</thead>\n",
       "<tbody>\n",
       "\t<tr><td>03084800</td><td>00060</td><td>2024-10-01</td><td>2025-05-11</td><td> 222</td></tr>\n",
       "\t<tr><td>03085213</td><td>00060</td><td>2025-01-11</td><td>2025-05-11</td><td> 120</td></tr>\n",
       "\t<tr><td>03049819</td><td>00060</td><td>2025-01-11</td><td>2025-05-11</td><td> 120</td></tr>\n",
       "\t<tr><td>03049807</td><td>00060</td><td>2024-10-01</td><td>2025-05-11</td><td> 222</td></tr>\n",
       "\t<tr><td>03084698</td><td>00060</td><td>2007-10-01</td><td>2025-05-11</td><td>6432</td></tr>\n",
       "\t<tr><td>03085947</td><td>00060</td><td>2007-10-01</td><td>2025-05-11</td><td>6432</td></tr>\n",
       "\t<tr><td>03092090</td><td>00060</td><td>2022-10-01</td><td>2025-05-11</td><td> 953</td></tr>\n",
       "\t<tr><td>03229000</td><td>00060</td><td>2024-08-10</td><td>2025-05-11</td><td> 274</td></tr>\n",
       "\t<tr><td>03338780</td><td>00060</td><td>2007-10-01</td><td>2014-11-12</td><td>2599</td></tr>\n",
       "</tbody>\n",
       "</table>\n"
      ],
      "text/latex": [
       "A data.frame: 9 × 5\n",
       "\\begin{tabular}{lllll}\n",
       " site\\_no & parameter\\_cd & start\\_date & end\\_date & record\\_count\\\\\n",
       " <chr> & <chr> & <date> & <date> & <int>\\\\\n",
       "\\hline\n",
       "\t 03084800 & 00060 & 2024-10-01 & 2025-05-11 &  222\\\\\n",
       "\t 03085213 & 00060 & 2025-01-11 & 2025-05-11 &  120\\\\\n",
       "\t 03049819 & 00060 & 2025-01-11 & 2025-05-11 &  120\\\\\n",
       "\t 03049807 & 00060 & 2024-10-01 & 2025-05-11 &  222\\\\\n",
       "\t 03084698 & 00060 & 2007-10-01 & 2025-05-11 & 6432\\\\\n",
       "\t 03085947 & 00060 & 2007-10-01 & 2025-05-11 & 6432\\\\\n",
       "\t 03092090 & 00060 & 2022-10-01 & 2025-05-11 &  953\\\\\n",
       "\t 03229000 & 00060 & 2024-08-10 & 2025-05-11 &  274\\\\\n",
       "\t 03338780 & 00060 & 2007-10-01 & 2014-11-12 & 2599\\\\\n",
       "\\end{tabular}\n"
      ],
      "text/markdown": [
       "\n",
       "A data.frame: 9 × 5\n",
       "\n",
       "| site_no &lt;chr&gt; | parameter_cd &lt;chr&gt; | start_date &lt;date&gt; | end_date &lt;date&gt; | record_count &lt;int&gt; |\n",
       "|---|---|---|---|---|\n",
       "| 03084800 | 00060 | 2024-10-01 | 2025-05-11 |  222 |\n",
       "| 03085213 | 00060 | 2025-01-11 | 2025-05-11 |  120 |\n",
       "| 03049819 | 00060 | 2025-01-11 | 2025-05-11 |  120 |\n",
       "| 03049807 | 00060 | 2024-10-01 | 2025-05-11 |  222 |\n",
       "| 03084698 | 00060 | 2007-10-01 | 2025-05-11 | 6432 |\n",
       "| 03085947 | 00060 | 2007-10-01 | 2025-05-11 | 6432 |\n",
       "| 03092090 | 00060 | 2022-10-01 | 2025-05-11 |  953 |\n",
       "| 03229000 | 00060 | 2024-08-10 | 2025-05-11 |  274 |\n",
       "| 03338780 | 00060 | 2007-10-01 | 2014-11-12 | 2599 |\n",
       "\n"
      ],
      "text/plain": [
       "  site_no  parameter_cd start_date end_date   record_count\n",
       "1 03084800 00060        2024-10-01 2025-05-11  222        \n",
       "2 03085213 00060        2025-01-11 2025-05-11  120        \n",
       "3 03049819 00060        2025-01-11 2025-05-11  120        \n",
       "4 03049807 00060        2024-10-01 2025-05-11  222        \n",
       "5 03084698 00060        2007-10-01 2025-05-11 6432        \n",
       "6 03085947 00060        2007-10-01 2025-05-11 6432        \n",
       "7 03092090 00060        2022-10-01 2025-05-11  953        \n",
       "8 03229000 00060        2024-08-10 2025-05-11  274        \n",
       "9 03338780 00060        2007-10-01 2014-11-12 2599        "
      ]
     },
     "metadata": {},
     "output_type": "display_data"
    }
   ],
   "source": [
    "coverage_data_sites_within_period_of_study <-  coverage_data_all_failed_sites %>%\n",
    " filter(!is.na(end_date) & !is.na(start_date)) %>%\n",
    " filter(end_date >= as.Date(\"2014-01-01\")) %>%\n",
    " arrange(desc(end_date))\n",
    "coverage_data_sites_within_period_of_study"
   ]
  },
  {
   "cell_type": "markdown",
   "id": "6bc45955",
   "metadata": {},
   "source": [
    "From the above, its seen there are 9 sites within the period of study. The `record_count` column however, seems to be quite small for the instateneous data (15 minute measurement). Next, is downloaded data for the stations shown in table above. "
   ]
  },
  {
   "cell_type": "code",
   "execution_count": 49,
   "id": "0d80c5e4",
   "metadata": {
    "vscode": {
     "languageId": "r"
    }
   },
   "outputs": [
    {
     "data": {
      "text/html": [
       "'1/9 - Downloading data for site 03084800'"
      ],
      "text/latex": [
       "'1/9 - Downloading data for site 03084800'"
      ],
      "text/markdown": [
       "'1/9 - Downloading data for site 03084800'"
      ],
      "text/plain": [
       "[1] \"1/9 - Downloading data for site 03084800\""
      ]
     },
     "metadata": {
      "display_id": "status",
      "update": true
     },
     "output_type": "display_data"
    },
    {
     "name": "stderr",
     "output_type": "stream",
     "text": [
      "GET: https://nwis.waterservices.usgs.gov/nwis/iv/?site=03084800&format=waterml,1.1&ParameterCd=00060&startDT=2024-10-01&endDT=2025-05-11\n",
      "\n",
      "Warning message in value[[3L]](cond):\n",
      "\"Error downloading data for site 03084800 : \"\n"
     ]
    },
    {
     "data": {
      "text/html": [
       "'2/9 - Downloading data for site 03085213'"
      ],
      "text/latex": [
       "'2/9 - Downloading data for site 03085213'"
      ],
      "text/markdown": [
       "'2/9 - Downloading data for site 03085213'"
      ],
      "text/plain": [
       "[1] \"2/9 - Downloading data for site 03085213\""
      ]
     },
     "metadata": {
      "display_id": "status",
      "update": true
     },
     "output_type": "display_data"
    },
    {
     "name": "stderr",
     "output_type": "stream",
     "text": [
      "GET: https://nwis.waterservices.usgs.gov/nwis/iv/?site=03085213&format=waterml,1.1&ParameterCd=00060&startDT=2025-01-11&endDT=2025-05-11\n",
      "\n",
      "Warning message in value[[3L]](cond):\n",
      "\"Error downloading data for site 03085213 : \"\n"
     ]
    },
    {
     "data": {
      "text/html": [
       "'3/9 - Downloading data for site 03049819'"
      ],
      "text/latex": [
       "'3/9 - Downloading data for site 03049819'"
      ],
      "text/markdown": [
       "'3/9 - Downloading data for site 03049819'"
      ],
      "text/plain": [
       "[1] \"3/9 - Downloading data for site 03049819\""
      ]
     },
     "metadata": {
      "display_id": "status",
      "update": true
     },
     "output_type": "display_data"
    },
    {
     "name": "stderr",
     "output_type": "stream",
     "text": [
      "GET: https://nwis.waterservices.usgs.gov/nwis/iv/?site=03049819&format=waterml,1.1&ParameterCd=00060&startDT=2025-01-11&endDT=2025-05-11\n",
      "\n",
      "Warning message in value[[3L]](cond):\n",
      "\"Error downloading data for site 03049819 : \"\n"
     ]
    },
    {
     "data": {
      "text/html": [
       "'4/9 - Downloading data for site 03049807'"
      ],
      "text/latex": [
       "'4/9 - Downloading data for site 03049807'"
      ],
      "text/markdown": [
       "'4/9 - Downloading data for site 03049807'"
      ],
      "text/plain": [
       "[1] \"4/9 - Downloading data for site 03049807\""
      ]
     },
     "metadata": {
      "display_id": "status",
      "update": true
     },
     "output_type": "display_data"
    },
    {
     "name": "stderr",
     "output_type": "stream",
     "text": [
      "GET: https://nwis.waterservices.usgs.gov/nwis/iv/?site=03049807&format=waterml,1.1&ParameterCd=00060&startDT=2024-10-01&endDT=2025-05-11\n",
      "\n",
      "Warning message in value[[3L]](cond):\n",
      "\"Error downloading data for site 03049807 : \"\n"
     ]
    },
    {
     "data": {
      "text/html": [
       "'5/9 - Downloading data for site 03084698'"
      ],
      "text/latex": [
       "'5/9 - Downloading data for site 03084698'"
      ],
      "text/markdown": [
       "'5/9 - Downloading data for site 03084698'"
      ],
      "text/plain": [
       "[1] \"5/9 - Downloading data for site 03084698\""
      ]
     },
     "metadata": {
      "display_id": "status",
      "update": true
     },
     "output_type": "display_data"
    },
    {
     "name": "stderr",
     "output_type": "stream",
     "text": [
      "GET: https://nwis.waterservices.usgs.gov/nwis/iv/?site=03084698&format=waterml,1.1&ParameterCd=00060&startDT=2014-01-01&endDT=2025-05-11\n",
      "\n",
      "Warning message in value[[3L]](cond):\n",
      "\"Error downloading data for site 03084698 : \"\n"
     ]
    },
    {
     "data": {
      "text/html": [
       "'6/9 - Downloading data for site 03085947'"
      ],
      "text/latex": [
       "'6/9 - Downloading data for site 03085947'"
      ],
      "text/markdown": [
       "'6/9 - Downloading data for site 03085947'"
      ],
      "text/plain": [
       "[1] \"6/9 - Downloading data for site 03085947\""
      ]
     },
     "metadata": {
      "display_id": "status",
      "update": true
     },
     "output_type": "display_data"
    },
    {
     "name": "stderr",
     "output_type": "stream",
     "text": [
      "GET: https://nwis.waterservices.usgs.gov/nwis/iv/?site=03085947&format=waterml,1.1&ParameterCd=00060&startDT=2014-01-01&endDT=2025-05-11\n",
      "\n",
      "Warning message in value[[3L]](cond):\n",
      "\"Error downloading data for site 03085947 : \"\n"
     ]
    },
    {
     "data": {
      "text/html": [
       "'7/9 - Downloading data for site 03092090'"
      ],
      "text/latex": [
       "'7/9 - Downloading data for site 03092090'"
      ],
      "text/markdown": [
       "'7/9 - Downloading data for site 03092090'"
      ],
      "text/plain": [
       "[1] \"7/9 - Downloading data for site 03092090\""
      ]
     },
     "metadata": {
      "display_id": "status",
      "update": true
     },
     "output_type": "display_data"
    },
    {
     "name": "stderr",
     "output_type": "stream",
     "text": [
      "GET: https://nwis.waterservices.usgs.gov/nwis/iv/?site=03092090&format=waterml,1.1&ParameterCd=00060&startDT=2022-10-01&endDT=2025-05-11\n",
      "\n",
      "Warning message in value[[3L]](cond):\n",
      "\"Error downloading data for site 03092090 : \"\n"
     ]
    },
    {
     "data": {
      "text/html": [
       "'8/9 - Downloading data for site 03229000'"
      ],
      "text/latex": [
       "'8/9 - Downloading data for site 03229000'"
      ],
      "text/markdown": [
       "'8/9 - Downloading data for site 03229000'"
      ],
      "text/plain": [
       "[1] \"8/9 - Downloading data for site 03229000\""
      ]
     },
     "metadata": {
      "display_id": "status",
      "update": true
     },
     "output_type": "display_data"
    },
    {
     "name": "stderr",
     "output_type": "stream",
     "text": [
      "GET: https://nwis.waterservices.usgs.gov/nwis/iv/?site=03229000&format=waterml,1.1&ParameterCd=00060&startDT=2024-08-10&endDT=2025-05-11\n",
      "\n",
      "Warning message in value[[3L]](cond):\n",
      "\"Error downloading data for site 03229000 : \"\n"
     ]
    },
    {
     "data": {
      "text/html": [
       "'9/9 - Downloading data for site 03338780'"
      ],
      "text/latex": [
       "'9/9 - Downloading data for site 03338780'"
      ],
      "text/markdown": [
       "'9/9 - Downloading data for site 03338780'"
      ],
      "text/plain": [
       "[1] \"9/9 - Downloading data for site 03338780\""
      ]
     },
     "metadata": {
      "display_id": "status",
      "update": true
     },
     "output_type": "display_data"
    },
    {
     "name": "stderr",
     "output_type": "stream",
     "text": [
      "GET: https://nwis.waterservices.usgs.gov/nwis/iv/?site=03338780&format=waterml,1.1&ParameterCd=00060&startDT=2014-01-01&endDT=2014-11-12\n",
      "\n",
      "Warning message in value[[3L]](cond):\n",
      "\"Error downloading data for site 03338780 : \"\n"
     ]
    },
    {
     "data": {
      "text/html": [
       "''"
      ],
      "text/latex": [
       "''"
      ],
      "text/markdown": [
       "''"
      ],
      "text/plain": [
       "[1] \"\""
      ]
     },
     "metadata": {
      "display_id": "status",
      "update": true
     },
     "output_type": "display_data"
    },
    {
     "name": "stderr",
     "output_type": "stream",
     "text": [
      "Download and save process completed.\n",
      "\n",
      "Check output directory: /Users/alan/Data Science Projects/ML-ModClark-IUH-Model/data/bronze/tabular/streamflow\n",
      "\n"
     ]
    },
    {
     "ename": "ERROR",
     "evalue": "Error in eval(expr, envir, enclos): objeto 'error_stations' n~ao encontrado\n",
     "output_type": "error",
     "traceback": [
      "Error in eval(expr, envir, enclos): objeto 'error_stations' n~ao encontrado\nTraceback:\n"
     ]
    }
   ],
   "source": [
    "# Define output directory\n",
    "output_dir <- \"/Users/alan/Data Science Projects/ML-ModClark-IUH-Model/data/bronze/tabular/streamflow\"\n",
    "\n",
    "count <- 0\n",
    "len <- nrow(coverage_data_sites_within_period_of_study)\n",
    "\n",
    "# Loop through each station code\n",
    "for (i in (1:len)) {\n",
    "  count <- count + 1\n",
    "  site <- coverage_data_sites_within_period_of_study$site_no[i]\n",
    "  start_date <- coverage_data_sites_within_period_of_study$start_date[i]\n",
    "  if (start_date < as.Date(\"2014-01-01\")) {\n",
    "    start_date <- \"2014-01-01\"\n",
    "  } else {\n",
    "    start_date <- as.character(start_date)\n",
    "  }\n",
    "  end_date <- as.character(coverage_data_sites_within_period_of_study$end_date[i])\n",
    "\n",
    "  # Check if file already exists\n",
    "  file_path <- file.path(output_dir, paste0(\"streamflow_\", site, \".parquet\"))\n",
    "  if (file.exists(file_path)) {\n",
    "    message(paste(\"File already exists for site\", site, \"- skipping download\"))\n",
    "    next\n",
    "  }\n",
    "\n",
    "  # Update status in notebook (overwrites previous output)\n",
    "  display(paste0(count, \"/\", len, \" - Downloading data for site \", site), display_id = \"status\", update = TRUE)\n",
    "  \n",
    "  \n",
    "  # Try downloading data with error handling\n",
    "  tryCatch({\n",
    "    streamflow_data <- download_usgs_streamflow(\n",
    "      site_numbers = site,\n",
    "      start_date = start_date,\n",
    "      end_date = end_date\n",
    "    )\n",
    "    \n",
    "    # Save the data if download was successful\n",
    "    if (!is.null(streamflow_data)) {\n",
    "      streamflow_data <- clean_streamflow_data(streamflow_data)\n",
    "    } else {\n",
    "      warning(paste(\"No data available for site\", site))\n",
    "    }\n",
    "    # Save the cleaned data\n",
    "    save_streamflow_data(streamflow_data, site, output_dir)\n",
    "    \n",
    "    # Add a delay to avoid overwhelming the USGS server\n",
    "    Sys.sleep(1)\n",
    "  }, error = function(e) {\n",
    "    warning(paste(\"Error downloading data for site\", site, \":\", e$message))\n",
    "  })\n",
    "}\n",
    "\n",
    "# Clear the status display\n",
    "display(\"\", display_id = \"status\", update = TRUE)\n",
    "\n",
    "# Summary\n",
    "message(\"Download and save process completed.\")\n",
    "message(paste(\"Check output directory:\", output_dir))\n",
    "if (length(error_stations) > 0) {\n",
    "  message(\"Stations with errors: \", paste(error_stations, collapse = \", \"))\n",
    "  message(\"Error messages: \", paste(error_messages, collapse = \"; \"))\n",
    "}"
   ]
  },
  {
   "cell_type": "markdown",
   "id": "315c11ff",
   "metadata": {},
   "source": [
    "From above, all data failed to download. Therefore, **all 350** site in which download failed is excluded from the study. "
   ]
  },
  {
   "cell_type": "markdown",
   "id": "2ff6b5f2",
   "metadata": {},
   "source": [
    "#### Checking for missing date\n",
    "\n",
    "In the cleaning process, it should be checked for missing dates. Because it was not, next, missing dates are checked and filled. "
   ]
  },
  {
   "cell_type": "code",
   "execution_count": 54,
   "id": "5c97d164",
   "metadata": {
    "vscode": {
     "languageId": "r"
    }
   },
   "outputs": [
    {
     "data": {
      "text/html": [
       "<style>\n",
       ".list-inline {list-style: none; margin:0; padding: 0}\n",
       ".list-inline>li {display: inline-block}\n",
       ".list-inline>li:not(:last-child)::after {content: \"\\00b7\"; padding: 0 .5ex}\n",
       "</style>\n",
       "<ol class=list-inline><li>'/Users/alan/Data Science Projects/ML-ModClark-IUH-Model/data/bronze/tabular/streamflow/streamflow_03007800.parquet'</li><li>'/Users/alan/Data Science Projects/ML-ModClark-IUH-Model/data/bronze/tabular/streamflow/streamflow_03010500.parquet'</li><li>'/Users/alan/Data Science Projects/ML-ModClark-IUH-Model/data/bronze/tabular/streamflow/streamflow_03010655.parquet'</li><li>'/Users/alan/Data Science Projects/ML-ModClark-IUH-Model/data/bronze/tabular/streamflow/streamflow_03010820.parquet'</li><li>'/Users/alan/Data Science Projects/ML-ModClark-IUH-Model/data/bronze/tabular/streamflow/streamflow_03011020.parquet'</li></ol>\n"
      ],
      "text/latex": [
       "\\begin{enumerate*}\n",
       "\\item '/Users/alan/Data Science Projects/ML-ModClark-IUH-Model/data/bronze/tabular/streamflow/streamflow\\_03007800.parquet'\n",
       "\\item '/Users/alan/Data Science Projects/ML-ModClark-IUH-Model/data/bronze/tabular/streamflow/streamflow\\_03010500.parquet'\n",
       "\\item '/Users/alan/Data Science Projects/ML-ModClark-IUH-Model/data/bronze/tabular/streamflow/streamflow\\_03010655.parquet'\n",
       "\\item '/Users/alan/Data Science Projects/ML-ModClark-IUH-Model/data/bronze/tabular/streamflow/streamflow\\_03010820.parquet'\n",
       "\\item '/Users/alan/Data Science Projects/ML-ModClark-IUH-Model/data/bronze/tabular/streamflow/streamflow\\_03011020.parquet'\n",
       "\\end{enumerate*}\n"
      ],
      "text/markdown": [
       "1. '/Users/alan/Data Science Projects/ML-ModClark-IUH-Model/data/bronze/tabular/streamflow/streamflow_03007800.parquet'\n",
       "2. '/Users/alan/Data Science Projects/ML-ModClark-IUH-Model/data/bronze/tabular/streamflow/streamflow_03010500.parquet'\n",
       "3. '/Users/alan/Data Science Projects/ML-ModClark-IUH-Model/data/bronze/tabular/streamflow/streamflow_03010655.parquet'\n",
       "4. '/Users/alan/Data Science Projects/ML-ModClark-IUH-Model/data/bronze/tabular/streamflow/streamflow_03010820.parquet'\n",
       "5. '/Users/alan/Data Science Projects/ML-ModClark-IUH-Model/data/bronze/tabular/streamflow/streamflow_03011020.parquet'\n",
       "\n",
       "\n"
      ],
      "text/plain": [
       "[1] \"/Users/alan/Data Science Projects/ML-ModClark-IUH-Model/data/bronze/tabular/streamflow/streamflow_03007800.parquet\"\n",
       "[2] \"/Users/alan/Data Science Projects/ML-ModClark-IUH-Model/data/bronze/tabular/streamflow/streamflow_03010500.parquet\"\n",
       "[3] \"/Users/alan/Data Science Projects/ML-ModClark-IUH-Model/data/bronze/tabular/streamflow/streamflow_03010655.parquet\"\n",
       "[4] \"/Users/alan/Data Science Projects/ML-ModClark-IUH-Model/data/bronze/tabular/streamflow/streamflow_03010820.parquet\"\n",
       "[5] \"/Users/alan/Data Science Projects/ML-ModClark-IUH-Model/data/bronze/tabular/streamflow/streamflow_03011020.parquet\""
      ]
     },
     "metadata": {},
     "output_type": "display_data"
    }
   ],
   "source": [
    "# List of downloaded streamflow files\n",
    "streamflow_files <- list.files(path = streamflow_data_dir, full.names = TRUE)\n",
    "streamflow_files[0:5]"
   ]
  },
  {
   "cell_type": "code",
   "execution_count": 55,
   "id": "2428fae0",
   "metadata": {
    "vscode": {
     "languageId": "r"
    }
   },
   "outputs": [
    {
     "name": "stdout",
     "output_type": "stream",
     "text": [
      "Rows: 371,751\n",
      "Columns: 4\n",
      "$ site_no           \u001b[3m\u001b[90m<chr>\u001b[39m\u001b[23m \"03007800\", \"03007800\", \"03007800\", \"03007800\", \"030~\n",
      "$ dateTime          \u001b[3m\u001b[90m<dttm>\u001b[39m\u001b[23m 2014-01-01 05:00:00, 2014-01-01 05:15:00, 2014-01-0~\n",
      "$ discharge_cfs     \u001b[3m\u001b[90m<dbl>\u001b[39m\u001b[23m 449, 449, 446, 446, 443, 443, 440, 437, 434, 432, 42~\n",
      "$ discharge_quality \u001b[3m\u001b[90m<chr>\u001b[39m\u001b[23m \"A\", \"A\", \"A\", \"A\", \"A\", \"A\", \"A\", \"A\", \"A\", \"A\", \"A~\n"
     ]
    }
   ],
   "source": [
    "# Read example file\n",
    "streamflow_data_example <- read_parquet(streamflow_files[1])\n",
    "glimpse(streamflow_data_example)"
   ]
  },
  {
   "cell_type": "code",
   "execution_count": 57,
   "id": "68a88c53",
   "metadata": {
    "vscode": {
     "languageId": "r"
    }
   },
   "outputs": [],
   "source": [
    "# Count the number of 15-minutes intervals of example data\n",
    "package <- \"lubridate\"\n",
    "# Function to check and install packages\n",
    "\n",
    "if (!require(package, character.only = TRUE)) {\n",
    "  install.packages(package, dependencies = TRUE)\n",
    "  library(package, character.only = TRUE)\n",
    "} else {\n",
    "  library(package, character.only = TRUE)\n",
    "}\n",
    "  \n",
    "count_15min_intervals <- function(date_min, date_max) {\n",
    "  if (is.character(date_min)) {\n",
    "    date_min <- as.POSIXct(date_min, format = \"%Y%m%d %H:%M:%S\", tz = \"UTC\")\n",
    "  }\n",
    "  if (is.character(date_max)) {\n",
    "    date_max <- as.POSIXct(date_max, format = \"%Y%m%d %H:%M:%S\", tz = \"UTC\")\n",
    "  }\n",
    "  delta <- as.numeric(difftime(date_max, date_min, units = \"mins\"))\n",
    "  total_intervals <- floor(delta / 15) + 1\n",
    "  return(as.integer(total_intervals))\n",
    "}"
   ]
  },
  {
   "cell_type": "code",
   "execution_count": 58,
   "id": "fc874269",
   "metadata": {
    "vscode": {
     "languageId": "r"
    }
   },
   "outputs": [
    {
     "name": "stderr",
     "output_type": "stream",
     "text": [
      "The number of data points is equal to the number of 15-minute intervals. There is no missing dates\n",
      "\n"
     ]
    }
   ],
   "source": [
    "number_of_data_points <- count_15min_intervals(min(streamflow_data_example$dateTime), max(streamflow_data_example$dateTime))\n",
    "number_of_15min_intervals_between_dates <- count_15min_intervals(min(streamflow_data_example$dateTime), max(streamflow_data_example$dateTime))\n",
    "if (number_of_data_points == number_of_15min_intervals_between_dates) {\n",
    "  message(\"The number of data points is equal to the number of 15-minute intervals. There is no missing dates\")\n",
    "} else {\n",
    "  message(paste(\"The number of data points is NOT equal to the number of 15-minute intervals. There are\", number_of_15min_intervals_between_dates-number_of_data_points, \"missing dates\"))\n",
    "}"
   ]
  },
  {
   "cell_type": "code",
   "execution_count": 61,
   "id": "881e6778",
   "metadata": {
    "vscode": {
     "languageId": "r"
    }
   },
   "outputs": [
    {
     "data": {
      "text/html": [
       "<table class=\"dataframe\">\n",
       "<caption>A data.frame: 6 × 2</caption>\n",
       "<thead>\n",
       "\t<tr><th></th><th scope=col>site_no</th><th scope=col>missing_dates</th></tr>\n",
       "\t<tr><th></th><th scope=col>&lt;chr&gt;</th><th scope=col>&lt;int&gt;</th></tr>\n",
       "</thead>\n",
       "<tbody>\n",
       "\t<tr><th scope=row>1</th><td>03007800</td><td>0</td></tr>\n",
       "\t<tr><th scope=row>2</th><td>03010500</td><td>0</td></tr>\n",
       "\t<tr><th scope=row>3</th><td>03010655</td><td>0</td></tr>\n",
       "\t<tr><th scope=row>4</th><td>03010820</td><td>0</td></tr>\n",
       "\t<tr><th scope=row>5</th><td>03011020</td><td>0</td></tr>\n",
       "\t<tr><th scope=row>6</th><td>03011800</td><td>0</td></tr>\n",
       "</tbody>\n",
       "</table>\n"
      ],
      "text/latex": [
       "A data.frame: 6 × 2\n",
       "\\begin{tabular}{r|ll}\n",
       "  & site\\_no & missing\\_dates\\\\\n",
       "  & <chr> & <int>\\\\\n",
       "\\hline\n",
       "\t1 & 03007800 & 0\\\\\n",
       "\t2 & 03010500 & 0\\\\\n",
       "\t3 & 03010655 & 0\\\\\n",
       "\t4 & 03010820 & 0\\\\\n",
       "\t5 & 03011020 & 0\\\\\n",
       "\t6 & 03011800 & 0\\\\\n",
       "\\end{tabular}\n"
      ],
      "text/markdown": [
       "\n",
       "A data.frame: 6 × 2\n",
       "\n",
       "| <!--/--> | site_no &lt;chr&gt; | missing_dates &lt;int&gt; |\n",
       "|---|---|---|\n",
       "| 1 | 03007800 | 0 |\n",
       "| 2 | 03010500 | 0 |\n",
       "| 3 | 03010655 | 0 |\n",
       "| 4 | 03010820 | 0 |\n",
       "| 5 | 03011020 | 0 |\n",
       "| 6 | 03011800 | 0 |\n",
       "\n"
      ],
      "text/plain": [
       "  site_no  missing_dates\n",
       "1 03007800 0            \n",
       "2 03010500 0            \n",
       "3 03010655 0            \n",
       "4 03010820 0            \n",
       "5 03011020 0            \n",
       "6 03011800 0            "
      ]
     },
     "metadata": {},
     "output_type": "display_data"
    }
   ],
   "source": [
    "# Check missing dates for all downloaded streamflow data\n",
    "# Initiate empty list to store results\n",
    "site_number <- c()\n",
    "missing_dates <- c()\n",
    "for (file in streamflow_files) {\n",
    "    data <- read_parquet(file)\n",
    "    site_number <- c(site_number, data$site_no[1])\n",
    "    min_date <- min(data$dateTime)\n",
    "    max_date <- max(data$dateTime)\n",
    "    number_of_data_points <- count_15min_intervals(min_date, max_date)\n",
    "    number_of_15min_intervals_between_dates <- count_15min_intervals(min_date, max_date)\n",
    "    number_of_missing_dates <- number_of_15min_intervals_between_dates - number_of_data_points\n",
    "    missing_dates <- c(missing_dates, number_of_missing_dates)\n",
    "}\n",
    "# Create a data frame with the results\n",
    "missing_dates_df <- data.frame(\n",
    "  site_no = site_number,\n",
    "  missing_dates = missing_dates\n",
    ")\n",
    "head(missing_dates_df)"
   ]
  },
  {
   "cell_type": "code",
   "execution_count": 62,
   "id": "8eba7a26",
   "metadata": {
    "vscode": {
     "languageId": "r"
    }
   },
   "outputs": [
    {
     "data": {
      "text/html": [
       "<table class=\"dataframe\">\n",
       "<caption>A data.frame: 0 × 2</caption>\n",
       "<thead>\n",
       "\t<tr><th scope=col>site_no</th><th scope=col>missing_dates</th></tr>\n",
       "\t<tr><th scope=col>&lt;chr&gt;</th><th scope=col>&lt;int&gt;</th></tr>\n",
       "</thead>\n",
       "<tbody>\n",
       "</tbody>\n",
       "</table>\n"
      ],
      "text/latex": [
       "A data.frame: 0 × 2\n",
       "\\begin{tabular}{ll}\n",
       " site\\_no & missing\\_dates\\\\\n",
       " <chr> & <int>\\\\\n",
       "\\hline\n",
       "\\end{tabular}\n"
      ],
      "text/markdown": [
       "\n",
       "A data.frame: 0 × 2\n",
       "\n",
       "| site_no &lt;chr&gt; | missing_dates &lt;int&gt; |\n",
       "|---|---|\n",
       "\n"
      ],
      "text/plain": [
       "     site_no missing_dates"
      ]
     },
     "metadata": {},
     "output_type": "display_data"
    }
   ],
   "source": [
    "# Check if any site has missing dates\n",
    "missing_dates_df %>% filter(missing_dates > 0) %>% arrange(desc(missing_dates))"
   ]
  },
  {
   "cell_type": "markdown",
   "id": "c69c7686",
   "metadata": {},
   "source": [
    "**All site are complete in date  for the coverage period, not having any missing dates.**"
   ]
  }
 ],
 "metadata": {
  "kernelspec": {
   "display_name": "R",
   "language": "R",
   "name": "ir"
  },
  "language_info": {
   "codemirror_mode": "r",
   "file_extension": ".r",
   "mimetype": "text/x-r-source",
   "name": "R",
   "pygments_lexer": "r",
   "version": "4.1.1"
  }
 },
 "nbformat": 4,
 "nbformat_minor": 5
}
