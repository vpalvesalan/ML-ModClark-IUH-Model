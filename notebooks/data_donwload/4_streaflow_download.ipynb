{
 "cells": [
  {
   "cell_type": "markdown",
   "id": "74d7d70b",
   "metadata": {},
   "source": [
    "# Download Historical Streamflow Data\n",
    "\n",
    "This Jupyter Notebook serves as the dedicated module for retrieving historical streamflow data, a pivotal component for the calibration and evaluation of the hydrological models in this study. Leveraging the capabilities of the `dataRetrieval` R package, designed for accessing U.S. Geological Survey (USGS) water data, the notebook systematically downloads streamflow records for all active and relevant stream gauge stations identified within the previously defined study region. The acquired streamflow time series represent the observed hydrographs, which are indispensable for calibrating the ModClark model's parameters ($T_c$ and $R$) and for rigorously assessing the predictive performance of the machine learning models by comparing their generated hydrographs against these real-world observations.\n",
    "\n",
    "This notebook:\n",
    "\n",
    "1. Download streamflow data\n",
    "2. Cleans streamflow data\n",
    "3. Salves cleaned file locally\n",
    "4. Gets Stream Gauge Station info (including geo location)\n",
    "5. Salves Steam Gauge Station info locally"
   ]
  },
  {
   "cell_type": "markdown",
   "id": "a3585f74",
   "metadata": {},
   "source": [
    "### Load the streamflow station data"
   ]
  },
  {
   "cell_type": "code",
   "execution_count": 1,
   "id": "e3001ce0",
   "metadata": {
    "vscode": {
     "languageId": "r"
    }
   },
   "outputs": [
    {
     "name": "stderr",
     "output_type": "stream",
     "text": [
      "Carregando pacotes exigidos: sf\n",
      "\n",
      "Linking to GEOS 3.8.1, GDAL 3.2.1, PROJ 7.2.1\n",
      "\n",
      "Carregando pacotes exigidos: dataRetrieval\n",
      "\n",
      "Carregando pacotes exigidos: dplyr\n",
      "\n",
      "\n",
      "Attaching package: 'dplyr'\n",
      "\n",
      "\n",
      "The following objects are masked from 'package:stats':\n",
      "\n",
      "    filter, lag\n",
      "\n",
      "\n",
      "The following objects are masked from 'package:base':\n",
      "\n",
      "    intersect, setdiff, setequal, union\n",
      "\n",
      "\n",
      "Carregando pacotes exigidos: arrow\n",
      "\n",
      "\n",
      "Attaching package: 'arrow'\n",
      "\n",
      "\n",
      "The following object is masked from 'package:utils':\n",
      "\n",
      "    timestamp\n",
      "\n",
      "\n",
      "Carregando pacotes exigidos: IRdisplay\n",
      "\n"
     ]
    },
    {
     "data": {
      "text/html": [
       "<ol>\n",
       "\t<li>NULL</li>\n",
       "\t<li>NULL</li>\n",
       "\t<li>NULL</li>\n",
       "\t<li>NULL</li>\n",
       "\t<li>NULL</li>\n",
       "</ol>\n"
      ],
      "text/latex": [
       "\\begin{enumerate}\n",
       "\\item NULL\n",
       "\\item NULL\n",
       "\\item NULL\n",
       "\\item NULL\n",
       "\\item NULL\n",
       "\\end{enumerate}\n"
      ],
      "text/markdown": [
       "1. NULL\n",
       "2. NULL\n",
       "3. NULL\n",
       "4. NULL\n",
       "5. NULL\n",
       "\n",
       "\n"
      ],
      "text/plain": [
       "[[1]]\n",
       "NULL\n",
       "\n",
       "[[2]]\n",
       "NULL\n",
       "\n",
       "[[3]]\n",
       "NULL\n",
       "\n",
       "[[4]]\n",
       "NULL\n",
       "\n",
       "[[5]]\n",
       "NULL\n"
      ]
     },
     "metadata": {},
     "output_type": "display_data"
    }
   ],
   "source": [
    "# List of required packages\n",
    "required_packages <- c(\"sf\", \"dataRetrieval\", \"dplyr\", \"arrow\", \"IRdisplay\")\n",
    "\n",
    "# Function to check and install packages\n",
    "check_and_install <- function(package) {\n",
    "  if (!require(package, character.only = TRUE)) {\n",
    "    install.packages(package, dependencies = TRUE)\n",
    "    library(package, character.only = TRUE)\n",
    "  }\n",
    "}\n",
    "\n",
    "# Apply the function to each package\n",
    "lapply(required_packages, check_and_install)    "
   ]
  },
  {
   "cell_type": "code",
   "execution_count": 7,
   "id": "3ff69e42",
   "metadata": {
    "vscode": {
     "languageId": "r"
    }
   },
   "outputs": [
    {
     "name": "stdout",
     "output_type": "stream",
     "text": [
      "Reading layer `study_area_stream_gauge_stn' from data source \n",
      "  `/Users/alan/Data Science Projects/ML-ModClark-IUH-Model/data/silver/geo/gpkg/study_area_stream_gauge_stn.gpkg' \n",
      "  using driver `GPKG'\n",
      "Simple feature collection with 1056 features and 14 fields\n",
      "Geometry type: POINT\n",
      "Dimension:     XY\n",
      "Bounding box:  xmin: -89.16257 ymin: 35.70829 xmax: -78.16294 ymax: 42.15683\n",
      "Geodetic CRS:  NAD83\n",
      "Rows: 1,056\n",
      "Columns: 15\n",
      "$ STAID      \u001b[3m\u001b[90m<chr>\u001b[39m\u001b[23m \"03165000\", \"03164000\", \"03165500\", \"03161000\", \"03208500\",~\n",
      "$ STANAME    \u001b[3m\u001b[90m<chr>\u001b[39m\u001b[23m \"CHESTNUT CREEK AT GALAX, VA\", \"NEW RIVER NEAR GALAX, VA\", ~\n",
      "$ ST         \u001b[3m\u001b[90m<chr>\u001b[39m\u001b[23m \"va\", \"va\", \"va\", \"nc\", \"va\", \"va\", \"va\", \"ky\", \"va\", \"va\",~\n",
      "$ HUC        \u001b[3m\u001b[90m<chr>\u001b[39m\u001b[23m \"05050001\", \"05050001\", \"05050001\", \"05050001\", \"05070202\",~\n",
      "$ CLASS      \u001b[3m\u001b[90m<int>\u001b[39m\u001b[23m 5, 0, 6, 5, 7, 8, 0, 0, 6, 6, 6, 0, 6, 7, 7, 0, 0, 0, 7, 0,~\n",
      "$ FLOW       \u001b[3m\u001b[90m<dbl>\u001b[39m\u001b[23m 59.4, 0.0, 3690.0, 429.0, 1490.0, 2340.0, 0.0, 0.0, 5550.0,~\n",
      "$ STAGE      \u001b[3m\u001b[90m<dbl>\u001b[39m\u001b[23m 1.56, 2.18, 4.26, 2.48, 4.60, 6.04, 11.11, 10.01, 3.05, 2.9~\n",
      "$ TIME       \u001b[3m\u001b[90m<chr>\u001b[39m\u001b[23m \"2025-02-02 12:00:00\", \"2025-02-02 12:30:00\", \"2025-02-02 1~\n",
      "$ TIME_UTC   \u001b[3m\u001b[90m<dttm>\u001b[39m\u001b[23m 2025-02-02, 2025-02-02, 2025-02-02, 2025-02-02, 2025-02-02~\n",
      "$ URL        \u001b[3m\u001b[90m<chr>\u001b[39m\u001b[23m \"https://waterdata.usgs.gov/monitoring-location/03165000\", ~\n",
      "$ DATUM      \u001b[3m\u001b[90m<chr>\u001b[39m\u001b[23m \"NAD83\", \"NAD83\", \"NAD83\", \"NAD83\", \"NAD83\", \"NAD83\", \"NAD8~\n",
      "$ COUNT      \u001b[3m\u001b[90m<int>\u001b[39m\u001b[23m 79, 94, 77, 97, 97, 59, 25, 0, 95, 40, 96, 0, 85, 86, 93, 0~\n",
      "$ PERCENTILE \u001b[3m\u001b[90m<dbl>\u001b[39m\u001b[23m 39.50, 74.20, 81.30, 53.41, 93.29, 98.33, 0.00, 0.00, 81.67~\n",
      "$ FLOODSTAGE \u001b[3m\u001b[90m<dbl>\u001b[39m\u001b[23m 7.0, 9.0, 16.0, 8.0, 16.0, 0.0, 15.0, 21.0, 8.0, 6.5, 8.0, ~\n",
      "$ geom       \u001b[3m\u001b[90m<POINT [arc_degree]>\u001b[39m\u001b[23m POINT (-80.91924 36.64596), POINT (-80.97897~\n"
     ]
    }
   ],
   "source": [
    "# Load the .gpkg file\n",
    "gpkg_file <- \"/Users/alan/Data Science Projects/ML-ModClark-IUH-Model/data/silver/geo/gpkg/study_area_stream_gauge_stn.gpkg\"\n",
    "stations <- st_read(gpkg_file)\n",
    "glimpse(stations)"
   ]
  },
  {
   "cell_type": "markdown",
   "id": "b2a1eb71",
   "metadata": {},
   "source": [
    "### Download Streamflow  Historical Data\n",
    "\n",
    "The time span chosen for this study is 10 years. Therefore data will be downloaded from **01-01-2014 to 05-08-2025**."
   ]
  },
  {
   "cell_type": "code",
   "execution_count": 6,
   "id": "e11e0a76",
   "metadata": {
    "vscode": {
     "languageId": "r"
    }
   },
   "outputs": [],
   "source": [
    "# Define function to download 15-minute streamflow data\n",
    "download_usgs_streamflow <- function(site_numbers, start_date, end_date, parameter_cd = \"00060\") {\n",
    "  # Input validation\n",
    "  if (!is.character(site_numbers) || length(site_numbers) == 0) {\n",
    "    stop(\"site_numbers must be a non-empty character vector of USGS site IDs\")\n",
    "  }\n",
    "  if (!is.character(start_date) || !is.character(end_date)) {\n",
    "    stop(\"start_date and end_date must be character strings in YYYY-MM-DD format\")\n",
    "  }\n",
    "\n",
    "  # Download 15-minute streamflow data using dataRetrieval\n",
    "  # parameter_cd = \"00060\" is for discharge (cubic feet per second)\n",
    "  streamflow_data <- readNWISuv(\n",
    "    siteNumbers = site_numbers,\n",
    "    parameterCd = parameter_cd,\n",
    "    startDate = start_date,\n",
    "    endDate = end_date,\n",
    "    tz = \"UTC\"  # Time zone for data retrieval\n",
    "  )\n",
    "\n",
    "  # Check if data was retrieved\n",
    "  if (nrow(streamflow_data) == 0) {\n",
    "    # warning(\"No data retrieved for the specified sites and date range\")\n",
    "    return(NULL)\n",
    "  }\n",
    "  return(streamflow_data)\n",
    "}\n"
   ]
  },
  {
   "cell_type": "code",
   "execution_count": 7,
   "id": "d15c6cd5",
   "metadata": {
    "vscode": {
     "languageId": "r"
    }
   },
   "outputs": [],
   "source": [
    "# Define function to save data locally as Parquet\n",
    "save_streamflow_data <- function(data, site_no, output_dir) {\n",
    "  # Drop redundant column stite_no (this number is incorporated in the file name)\n",
    "  # Create output directory if it doesn't exist\n",
    "  if (!dir.exists(output_dir)) {\n",
    "    dir.create(output_dir, recursive = TRUE)\n",
    "  }\n",
    "  \n",
    "  # Check if data is valid\n",
    "  if (is.null(data) || nrow(data) == 0) {\n",
    "    # warning(paste(\"No data to save for site\", site_no))\n",
    "    return(FALSE)\n",
    "  }\n",
    "  \n",
    "  # Define file path for Parquet\n",
    "  file_path <- file.path(output_dir, paste0(\"streamflow_\", site_no, \".parquet\"))\n",
    "  \n",
    "  # Save data as Parquet\n",
    "  write_parquet(data, file_path)\n",
    "  # print(paste(\"Data saved for site\", site_no, \"at\", file_path))\n",
    "  return(TRUE)\n",
    "}"
   ]
  },
  {
   "cell_type": "markdown",
   "id": "8227a403",
   "metadata": {},
   "source": [
    "**Download one station data as example**"
   ]
  },
  {
   "cell_type": "code",
   "execution_count": 13,
   "id": "89718519",
   "metadata": {
    "vscode": {
     "languageId": "r"
    }
   },
   "outputs": [
    {
     "name": "stdout",
     "output_type": "stream",
     "text": [
      "[1] \"Downloading data for station ID 03165000\"\n"
     ]
    },
    {
     "name": "stderr",
     "output_type": "stream",
     "text": [
      "GET: https://nwis.waterservices.usgs.gov/nwis/iv/?site=03165000&format=waterml,1.1&ParameterCd=00060&startDT=2014-01-01&endDT=2014-05-08\n",
      "\n"
     ]
    },
    {
     "name": "stdout",
     "output_type": "stream",
     "text": [
      "Rows: 9,404\n",
      "Columns: 6\n",
      "$ agency_cd        \u001b[3m\u001b[90m<chr>\u001b[39m\u001b[23m \"USGS\", \"USGS\", \"USGS\", \"USGS\", \"USGS\", \"USGS\", \"USGS~\n",
      "$ site_no          \u001b[3m\u001b[90m<chr>\u001b[39m\u001b[23m \"03165000\", \"03165000\", \"03165000\", \"03165000\", \"0316~\n",
      "$ dateTime         \u001b[3m\u001b[90m<dttm>\u001b[39m\u001b[23m 2014-01-14 05:00:00, 2014-01-14 05:15:00, 2014-01-14~\n",
      "$ X_00060_00000    \u001b[3m\u001b[90m<dbl>\u001b[39m\u001b[23m 101.0, 101.0, 101.0, 101.0, 101.0, 101.0, 101.0, 101.~\n",
      "$ X_00060_00000_cd \u001b[3m\u001b[90m<chr>\u001b[39m\u001b[23m \"A\", \"A\", \"A\", \"A\", \"A\", \"A\", \"A\", \"A\", \"A\", \"A\", \"A\"~\n",
      "$ tz_cd            \u001b[3m\u001b[90m<chr>\u001b[39m\u001b[23m \"UTC\", \"UTC\", \"UTC\", \"UTC\", \"UTC\", \"UTC\", \"UTC\", \"UTC~\n"
     ]
    },
    {
     "data": {
      "text/html": [
       "<table class=\"dataframe\">\n",
       "<caption>A data.frame: 6 × 6</caption>\n",
       "<thead>\n",
       "\t<tr><th></th><th scope=col>agency_cd</th><th scope=col>site_no</th><th scope=col>dateTime</th><th scope=col>X_00060_00000</th><th scope=col>X_00060_00000_cd</th><th scope=col>tz_cd</th></tr>\n",
       "\t<tr><th></th><th scope=col>&lt;chr&gt;</th><th scope=col>&lt;chr&gt;</th><th scope=col>&lt;dttm&gt;</th><th scope=col>&lt;dbl&gt;</th><th scope=col>&lt;chr&gt;</th><th scope=col>&lt;chr&gt;</th></tr>\n",
       "</thead>\n",
       "<tbody>\n",
       "\t<tr><th scope=row>1</th><td>USGS</td><td>03165000</td><td>2014-01-14 05:00:00</td><td>101</td><td>A</td><td>UTC</td></tr>\n",
       "\t<tr><th scope=row>2</th><td>USGS</td><td>03165000</td><td>2014-01-14 05:15:00</td><td>101</td><td>A</td><td>UTC</td></tr>\n",
       "\t<tr><th scope=row>3</th><td>USGS</td><td>03165000</td><td>2014-01-14 05:30:00</td><td>101</td><td>A</td><td>UTC</td></tr>\n",
       "\t<tr><th scope=row>4</th><td>USGS</td><td>03165000</td><td>2014-01-14 05:45:00</td><td>101</td><td>A</td><td>UTC</td></tr>\n",
       "\t<tr><th scope=row>5</th><td>USGS</td><td>03165000</td><td>2014-01-14 06:00:00</td><td>101</td><td>A</td><td>UTC</td></tr>\n",
       "\t<tr><th scope=row>6</th><td>USGS</td><td>03165000</td><td>2014-01-14 06:15:00</td><td>101</td><td>A</td><td>UTC</td></tr>\n",
       "</tbody>\n",
       "</table>\n"
      ],
      "text/latex": [
       "A data.frame: 6 × 6\n",
       "\\begin{tabular}{r|llllll}\n",
       "  & agency\\_cd & site\\_no & dateTime & X\\_00060\\_00000 & X\\_00060\\_00000\\_cd & tz\\_cd\\\\\n",
       "  & <chr> & <chr> & <dttm> & <dbl> & <chr> & <chr>\\\\\n",
       "\\hline\n",
       "\t1 & USGS & 03165000 & 2014-01-14 05:00:00 & 101 & A & UTC\\\\\n",
       "\t2 & USGS & 03165000 & 2014-01-14 05:15:00 & 101 & A & UTC\\\\\n",
       "\t3 & USGS & 03165000 & 2014-01-14 05:30:00 & 101 & A & UTC\\\\\n",
       "\t4 & USGS & 03165000 & 2014-01-14 05:45:00 & 101 & A & UTC\\\\\n",
       "\t5 & USGS & 03165000 & 2014-01-14 06:00:00 & 101 & A & UTC\\\\\n",
       "\t6 & USGS & 03165000 & 2014-01-14 06:15:00 & 101 & A & UTC\\\\\n",
       "\\end{tabular}\n"
      ],
      "text/markdown": [
       "\n",
       "A data.frame: 6 × 6\n",
       "\n",
       "| <!--/--> | agency_cd &lt;chr&gt; | site_no &lt;chr&gt; | dateTime &lt;dttm&gt; | X_00060_00000 &lt;dbl&gt; | X_00060_00000_cd &lt;chr&gt; | tz_cd &lt;chr&gt; |\n",
       "|---|---|---|---|---|---|---|\n",
       "| 1 | USGS | 03165000 | 2014-01-14 05:00:00 | 101 | A | UTC |\n",
       "| 2 | USGS | 03165000 | 2014-01-14 05:15:00 | 101 | A | UTC |\n",
       "| 3 | USGS | 03165000 | 2014-01-14 05:30:00 | 101 | A | UTC |\n",
       "| 4 | USGS | 03165000 | 2014-01-14 05:45:00 | 101 | A | UTC |\n",
       "| 5 | USGS | 03165000 | 2014-01-14 06:00:00 | 101 | A | UTC |\n",
       "| 6 | USGS | 03165000 | 2014-01-14 06:15:00 | 101 | A | UTC |\n",
       "\n"
      ],
      "text/plain": [
       "  agency_cd site_no  dateTime            X_00060_00000 X_00060_00000_cd tz_cd\n",
       "1 USGS      03165000 2014-01-14 05:00:00 101           A                UTC  \n",
       "2 USGS      03165000 2014-01-14 05:15:00 101           A                UTC  \n",
       "3 USGS      03165000 2014-01-14 05:30:00 101           A                UTC  \n",
       "4 USGS      03165000 2014-01-14 05:45:00 101           A                UTC  \n",
       "5 USGS      03165000 2014-01-14 06:00:00 101           A                UTC  \n",
       "6 USGS      03165000 2014-01-14 06:15:00 101           A                UTC  "
      ]
     },
     "metadata": {},
     "output_type": "display_data"
    }
   ],
   "source": [
    "station_code_example <- stations$STAID[1]\n",
    "\n",
    "# Define date range\n",
    "start_date <- \"2014-01-01\"\n",
    "end_date <- \"2014-05-08\"\n",
    "\n",
    "# Download data example\n",
    "print(paste(\"Downloading data for station ID\", station_code_example))\n",
    "streamflow_data_example <- download_usgs_streamflow(\n",
    "    site_numbers = station_code_example,\n",
    "    start_date = start_date,\n",
    "    end_date = end_date\n",
    ")\n",
    "glimpse(streamflow_data_example)\n",
    "head(streamflow_data_example)\n"
   ]
  },
  {
   "cell_type": "code",
   "execution_count": 14,
   "id": "a94ba733",
   "metadata": {
    "vscode": {
     "languageId": "r"
    }
   },
   "outputs": [
    {
     "data": {
      "text/plain": [
       "  agency_cd           site_no             dateTime                  \n",
       " Length:9404        Length:9404        Min.   :2014-01-14 05:00:00  \n",
       " Class :character   Class :character   1st Qu.:2014-02-24 16:41:15  \n",
       " Mode  :character   Mode  :character   Median :2014-03-21 04:22:30  \n",
       "                                       Mean   :2014-03-19 04:21:16  \n",
       "                                       3rd Qu.:2014-04-14 16:03:45  \n",
       "                                       Max.   :2014-05-09 03:45:00  \n",
       " X_00060_00000    X_00060_00000_cd      tz_cd          \n",
       " Min.   : 55.40   Length:9404        Length:9404       \n",
       " 1st Qu.: 66.10   Class :character   Class :character  \n",
       " Median : 71.10   Mode  :character   Mode  :character  \n",
       " Mean   : 78.61                                        \n",
       " 3rd Qu.: 79.80                                        \n",
       " Max.   :366.00                                        "
      ]
     },
     "metadata": {},
     "output_type": "display_data"
    }
   ],
   "source": [
    "summary(streamflow_data_example)"
   ]
  },
  {
   "cell_type": "markdown",
   "id": "9d9f583e",
   "metadata": {},
   "source": [
    "#### Clean Downloaded Stream Flow Data**\n",
    "\n",
    "The data retrieved from USGS, is pretty much clean already. However, to save space and time, after downloading each data file  from each station, unecessary columns will be removed, and columns renamed, before saving the file locally. The code  **00060** is used to retrieve discharge in **Cubic Feet per Second ($ft^3/s$)** - see documentation in (https://cran.r-project.org/web/packages/dataRetrieval/vignettes/dataRetrieval.htmlcolumn). The column name **X_00060_00000** indicates discharge ($ft^3/s$) and column **X_00060_00000_cd** is the measurement quality flag. **dateTime** column are in **UTC**. \n",
    "\n",
    "The cleaning steps are:\n",
    "- Remove columns: `agency_cd`and `tz_cd`\n",
    "- Rename columns: `X_00060_00000` and `X_00060_00000_cd`\n",
    "\n",
    "Commom USGS parameter codes:\n",
    "| pCode      | shortName |\n",
    "| ----------- | ----------- |\n",
    "| 00060\t| Discharge [ft3/s] |\n",
    "| 00065\t| Gage height [ft] |\n",
    "| 00010\t| Temperature [C] |\n",
    "| 00045\t| Precipitation [in] |\n",
    "| 00400\t| pH |"
   ]
  },
  {
   "cell_type": "code",
   "execution_count": 8,
   "id": "f91eddd1",
   "metadata": {
    "vscode": {
     "languageId": "r"
    }
   },
   "outputs": [],
   "source": [
    "  # Clean and format the data\n",
    "clean_streamflow_data <- function(streamflow_data) {\n",
    "  streamflow_data <- streamflow_data %>%\n",
    "    select(site_no, dateTime, X_00060_00000, X_00060_00000_cd) %>%\n",
    "    rename(\n",
    "      discharge_cfs = X_00060_00000,\n",
    "      discharge_quality = X_00060_00000_cd\n",
    "    )\n",
    "  \n",
    "  return(streamflow_data)\n",
    "}"
   ]
  },
  {
   "cell_type": "code",
   "execution_count": 16,
   "id": "a8d997c4",
   "metadata": {
    "vscode": {
     "languageId": "r"
    }
   },
   "outputs": [
    {
     "name": "stdout",
     "output_type": "stream",
     "text": [
      "Rows: 9,404\n",
      "Columns: 4\n",
      "$ site_no           \u001b[3m\u001b[90m<chr>\u001b[39m\u001b[23m \"03165000\", \"03165000\", \"03165000\", \"03165000\", \"031~\n",
      "$ dateTime          \u001b[3m\u001b[90m<dttm>\u001b[39m\u001b[23m 2014-01-14 05:00:00, 2014-01-14 05:15:00, 2014-01-1~\n",
      "$ discharge_cfs     \u001b[3m\u001b[90m<dbl>\u001b[39m\u001b[23m 101.0, 101.0, 101.0, 101.0, 101.0, 101.0, 101.0, 101~\n",
      "$ discharge_quality \u001b[3m\u001b[90m<chr>\u001b[39m\u001b[23m \"A\", \"A\", \"A\", \"A\", \"A\", \"A\", \"A\", \"A\", \"A\", \"A\", \"A~\n"
     ]
    },
    {
     "data": {
      "text/html": [
       "<table class=\"dataframe\">\n",
       "<caption>A data.frame: 6 × 4</caption>\n",
       "<thead>\n",
       "\t<tr><th></th><th scope=col>site_no</th><th scope=col>dateTime</th><th scope=col>discharge_cfs</th><th scope=col>discharge_quality</th></tr>\n",
       "\t<tr><th></th><th scope=col>&lt;chr&gt;</th><th scope=col>&lt;dttm&gt;</th><th scope=col>&lt;dbl&gt;</th><th scope=col>&lt;chr&gt;</th></tr>\n",
       "</thead>\n",
       "<tbody>\n",
       "\t<tr><th scope=row>1</th><td>03165000</td><td>2014-01-14 05:00:00</td><td>101</td><td>A</td></tr>\n",
       "\t<tr><th scope=row>2</th><td>03165000</td><td>2014-01-14 05:15:00</td><td>101</td><td>A</td></tr>\n",
       "\t<tr><th scope=row>3</th><td>03165000</td><td>2014-01-14 05:30:00</td><td>101</td><td>A</td></tr>\n",
       "\t<tr><th scope=row>4</th><td>03165000</td><td>2014-01-14 05:45:00</td><td>101</td><td>A</td></tr>\n",
       "\t<tr><th scope=row>5</th><td>03165000</td><td>2014-01-14 06:00:00</td><td>101</td><td>A</td></tr>\n",
       "\t<tr><th scope=row>6</th><td>03165000</td><td>2014-01-14 06:15:00</td><td>101</td><td>A</td></tr>\n",
       "</tbody>\n",
       "</table>\n"
      ],
      "text/latex": [
       "A data.frame: 6 × 4\n",
       "\\begin{tabular}{r|llll}\n",
       "  & site\\_no & dateTime & discharge\\_cfs & discharge\\_quality\\\\\n",
       "  & <chr> & <dttm> & <dbl> & <chr>\\\\\n",
       "\\hline\n",
       "\t1 & 03165000 & 2014-01-14 05:00:00 & 101 & A\\\\\n",
       "\t2 & 03165000 & 2014-01-14 05:15:00 & 101 & A\\\\\n",
       "\t3 & 03165000 & 2014-01-14 05:30:00 & 101 & A\\\\\n",
       "\t4 & 03165000 & 2014-01-14 05:45:00 & 101 & A\\\\\n",
       "\t5 & 03165000 & 2014-01-14 06:00:00 & 101 & A\\\\\n",
       "\t6 & 03165000 & 2014-01-14 06:15:00 & 101 & A\\\\\n",
       "\\end{tabular}\n"
      ],
      "text/markdown": [
       "\n",
       "A data.frame: 6 × 4\n",
       "\n",
       "| <!--/--> | site_no &lt;chr&gt; | dateTime &lt;dttm&gt; | discharge_cfs &lt;dbl&gt; | discharge_quality &lt;chr&gt; |\n",
       "|---|---|---|---|---|\n",
       "| 1 | 03165000 | 2014-01-14 05:00:00 | 101 | A |\n",
       "| 2 | 03165000 | 2014-01-14 05:15:00 | 101 | A |\n",
       "| 3 | 03165000 | 2014-01-14 05:30:00 | 101 | A |\n",
       "| 4 | 03165000 | 2014-01-14 05:45:00 | 101 | A |\n",
       "| 5 | 03165000 | 2014-01-14 06:00:00 | 101 | A |\n",
       "| 6 | 03165000 | 2014-01-14 06:15:00 | 101 | A |\n",
       "\n"
      ],
      "text/plain": [
       "  site_no  dateTime            discharge_cfs discharge_quality\n",
       "1 03165000 2014-01-14 05:00:00 101           A                \n",
       "2 03165000 2014-01-14 05:15:00 101           A                \n",
       "3 03165000 2014-01-14 05:30:00 101           A                \n",
       "4 03165000 2014-01-14 05:45:00 101           A                \n",
       "5 03165000 2014-01-14 06:00:00 101           A                \n",
       "6 03165000 2014-01-14 06:15:00 101           A                "
      ]
     },
     "metadata": {},
     "output_type": "display_data"
    }
   ],
   "source": [
    "cleaned_streamflow_data_example <- clean_streamflow_data(streamflow_data_example)\n",
    "glimpse(cleaned_streamflow_data_example)\n",
    "head(cleaned_streamflow_data_example)"
   ]
  },
  {
   "cell_type": "markdown",
   "id": "8409984f",
   "metadata": {},
   "source": [
    "#### Download data for over 1000 USGS station within the study area"
   ]
  },
  {
   "cell_type": "code",
   "execution_count": null,
   "id": "494ad11f",
   "metadata": {
    "vscode": {
     "languageId": "r"
    }
   },
   "outputs": [],
   "source": [
    "# Download data for each station using a for loop\n",
    "station_codes <- stations$STAID\n",
    "\n",
    "# Define date range for 10 years\n",
    "start_date <- \"2014-01-01\"\n",
    "end_date <- \"2025-05-08\"\n",
    "\n",
    "# Define output directory\n",
    "output_dir <- \"/Users/alan/Data Science Projects/ML-ModClark-IUH-Model/data/bronze/tabular/streamflow\"\n",
    "\n",
    "# Initialize lists to store stations with errors and error messages\n",
    "error_stations <- character()\n",
    "error_messages <- character()\n",
    "\n",
    "count <- 0\n",
    "len <- length(station_codes)\n",
    "\n",
    "# Loop through each station code\n",
    "for (site in station_codes) {\n",
    "  count <- count + 1\n",
    "  \n",
    "  # Check if file already exists\n",
    "  file_path <- file.path(output_dir, paste0(\"streamflow_\", site, \".parquet\"))\n",
    "  if (file.exists(file_path)) {\n",
    "    # message(paste(\"File already exists for site\", site, \"- skipping download\"))\n",
    "    next\n",
    "  }\n",
    "\n",
    "  # Update status in notebook (overwrites previous output)\n",
    "  display(paste0(count, \"/\", len, \" - Downloading data for site \", site), display_id = \"status\", update = TRUE)\n",
    "  \n",
    "  \n",
    "  # Try downloading data with error handling\n",
    "  tryCatch({\n",
    "    streamflow_data <- download_usgs_streamflow(\n",
    "      site_numbers = site,\n",
    "      start_date = start_date,\n",
    "      end_date = end_date\n",
    "    )\n",
    "    \n",
    "    # Save the data if download was successful\n",
    "    if (!is.null(streamflow_data)) {\n",
    "      streamflow_data <- clean_streamflow_data(streamflow_data)\n",
    "    } else {\n",
    "      # warning(paste(\"No data available for site\", site))\n",
    "      error_stations <- c(error_stations, site)\n",
    "      error_messages <- c(error_messages, \"No data available\")\n",
    "    }\n",
    "    # Save the cleaned data\n",
    "    save_streamflow_data(streamflow_data, site, output_dir)\n",
    "    \n",
    "    # Add a delay to avoid overwhelming the USGS server\n",
    "    Sys.sleep(1)\n",
    "  }, error = function(e) {\n",
    "    # warning(paste(\"Error downloading data for site\", site, \":\", e$message))\n",
    "    error_stations <- c(error_stations, site)\n",
    "    error_messages <- c(error_messages, e$message)\n",
    "  })\n",
    "}\n",
    "\n",
    "# Clear the status display\n",
    "display(\"\", display_id = \"status\", update = TRUE)\n",
    "\n",
    "# Summary\n",
    "message(\"Download and save process completed.\")\n",
    "message(paste(\"Check output directory:\", output_dir))\n",
    "if (length(error_stations) > 0) {\n",
    "  message(\"Stations with errors: \", paste(error_stations, collapse = \", \"))\n",
    "  message(\"Error messages: \", paste(error_messages, collapse = \"; \"))\n",
    "}"
   ]
  },
  {
   "cell_type": "markdown",
   "id": "c4bf5f04",
   "metadata": {},
   "source": [
    "#### Failed Downloads\n",
    "\n",
    "Not all stations could be downloaded. The likely cause, is that they might not have data covering the period of study **(2014 - 2025)**. This section investigate the failed downloads."
   ]
  },
  {
   "cell_type": "code",
   "execution_count": 3,
   "id": "7e4b2fba",
   "metadata": {
    "vscode": {
     "languageId": "r"
    }
   },
   "outputs": [
    {
     "data": {
      "text/html": [
       "'03007800'"
      ],
      "text/latex": [
       "'03007800'"
      ],
      "text/markdown": [
       "'03007800'"
      ],
      "text/plain": [
       "[1] \"03007800\""
      ]
     },
     "metadata": {},
     "output_type": "display_data"
    }
   ],
   "source": [
    "# Get the station IDs of downloaded streamflow data\n",
    "streamflow_data_dir <- \"/Users/alan/Data Science Projects/ML-ModClark-IUH-Model/data/bronze/tabular/streamflow\"\n",
    "streamflow_files <- list.files(path = streamflow_data_dir, full.names = FALSE)\n",
    "downloaded_streamflow_STID <- gsub(\"streamflow_|\\\\.parquet\", \"\", streamflow_files)\n",
    "downloaded_streamflow_STID[1]"
   ]
  },
  {
   "cell_type": "code",
   "execution_count": 4,
   "id": "24bb4309",
   "metadata": {
    "vscode": {
     "languageId": "r"
    }
   },
   "outputs": [
    {
     "name": "stdout",
     "output_type": "stream",
     "text": [
      "[1] \"350 Station IDs failed to download\"\n"
     ]
    },
    {
     "data": {
      "text/html": [
       "<style>\n",
       ".list-inline {list-style: none; margin:0; padding: 0}\n",
       ".list-inline>li {display: inline-block}\n",
       ".list-inline>li:not(:last-child)::after {content: \"\\00b7\"; padding: 0 .5ex}\n",
       "</style>\n",
       "<ol class=list-inline><li>'03170500'</li><li>'0317154954'</li><li>'0317159760'</li><li>'03178150'</li><li>'03178179'</li><li>'03178000'</li><li>'03178120'</li><li>'03179800'</li><li>'03184500'</li><li>'0318989690'</li></ol>\n"
      ],
      "text/latex": [
       "\\begin{enumerate*}\n",
       "\\item '03170500'\n",
       "\\item '0317154954'\n",
       "\\item '0317159760'\n",
       "\\item '03178150'\n",
       "\\item '03178179'\n",
       "\\item '03178000'\n",
       "\\item '03178120'\n",
       "\\item '03179800'\n",
       "\\item '03184500'\n",
       "\\item '0318989690'\n",
       "\\end{enumerate*}\n"
      ],
      "text/markdown": [
       "1. '03170500'\n",
       "2. '0317154954'\n",
       "3. '0317159760'\n",
       "4. '03178150'\n",
       "5. '03178179'\n",
       "6. '03178000'\n",
       "7. '03178120'\n",
       "8. '03179800'\n",
       "9. '03184500'\n",
       "10. '0318989690'\n",
       "\n",
       "\n"
      ],
      "text/plain": [
       " [1] \"03170500\"   \"0317154954\" \"0317159760\" \"03178150\"   \"03178179\"  \n",
       " [6] \"03178000\"   \"03178120\"   \"03179800\"   \"03184500\"   \"0318989690\""
      ]
     },
     "metadata": {},
     "output_type": "display_data"
    }
   ],
   "source": [
    "# Get the station IDs of failed downloads\n",
    "station_codes <- stations$STAID\n",
    "failed_downloads_stid <- setdiff(station_codes, downloaded_streamflow_STID)\n",
    "print(paste(length(failed_downloads_stid), \"Station IDs failed to download\"))\n",
    "failed_downloads_stid[1:10]"
   ]
  },
  {
   "cell_type": "code",
   "execution_count": 9,
   "id": "220414ba",
   "metadata": {
    "vscode": {
     "languageId": "r"
    }
   },
   "outputs": [],
   "source": [
    "# Function to get the period of data coverage for USGS stations\n",
    "get_usgs_coverage <- function(site_numbers, parameter_cd = \"00060\", service = \"uv\") {\n",
    "  # Input validation\n",
    "  if (!is.character(site_numbers) || length(site_numbers) == 0) {\n",
    "    stop(\"site_numbers must be a non-empty character vector of USGS site IDs\")\n",
    "  }\n",
    "  if (!is.character(parameter_cd) || length(parameter_cd) != 1) {\n",
    "    stop(\"parameter_cd must be a single character string (e.g., '00060' for discharge)\")\n",
    "  }\n",
    "  if (!service %in% c(\"uv\", \"dv\")) {\n",
    "    stop(\"service must be 'uv' (instantaneous) or 'dv' (daily)\")\n",
    "  }\n",
    "  \n",
    "  # Query NWIS for data availability\n",
    "  coverage_data <- tryCatch({\n",
    "    whatNWISdata(\n",
    "      siteNumber = site_numbers,\n",
    "      parameterCd = parameter_cd,\n",
    "      service = service\n",
    "    )\n",
    "  }, error = function(e) {\n",
    "    warning(paste(\"Error querying NWIS for sites:\", e$message))\n",
    "    return(NULL)\n",
    "  })\n",
    "  \n",
    "  # Check if data was retrieved\n",
    "  if (is.null(coverage_data) || nrow(coverage_data) == 0) {\n",
    "    warning(\"No coverage data available for the specified sites and parameter\")\n",
    "    return(data.frame(\n",
    "      site_no = site_numbers,\n",
    "      parameter_cd = parameter_cd,\n",
    "      start_date = as.Date(NA),\n",
    "      end_date = as.Date(NA),\n",
    "      record_count = NA_integer_\n",
    "    ))\n",
    "  }\n",
    "  return(coverage_data)\n",
    "}"
   ]
  },
  {
   "cell_type": "code",
   "execution_count": 14,
   "id": "636b48e1",
   "metadata": {
    "vscode": {
     "languageId": "r"
    }
   },
   "outputs": [
    {
     "name": "stdout",
     "output_type": "stream",
     "text": [
      "[1] \"03170500\"   \"0317154954\"\n"
     ]
    },
    {
     "name": "stderr",
     "output_type": "stream",
     "text": [
      "GET: https://waterservices.usgs.gov/nwis/site/?seriesCatalogOutput=true&sites=03170500,0317154954&format=rdb\n",
      "\n",
      "Warning message in get_usgs_coverage(site_numbers, parameter_cd = \"00060\", service = \"uv\"):\n",
      "\"No coverage data available for the specified sites and parameter\"\n"
     ]
    },
    {
     "name": "stdout",
     "output_type": "stream",
     "text": [
      "     site_no parameter_cd start_date end_date record_count\n",
      "1   03170500        00060       <NA>     <NA>           NA\n",
      "2 0317154954        00060       <NA>     <NA>           NA\n"
     ]
    }
   ],
   "source": [
    "# Get converage for first two failed  sites\n",
    "site_numbers <- failed_downloads_stid[1:2]\n",
    "print(site_numbers)\n",
    "coverage_data <- get_usgs_coverage(site_numbers, parameter_cd = \"00060\", service = \"uv\")\n",
    "print(coverage_data)"
   ]
  },
  {
   "cell_type": "markdown",
   "id": "a2d087e0",
   "metadata": {},
   "source": [
    "**Test the function to example station id of downloaded data**"
   ]
  },
  {
   "cell_type": "code",
   "execution_count": 25,
   "id": "4759f109",
   "metadata": {
    "vscode": {
     "languageId": "r"
    }
   },
   "outputs": [
    {
     "name": "stdout",
     "output_type": "stream",
     "text": [
      "[1] \"03007800\" \"03010500\" \"03010655\" \"03010820\" \"03011020\"\n"
     ]
    },
    {
     "name": "stderr",
     "output_type": "stream",
     "text": [
      "GET: https://waterservices.usgs.gov/nwis/site/?seriesCatalogOutput=true&sites=03007800,03010500,03010655,03010820,03011020&format=rdb\n",
      "\n"
     ]
    },
    {
     "name": "stdout",
     "output_type": "stream",
     "text": [
      "    agency_cd  site_no                           station_nm site_tp_cd\n",
      "154      USGS 03007800 Allegheny River at Port Allegany, PA         ST\n",
      "535      USGS 03010500        Allegheny River at Eldred, PA         ST\n",
      "543      USGS 03010655     Oswayo Creek at Shinglehouse, PA         ST\n",
      "550      USGS 03010820          ALLEGHENY RIVER AT OLEAN NY         ST\n",
      "789      USGS 03011020      ALLEGHENY RIVER AT SALAMANCA NY         ST\n",
      "    dec_lat_va dec_long_va coord_acy_cd dec_coord_datum_cd  alt_va alt_acy_va\n",
      "154   41.81868   -78.29279            S              NAD83 1454.38       0.01\n",
      "535   41.96340   -78.38613            S              NAD83 1416.53      11.00\n",
      "543   41.96173   -78.19807            S              NAD83 1460.34       0.01\n",
      "550   42.07236   -78.45086            1              NAD83 1399.50       0.01\n",
      "789   42.15683   -78.71556            1              NAD83 1357.49       0.01\n",
      "    alt_datum_cd   huc_cd data_type_cd parm_cd stat_cd  ts_id loc_web_ds\n",
      "154       NAVD88 05010001           uv   00060    <NA> 122208       <NA>\n",
      "535       NGVD29 05010001           uv   00060    <NA> 122215       <NA>\n",
      "543       NGVD29 05010001           uv   00060    <NA> 122220       <NA>\n",
      "550       NAVD88 05010001           uv   00060    <NA> 107518       <NA>\n",
      "789       NAVD88 05010001           uv   00060    <NA> 107522       <NA>\n",
      "    medium_grp_cd parm_grp_cd  srs_id access_cd begin_date   end_date count_nu\n",
      "154           wat        <NA> 1645423         0 1991-10-01 2025-05-11    12276\n",
      "535           wat        <NA> 1645423         0 1991-10-01 2025-05-11    12276\n",
      "543           wat        <NA> 1645423         0 1991-10-01 2025-05-11    12276\n",
      "550           wat        <NA> 1645423         0 2010-08-21 2025-05-11     5377\n",
      "789           wat        <NA> 1645423         0 1990-10-01 2025-05-11    12641\n"
     ]
    }
   ],
   "source": [
    "# Get converage for first two downloaded five sites\n",
    "site_numbers_examples_downloaded_data <- downloaded_streamflow_STID[1:5]\n",
    "print(site_numbers_examples_downloaded_data)\n",
    "coverage_downloaded_data <- get_usgs_coverage(site_numbers_examples_downloaded_data, parameter_cd = \"00060\", service = \"uv\")\n",
    "print(coverage_downloaded_data)"
   ]
  },
  {
   "cell_type": "code",
   "execution_count": 26,
   "id": "3a4c0ce3",
   "metadata": {
    "vscode": {
     "languageId": "r"
    }
   },
   "outputs": [
    {
     "data": {
      "text/html": [
       "<table class=\"dataframe\">\n",
       "<caption>A data.frame: 5 × 5</caption>\n",
       "<thead>\n",
       "\t<tr><th scope=col>site_no</th><th scope=col>parameter_cd</th><th scope=col>start_date</th><th scope=col>end_date</th><th scope=col>record_count</th></tr>\n",
       "\t<tr><th scope=col>&lt;chr&gt;</th><th scope=col>&lt;chr&gt;</th><th scope=col>&lt;date&gt;</th><th scope=col>&lt;date&gt;</th><th scope=col>&lt;int&gt;</th></tr>\n",
       "</thead>\n",
       "<tbody>\n",
       "\t<tr><td>03007800</td><td>00060</td><td>1991-10-01</td><td>2025-05-11</td><td>12276</td></tr>\n",
       "\t<tr><td>03010500</td><td>00060</td><td>1991-10-01</td><td>2025-05-11</td><td>12276</td></tr>\n",
       "\t<tr><td>03010655</td><td>00060</td><td>1991-10-01</td><td>2025-05-11</td><td>12276</td></tr>\n",
       "\t<tr><td>03010820</td><td>00060</td><td>2010-08-21</td><td>2025-05-11</td><td> 5377</td></tr>\n",
       "\t<tr><td>03011020</td><td>00060</td><td>1990-10-01</td><td>2025-05-11</td><td>12641</td></tr>\n",
       "</tbody>\n",
       "</table>\n"
      ],
      "text/latex": [
       "A data.frame: 5 × 5\n",
       "\\begin{tabular}{lllll}\n",
       " site\\_no & parameter\\_cd & start\\_date & end\\_date & record\\_count\\\\\n",
       " <chr> & <chr> & <date> & <date> & <int>\\\\\n",
       "\\hline\n",
       "\t 03007800 & 00060 & 1991-10-01 & 2025-05-11 & 12276\\\\\n",
       "\t 03010500 & 00060 & 1991-10-01 & 2025-05-11 & 12276\\\\\n",
       "\t 03010655 & 00060 & 1991-10-01 & 2025-05-11 & 12276\\\\\n",
       "\t 03010820 & 00060 & 2010-08-21 & 2025-05-11 &  5377\\\\\n",
       "\t 03011020 & 00060 & 1990-10-01 & 2025-05-11 & 12641\\\\\n",
       "\\end{tabular}\n"
      ],
      "text/markdown": [
       "\n",
       "A data.frame: 5 × 5\n",
       "\n",
       "| site_no &lt;chr&gt; | parameter_cd &lt;chr&gt; | start_date &lt;date&gt; | end_date &lt;date&gt; | record_count &lt;int&gt; |\n",
       "|---|---|---|---|---|\n",
       "| 03007800 | 00060 | 1991-10-01 | 2025-05-11 | 12276 |\n",
       "| 03010500 | 00060 | 1991-10-01 | 2025-05-11 | 12276 |\n",
       "| 03010655 | 00060 | 1991-10-01 | 2025-05-11 | 12276 |\n",
       "| 03010820 | 00060 | 2010-08-21 | 2025-05-11 |  5377 |\n",
       "| 03011020 | 00060 | 1990-10-01 | 2025-05-11 | 12641 |\n",
       "\n"
      ],
      "text/plain": [
       "  site_no  parameter_cd start_date end_date   record_count\n",
       "1 03007800 00060        1991-10-01 2025-05-11 12276       \n",
       "2 03010500 00060        1991-10-01 2025-05-11 12276       \n",
       "3 03010655 00060        1991-10-01 2025-05-11 12276       \n",
       "4 03010820 00060        2010-08-21 2025-05-11  5377       \n",
       "5 03011020 00060        1990-10-01 2025-05-11 12641       "
      ]
     },
     "metadata": {},
     "output_type": "display_data"
    }
   ],
   "source": [
    "parameter_cd = \"00060\"\n",
    "# Select and format relevant columns\n",
    "coverage_downloaded_data <- coverage_downloaded_data %>%\n",
    "  dplyr::select(\n",
    "    site_no,\n",
    "    parm_cd,\n",
    "    begin_date,\n",
    "    end_date,\n",
    "    count_nu\n",
    "  ) %>%\n",
    "  dplyr::rename(\n",
    "    parameter_cd = parm_cd,\n",
    "    start_date = begin_date,\n",
    "    end_date = end_date,\n",
    "    record_count = count_nu\n",
    "  ) %>%\n",
    "  dplyr::filter(parameter_cd == !!parameter_cd)\n",
    "\n",
    "# Ensure all input sites are returned (even if no data)\n",
    "all_sites <- data.frame(site_no = site_numbers_examples_downloaded_data)\n",
    "coverage_downloaded_data <- all_sites %>%\n",
    "  dplyr::left_join(coverage_downloaded_data, by = \"site_no\") %>%\n",
    "  dplyr::mutate(\n",
    "    parameter_cd = parameter_cd,\n",
    "    start_date = as.Date(start_date),\n",
    "    end_date = as.Date(end_date),\n",
    "    record_count = as.integer(record_count)\n",
    "  ) %>%\n",
    "  dplyr::select(site_no, parameter_cd, start_date, end_date, record_count)\n",
    "coverage_downloaded_data\n"
   ]
  },
  {
   "cell_type": "markdown",
   "id": "f7c1cfea",
   "metadata": {},
   "source": [
    "Apparently the two sation id in which it failed to dowload, have no data. The code below retrieves info about all failed stations. If no info is retrieved for any specific stations, it will be assumed no data is available for that station and will be excluded from modeling. "
   ]
  },
  {
   "cell_type": "code",
   "execution_count": 37,
   "id": "41a531fd",
   "metadata": {
    "vscode": {
     "languageId": "r"
    }
   },
   "outputs": [],
   "source": [
    "# Define function to clean and format the coverage data\n",
    "clean_usgs_coverage <- function(coverage_data, parameter_cd = \"00060\", site_numbers) {\n",
    "  tryCatch({\n",
    "    # Clean and format the coverage data\n",
    "    coverage_data <- coverage_data %>%\n",
    "      dplyr::select(\n",
    "        site_no,\n",
    "        parm_cd,\n",
    "        begin_date,\n",
    "        end_date,\n",
    "        count_nu\n",
    "      ) %>%\n",
    "      dplyr::rename(\n",
    "        parameter_cd = parm_cd,\n",
    "        start_date = begin_date,\n",
    "        end_date = end_date,\n",
    "        record_count = count_nu\n",
    "      ) %>%\n",
    "      dplyr::filter(parameter_cd == !!parameter_cd)\n",
    "\n",
    "    # Ensure all input sites are returned (even if no data)\n",
    "    all_sites <- data.frame(site_no = site_numbers)\n",
    "    coverage_data <- all_sites %>%\n",
    "      dplyr::left_join(coverage_data, by = \"site_no\") %>%\n",
    "      dplyr::mutate(\n",
    "        parameter_cd = parameter_cd,\n",
    "        start_date = as.Date(start_date),\n",
    "        end_date = as.Date(end_date),\n",
    "        record_count = as.integer(record_count)\n",
    "      ) %>%\n",
    "      dplyr::select(site_no, parameter_cd, start_date, end_date, record_count)\n",
    "\n",
    "    return(coverage_data)\n",
    "  }, error = function(e) {\n",
    "    return(coverage_data)\n",
    "  })\n",
    "}"
   ]
  },
  {
   "cell_type": "code",
   "execution_count": 44,
   "id": "88d7b0fc",
   "metadata": {
    "vscode": {
     "languageId": "r"
    }
   },
   "outputs": [
    {
     "name": "stdout",
     "output_type": "stream",
     "text": [
      "[1] \"03170500\"\n"
     ]
    },
    {
     "name": "stderr",
     "output_type": "stream",
     "text": [
      "GET: https://waterservices.usgs.gov/nwis/site/?seriesCatalogOutput=true&sites=03170500&format=rdb\n",
      "\n",
      "Warning message in get_usgs_coverage(site_number, parameter_cd = parameter_cd, service = \"uv\"):\n",
      "\"No coverage data available for the specified sites and parameter\"\n"
     ]
    },
    {
     "data": {
      "text/html": [
       "<table class=\"dataframe\">\n",
       "<caption>A data.frame: 1 × 5</caption>\n",
       "<thead>\n",
       "\t<tr><th scope=col>site_no</th><th scope=col>parameter_cd</th><th scope=col>start_date</th><th scope=col>end_date</th><th scope=col>record_count</th></tr>\n",
       "\t<tr><th scope=col>&lt;chr&gt;</th><th scope=col>&lt;chr&gt;</th><th scope=col>&lt;date&gt;</th><th scope=col>&lt;date&gt;</th><th scope=col>&lt;int&gt;</th></tr>\n",
       "</thead>\n",
       "<tbody>\n",
       "\t<tr><td>03170500</td><td>00060</td><td>NA</td><td>NA</td><td>NA</td></tr>\n",
       "</tbody>\n",
       "</table>\n"
      ],
      "text/latex": [
       "A data.frame: 1 × 5\n",
       "\\begin{tabular}{lllll}\n",
       " site\\_no & parameter\\_cd & start\\_date & end\\_date & record\\_count\\\\\n",
       " <chr> & <chr> & <date> & <date> & <int>\\\\\n",
       "\\hline\n",
       "\t 03170500 & 00060 & NA & NA & NA\\\\\n",
       "\\end{tabular}\n"
      ],
      "text/markdown": [
       "\n",
       "A data.frame: 1 × 5\n",
       "\n",
       "| site_no &lt;chr&gt; | parameter_cd &lt;chr&gt; | start_date &lt;date&gt; | end_date &lt;date&gt; | record_count &lt;int&gt; |\n",
       "|---|---|---|---|---|\n",
       "| 03170500 | 00060 | NA | NA | NA |\n",
       "\n"
      ],
      "text/plain": [
       "  site_no  parameter_cd start_date end_date record_count\n",
       "1 03170500 00060        <NA>       <NA>     NA          "
      ]
     },
     "metadata": {},
     "output_type": "display_data"
    }
   ],
   "source": [
    "# Test the function for one failed site\n",
    "site_number <- failed_downloads_stid[1]\n",
    "parameter_cd <- \"00060\"\n",
    "print(site_number)\n",
    "coverage_data <- get_usgs_coverage(site_number, parameter_cd = parameter_cd, service = \"uv\") %>% \n",
    "  clean_usgs_coverage(parameter_cd = parameter_cd, site_numbers = site_number)\n",
    "coverage_data\n"
   ]
  },
  {
   "cell_type": "code",
   "execution_count": 40,
   "id": "9af1f24a",
   "metadata": {
    "vscode": {
     "languageId": "r"
    }
   },
   "outputs": [
    {
     "name": "stderr",
     "output_type": "stream",
     "text": [
      "POST: https://waterservices.usgs.gov/nwis/site/\n",
      "\n"
     ]
    },
    {
     "data": {
      "text/html": [
       "<table class=\"dataframe\">\n",
       "<caption>A data.frame: 360 × 5</caption>\n",
       "<thead>\n",
       "\t<tr><th scope=col>site_no</th><th scope=col>parameter_cd</th><th scope=col>start_date</th><th scope=col>end_date</th><th scope=col>record_count</th></tr>\n",
       "\t<tr><th scope=col>&lt;chr&gt;</th><th scope=col>&lt;chr&gt;</th><th scope=col>&lt;date&gt;</th><th scope=col>&lt;date&gt;</th><th scope=col>&lt;int&gt;</th></tr>\n",
       "</thead>\n",
       "<tbody>\n",
       "\t<tr><td>03170500       </td><td>NA   </td><td>NA</td><td>NA</td><td>  NA</td></tr>\n",
       "\t<tr><td>0317154954     </td><td>NA   </td><td>NA</td><td>NA</td><td>  NA</td></tr>\n",
       "\t<tr><td>0317159760     </td><td>NA   </td><td>NA</td><td>NA</td><td>  NA</td></tr>\n",
       "\t<tr><td>03178150       </td><td>NA   </td><td>NA</td><td>NA</td><td>  NA</td></tr>\n",
       "\t<tr><td>03178179       </td><td>NA   </td><td>NA</td><td>NA</td><td>  NA</td></tr>\n",
       "\t<tr><td>03178000       </td><td>00060</td><td>1997-02-14</td><td>1998-08-19</td><td> 551</td></tr>\n",
       "\t<tr><td>03178120       </td><td>NA   </td><td>NA</td><td>NA</td><td>  NA</td></tr>\n",
       "\t<tr><td>03179800       </td><td>NA   </td><td>NA</td><td>NA</td><td>  NA</td></tr>\n",
       "\t<tr><td>03184500       </td><td>00060</td><td>1996-10-01</td><td>2003-09-30</td><td>2555</td></tr>\n",
       "\t<tr><td>0318989690     </td><td>NA   </td><td>NA</td><td>NA</td><td>  NA</td></tr>\n",
       "\t<tr><td>03189863       </td><td>NA   </td><td>NA</td><td>NA</td><td>  NA</td></tr>\n",
       "\t<tr><td>03182888       </td><td>NA   </td><td>NA</td><td>NA</td><td>  NA</td></tr>\n",
       "\t<tr><td>03182970       </td><td>NA   </td><td>NA</td><td>NA</td><td>  NA</td></tr>\n",
       "\t<tr><td>03182890       </td><td>NA   </td><td>NA</td><td>NA</td><td>  NA</td></tr>\n",
       "\t<tr><td>03182900       </td><td>NA   </td><td>NA</td><td>NA</td><td>  NA</td></tr>\n",
       "\t<tr><td>03182600       </td><td>NA   </td><td>NA</td><td>NA</td><td>  NA</td></tr>\n",
       "\t<tr><td>03182050       </td><td>NA   </td><td>NA</td><td>NA</td><td>  NA</td></tr>\n",
       "\t<tr><td>03180900       </td><td>NA   </td><td>NA</td><td>NA</td><td>  NA</td></tr>\n",
       "\t<tr><td>03049925       </td><td>NA   </td><td>NA</td><td>NA</td><td>  NA</td></tr>\n",
       "\t<tr><td>03049930       </td><td>NA   </td><td>NA</td><td>NA</td><td>  NA</td></tr>\n",
       "\t<tr><td>380649081083301</td><td>NA   </td><td>NA</td><td>NA</td><td>  NA</td></tr>\n",
       "\t<tr><td>0319382976     </td><td>NA   </td><td>NA</td><td>NA</td><td>  NA</td></tr>\n",
       "\t<tr><td>03197939       </td><td>NA   </td><td>NA</td><td>NA</td><td>  NA</td></tr>\n",
       "\t<tr><td>03197910       </td><td>NA   </td><td>NA</td><td>NA</td><td>  NA</td></tr>\n",
       "\t<tr><td>03189600       </td><td>00060</td><td>1996-10-01</td><td>2003-09-30</td><td>2555</td></tr>\n",
       "\t<tr><td>03187000       </td><td>NA   </td><td>NA</td><td>NA</td><td>  NA</td></tr>\n",
       "\t<tr><td>03196500       </td><td>NA   </td><td>NA</td><td>NA</td><td>  NA</td></tr>\n",
       "\t<tr><td>03197445       </td><td>NA   </td><td>NA</td><td>NA</td><td>  NA</td></tr>\n",
       "\t<tr><td>03159750       </td><td>NA   </td><td>NA</td><td>NA</td><td>  NA</td></tr>\n",
       "\t<tr><td>03155588       </td><td>NA   </td><td>NA</td><td>NA</td><td>  NA</td></tr>\n",
       "\t<tr><td>⋮</td><td>⋮</td><td>⋮</td><td>⋮</td><td>⋮</td></tr>\n",
       "\t<tr><td>03353240       </td><td>NA   </td><td>NA</td><td>NA</td><td>  NA</td></tr>\n",
       "\t<tr><td>03351700       </td><td>NA   </td><td>NA</td><td>NA</td><td>  NA</td></tr>\n",
       "\t<tr><td>03350400       </td><td>NA   </td><td>NA</td><td>NA</td><td>  NA</td></tr>\n",
       "\t<tr><td>03348502       </td><td>NA   </td><td>NA</td><td>NA</td><td>  NA</td></tr>\n",
       "\t<tr><td>03347598       </td><td>NA   </td><td>NA</td><td>NA</td><td>  NA</td></tr>\n",
       "\t<tr><td>03338780       </td><td>00060</td><td>1988-11-03</td><td>2010-09-30</td><td>8001</td></tr>\n",
       "\t<tr><td>03338780       </td><td>00060</td><td>2007-10-01</td><td>2014-11-12</td><td>2599</td></tr>\n",
       "\t<tr><td>03335680       </td><td>NA   </td><td>NA</td><td>NA</td><td>  NA</td></tr>\n",
       "\t<tr><td>03329500       </td><td>NA   </td><td>NA</td><td>NA</td><td>  NA</td></tr>\n",
       "\t<tr><td>03326950       </td><td>NA   </td><td>NA</td><td>NA</td><td>  NA</td></tr>\n",
       "\t<tr><td>403204084342601</td><td>NA   </td><td>NA</td><td>NA</td><td>  NA</td></tr>\n",
       "\t<tr><td>03327000       </td><td>NA   </td><td>NA</td><td>NA</td><td>  NA</td></tr>\n",
       "\t<tr><td>03327528       </td><td>NA   </td><td>NA</td><td>NA</td><td>  NA</td></tr>\n",
       "\t<tr><td>03324450       </td><td>NA   </td><td>NA</td><td>NA</td><td>  NA</td></tr>\n",
       "\t<tr><td>03324500       </td><td>NA   </td><td>NA</td><td>NA</td><td>  NA</td></tr>\n",
       "\t<tr><td>03323090       </td><td>NA   </td><td>NA</td><td>NA</td><td>  NA</td></tr>\n",
       "\t<tr><td>03343350       </td><td>NA   </td><td>NA</td><td>NA</td><td>  NA</td></tr>\n",
       "\t<tr><td>03336998       </td><td>NA   </td><td>NA</td><td>NA</td><td>  NA</td></tr>\n",
       "\t<tr><td>03323450       </td><td>NA   </td><td>NA</td><td>NA</td><td>  NA</td></tr>\n",
       "\t<tr><td>03323500       </td><td>NA   </td><td>NA</td><td>NA</td><td>  NA</td></tr>\n",
       "\t<tr><td>03331040       </td><td>NA   </td><td>NA</td><td>NA</td><td>  NA</td></tr>\n",
       "\t<tr><td>03331440       </td><td>NA   </td><td>NA</td><td>NA</td><td>  NA</td></tr>\n",
       "\t<tr><td>03260500       </td><td>NA   </td><td>NA</td><td>NA</td><td>  NA</td></tr>\n",
       "\t<tr><td>03012520       </td><td>NA   </td><td>NA</td><td>NA</td><td>  NA</td></tr>\n",
       "\t<tr><td>03010955       </td><td>NA   </td><td>NA</td><td>NA</td><td>  NA</td></tr>\n",
       "\t<tr><td>03010720       </td><td>NA   </td><td>NA</td><td>NA</td><td>  NA</td></tr>\n",
       "\t<tr><td>03010674       </td><td>NA   </td><td>NA</td><td>NA</td><td>  NA</td></tr>\n",
       "\t<tr><td>03011500       </td><td>NA   </td><td>NA</td><td>NA</td><td>  NA</td></tr>\n",
       "\t<tr><td>03013946       </td><td>NA   </td><td>NA</td><td>NA</td><td>  NA</td></tr>\n",
       "\t<tr><td>370000089094501</td><td>NA   </td><td>NA</td><td>NA</td><td>  NA</td></tr>\n",
       "</tbody>\n",
       "</table>\n"
      ],
      "text/latex": [
       "A data.frame: 360 × 5\n",
       "\\begin{tabular}{lllll}\n",
       " site\\_no & parameter\\_cd & start\\_date & end\\_date & record\\_count\\\\\n",
       " <chr> & <chr> & <date> & <date> & <int>\\\\\n",
       "\\hline\n",
       "\t 03170500        & NA    & NA & NA &   NA\\\\\n",
       "\t 0317154954      & NA    & NA & NA &   NA\\\\\n",
       "\t 0317159760      & NA    & NA & NA &   NA\\\\\n",
       "\t 03178150        & NA    & NA & NA &   NA\\\\\n",
       "\t 03178179        & NA    & NA & NA &   NA\\\\\n",
       "\t 03178000        & 00060 & 1997-02-14 & 1998-08-19 &  551\\\\\n",
       "\t 03178120        & NA    & NA & NA &   NA\\\\\n",
       "\t 03179800        & NA    & NA & NA &   NA\\\\\n",
       "\t 03184500        & 00060 & 1996-10-01 & 2003-09-30 & 2555\\\\\n",
       "\t 0318989690      & NA    & NA & NA &   NA\\\\\n",
       "\t 03189863        & NA    & NA & NA &   NA\\\\\n",
       "\t 03182888        & NA    & NA & NA &   NA\\\\\n",
       "\t 03182970        & NA    & NA & NA &   NA\\\\\n",
       "\t 03182890        & NA    & NA & NA &   NA\\\\\n",
       "\t 03182900        & NA    & NA & NA &   NA\\\\\n",
       "\t 03182600        & NA    & NA & NA &   NA\\\\\n",
       "\t 03182050        & NA    & NA & NA &   NA\\\\\n",
       "\t 03180900        & NA    & NA & NA &   NA\\\\\n",
       "\t 03049925        & NA    & NA & NA &   NA\\\\\n",
       "\t 03049930        & NA    & NA & NA &   NA\\\\\n",
       "\t 380649081083301 & NA    & NA & NA &   NA\\\\\n",
       "\t 0319382976      & NA    & NA & NA &   NA\\\\\n",
       "\t 03197939        & NA    & NA & NA &   NA\\\\\n",
       "\t 03197910        & NA    & NA & NA &   NA\\\\\n",
       "\t 03189600        & 00060 & 1996-10-01 & 2003-09-30 & 2555\\\\\n",
       "\t 03187000        & NA    & NA & NA &   NA\\\\\n",
       "\t 03196500        & NA    & NA & NA &   NA\\\\\n",
       "\t 03197445        & NA    & NA & NA &   NA\\\\\n",
       "\t 03159750        & NA    & NA & NA &   NA\\\\\n",
       "\t 03155588        & NA    & NA & NA &   NA\\\\\n",
       "\t ⋮ & ⋮ & ⋮ & ⋮ & ⋮\\\\\n",
       "\t 03353240        & NA    & NA & NA &   NA\\\\\n",
       "\t 03351700        & NA    & NA & NA &   NA\\\\\n",
       "\t 03350400        & NA    & NA & NA &   NA\\\\\n",
       "\t 03348502        & NA    & NA & NA &   NA\\\\\n",
       "\t 03347598        & NA    & NA & NA &   NA\\\\\n",
       "\t 03338780        & 00060 & 1988-11-03 & 2010-09-30 & 8001\\\\\n",
       "\t 03338780        & 00060 & 2007-10-01 & 2014-11-12 & 2599\\\\\n",
       "\t 03335680        & NA    & NA & NA &   NA\\\\\n",
       "\t 03329500        & NA    & NA & NA &   NA\\\\\n",
       "\t 03326950        & NA    & NA & NA &   NA\\\\\n",
       "\t 403204084342601 & NA    & NA & NA &   NA\\\\\n",
       "\t 03327000        & NA    & NA & NA &   NA\\\\\n",
       "\t 03327528        & NA    & NA & NA &   NA\\\\\n",
       "\t 03324450        & NA    & NA & NA &   NA\\\\\n",
       "\t 03324500        & NA    & NA & NA &   NA\\\\\n",
       "\t 03323090        & NA    & NA & NA &   NA\\\\\n",
       "\t 03343350        & NA    & NA & NA &   NA\\\\\n",
       "\t 03336998        & NA    & NA & NA &   NA\\\\\n",
       "\t 03323450        & NA    & NA & NA &   NA\\\\\n",
       "\t 03323500        & NA    & NA & NA &   NA\\\\\n",
       "\t 03331040        & NA    & NA & NA &   NA\\\\\n",
       "\t 03331440        & NA    & NA & NA &   NA\\\\\n",
       "\t 03260500        & NA    & NA & NA &   NA\\\\\n",
       "\t 03012520        & NA    & NA & NA &   NA\\\\\n",
       "\t 03010955        & NA    & NA & NA &   NA\\\\\n",
       "\t 03010720        & NA    & NA & NA &   NA\\\\\n",
       "\t 03010674        & NA    & NA & NA &   NA\\\\\n",
       "\t 03011500        & NA    & NA & NA &   NA\\\\\n",
       "\t 03013946        & NA    & NA & NA &   NA\\\\\n",
       "\t 370000089094501 & NA    & NA & NA &   NA\\\\\n",
       "\\end{tabular}\n"
      ],
      "text/markdown": [
       "\n",
       "A data.frame: 360 × 5\n",
       "\n",
       "| site_no &lt;chr&gt; | parameter_cd &lt;chr&gt; | start_date &lt;date&gt; | end_date &lt;date&gt; | record_count &lt;int&gt; |\n",
       "|---|---|---|---|---|\n",
       "| 03170500        | NA    | NA | NA |   NA |\n",
       "| 0317154954      | NA    | NA | NA |   NA |\n",
       "| 0317159760      | NA    | NA | NA |   NA |\n",
       "| 03178150        | NA    | NA | NA |   NA |\n",
       "| 03178179        | NA    | NA | NA |   NA |\n",
       "| 03178000        | 00060 | 1997-02-14 | 1998-08-19 |  551 |\n",
       "| 03178120        | NA    | NA | NA |   NA |\n",
       "| 03179800        | NA    | NA | NA |   NA |\n",
       "| 03184500        | 00060 | 1996-10-01 | 2003-09-30 | 2555 |\n",
       "| 0318989690      | NA    | NA | NA |   NA |\n",
       "| 03189863        | NA    | NA | NA |   NA |\n",
       "| 03182888        | NA    | NA | NA |   NA |\n",
       "| 03182970        | NA    | NA | NA |   NA |\n",
       "| 03182890        | NA    | NA | NA |   NA |\n",
       "| 03182900        | NA    | NA | NA |   NA |\n",
       "| 03182600        | NA    | NA | NA |   NA |\n",
       "| 03182050        | NA    | NA | NA |   NA |\n",
       "| 03180900        | NA    | NA | NA |   NA |\n",
       "| 03049925        | NA    | NA | NA |   NA |\n",
       "| 03049930        | NA    | NA | NA |   NA |\n",
       "| 380649081083301 | NA    | NA | NA |   NA |\n",
       "| 0319382976      | NA    | NA | NA |   NA |\n",
       "| 03197939        | NA    | NA | NA |   NA |\n",
       "| 03197910        | NA    | NA | NA |   NA |\n",
       "| 03189600        | 00060 | 1996-10-01 | 2003-09-30 | 2555 |\n",
       "| 03187000        | NA    | NA | NA |   NA |\n",
       "| 03196500        | NA    | NA | NA |   NA |\n",
       "| 03197445        | NA    | NA | NA |   NA |\n",
       "| 03159750        | NA    | NA | NA |   NA |\n",
       "| 03155588        | NA    | NA | NA |   NA |\n",
       "| ⋮ | ⋮ | ⋮ | ⋮ | ⋮ |\n",
       "| 03353240        | NA    | NA | NA |   NA |\n",
       "| 03351700        | NA    | NA | NA |   NA |\n",
       "| 03350400        | NA    | NA | NA |   NA |\n",
       "| 03348502        | NA    | NA | NA |   NA |\n",
       "| 03347598        | NA    | NA | NA |   NA |\n",
       "| 03338780        | 00060 | 1988-11-03 | 2010-09-30 | 8001 |\n",
       "| 03338780        | 00060 | 2007-10-01 | 2014-11-12 | 2599 |\n",
       "| 03335680        | NA    | NA | NA |   NA |\n",
       "| 03329500        | NA    | NA | NA |   NA |\n",
       "| 03326950        | NA    | NA | NA |   NA |\n",
       "| 403204084342601 | NA    | NA | NA |   NA |\n",
       "| 03327000        | NA    | NA | NA |   NA |\n",
       "| 03327528        | NA    | NA | NA |   NA |\n",
       "| 03324450        | NA    | NA | NA |   NA |\n",
       "| 03324500        | NA    | NA | NA |   NA |\n",
       "| 03323090        | NA    | NA | NA |   NA |\n",
       "| 03343350        | NA    | NA | NA |   NA |\n",
       "| 03336998        | NA    | NA | NA |   NA |\n",
       "| 03323450        | NA    | NA | NA |   NA |\n",
       "| 03323500        | NA    | NA | NA |   NA |\n",
       "| 03331040        | NA    | NA | NA |   NA |\n",
       "| 03331440        | NA    | NA | NA |   NA |\n",
       "| 03260500        | NA    | NA | NA |   NA |\n",
       "| 03012520        | NA    | NA | NA |   NA |\n",
       "| 03010955        | NA    | NA | NA |   NA |\n",
       "| 03010720        | NA    | NA | NA |   NA |\n",
       "| 03010674        | NA    | NA | NA |   NA |\n",
       "| 03011500        | NA    | NA | NA |   NA |\n",
       "| 03013946        | NA    | NA | NA |   NA |\n",
       "| 370000089094501 | NA    | NA | NA |   NA |\n",
       "\n"
      ],
      "text/plain": [
       "    site_no         parameter_cd start_date end_date   record_count\n",
       "1   03170500        NA           <NA>       <NA>         NA        \n",
       "2   0317154954      NA           <NA>       <NA>         NA        \n",
       "3   0317159760      NA           <NA>       <NA>         NA        \n",
       "4   03178150        NA           <NA>       <NA>         NA        \n",
       "5   03178179        NA           <NA>       <NA>         NA        \n",
       "6   03178000        00060        1997-02-14 1998-08-19  551        \n",
       "7   03178120        NA           <NA>       <NA>         NA        \n",
       "8   03179800        NA           <NA>       <NA>         NA        \n",
       "9   03184500        00060        1996-10-01 2003-09-30 2555        \n",
       "10  0318989690      NA           <NA>       <NA>         NA        \n",
       "11  03189863        NA           <NA>       <NA>         NA        \n",
       "12  03182888        NA           <NA>       <NA>         NA        \n",
       "13  03182970        NA           <NA>       <NA>         NA        \n",
       "14  03182890        NA           <NA>       <NA>         NA        \n",
       "15  03182900        NA           <NA>       <NA>         NA        \n",
       "16  03182600        NA           <NA>       <NA>         NA        \n",
       "17  03182050        NA           <NA>       <NA>         NA        \n",
       "18  03180900        NA           <NA>       <NA>         NA        \n",
       "19  03049925        NA           <NA>       <NA>         NA        \n",
       "20  03049930        NA           <NA>       <NA>         NA        \n",
       "21  380649081083301 NA           <NA>       <NA>         NA        \n",
       "22  0319382976      NA           <NA>       <NA>         NA        \n",
       "23  03197939        NA           <NA>       <NA>         NA        \n",
       "24  03197910        NA           <NA>       <NA>         NA        \n",
       "25  03189600        00060        1996-10-01 2003-09-30 2555        \n",
       "26  03187000        NA           <NA>       <NA>         NA        \n",
       "27  03196500        NA           <NA>       <NA>         NA        \n",
       "28  03197445        NA           <NA>       <NA>         NA        \n",
       "29  03159750        NA           <NA>       <NA>         NA        \n",
       "30  03155588        NA           <NA>       <NA>         NA        \n",
       "<U+22EE>   <U+22EE>        <U+22EE>     <U+22EE>   <U+22EE>   <U+22EE>    \n",
       "331 03353240        NA           <NA>       <NA>         NA        \n",
       "332 03351700        NA           <NA>       <NA>         NA        \n",
       "333 03350400        NA           <NA>       <NA>         NA        \n",
       "334 03348502        NA           <NA>       <NA>         NA        \n",
       "335 03347598        NA           <NA>       <NA>         NA        \n",
       "336 03338780        00060        1988-11-03 2010-09-30 8001        \n",
       "337 03338780        00060        2007-10-01 2014-11-12 2599        \n",
       "338 03335680        NA           <NA>       <NA>         NA        \n",
       "339 03329500        NA           <NA>       <NA>         NA        \n",
       "340 03326950        NA           <NA>       <NA>         NA        \n",
       "341 403204084342601 NA           <NA>       <NA>         NA        \n",
       "342 03327000        NA           <NA>       <NA>         NA        \n",
       "343 03327528        NA           <NA>       <NA>         NA        \n",
       "344 03324450        NA           <NA>       <NA>         NA        \n",
       "345 03324500        NA           <NA>       <NA>         NA        \n",
       "346 03323090        NA           <NA>       <NA>         NA        \n",
       "347 03343350        NA           <NA>       <NA>         NA        \n",
       "348 03336998        NA           <NA>       <NA>         NA        \n",
       "349 03323450        NA           <NA>       <NA>         NA        \n",
       "350 03323500        NA           <NA>       <NA>         NA        \n",
       "351 03331040        NA           <NA>       <NA>         NA        \n",
       "352 03331440        NA           <NA>       <NA>         NA        \n",
       "353 03260500        NA           <NA>       <NA>         NA        \n",
       "354 03012520        NA           <NA>       <NA>         NA        \n",
       "355 03010955        NA           <NA>       <NA>         NA        \n",
       "356 03010720        NA           <NA>       <NA>         NA        \n",
       "357 03010674        NA           <NA>       <NA>         NA        \n",
       "358 03011500        NA           <NA>       <NA>         NA        \n",
       "359 03013946        NA           <NA>       <NA>         NA        \n",
       "360 370000089094501 NA           <NA>       <NA>         NA        "
      ]
     },
     "metadata": {},
     "output_type": "display_data"
    }
   ],
   "source": [
    "# Get coverage for all downloaded sites\n",
    "site_numbers <- failed_downloads_stid\n",
    "parameter_cd <- \"00060\"\n",
    "coverage_data_all_failed_sites <- get_usgs_coverage(site_numbers, parameter_cd = parameter_cd, service = \"uv\") %>% \n",
    "  clean_usgs_coverage(parameter_cd = parameter_cd, site_numbers = site_numbers)\n",
    "coverage_data_all_failed_sites"
   ]
  },
  {
   "cell_type": "markdown",
   "id": "47b17e77",
   "metadata": {},
   "source": [
    "As seen from table above, the most of failed stations have no info data available. Next, is checked the period coverage for sites with avialable info. "
   ]
  },
  {
   "cell_type": "code",
   "execution_count": 41,
   "id": "bbeee54b",
   "metadata": {
    "vscode": {
     "languageId": "r"
    }
   },
   "outputs": [
    {
     "data": {
      "text/html": [
       "<table class=\"dataframe\">\n",
       "<caption>A data.frame: 55 × 5</caption>\n",
       "<thead>\n",
       "\t<tr><th scope=col>site_no</th><th scope=col>parameter_cd</th><th scope=col>start_date</th><th scope=col>end_date</th><th scope=col>record_count</th></tr>\n",
       "\t<tr><th scope=col>&lt;chr&gt;</th><th scope=col>&lt;chr&gt;</th><th scope=col>&lt;date&gt;</th><th scope=col>&lt;date&gt;</th><th scope=col>&lt;int&gt;</th></tr>\n",
       "</thead>\n",
       "<tbody>\n",
       "\t<tr><td>03084800</td><td>00060</td><td>2024-10-01</td><td>2025-05-11</td><td> 222</td></tr>\n",
       "\t<tr><td>03085213</td><td>00060</td><td>2025-01-11</td><td>2025-05-11</td><td> 120</td></tr>\n",
       "\t<tr><td>03049819</td><td>00060</td><td>2025-01-11</td><td>2025-05-11</td><td> 120</td></tr>\n",
       "\t<tr><td>03049807</td><td>00060</td><td>2024-10-01</td><td>2025-05-11</td><td> 222</td></tr>\n",
       "\t<tr><td>03084698</td><td>00060</td><td>2007-10-01</td><td>2025-05-11</td><td>6432</td></tr>\n",
       "\t<tr><td>03085947</td><td>00060</td><td>2007-10-01</td><td>2025-05-11</td><td>6432</td></tr>\n",
       "\t<tr><td>03092090</td><td>00060</td><td>2022-10-01</td><td>2025-05-11</td><td> 953</td></tr>\n",
       "\t<tr><td>03229000</td><td>00060</td><td>2024-08-10</td><td>2025-05-11</td><td> 274</td></tr>\n",
       "\t<tr><td>03338780</td><td>00060</td><td>2007-10-01</td><td>2014-11-12</td><td>2599</td></tr>\n",
       "\t<tr><td>03432100</td><td>00060</td><td>2007-10-01</td><td>2012-09-30</td><td>1826</td></tr>\n",
       "\t<tr><td>03146405</td><td>00060</td><td>2007-10-13</td><td>2010-09-30</td><td>1083</td></tr>\n",
       "\t<tr><td>03338780</td><td>00060</td><td>1988-11-03</td><td>2010-09-30</td><td>8001</td></tr>\n",
       "\t<tr><td>03146277</td><td>00060</td><td>2007-10-06</td><td>2009-09-30</td><td> 725</td></tr>\n",
       "\t<tr><td>03249500</td><td>00060</td><td>1987-10-01</td><td>2009-09-26</td><td>8031</td></tr>\n",
       "\t<tr><td>03146405</td><td>00060</td><td>2007-10-13</td><td>2009-09-18</td><td> 706</td></tr>\n",
       "\t<tr><td>03084800</td><td>00060</td><td>2004-05-13</td><td>2008-09-30</td><td>1601</td></tr>\n",
       "\t<tr><td>03085213</td><td>00060</td><td>2004-05-01</td><td>2008-09-30</td><td>1613</td></tr>\n",
       "\t<tr><td>03049819</td><td>00060</td><td>2006-06-13</td><td>2008-09-30</td><td> 840</td></tr>\n",
       "\t<tr><td>03049807</td><td>00060</td><td>2006-06-13</td><td>2008-09-30</td><td> 840</td></tr>\n",
       "\t<tr><td>03084698</td><td>00060</td><td>2004-08-09</td><td>2008-09-30</td><td>1513</td></tr>\n",
       "\t<tr><td>03085947</td><td>00060</td><td>2006-06-07</td><td>2008-09-30</td><td> 846</td></tr>\n",
       "\t<tr><td>03249505</td><td>00060</td><td>2003-10-01</td><td>2006-09-30</td><td>1095</td></tr>\n",
       "\t<tr><td>03361000</td><td>00060</td><td>1987-10-01</td><td>2005-10-01</td><td>6575</td></tr>\n",
       "\t<tr><td>03403500</td><td>00060</td><td>1984-03-17</td><td>2005-09-30</td><td>7867</td></tr>\n",
       "\t<tr><td>03050500</td><td>00060</td><td>1996-10-01</td><td>2004-09-30</td><td>2921</td></tr>\n",
       "\t<tr><td>03319000</td><td>00060</td><td>1987-01-01</td><td>2004-09-30</td><td>6482</td></tr>\n",
       "\t<tr><td>03085000</td><td>00060</td><td>1988-10-05</td><td>2004-03-29</td><td>5654</td></tr>\n",
       "\t<tr><td>03357500</td><td>00060</td><td>1988-10-01</td><td>2004-01-22</td><td>5591</td></tr>\n",
       "\t<tr><td>03184500</td><td>00060</td><td>1996-10-01</td><td>2003-09-30</td><td>2555</td></tr>\n",
       "\t<tr><td>03189600</td><td>00060</td><td>1996-10-01</td><td>2003-09-30</td><td>2555</td></tr>\n",
       "\t<tr><td>03098700</td><td>00060</td><td>1999-04-01</td><td>2000-09-30</td><td> 548</td></tr>\n",
       "\t<tr><td>03229000</td><td>00060</td><td>1990-10-01</td><td>1998-09-30</td><td>2921</td></tr>\n",
       "\t<tr><td>03223000</td><td>00060</td><td>1990-10-01</td><td>1998-09-30</td><td>2921</td></tr>\n",
       "\t<tr><td>03178000</td><td>00060</td><td>1997-02-14</td><td>1998-08-19</td><td> 551</td></tr>\n",
       "\t<tr><td>03230900</td><td>00060</td><td>1990-10-01</td><td>1997-09-30</td><td>2556</td></tr>\n",
       "\t<tr><td>03313000</td><td>00060</td><td>1987-03-06</td><td>1994-09-30</td><td>2765</td></tr>\n",
       "\t<tr><td>03306000</td><td>00060</td><td>1986-10-10</td><td>1994-09-30</td><td>2912</td></tr>\n",
       "\t<tr><td>03102950</td><td>00060</td><td>1990-10-01</td><td>1994-09-30</td><td>1460</td></tr>\n",
       "\t<tr><td>03092090</td><td>00060</td><td>1988-11-03</td><td>1993-09-30</td><td>1792</td></tr>\n",
       "\t<tr><td>03021410</td><td>00060</td><td>1991-10-01</td><td>1993-09-30</td><td> 730</td></tr>\n",
       "\t<tr><td>03135000</td><td>00060</td><td>1990-10-01</td><td>1993-09-30</td><td>1095</td></tr>\n",
       "\t<tr><td>03086500</td><td>00060</td><td>1990-10-01</td><td>1993-09-04</td><td>1069</td></tr>\n",
       "\t<tr><td>03315500</td><td>00060</td><td>1987-10-01</td><td>1992-09-30</td><td>1826</td></tr>\n",
       "\t<tr><td>03417500</td><td>00060</td><td>1987-10-05</td><td>1991-09-30</td><td>1456</td></tr>\n",
       "\t<tr><td>03232470</td><td>00060</td><td>1988-10-05</td><td>1991-09-30</td><td>1090</td></tr>\n",
       "\t<tr><td>03255500</td><td>00060</td><td>1990-10-01</td><td>1991-09-30</td><td> 364</td></tr>\n",
       "\t<tr><td>03231000</td><td>00060</td><td>1990-10-01</td><td>1991-09-30</td><td> 364</td></tr>\n",
       "\t<tr><td>03122500</td><td>00060</td><td>1990-10-01</td><td>1991-09-30</td><td> 364</td></tr>\n",
       "\t<tr><td>03124000</td><td>00060</td><td>1990-10-01</td><td>1991-09-30</td><td> 364</td></tr>\n",
       "\t<tr><td>03130000</td><td>00060</td><td>1990-10-01</td><td>1991-09-30</td><td> 364</td></tr>\n",
       "\t<tr><td>03147500</td><td>00060</td><td>1990-10-01</td><td>1991-09-30</td><td> 364</td></tr>\n",
       "\t<tr><td>03143500</td><td>00060</td><td>1988-10-05</td><td>1991-09-30</td><td>1090</td></tr>\n",
       "\t<tr><td>03138500</td><td>00060</td><td>1990-10-01</td><td>1991-09-30</td><td> 364</td></tr>\n",
       "\t<tr><td>03133500</td><td>00060</td><td>1990-10-01</td><td>1991-09-30</td><td> 364</td></tr>\n",
       "\t<tr><td>03131500</td><td>00060</td><td>1988-10-05</td><td>1991-09-30</td><td>1090</td></tr>\n",
       "</tbody>\n",
       "</table>\n"
      ],
      "text/latex": [
       "A data.frame: 55 × 5\n",
       "\\begin{tabular}{lllll}\n",
       " site\\_no & parameter\\_cd & start\\_date & end\\_date & record\\_count\\\\\n",
       " <chr> & <chr> & <date> & <date> & <int>\\\\\n",
       "\\hline\n",
       "\t 03084800 & 00060 & 2024-10-01 & 2025-05-11 &  222\\\\\n",
       "\t 03085213 & 00060 & 2025-01-11 & 2025-05-11 &  120\\\\\n",
       "\t 03049819 & 00060 & 2025-01-11 & 2025-05-11 &  120\\\\\n",
       "\t 03049807 & 00060 & 2024-10-01 & 2025-05-11 &  222\\\\\n",
       "\t 03084698 & 00060 & 2007-10-01 & 2025-05-11 & 6432\\\\\n",
       "\t 03085947 & 00060 & 2007-10-01 & 2025-05-11 & 6432\\\\\n",
       "\t 03092090 & 00060 & 2022-10-01 & 2025-05-11 &  953\\\\\n",
       "\t 03229000 & 00060 & 2024-08-10 & 2025-05-11 &  274\\\\\n",
       "\t 03338780 & 00060 & 2007-10-01 & 2014-11-12 & 2599\\\\\n",
       "\t 03432100 & 00060 & 2007-10-01 & 2012-09-30 & 1826\\\\\n",
       "\t 03146405 & 00060 & 2007-10-13 & 2010-09-30 & 1083\\\\\n",
       "\t 03338780 & 00060 & 1988-11-03 & 2010-09-30 & 8001\\\\\n",
       "\t 03146277 & 00060 & 2007-10-06 & 2009-09-30 &  725\\\\\n",
       "\t 03249500 & 00060 & 1987-10-01 & 2009-09-26 & 8031\\\\\n",
       "\t 03146405 & 00060 & 2007-10-13 & 2009-09-18 &  706\\\\\n",
       "\t 03084800 & 00060 & 2004-05-13 & 2008-09-30 & 1601\\\\\n",
       "\t 03085213 & 00060 & 2004-05-01 & 2008-09-30 & 1613\\\\\n",
       "\t 03049819 & 00060 & 2006-06-13 & 2008-09-30 &  840\\\\\n",
       "\t 03049807 & 00060 & 2006-06-13 & 2008-09-30 &  840\\\\\n",
       "\t 03084698 & 00060 & 2004-08-09 & 2008-09-30 & 1513\\\\\n",
       "\t 03085947 & 00060 & 2006-06-07 & 2008-09-30 &  846\\\\\n",
       "\t 03249505 & 00060 & 2003-10-01 & 2006-09-30 & 1095\\\\\n",
       "\t 03361000 & 00060 & 1987-10-01 & 2005-10-01 & 6575\\\\\n",
       "\t 03403500 & 00060 & 1984-03-17 & 2005-09-30 & 7867\\\\\n",
       "\t 03050500 & 00060 & 1996-10-01 & 2004-09-30 & 2921\\\\\n",
       "\t 03319000 & 00060 & 1987-01-01 & 2004-09-30 & 6482\\\\\n",
       "\t 03085000 & 00060 & 1988-10-05 & 2004-03-29 & 5654\\\\\n",
       "\t 03357500 & 00060 & 1988-10-01 & 2004-01-22 & 5591\\\\\n",
       "\t 03184500 & 00060 & 1996-10-01 & 2003-09-30 & 2555\\\\\n",
       "\t 03189600 & 00060 & 1996-10-01 & 2003-09-30 & 2555\\\\\n",
       "\t 03098700 & 00060 & 1999-04-01 & 2000-09-30 &  548\\\\\n",
       "\t 03229000 & 00060 & 1990-10-01 & 1998-09-30 & 2921\\\\\n",
       "\t 03223000 & 00060 & 1990-10-01 & 1998-09-30 & 2921\\\\\n",
       "\t 03178000 & 00060 & 1997-02-14 & 1998-08-19 &  551\\\\\n",
       "\t 03230900 & 00060 & 1990-10-01 & 1997-09-30 & 2556\\\\\n",
       "\t 03313000 & 00060 & 1987-03-06 & 1994-09-30 & 2765\\\\\n",
       "\t 03306000 & 00060 & 1986-10-10 & 1994-09-30 & 2912\\\\\n",
       "\t 03102950 & 00060 & 1990-10-01 & 1994-09-30 & 1460\\\\\n",
       "\t 03092090 & 00060 & 1988-11-03 & 1993-09-30 & 1792\\\\\n",
       "\t 03021410 & 00060 & 1991-10-01 & 1993-09-30 &  730\\\\\n",
       "\t 03135000 & 00060 & 1990-10-01 & 1993-09-30 & 1095\\\\\n",
       "\t 03086500 & 00060 & 1990-10-01 & 1993-09-04 & 1069\\\\\n",
       "\t 03315500 & 00060 & 1987-10-01 & 1992-09-30 & 1826\\\\\n",
       "\t 03417500 & 00060 & 1987-10-05 & 1991-09-30 & 1456\\\\\n",
       "\t 03232470 & 00060 & 1988-10-05 & 1991-09-30 & 1090\\\\\n",
       "\t 03255500 & 00060 & 1990-10-01 & 1991-09-30 &  364\\\\\n",
       "\t 03231000 & 00060 & 1990-10-01 & 1991-09-30 &  364\\\\\n",
       "\t 03122500 & 00060 & 1990-10-01 & 1991-09-30 &  364\\\\\n",
       "\t 03124000 & 00060 & 1990-10-01 & 1991-09-30 &  364\\\\\n",
       "\t 03130000 & 00060 & 1990-10-01 & 1991-09-30 &  364\\\\\n",
       "\t 03147500 & 00060 & 1990-10-01 & 1991-09-30 &  364\\\\\n",
       "\t 03143500 & 00060 & 1988-10-05 & 1991-09-30 & 1090\\\\\n",
       "\t 03138500 & 00060 & 1990-10-01 & 1991-09-30 &  364\\\\\n",
       "\t 03133500 & 00060 & 1990-10-01 & 1991-09-30 &  364\\\\\n",
       "\t 03131500 & 00060 & 1988-10-05 & 1991-09-30 & 1090\\\\\n",
       "\\end{tabular}\n"
      ],
      "text/markdown": [
       "\n",
       "A data.frame: 55 × 5\n",
       "\n",
       "| site_no &lt;chr&gt; | parameter_cd &lt;chr&gt; | start_date &lt;date&gt; | end_date &lt;date&gt; | record_count &lt;int&gt; |\n",
       "|---|---|---|---|---|\n",
       "| 03084800 | 00060 | 2024-10-01 | 2025-05-11 |  222 |\n",
       "| 03085213 | 00060 | 2025-01-11 | 2025-05-11 |  120 |\n",
       "| 03049819 | 00060 | 2025-01-11 | 2025-05-11 |  120 |\n",
       "| 03049807 | 00060 | 2024-10-01 | 2025-05-11 |  222 |\n",
       "| 03084698 | 00060 | 2007-10-01 | 2025-05-11 | 6432 |\n",
       "| 03085947 | 00060 | 2007-10-01 | 2025-05-11 | 6432 |\n",
       "| 03092090 | 00060 | 2022-10-01 | 2025-05-11 |  953 |\n",
       "| 03229000 | 00060 | 2024-08-10 | 2025-05-11 |  274 |\n",
       "| 03338780 | 00060 | 2007-10-01 | 2014-11-12 | 2599 |\n",
       "| 03432100 | 00060 | 2007-10-01 | 2012-09-30 | 1826 |\n",
       "| 03146405 | 00060 | 2007-10-13 | 2010-09-30 | 1083 |\n",
       "| 03338780 | 00060 | 1988-11-03 | 2010-09-30 | 8001 |\n",
       "| 03146277 | 00060 | 2007-10-06 | 2009-09-30 |  725 |\n",
       "| 03249500 | 00060 | 1987-10-01 | 2009-09-26 | 8031 |\n",
       "| 03146405 | 00060 | 2007-10-13 | 2009-09-18 |  706 |\n",
       "| 03084800 | 00060 | 2004-05-13 | 2008-09-30 | 1601 |\n",
       "| 03085213 | 00060 | 2004-05-01 | 2008-09-30 | 1613 |\n",
       "| 03049819 | 00060 | 2006-06-13 | 2008-09-30 |  840 |\n",
       "| 03049807 | 00060 | 2006-06-13 | 2008-09-30 |  840 |\n",
       "| 03084698 | 00060 | 2004-08-09 | 2008-09-30 | 1513 |\n",
       "| 03085947 | 00060 | 2006-06-07 | 2008-09-30 |  846 |\n",
       "| 03249505 | 00060 | 2003-10-01 | 2006-09-30 | 1095 |\n",
       "| 03361000 | 00060 | 1987-10-01 | 2005-10-01 | 6575 |\n",
       "| 03403500 | 00060 | 1984-03-17 | 2005-09-30 | 7867 |\n",
       "| 03050500 | 00060 | 1996-10-01 | 2004-09-30 | 2921 |\n",
       "| 03319000 | 00060 | 1987-01-01 | 2004-09-30 | 6482 |\n",
       "| 03085000 | 00060 | 1988-10-05 | 2004-03-29 | 5654 |\n",
       "| 03357500 | 00060 | 1988-10-01 | 2004-01-22 | 5591 |\n",
       "| 03184500 | 00060 | 1996-10-01 | 2003-09-30 | 2555 |\n",
       "| 03189600 | 00060 | 1996-10-01 | 2003-09-30 | 2555 |\n",
       "| 03098700 | 00060 | 1999-04-01 | 2000-09-30 |  548 |\n",
       "| 03229000 | 00060 | 1990-10-01 | 1998-09-30 | 2921 |\n",
       "| 03223000 | 00060 | 1990-10-01 | 1998-09-30 | 2921 |\n",
       "| 03178000 | 00060 | 1997-02-14 | 1998-08-19 |  551 |\n",
       "| 03230900 | 00060 | 1990-10-01 | 1997-09-30 | 2556 |\n",
       "| 03313000 | 00060 | 1987-03-06 | 1994-09-30 | 2765 |\n",
       "| 03306000 | 00060 | 1986-10-10 | 1994-09-30 | 2912 |\n",
       "| 03102950 | 00060 | 1990-10-01 | 1994-09-30 | 1460 |\n",
       "| 03092090 | 00060 | 1988-11-03 | 1993-09-30 | 1792 |\n",
       "| 03021410 | 00060 | 1991-10-01 | 1993-09-30 |  730 |\n",
       "| 03135000 | 00060 | 1990-10-01 | 1993-09-30 | 1095 |\n",
       "| 03086500 | 00060 | 1990-10-01 | 1993-09-04 | 1069 |\n",
       "| 03315500 | 00060 | 1987-10-01 | 1992-09-30 | 1826 |\n",
       "| 03417500 | 00060 | 1987-10-05 | 1991-09-30 | 1456 |\n",
       "| 03232470 | 00060 | 1988-10-05 | 1991-09-30 | 1090 |\n",
       "| 03255500 | 00060 | 1990-10-01 | 1991-09-30 |  364 |\n",
       "| 03231000 | 00060 | 1990-10-01 | 1991-09-30 |  364 |\n",
       "| 03122500 | 00060 | 1990-10-01 | 1991-09-30 |  364 |\n",
       "| 03124000 | 00060 | 1990-10-01 | 1991-09-30 |  364 |\n",
       "| 03130000 | 00060 | 1990-10-01 | 1991-09-30 |  364 |\n",
       "| 03147500 | 00060 | 1990-10-01 | 1991-09-30 |  364 |\n",
       "| 03143500 | 00060 | 1988-10-05 | 1991-09-30 | 1090 |\n",
       "| 03138500 | 00060 | 1990-10-01 | 1991-09-30 |  364 |\n",
       "| 03133500 | 00060 | 1990-10-01 | 1991-09-30 |  364 |\n",
       "| 03131500 | 00060 | 1988-10-05 | 1991-09-30 | 1090 |\n",
       "\n"
      ],
      "text/plain": [
       "   site_no  parameter_cd start_date end_date   record_count\n",
       "1  03084800 00060        2024-10-01 2025-05-11  222        \n",
       "2  03085213 00060        2025-01-11 2025-05-11  120        \n",
       "3  03049819 00060        2025-01-11 2025-05-11  120        \n",
       "4  03049807 00060        2024-10-01 2025-05-11  222        \n",
       "5  03084698 00060        2007-10-01 2025-05-11 6432        \n",
       "6  03085947 00060        2007-10-01 2025-05-11 6432        \n",
       "7  03092090 00060        2022-10-01 2025-05-11  953        \n",
       "8  03229000 00060        2024-08-10 2025-05-11  274        \n",
       "9  03338780 00060        2007-10-01 2014-11-12 2599        \n",
       "10 03432100 00060        2007-10-01 2012-09-30 1826        \n",
       "11 03146405 00060        2007-10-13 2010-09-30 1083        \n",
       "12 03338780 00060        1988-11-03 2010-09-30 8001        \n",
       "13 03146277 00060        2007-10-06 2009-09-30  725        \n",
       "14 03249500 00060        1987-10-01 2009-09-26 8031        \n",
       "15 03146405 00060        2007-10-13 2009-09-18  706        \n",
       "16 03084800 00060        2004-05-13 2008-09-30 1601        \n",
       "17 03085213 00060        2004-05-01 2008-09-30 1613        \n",
       "18 03049819 00060        2006-06-13 2008-09-30  840        \n",
       "19 03049807 00060        2006-06-13 2008-09-30  840        \n",
       "20 03084698 00060        2004-08-09 2008-09-30 1513        \n",
       "21 03085947 00060        2006-06-07 2008-09-30  846        \n",
       "22 03249505 00060        2003-10-01 2006-09-30 1095        \n",
       "23 03361000 00060        1987-10-01 2005-10-01 6575        \n",
       "24 03403500 00060        1984-03-17 2005-09-30 7867        \n",
       "25 03050500 00060        1996-10-01 2004-09-30 2921        \n",
       "26 03319000 00060        1987-01-01 2004-09-30 6482        \n",
       "27 03085000 00060        1988-10-05 2004-03-29 5654        \n",
       "28 03357500 00060        1988-10-01 2004-01-22 5591        \n",
       "29 03184500 00060        1996-10-01 2003-09-30 2555        \n",
       "30 03189600 00060        1996-10-01 2003-09-30 2555        \n",
       "31 03098700 00060        1999-04-01 2000-09-30  548        \n",
       "32 03229000 00060        1990-10-01 1998-09-30 2921        \n",
       "33 03223000 00060        1990-10-01 1998-09-30 2921        \n",
       "34 03178000 00060        1997-02-14 1998-08-19  551        \n",
       "35 03230900 00060        1990-10-01 1997-09-30 2556        \n",
       "36 03313000 00060        1987-03-06 1994-09-30 2765        \n",
       "37 03306000 00060        1986-10-10 1994-09-30 2912        \n",
       "38 03102950 00060        1990-10-01 1994-09-30 1460        \n",
       "39 03092090 00060        1988-11-03 1993-09-30 1792        \n",
       "40 03021410 00060        1991-10-01 1993-09-30  730        \n",
       "41 03135000 00060        1990-10-01 1993-09-30 1095        \n",
       "42 03086500 00060        1990-10-01 1993-09-04 1069        \n",
       "43 03315500 00060        1987-10-01 1992-09-30 1826        \n",
       "44 03417500 00060        1987-10-05 1991-09-30 1456        \n",
       "45 03232470 00060        1988-10-05 1991-09-30 1090        \n",
       "46 03255500 00060        1990-10-01 1991-09-30  364        \n",
       "47 03231000 00060        1990-10-01 1991-09-30  364        \n",
       "48 03122500 00060        1990-10-01 1991-09-30  364        \n",
       "49 03124000 00060        1990-10-01 1991-09-30  364        \n",
       "50 03130000 00060        1990-10-01 1991-09-30  364        \n",
       "51 03147500 00060        1990-10-01 1991-09-30  364        \n",
       "52 03143500 00060        1988-10-05 1991-09-30 1090        \n",
       "53 03138500 00060        1990-10-01 1991-09-30  364        \n",
       "54 03133500 00060        1990-10-01 1991-09-30  364        \n",
       "55 03131500 00060        1988-10-05 1991-09-30 1090        "
      ]
     },
     "metadata": {},
     "output_type": "display_data"
    }
   ],
   "source": [
    "coverage_data_all_failed_sites %>% filter(!is.na(end_date)) %>% arrange(desc(end_date))"
   ]
  },
  {
   "cell_type": "markdown",
   "id": "ff9b8872",
   "metadata": {},
   "source": [
    "There are 55 failed sites that actually have data available. Next is selected only the failed sites with data avialable in the coverage period (2014 - 2025), and attempt to download again data for those sites. "
   ]
  },
  {
   "cell_type": "code",
   "execution_count": 42,
   "id": "3c2b5ad2",
   "metadata": {
    "vscode": {
     "languageId": "r"
    }
   },
   "outputs": [
    {
     "data": {
      "text/html": [
       "<table class=\"dataframe\">\n",
       "<caption>A data.frame: 9 × 5</caption>\n",
       "<thead>\n",
       "\t<tr><th scope=col>site_no</th><th scope=col>parameter_cd</th><th scope=col>start_date</th><th scope=col>end_date</th><th scope=col>record_count</th></tr>\n",
       "\t<tr><th scope=col>&lt;chr&gt;</th><th scope=col>&lt;chr&gt;</th><th scope=col>&lt;date&gt;</th><th scope=col>&lt;date&gt;</th><th scope=col>&lt;int&gt;</th></tr>\n",
       "</thead>\n",
       "<tbody>\n",
       "\t<tr><td>03084800</td><td>00060</td><td>2024-10-01</td><td>2025-05-11</td><td> 222</td></tr>\n",
       "\t<tr><td>03085213</td><td>00060</td><td>2025-01-11</td><td>2025-05-11</td><td> 120</td></tr>\n",
       "\t<tr><td>03049819</td><td>00060</td><td>2025-01-11</td><td>2025-05-11</td><td> 120</td></tr>\n",
       "\t<tr><td>03049807</td><td>00060</td><td>2024-10-01</td><td>2025-05-11</td><td> 222</td></tr>\n",
       "\t<tr><td>03084698</td><td>00060</td><td>2007-10-01</td><td>2025-05-11</td><td>6432</td></tr>\n",
       "\t<tr><td>03085947</td><td>00060</td><td>2007-10-01</td><td>2025-05-11</td><td>6432</td></tr>\n",
       "\t<tr><td>03092090</td><td>00060</td><td>2022-10-01</td><td>2025-05-11</td><td> 953</td></tr>\n",
       "\t<tr><td>03229000</td><td>00060</td><td>2024-08-10</td><td>2025-05-11</td><td> 274</td></tr>\n",
       "\t<tr><td>03338780</td><td>00060</td><td>2007-10-01</td><td>2014-11-12</td><td>2599</td></tr>\n",
       "</tbody>\n",
       "</table>\n"
      ],
      "text/latex": [
       "A data.frame: 9 × 5\n",
       "\\begin{tabular}{lllll}\n",
       " site\\_no & parameter\\_cd & start\\_date & end\\_date & record\\_count\\\\\n",
       " <chr> & <chr> & <date> & <date> & <int>\\\\\n",
       "\\hline\n",
       "\t 03084800 & 00060 & 2024-10-01 & 2025-05-11 &  222\\\\\n",
       "\t 03085213 & 00060 & 2025-01-11 & 2025-05-11 &  120\\\\\n",
       "\t 03049819 & 00060 & 2025-01-11 & 2025-05-11 &  120\\\\\n",
       "\t 03049807 & 00060 & 2024-10-01 & 2025-05-11 &  222\\\\\n",
       "\t 03084698 & 00060 & 2007-10-01 & 2025-05-11 & 6432\\\\\n",
       "\t 03085947 & 00060 & 2007-10-01 & 2025-05-11 & 6432\\\\\n",
       "\t 03092090 & 00060 & 2022-10-01 & 2025-05-11 &  953\\\\\n",
       "\t 03229000 & 00060 & 2024-08-10 & 2025-05-11 &  274\\\\\n",
       "\t 03338780 & 00060 & 2007-10-01 & 2014-11-12 & 2599\\\\\n",
       "\\end{tabular}\n"
      ],
      "text/markdown": [
       "\n",
       "A data.frame: 9 × 5\n",
       "\n",
       "| site_no &lt;chr&gt; | parameter_cd &lt;chr&gt; | start_date &lt;date&gt; | end_date &lt;date&gt; | record_count &lt;int&gt; |\n",
       "|---|---|---|---|---|\n",
       "| 03084800 | 00060 | 2024-10-01 | 2025-05-11 |  222 |\n",
       "| 03085213 | 00060 | 2025-01-11 | 2025-05-11 |  120 |\n",
       "| 03049819 | 00060 | 2025-01-11 | 2025-05-11 |  120 |\n",
       "| 03049807 | 00060 | 2024-10-01 | 2025-05-11 |  222 |\n",
       "| 03084698 | 00060 | 2007-10-01 | 2025-05-11 | 6432 |\n",
       "| 03085947 | 00060 | 2007-10-01 | 2025-05-11 | 6432 |\n",
       "| 03092090 | 00060 | 2022-10-01 | 2025-05-11 |  953 |\n",
       "| 03229000 | 00060 | 2024-08-10 | 2025-05-11 |  274 |\n",
       "| 03338780 | 00060 | 2007-10-01 | 2014-11-12 | 2599 |\n",
       "\n"
      ],
      "text/plain": [
       "  site_no  parameter_cd start_date end_date   record_count\n",
       "1 03084800 00060        2024-10-01 2025-05-11  222        \n",
       "2 03085213 00060        2025-01-11 2025-05-11  120        \n",
       "3 03049819 00060        2025-01-11 2025-05-11  120        \n",
       "4 03049807 00060        2024-10-01 2025-05-11  222        \n",
       "5 03084698 00060        2007-10-01 2025-05-11 6432        \n",
       "6 03085947 00060        2007-10-01 2025-05-11 6432        \n",
       "7 03092090 00060        2022-10-01 2025-05-11  953        \n",
       "8 03229000 00060        2024-08-10 2025-05-11  274        \n",
       "9 03338780 00060        2007-10-01 2014-11-12 2599        "
      ]
     },
     "metadata": {},
     "output_type": "display_data"
    }
   ],
   "source": [
    "coverage_data_sites_within_period_of_study <-  coverage_data_all_failed_sites %>%\n",
    " filter(!is.na(end_date) & !is.na(start_date)) %>%\n",
    " filter(end_date >= as.Date(\"2014-01-01\")) %>%\n",
    " arrange(desc(end_date))\n",
    "coverage_data_sites_within_period_of_study"
   ]
  },
  {
   "cell_type": "markdown",
   "id": "6bc45955",
   "metadata": {},
   "source": [
    "From the above, its seen there are 9 sites within the period of study. The `record_count` column however, seems to be quite small for the instateneous data (15 minute measurement). Next, is downloaded data for the stations shown in table above. "
   ]
  },
  {
   "cell_type": "code",
   "execution_count": 49,
   "id": "0d80c5e4",
   "metadata": {
    "vscode": {
     "languageId": "r"
    }
   },
   "outputs": [
    {
     "data": {
      "text/html": [
       "'1/9 - Downloading data for site 03084800'"
      ],
      "text/latex": [
       "'1/9 - Downloading data for site 03084800'"
      ],
      "text/markdown": [
       "'1/9 - Downloading data for site 03084800'"
      ],
      "text/plain": [
       "[1] \"1/9 - Downloading data for site 03084800\""
      ]
     },
     "metadata": {
      "display_id": "status",
      "update": true
     },
     "output_type": "display_data"
    },
    {
     "name": "stderr",
     "output_type": "stream",
     "text": [
      "GET: https://nwis.waterservices.usgs.gov/nwis/iv/?site=03084800&format=waterml,1.1&ParameterCd=00060&startDT=2024-10-01&endDT=2025-05-11\n",
      "\n",
      "Warning message in value[[3L]](cond):\n",
      "\"Error downloading data for site 03084800 : \"\n"
     ]
    },
    {
     "data": {
      "text/html": [
       "'2/9 - Downloading data for site 03085213'"
      ],
      "text/latex": [
       "'2/9 - Downloading data for site 03085213'"
      ],
      "text/markdown": [
       "'2/9 - Downloading data for site 03085213'"
      ],
      "text/plain": [
       "[1] \"2/9 - Downloading data for site 03085213\""
      ]
     },
     "metadata": {
      "display_id": "status",
      "update": true
     },
     "output_type": "display_data"
    },
    {
     "name": "stderr",
     "output_type": "stream",
     "text": [
      "GET: https://nwis.waterservices.usgs.gov/nwis/iv/?site=03085213&format=waterml,1.1&ParameterCd=00060&startDT=2025-01-11&endDT=2025-05-11\n",
      "\n",
      "Warning message in value[[3L]](cond):\n",
      "\"Error downloading data for site 03085213 : \"\n"
     ]
    },
    {
     "data": {
      "text/html": [
       "'3/9 - Downloading data for site 03049819'"
      ],
      "text/latex": [
       "'3/9 - Downloading data for site 03049819'"
      ],
      "text/markdown": [
       "'3/9 - Downloading data for site 03049819'"
      ],
      "text/plain": [
       "[1] \"3/9 - Downloading data for site 03049819\""
      ]
     },
     "metadata": {
      "display_id": "status",
      "update": true
     },
     "output_type": "display_data"
    },
    {
     "name": "stderr",
     "output_type": "stream",
     "text": [
      "GET: https://nwis.waterservices.usgs.gov/nwis/iv/?site=03049819&format=waterml,1.1&ParameterCd=00060&startDT=2025-01-11&endDT=2025-05-11\n",
      "\n",
      "Warning message in value[[3L]](cond):\n",
      "\"Error downloading data for site 03049819 : \"\n"
     ]
    },
    {
     "data": {
      "text/html": [
       "'4/9 - Downloading data for site 03049807'"
      ],
      "text/latex": [
       "'4/9 - Downloading data for site 03049807'"
      ],
      "text/markdown": [
       "'4/9 - Downloading data for site 03049807'"
      ],
      "text/plain": [
       "[1] \"4/9 - Downloading data for site 03049807\""
      ]
     },
     "metadata": {
      "display_id": "status",
      "update": true
     },
     "output_type": "display_data"
    },
    {
     "name": "stderr",
     "output_type": "stream",
     "text": [
      "GET: https://nwis.waterservices.usgs.gov/nwis/iv/?site=03049807&format=waterml,1.1&ParameterCd=00060&startDT=2024-10-01&endDT=2025-05-11\n",
      "\n",
      "Warning message in value[[3L]](cond):\n",
      "\"Error downloading data for site 03049807 : \"\n"
     ]
    },
    {
     "data": {
      "text/html": [
       "'5/9 - Downloading data for site 03084698'"
      ],
      "text/latex": [
       "'5/9 - Downloading data for site 03084698'"
      ],
      "text/markdown": [
       "'5/9 - Downloading data for site 03084698'"
      ],
      "text/plain": [
       "[1] \"5/9 - Downloading data for site 03084698\""
      ]
     },
     "metadata": {
      "display_id": "status",
      "update": true
     },
     "output_type": "display_data"
    },
    {
     "name": "stderr",
     "output_type": "stream",
     "text": [
      "GET: https://nwis.waterservices.usgs.gov/nwis/iv/?site=03084698&format=waterml,1.1&ParameterCd=00060&startDT=2014-01-01&endDT=2025-05-11\n",
      "\n",
      "Warning message in value[[3L]](cond):\n",
      "\"Error downloading data for site 03084698 : \"\n"
     ]
    },
    {
     "data": {
      "text/html": [
       "'6/9 - Downloading data for site 03085947'"
      ],
      "text/latex": [
       "'6/9 - Downloading data for site 03085947'"
      ],
      "text/markdown": [
       "'6/9 - Downloading data for site 03085947'"
      ],
      "text/plain": [
       "[1] \"6/9 - Downloading data for site 03085947\""
      ]
     },
     "metadata": {
      "display_id": "status",
      "update": true
     },
     "output_type": "display_data"
    },
    {
     "name": "stderr",
     "output_type": "stream",
     "text": [
      "GET: https://nwis.waterservices.usgs.gov/nwis/iv/?site=03085947&format=waterml,1.1&ParameterCd=00060&startDT=2014-01-01&endDT=2025-05-11\n",
      "\n",
      "Warning message in value[[3L]](cond):\n",
      "\"Error downloading data for site 03085947 : \"\n"
     ]
    },
    {
     "data": {
      "text/html": [
       "'7/9 - Downloading data for site 03092090'"
      ],
      "text/latex": [
       "'7/9 - Downloading data for site 03092090'"
      ],
      "text/markdown": [
       "'7/9 - Downloading data for site 03092090'"
      ],
      "text/plain": [
       "[1] \"7/9 - Downloading data for site 03092090\""
      ]
     },
     "metadata": {
      "display_id": "status",
      "update": true
     },
     "output_type": "display_data"
    },
    {
     "name": "stderr",
     "output_type": "stream",
     "text": [
      "GET: https://nwis.waterservices.usgs.gov/nwis/iv/?site=03092090&format=waterml,1.1&ParameterCd=00060&startDT=2022-10-01&endDT=2025-05-11\n",
      "\n",
      "Warning message in value[[3L]](cond):\n",
      "\"Error downloading data for site 03092090 : \"\n"
     ]
    },
    {
     "data": {
      "text/html": [
       "'8/9 - Downloading data for site 03229000'"
      ],
      "text/latex": [
       "'8/9 - Downloading data for site 03229000'"
      ],
      "text/markdown": [
       "'8/9 - Downloading data for site 03229000'"
      ],
      "text/plain": [
       "[1] \"8/9 - Downloading data for site 03229000\""
      ]
     },
     "metadata": {
      "display_id": "status",
      "update": true
     },
     "output_type": "display_data"
    },
    {
     "name": "stderr",
     "output_type": "stream",
     "text": [
      "GET: https://nwis.waterservices.usgs.gov/nwis/iv/?site=03229000&format=waterml,1.1&ParameterCd=00060&startDT=2024-08-10&endDT=2025-05-11\n",
      "\n",
      "Warning message in value[[3L]](cond):\n",
      "\"Error downloading data for site 03229000 : \"\n"
     ]
    },
    {
     "data": {
      "text/html": [
       "'9/9 - Downloading data for site 03338780'"
      ],
      "text/latex": [
       "'9/9 - Downloading data for site 03338780'"
      ],
      "text/markdown": [
       "'9/9 - Downloading data for site 03338780'"
      ],
      "text/plain": [
       "[1] \"9/9 - Downloading data for site 03338780\""
      ]
     },
     "metadata": {
      "display_id": "status",
      "update": true
     },
     "output_type": "display_data"
    },
    {
     "name": "stderr",
     "output_type": "stream",
     "text": [
      "GET: https://nwis.waterservices.usgs.gov/nwis/iv/?site=03338780&format=waterml,1.1&ParameterCd=00060&startDT=2014-01-01&endDT=2014-11-12\n",
      "\n",
      "Warning message in value[[3L]](cond):\n",
      "\"Error downloading data for site 03338780 : \"\n"
     ]
    },
    {
     "data": {
      "text/html": [
       "''"
      ],
      "text/latex": [
       "''"
      ],
      "text/markdown": [
       "''"
      ],
      "text/plain": [
       "[1] \"\""
      ]
     },
     "metadata": {
      "display_id": "status",
      "update": true
     },
     "output_type": "display_data"
    },
    {
     "name": "stderr",
     "output_type": "stream",
     "text": [
      "Download and save process completed.\n",
      "\n",
      "Check output directory: /Users/alan/Data Science Projects/ML-ModClark-IUH-Model/data/bronze/tabular/streamflow\n",
      "\n"
     ]
    },
    {
     "ename": "ERROR",
     "evalue": "Error in eval(expr, envir, enclos): objeto 'error_stations' n~ao encontrado\n",
     "output_type": "error",
     "traceback": [
      "Error in eval(expr, envir, enclos): objeto 'error_stations' n~ao encontrado\nTraceback:\n"
     ]
    }
   ],
   "source": [
    "# Define output directory\n",
    "output_dir <- \"/Users/alan/Data Science Projects/ML-ModClark-IUH-Model/data/bronze/tabular/streamflow\"\n",
    "\n",
    "count <- 0\n",
    "len <- nrow(coverage_data_sites_within_period_of_study)\n",
    "\n",
    "# Loop through each station code\n",
    "for (i in (1:len)) {\n",
    "  count <- count + 1\n",
    "  site <- coverage_data_sites_within_period_of_study$site_no[i]\n",
    "  start_date <- coverage_data_sites_within_period_of_study$start_date[i]\n",
    "  if (start_date < as.Date(\"2014-01-01\")) {\n",
    "    start_date <- \"2014-01-01\"\n",
    "  } else {\n",
    "    start_date <- as.character(start_date)\n",
    "  }\n",
    "  end_date <- as.character(coverage_data_sites_within_period_of_study$end_date[i])\n",
    "\n",
    "  # Check if file already exists\n",
    "  file_path <- file.path(output_dir, paste0(\"streamflow_\", site, \".parquet\"))\n",
    "  if (file.exists(file_path)) {\n",
    "    message(paste(\"File already exists for site\", site, \"- skipping download\"))\n",
    "    next\n",
    "  }\n",
    "\n",
    "  # Update status in notebook (overwrites previous output)\n",
    "  display(paste0(count, \"/\", len, \" - Downloading data for site \", site), display_id = \"status\", update = TRUE)\n",
    "  \n",
    "  \n",
    "  # Try downloading data with error handling\n",
    "  tryCatch({\n",
    "    streamflow_data <- download_usgs_streamflow(\n",
    "      site_numbers = site,\n",
    "      start_date = start_date,\n",
    "      end_date = end_date\n",
    "    )\n",
    "    \n",
    "    # Save the data if download was successful\n",
    "    if (!is.null(streamflow_data)) {\n",
    "      streamflow_data <- clean_streamflow_data(streamflow_data)\n",
    "    } else {\n",
    "      warning(paste(\"No data available for site\", site))\n",
    "    }\n",
    "    # Save the cleaned data\n",
    "    save_streamflow_data(streamflow_data, site, output_dir)\n",
    "    \n",
    "    # Add a delay to avoid overwhelming the USGS server\n",
    "    Sys.sleep(1)\n",
    "  }, error = function(e) {\n",
    "    warning(paste(\"Error downloading data for site\", site, \":\", e$message))\n",
    "  })\n",
    "}\n",
    "\n",
    "# Clear the status display\n",
    "display(\"\", display_id = \"status\", update = TRUE)\n",
    "\n",
    "# Summary\n",
    "message(\"Download and save process completed.\")\n",
    "message(paste(\"Check output directory:\", output_dir))\n",
    "if (length(error_stations) > 0) {\n",
    "  message(\"Stations with errors: \", paste(error_stations, collapse = \", \"))\n",
    "  message(\"Error messages: \", paste(error_messages, collapse = \"; \"))\n",
    "}"
   ]
  },
  {
   "cell_type": "markdown",
   "id": "315c11ff",
   "metadata": {},
   "source": [
    "From above, all data failed to download. Therefore, **all 350** site in which download failed is excluded from the study. "
   ]
  },
  {
   "cell_type": "markdown",
   "id": "2ff6b5f2",
   "metadata": {},
   "source": [
    "#### Checking for missing date\n",
    "\n",
    "In the cleaning process, it should be checked for missing dates. Because it was not, next, missing dates are checked and filled. "
   ]
  },
  {
   "cell_type": "code",
   "execution_count": 54,
   "id": "5c97d164",
   "metadata": {
    "vscode": {
     "languageId": "r"
    }
   },
   "outputs": [
    {
     "data": {
      "text/html": [
       "<style>\n",
       ".list-inline {list-style: none; margin:0; padding: 0}\n",
       ".list-inline>li {display: inline-block}\n",
       ".list-inline>li:not(:last-child)::after {content: \"\\00b7\"; padding: 0 .5ex}\n",
       "</style>\n",
       "<ol class=list-inline><li>'/Users/alan/Data Science Projects/ML-ModClark-IUH-Model/data/bronze/tabular/streamflow/streamflow_03007800.parquet'</li><li>'/Users/alan/Data Science Projects/ML-ModClark-IUH-Model/data/bronze/tabular/streamflow/streamflow_03010500.parquet'</li><li>'/Users/alan/Data Science Projects/ML-ModClark-IUH-Model/data/bronze/tabular/streamflow/streamflow_03010655.parquet'</li><li>'/Users/alan/Data Science Projects/ML-ModClark-IUH-Model/data/bronze/tabular/streamflow/streamflow_03010820.parquet'</li><li>'/Users/alan/Data Science Projects/ML-ModClark-IUH-Model/data/bronze/tabular/streamflow/streamflow_03011020.parquet'</li></ol>\n"
      ],
      "text/latex": [
       "\\begin{enumerate*}\n",
       "\\item '/Users/alan/Data Science Projects/ML-ModClark-IUH-Model/data/bronze/tabular/streamflow/streamflow\\_03007800.parquet'\n",
       "\\item '/Users/alan/Data Science Projects/ML-ModClark-IUH-Model/data/bronze/tabular/streamflow/streamflow\\_03010500.parquet'\n",
       "\\item '/Users/alan/Data Science Projects/ML-ModClark-IUH-Model/data/bronze/tabular/streamflow/streamflow\\_03010655.parquet'\n",
       "\\item '/Users/alan/Data Science Projects/ML-ModClark-IUH-Model/data/bronze/tabular/streamflow/streamflow\\_03010820.parquet'\n",
       "\\item '/Users/alan/Data Science Projects/ML-ModClark-IUH-Model/data/bronze/tabular/streamflow/streamflow\\_03011020.parquet'\n",
       "\\end{enumerate*}\n"
      ],
      "text/markdown": [
       "1. '/Users/alan/Data Science Projects/ML-ModClark-IUH-Model/data/bronze/tabular/streamflow/streamflow_03007800.parquet'\n",
       "2. '/Users/alan/Data Science Projects/ML-ModClark-IUH-Model/data/bronze/tabular/streamflow/streamflow_03010500.parquet'\n",
       "3. '/Users/alan/Data Science Projects/ML-ModClark-IUH-Model/data/bronze/tabular/streamflow/streamflow_03010655.parquet'\n",
       "4. '/Users/alan/Data Science Projects/ML-ModClark-IUH-Model/data/bronze/tabular/streamflow/streamflow_03010820.parquet'\n",
       "5. '/Users/alan/Data Science Projects/ML-ModClark-IUH-Model/data/bronze/tabular/streamflow/streamflow_03011020.parquet'\n",
       "\n",
       "\n"
      ],
      "text/plain": [
       "[1] \"/Users/alan/Data Science Projects/ML-ModClark-IUH-Model/data/bronze/tabular/streamflow/streamflow_03007800.parquet\"\n",
       "[2] \"/Users/alan/Data Science Projects/ML-ModClark-IUH-Model/data/bronze/tabular/streamflow/streamflow_03010500.parquet\"\n",
       "[3] \"/Users/alan/Data Science Projects/ML-ModClark-IUH-Model/data/bronze/tabular/streamflow/streamflow_03010655.parquet\"\n",
       "[4] \"/Users/alan/Data Science Projects/ML-ModClark-IUH-Model/data/bronze/tabular/streamflow/streamflow_03010820.parquet\"\n",
       "[5] \"/Users/alan/Data Science Projects/ML-ModClark-IUH-Model/data/bronze/tabular/streamflow/streamflow_03011020.parquet\""
      ]
     },
     "metadata": {},
     "output_type": "display_data"
    }
   ],
   "source": [
    "# List of downloaded streamflow files\n",
    "streamflow_files <- list.files(path = streamflow_data_dir, full.names = TRUE)\n",
    "streamflow_files[0:5]"
   ]
  },
  {
   "cell_type": "code",
   "execution_count": 55,
   "id": "2428fae0",
   "metadata": {
    "vscode": {
     "languageId": "r"
    }
   },
   "outputs": [
    {
     "name": "stdout",
     "output_type": "stream",
     "text": [
      "Rows: 371,751\n",
      "Columns: 4\n",
      "$ site_no           \u001b[3m\u001b[90m<chr>\u001b[39m\u001b[23m \"03007800\", \"03007800\", \"03007800\", \"03007800\", \"030~\n",
      "$ dateTime          \u001b[3m\u001b[90m<dttm>\u001b[39m\u001b[23m 2014-01-01 05:00:00, 2014-01-01 05:15:00, 2014-01-0~\n",
      "$ discharge_cfs     \u001b[3m\u001b[90m<dbl>\u001b[39m\u001b[23m 449, 449, 446, 446, 443, 443, 440, 437, 434, 432, 42~\n",
      "$ discharge_quality \u001b[3m\u001b[90m<chr>\u001b[39m\u001b[23m \"A\", \"A\", \"A\", \"A\", \"A\", \"A\", \"A\", \"A\", \"A\", \"A\", \"A~\n"
     ]
    }
   ],
   "source": [
    "# Read example file\n",
    "streamflow_data_example <- read_parquet(streamflow_files[1])\n",
    "glimpse(streamflow_data_example)"
   ]
  },
  {
   "cell_type": "code",
   "execution_count": 57,
   "id": "68a88c53",
   "metadata": {
    "vscode": {
     "languageId": "r"
    }
   },
   "outputs": [],
   "source": [
    "# Count the number of 15-minutes intervals of example data\n",
    "package <- \"lubridate\"\n",
    "# Function to check and install packages\n",
    "\n",
    "if (!require(package, character.only = TRUE)) {\n",
    "  install.packages(package, dependencies = TRUE)\n",
    "  library(package, character.only = TRUE)\n",
    "} else {\n",
    "  library(package, character.only = TRUE)\n",
    "}\n",
    "  \n",
    "count_15min_intervals <- function(date_min, date_max) {\n",
    "  if (is.character(date_min)) {\n",
    "    date_min <- as.POSIXct(date_min, format = \"%Y%m%d %H:%M:%S\", tz = \"UTC\")\n",
    "  }\n",
    "  if (is.character(date_max)) {\n",
    "    date_max <- as.POSIXct(date_max, format = \"%Y%m%d %H:%M:%S\", tz = \"UTC\")\n",
    "  }\n",
    "  delta <- as.numeric(difftime(date_max, date_min, units = \"mins\"))\n",
    "  total_intervals <- floor(delta / 15) + 1\n",
    "  return(as.integer(total_intervals))\n",
    "}"
   ]
  },
  {
   "cell_type": "code",
   "execution_count": 58,
   "id": "fc874269",
   "metadata": {
    "vscode": {
     "languageId": "r"
    }
   },
   "outputs": [
    {
     "name": "stderr",
     "output_type": "stream",
     "text": [
      "The number of data points is equal to the number of 15-minute intervals. There is no missing dates\n",
      "\n"
     ]
    }
   ],
   "source": [
    "number_of_data_points <- count_15min_intervals(min(streamflow_data_example$dateTime), max(streamflow_data_example$dateTime))\n",
    "number_of_15min_intervals_between_dates <- count_15min_intervals(min(streamflow_data_example$dateTime), max(streamflow_data_example$dateTime))\n",
    "if (number_of_data_points == number_of_15min_intervals_between_dates) {\n",
    "  message(\"The number of data points is equal to the number of 15-minute intervals. There is no missing dates\")\n",
    "} else {\n",
    "  message(paste(\"The number of data points is NOT equal to the number of 15-minute intervals. There are\", number_of_15min_intervals_between_dates-number_of_data_points, \"missing dates\"))\n",
    "}"
   ]
  },
  {
   "cell_type": "code",
   "execution_count": 61,
   "id": "881e6778",
   "metadata": {
    "vscode": {
     "languageId": "r"
    }
   },
   "outputs": [
    {
     "data": {
      "text/html": [
       "<table class=\"dataframe\">\n",
       "<caption>A data.frame: 6 × 2</caption>\n",
       "<thead>\n",
       "\t<tr><th></th><th scope=col>site_no</th><th scope=col>missing_dates</th></tr>\n",
       "\t<tr><th></th><th scope=col>&lt;chr&gt;</th><th scope=col>&lt;int&gt;</th></tr>\n",
       "</thead>\n",
       "<tbody>\n",
       "\t<tr><th scope=row>1</th><td>03007800</td><td>0</td></tr>\n",
       "\t<tr><th scope=row>2</th><td>03010500</td><td>0</td></tr>\n",
       "\t<tr><th scope=row>3</th><td>03010655</td><td>0</td></tr>\n",
       "\t<tr><th scope=row>4</th><td>03010820</td><td>0</td></tr>\n",
       "\t<tr><th scope=row>5</th><td>03011020</td><td>0</td></tr>\n",
       "\t<tr><th scope=row>6</th><td>03011800</td><td>0</td></tr>\n",
       "</tbody>\n",
       "</table>\n"
      ],
      "text/latex": [
       "A data.frame: 6 × 2\n",
       "\\begin{tabular}{r|ll}\n",
       "  & site\\_no & missing\\_dates\\\\\n",
       "  & <chr> & <int>\\\\\n",
       "\\hline\n",
       "\t1 & 03007800 & 0\\\\\n",
       "\t2 & 03010500 & 0\\\\\n",
       "\t3 & 03010655 & 0\\\\\n",
       "\t4 & 03010820 & 0\\\\\n",
       "\t5 & 03011020 & 0\\\\\n",
       "\t6 & 03011800 & 0\\\\\n",
       "\\end{tabular}\n"
      ],
      "text/markdown": [
       "\n",
       "A data.frame: 6 × 2\n",
       "\n",
       "| <!--/--> | site_no &lt;chr&gt; | missing_dates &lt;int&gt; |\n",
       "|---|---|---|\n",
       "| 1 | 03007800 | 0 |\n",
       "| 2 | 03010500 | 0 |\n",
       "| 3 | 03010655 | 0 |\n",
       "| 4 | 03010820 | 0 |\n",
       "| 5 | 03011020 | 0 |\n",
       "| 6 | 03011800 | 0 |\n",
       "\n"
      ],
      "text/plain": [
       "  site_no  missing_dates\n",
       "1 03007800 0            \n",
       "2 03010500 0            \n",
       "3 03010655 0            \n",
       "4 03010820 0            \n",
       "5 03011020 0            \n",
       "6 03011800 0            "
      ]
     },
     "metadata": {},
     "output_type": "display_data"
    }
   ],
   "source": [
    "# Check missing dates for all downloaded streamflow data\n",
    "# Initiate empty list to store results\n",
    "site_number <- c()\n",
    "missing_dates <- c()\n",
    "for (file in streamflow_files) {\n",
    "    data <- read_parquet(file)\n",
    "    site_number <- c(site_number, data$site_no[1])\n",
    "    min_date <- min(data$dateTime)\n",
    "    max_date <- max(data$dateTime)\n",
    "    number_of_data_points <- count_15min_intervals(min_date, max_date)\n",
    "    number_of_15min_intervals_between_dates <- count_15min_intervals(min_date, max_date)\n",
    "    number_of_missing_dates <- number_of_15min_intervals_between_dates - number_of_data_points\n",
    "    missing_dates <- c(missing_dates, number_of_missing_dates)\n",
    "}\n",
    "# Create a data frame with the results\n",
    "missing_dates_df <- data.frame(\n",
    "  site_no = site_number,\n",
    "  missing_dates = missing_dates\n",
    ")\n",
    "head(missing_dates_df)"
   ]
  },
  {
   "cell_type": "code",
   "execution_count": 62,
   "id": "8eba7a26",
   "metadata": {
    "vscode": {
     "languageId": "r"
    }
   },
   "outputs": [
    {
     "data": {
      "text/html": [
       "<table class=\"dataframe\">\n",
       "<caption>A data.frame: 0 × 2</caption>\n",
       "<thead>\n",
       "\t<tr><th scope=col>site_no</th><th scope=col>missing_dates</th></tr>\n",
       "\t<tr><th scope=col>&lt;chr&gt;</th><th scope=col>&lt;int&gt;</th></tr>\n",
       "</thead>\n",
       "<tbody>\n",
       "</tbody>\n",
       "</table>\n"
      ],
      "text/latex": [
       "A data.frame: 0 × 2\n",
       "\\begin{tabular}{ll}\n",
       " site\\_no & missing\\_dates\\\\\n",
       " <chr> & <int>\\\\\n",
       "\\hline\n",
       "\\end{tabular}\n"
      ],
      "text/markdown": [
       "\n",
       "A data.frame: 0 × 2\n",
       "\n",
       "| site_no &lt;chr&gt; | missing_dates &lt;int&gt; |\n",
       "|---|---|\n",
       "\n"
      ],
      "text/plain": [
       "     site_no missing_dates"
      ]
     },
     "metadata": {},
     "output_type": "display_data"
    }
   ],
   "source": [
    "# Check if any site has missing dates\n",
    "missing_dates_df %>% filter(missing_dates > 0) %>% arrange(desc(missing_dates))"
   ]
  },
  {
   "cell_type": "markdown",
   "id": "c69c7686",
   "metadata": {},
   "source": [
    "**All site are complete in date  for the coverage period, not having any missing dates.**"
   ]
  },
  {
   "cell_type": "markdown",
   "id": "b4abd520",
   "metadata": {},
   "source": [
    "#### Get and save station info\n",
    "\n",
    "Station info (mainly geolocation info) is important to assure cohenrent CRS across os geolocation files. This and other info are retrieved from USGS for later preprocessing. "
   ]
  },
  {
   "cell_type": "code",
   "execution_count": 6,
   "id": "5de893fc",
   "metadata": {
    "vscode": {
     "languageId": "r"
    }
   },
   "outputs": [],
   "source": [
    "# Modify cleaning function to include geolocation data\n",
    "clean_usgs_coverage <- function(coverage_data, parameter_cd = \"00060\", site_numbers) {\n",
    "  tryCatch({\n",
    "    # Clean and format the coverage data\n",
    "    coverage_data <- coverage_data %>%\n",
    "      select(\n",
    "        site_no,\n",
    "        parm_cd,\n",
    "        begin_date,\n",
    "        end_date,\n",
    "        count_nu,\n",
    "        dec_lat_va,\n",
    "        dec_long_va,\n",
    "        dec_coord_datum_cd\n",
    "      ) %>%\n",
    "      rename(\n",
    "        parameter_cd = parm_cd,\n",
    "        start_date = begin_date,\n",
    "        end_date = end_date,\n",
    "        record_count = count_nu,\n",
    "        latitude = dec_lat_va,\n",
    "        longitude = dec_long_va,\n",
    "        datum = dec_coord_datum_cd\n",
    "      )\n",
    "\n",
    "    # Ensure all input sites are returned (even if no data)\n",
    "    all_sites <- data.frame(site_no = site_numbers)\n",
    "    coverage_data <- all_sites %>%\n",
    "      left_join(coverage_data, by = \"site_no\") %>%\n",
    "      mutate(\n",
    "        parameter_cd = parameter_cd,\n",
    "        start_date = as.Date(start_date),\n",
    "        end_date = as.Date(end_date),\n",
    "        record_count = as.integer(record_count)\n",
    "      )\n",
    "    return(coverage_data)\n",
    "  }, error = function(e) {\n",
    "    return(coverage_data)\n",
    "  })\n",
    "}"
   ]
  },
  {
   "cell_type": "code",
   "execution_count": 10,
   "id": "1a1df90d",
   "metadata": {
    "vscode": {
     "languageId": "r"
    }
   },
   "outputs": [
    {
     "name": "stderr",
     "output_type": "stream",
     "text": [
      "GET: https://waterservices.usgs.gov/nwis/site/?seriesCatalogOutput=true&sites=03165000&format=rdb\n",
      "\n"
     ]
    },
    {
     "data": {
      "text/html": [
       "<table class=\"dataframe\">\n",
       "<caption>A data.frame: 1 × 24</caption>\n",
       "<thead>\n",
       "\t<tr><th></th><th scope=col>agency_cd</th><th scope=col>site_no</th><th scope=col>station_nm</th><th scope=col>site_tp_cd</th><th scope=col>dec_lat_va</th><th scope=col>dec_long_va</th><th scope=col>coord_acy_cd</th><th scope=col>dec_coord_datum_cd</th><th scope=col>alt_va</th><th scope=col>alt_acy_va</th><th scope=col>⋯</th><th scope=col>stat_cd</th><th scope=col>ts_id</th><th scope=col>loc_web_ds</th><th scope=col>medium_grp_cd</th><th scope=col>parm_grp_cd</th><th scope=col>srs_id</th><th scope=col>access_cd</th><th scope=col>begin_date</th><th scope=col>end_date</th><th scope=col>count_nu</th></tr>\n",
       "\t<tr><th></th><th scope=col>&lt;chr&gt;</th><th scope=col>&lt;chr&gt;</th><th scope=col>&lt;chr&gt;</th><th scope=col>&lt;chr&gt;</th><th scope=col>&lt;dbl&gt;</th><th scope=col>&lt;dbl&gt;</th><th scope=col>&lt;chr&gt;</th><th scope=col>&lt;chr&gt;</th><th scope=col>&lt;dbl&gt;</th><th scope=col>&lt;dbl&gt;</th><th scope=col>⋯</th><th scope=col>&lt;chr&gt;</th><th scope=col>&lt;chr&gt;</th><th scope=col>&lt;lgl&gt;</th><th scope=col>&lt;chr&gt;</th><th scope=col>&lt;chr&gt;</th><th scope=col>&lt;chr&gt;</th><th scope=col>&lt;chr&gt;</th><th scope=col>&lt;date&gt;</th><th scope=col>&lt;date&gt;</th><th scope=col>&lt;dbl&gt;</th></tr>\n",
       "</thead>\n",
       "<tbody>\n",
       "\t<tr><th scope=row>59</th><td>USGS</td><td>03165000</td><td>CHESTNUT CREEK AT GALAX, VA</td><td>ST</td><td>36.64596</td><td>-80.91924</td><td>U</td><td>NAD83</td><td>2344.8</td><td>0.1</td><td>⋯</td><td>NA</td><td>147650</td><td>NA</td><td>wat</td><td>NA</td><td>1645423</td><td>0</td><td>1990-10-01</td><td>2025-05-15</td><td>12645</td></tr>\n",
       "</tbody>\n",
       "</table>\n"
      ],
      "text/latex": [
       "A data.frame: 1 × 24\n",
       "\\begin{tabular}{r|lllllllllllllllllllll}\n",
       "  & agency\\_cd & site\\_no & station\\_nm & site\\_tp\\_cd & dec\\_lat\\_va & dec\\_long\\_va & coord\\_acy\\_cd & dec\\_coord\\_datum\\_cd & alt\\_va & alt\\_acy\\_va & ⋯ & stat\\_cd & ts\\_id & loc\\_web\\_ds & medium\\_grp\\_cd & parm\\_grp\\_cd & srs\\_id & access\\_cd & begin\\_date & end\\_date & count\\_nu\\\\\n",
       "  & <chr> & <chr> & <chr> & <chr> & <dbl> & <dbl> & <chr> & <chr> & <dbl> & <dbl> & ⋯ & <chr> & <chr> & <lgl> & <chr> & <chr> & <chr> & <chr> & <date> & <date> & <dbl>\\\\\n",
       "\\hline\n",
       "\t59 & USGS & 03165000 & CHESTNUT CREEK AT GALAX, VA & ST & 36.64596 & -80.91924 & U & NAD83 & 2344.8 & 0.1 & ⋯ & NA & 147650 & NA & wat & NA & 1645423 & 0 & 1990-10-01 & 2025-05-15 & 12645\\\\\n",
       "\\end{tabular}\n"
      ],
      "text/markdown": [
       "\n",
       "A data.frame: 1 × 24\n",
       "\n",
       "| <!--/--> | agency_cd &lt;chr&gt; | site_no &lt;chr&gt; | station_nm &lt;chr&gt; | site_tp_cd &lt;chr&gt; | dec_lat_va &lt;dbl&gt; | dec_long_va &lt;dbl&gt; | coord_acy_cd &lt;chr&gt; | dec_coord_datum_cd &lt;chr&gt; | alt_va &lt;dbl&gt; | alt_acy_va &lt;dbl&gt; | ⋯ ⋯ | stat_cd &lt;chr&gt; | ts_id &lt;chr&gt; | loc_web_ds &lt;lgl&gt; | medium_grp_cd &lt;chr&gt; | parm_grp_cd &lt;chr&gt; | srs_id &lt;chr&gt; | access_cd &lt;chr&gt; | begin_date &lt;date&gt; | end_date &lt;date&gt; | count_nu &lt;dbl&gt; |\n",
       "|---|---|---|---|---|---|---|---|---|---|---|---|---|---|---|---|---|---|---|---|---|---|\n",
       "| 59 | USGS | 03165000 | CHESTNUT CREEK AT GALAX, VA | ST | 36.64596 | -80.91924 | U | NAD83 | 2344.8 | 0.1 | ⋯ | NA | 147650 | NA | wat | NA | 1645423 | 0 | 1990-10-01 | 2025-05-15 | 12645 |\n",
       "\n"
      ],
      "text/plain": [
       "   agency_cd site_no  station_nm                  site_tp_cd dec_lat_va\n",
       "59 USGS      03165000 CHESTNUT CREEK AT GALAX, VA ST         36.64596  \n",
       "   dec_long_va coord_acy_cd dec_coord_datum_cd alt_va alt_acy_va <U+22EF>       \n",
       "59 -80.91924   U            NAD83              2344.8 0.1        <U+22EF>\n",
       "   stat_cd ts_id  loc_web_ds medium_grp_cd parm_grp_cd srs_id  access_cd\n",
       "59 NA      147650 NA         wat           NA          1645423 0        \n",
       "   begin_date end_date   count_nu\n",
       "59 1990-10-01 2025-05-15 12645   "
      ]
     },
     "metadata": {},
     "output_type": "display_data"
    }
   ],
   "source": [
    "# Get  streamflow info data for one site example\n",
    "site_number <- stations$STAID[1]\n",
    "example_station_info <- get_usgs_coverage(site_numbers=site_number)\n",
    "example_station_info"
   ]
  },
  {
   "cell_type": "code",
   "execution_count": 11,
   "id": "efc64146",
   "metadata": {
    "vscode": {
     "languageId": "r"
    }
   },
   "outputs": [
    {
     "data": {
      "text/html": [
       "<table class=\"dataframe\">\n",
       "<caption>A data.frame: 1 × 8</caption>\n",
       "<thead>\n",
       "\t<tr><th scope=col>site_no</th><th scope=col>parameter_cd</th><th scope=col>start_date</th><th scope=col>end_date</th><th scope=col>record_count</th><th scope=col>latitude</th><th scope=col>longitude</th><th scope=col>datum</th></tr>\n",
       "\t<tr><th scope=col>&lt;chr&gt;</th><th scope=col>&lt;chr&gt;</th><th scope=col>&lt;date&gt;</th><th scope=col>&lt;date&gt;</th><th scope=col>&lt;int&gt;</th><th scope=col>&lt;dbl&gt;</th><th scope=col>&lt;dbl&gt;</th><th scope=col>&lt;chr&gt;</th></tr>\n",
       "</thead>\n",
       "<tbody>\n",
       "\t<tr><td>03165000</td><td>00060</td><td>1990-10-01</td><td>2025-05-15</td><td>12645</td><td>36.64596</td><td>-80.91924</td><td>NAD83</td></tr>\n",
       "</tbody>\n",
       "</table>\n"
      ],
      "text/latex": [
       "A data.frame: 1 × 8\n",
       "\\begin{tabular}{llllllll}\n",
       " site\\_no & parameter\\_cd & start\\_date & end\\_date & record\\_count & latitude & longitude & datum\\\\\n",
       " <chr> & <chr> & <date> & <date> & <int> & <dbl> & <dbl> & <chr>\\\\\n",
       "\\hline\n",
       "\t 03165000 & 00060 & 1990-10-01 & 2025-05-15 & 12645 & 36.64596 & -80.91924 & NAD83\\\\\n",
       "\\end{tabular}\n"
      ],
      "text/markdown": [
       "\n",
       "A data.frame: 1 × 8\n",
       "\n",
       "| site_no &lt;chr&gt; | parameter_cd &lt;chr&gt; | start_date &lt;date&gt; | end_date &lt;date&gt; | record_count &lt;int&gt; | latitude &lt;dbl&gt; | longitude &lt;dbl&gt; | datum &lt;chr&gt; |\n",
       "|---|---|---|---|---|---|---|---|\n",
       "| 03165000 | 00060 | 1990-10-01 | 2025-05-15 | 12645 | 36.64596 | -80.91924 | NAD83 |\n",
       "\n"
      ],
      "text/plain": [
       "  site_no  parameter_cd start_date end_date   record_count latitude longitude\n",
       "1 03165000 00060        1990-10-01 2025-05-15 12645        36.64596 -80.91924\n",
       "  datum\n",
       "1 NAD83"
      ]
     },
     "metadata": {},
     "output_type": "display_data"
    }
   ],
   "source": [
    "# Clean streamflow info data site example\n",
    "cleaned_example_station_info <- clean_usgs_coverage(example_station_info, parameter_cd = \"00060\", site_numbers = site_number)\n",
    "cleaned_example_station_info"
   ]
  },
  {
   "cell_type": "code",
   "execution_count": 12,
   "id": "5c41248a",
   "metadata": {
    "vscode": {
     "languageId": "r"
    }
   },
   "outputs": [
    {
     "name": "stderr",
     "output_type": "stream",
     "text": [
      "POST: https://waterservices.usgs.gov/nwis/site/\n",
      "\n"
     ]
    }
   ],
   "source": [
    "# Download streamflow data for all sites with geolocation data\n",
    "site_numbers <- stations$STAID\n",
    "stations_info <- get_usgs_coverage(site_numbers = site_numbers)"
   ]
  },
  {
   "cell_type": "code",
   "execution_count": 13,
   "id": "b05de397",
   "metadata": {
    "vscode": {
     "languageId": "r"
    }
   },
   "outputs": [
    {
     "data": {
      "text/html": [
       "<table class=\"dataframe\">\n",
       "<caption>A data.frame: 6 × 24</caption>\n",
       "<thead>\n",
       "\t<tr><th></th><th scope=col>agency_cd</th><th scope=col>site_no</th><th scope=col>station_nm</th><th scope=col>site_tp_cd</th><th scope=col>dec_lat_va</th><th scope=col>dec_long_va</th><th scope=col>coord_acy_cd</th><th scope=col>dec_coord_datum_cd</th><th scope=col>alt_va</th><th scope=col>alt_acy_va</th><th scope=col>⋯</th><th scope=col>stat_cd</th><th scope=col>ts_id</th><th scope=col>loc_web_ds</th><th scope=col>medium_grp_cd</th><th scope=col>parm_grp_cd</th><th scope=col>srs_id</th><th scope=col>access_cd</th><th scope=col>begin_date</th><th scope=col>end_date</th><th scope=col>count_nu</th></tr>\n",
       "\t<tr><th></th><th scope=col>&lt;chr&gt;</th><th scope=col>&lt;chr&gt;</th><th scope=col>&lt;chr&gt;</th><th scope=col>&lt;chr&gt;</th><th scope=col>&lt;dbl&gt;</th><th scope=col>&lt;dbl&gt;</th><th scope=col>&lt;chr&gt;</th><th scope=col>&lt;chr&gt;</th><th scope=col>&lt;dbl&gt;</th><th scope=col>&lt;dbl&gt;</th><th scope=col>⋯</th><th scope=col>&lt;chr&gt;</th><th scope=col>&lt;chr&gt;</th><th scope=col>&lt;chr&gt;</th><th scope=col>&lt;chr&gt;</th><th scope=col>&lt;chr&gt;</th><th scope=col>&lt;chr&gt;</th><th scope=col>&lt;chr&gt;</th><th scope=col>&lt;date&gt;</th><th scope=col>&lt;date&gt;</th><th scope=col>&lt;dbl&gt;</th></tr>\n",
       "</thead>\n",
       "<tbody>\n",
       "\t<tr><th scope=row>154</th><td>USGS</td><td>03007800</td><td>Allegheny River at Port Allegany, PA</td><td>ST</td><td>41.81868</td><td>-78.29279</td><td>S</td><td>NAD83</td><td>1454.38</td><td> 0.01</td><td>⋯</td><td>NA</td><td>122208</td><td>NA</td><td>wat</td><td>NA</td><td>1645423</td><td>0</td><td>1991-10-01</td><td>2025-05-15</td><td>12280</td></tr>\n",
       "\t<tr><th scope=row>535</th><td>USGS</td><td>03010500</td><td>Allegheny River at Eldred, PA       </td><td>ST</td><td>41.96340</td><td>-78.38613</td><td>S</td><td>NAD83</td><td>1416.53</td><td>11.00</td><td>⋯</td><td>NA</td><td>122215</td><td>NA</td><td>wat</td><td>NA</td><td>1645423</td><td>0</td><td>1991-10-01</td><td>2025-05-15</td><td>12280</td></tr>\n",
       "\t<tr><th scope=row>543</th><td>USGS</td><td>03010655</td><td>Oswayo Creek at Shinglehouse, PA    </td><td>ST</td><td>41.96173</td><td>-78.19807</td><td>S</td><td>NAD83</td><td>1460.34</td><td> 0.01</td><td>⋯</td><td>NA</td><td>122220</td><td>NA</td><td>wat</td><td>NA</td><td>1645423</td><td>0</td><td>1991-10-01</td><td>2025-05-15</td><td>12280</td></tr>\n",
       "\t<tr><th scope=row>593</th><td>USGS</td><td>03010820</td><td>ALLEGHENY RIVER AT OLEAN NY         </td><td>ST</td><td>42.07236</td><td>-78.45086</td><td>1</td><td>NAD83</td><td>1399.50</td><td> 0.01</td><td>⋯</td><td>NA</td><td>107518</td><td>NA</td><td>wat</td><td>NA</td><td>1645423</td><td>0</td><td>2010-08-21</td><td>2025-05-15</td><td> 5381</td></tr>\n",
       "\t<tr><th scope=row>836</th><td>USGS</td><td>03011020</td><td>ALLEGHENY RIVER AT SALAMANCA NY     </td><td>ST</td><td>42.15683</td><td>-78.71556</td><td>1</td><td>NAD83</td><td>1357.49</td><td> 0.01</td><td>⋯</td><td>NA</td><td>107522</td><td>NA</td><td>wat</td><td>NA</td><td>1645423</td><td>0</td><td>1990-10-01</td><td>2025-05-15</td><td>12645</td></tr>\n",
       "\t<tr><th scope=row>1016</th><td>USGS</td><td>03011800</td><td>Kinzua Creek near Guffey, PA        </td><td>ST</td><td>41.76645</td><td>-78.71864</td><td>S</td><td>NAD83</td><td>1540.00</td><td> 0.01</td><td>⋯</td><td>NA</td><td>122226</td><td>NA</td><td>wat</td><td>NA</td><td>1645423</td><td>0</td><td>1991-10-01</td><td>2025-05-15</td><td>12280</td></tr>\n",
       "</tbody>\n",
       "</table>\n"
      ],
      "text/latex": [
       "A data.frame: 6 × 24\n",
       "\\begin{tabular}{r|lllllllllllllllllllll}\n",
       "  & agency\\_cd & site\\_no & station\\_nm & site\\_tp\\_cd & dec\\_lat\\_va & dec\\_long\\_va & coord\\_acy\\_cd & dec\\_coord\\_datum\\_cd & alt\\_va & alt\\_acy\\_va & ⋯ & stat\\_cd & ts\\_id & loc\\_web\\_ds & medium\\_grp\\_cd & parm\\_grp\\_cd & srs\\_id & access\\_cd & begin\\_date & end\\_date & count\\_nu\\\\\n",
       "  & <chr> & <chr> & <chr> & <chr> & <dbl> & <dbl> & <chr> & <chr> & <dbl> & <dbl> & ⋯ & <chr> & <chr> & <chr> & <chr> & <chr> & <chr> & <chr> & <date> & <date> & <dbl>\\\\\n",
       "\\hline\n",
       "\t154 & USGS & 03007800 & Allegheny River at Port Allegany, PA & ST & 41.81868 & -78.29279 & S & NAD83 & 1454.38 &  0.01 & ⋯ & NA & 122208 & NA & wat & NA & 1645423 & 0 & 1991-10-01 & 2025-05-15 & 12280\\\\\n",
       "\t535 & USGS & 03010500 & Allegheny River at Eldred, PA        & ST & 41.96340 & -78.38613 & S & NAD83 & 1416.53 & 11.00 & ⋯ & NA & 122215 & NA & wat & NA & 1645423 & 0 & 1991-10-01 & 2025-05-15 & 12280\\\\\n",
       "\t543 & USGS & 03010655 & Oswayo Creek at Shinglehouse, PA     & ST & 41.96173 & -78.19807 & S & NAD83 & 1460.34 &  0.01 & ⋯ & NA & 122220 & NA & wat & NA & 1645423 & 0 & 1991-10-01 & 2025-05-15 & 12280\\\\\n",
       "\t593 & USGS & 03010820 & ALLEGHENY RIVER AT OLEAN NY          & ST & 42.07236 & -78.45086 & 1 & NAD83 & 1399.50 &  0.01 & ⋯ & NA & 107518 & NA & wat & NA & 1645423 & 0 & 2010-08-21 & 2025-05-15 &  5381\\\\\n",
       "\t836 & USGS & 03011020 & ALLEGHENY RIVER AT SALAMANCA NY      & ST & 42.15683 & -78.71556 & 1 & NAD83 & 1357.49 &  0.01 & ⋯ & NA & 107522 & NA & wat & NA & 1645423 & 0 & 1990-10-01 & 2025-05-15 & 12645\\\\\n",
       "\t1016 & USGS & 03011800 & Kinzua Creek near Guffey, PA         & ST & 41.76645 & -78.71864 & S & NAD83 & 1540.00 &  0.01 & ⋯ & NA & 122226 & NA & wat & NA & 1645423 & 0 & 1991-10-01 & 2025-05-15 & 12280\\\\\n",
       "\\end{tabular}\n"
      ],
      "text/markdown": [
       "\n",
       "A data.frame: 6 × 24\n",
       "\n",
       "| <!--/--> | agency_cd &lt;chr&gt; | site_no &lt;chr&gt; | station_nm &lt;chr&gt; | site_tp_cd &lt;chr&gt; | dec_lat_va &lt;dbl&gt; | dec_long_va &lt;dbl&gt; | coord_acy_cd &lt;chr&gt; | dec_coord_datum_cd &lt;chr&gt; | alt_va &lt;dbl&gt; | alt_acy_va &lt;dbl&gt; | ⋯ ⋯ | stat_cd &lt;chr&gt; | ts_id &lt;chr&gt; | loc_web_ds &lt;chr&gt; | medium_grp_cd &lt;chr&gt; | parm_grp_cd &lt;chr&gt; | srs_id &lt;chr&gt; | access_cd &lt;chr&gt; | begin_date &lt;date&gt; | end_date &lt;date&gt; | count_nu &lt;dbl&gt; |\n",
       "|---|---|---|---|---|---|---|---|---|---|---|---|---|---|---|---|---|---|---|---|---|---|\n",
       "| 154 | USGS | 03007800 | Allegheny River at Port Allegany, PA | ST | 41.81868 | -78.29279 | S | NAD83 | 1454.38 |  0.01 | ⋯ | NA | 122208 | NA | wat | NA | 1645423 | 0 | 1991-10-01 | 2025-05-15 | 12280 |\n",
       "| 535 | USGS | 03010500 | Allegheny River at Eldred, PA        | ST | 41.96340 | -78.38613 | S | NAD83 | 1416.53 | 11.00 | ⋯ | NA | 122215 | NA | wat | NA | 1645423 | 0 | 1991-10-01 | 2025-05-15 | 12280 |\n",
       "| 543 | USGS | 03010655 | Oswayo Creek at Shinglehouse, PA     | ST | 41.96173 | -78.19807 | S | NAD83 | 1460.34 |  0.01 | ⋯ | NA | 122220 | NA | wat | NA | 1645423 | 0 | 1991-10-01 | 2025-05-15 | 12280 |\n",
       "| 593 | USGS | 03010820 | ALLEGHENY RIVER AT OLEAN NY          | ST | 42.07236 | -78.45086 | 1 | NAD83 | 1399.50 |  0.01 | ⋯ | NA | 107518 | NA | wat | NA | 1645423 | 0 | 2010-08-21 | 2025-05-15 |  5381 |\n",
       "| 836 | USGS | 03011020 | ALLEGHENY RIVER AT SALAMANCA NY      | ST | 42.15683 | -78.71556 | 1 | NAD83 | 1357.49 |  0.01 | ⋯ | NA | 107522 | NA | wat | NA | 1645423 | 0 | 1990-10-01 | 2025-05-15 | 12645 |\n",
       "| 1016 | USGS | 03011800 | Kinzua Creek near Guffey, PA         | ST | 41.76645 | -78.71864 | S | NAD83 | 1540.00 |  0.01 | ⋯ | NA | 122226 | NA | wat | NA | 1645423 | 0 | 1991-10-01 | 2025-05-15 | 12280 |\n",
       "\n"
      ],
      "text/plain": [
       "     agency_cd site_no  station_nm                           site_tp_cd\n",
       "154  USGS      03007800 Allegheny River at Port Allegany, PA ST        \n",
       "535  USGS      03010500 Allegheny River at Eldred, PA        ST        \n",
       "543  USGS      03010655 Oswayo Creek at Shinglehouse, PA     ST        \n",
       "593  USGS      03010820 ALLEGHENY RIVER AT OLEAN NY          ST        \n",
       "836  USGS      03011020 ALLEGHENY RIVER AT SALAMANCA NY      ST        \n",
       "1016 USGS      03011800 Kinzua Creek near Guffey, PA         ST        \n",
       "     dec_lat_va dec_long_va coord_acy_cd dec_coord_datum_cd alt_va  alt_acy_va\n",
       "154  41.81868   -78.29279   S            NAD83              1454.38  0.01     \n",
       "535  41.96340   -78.38613   S            NAD83              1416.53 11.00     \n",
       "543  41.96173   -78.19807   S            NAD83              1460.34  0.01     \n",
       "593  42.07236   -78.45086   1            NAD83              1399.50  0.01     \n",
       "836  42.15683   -78.71556   1            NAD83              1357.49  0.01     \n",
       "1016 41.76645   -78.71864   S            NAD83              1540.00  0.01     \n",
       "     <U+22EF>        stat_cd ts_id  loc_web_ds medium_grp_cd parm_grp_cd srs_id \n",
       "154  <U+22EF> NA      122208 NA         wat           NA          1645423\n",
       "535  <U+22EF> NA      122215 NA         wat           NA          1645423\n",
       "543  <U+22EF> NA      122220 NA         wat           NA          1645423\n",
       "593  <U+22EF> NA      107518 NA         wat           NA          1645423\n",
       "836  <U+22EF> NA      107522 NA         wat           NA          1645423\n",
       "1016 <U+22EF> NA      122226 NA         wat           NA          1645423\n",
       "     access_cd begin_date end_date   count_nu\n",
       "154  0         1991-10-01 2025-05-15 12280   \n",
       "535  0         1991-10-01 2025-05-15 12280   \n",
       "543  0         1991-10-01 2025-05-15 12280   \n",
       "593  0         2010-08-21 2025-05-15  5381   \n",
       "836  0         1990-10-01 2025-05-15 12645   \n",
       "1016 0         1991-10-01 2025-05-15 12280   "
      ]
     },
     "metadata": {},
     "output_type": "display_data"
    }
   ],
   "source": [
    "head(stations_info)"
   ]
  },
  {
   "cell_type": "code",
   "execution_count": 14,
   "id": "f68f24c9",
   "metadata": {
    "vscode": {
     "languageId": "r"
    }
   },
   "outputs": [
    {
     "data": {
      "text/html": [
       "<table class=\"dataframe\">\n",
       "<caption>A data.frame: 6 × 8</caption>\n",
       "<thead>\n",
       "\t<tr><th></th><th scope=col>site_no</th><th scope=col>parameter_cd</th><th scope=col>start_date</th><th scope=col>end_date</th><th scope=col>record_count</th><th scope=col>latitude</th><th scope=col>longitude</th><th scope=col>datum</th></tr>\n",
       "\t<tr><th></th><th scope=col>&lt;chr&gt;</th><th scope=col>&lt;chr&gt;</th><th scope=col>&lt;date&gt;</th><th scope=col>&lt;date&gt;</th><th scope=col>&lt;int&gt;</th><th scope=col>&lt;dbl&gt;</th><th scope=col>&lt;dbl&gt;</th><th scope=col>&lt;chr&gt;</th></tr>\n",
       "</thead>\n",
       "<tbody>\n",
       "\t<tr><th scope=row>1</th><td>03165000</td><td>00060</td><td>1990-10-01</td><td>2025-05-15</td><td>12645</td><td>36.64596</td><td>-80.91924</td><td>NAD83</td></tr>\n",
       "\t<tr><th scope=row>2</th><td>03164000</td><td>00060</td><td>1990-10-01</td><td>2025-05-15</td><td>12645</td><td>36.64735</td><td>-80.97897</td><td>NAD83</td></tr>\n",
       "\t<tr><th scope=row>3</th><td>03165500</td><td>00060</td><td>1996-01-25</td><td>2025-05-15</td><td>10703</td><td>36.83485</td><td>-80.95258</td><td>NAD83</td></tr>\n",
       "\t<tr><th scope=row>4</th><td>03161000</td><td>00060</td><td>1985-10-01</td><td>2025-05-15</td><td>14471</td><td>36.39333</td><td>-81.40694</td><td>NAD83</td></tr>\n",
       "\t<tr><th scope=row>5</th><td>03208500</td><td>00060</td><td>1990-10-01</td><td>2024-10-01</td><td>12419</td><td>37.20705</td><td>-82.29570</td><td>NAD83</td></tr>\n",
       "\t<tr><th scope=row>6</th><td>03209000</td><td>00060</td><td>1990-10-01</td><td>2024-10-01</td><td>12419</td><td>37.23705</td><td>-82.34320</td><td>NAD83</td></tr>\n",
       "</tbody>\n",
       "</table>\n"
      ],
      "text/latex": [
       "A data.frame: 6 × 8\n",
       "\\begin{tabular}{r|llllllll}\n",
       "  & site\\_no & parameter\\_cd & start\\_date & end\\_date & record\\_count & latitude & longitude & datum\\\\\n",
       "  & <chr> & <chr> & <date> & <date> & <int> & <dbl> & <dbl> & <chr>\\\\\n",
       "\\hline\n",
       "\t1 & 03165000 & 00060 & 1990-10-01 & 2025-05-15 & 12645 & 36.64596 & -80.91924 & NAD83\\\\\n",
       "\t2 & 03164000 & 00060 & 1990-10-01 & 2025-05-15 & 12645 & 36.64735 & -80.97897 & NAD83\\\\\n",
       "\t3 & 03165500 & 00060 & 1996-01-25 & 2025-05-15 & 10703 & 36.83485 & -80.95258 & NAD83\\\\\n",
       "\t4 & 03161000 & 00060 & 1985-10-01 & 2025-05-15 & 14471 & 36.39333 & -81.40694 & NAD83\\\\\n",
       "\t5 & 03208500 & 00060 & 1990-10-01 & 2024-10-01 & 12419 & 37.20705 & -82.29570 & NAD83\\\\\n",
       "\t6 & 03209000 & 00060 & 1990-10-01 & 2024-10-01 & 12419 & 37.23705 & -82.34320 & NAD83\\\\\n",
       "\\end{tabular}\n"
      ],
      "text/markdown": [
       "\n",
       "A data.frame: 6 × 8\n",
       "\n",
       "| <!--/--> | site_no &lt;chr&gt; | parameter_cd &lt;chr&gt; | start_date &lt;date&gt; | end_date &lt;date&gt; | record_count &lt;int&gt; | latitude &lt;dbl&gt; | longitude &lt;dbl&gt; | datum &lt;chr&gt; |\n",
       "|---|---|---|---|---|---|---|---|---|\n",
       "| 1 | 03165000 | 00060 | 1990-10-01 | 2025-05-15 | 12645 | 36.64596 | -80.91924 | NAD83 |\n",
       "| 2 | 03164000 | 00060 | 1990-10-01 | 2025-05-15 | 12645 | 36.64735 | -80.97897 | NAD83 |\n",
       "| 3 | 03165500 | 00060 | 1996-01-25 | 2025-05-15 | 10703 | 36.83485 | -80.95258 | NAD83 |\n",
       "| 4 | 03161000 | 00060 | 1985-10-01 | 2025-05-15 | 14471 | 36.39333 | -81.40694 | NAD83 |\n",
       "| 5 | 03208500 | 00060 | 1990-10-01 | 2024-10-01 | 12419 | 37.20705 | -82.29570 | NAD83 |\n",
       "| 6 | 03209000 | 00060 | 1990-10-01 | 2024-10-01 | 12419 | 37.23705 | -82.34320 | NAD83 |\n",
       "\n"
      ],
      "text/plain": [
       "  site_no  parameter_cd start_date end_date   record_count latitude longitude\n",
       "1 03165000 00060        1990-10-01 2025-05-15 12645        36.64596 -80.91924\n",
       "2 03164000 00060        1990-10-01 2025-05-15 12645        36.64735 -80.97897\n",
       "3 03165500 00060        1996-01-25 2025-05-15 10703        36.83485 -80.95258\n",
       "4 03161000 00060        1985-10-01 2025-05-15 14471        36.39333 -81.40694\n",
       "5 03208500 00060        1990-10-01 2024-10-01 12419        37.20705 -82.29570\n",
       "6 03209000 00060        1990-10-01 2024-10-01 12419        37.23705 -82.34320\n",
       "  datum\n",
       "1 NAD83\n",
       "2 NAD83\n",
       "3 NAD83\n",
       "4 NAD83\n",
       "5 NAD83\n",
       "6 NAD83"
      ]
     },
     "metadata": {},
     "output_type": "display_data"
    }
   ],
   "source": [
    "# Clean streamflow station info data\n",
    "cleaned_stations_info <- clean_usgs_coverage(stations_info, parameter_cd = \"00060\", site_numbers = site_numbers)\n",
    "head(cleaned_stations_info)"
   ]
  },
  {
   "cell_type": "code",
   "execution_count": 15,
   "id": "dbea97a4",
   "metadata": {
    "vscode": {
     "languageId": "r"
    }
   },
   "outputs": [
    {
     "name": "stderr",
     "output_type": "stream",
     "text": [
      "Streamflow station info data saved at /Users/alan/Data Science Projects/ML-ModClark-IUH-Model/data/silver/tabular/streamflow/streamflow_stations_info.parquet\n",
      "\n"
     ]
    }
   ],
   "source": [
    "# Save cleaned streamflow station info data\n",
    "output_dir <- \"/Users/alan/Data Science Projects/ML-ModClark-IUH-Model/data/silver/tabular/streamflow\"\n",
    "# Create output directory if it doesn't exist\n",
    "if (!dir.exists(output_dir)) {\n",
    "  dir.create(output_dir, recursive = TRUE)\n",
    "}\n",
    "# Define file path for Parquet\n",
    "file_path <- file.path(output_dir, \"streamflow_stations_info.parquet\")\n",
    "# Save data as Parquet\n",
    "write_parquet(cleaned_stations_info, file_path)\n",
    "# Print message\n",
    "message(paste(\"Streamflow station info data saved at\", file_path))"
   ]
  }
 ],
 "metadata": {
  "kernelspec": {
   "display_name": "R",
   "language": "R",
   "name": "ir"
  },
  "language_info": {
   "codemirror_mode": "r",
   "file_extension": ".r",
   "mimetype": "text/x-r-source",
   "name": "R",
   "pygments_lexer": "r",
   "version": "4.1.1"
  }
 },
 "nbformat": 4,
 "nbformat_minor": 5
}
