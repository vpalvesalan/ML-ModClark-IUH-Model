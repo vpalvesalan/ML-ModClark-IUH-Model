{
 "cells": [
  {
   "cell_type": "markdown",
   "id": "a9362341",
   "metadata": {},
   "source": [
    "# Precipitation Data Preprocessing\n",
    "\n",
    "This Jupyter Notebook is dedicated to the initial preprocessing of the historical precipitation data retrieved from NOAA FTP servers, transforming raw records into a clean and temporally consistent format suitable for subsequent hydrological analysis. The primary objective is to ensure the data's quality and integrity before its application in hydrological modeling.\n",
    "\n",
    "The preprocessing steps undertaken in this notebook will primarily focus on **data cleaning and quality control**. This involves systematically addressing missing values,  and resolving inconsistencies within the 15-minute precipitation records to ensure the reliability of the input data. Identifying and correcting any detected outliers or erroneous readings will be performed on another notebook after the storm events have been selected. Furthermore, emphasis will be placed on ensuring **temporal consistency and alignment** across all records, verifying that the time series conform to a uniform resolution and are properly synchronized for accurate hydrological computations. The output of this notebook will be a refined dataset of quality-controlled and temporally consistent precipitation data, prepared for further processing such as storm event identification and ultimate use in driving the ModClark model."
   ]
  },
  {
   "cell_type": "code",
   "execution_count": 113,
   "id": "645e5af1",
   "metadata": {},
   "outputs": [],
   "source": [
    "# Import modules\n",
    "import pandas as pd\n",
    "from pathlib import Path\n",
    "import warnings\n",
    "import sys\n",
    "import numpy as np\n",
    "from datetime import datetime\n",
    "\n",
    "\n",
    "# Supress warnings\n",
    "warnings.filterwarnings(\"ignore\")"
   ]
  },
  {
   "cell_type": "code",
   "execution_count": 41,
   "id": "b586b49f",
   "metadata": {},
   "outputs": [],
   "source": [
    "# Import created functions\n",
    "project_root = Path.cwd().parent.parent\n",
    "if str(project_root) not in sys.path:\n",
    "    sys.path.append(str(project_root))\n",
    "from src.utils.data_utils import glimpse\n",
    "from src.preprocessing.clean_preciptation_tabular_data import unpivot_preciptation_data"
   ]
  },
  {
   "cell_type": "markdown",
   "id": "19879f19",
   "metadata": {},
   "source": [
    "### Load and Inspect Precipitation Data"
   ]
  },
  {
   "cell_type": "code",
   "execution_count": null,
   "id": "1cc0fa33",
   "metadata": {},
   "outputs": [],
   "source": [
    "# Build list of files\n",
    "ppt_folder_path = project_root / 'data/bronze/tabular/precipitation'\n",
    "ppt_file_list_path = list(ppt_folder_path.glob('*.csv'))\n",
    "ppt_example_path = ppt_file_list_path[0]"
   ]
  },
  {
   "cell_type": "code",
   "execution_count": 20,
   "id": "8b38cc47",
   "metadata": {},
   "outputs": [
    {
     "name": "stdout",
     "output_type": "stream",
     "text": [
      "Rows: 10765\n",
      "Columns: 491\n",
      "           Null Count  Dtype    First Values\n",
      "           ----------  -----    -------------\n",
      "STATION    0           object   [USC00463669, USC00463669, USC00463669, USC00463669, USC00463669]\n",
      "LATITUDE   0           float64  [38.4311, 38.4311, 38.4311, 38.4311, 38.4311]\n",
      "LONGITUDE  0           float64  [-79.819, -79.819, -79.819, -79.819, -79.819]\n",
      "ELEVATION  0           float64  [836.7, 836.7, 836.7, 836.7, 836.7]\n",
      "DATE       0           object   [1992-06-02, 1992-06-03, 1992-06-04, 1992-06-05, 1992-06-06]\n",
      "ELEMENT    0           object   [QPCP, QPCP, QPCP, QPCP, QPCP]\n",
      "0000Val    0           int64    [-9999, 0, 0, 0, 0]\n",
      "0000MF     0           object   [ , Z, Z, Z, Z]\n",
      "0000QF     0           object   [M,  ,  ,  ,  ]\n",
      "0000S1     0           object   [6, 6, 6, 6, 6]\n",
      "0000S2     0           object   [ ,  ,  ,  ,  ]\n",
      "0015Val    0           int64    [-9999, 0, 0, 0, 0]\n",
      "0015MF     0           object   [ , Z, Z, Z, Z]\n",
      "0015QF     0           object   [M,  ,  ,  ,  ]\n",
      "0015S1     0           object   [6, 6, 6, 6, 6]\n",
      "0015S2     0           object   [ ,  ,  ,  ,  ]\n",
      "0030Val    0           int64    [-9999, 0, 0, 0, 0]\n",
      "0030MF     0           object   [ , Z, Z, Z, Z]\n",
      "0030QF     0           object   [M,  ,  ,  ,  ]\n",
      "0030S1     0           object   [6, 6, 6, 6, 6]\n",
      "0030S2     0           object   [ ,  ,  ,  ,  ]\n",
      "0045Val    0           int64    [-9999, 0, 0, 0, 0]\n",
      "0045MF     0           object   [ , Z, Z, Z, Z]\n",
      "0045QF     0           object   [M,  ,  ,  ,  ]\n",
      "0045S1     0           object   [6, 6, 6, 6, 6]\n",
      "0045S2     0           object   [ ,  ,  ,  ,  ]\n",
      "0100Val    0           int64    [-9999, 0, 0, 0, 0]\n",
      "0100MF     0           object   [ , Z, Z, Z, Z]\n",
      "0100QF     0           object   [M,  ,  ,  ,  ]\n",
      "0100S1     0           object   [6, 6, 6, 6, 6]\n",
      "0100S2     0           object   [ ,  ,  ,  ,  ]\n",
      "0115Val    0           int64    [-9999, 0, 0, 0, 0]\n",
      "0115MF     0           object   [ , Z, Z, Z, Z]\n",
      "0115QF     0           object   [M,  ,  ,  ,  ]\n",
      "0115S1     0           object   [6, 6, 6, 6, 6]\n",
      "0115S2     0           object   [ ,  ,  ,  ,  ]\n",
      "0130Val    0           int64    [-9999, 0, 0, 0, 0]\n",
      "0130MF     0           object   [ , Z, Z, Z, Z]\n",
      "0130QF     0           object   [M,  ,  ,  ,  ]\n",
      "0130S1     0           object   [6, 6, 6, 6, 6]\n",
      "0130S2     0           object   [ ,  ,  ,  ,  ]\n",
      "0145Val    0           int64    [-9999, 0, 0, 0, 0]\n",
      "0145MF     0           object   [ , Z, Z, Z, Z]\n",
      "0145QF     0           object   [M,  ,  ,  ,  ]\n",
      "0145S1     0           object   [6, 6, 6, 6, 6]\n",
      "0145S2     0           object   [ ,  ,  ,  ,  ]\n",
      "0200Val    0           int64    [-9999, 0, 0, 0, 0]\n",
      "0200MF     0           object   [ , Z, Z, Z, Z]\n",
      "0200QF     0           object   [M,  ,  ,  ,  ]\n",
      "0200S1     0           object   [6, 6, 6, 6, 6]\n",
      "0200S2     0           object   [ ,  ,  ,  ,  ]\n",
      "0215Val    0           int64    [-9999, 0, 0, 0, 0]\n",
      "0215MF     0           object   [ , Z, Z, Z, Z]\n",
      "0215QF     0           object   [M,  ,  ,  ,  ]\n",
      "0215S1     0           object   [6, 6, 6, 6, 6]\n",
      "0215S2     0           object   [ ,  ,  ,  ,  ]\n",
      "0230Val    0           int64    [-9999, 0, 0, 0, 0]\n",
      "0230MF     0           object   [ , Z, Z, Z, Z]\n",
      "0230QF     0           object   [M,  ,  ,  ,  ]\n",
      "0230S1     0           object   [6, 6, 6, 6, 6]\n",
      "0230S2     0           object   [ ,  ,  ,  ,  ]\n",
      "0245Val    0           int64    [-9999, 0, 0, 10, 0]\n",
      "0245MF     0           object   [ , Z, Z,  , Z]\n",
      "0245QF     0           object   [M,  ,  ,  ,  ]\n",
      "0245S1     0           object   [6, 6, 6, 6, 6]\n",
      "0245S2     0           object   [ ,  ,  ,  ,  ]\n",
      "0300Val    0           int64    [-9999, 0, 0, 0, 0]\n",
      "0300MF     0           object   [ , Z, Z, Z, Z]\n",
      "0300QF     0           object   [M,  ,  ,  ,  ]\n",
      "0300S1     0           object   [6, 6, 6, 6, 6]\n",
      "0300S2     0           object   [ ,  ,  ,  ,  ]\n",
      "0315Val    0           int64    [-9999, 0, 0, 0, 0]\n",
      "0315MF     0           object   [ , Z, Z, Z, Z]\n",
      "0315QF     0           object   [M,  ,  ,  ,  ]\n",
      "0315S1     0           object   [6, 6, 6, 6, 6]\n",
      "0315S2     0           object   [ ,  ,  ,  ,  ]\n",
      "0330Val    0           int64    [-9999, 0, 0, 0, 0]\n",
      "0330MF     0           object   [ , Z, Z, Z, Z]\n",
      "0330QF     0           object   [M,  ,  ,  ,  ]\n",
      "0330S1     0           object   [6, 6, 6, 6, 6]\n",
      "0330S2     0           object   [ ,  ,  ,  ,  ]\n",
      "0345Val    0           int64    [-9999, 0, 0, 0, 0]\n",
      "0345MF     0           object   [ , Z, Z, Z, Z]\n",
      "0345QF     0           object   [M,  ,  ,  ,  ]\n",
      "0345S1     0           object   [6, 6, 6, 6, 6]\n",
      "0345S2     0           object   [ ,  ,  ,  ,  ]\n",
      "0400Val    0           int64    [-9999, 0, 0, 0, 0]\n",
      "0400MF     0           object   [ , Z, Z, Z, Z]\n",
      "0400QF     0           object   [M,  ,  ,  ,  ]\n",
      "0400S1     0           object   [6, 6, 6, 6, 6]\n",
      "0400S2     0           object   [ ,  ,  ,  ,  ]\n",
      "0415Val    0           int64    [-9999, 0, 0, 0, 0]\n",
      "0415MF     0           object   [ , Z, Z, Z, Z]\n",
      "0415QF     0           object   [M,  ,  ,  ,  ]\n",
      "0415S1     0           object   [6, 6, 6, 6, 6]\n",
      "0415S2     0           object   [ ,  ,  ,  ,  ]\n",
      "0430Val    0           int64    [-9999, 0, 0, 0, 0]\n",
      "0430MF     0           object   [ , Z, Z, Z, Z]\n",
      "0430QF     0           object   [M,  ,  ,  ,  ]\n",
      "0430S1     0           object   [6, 6, 6, 6, 6]\n",
      "0430S2     0           object   [ ,  ,  ,  ,  ]\n",
      "0445Val    0           int64    [-9999, 0, 0, 0, 0]\n",
      "0445MF     0           object   [ , Z, Z, Z, Z]\n",
      "0445QF     0           object   [M,  ,  ,  ,  ]\n",
      "0445S1     0           object   [6, 6, 6, 6, 6]\n",
      "0445S2     0           object   [ ,  ,  ,  ,  ]\n",
      "0500Val    0           int64    [-9999, 0, 0, 0, 0]\n",
      "0500MF     0           object   [ , Z, Z, Z, Z]\n",
      "0500QF     0           object   [M,  ,  ,  ,  ]\n",
      "0500S1     0           object   [6, 6, 6, 6, 6]\n",
      "0500S2     0           object   [ ,  ,  ,  ,  ]\n",
      "0515Val    0           int64    [-9999, 0, 0, 0, 0]\n",
      "0515MF     0           object   [ , Z, Z, Z, Z]\n",
      "0515QF     0           object   [M,  ,  ,  ,  ]\n",
      "0515S1     0           object   [6, 6, 6, 6, 6]\n",
      "0515S2     0           object   [ ,  ,  ,  ,  ]\n",
      "0530Val    0           int64    [-9999, 0, 0, 0, 0]\n",
      "0530MF     0           object   [ , Z, Z, Z, Z]\n",
      "0530QF     0           object   [M,  ,  ,  ,  ]\n",
      "0530S1     0           object   [6, 6, 6, 6, 6]\n",
      "0530S2     0           object   [ ,  ,  ,  ,  ]\n",
      "0545Val    0           int64    [-9999, 0, 0, 0, 0]\n",
      "0545MF     0           object   [ , Z, Z, Z, Z]\n",
      "0545QF     0           object   [M,  ,  ,  ,  ]\n",
      "0545S1     0           object   [6, 6, 6, 6, 6]\n",
      "0545S2     0           object   [ ,  ,  ,  ,  ]\n",
      "0600Val    0           int64    [-9999, 0, 0, 0, 0]\n",
      "0600MF     0           object   [ , Z, Z, Z, Z]\n",
      "0600QF     0           object   [M,  ,  ,  ,  ]\n",
      "0600S1     0           object   [6, 6, 6, 6, 6]\n",
      "0600S2     0           object   [ ,  ,  ,  ,  ]\n",
      "0615Val    0           int64    [-9999, 0, 0, 0, 0]\n",
      "0615MF     0           object   [ , Z, Z, Z, Z]\n",
      "0615QF     0           object   [M,  ,  ,  ,  ]\n",
      "0615S1     0           object   [6, 6, 6, 6, 6]\n",
      "0615S2     0           object   [ ,  ,  ,  ,  ]\n",
      "0630Val    0           int64    [-9999, 0, 0, 0, 0]\n",
      "0630MF     0           object   [ , Z, Z, Z, Z]\n",
      "0630QF     0           object   [M,  ,  ,  ,  ]\n",
      "0630S1     0           object   [6, 6, 6, 6, 6]\n",
      "0630S2     0           object   [ ,  ,  ,  ,  ]\n",
      "0645Val    0           int64    [-9999, 0, 0, 0, 0]\n",
      "0645MF     0           object   [ , Z, Z, Z, Z]\n",
      "0645QF     0           object   [M,  ,  ,  ,  ]\n",
      "0645S1     0           object   [6, 6, 6, 6, 6]\n",
      "0645S2     0           object   [ ,  ,  ,  ,  ]\n",
      "0700Val    0           int64    [-9999, 0, 0, 0, 0]\n",
      "0700MF     0           object   [ , Z, Z, Z, Z]\n",
      "0700QF     0           object   [M,  ,  ,  ,  ]\n",
      "0700S1     0           object   [6, 6, 6, 6, 6]\n",
      "0700S2     0           object   [ ,  ,  ,  ,  ]\n",
      "0715Val    0           int64    [-9999, 0, 0, 0, 0]\n",
      "0715MF     0           object   [ , Z, Z, Z, Z]\n",
      "0715QF     0           object   [M,  ,  ,  ,  ]\n",
      "0715S1     0           object   [6, 6, 6, 6, 6]\n",
      "0715S2     0           object   [ ,  ,  ,  ,  ]\n",
      "0730Val    0           int64    [-9999, 0, 0, 0, 0]\n",
      "0730MF     0           object   [ , Z, Z, Z, Z]\n",
      "0730QF     0           object   [M,  ,  ,  ,  ]\n",
      "0730S1     0           object   [6, 6, 6, 6, 6]\n",
      "0730S2     0           object   [ ,  ,  ,  ,  ]\n",
      "0745Val    0           int64    [-9999, 0, 0, 0, 0]\n",
      "0745MF     0           object   [ , Z, Z, Z, Z]\n",
      "0745QF     0           object   [M,  ,  ,  ,  ]\n",
      "0745S1     0           object   [6, 6, 6, 6, 6]\n",
      "0745S2     0           object   [ ,  ,  ,  ,  ]\n",
      "0800Val    0           int64    [-9999, 10, 0, 0, 0]\n",
      "0800MF     0           object   [ ,  , Z, Z, Z]\n",
      "0800QF     0           object   [M,  ,  ,  ,  ]\n",
      "0800S1     0           object   [6, 6, 6, 6, 6]\n",
      "0800S2     0           object   [ ,  ,  ,  ,  ]\n",
      "0815Val    0           int64    [-9999, 0, 0, 0, 0]\n",
      "0815MF     0           object   [ , Z, Z, Z, Z]\n",
      "0815QF     0           object   [M,  ,  ,  ,  ]\n",
      "0815S1     0           object   [6, 6, 6, 6, 6]\n",
      "0815S2     0           object   [ ,  ,  ,  ,  ]\n",
      "0830Val    0           int64    [-9999, 0, 0, 0, 0]\n",
      "0830MF     0           object   [ , Z, Z, Z, Z]\n",
      "0830QF     0           object   [M,  ,  ,  ,  ]\n",
      "0830S1     0           object   [6, 6, 6, 6, 6]\n",
      "0830S2     0           object   [ ,  ,  ,  ,  ]\n",
      "0845Val    0           int64    [-9999, 0, 0, 0, 0]\n",
      "0845MF     0           object   [ , Z, Z, Z, Z]\n",
      "0845QF     0           object   [M,  ,  ,  ,  ]\n",
      "0845S1     0           object   [6, 6, 6, 6, 6]\n",
      "0845S2     0           object   [ ,  ,  ,  ,  ]\n",
      "0900Val    0           int64    [-9999, 0, 0, 0, 0]\n",
      "0900MF     0           object   [ , Z, Z, Z, Z]\n",
      "0900QF     0           object   [M,  ,  ,  ,  ]\n",
      "0900S1     0           object   [6, 6, 6, 6, 6]\n",
      "0900S2     0           object   [ ,  ,  ,  ,  ]\n",
      "0915Val    0           int64    [-9999, 0, 0, 0, 0]\n",
      "0915MF     0           object   [ , Z, Z, Z, Z]\n",
      "0915QF     0           object   [M,  ,  ,  ,  ]\n",
      "0915S1     0           object   [6, 6, 6, 6, 6]\n",
      "0915S2     0           object   [ ,  ,  ,  ,  ]\n",
      "0930Val    0           int64    [-9999, 0, 0, 0, 0]\n",
      "0930MF     0           object   [ , Z, Z, Z, Z]\n",
      "0930QF     0           object   [M,  ,  ,  ,  ]\n",
      "0930S1     0           object   [6, 6, 6, 6, 6]\n",
      "0930S2     0           object   [ ,  ,  ,  ,  ]\n",
      "0945Val    0           int64    [-9999, 0, 0, 0, 0]\n",
      "0945MF     0           object   [ , Z, Z, Z, Z]\n",
      "0945QF     0           object   [M,  ,  ,  ,  ]\n",
      "0945S1     0           object   [6, 6, 6, 6, 6]\n",
      "0945S2     0           object   [ ,  ,  ,  ,  ]\n",
      "1000Val    0           int64    [-9999, 0, 0, 0, 0]\n",
      "1000MF     0           object   [ , Z, Z, Z, Z]\n",
      "1000QF     0           object   [M,  ,  ,  ,  ]\n",
      "1000S1     0           object   [6, 6, 6, 6, 6]\n",
      "1000S2     0           object   [ ,  ,  ,  ,  ]\n",
      "1015Val    0           int64    [-9999, 0, 0, 0, 0]\n",
      "1015MF     0           object   [ , Z, Z, Z, Z]\n",
      "1015QF     0           object   [M,  ,  ,  ,  ]\n",
      "1015S1     0           object   [6, 6, 6, 6, 6]\n",
      "1015S2     0           object   [ ,  ,  ,  ,  ]\n",
      "1030Val    0           int64    [-9999, 0, 0, 0, 0]\n",
      "1030MF     0           object   [ , Z, Z, Z, Z]\n",
      "1030QF     0           object   [M,  ,  ,  ,  ]\n",
      "1030S1     0           object   [6, 6, 6, 6, 6]\n",
      "1030S2     0           object   [ ,  ,  ,  ,  ]\n",
      "1045Val    0           int64    [-9999, 0, 0, 0, 0]\n",
      "1045MF     0           object   [ , Z, Z, Z, Z]\n",
      "1045QF     0           object   [M,  ,  ,  ,  ]\n",
      "1045S1     0           object   [6, 6, 6, 6, 6]\n",
      "1045S2     0           object   [ ,  ,  ,  ,  ]\n",
      "1100Val    0           int64    [-9999, 0, 0, 0, 0]\n",
      "1100MF     0           object   [ , Z, Z, Z, Z]\n",
      "1100QF     0           object   [M,  ,  ,  ,  ]\n",
      "1100S1     0           object   [6, 6, 6, 6, 6]\n",
      "1100S2     0           object   [ ,  ,  ,  ,  ]\n",
      "1115Val    0           int64    [-9999, 0, 0, 0, 0]\n",
      "1115MF     0           object   [ , Z, Z, Z, Z]\n",
      "1115QF     0           object   [M,  ,  ,  ,  ]\n",
      "1115S1     0           object   [6, 6, 6, 6, 6]\n",
      "1115S2     0           object   [ ,  ,  ,  ,  ]\n",
      "1130Val    0           int64    [-9999, 0, 0, 0, 0]\n",
      "1130MF     0           object   [ , Z, Z, Z, Z]\n",
      "1130QF     0           object   [M,  ,  ,  ,  ]\n",
      "1130S1     0           object   [6, 6, 6, 6, 6]\n",
      "1130S2     0           object   [ ,  ,  ,  ,  ]\n",
      "1145Val    0           int64    [-9999, 0, 0, 0, 0]\n",
      "1145MF     0           object   [ , Z, Z, Z, Z]\n",
      "1145QF     0           object   [M,  ,  ,  ,  ]\n",
      "1145S1     0           object   [6, 6, 6, 6, 6]\n",
      "1145S2     0           object   [ ,  ,  ,  ,  ]\n",
      "1200Val    0           int64    [-9999, 0, 0, 0, 0]\n",
      "1200MF     0           object   [ , Z, Z, Z, Z]\n",
      "1200QF     0           object   [M,  ,  ,  ,  ]\n",
      "1200S1     0           object   [6, 6, 6, 6, 6]\n",
      "1200S2     0           object   [ ,  ,  ,  ,  ]\n",
      "1215Val    0           int64    [-9999, 0, 0, 0, 0]\n",
      "1215MF     0           object   [ , Z, Z, Z, Z]\n",
      "1215QF     0           object   [M,  ,  ,  ,  ]\n",
      "1215S1     0           object   [6, 6, 6, 6, 6]\n",
      "1215S2     0           object   [ ,  ,  ,  ,  ]\n",
      "1230Val    0           int64    [-9999, 0, 0, 0, 0]\n",
      "1230MF     0           object   [ , Z, Z, Z, Z]\n",
      "1230QF     0           object   [M,  ,  ,  ,  ]\n",
      "1230S1     0           object   [6, 6, 6, 6, 6]\n",
      "1230S2     0           object   [ ,  ,  ,  ,  ]\n",
      "1245Val    0           int64    [0, 0, 0, 0, 0]\n",
      "1245MF     0           object   [Z, Z, Z, Z, Z]\n",
      "1245QF     0           object   [ ,  ,  ,  ,  ]\n",
      "1245S1     0           object   [6, 6, 6, 6, 6]\n",
      "1245S2     0           object   [ ,  ,  ,  ,  ]\n",
      "1300Val    0           int64    [0, 0, 0, 0, 0]\n",
      "1300MF     0           object   [Z, Z, Z, Z, Z]\n",
      "1300QF     0           object   [ ,  ,  ,  ,  ]\n",
      "1300S1     0           object   [6, 6, 6, 6, 6]\n",
      "1300S2     0           object   [ ,  ,  ,  ,  ]\n",
      "1315Val    0           int64    [0, 0, 10, 0, 0]\n",
      "1315MF     0           object   [Z, Z,  , Z, Z]\n",
      "1315QF     0           object   [ ,  ,  ,  ,  ]\n",
      "1315S1     0           object   [6, 6, 6, 6, 6]\n",
      "1315S2     0           object   [ ,  ,  ,  ,  ]\n",
      "1330Val    0           int64    [0, 0, 0, 0, 0]\n",
      "1330MF     0           object   [Z, Z, Z, Z, Z]\n",
      "1330QF     0           object   [ ,  ,  ,  ,  ]\n",
      "1330S1     0           object   [6, 6, 6, 6, 6]\n",
      "1330S2     0           object   [ ,  ,  ,  ,  ]\n",
      "1345Val    0           int64    [0, 0, 0, 0, 0]\n",
      "1345MF     0           object   [Z, Z, Z, Z, Z]\n",
      "1345QF     0           object   [ ,  ,  ,  ,  ]\n",
      "1345S1     0           object   [6, 6, 6, 6, 6]\n",
      "1345S2     0           object   [ ,  ,  ,  ,  ]\n",
      "1400Val    0           int64    [0, 0, 0, 0, 0]\n",
      "1400MF     0           object   [Z, Z, Z, Z, Z]\n",
      "1400QF     0           object   [ ,  ,  ,  ,  ]\n",
      "1400S1     0           object   [6, 6, 6, 6, 6]\n",
      "1400S2     0           object   [ ,  ,  ,  ,  ]\n",
      "1415Val    0           int64    [0, 0, 0, 0, 0]\n",
      "1415MF     0           object   [Z, Z, Z, Z, Z]\n",
      "1415QF     0           object   [ ,  ,  ,  ,  ]\n",
      "1415S1     0           object   [6, 6, 6, 6, 6]\n",
      "1415S2     0           object   [ ,  ,  ,  ,  ]\n",
      "1430Val    0           int64    [0, 0, 0, 0, 0]\n",
      "1430MF     0           object   [Z, Z, Z, Z, Z]\n",
      "1430QF     0           object   [ ,  ,  ,  ,  ]\n",
      "1430S1     0           object   [6, 6, 6, 6, 6]\n",
      "1430S2     0           object   [ ,  ,  ,  ,  ]\n",
      "1445Val    0           int64    [0, 0, 0, 0, 0]\n",
      "1445MF     0           object   [Z, Z, Z, Z, Z]\n",
      "1445QF     0           object   [ ,  ,  ,  ,  ]\n",
      "1445S1     0           object   [6, 6, 6, 6, 6]\n",
      "1445S2     0           object   [ ,  ,  ,  ,  ]\n",
      "1500Val    0           int64    [0, 0, 0, 0, 0]\n",
      "1500MF     0           object   [Z, Z, Z, Z, Z]\n",
      "1500QF     0           object   [ ,  ,  ,  ,  ]\n",
      "1500S1     0           object   [6, 6, 6, 6, 6]\n",
      "1500S2     0           object   [ ,  ,  ,  ,  ]\n",
      "1515Val    0           int64    [0, 0, 10, 0, 0]\n",
      "1515MF     0           object   [Z, Z,  , Z, Z]\n",
      "1515QF     0           object   [ ,  ,  ,  ,  ]\n",
      "1515S1     0           object   [6, 6, 6, 6, 6]\n",
      "1515S2     0           object   [ ,  ,  ,  ,  ]\n",
      "1530Val    0           int64    [0, 0, 0, 0, 0]\n",
      "1530MF     0           object   [Z, Z, Z, Z, Z]\n",
      "1530QF     0           object   [ ,  ,  ,  ,  ]\n",
      "1530S1     0           object   [6, 6, 6, 6, 6]\n",
      "1530S2     0           object   [ ,  ,  ,  ,  ]\n",
      "1545Val    0           int64    [0, 0, 0, 0, 0]\n",
      "1545MF     0           object   [Z, Z, Z, Z, Z]\n",
      "1545QF     0           object   [ ,  ,  ,  ,  ]\n",
      "1545S1     0           object   [6, 6, 6, 6, 6]\n",
      "1545S2     0           object   [ ,  ,  ,  ,  ]\n",
      "1600Val    0           int64    [0, 0, 0, 0, 0]\n",
      "1600MF     0           object   [Z, Z, Z, Z, Z]\n",
      "1600QF     0           object   [ ,  ,  ,  ,  ]\n",
      "1600S1     0           object   [6, 6, 6, 6, 6]\n",
      "1600S2     0           object   [ ,  ,  ,  ,  ]\n",
      "1615Val    0           int64    [0, 0, 0, 0, 0]\n",
      "1615MF     0           object   [Z, Z, Z, Z, Z]\n",
      "1615QF     0           object   [ ,  ,  ,  ,  ]\n",
      "1615S1     0           object   [6, 6, 6, 6, 6]\n",
      "1615S2     0           object   [ ,  ,  ,  ,  ]\n",
      "1630Val    0           int64    [0, 0, 0, 0, 0]\n",
      "1630MF     0           object   [Z, Z, Z, Z, Z]\n",
      "1630QF     0           object   [ ,  ,  ,  ,  ]\n",
      "1630S1     0           object   [6, 6, 6, 6, 6]\n",
      "1630S2     0           object   [ ,  ,  ,  ,  ]\n",
      "1645Val    0           int64    [0, 0, 0, 0, 0]\n",
      "1645MF     0           object   [Z, Z, Z, Z, Z]\n",
      "1645QF     0           object   [ ,  ,  ,  ,  ]\n",
      "1645S1     0           object   [6, 6, 6, 6, 6]\n",
      "1645S2     0           object   [ ,  ,  ,  ,  ]\n",
      "1700Val    0           int64    [0, 0, 0, 0, 0]\n",
      "1700MF     0           object   [Z, Z, Z, Z, Z]\n",
      "1700QF     0           object   [ ,  ,  ,  ,  ]\n",
      "1700S1     0           object   [6, 6, 6, 6, 6]\n",
      "1700S2     0           object   [ ,  ,  ,  ,  ]\n",
      "1715Val    0           int64    [0, 0, 0, 0, 0]\n",
      "1715MF     0           object   [Z, Z, Z, Z, Z]\n",
      "1715QF     0           object   [ ,  ,  ,  ,  ]\n",
      "1715S1     0           object   [6, 6, 6, 6, 6]\n",
      "1715S2     0           object   [ ,  ,  ,  ,  ]\n",
      "1730Val    0           int64    [0, 0, 0, 0, 0]\n",
      "1730MF     0           object   [Z, Z, Z, Z, Z]\n",
      "1730QF     0           object   [ ,  ,  ,  ,  ]\n",
      "1730S1     0           object   [6, 6, 6, 6, 6]\n",
      "1730S2     0           object   [ ,  ,  ,  ,  ]\n",
      "1745Val    0           int64    [0, 0, 0, 0, 0]\n",
      "1745MF     0           object   [Z, Z, Z, Z, Z]\n",
      "1745QF     0           object   [ ,  ,  ,  ,  ]\n",
      "1745S1     0           object   [6, 6, 6, 6, 6]\n",
      "1745S2     0           object   [ ,  ,  ,  ,  ]\n",
      "1800Val    0           int64    [0, 0, 0, 0, 0]\n",
      "1800MF     0           object   [Z, Z, Z, Z, Z]\n",
      "1800QF     0           object   [ ,  ,  ,  ,  ]\n",
      "1800S1     0           object   [6, 6, 6, 6, 6]\n",
      "1800S2     0           object   [ ,  ,  ,  ,  ]\n",
      "1815Val    0           int64    [0, 0, 0, 0, 0]\n",
      "1815MF     0           object   [Z, Z, Z, Z, Z]\n",
      "1815QF     0           object   [ ,  ,  ,  ,  ]\n",
      "1815S1     0           object   [6, 6, 6, 6, 6]\n",
      "1815S2     0           object   [ ,  ,  ,  ,  ]\n",
      "1830Val    0           int64    [0, 0, 0, 0, 0]\n",
      "1830MF     0           object   [Z, Z, Z, Z, Z]\n",
      "1830QF     0           object   [ ,  ,  ,  ,  ]\n",
      "1830S1     0           object   [6, 6, 6, 6, 6]\n",
      "1830S2     0           object   [ ,  ,  ,  ,  ]\n",
      "1845Val    0           int64    [0, 0, 0, 0, 0]\n",
      "1845MF     0           object   [Z, Z, Z, Z, Z]\n",
      "1845QF     0           object   [ ,  ,  ,  ,  ]\n",
      "1845S1     0           object   [6, 6, 6, 6, 6]\n",
      "1845S2     0           object   [ ,  ,  ,  ,  ]\n",
      "1900Val    0           int64    [0, 0, 0, 0, 0]\n",
      "1900MF     0           object   [Z, Z, Z, Z, Z]\n",
      "1900QF     0           object   [ ,  ,  ,  ,  ]\n",
      "1900S1     0           object   [6, 6, 6, 6, 6]\n",
      "1900S2     0           object   [ ,  ,  ,  ,  ]\n",
      "1915Val    0           int64    [0, 0, 0, 0, 0]\n",
      "1915MF     0           object   [Z, Z, Z, Z, Z]\n",
      "1915QF     0           object   [ ,  ,  ,  ,  ]\n",
      "1915S1     0           object   [6, 6, 6, 6, 6]\n",
      "1915S2     0           object   [ ,  ,  ,  ,  ]\n",
      "1930Val    0           int64    [0, 0, 0, 0, 0]\n",
      "1930MF     0           object   [Z, Z, Z, Z, Z]\n",
      "1930QF     0           object   [ ,  ,  ,  ,  ]\n",
      "1930S1     0           object   [6, 6, 6, 6, 6]\n",
      "1930S2     0           object   [ ,  ,  ,  ,  ]\n",
      "1945Val    0           int64    [0, 0, 0, 0, 0]\n",
      "1945MF     0           object   [Z, Z, Z, Z, Z]\n",
      "1945QF     0           object   [ ,  ,  ,  ,  ]\n",
      "1945S1     0           object   [6, 6, 6, 6, 6]\n",
      "1945S2     0           object   [ ,  ,  ,  ,  ]\n",
      "2000Val    0           int64    [0, 0, 0, 0, 0]\n",
      "2000MF     0           object   [Z, Z, Z, Z, Z]\n",
      "2000QF     0           object   [ ,  ,  ,  ,  ]\n",
      "2000S1     0           object   [6, 6, 6, 6, 6]\n",
      "2000S2     0           object   [ ,  ,  ,  ,  ]\n",
      "2015Val    0           int64    [0, 0, 0, 0, 0]\n",
      "2015MF     0           object   [Z, Z, Z, Z, Z]\n",
      "2015QF     0           object   [ ,  ,  ,  ,  ]\n",
      "2015S1     0           object   [6, 6, 6, 6, 6]\n",
      "2015S2     0           object   [ ,  ,  ,  ,  ]\n",
      "2030Val    0           int64    [0, 0, 0, 0, 0]\n",
      "2030MF     0           object   [Z, Z, Z, Z, Z]\n",
      "2030QF     0           object   [ ,  ,  ,  ,  ]\n",
      "2030S1     0           object   [6, 6, 6, 6, 6]\n",
      "2030S2     0           object   [ ,  ,  ,  ,  ]\n",
      "2045Val    0           int64    [0, 0, 0, 0, 0]\n",
      "2045MF     0           object   [Z, Z, Z, Z, Z]\n",
      "2045QF     0           object   [ ,  ,  ,  ,  ]\n",
      "2045S1     0           object   [6, 6, 6, 6, 6]\n",
      "2045S2     0           object   [ ,  ,  ,  ,  ]\n",
      "2100Val    0           int64    [0, 0, 0, 0, 0]\n",
      "2100MF     0           object   [Z, Z, Z, Z, Z]\n",
      "2100QF     0           object   [ ,  ,  ,  ,  ]\n",
      "2100S1     0           object   [6, 6, 6, 6, 6]\n",
      "2100S2     0           object   [ ,  ,  ,  ,  ]\n",
      "2115Val    0           int64    [0, 0, 0, 0, 0]\n",
      "2115MF     0           object   [Z, Z, Z, Z, Z]\n",
      "2115QF     0           object   [ ,  ,  ,  ,  ]\n",
      "2115S1     0           object   [6, 6, 6, 6, 6]\n",
      "2115S2     0           object   [ ,  ,  ,  ,  ]\n",
      "2130Val    0           int64    [0, 0, 0, 0, 0]\n",
      "2130MF     0           object   [Z, Z, Z, Z, Z]\n",
      "2130QF     0           object   [ ,  ,  ,  ,  ]\n",
      "2130S1     0           object   [6, 6, 6, 6, 6]\n",
      "2130S2     0           object   [ ,  ,  ,  ,  ]\n",
      "2145Val    0           int64    [0, 0, 0, 0, 0]\n",
      "2145MF     0           object   [Z, Z, Z, Z, Z]\n",
      "2145QF     0           object   [ ,  ,  ,  ,  ]\n",
      "2145S1     0           object   [6, 6, 6, 6, 6]\n",
      "2145S2     0           object   [ ,  ,  ,  ,  ]\n",
      "2200Val    0           int64    [0, 0, 0, 0, 0]\n",
      "2200MF     0           object   [Z, Z, Z, Z, Z]\n",
      "2200QF     0           object   [ ,  ,  ,  ,  ]\n",
      "2200S1     0           object   [6, 6, 6, 6, 6]\n",
      "2200S2     0           object   [ ,  ,  ,  ,  ]\n",
      "2215Val    0           int64    [0, 0, 0, 0, 0]\n",
      "2215MF     0           object   [Z, Z, Z, Z, Z]\n",
      "2215QF     0           object   [ ,  ,  ,  ,  ]\n",
      "2215S1     0           object   [6, 6, 6, 6, 6]\n",
      "2215S2     0           object   [ ,  ,  ,  ,  ]\n",
      "2230Val    0           int64    [0, 0, 0, 0, 0]\n",
      "2230MF     0           object   [Z, Z, Z, Z, Z]\n",
      "2230QF     0           object   [ ,  ,  ,  ,  ]\n",
      "2230S1     0           object   [6, 6, 6, 6, 6]\n",
      "2230S2     0           object   [ ,  ,  ,  ,  ]\n",
      "2245Val    0           int64    [0, 0, 0, 0, 0]\n",
      "2245MF     0           object   [Z, Z, Z, Z, Z]\n",
      "2245QF     0           object   [ ,  ,  ,  ,  ]\n",
      "2245S1     0           object   [6, 6, 6, 6, 6]\n",
      "2245S2     0           object   [ ,  ,  ,  ,  ]\n",
      "2300Val    0           int64    [0, 0, 0, 0, 0]\n",
      "2300MF     0           object   [Z, Z, Z, Z, Z]\n",
      "2300QF     0           object   [ ,  ,  ,  ,  ]\n",
      "2300S1     0           object   [6, 6, 6, 6, 6]\n",
      "2300S2     0           object   [ ,  ,  ,  ,  ]\n",
      "2315Val    0           int64    [0, 0, 0, 0, 0]\n",
      "2315MF     0           object   [Z, Z, Z, Z, Z]\n",
      "2315QF     0           object   [ ,  ,  ,  ,  ]\n",
      "2315S1     0           object   [6, 6, 6, 6, 6]\n",
      "2315S2     0           object   [ ,  ,  ,  ,  ]\n",
      "2330Val    0           int64    [0, 0, 0, 0, 0]\n",
      "2330MF     0           object   [Z, Z, Z, Z, Z]\n",
      "2330QF     0           object   [ ,  ,  ,  ,  ]\n",
      "2330S1     0           object   [6, 6, 6, 6, 6]\n",
      "2330S2     0           object   [ ,  ,  ,  ,  ]\n",
      "2345Val    0           int64    [0, 0, 10, 0, 0]\n",
      "2345MF     0           object   [Z, Z,  , Z, Z]\n",
      "2345QF     0           object   [ ,  ,  ,  ,  ]\n",
      "2345S1     0           object   [6, 6, 6, 6, 6]\n",
      "2345S2     0           object   [ ,  ,  ,  ,  ]\n",
      "DlySum     0           int64    [0, 10, 30, 10, 0]\n",
      "DlySumMF   0           object   [ ,  ,  ,  ,  ]\n",
      "DlySumQF   0           object   [P,  ,  ,  ,  ]\n",
      "DlySumS1   0           object   [ ,  ,  ,  ,  ]\n",
      "DlySumS2   0           object   [C, C, C, C, C]\n"
     ]
    }
   ],
   "source": [
    "# Inspect example file\n",
    "ppt_example_df = pd.read_csv(ppt_example_path)\n",
    "glimpse(ppt_example_df)"
   ]
  },
  {
   "cell_type": "markdown",
   "id": "ea6ce9e0",
   "metadata": {},
   "source": [
    "The precipitation data is in wide-format. Each row represents a daily observation. The meaning of columns extracted from  documentation are given below:\n",
    "\n",
    "- **HR00Val:** Is the value on the first hour of the day (i.e., the precipitation\n",
    "           total during the time of day 00:00-01:00; missing = -9999).\n",
    "           The units are _**hundredths of inch**_.\n",
    "- **HR0MF**: is the measurement flag for the first hour of the day.\n",
    "- **HR00QF**: is the quality flag for the first hour of the day.\n",
    "- **HR00S1**: is the primary source flag for the first hour of the day.\n",
    "- **HR00S2**: is the secondary source flag for the second hour of the day.\n",
    "\n",
    "... and so on through the 24th hour of the day.\n",
    "\n",
    "- **DlySum**: is the sum of all the non-missing, non-quality-control-flagged\n",
    "           hourly values in the day (i.e., daily sum).\n",
    "- **DlySumMF**: is the measurement flag placeholder that applies to the daily sum\n",
    "           for consistency with the hourly value measurement flag.\n",
    "           Currently this is always blank.\n",
    "- **DlySumQF**: is the quality flag for the daily sum. It is blank if all 24 hourly\n",
    "           values in the day were used to compute the sum,i\n",
    "           and set to \"P\" (for Partial daily sum) if fewer than all 24 hourly\n",
    "           values were used.\n",
    "- **DlySumS1**: is the primary source flag for the daily sum for consistency with the\n",
    "           hourly value primary source flag. Currently this is always blank.\n",
    "- **DlySumS2**: is the secondary source flag for the daily sum for consistency with\n",
    "           the hourly value secondary source flag. It is always set to \"C\" to\n",
    "           indicate the daily sum is Computed from the hourly values preceding it in the same daily data record ... as opposed to a daily sum that might be reported by an observer who examines a daily accumulation amount in a rain gauge. "
   ]
  },
  {
   "cell_type": "code",
   "execution_count": 58,
   "id": "bed84259",
   "metadata": {},
   "outputs": [
    {
     "name": "stdout",
     "output_type": "stream",
     "text": [
      "Sample unique values for measurement flags:\n"
     ]
    },
    {
     "data": {
      "text/plain": [
       "array([' ', '.', 'Z', 'a', 'g'], dtype=object)"
      ]
     },
     "execution_count": 58,
     "metadata": {},
     "output_type": "execute_result"
    }
   ],
   "source": [
    "print('Sample unique values for measurement flags:')\n",
    "np.unique(np.concatenate([ppt_example_df['0000MF'].unique(), ppt_example_df['0015MF'].unique(), ppt_example_df['0030MF'].unique()]))"
   ]
  },
  {
   "cell_type": "markdown",
   "id": "046ad1d2",
   "metadata": {},
   "source": [
    "The flag meanings, also extracted from the documentation, are as follow:\n",
    "\n",
    "Blank = no measurement information applicable\n",
    "- **g** = a carry-over measurement flag from the DSI-3240 dataset\n",
    "                   which was used only on the very first hour of the month\n",
    "                   if there was zero precipitation during that hour. The purpose\n",
    "                   of this flag was mainly to indicate that the station was\n",
    "                   functional and reporting during the month. Normally in\n",
    "                   DSI-3240, **zero precipitation amounts were not included in the\n",
    "                   data file in order to save space**. This HPD dataset does\n",
    "                   include zero precipitation totals, both those assumed from\n",
    "                   the DSI-3240 dataset and those determined from the digital\n",
    "                   recordings of bucket level data. \n",
    "- **Z** = represents an \"assumed\" zero precipitation total. Usually\n",
    "                   these are values from the DSI-3240 dataset. The rule in that\n",
    "                   dataset was to \"assume\" a zero total for any hour where\n",
    "                   nothing else was reported or indicated for that hour as long\n",
    "                   as the very first hour of the month had a non-zero amount or\n",
    "                   a zero amount with the \"g\" measurement flag. Zero amounts\n",
    "                   were omitted from the DSI-3240 dataset in order to save disk\n",
    "                   space. We are not concerned with that anymore.\n",
    "- **a** = represents the beginning hour of an accumulation period.\n",
    "                   Sometimes multi-hour accumulations were reported in DSI-3240,\n",
    "                   so they were brought over for the period of record in which\n",
    "                   we have DSI-3240 data when that was the best information\n",
    "                   available. The data value for the beginning of an\n",
    "                   accumulation period is set to missing (-9999).\n",
    "- **.** = represents an hour during an accumulation period, between the\n",
    "                   beginning and ending hours of the accumulation period.\n",
    "                   The data value during the midst of an accumulation period is\n",
    "                   set to missing (-9999). Accumulations across multiple hours\n",
    "                   exist only from the legacy DSI-3240 data source. \n",
    "- **A** = designates the end of an accumulation period.\n",
    "                   The accumulation total for the period is given for the\n",
    "                   data value.\n",
    "- **T** = trace of precipitation\n"
   ]
  },
  {
   "cell_type": "code",
   "execution_count": 59,
   "id": "c7fc67c1",
   "metadata": {},
   "outputs": [
    {
     "name": "stdout",
     "output_type": "stream",
     "text": [
      "Sample unique values for quality flags:\n"
     ]
    },
    {
     "data": {
      "text/plain": [
       "array([' ', 'D', 'M', 'R'], dtype=object)"
      ]
     },
     "execution_count": 59,
     "metadata": {},
     "output_type": "execute_result"
    }
   ],
   "source": [
    "print('Sample unique values for quality flags:')\n",
    "np.unique(np.concatenate([ppt_example_df['0000QF'].unique(), ppt_example_df['0015QF'].unique(), ppt_example_df['0030QF'].unique()]))"
   ]
  },
  {
   "cell_type": "markdown",
   "id": "c2f23d08",
   "metadata": {},
   "source": [
    "Meanings for the quality flag, also extracted from documentation, are as follow:\n",
    "\n",
    "- **Blank** = did not fail any quality assurance check\n",
    "- **X**     = failed global extreme exceedence check\n",
    "- **N**     = failed negative precipitation check\n",
    "- **Y**     = failed state extreme exceedence check\n",
    "        (performed on daily totals)\n",
    "- **K**     = failed streak/frequent-value check\n",
    "- **G**     = failed gap check\n",
    "- **O**     = failed climatological outlier check\n",
    "- **Z**     = flagged as a result of an official Datzilla investigation\n",
    "- **A**     = The value is not an hourly precipitation total but rather\n",
    "        an accumulation total for a period greater than an hour in\n",
    "        duration and lasting through the end of this hour.\n",
    "        (See measurement flags \"a\" and \".\" for the beginning time of\n",
    "        the accumulation period and times during the accumulation\n",
    "        period, respectively.) Accumulations across multiple hours\n",
    "        exist only from the legacy DSI-3240 data source.\n",
    "- **M**     = represents the associated value at this observation time is\n",
    "        missing in the DSI-3240 dataset and no alternate data source\n",
    "        is available. This is a carry-over indicator from DSI-3240 to\n",
    "        allow the user to distinguish between missing and deleted\n",
    "        data in that older system. (See the \"D\" quality flag.)\n",
    "        However, the most consistent way to identify hours of missing\n",
    "        data across the entire dataset is to test if the\n",
    "        precipitation value is equal to the special missing value\n",
    "        of -9999. \n",
    "- **D**     = represents the associated value at this time was deleted by\n",
    "        the DSI-3240 processing system. Usually this was done\n",
    "        manually by a trained meteorological technician who made the\n",
    "        decision using ancillary information and experience.\n",
    "- **Q**     = a carry-over quality flag the legacy DSI-3240 data source. \n",
    "        Prior to 1996: Indicates value failed an extreme value test\n",
    "        (value will be present); data are to be used with caution.\n",
    "        Extremes tests were:\n",
    "        1) If the value was not an accumulated precipitation total,\n",
    "            the value failed the one-hour statewide 100-year return\n",
    "            period precipitation.\n",
    "        2) If the value was an accumulated precipitation total,\n",
    "            the value failed the 24-hour statewide extreme\n",
    "            precipitation total. This flag was assigned during a 1997\n",
    "            NCDC rehabilitation of the 1900-1995 DSI-3240 archive.\n",
    "        Since January 1996: A single erroneous datum (value will be\n",
    "        present). Lowest data resolution is hourly. This flag is\n",
    "        rarely used in DSI-3240 since 1996.\n",
    "- **q**     = a carry-over quality flag the legacy DSI-3240 data source. \n",
    "        Used since January 1996. An hourly value excludes one or\n",
    "        more 15 minute periods. Lowest data resolution is 15 minutes.\n",
    "- **R**     = a carry-over quality flag the legacy DSI-3240 data source.\n",
    "        Used since January 1996. Indicates data values are suspect\n",
    "        with regard to the times or period of occurrence. \n"
   ]
  },
  {
   "cell_type": "markdown",
   "id": "828a053e",
   "metadata": {},
   "source": [
    "The following steps are taken to transform the raw tabular data, into a format suitable to initiate analysis:\n",
    "\n",
    "1. Drops unnecessary columns: `['STATION', 'ELEMENT','LATITUDE', 'LONGITUDE', 'ELEVATION', 'DlySum', 'DlySumMF', 'DlySumQF', 'DlySumS1', 'DlySumS2']`.\n",
    "2. Melts the DataFrame to long format based on the 'DATE' column.\n",
    "3. Combines 'DATE' and 'Time_Attribute' for a new timestamp.\n",
    "4. Extracts 'Attribute' from the 'Time_Attribute' column.\n",
    "5. Pivots the data to separate out different measurements.\n",
    "6. Renames the columns for clarity.\n",
    "7. Replace -9999 (null values) by NA\n",
    "8. Replace height values for failed quality cheks by NA\n",
    "9. Filter out observation prior to year 2014 and after 2025-05-08, if any.\n",
    "10. Fill in with NA values missing intervals"
   ]
  },
  {
   "cell_type": "code",
   "execution_count": 78,
   "id": "deb4e351",
   "metadata": {},
   "outputs": [],
   "source": [
    "df = ppt_example_df.copy()\n",
    "columns_to_trop = ['STATION', 'ELEMENT','LATITUDE', 'LONGITUDE', 'ELEVATION', 'DlySum', 'DlySumMF', 'DlySumQF', 'DlySumS1', 'DlySumS2']\n",
    "df = df.drop(columns=columns_to_trop)\n",
    "\n",
    "# Identifying columns to melt\n",
    "id_vars = ['DATE']\n",
    "value_vars = [col for col in df.columns if col not in id_vars]\n",
    "\n",
    "# Melting to long format\n",
    "df_long = df.melt(id_vars=id_vars,\n",
    "                    value_vars=value_vars,\n",
    "                    var_name='Time_Attribute',\n",
    "                    value_name='Value')\n",
    "\n",
    "# Add Time to DATE column and extract Attribute from 'Time_Attribute'\n",
    "df_long['DATE'] = df_long['DATE'].astype(str) + ' ' + df_long['Time_Attribute'].str[:4]\n",
    "df_long['Attribute'] = df_long['Time_Attribute'].str[4:]\n",
    "\n",
    "df_long = df_long.drop(columns=['Time_Attribute'])"
   ]
  },
  {
   "cell_type": "code",
   "execution_count": 83,
   "id": "1b040851",
   "metadata": {},
   "outputs": [
    {
     "data": {
      "application/vnd.microsoft.datawrangler.viewer.v0+json": {
       "columns": [
        {
         "name": "index",
         "rawType": "int64",
         "type": "integer"
        },
        {
         "name": "DATE",
         "rawType": "object",
         "type": "string"
        },
        {
         "name": "Value",
         "rawType": "object",
         "type": "unknown"
        },
        {
         "name": "Attribute",
         "rawType": "object",
         "type": "string"
        }
       ],
       "conversionMethod": "pd.DataFrame",
       "ref": "77884b99-b427-4940-858f-3412225ecdf3",
       "rows": [
        [
         "0",
         "1992-06-02 0000",
         "-9999",
         "Val"
        ],
        [
         "1",
         "1992-06-03 0000",
         "0",
         "Val"
        ],
        [
         "2",
         "1992-06-04 0000",
         "0",
         "Val"
        ],
        [
         "3",
         "1992-06-05 0000",
         "0",
         "Val"
        ],
        [
         "4",
         "1992-06-06 0000",
         "0",
         "Val"
        ]
       ],
       "shape": {
        "columns": 3,
        "rows": 5
       }
      },
      "text/html": [
       "<div>\n",
       "<style scoped>\n",
       "    .dataframe tbody tr th:only-of-type {\n",
       "        vertical-align: middle;\n",
       "    }\n",
       "\n",
       "    .dataframe tbody tr th {\n",
       "        vertical-align: top;\n",
       "    }\n",
       "\n",
       "    .dataframe thead th {\n",
       "        text-align: right;\n",
       "    }\n",
       "</style>\n",
       "<table border=\"1\" class=\"dataframe\">\n",
       "  <thead>\n",
       "    <tr style=\"text-align: right;\">\n",
       "      <th></th>\n",
       "      <th>DATE</th>\n",
       "      <th>Value</th>\n",
       "      <th>Attribute</th>\n",
       "    </tr>\n",
       "  </thead>\n",
       "  <tbody>\n",
       "    <tr>\n",
       "      <th>0</th>\n",
       "      <td>1992-06-02 0000</td>\n",
       "      <td>-9999</td>\n",
       "      <td>Val</td>\n",
       "    </tr>\n",
       "    <tr>\n",
       "      <th>1</th>\n",
       "      <td>1992-06-03 0000</td>\n",
       "      <td>0</td>\n",
       "      <td>Val</td>\n",
       "    </tr>\n",
       "    <tr>\n",
       "      <th>2</th>\n",
       "      <td>1992-06-04 0000</td>\n",
       "      <td>0</td>\n",
       "      <td>Val</td>\n",
       "    </tr>\n",
       "    <tr>\n",
       "      <th>3</th>\n",
       "      <td>1992-06-05 0000</td>\n",
       "      <td>0</td>\n",
       "      <td>Val</td>\n",
       "    </tr>\n",
       "    <tr>\n",
       "      <th>4</th>\n",
       "      <td>1992-06-06 0000</td>\n",
       "      <td>0</td>\n",
       "      <td>Val</td>\n",
       "    </tr>\n",
       "  </tbody>\n",
       "</table>\n",
       "</div>"
      ],
      "text/plain": [
       "              DATE  Value Attribute\n",
       "0  1992-06-02 0000  -9999       Val\n",
       "1  1992-06-03 0000      0       Val\n",
       "2  1992-06-04 0000      0       Val\n",
       "3  1992-06-05 0000      0       Val\n",
       "4  1992-06-06 0000      0       Val"
      ]
     },
     "execution_count": 83,
     "metadata": {},
     "output_type": "execute_result"
    }
   ],
   "source": [
    "df_long.head()"
   ]
  },
  {
   "cell_type": "code",
   "execution_count": 84,
   "id": "cfb87306",
   "metadata": {},
   "outputs": [
    {
     "data": {
      "text/plain": [
       "array(['Val', 'MF', 'QF', 'S1', 'S2'], dtype=object)"
      ]
     },
     "execution_count": 84,
     "metadata": {},
     "output_type": "execute_result"
    }
   ],
   "source": [
    "df_long['Attribute'].unique()"
   ]
  },
  {
   "cell_type": "code",
   "execution_count": 85,
   "id": "9d558943",
   "metadata": {},
   "outputs": [
    {
     "data": {
      "text/plain": [
       "array([-9999, 0, 10, 20, 30, 12, 1, 2, 4, 9, 3, 7, 5, 6, 13, 14, 8, ' ',\n",
       "       'Z', 'g', '.', 'a', 'M', 'D', 'R', '6', 'H', 40, 21, 27, 19, 17,\n",
       "       11, 16, 24, 26, 50, 15, 'A', 18, 49, 22, 60, 37, 'N', 29, 23, 34,\n",
       "       25, 80, 70, 28, 116, 117, 35, 'Q', 114, 'q', 44, 68, 63, 115, 86,\n",
       "       110, 38, 90, 100, 55, 41, 32, 57, 45, 58, 75, 33, 48, 42, 47, 43,\n",
       "       51, 'G', 130, 36, 61, 31, 39], dtype=object)"
      ]
     },
     "execution_count": 85,
     "metadata": {},
     "output_type": "execute_result"
    }
   ],
   "source": [
    "df_long['Value'].unique()"
   ]
  },
  {
   "cell_type": "code",
   "execution_count": 86,
   "id": "8c2e0183",
   "metadata": {},
   "outputs": [],
   "source": [
    "# Pivoting to separate Value, Measurement Flag, Quality Flag, and Source Flags\n",
    "df_final = df_long.pivot_table(\n",
    "    index=['DATE'], \n",
    "    columns='Attribute', \n",
    "    values='Value', \n",
    "    aggfunc='first'\n",
    ").reset_index()\n"
   ]
  },
  {
   "cell_type": "code",
   "execution_count": 88,
   "id": "c828fae8",
   "metadata": {},
   "outputs": [
    {
     "data": {
      "application/vnd.microsoft.datawrangler.viewer.v0+json": {
       "columns": [
        {
         "name": "index",
         "rawType": "int64",
         "type": "integer"
        },
        {
         "name": "DATE",
         "rawType": "object",
         "type": "string"
        },
        {
         "name": "MF",
         "rawType": "object",
         "type": "string"
        },
        {
         "name": "QF",
         "rawType": "object",
         "type": "string"
        },
        {
         "name": "S1",
         "rawType": "object",
         "type": "unknown"
        },
        {
         "name": "S2",
         "rawType": "object",
         "type": "string"
        },
        {
         "name": "Val",
         "rawType": "object",
         "type": "unknown"
        }
       ],
       "conversionMethod": "pd.DataFrame",
       "ref": "3d97e29f-84b6-418e-ba74-cfa868a2f5cc",
       "rows": [
        [
         "0",
         "1992-06-02 0000",
         " ",
         "M",
         "6",
         " ",
         "-9999"
        ],
        [
         "1",
         "1992-06-02 0015",
         " ",
         "M",
         "6",
         " ",
         "-9999"
        ],
        [
         "2",
         "1992-06-02 0030",
         " ",
         "M",
         "6",
         " ",
         "-9999"
        ],
        [
         "3",
         "1992-06-02 0045",
         " ",
         "M",
         "6",
         " ",
         "-9999"
        ],
        [
         "4",
         "1992-06-02 0100",
         " ",
         "M",
         "6",
         " ",
         "-9999"
        ]
       ],
       "shape": {
        "columns": 6,
        "rows": 5
       }
      },
      "text/html": [
       "<div>\n",
       "<style scoped>\n",
       "    .dataframe tbody tr th:only-of-type {\n",
       "        vertical-align: middle;\n",
       "    }\n",
       "\n",
       "    .dataframe tbody tr th {\n",
       "        vertical-align: top;\n",
       "    }\n",
       "\n",
       "    .dataframe thead th {\n",
       "        text-align: right;\n",
       "    }\n",
       "</style>\n",
       "<table border=\"1\" class=\"dataframe\">\n",
       "  <thead>\n",
       "    <tr style=\"text-align: right;\">\n",
       "      <th>Attribute</th>\n",
       "      <th>DATE</th>\n",
       "      <th>MF</th>\n",
       "      <th>QF</th>\n",
       "      <th>S1</th>\n",
       "      <th>S2</th>\n",
       "      <th>Val</th>\n",
       "    </tr>\n",
       "  </thead>\n",
       "  <tbody>\n",
       "    <tr>\n",
       "      <th>0</th>\n",
       "      <td>1992-06-02 0000</td>\n",
       "      <td></td>\n",
       "      <td>M</td>\n",
       "      <td>6</td>\n",
       "      <td></td>\n",
       "      <td>-9999</td>\n",
       "    </tr>\n",
       "    <tr>\n",
       "      <th>1</th>\n",
       "      <td>1992-06-02 0015</td>\n",
       "      <td></td>\n",
       "      <td>M</td>\n",
       "      <td>6</td>\n",
       "      <td></td>\n",
       "      <td>-9999</td>\n",
       "    </tr>\n",
       "    <tr>\n",
       "      <th>2</th>\n",
       "      <td>1992-06-02 0030</td>\n",
       "      <td></td>\n",
       "      <td>M</td>\n",
       "      <td>6</td>\n",
       "      <td></td>\n",
       "      <td>-9999</td>\n",
       "    </tr>\n",
       "    <tr>\n",
       "      <th>3</th>\n",
       "      <td>1992-06-02 0045</td>\n",
       "      <td></td>\n",
       "      <td>M</td>\n",
       "      <td>6</td>\n",
       "      <td></td>\n",
       "      <td>-9999</td>\n",
       "    </tr>\n",
       "    <tr>\n",
       "      <th>4</th>\n",
       "      <td>1992-06-02 0100</td>\n",
       "      <td></td>\n",
       "      <td>M</td>\n",
       "      <td>6</td>\n",
       "      <td></td>\n",
       "      <td>-9999</td>\n",
       "    </tr>\n",
       "  </tbody>\n",
       "</table>\n",
       "</div>"
      ],
      "text/plain": [
       "Attribute             DATE MF QF S1 S2    Val\n",
       "0          1992-06-02 0000     M  6     -9999\n",
       "1          1992-06-02 0015     M  6     -9999\n",
       "2          1992-06-02 0030     M  6     -9999\n",
       "3          1992-06-02 0045     M  6     -9999\n",
       "4          1992-06-02 0100     M  6     -9999"
      ]
     },
     "execution_count": 88,
     "metadata": {},
     "output_type": "execute_result"
    }
   ],
   "source": [
    "df_final.head()"
   ]
  },
  {
   "cell_type": "code",
   "execution_count": 89,
   "id": "8eb30325",
   "metadata": {},
   "outputs": [
    {
     "data": {
      "text/plain": [
       "array([' ', 'Z', 'g', 'a', '.', 'A'], dtype=object)"
      ]
     },
     "execution_count": 89,
     "metadata": {},
     "output_type": "execute_result"
    }
   ],
   "source": [
    "df_final['MF'].unique()"
   ]
  },
  {
   "cell_type": "code",
   "execution_count": 90,
   "id": "0a9e5810",
   "metadata": {},
   "outputs": [
    {
     "data": {
      "text/plain": [
       "array(['M', ' ', 'A', 'D', 'R', 'G', 'Z', 'Q', 'q', 'N'], dtype=object)"
      ]
     },
     "execution_count": 90,
     "metadata": {},
     "output_type": "execute_result"
    }
   ],
   "source": [
    "df_final['QF'].unique()"
   ]
  },
  {
   "cell_type": "code",
   "execution_count": 91,
   "id": "bd5d18ba",
   "metadata": {},
   "outputs": [],
   "source": [
    "# Rename  Columns\n",
    "df_final.columns.name = None \n",
    "df_final = df_final.rename({\n",
    "    'DATE':'date',\n",
    "    'Val':'height',\n",
    "    'MF':'measurement_flag',\n",
    "    'QF':'quality_flag',\n",
    "}, axis='columns')\n",
    "\n",
    "# Drop columns\n",
    "drop_columns = ['S1','S2']\n",
    "df_final = df_final.drop(columns=drop_columns)\n",
    "\n",
    "# Parse datetime column\n",
    "df_final['date'] = pd.to_datetime(df_final['date'], format='%Y-%m-%d %H%M')\n",
    "\n",
    "# Replace null values\n",
    "df_final['height'] = df_final['height'].replace(-9999,pd.NA)\n",
    "\n",
    "# Filter by date\n",
    "cutoff_date = pd.to_datetime('20140101')\n",
    "df_final = df_final[df_final['date']>=cutoff_date]"
   ]
  },
  {
   "cell_type": "code",
   "execution_count": 92,
   "id": "dcc9a875",
   "metadata": {},
   "outputs": [
    {
     "data": {
      "application/vnd.microsoft.datawrangler.viewer.v0+json": {
       "columns": [
        {
         "name": "index",
         "rawType": "int64",
         "type": "integer"
        },
        {
         "name": "date",
         "rawType": "datetime64[ns]",
         "type": "datetime"
        },
        {
         "name": "measurement_flag",
         "rawType": "object",
         "type": "string"
        },
        {
         "name": "quality_flag",
         "rawType": "object",
         "type": "string"
        },
        {
         "name": "height",
         "rawType": "object",
         "type": "unknown"
        }
       ],
       "conversionMethod": "pd.DataFrame",
       "ref": "81afad71-cb62-445f-a6d4-e8ca1481ec42",
       "rows": [
        [
         "655200",
         "2014-01-01 00:00:00",
         " ",
         " ",
         "0"
        ],
        [
         "655201",
         "2014-01-01 00:15:00",
         " ",
         " ",
         "0"
        ],
        [
         "655202",
         "2014-01-01 00:30:00",
         " ",
         " ",
         "0"
        ],
        [
         "655203",
         "2014-01-01 00:45:00",
         " ",
         " ",
         "0"
        ],
        [
         "655204",
         "2014-01-01 01:00:00",
         " ",
         " ",
         "0"
        ]
       ],
       "shape": {
        "columns": 4,
        "rows": 5
       }
      },
      "text/html": [
       "<div>\n",
       "<style scoped>\n",
       "    .dataframe tbody tr th:only-of-type {\n",
       "        vertical-align: middle;\n",
       "    }\n",
       "\n",
       "    .dataframe tbody tr th {\n",
       "        vertical-align: top;\n",
       "    }\n",
       "\n",
       "    .dataframe thead th {\n",
       "        text-align: right;\n",
       "    }\n",
       "</style>\n",
       "<table border=\"1\" class=\"dataframe\">\n",
       "  <thead>\n",
       "    <tr style=\"text-align: right;\">\n",
       "      <th></th>\n",
       "      <th>date</th>\n",
       "      <th>measurement_flag</th>\n",
       "      <th>quality_flag</th>\n",
       "      <th>height</th>\n",
       "    </tr>\n",
       "  </thead>\n",
       "  <tbody>\n",
       "    <tr>\n",
       "      <th>655200</th>\n",
       "      <td>2014-01-01 00:00:00</td>\n",
       "      <td></td>\n",
       "      <td></td>\n",
       "      <td>0</td>\n",
       "    </tr>\n",
       "    <tr>\n",
       "      <th>655201</th>\n",
       "      <td>2014-01-01 00:15:00</td>\n",
       "      <td></td>\n",
       "      <td></td>\n",
       "      <td>0</td>\n",
       "    </tr>\n",
       "    <tr>\n",
       "      <th>655202</th>\n",
       "      <td>2014-01-01 00:30:00</td>\n",
       "      <td></td>\n",
       "      <td></td>\n",
       "      <td>0</td>\n",
       "    </tr>\n",
       "    <tr>\n",
       "      <th>655203</th>\n",
       "      <td>2014-01-01 00:45:00</td>\n",
       "      <td></td>\n",
       "      <td></td>\n",
       "      <td>0</td>\n",
       "    </tr>\n",
       "    <tr>\n",
       "      <th>655204</th>\n",
       "      <td>2014-01-01 01:00:00</td>\n",
       "      <td></td>\n",
       "      <td></td>\n",
       "      <td>0</td>\n",
       "    </tr>\n",
       "  </tbody>\n",
       "</table>\n",
       "</div>"
      ],
      "text/plain": [
       "                      date measurement_flag quality_flag height\n",
       "655200 2014-01-01 00:00:00                                    0\n",
       "655201 2014-01-01 00:15:00                                    0\n",
       "655202 2014-01-01 00:30:00                                    0\n",
       "655203 2014-01-01 00:45:00                                    0\n",
       "655204 2014-01-01 01:00:00                                    0"
      ]
     },
     "execution_count": 92,
     "metadata": {},
     "output_type": "execute_result"
    }
   ],
   "source": [
    "df_final.head()"
   ]
  },
  {
   "cell_type": "code",
   "execution_count": 93,
   "id": "be79d880",
   "metadata": {},
   "outputs": [
    {
     "data": {
      "text/plain": [
       "array([' '], dtype=object)"
      ]
     },
     "execution_count": 93,
     "metadata": {},
     "output_type": "execute_result"
    }
   ],
   "source": [
    "df_final['measurement_flag'].unique()"
   ]
  },
  {
   "cell_type": "code",
   "execution_count": 94,
   "id": "351424dd",
   "metadata": {},
   "outputs": [
    {
     "data": {
      "text/plain": [
       "array([' ', 'N'], dtype=object)"
      ]
     },
     "execution_count": 94,
     "metadata": {},
     "output_type": "execute_result"
    }
   ],
   "source": [
    "df_final['quality_flag'].unique()"
   ]
  },
  {
   "cell_type": "code",
   "execution_count": 95,
   "id": "757e737d",
   "metadata": {},
   "outputs": [
    {
     "name": "stdout",
     "output_type": "stream",
     "text": [
      "Rows: 378240\n",
      "Columns: 4\n",
      "                  Null Count  Dtype           First Values\n",
      "                  ----------  -----           -------------\n",
      "date              0           datetime64[ns]  [2014-01-01T00:00:00.000000000, 2014-01-01T00:15:00.000000000, 2014-01-01T00:30:00.000000000, 2014-01-01T00:45:00.000000000, 2014-01-01T01:00:00.000000000]\n",
      "measurement_flag  0           object          [ ,  ,  ,  ,  ]\n",
      "quality_flag      0           object          [ ,  ,  ,  ,  ]\n",
      "height            914         object          [0, 0, 0, 0, 0]\n"
     ]
    }
   ],
   "source": [
    "glimpse(df_final)"
   ]
  },
  {
   "cell_type": "code",
   "execution_count": 97,
   "id": "b7d5c159",
   "metadata": {},
   "outputs": [
    {
     "name": "stdout",
     "output_type": "stream",
     "text": [
      "Sum of negative precipitation values: 0\n"
     ]
    }
   ],
   "source": [
    "print(f'Sum of negative precipitation values: {sum(df_final['height']<0)}')"
   ]
  },
  {
   "cell_type": "code",
   "execution_count": 100,
   "id": "c3f5dfb1",
   "metadata": {},
   "outputs": [
    {
     "data": {
      "text/plain": [
       "array([0, 1, 2, 5, 3, 4, 7, 6, 16, <NA>, 8, 12, 29, 10, 11, 9, 18, 15, 13,\n",
       "       14, 19, 50, 20, 32, 75, 33, 27, 37, 47, 44, 17, 21, 63, 24, 49, 22,\n",
       "       28, 31, 23, 36, 38, 26, 25, 39, 60, 30, 58, 57, 45, 35, 117, 86,\n",
       "       68, 48, 42, 51, 43, 116, 114, 115, 61, 40, 55, 41], dtype=object)"
      ]
     },
     "execution_count": 100,
     "metadata": {},
     "output_type": "execute_result"
    }
   ],
   "source": [
    "df_final['height'] = df_final['height'].where(df_final['height'] >= 0, pd.NA)\n",
    "df_final['height'].unique()"
   ]
  },
  {
   "cell_type": "code",
   "execution_count": 102,
   "id": "3bb08992",
   "metadata": {},
   "outputs": [
    {
     "data": {
      "text/plain": [
       "height\n",
       "0      360522\n",
       "1        8758\n",
       "2        3312\n",
       "3        1710\n",
       "4         995\n",
       "        ...  \n",
       "115         1\n",
       "61          1\n",
       "40          1\n",
       "55          1\n",
       "41          1\n",
       "Name: count, Length: 63, dtype: int64"
      ]
     },
     "execution_count": 102,
     "metadata": {},
     "output_type": "execute_result"
    }
   ],
   "source": [
    "df_final['height'].value_counts()"
   ]
  },
  {
   "cell_type": "code",
   "execution_count": 104,
   "id": "28be2d44",
   "metadata": {},
   "outputs": [
    {
     "data": {
      "text/plain": [
       "measurement_flag\n",
       "    378240\n",
       "Name: count, dtype: int64"
      ]
     },
     "execution_count": 104,
     "metadata": {},
     "output_type": "execute_result"
    }
   ],
   "source": [
    "df_final['measurement_flag'].value_counts()"
   ]
  },
  {
   "cell_type": "code",
   "execution_count": 105,
   "id": "c413f32f",
   "metadata": {},
   "outputs": [
    {
     "data": {
      "text/plain": [
       "quality_flag\n",
       "     378190\n",
       "N        50\n",
       "Name: count, dtype: int64"
      ]
     },
     "execution_count": 105,
     "metadata": {},
     "output_type": "execute_result"
    }
   ],
   "source": [
    "df_final['quality_flag'].value_counts()"
   ]
  },
  {
   "cell_type": "code",
   "execution_count": 106,
   "id": "0036db57",
   "metadata": {},
   "outputs": [
    {
     "data": {
      "application/vnd.microsoft.datawrangler.viewer.v0+json": {
       "columns": [
        {
         "name": "index",
         "rawType": "int64",
         "type": "integer"
        },
        {
         "name": "date",
         "rawType": "datetime64[ns]",
         "type": "datetime"
        },
        {
         "name": "measurement_flag",
         "rawType": "object",
         "type": "string"
        },
        {
         "name": "quality_flag",
         "rawType": "object",
         "type": "string"
        },
        {
         "name": "height",
         "rawType": "object",
         "type": "unknown"
        }
       ],
       "conversionMethod": "pd.DataFrame",
       "ref": "239313d6-a939-4f85-a646-3d0e01d1e159",
       "rows": [
        [
         "659472",
         "2014-02-14 12:00:00",
         " ",
         "N",
         "0"
        ],
        [
         "659554",
         "2014-03-06 08:30:00",
         " ",
         "N",
         "0"
        ],
        [
         "659555",
         "2014-03-06 08:45:00",
         " ",
         "N",
         "0"
        ],
        [
         "773125",
         "2017-08-03 09:15:00",
         " ",
         "N",
         "0"
        ],
        [
         "773126",
         "2017-08-03 09:30:00",
         " ",
         "N",
         "0"
        ],
        [
         "773127",
         "2017-08-03 09:45:00",
         " ",
         "N",
         "0"
        ],
        [
         "775901",
         "2017-09-01 07:15:00",
         " ",
         "N",
         "0"
        ],
        [
         "775902",
         "2017-09-01 07:30:00",
         " ",
         "N",
         "0"
        ],
        [
         "775903",
         "2017-09-01 07:45:00",
         " ",
         "N",
         "0"
        ],
        [
         "777232",
         "2017-09-15 04:00:00",
         " ",
         "N",
         "0"
        ],
        [
         "777234",
         "2017-09-15 04:30:00",
         " ",
         "N",
         "0"
        ],
        [
         "777235",
         "2017-09-15 04:45:00",
         " ",
         "N",
         "0"
        ],
        [
         "784644",
         "2017-12-01 09:00:00",
         " ",
         "N",
         "0"
        ],
        [
         "784660",
         "2017-12-01 13:00:00",
         " ",
         "N",
         "0"
        ],
        [
         "784661",
         "2017-12-01 13:15:00",
         " ",
         "N",
         "0"
        ],
        [
         "784662",
         "2017-12-01 13:30:00",
         " ",
         "N",
         "0"
        ],
        [
         "785234",
         "2017-12-07 12:30:00",
         " ",
         "N",
         "0"
        ],
        [
         "785235",
         "2017-12-07 12:45:00",
         " ",
         "N",
         "0"
        ],
        [
         "880856",
         "2020-09-01 14:00:00",
         " ",
         "N",
         "0"
        ],
        [
         "880857",
         "2020-09-01 14:15:00",
         " ",
         "N",
         "0"
        ],
        [
         "880859",
         "2020-09-01 14:45:00",
         " ",
         "N",
         "0"
        ],
        [
         "880944",
         "2020-09-02 12:00:00",
         " ",
         "N",
         "0"
        ],
        [
         "880945",
         "2020-09-02 12:15:00",
         " ",
         "N",
         "0"
        ],
        [
         "880946",
         "2020-09-02 12:30:00",
         " ",
         "N",
         "0"
        ],
        [
         "889696",
         "2020-12-02 16:00:00",
         " ",
         "N",
         "0"
        ],
        [
         "901008",
         "2021-04-01 12:00:00",
         " ",
         "N",
         "0"
        ],
        [
         "901009",
         "2021-04-01 12:15:00",
         " ",
         "N",
         "0"
        ],
        [
         "901296",
         "2021-05-04 12:00:00",
         " ",
         "N",
         "0"
        ],
        [
         "901298",
         "2021-05-04 12:30:00",
         " ",
         "N",
         "0"
        ],
        [
         "901299",
         "2021-05-04 12:45:00",
         " ",
         "N",
         "0"
        ],
        [
         "906950",
         "2021-07-09 09:30:00",
         " ",
         "N",
         "0"
        ],
        [
         "906951",
         "2021-07-09 09:45:00",
         " ",
         "N",
         "0"
        ],
        [
         "918197",
         "2021-11-03 13:15:00",
         " ",
         "N",
         "0"
        ],
        [
         "918198",
         "2021-11-03 13:30:00",
         " ",
         "N",
         "0"
        ],
        [
         "918199",
         "2021-11-03 13:45:00",
         " ",
         "N",
         "0"
        ],
        [
         "918280",
         "2021-11-04 10:00:00",
         " ",
         "N",
         "0"
        ],
        [
         "918282",
         "2021-11-04 10:30:00",
         " ",
         "N",
         "0"
        ],
        [
         "918283",
         "2021-11-04 10:45:00",
         " ",
         "N",
         "0"
        ],
        [
         "919644",
         "2021-11-18 15:00:00",
         " ",
         "N",
         "0"
        ],
        [
         "919645",
         "2021-11-18 15:15:00",
         " ",
         "N",
         "0"
        ],
        [
         "919646",
         "2021-11-18 15:30:00",
         " ",
         "N",
         "0"
        ],
        [
         "935448",
         "2022-05-02 06:00:00",
         " ",
         "N",
         "0"
        ],
        [
         "935449",
         "2022-05-02 06:15:00",
         " ",
         "N",
         "0"
        ],
        [
         "935557",
         "2022-06-04 09:15:00",
         " ",
         "N",
         "0"
        ],
        [
         "935558",
         "2022-06-04 09:30:00",
         " ",
         "N",
         "0"
        ],
        [
         "935559",
         "2022-06-04 09:45:00",
         " ",
         "N",
         "0"
        ],
        [
         "1025996",
         "2025-01-01 11:00:00",
         " ",
         "N",
         "0"
        ],
        [
         "1025998",
         "2025-01-01 11:30:00",
         " ",
         "N",
         "0"
        ],
        [
         "1025999",
         "2025-01-01 11:45:00",
         " ",
         "N",
         "0"
        ],
        [
         "1033384",
         "2025-04-01 10:00:00",
         " ",
         "N",
         "0"
        ]
       ],
       "shape": {
        "columns": 4,
        "rows": 50
       }
      },
      "text/html": [
       "<div>\n",
       "<style scoped>\n",
       "    .dataframe tbody tr th:only-of-type {\n",
       "        vertical-align: middle;\n",
       "    }\n",
       "\n",
       "    .dataframe tbody tr th {\n",
       "        vertical-align: top;\n",
       "    }\n",
       "\n",
       "    .dataframe thead th {\n",
       "        text-align: right;\n",
       "    }\n",
       "</style>\n",
       "<table border=\"1\" class=\"dataframe\">\n",
       "  <thead>\n",
       "    <tr style=\"text-align: right;\">\n",
       "      <th></th>\n",
       "      <th>date</th>\n",
       "      <th>measurement_flag</th>\n",
       "      <th>quality_flag</th>\n",
       "      <th>height</th>\n",
       "    </tr>\n",
       "  </thead>\n",
       "  <tbody>\n",
       "    <tr>\n",
       "      <th>659472</th>\n",
       "      <td>2014-02-14 12:00:00</td>\n",
       "      <td></td>\n",
       "      <td>N</td>\n",
       "      <td>0</td>\n",
       "    </tr>\n",
       "    <tr>\n",
       "      <th>659554</th>\n",
       "      <td>2014-03-06 08:30:00</td>\n",
       "      <td></td>\n",
       "      <td>N</td>\n",
       "      <td>0</td>\n",
       "    </tr>\n",
       "    <tr>\n",
       "      <th>659555</th>\n",
       "      <td>2014-03-06 08:45:00</td>\n",
       "      <td></td>\n",
       "      <td>N</td>\n",
       "      <td>0</td>\n",
       "    </tr>\n",
       "    <tr>\n",
       "      <th>773125</th>\n",
       "      <td>2017-08-03 09:15:00</td>\n",
       "      <td></td>\n",
       "      <td>N</td>\n",
       "      <td>0</td>\n",
       "    </tr>\n",
       "    <tr>\n",
       "      <th>773126</th>\n",
       "      <td>2017-08-03 09:30:00</td>\n",
       "      <td></td>\n",
       "      <td>N</td>\n",
       "      <td>0</td>\n",
       "    </tr>\n",
       "    <tr>\n",
       "      <th>773127</th>\n",
       "      <td>2017-08-03 09:45:00</td>\n",
       "      <td></td>\n",
       "      <td>N</td>\n",
       "      <td>0</td>\n",
       "    </tr>\n",
       "    <tr>\n",
       "      <th>775901</th>\n",
       "      <td>2017-09-01 07:15:00</td>\n",
       "      <td></td>\n",
       "      <td>N</td>\n",
       "      <td>0</td>\n",
       "    </tr>\n",
       "    <tr>\n",
       "      <th>775902</th>\n",
       "      <td>2017-09-01 07:30:00</td>\n",
       "      <td></td>\n",
       "      <td>N</td>\n",
       "      <td>0</td>\n",
       "    </tr>\n",
       "    <tr>\n",
       "      <th>775903</th>\n",
       "      <td>2017-09-01 07:45:00</td>\n",
       "      <td></td>\n",
       "      <td>N</td>\n",
       "      <td>0</td>\n",
       "    </tr>\n",
       "    <tr>\n",
       "      <th>777232</th>\n",
       "      <td>2017-09-15 04:00:00</td>\n",
       "      <td></td>\n",
       "      <td>N</td>\n",
       "      <td>0</td>\n",
       "    </tr>\n",
       "    <tr>\n",
       "      <th>777234</th>\n",
       "      <td>2017-09-15 04:30:00</td>\n",
       "      <td></td>\n",
       "      <td>N</td>\n",
       "      <td>0</td>\n",
       "    </tr>\n",
       "    <tr>\n",
       "      <th>777235</th>\n",
       "      <td>2017-09-15 04:45:00</td>\n",
       "      <td></td>\n",
       "      <td>N</td>\n",
       "      <td>0</td>\n",
       "    </tr>\n",
       "    <tr>\n",
       "      <th>784644</th>\n",
       "      <td>2017-12-01 09:00:00</td>\n",
       "      <td></td>\n",
       "      <td>N</td>\n",
       "      <td>0</td>\n",
       "    </tr>\n",
       "    <tr>\n",
       "      <th>784660</th>\n",
       "      <td>2017-12-01 13:00:00</td>\n",
       "      <td></td>\n",
       "      <td>N</td>\n",
       "      <td>0</td>\n",
       "    </tr>\n",
       "    <tr>\n",
       "      <th>784661</th>\n",
       "      <td>2017-12-01 13:15:00</td>\n",
       "      <td></td>\n",
       "      <td>N</td>\n",
       "      <td>0</td>\n",
       "    </tr>\n",
       "    <tr>\n",
       "      <th>784662</th>\n",
       "      <td>2017-12-01 13:30:00</td>\n",
       "      <td></td>\n",
       "      <td>N</td>\n",
       "      <td>0</td>\n",
       "    </tr>\n",
       "    <tr>\n",
       "      <th>785234</th>\n",
       "      <td>2017-12-07 12:30:00</td>\n",
       "      <td></td>\n",
       "      <td>N</td>\n",
       "      <td>0</td>\n",
       "    </tr>\n",
       "    <tr>\n",
       "      <th>785235</th>\n",
       "      <td>2017-12-07 12:45:00</td>\n",
       "      <td></td>\n",
       "      <td>N</td>\n",
       "      <td>0</td>\n",
       "    </tr>\n",
       "    <tr>\n",
       "      <th>880856</th>\n",
       "      <td>2020-09-01 14:00:00</td>\n",
       "      <td></td>\n",
       "      <td>N</td>\n",
       "      <td>0</td>\n",
       "    </tr>\n",
       "    <tr>\n",
       "      <th>880857</th>\n",
       "      <td>2020-09-01 14:15:00</td>\n",
       "      <td></td>\n",
       "      <td>N</td>\n",
       "      <td>0</td>\n",
       "    </tr>\n",
       "    <tr>\n",
       "      <th>880859</th>\n",
       "      <td>2020-09-01 14:45:00</td>\n",
       "      <td></td>\n",
       "      <td>N</td>\n",
       "      <td>0</td>\n",
       "    </tr>\n",
       "    <tr>\n",
       "      <th>880944</th>\n",
       "      <td>2020-09-02 12:00:00</td>\n",
       "      <td></td>\n",
       "      <td>N</td>\n",
       "      <td>0</td>\n",
       "    </tr>\n",
       "    <tr>\n",
       "      <th>880945</th>\n",
       "      <td>2020-09-02 12:15:00</td>\n",
       "      <td></td>\n",
       "      <td>N</td>\n",
       "      <td>0</td>\n",
       "    </tr>\n",
       "    <tr>\n",
       "      <th>880946</th>\n",
       "      <td>2020-09-02 12:30:00</td>\n",
       "      <td></td>\n",
       "      <td>N</td>\n",
       "      <td>0</td>\n",
       "    </tr>\n",
       "    <tr>\n",
       "      <th>889696</th>\n",
       "      <td>2020-12-02 16:00:00</td>\n",
       "      <td></td>\n",
       "      <td>N</td>\n",
       "      <td>0</td>\n",
       "    </tr>\n",
       "    <tr>\n",
       "      <th>901008</th>\n",
       "      <td>2021-04-01 12:00:00</td>\n",
       "      <td></td>\n",
       "      <td>N</td>\n",
       "      <td>0</td>\n",
       "    </tr>\n",
       "    <tr>\n",
       "      <th>901009</th>\n",
       "      <td>2021-04-01 12:15:00</td>\n",
       "      <td></td>\n",
       "      <td>N</td>\n",
       "      <td>0</td>\n",
       "    </tr>\n",
       "    <tr>\n",
       "      <th>901296</th>\n",
       "      <td>2021-05-04 12:00:00</td>\n",
       "      <td></td>\n",
       "      <td>N</td>\n",
       "      <td>0</td>\n",
       "    </tr>\n",
       "    <tr>\n",
       "      <th>901298</th>\n",
       "      <td>2021-05-04 12:30:00</td>\n",
       "      <td></td>\n",
       "      <td>N</td>\n",
       "      <td>0</td>\n",
       "    </tr>\n",
       "    <tr>\n",
       "      <th>901299</th>\n",
       "      <td>2021-05-04 12:45:00</td>\n",
       "      <td></td>\n",
       "      <td>N</td>\n",
       "      <td>0</td>\n",
       "    </tr>\n",
       "    <tr>\n",
       "      <th>906950</th>\n",
       "      <td>2021-07-09 09:30:00</td>\n",
       "      <td></td>\n",
       "      <td>N</td>\n",
       "      <td>0</td>\n",
       "    </tr>\n",
       "    <tr>\n",
       "      <th>906951</th>\n",
       "      <td>2021-07-09 09:45:00</td>\n",
       "      <td></td>\n",
       "      <td>N</td>\n",
       "      <td>0</td>\n",
       "    </tr>\n",
       "    <tr>\n",
       "      <th>918197</th>\n",
       "      <td>2021-11-03 13:15:00</td>\n",
       "      <td></td>\n",
       "      <td>N</td>\n",
       "      <td>0</td>\n",
       "    </tr>\n",
       "    <tr>\n",
       "      <th>918198</th>\n",
       "      <td>2021-11-03 13:30:00</td>\n",
       "      <td></td>\n",
       "      <td>N</td>\n",
       "      <td>0</td>\n",
       "    </tr>\n",
       "    <tr>\n",
       "      <th>918199</th>\n",
       "      <td>2021-11-03 13:45:00</td>\n",
       "      <td></td>\n",
       "      <td>N</td>\n",
       "      <td>0</td>\n",
       "    </tr>\n",
       "    <tr>\n",
       "      <th>918280</th>\n",
       "      <td>2021-11-04 10:00:00</td>\n",
       "      <td></td>\n",
       "      <td>N</td>\n",
       "      <td>0</td>\n",
       "    </tr>\n",
       "    <tr>\n",
       "      <th>918282</th>\n",
       "      <td>2021-11-04 10:30:00</td>\n",
       "      <td></td>\n",
       "      <td>N</td>\n",
       "      <td>0</td>\n",
       "    </tr>\n",
       "    <tr>\n",
       "      <th>918283</th>\n",
       "      <td>2021-11-04 10:45:00</td>\n",
       "      <td></td>\n",
       "      <td>N</td>\n",
       "      <td>0</td>\n",
       "    </tr>\n",
       "    <tr>\n",
       "      <th>919644</th>\n",
       "      <td>2021-11-18 15:00:00</td>\n",
       "      <td></td>\n",
       "      <td>N</td>\n",
       "      <td>0</td>\n",
       "    </tr>\n",
       "    <tr>\n",
       "      <th>919645</th>\n",
       "      <td>2021-11-18 15:15:00</td>\n",
       "      <td></td>\n",
       "      <td>N</td>\n",
       "      <td>0</td>\n",
       "    </tr>\n",
       "    <tr>\n",
       "      <th>919646</th>\n",
       "      <td>2021-11-18 15:30:00</td>\n",
       "      <td></td>\n",
       "      <td>N</td>\n",
       "      <td>0</td>\n",
       "    </tr>\n",
       "    <tr>\n",
       "      <th>935448</th>\n",
       "      <td>2022-05-02 06:00:00</td>\n",
       "      <td></td>\n",
       "      <td>N</td>\n",
       "      <td>0</td>\n",
       "    </tr>\n",
       "    <tr>\n",
       "      <th>935449</th>\n",
       "      <td>2022-05-02 06:15:00</td>\n",
       "      <td></td>\n",
       "      <td>N</td>\n",
       "      <td>0</td>\n",
       "    </tr>\n",
       "    <tr>\n",
       "      <th>935557</th>\n",
       "      <td>2022-06-04 09:15:00</td>\n",
       "      <td></td>\n",
       "      <td>N</td>\n",
       "      <td>0</td>\n",
       "    </tr>\n",
       "    <tr>\n",
       "      <th>935558</th>\n",
       "      <td>2022-06-04 09:30:00</td>\n",
       "      <td></td>\n",
       "      <td>N</td>\n",
       "      <td>0</td>\n",
       "    </tr>\n",
       "    <tr>\n",
       "      <th>935559</th>\n",
       "      <td>2022-06-04 09:45:00</td>\n",
       "      <td></td>\n",
       "      <td>N</td>\n",
       "      <td>0</td>\n",
       "    </tr>\n",
       "    <tr>\n",
       "      <th>1025996</th>\n",
       "      <td>2025-01-01 11:00:00</td>\n",
       "      <td></td>\n",
       "      <td>N</td>\n",
       "      <td>0</td>\n",
       "    </tr>\n",
       "    <tr>\n",
       "      <th>1025998</th>\n",
       "      <td>2025-01-01 11:30:00</td>\n",
       "      <td></td>\n",
       "      <td>N</td>\n",
       "      <td>0</td>\n",
       "    </tr>\n",
       "    <tr>\n",
       "      <th>1025999</th>\n",
       "      <td>2025-01-01 11:45:00</td>\n",
       "      <td></td>\n",
       "      <td>N</td>\n",
       "      <td>0</td>\n",
       "    </tr>\n",
       "    <tr>\n",
       "      <th>1033384</th>\n",
       "      <td>2025-04-01 10:00:00</td>\n",
       "      <td></td>\n",
       "      <td>N</td>\n",
       "      <td>0</td>\n",
       "    </tr>\n",
       "  </tbody>\n",
       "</table>\n",
       "</div>"
      ],
      "text/plain": [
       "                       date measurement_flag quality_flag height\n",
       "659472  2014-02-14 12:00:00                             N      0\n",
       "659554  2014-03-06 08:30:00                             N      0\n",
       "659555  2014-03-06 08:45:00                             N      0\n",
       "773125  2017-08-03 09:15:00                             N      0\n",
       "773126  2017-08-03 09:30:00                             N      0\n",
       "773127  2017-08-03 09:45:00                             N      0\n",
       "775901  2017-09-01 07:15:00                             N      0\n",
       "775902  2017-09-01 07:30:00                             N      0\n",
       "775903  2017-09-01 07:45:00                             N      0\n",
       "777232  2017-09-15 04:00:00                             N      0\n",
       "777234  2017-09-15 04:30:00                             N      0\n",
       "777235  2017-09-15 04:45:00                             N      0\n",
       "784644  2017-12-01 09:00:00                             N      0\n",
       "784660  2017-12-01 13:00:00                             N      0\n",
       "784661  2017-12-01 13:15:00                             N      0\n",
       "784662  2017-12-01 13:30:00                             N      0\n",
       "785234  2017-12-07 12:30:00                             N      0\n",
       "785235  2017-12-07 12:45:00                             N      0\n",
       "880856  2020-09-01 14:00:00                             N      0\n",
       "880857  2020-09-01 14:15:00                             N      0\n",
       "880859  2020-09-01 14:45:00                             N      0\n",
       "880944  2020-09-02 12:00:00                             N      0\n",
       "880945  2020-09-02 12:15:00                             N      0\n",
       "880946  2020-09-02 12:30:00                             N      0\n",
       "889696  2020-12-02 16:00:00                             N      0\n",
       "901008  2021-04-01 12:00:00                             N      0\n",
       "901009  2021-04-01 12:15:00                             N      0\n",
       "901296  2021-05-04 12:00:00                             N      0\n",
       "901298  2021-05-04 12:30:00                             N      0\n",
       "901299  2021-05-04 12:45:00                             N      0\n",
       "906950  2021-07-09 09:30:00                             N      0\n",
       "906951  2021-07-09 09:45:00                             N      0\n",
       "918197  2021-11-03 13:15:00                             N      0\n",
       "918198  2021-11-03 13:30:00                             N      0\n",
       "918199  2021-11-03 13:45:00                             N      0\n",
       "918280  2021-11-04 10:00:00                             N      0\n",
       "918282  2021-11-04 10:30:00                             N      0\n",
       "918283  2021-11-04 10:45:00                             N      0\n",
       "919644  2021-11-18 15:00:00                             N      0\n",
       "919645  2021-11-18 15:15:00                             N      0\n",
       "919646  2021-11-18 15:30:00                             N      0\n",
       "935448  2022-05-02 06:00:00                             N      0\n",
       "935449  2022-05-02 06:15:00                             N      0\n",
       "935557  2022-06-04 09:15:00                             N      0\n",
       "935558  2022-06-04 09:30:00                             N      0\n",
       "935559  2022-06-04 09:45:00                             N      0\n",
       "1025996 2025-01-01 11:00:00                             N      0\n",
       "1025998 2025-01-01 11:30:00                             N      0\n",
       "1025999 2025-01-01 11:45:00                             N      0\n",
       "1033384 2025-04-01 10:00:00                             N      0"
      ]
     },
     "execution_count": 106,
     "metadata": {},
     "output_type": "execute_result"
    }
   ],
   "source": [
    "df_final[df_final['quality_flag']=='N']"
   ]
  },
  {
   "cell_type": "markdown",
   "id": "c81c5e7f",
   "metadata": {},
   "source": [
    "**Negative precipitation check**\n",
    "\n",
    "The quality flag \"N\" indicates that negative precipitation check failed. Therefore, for those measurement, NA will be attributed for the height value."
   ]
  },
  {
   "cell_type": "code",
   "execution_count": 107,
   "id": "4876481e",
   "metadata": {},
   "outputs": [],
   "source": [
    "# Replace failed to check negative precipitation with NA\n",
    "df_final['quality_flag'] = df_final['quality_flag'].replace('N', pd.NA)"
   ]
  },
  {
   "cell_type": "code",
   "execution_count": 110,
   "id": "2edfbbf7",
   "metadata": {},
   "outputs": [
    {
     "data": {
      "application/vnd.microsoft.datawrangler.viewer.v0+json": {
       "columns": [
        {
         "name": "index",
         "rawType": "object",
         "type": "string"
        },
        {
         "name": "date",
         "rawType": "object",
         "type": "unknown"
        }
       ],
       "conversionMethod": "pd.DataFrame",
       "ref": "cd7565b2-5334-4529-b81b-a39ac6655420",
       "rows": [
        [
         "count",
         "378240"
        ],
        [
         "mean",
         "2019-09-04 18:34:09.898476288"
        ],
        [
         "min",
         "2014-01-01 00:00:00"
        ],
        [
         "25%",
         "2016-12-01 23:56:15"
        ],
        [
         "50%",
         "2019-08-17 23:52:30"
        ],
        [
         "75%",
         "2022-07-08 23:48:45"
        ],
        [
         "max",
         "2025-04-01 23:45:00"
        ]
       ],
       "shape": {
        "columns": 1,
        "rows": 7
       }
      },
      "text/html": [
       "<div>\n",
       "<style scoped>\n",
       "    .dataframe tbody tr th:only-of-type {\n",
       "        vertical-align: middle;\n",
       "    }\n",
       "\n",
       "    .dataframe tbody tr th {\n",
       "        vertical-align: top;\n",
       "    }\n",
       "\n",
       "    .dataframe thead th {\n",
       "        text-align: right;\n",
       "    }\n",
       "</style>\n",
       "<table border=\"1\" class=\"dataframe\">\n",
       "  <thead>\n",
       "    <tr style=\"text-align: right;\">\n",
       "      <th></th>\n",
       "      <th>date</th>\n",
       "    </tr>\n",
       "  </thead>\n",
       "  <tbody>\n",
       "    <tr>\n",
       "      <th>count</th>\n",
       "      <td>378240</td>\n",
       "    </tr>\n",
       "    <tr>\n",
       "      <th>mean</th>\n",
       "      <td>2019-09-04 18:34:09.898476288</td>\n",
       "    </tr>\n",
       "    <tr>\n",
       "      <th>min</th>\n",
       "      <td>2014-01-01 00:00:00</td>\n",
       "    </tr>\n",
       "    <tr>\n",
       "      <th>25%</th>\n",
       "      <td>2016-12-01 23:56:15</td>\n",
       "    </tr>\n",
       "    <tr>\n",
       "      <th>50%</th>\n",
       "      <td>2019-08-17 23:52:30</td>\n",
       "    </tr>\n",
       "    <tr>\n",
       "      <th>75%</th>\n",
       "      <td>2022-07-08 23:48:45</td>\n",
       "    </tr>\n",
       "    <tr>\n",
       "      <th>max</th>\n",
       "      <td>2025-04-01 23:45:00</td>\n",
       "    </tr>\n",
       "  </tbody>\n",
       "</table>\n",
       "</div>"
      ],
      "text/plain": [
       "                                date\n",
       "count                         378240\n",
       "mean   2019-09-04 18:34:09.898476288\n",
       "min              2014-01-01 00:00:00\n",
       "25%              2016-12-01 23:56:15\n",
       "50%              2019-08-17 23:52:30\n",
       "75%              2022-07-08 23:48:45\n",
       "max              2025-04-01 23:45:00"
      ]
     },
     "execution_count": 110,
     "metadata": {},
     "output_type": "execute_result"
    }
   ],
   "source": [
    "df_final.describe()"
   ]
  },
  {
   "cell_type": "markdown",
   "id": "bf72dee8",
   "metadata": {},
   "source": [
    "**Check if there are missing interval**"
   ]
  },
  {
   "cell_type": "code",
   "execution_count": null,
   "id": "4811d135",
   "metadata": {},
   "outputs": [],
   "source": [
    "def count_15min_intervals(date_min, date_max):\n",
    "    if isinstance(date_min, str):\n",
    "        date_min = datetime.strptime(date_min, '%Y%m%d %H:%M:%S')\n",
    "    if isinstance(date_max, str):\n",
    "        date_max = datetime.strptime(date_max, '%Y%m%d %H:%M:%S')\n",
    "    delta = date_max - date_min\n",
    "    total_minutes = delta.total_seconds() / 60\n",
    "    return int(total_minutes // 15) + 1"
   ]
  },
  {
   "cell_type": "code",
   "execution_count": 121,
   "id": "d2c27d88",
   "metadata": {},
   "outputs": [
    {
     "name": "stdout",
     "output_type": "stream",
     "text": [
      "Missing 15 minute intervals: 16224\n"
     ]
    }
   ],
   "source": [
    "missing_interval = count_15min_intervals(df_final['date'].min(), df_final['date'].max()) - df_final.shape[0]\n",
    "print(f'Missing 15 minute intervals: {missing_interval}')"
   ]
  },
  {
   "cell_type": "markdown",
   "id": "573a4b3e",
   "metadata": {},
   "source": [
    "For this data example, there are over **16224** of missing interval. That's about half an year. Further  investigation will be perfomed to check the possiblity of zero precipitation data have been ommitted to save space. "
   ]
  },
  {
   "cell_type": "code",
   "execution_count": null,
   "id": "5ba4f0a3",
   "metadata": {},
   "outputs": [],
   "source": [
    "# Define function to generate 15 minute sequence\n",
    "def generate_15min_sequence(date_min, date_max):\n",
    "    if isinstance(date_min, str):\n",
    "        date_min = datetime.strptime(date_min, '%Y%m%d %H:%M:%S')\n",
    "    if isinstance(date_max, str):\n",
    "        date_max = datetime.strptime(date_max, '%Y%m%d %H:%M:%S')\n",
    "    \n",
    "    return pd.date_range(start=date_min, end=date_max, freq='15min')\n"
   ]
  },
  {
   "cell_type": "code",
   "execution_count": 144,
   "id": "823c5194",
   "metadata": {},
   "outputs": [
    {
     "name": "stdout",
     "output_type": "stream",
     "text": [
      "Number of missing values by year:\n",
      "year\n",
      "2014    7584\n",
      "2015       0\n",
      "2016     192\n",
      "2017      96\n",
      "2018       0\n",
      "2019     288\n",
      "2020     192\n",
      "2021    3552\n",
      "2022    3072\n",
      "2023       0\n",
      "2024       0\n",
      "2025    1248\n",
      "Name: date, dtype: int64\n"
     ]
    }
   ],
   "source": [
    "time_seq = generate_15min_sequence(df_final['date'].min(), df_final['date'].max())\n",
    "filled_seq = pd.DataFrame({'seq':time_seq}).merge(\n",
    "    df_final,\n",
    "    how='left',\n",
    "    left_on='seq',\n",
    "    right_on='date'\n",
    ")\n",
    "\n",
    "filled_seq['year'] = filled_seq['seq'].dt.year\n",
    "missing_by_year = filled_seq.groupby('year')['date'].apply(lambda x: x.isna().sum())\n",
    "print('Number of missing values by year:')\n",
    "print(missing_by_year)"
   ]
  },
  {
   "cell_type": "code",
   "execution_count": 148,
   "id": "5cca7806",
   "metadata": {},
   "outputs": [
    {
     "name": "stdout",
     "output_type": "stream",
     "text": [
      "Count of zero height values: year\n",
      "2014    26060\n",
      "2015    33347\n",
      "2016    33422\n",
      "2017    33320\n",
      "2018    32875\n",
      "2019    33173\n",
      "2020    33031\n",
      "2021    30217\n",
      "2022    30505\n",
      "2023    33742\n",
      "2024    33734\n",
      "2025     7096\n",
      "Name: height, dtype: int64\n"
     ]
    }
   ],
   "source": [
    "count_zeros_height_by_year = df_final.assign(year= df_final['date'].dt.year).groupby('year')['height'].apply(lambda x: sum(x==0))\n",
    "print(f'Count of zero height values: {count_zeros_height_by_year}')"
   ]
  },
  {
   "cell_type": "markdown",
   "id": "140bffa8",
   "metadata": {},
   "source": [
    "If the missing values, consistently was after an specific year, and zeros for data was missing for specific year, than it was possible zeros was ommitted from data. However, that's not what is shown above. There, the procedure is to fill those missing dates with NA for height values."
   ]
  },
  {
   "cell_type": "code",
   "execution_count": 141,
   "id": "cadec0f2",
   "metadata": {},
   "outputs": [
    {
     "data": {
      "text/plain": [
       "586"
      ]
     },
     "execution_count": 141,
     "metadata": {},
     "output_type": "execute_result"
    }
   ],
   "source": [
    "path = project_root / 'data/bronze/tabular/streamflow'\n",
    "len(list(path.glob('*.parquet')))"
   ]
  },
  {
   "cell_type": "code",
   "execution_count": null,
   "id": "a3e2e709",
   "metadata": {},
   "outputs": [],
   "source": []
  },
  {
   "cell_type": "code",
   "execution_count": 118,
   "id": "b4b7b586",
   "metadata": {},
   "outputs": [
    {
     "data": {
      "text/plain": [
       "(378240, 4)"
      ]
     },
     "execution_count": 118,
     "metadata": {},
     "output_type": "execute_result"
    }
   ],
   "source": [
    "df_final.shape"
   ]
  },
  {
   "cell_type": "code",
   "execution_count": null,
   "id": "930d21a8",
   "metadata": {},
   "outputs": [],
   "source": []
  }
 ],
 "metadata": {
  "kernelspec": {
   "display_name": "venv",
   "language": "python",
   "name": "python3"
  },
  "language_info": {
   "codemirror_mode": {
    "name": "ipython",
    "version": 3
   },
   "file_extension": ".py",
   "mimetype": "text/x-python",
   "name": "python",
   "nbconvert_exporter": "python",
   "pygments_lexer": "ipython3",
   "version": "3.12.4"
  }
 },
 "nbformat": 4,
 "nbformat_minor": 5
}
