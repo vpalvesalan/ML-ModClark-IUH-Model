{
 "cells": [
  {
   "cell_type": "markdown",
   "metadata": {},
   "source": [
    "# Digital Elevation Model (DEM) Tile Preprocessing\n",
    "\n",
    "This Jupyter Notebook is dedicated to the initial, essential preprocessing steps required for the 1 arc-second resolution Digital Elevation Model (DEM) tiles covering the Ohio Region study area - 104 in total. Given the computational intensity associated with processing numerous high-resolution raster tiles, a strategy leveraging Virtual Raster Tiles (VRTs) will be employed instead of physically merging the tiles into a single large raster dataset. This approach allows for efficient handling of the data volume by treating the collection of tiles as a single virtual dataset without creating a massive intermediate file.\n",
    "\n",
    "The preprocessing workflow in this notebook focuses on preparing the DEM data for subsequent watershed delineation, a process that is inherently agnostic to projection at this stage. Therefore, reprojection to a specific projected coordinate system like UTM will not be performed on the raw or preprocessed tiles. Instead, projection will be applied later to the delineated watershed boundaries and derived vector features.\n",
    "\n",
    "The specific steps undertaken in this notebook are:\n",
    "\n",
    "1.  **Verification of Coordinate Reference System (CRS):** Ensuring that all individual 1 arc-second DEM tiles are consistently referenced to the NAD83 datum (EPSG:4269), which is the native CRS for this dataset.\n",
    "2.  **Filling Pits and Depressions:** Applying algorithms to identify and fill sinks and depressions within each individual DEM tile. Sinks (or pits) are local topographic lows surrounded by higher elevation values, where water flow would terminate in a standard flow direction calculation. Filling these depressions creates a hydrologically connected surface by raising the elevation of sink cells to the level of their lowest spill point. This step is critical for accurately determining continuous flow paths across the terrain, which is a necessary prerequisite for deriving flow direction and accumulation grids used in automated watershed delineation.\n",
    "3.  **Creation of Virtual Raster Tiles (VRTs):** Constructing VRT files that virtually mosaic the preprocessed (sink-filled) individual DEM tiles. These VRTs will serve as the input for subsequent terrain analysis steps, allowing seamless access to the data across tile boundaries without the need for physical mosaicking.\n",
    "\n",
    "The output of this notebook will be a collection of sink-filled DEM tiles, organized into VRTs, ready for flow direction and accumulation calculations leading to watershed delineation."
   ]
  },
  {
   "cell_type": "code",
   "execution_count": null,
   "metadata": {},
   "outputs": [],
   "source": [
    "# Import libraries\n",
    "import rasterio\n",
    "import richdem as rd\n",
    "import glob\n",
    "import os\n",
    "import numpy as np\n",
    "from tqdm.notebook import tqdm\n",
    "from subprocess import call\n",
    "\n",
    "# Set paths\n",
    "dem_dir = './dem_tiles'\n",
    "filled_dir = './dem_filled_tiles'\n",
    "os.makedirs(filled_dir, exist_ok=True)\n",
    "original_vrt = 'ohio_dem.vrt'\n",
    "filled_vrt = 'ohio_dem_filled.vrt'"
   ]
  },
  {
   "cell_type": "markdown",
   "metadata": {},
   "source": [
    "## Step 1: Verify NAD83 CRS\n",
    "\n",
    "Check the CRS of each DEM tile to ensure it’s NAD83 (expected: EPSG:4269 for geographic or EPSG:26916/26917 for UTM). Report any tiles with a different CRS for manual inspection."
   ]
  },
  {
   "cell_type": "code",
   "execution_count": null,
   "metadata": {},
   "outputs": [],
   "source": [
    "# Get list of DEM files\n",
    "dem_files = glob.glob(f\"{dem_dir}/*.tif\")\n",
    "print(f\"Found {len(dem_files)} DEM files.\")\n",
    "\n",
    "# Expected NAD83 CRS codes\n",
    "nad83_crs = ['EPSG:4269', 'EPSG:26916', 'EPSG:26917']\n",
    "\n",
    "# Check CRS for each tile\n",
    "mismatched_tiles = []\n",
    "for dem_file in tqdm(dem_files, desc=\"Checking CRS\"):\n",
    "    with rasterio.open(dem_file) as src:\n",
    "        crs = str(src.crs).upper()\n",
    "        if crs not in nad83_crs:\n",
    "            mismatched_tiles.append((dem_file, crs))\n",
    "\n",
    "# Report results\n",
    "if mismatched_tiles:\n",
    "    print(\"\\nTiles with non-NAD83 CRS:\")\n",
    "    for tile, crs in mismatched_tiles:\n",
    "        print(f\"{tile}: {crs}\")\n",
    "    print(\"Please reproject these tiles to NAD83 (e.g., EPSG:4269) using gdalwarp:\")\n",
    "    print(\"Example: gdalwarp -t_srs EPSG:4269 input.tif output.tif\")\n",
    "else:\n",
    "    print(\"\\nAll tiles are in NAD83 (EPSG:4269, 26916, or 26917).\")"
   ]
  },
  {
   "cell_type": "markdown",
   "metadata": {},
   "source": [
    "## Step 2: Create VRT for Original DEMs\n",
    "\n",
    "Create a Virtual Raster Tile (VRT) to reference all 104 DEM tiles as a single dataset, avoiding memory-intensive merging."
   ]
  },
  {
   "cell_type": "code",
   "execution_count": null,
   "metadata": {},
   "outputs": [],
   "source": [
    "# Create VRT for original DEMs\n",
    "print(\"Creating VRT for original DEMs...\")\n",
    "call(['gdalbuildvrt', original_vrt, f\"{dem_dir}/*.tif\"])\n",
    "if os.path.exists(original_vrt):\n",
    "    print(f\"VRT created: {original_vrt}\")\n",
    "else:\n",
    "    print(\"Error: VRT creation failed.\")"
   ]
  },
  {
   "cell_type": "markdown",
   "metadata": {},
   "source": [
    "## Step 3: Fill Sinks (Pits and Depressions)\n",
    "\n",
    "Process each DEM tile individually to fill pits and depressions using `richdem`. This ensures a hydrologically conditioned DEM for watershed delineation. Outputs are saved with LZW compression to reduce disk usage."
   ]
  },
  {
   "cell_type": "code",
   "execution_count": null,
   "metadata": {},
   "outputs": [],
   "source": [
    "# Fill depressions tile-by-tile\n",
    "for dem_file in tqdm(dem_files, desc=\"Filling depressions\"):\n",
    "    # Load DEM\n",
    "    dem = rd.LoadGDAL(dem_file)\n",
    "    \n",
    "    # Fill depressions\n",
    "    rd.FillDepressions(dem, in_place=True)\n",
    "    \n",
    "    # Save filled DEM with LZW compression\n",
    "    output_file = os.path.join(filled_dir, os.path.basename(dem_file))\n",
    "    rd.SaveGDAL(output_file, dem, creation_options=['COMPRESS=LZW'])\n",
    "\n",
    "print(f\"Filled DEMs saved to: {filled_dir}\")"
   ]
  },
  {
   "cell_type": "markdown",
   "metadata": {},
   "source": [
    "## Step 4: Verify Filled DEMs\n",
    "\n",
    "Check a sample filled DEM to ensure no depressions remain."
   ]
  },
  {
   "cell_type": "code",
   "execution_count": null,
   "metadata": {},
   "outputs": [],
   "source": [
    "# Verify one filled DEM\n",
    "filled_files = glob.glob(f\"{filled_dir}/*.tif\")\n",
    "if filled_files:\n",
    "    sample_file = filled_files[0]\n",
    "    dem = rd.LoadGDAL(sample_file)\n",
    "    depressions = rd.IdentifyDepressions(dem)\n",
    "    if not depressions.any():\n",
    "        print(f\"Verification passed: No depressions in {sample_file}\")\n",
    "    else:\n",
    "        print(f\"Warning: Depressions remain in {sample_file}\")\n",
    "else:\n",
    "    print(\"Error: No filled DEMs found.\")"
   ]
  },
  {
   "cell_type": "markdown",
   "metadata": {},
   "source": [
    "## Step 5: Create VRT for Filled DEMs\n",
    "\n",
    "Create a VRT for the filled DEMs, which will be used for watershed delineation in the next notebook."
   ]
  },
  {
   "cell_type": "code",
   "execution_count": null,
   "metadata": {},
   "outputs": [],
   "source": [
    "# Create VRT for filled DEMs\n",
    "print(\"Creating VRT for filled DEMs...\")\n",
    "call(['gdalbuildvrt', filled_vrt, f\"{filled_dir}/*.tif\"])\n",
    "if os.path.exists(filled_vrt):\n",
    "    print(f\"VRT created: {filled_vrt}\")\n",
    "    print(\"Ready for watershed delineation in the next notebook.\")\n",
    "else:\n",
    "    print(\"Error: VRT creation failed.\")"
   ]
  },
  {
   "cell_type": "markdown",
   "metadata": {},
   "source": [
    "## Notes\n",
    "- **Memory Usage**: Tile-by-tile processing keeps memory usage low, suitable for 8 GB RAM.\n",
    "- **Disk Space**: Ensure 15 GB free for input (5.57 GB) and output files (~5–7 GB).\n",
    "- **Next Steps**: Use `ohio_dem_filled.vrt` in the next notebook for flow direction and watershed delineation.\n",
    "- **Troubleshooting**: If memory errors occur, reduce `richdem`’s memory footprint by processing smaller tiles or using TauDEM (`PitRemove`).\n",
    "\n",
    "Save this notebook and proceed to the watershed delineation notebook."
   ]
  }
 ],
 "metadata": {
  "kernelspec": {
   "display_name": "Python 3",
   "language": "python",
   "name": "python3"
  },
  "language_info": {
   "codemirror_mode": {
    "name": "ipython",
    "version": 3
   },
   "file_extension": ".py",
   "mimetype": "text/x-python",
   "name": "python",
   "nbconvert_exporter": "python",
   "pygments_lexer": "ipython3",
   "version": "3.9.0"
  }
 },
 "nbformat": 4,
 "nbformat_minor": 4
}
