{
 "cells": [
  {
   "cell_type": "markdown",
   "id": "2fa0615c",
   "metadata": {},
   "source": [
    "# Optmized parameters exploratory analysis\n",
    "\n",
    "This notebook will contain the exploratory analysis of opmized parameters. "
   ]
  },
  {
   "cell_type": "markdown",
   "id": "fc125ff2",
   "metadata": {},
   "source": []
  }
 ],
 "metadata": {
  "language_info": {
   "name": "python"
  }
 },
 "nbformat": 4,
 "nbformat_minor": 5
}
