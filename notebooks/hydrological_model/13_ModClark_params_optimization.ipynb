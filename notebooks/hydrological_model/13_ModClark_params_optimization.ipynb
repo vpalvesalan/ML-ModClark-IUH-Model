{
 "cells": [
  {
   "cell_type": "markdown",
   "id": "f473f436",
   "metadata": {},
   "source": [
    "# ModClark Parameters Optmization\n",
    "\n",
    "This notebook will contain process for optmizing ModClark IUH parameters $T_c$ and $R$"
   ]
  }
 ],
 "metadata": {
  "language_info": {
   "name": "python"
  }
 },
 "nbformat": 4,
 "nbformat_minor": 5
}
