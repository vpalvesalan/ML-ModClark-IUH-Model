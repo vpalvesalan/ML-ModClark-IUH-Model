{
 "cells": [
  {
   "cell_type": "markdown",
   "id": "a0380085",
   "metadata": {},
   "source": [
    "# Storm event selection\n",
    "\n",
    "This notebook will contain the logic of selection storm events."
   ]
  }
 ],
 "metadata": {
  "language_info": {
   "name": "python"
  }
 },
 "nbformat": 4,
 "nbformat_minor": 5
}
